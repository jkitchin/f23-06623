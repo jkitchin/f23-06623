{
 "cells": [
  {
   "cell_type": "markdown",
   "metadata": {},
   "source": [
    "[TOC](../toc.ipynb)"
   ]
  },
  {
   "cell_type": "markdown",
   "metadata": {
    "id": "d9LyI0hh7xGE"
   },
   "source": [
    "Integration in Python\n",
    "====================="
   ]
  },
  {
   "cell_type": "markdown",
   "metadata": {
    "id": "FrQwnOI5Gfzb"
   },
   "source": [
    "- KEYWORDS: integration, trapz, cumtrapz, quad\n"
   ]
  },
  {
   "cell_type": "markdown",
   "metadata": {
    "id": "tN5--O_MGfze"
   },
   "source": [
    "Integration is used for many purposes in scientific problem solving. It can:\n",
    "\n",
    "1.  Represent the area under a curve or between curves\n",
    "2.  Solve differential equations\n",
    "\n",
    "We may have data that represents a function that needs to be integrated, or a function we want to integrate, or a differential equation we want to solve. We may also have data that represents some function, and that we wish to integrate.\n",
    "\n",
    "Historically, we would have to look up or remember the formula for an integral, e.g. in a book like the 16<sup>th</sup> ed. CRC Standard Mathematical Tables, or tabulated in a page like [http://integral-table.com/downloads/single-page-integral-table.pdf](http://integral-table.com/downloads/single-page-integral-table.pdf)\n",
    "\n",
    "![image.png](integral-table.png)\n",
    "\n",
    "There are a limited number of known analytical integrals, and for everything else, we have to resort to numerical/computational approaches to evaluate them."
   ]
  },
  {
   "cell_type": "markdown",
   "metadata": {
    "id": "_H4MOv94Gfzg"
   },
   "source": [
    "# Numerical integration of data\n",
    "\n"
   ]
  },
  {
   "cell_type": "markdown",
   "metadata": {
    "id": "c_hLNaZXGfzh"
   },
   "source": [
    "Data can be used to represent functions. Suppose we have the function $y=x^2$, and 5 $x$ values evenly spaced from 1 to 4. We can represent this function numerically with data like this.\n",
    "\n",
    "```{note}\n",
    "By data, we mean a smallish set of (x, y) points, for example. This is different than having a function which is continuous, and where you compute y-values from x-values.\n",
    "```"
   ]
  },
  {
   "cell_type": "code",
   "execution_count": 1,
   "metadata": {
    "colab": {
     "base_uri": "https://localhost:8080/",
     "height": 279
    },
    "executionInfo": {
     "elapsed": 319,
     "status": "ok",
     "timestamp": 1631016436058,
     "user": {
      "displayName": "John Kitchin",
      "photoUrl": "",
      "userId": "14782011281593705406"
     },
     "user_tz": 240
    },
    "id": "ksLWLgqZGfzj",
    "outputId": "01626905-1a62-4f64-ff5a-8100e02e4382"
   },
   "outputs": [
    {
     "data": {
      "image/png": "[encoded data removed]",
      "text/plain": [
       "<Figure size 432x288 with 1 Axes>"
      ]
     },
     "metadata": {
      "needs_background": "light"
     },
     "output_type": "display_data"
    }
   ],
   "source": [
    "import numpy as np\n",
    "\n",
    "x = np.linspace(1, 4, 5)\n",
    "y = x**2\n",
    "\n",
    "import matplotlib.pyplot as plt\n",
    "\n",
    "plt.plot(x, y, \"bo--\")  # plot with blue circles connected by a dashed line\n",
    "plt.xlabel(\"x\")\n",
    "plt.ylabel(\"y\");"
   ]
  },
  {
   "cell_type": "markdown",
   "metadata": {
    "id": "gO6lwGpCGfzv"
   },
   "source": [
    "If we want the area under this curve, it is represented by:\n",
    "\n",
    "$A = \\int_1^4 x^2 dx$\n",
    "\n",
    "We could analytically evaluate this as:\n",
    "\n",
    "$A = \\frac{1}{3} (4^3 - 1^3)$.\n",
    "\n",
    "Here is the analytical answer for future reference:\n",
    "\n"
   ]
  },
  {
   "cell_type": "code",
   "execution_count": 2,
   "metadata": {
    "colab": {
     "base_uri": "https://localhost:8080/"
    },
    "executionInfo": {
     "elapsed": 143,
     "status": "ok",
     "timestamp": 1631016541573,
     "user": {
      "displayName": "John Kitchin",
      "photoUrl": "",
      "userId": "14782011281593705406"
     },
     "user_tz": 240
    },
    "id": "Rv6uHbq0Gfzw",
    "outputId": "2fb004e0-7c22-467f-e933-64226d4eb1cf"
   },
   "outputs": [
    {
     "data": {
      "text/plain": [
       "21.0"
      ]
     },
     "execution_count": 2,
     "metadata": {},
     "output_type": "execute_result"
    }
   ],
   "source": [
    "1 / 3 * (4**3 - 1**3)"
   ]
  },
  {
   "cell_type": "markdown",
   "metadata": {
    "id": "LmDg_GYhGfz3"
   },
   "source": [
    "It will not always be the case that we can evaluate the integrals analytically, and sometimes we just have the data, and not the analytical function it represents (e.g. if you have measured the data).\n",
    "\n",
    "The classical way to compute the area under this curve is to use the trapezoid method. We know the area of a trapezoid is $A = 0.5 * width * (y_1 + y_2)$. In this example, we have four trapezoids to compute the areas of.\n",
    "\n",
    "To make this easier to compute, we need a few new ideas. First, it would be convenient to know how many elements are in the array `x`."
   ]
  },
  {
   "cell_type": "code",
   "execution_count": 3,
   "metadata": {
    "colab": {
     "base_uri": "https://localhost:8080/"
    },
    "executionInfo": {
     "elapsed": 131,
     "status": "ok",
     "timestamp": 1631016698081,
     "user": {
      "displayName": "John Kitchin",
      "photoUrl": "",
      "userId": "14782011281593705406"
     },
     "user_tz": 240
    },
    "id": "LnK6yyS7K7Wd",
    "outputId": "68cadfa5-6689-4e5b-dcfe-d99b375dc004"
   },
   "outputs": [
    {
     "data": {
      "text/plain": [
       "(array([1.  , 1.75, 2.5 , 3.25, 4.  ]),\n",
       " array([ 1.    ,  3.0625,  6.25  , 10.5625, 16.    ]))"
      ]
     },
     "execution_count": 3,
     "metadata": {},
     "output_type": "execute_result"
    }
   ],
   "source": [
    "x, y"
   ]
  },
  {
   "cell_type": "code",
   "execution_count": 4,
   "metadata": {
    "colab": {
     "base_uri": "https://localhost:8080/"
    },
    "executionInfo": {
     "elapsed": 172,
     "status": "ok",
     "timestamp": 1631016726673,
     "user": {
      "displayName": "John Kitchin",
      "photoUrl": "",
      "userId": "14782011281593705406"
     },
     "user_tz": 240
    },
    "id": "MCPWV3reGfz5",
    "outputId": "4fae648d-e7e5-4a4b-90ce-87c97b639be4"
   },
   "outputs": [
    {
     "data": {
      "text/plain": [
       "5"
      ]
     },
     "execution_count": 4,
     "metadata": {},
     "output_type": "execute_result"
    }
   ],
   "source": [
    "len(x)"
   ]
  },
  {
   "cell_type": "code",
   "execution_count": 5,
   "metadata": {
    "colab": {
     "base_uri": "https://localhost:8080/"
    },
    "executionInfo": {
     "elapsed": 162,
     "status": "ok",
     "timestamp": 1631016730572,
     "user": {
      "displayName": "John Kitchin",
      "photoUrl": "",
      "userId": "14782011281593705406"
     },
     "user_tz": 240
    },
    "id": "4RVx8Q91obn7",
    "outputId": "16501f7e-274c-45ae-a00b-8d206d4aa73c"
   },
   "outputs": [
    {
     "data": {
      "text/plain": [
       "(array([ 1.    ,  3.0625,  6.25  , 10.5625, 16.    ]), 5)"
      ]
     },
     "execution_count": 5,
     "metadata": {},
     "output_type": "execute_result"
    }
   ],
   "source": [
    "y, len(y)"
   ]
  },
  {
   "cell_type": "markdown",
   "metadata": {
    "id": "RzEKQdMvGf0A"
   },
   "source": [
    "Second, we need to know how to compute the area of a trapezoid defined by the points in `x` and `y`. The area of the first trapezoid is defined by:\n",
    "\n"
   ]
  },
  {
   "cell_type": "code",
   "execution_count": 6,
   "metadata": {
    "colab": {
     "base_uri": "https://localhost:8080/"
    },
    "executionInfo": {
     "elapsed": 114,
     "status": "ok",
     "timestamp": 1631016795133,
     "user": {
      "displayName": "John Kitchin",
      "photoUrl": "",
      "userId": "14782011281593705406"
     },
     "user_tz": 240
    },
    "id": "sq32vMhcGf0B",
    "outputId": "cbda820b-c6dd-494a-b99f-c82b5a1d5a2d"
   },
   "outputs": [
    {
     "data": {
      "text/plain": [
       "1.5234375"
      ]
     },
     "execution_count": 6,
     "metadata": {},
     "output_type": "execute_result"
    }
   ],
   "source": [
    "0.5 * (y[0] + y[1]) * (x[1] - x[0])  # this is just the first trapezoid"
   ]
  },
  {
   "cell_type": "markdown",
   "metadata": {
    "id": "ALT_rZ4PGf0I"
   },
   "source": [
    "What we would like to do is to loop over each trapezoid, compute the area, and accumulate it in a variable. Here is how we use a `for` loop to iterate from a value starting at 1 to the length of the array `x`. Note that although the length is 5, the last value of `i` is 4. The loop goes up to, but not including the last value of the range."
   ]
  },
  {
   "cell_type": "code",
   "execution_count": 7,
   "metadata": {
    "id": "vXt9Cyd6MNyF"
   },
   "outputs": [
    {
     "data": {
      "text/plain": [
       "\u001b[0;31mInit signature:\u001b[0m \u001b[0mrange\u001b[0m\u001b[0;34m(\u001b[0m\u001b[0mself\u001b[0m\u001b[0;34m,\u001b[0m \u001b[0;34m/\u001b[0m\u001b[0;34m,\u001b[0m \u001b[0;34m*\u001b[0m\u001b[0margs\u001b[0m\u001b[0;34m,\u001b[0m \u001b[0;34m**\u001b[0m\u001b[0mkwargs\u001b[0m\u001b[0;34m)\u001b[0m\u001b[0;34m\u001b[0m\u001b[0;34m\u001b[0m\u001b[0m\n",
       "\u001b[0;31mDocstring:\u001b[0m     \n",
       "range(stop) -> range object\n",
       "range(start, stop[, step]) -> range object\n",
       "\n",
       "Return an object that produces a sequence of integers from start (inclusive)\n",
       "to stop (exclusive) by step.  range(i, j) produces i, i+1, i+2, ..., j-1.\n",
       "start defaults to 0, and stop is omitted!  range(4) produces 0, 1, 2, 3.\n",
       "These are exactly the valid indices for a list of 4 elements.\n",
       "When step is given, it specifies the increment (or decrement).\n",
       "\u001b[0;31mType:\u001b[0m           type\n",
       "\u001b[0;31mSubclasses:\u001b[0m     \n"
      ]
     },
     "metadata": {},
     "output_type": "display_data"
    }
   ],
   "source": [
    "?range"
   ]
  },
  {
   "cell_type": "code",
   "execution_count": 8,
   "metadata": {
    "colab": {
     "base_uri": "https://localhost:8080/"
    },
    "executionInfo": {
     "elapsed": 125,
     "status": "ok",
     "timestamp": 1631017064010,
     "user": {
      "displayName": "John Kitchin",
      "photoUrl": "",
      "userId": "14782011281593705406"
     },
     "user_tz": 240
    },
    "id": "yVjxEudmL5Y2",
    "outputId": "988e80aa-ac82-40a2-ea8c-4287dbe1eeb2"
   },
   "outputs": [
    {
     "data": {
      "text/plain": [
       "[0, 1, 2, 3, 4]"
      ]
     },
     "execution_count": 8,
     "metadata": {},
     "output_type": "execute_result"
    }
   ],
   "source": [
    "list(range(0, 5))"
   ]
  },
  {
   "cell_type": "code",
   "execution_count": 9,
   "metadata": {
    "colab": {
     "base_uri": "https://localhost:8080/"
    },
    "executionInfo": {
     "elapsed": 185,
     "status": "ok",
     "timestamp": 1631016982071,
     "user": {
      "displayName": "John Kitchin",
      "photoUrl": "",
      "userId": "14782011281593705406"
     },
     "user_tz": 240
    },
    "id": "BvUybEGxGf0K",
    "outputId": "f644d509-67d2-467a-c6cb-dd20620ab9f9"
   },
   "outputs": [
    {
     "name": "stdout",
     "output_type": "stream",
     "text": [
      "1\n",
      "2\n",
      "2\n",
      "4\n",
      "3\n",
      "6\n",
      "4\n",
      "8\n",
      "Done\n"
     ]
    }
   ],
   "source": [
    "for i in range(1, len(x)):\n",
    "    print(i)\n",
    "    print(2 * i)\n",
    "print(\"Done\")"
   ]
  },
  {
   "cell_type": "code",
   "execution_count": 10,
   "metadata": {
    "colab": {
     "base_uri": "https://localhost:8080/"
    },
    "executionInfo": {
     "elapsed": 140,
     "status": "ok",
     "timestamp": 1631017087450,
     "user": {
      "displayName": "John Kitchin",
      "photoUrl": "",
      "userId": "14782011281593705406"
     },
     "user_tz": 240
    },
    "id": "hqaa84n4MTBn",
    "outputId": "3abe8929-5e4d-4608-a38f-b538be1456fa"
   },
   "outputs": [
    {
     "name": "stdout",
     "output_type": "stream",
     "text": [
      "1\n",
      "2\n",
      "2\n",
      "4\n",
      "3\n",
      "6\n",
      "4\n",
      "8\n",
      "5\n",
      "10\n",
      "Done\n"
     ]
    }
   ],
   "source": [
    "for i in [1, 2, 3, 4, 5]:  # You can iterate on anything that is iterable\n",
    "    print(i)\n",
    "    print(2 * i)\n",
    "print(\"Done\")"
   ]
  },
  {
   "cell_type": "code",
   "execution_count": 11,
   "metadata": {
    "colab": {
     "base_uri": "https://localhost:8080/"
    },
    "executionInfo": {
     "elapsed": 146,
     "status": "ok",
     "timestamp": 1631017123083,
     "user": {
      "displayName": "John Kitchin",
      "photoUrl": "",
      "userId": "14782011281593705406"
     },
     "user_tz": 240
    },
    "id": "0wF_j5k9Mg7v",
    "outputId": "9b15dca8-67df-4c90-ab37-27065cb033e2"
   },
   "outputs": [
    {
     "name": "stdout",
     "output_type": "stream",
     "text": [
      "t\n",
      "tt\n",
      "h\n",
      "hh\n",
      "i\n",
      "ii\n",
      "s\n",
      "ss\n",
      " \n",
      "  \n",
      "i\n",
      "ii\n",
      "s\n",
      "ss\n",
      " \n",
      "  \n",
      "a\n",
      "aa\n",
      " \n",
      "  \n",
      "s\n",
      "ss\n",
      "t\n",
      "tt\n",
      "r\n",
      "rr\n",
      "i\n",
      "ii\n",
      "n\n",
      "nn\n",
      "g\n",
      "gg\n",
      "Done\n"
     ]
    }
   ],
   "source": [
    "for i in \"this is a string\":  # Strings are iterable\n",
    "    print(i)\n",
    "    print(2 * i)\n",
    "print(\"Done\")"
   ]
  },
  {
   "cell_type": "code",
   "execution_count": 12,
   "metadata": {
    "colab": {
     "base_uri": "https://localhost:8080/"
    },
    "executionInfo": {
     "elapsed": 121,
     "status": "ok",
     "timestamp": 1631017519338,
     "user": {
      "displayName": "John Kitchin",
      "photoUrl": "",
      "userId": "14782011281593705406"
     },
     "user_tz": 240
    },
    "id": "V76BcXXkGf0R",
    "outputId": "455a7e7a-a119-4f29-e57a-54bab05efa4e"
   },
   "outputs": [
    {
     "name": "stdout",
     "output_type": "stream",
     "text": [
      "The estimated area is 21.000202693572362.\n",
      "The exact area is 21.0\n"
     ]
    }
   ],
   "source": [
    "x = np.linspace(1, 4, 150)  # Vary this to see how it converges\n",
    "y = x**2\n",
    "\n",
    "area = 0.0  # variable we will accumulate the area in\n",
    "\n",
    "for i in range(1, len(x)):\n",
    "    y1 = y[i - 1]\n",
    "    y2 = y[i]\n",
    "    width = x[i] - x[i - 1]\n",
    "    area += 0.5 * width * (y1 + y2)  # increment the area variable\n",
    "\n",
    "print(f\"The estimated area is {area}.\")\n",
    "print(f\"The exact area is {1 / 3 * (x[-1]**3 - x[0]**3)}\")"
   ]
  },
  {
   "cell_type": "markdown",
   "metadata": {
    "id": "fYF8PKKuGf0Y"
   },
   "source": [
    "Why don't these agree? The trapezoid method is an approximation of the integral. In this case the straight lines connecting the points *overestimate* the value of the function, and so the area under this curve is overestimated.\n",
    "\n",
    "**Exercise**: Increase the number of points slowly and see how the estimate converges to the exact value.\n",
    "\n"
   ]
  },
  {
   "cell_type": "markdown",
   "metadata": {
    "id": "jkpYG1lIGf0a"
   },
   "source": [
    "## numpy.trapz\n",
    "\n"
   ]
  },
  {
   "cell_type": "markdown",
   "metadata": {
    "id": "FBJmevx4Gf0b"
   },
   "source": [
    "It is somewhat tedious to write the loop above, making sure you get the indexing right, etc. The trapezoid method is defined in numpy. See the help for how to use it:\n",
    "\n"
   ]
  },
  {
   "cell_type": "markdown",
   "metadata": {
    "id": "pEy2QdQQGf0j"
   },
   "source": [
    "Now, we can perform the integration with just one line:\n",
    "\n"
   ]
  },
  {
   "cell_type": "code",
   "execution_count": 13,
   "metadata": {
    "colab": {
     "base_uri": "https://localhost:8080/"
    },
    "executionInfo": {
     "elapsed": 134,
     "status": "ok",
     "timestamp": 1631017534873,
     "user": {
      "displayName": "John Kitchin",
      "photoUrl": "",
      "userId": "14782011281593705406"
     },
     "user_tz": 240
    },
    "id": "8O27slBaGf0k",
    "outputId": "0a33b0d0-ea5d-48a8-f56e-24d0536ccf2d"
   },
   "outputs": [
    {
     "data": {
      "text/plain": [
       "21.000202693572362"
      ]
     },
     "execution_count": 13,
     "metadata": {},
     "output_type": "execute_result"
    }
   ],
   "source": [
    "import numpy as np\n",
    "\n",
    "x = np.linspace(1, 4, 150)\n",
    "y = x**2\n",
    "np.trapz(y, x)"
   ]
  },
  {
   "cell_type": "code",
   "execution_count": 14,
   "metadata": {
    "id": "_8Ezi81zGf0c"
   },
   "outputs": [
    {
     "data": {
      "text/plain": [
       "\u001b[0;31mSignature:\u001b[0m \u001b[0mnp\u001b[0m\u001b[0;34m.\u001b[0m\u001b[0mtrapz\u001b[0m\u001b[0;34m(\u001b[0m\u001b[0my\u001b[0m\u001b[0;34m,\u001b[0m \u001b[0mx\u001b[0m\u001b[0;34m=\u001b[0m\u001b[0;32mNone\u001b[0m\u001b[0;34m,\u001b[0m \u001b[0mdx\u001b[0m\u001b[0;34m=\u001b[0m\u001b[0;36m1.0\u001b[0m\u001b[0;34m,\u001b[0m \u001b[0maxis\u001b[0m\u001b[0;34m=\u001b[0m\u001b[0;34m-\u001b[0m\u001b[0;36m1\u001b[0m\u001b[0;34m)\u001b[0m\u001b[0;34m\u001b[0m\u001b[0;34m\u001b[0m\u001b[0m\n",
       "\u001b[0;31mSource:\u001b[0m   \n",
       "\u001b[0;34m@\u001b[0m\u001b[0marray_function_dispatch\u001b[0m\u001b[0;34m(\u001b[0m\u001b[0m_trapz_dispatcher\u001b[0m\u001b[0;34m)\u001b[0m\u001b[0;34m\u001b[0m\n",
       "\u001b[0;34m\u001b[0m\u001b[0;32mdef\u001b[0m \u001b[0mtrapz\u001b[0m\u001b[0;34m(\u001b[0m\u001b[0my\u001b[0m\u001b[0;34m,\u001b[0m \u001b[0mx\u001b[0m\u001b[0;34m=\u001b[0m\u001b[0;32mNone\u001b[0m\u001b[0;34m,\u001b[0m \u001b[0mdx\u001b[0m\u001b[0;34m=\u001b[0m\u001b[0;36m1.0\u001b[0m\u001b[0;34m,\u001b[0m \u001b[0maxis\u001b[0m\u001b[0;34m=\u001b[0m\u001b[0;34m-\u001b[0m\u001b[0;36m1\u001b[0m\u001b[0;34m)\u001b[0m\u001b[0;34m:\u001b[0m\u001b[0;34m\u001b[0m\n",
       "\u001b[0;34m\u001b[0m    \u001b[0;34mr\"\"\"\u001b[0m\n",
       "\u001b[0;34m    Integrate along the given axis using the composite trapezoidal rule.\u001b[0m\n",
       "\u001b[0;34m\u001b[0m\n",
       "\u001b[0;34m    If `x` is provided, the integration happens in sequence along its\u001b[0m\n",
       "\u001b[0;34m    elements - they are not sorted.\u001b[0m\n",
       "\u001b[0;34m\u001b[0m\n",
       "\u001b[0;34m    Integrate `y` (`x`) along each 1d slice on the given axis, compute\u001b[0m\n",
       "\u001b[0;34m    :math:`\\int y(x) dx`.\u001b[0m\n",
       "\u001b[0;34m    When `x` is specified, this integrates along the parametric curve,\u001b[0m\n",
       "\u001b[0;34m    computing :math:`\\int_t y(t) dt =\u001b[0m\n",
       "\u001b[0;34m    \\int_t y(t) \\left.\\frac{dx}{dt}\\right|_{x=x(t)} dt`.\u001b[0m\n",
       "\u001b[0;34m\u001b[0m\n",
       "\u001b[0;34m    Parameters\u001b[0m\n",
       "\u001b[0;34m    ----------\u001b[0m\n",
       "\u001b[0;34m    y : array_like\u001b[0m\n",
       "\u001b[0;34m        Input array to integrate.\u001b[0m\n",
       "\u001b[0;34m    x : array_like, optional\u001b[0m\n",
       "\u001b[0;34m        The sample points corresponding to the `y` values. If `x` is None,\u001b[0m\n",
       "\u001b[0;34m        the sample points are assumed to be evenly spaced `dx` apart. The\u001b[0m\n",
       "\u001b[0;34m        default is None.\u001b[0m\n",
       "\u001b[0;34m    dx : scalar, optional\u001b[0m\n",
       "\u001b[0;34m        The spacing between sample points when `x` is None. The default is 1.\u001b[0m\n",
       "\u001b[0;34m    axis : int, optional\u001b[0m\n",
       "\u001b[0;34m        The axis along which to integrate.\u001b[0m\n",
       "\u001b[0;34m\u001b[0m\n",
       "\u001b[0;34m    Returns\u001b[0m\n",
       "\u001b[0;34m    -------\u001b[0m\n",
       "\u001b[0;34m    trapz : float or ndarray\u001b[0m\n",
       "\u001b[0;34m        Definite integral of `y` = n-dimensional array as approximated along\u001b[0m\n",
       "\u001b[0;34m        a single axis by the trapezoidal rule. If `y` is a 1-dimensional array,\u001b[0m\n",
       "\u001b[0;34m        then the result is a float. If `n` is greater than 1, then the result\u001b[0m\n",
       "\u001b[0;34m        is an `n`-1 dimensional array.\u001b[0m\n",
       "\u001b[0;34m\u001b[0m\n",
       "\u001b[0;34m    See Also\u001b[0m\n",
       "\u001b[0;34m    --------\u001b[0m\n",
       "\u001b[0;34m    sum, cumsum\u001b[0m\n",
       "\u001b[0;34m\u001b[0m\n",
       "\u001b[0;34m    Notes\u001b[0m\n",
       "\u001b[0;34m    -----\u001b[0m\n",
       "\u001b[0;34m    Image [2]_ illustrates trapezoidal rule -- y-axis locations of points\u001b[0m\n",
       "\u001b[0;34m    will be taken from `y` array, by default x-axis distances between\u001b[0m\n",
       "\u001b[0;34m    points will be 1.0, alternatively they can be provided with `x` array\u001b[0m\n",
       "\u001b[0;34m    or with `dx` scalar.  Return value will be equal to combined area under\u001b[0m\n",
       "\u001b[0;34m    the red lines.\u001b[0m\n",
       "\u001b[0;34m\u001b[0m\n",
       "\u001b[0;34m\u001b[0m\n",
       "\u001b[0;34m    References\u001b[0m\n",
       "\u001b[0;34m    ----------\u001b[0m\n",
       "\u001b[0;34m    .. [1] Wikipedia page: https://en.wikipedia.org/wiki/Trapezoidal_rule\u001b[0m\n",
       "\u001b[0;34m\u001b[0m\n",
       "\u001b[0;34m    .. [2] Illustration image:\u001b[0m\n",
       "\u001b[0;34m           https://en.wikipedia.org/wiki/File:Composite_trapezoidal_rule_illustration.png\u001b[0m\n",
       "\u001b[0;34m\u001b[0m\n",
       "\u001b[0;34m    Examples\u001b[0m\n",
       "\u001b[0;34m    --------\u001b[0m\n",
       "\u001b[0;34m    >>> np.trapz([1,2,3])\u001b[0m\n",
       "\u001b[0;34m    4.0\u001b[0m\n",
       "\u001b[0;34m    >>> np.trapz([1,2,3], x=[4,6,8])\u001b[0m\n",
       "\u001b[0;34m    8.0\u001b[0m\n",
       "\u001b[0;34m    >>> np.trapz([1,2,3], dx=2)\u001b[0m\n",
       "\u001b[0;34m    8.0\u001b[0m\n",
       "\u001b[0;34m\u001b[0m\n",
       "\u001b[0;34m    Using a decreasing `x` corresponds to integrating in reverse:\u001b[0m\n",
       "\u001b[0;34m\u001b[0m\n",
       "\u001b[0;34m    >>> np.trapz([1,2,3], x=[8,6,4])\u001b[0m\n",
       "\u001b[0;34m    -8.0\u001b[0m\n",
       "\u001b[0;34m\u001b[0m\n",
       "\u001b[0;34m    More generally `x` is used to integrate along a parametric curve.\u001b[0m\n",
       "\u001b[0;34m    This finds the area of a circle, noting we repeat the sample which closes\u001b[0m\n",
       "\u001b[0;34m    the curve:\u001b[0m\n",
       "\u001b[0;34m\u001b[0m\n",
       "\u001b[0;34m    >>> theta = np.linspace(0, 2 * np.pi, num=1000, endpoint=True)\u001b[0m\n",
       "\u001b[0;34m    >>> np.trapz(np.cos(theta), x=np.sin(theta))\u001b[0m\n",
       "\u001b[0;34m    3.141571941375841\u001b[0m\n",
       "\u001b[0;34m\u001b[0m\n",
       "\u001b[0;34m    >>> a = np.arange(6).reshape(2, 3)\u001b[0m\n",
       "\u001b[0;34m    >>> a\u001b[0m\n",
       "\u001b[0;34m    array([[0, 1, 2],\u001b[0m\n",
       "\u001b[0;34m           [3, 4, 5]])\u001b[0m\n",
       "\u001b[0;34m    >>> np.trapz(a, axis=0)\u001b[0m\n",
       "\u001b[0;34m    array([1.5, 2.5, 3.5])\u001b[0m\n",
       "\u001b[0;34m    >>> np.trapz(a, axis=1)\u001b[0m\n",
       "\u001b[0;34m    array([2.,  8.])\u001b[0m\n",
       "\u001b[0;34m    \"\"\"\u001b[0m\u001b[0;34m\u001b[0m\n",
       "\u001b[0;34m\u001b[0m    \u001b[0my\u001b[0m \u001b[0;34m=\u001b[0m \u001b[0masanyarray\u001b[0m\u001b[0;34m(\u001b[0m\u001b[0my\u001b[0m\u001b[0;34m)\u001b[0m\u001b[0;34m\u001b[0m\n",
       "\u001b[0;34m\u001b[0m    \u001b[0;32mif\u001b[0m \u001b[0mx\u001b[0m \u001b[0;32mis\u001b[0m \u001b[0;32mNone\u001b[0m\u001b[0;34m:\u001b[0m\u001b[0;34m\u001b[0m\n",
       "\u001b[0;34m\u001b[0m        \u001b[0md\u001b[0m \u001b[0;34m=\u001b[0m \u001b[0mdx\u001b[0m\u001b[0;34m\u001b[0m\n",
       "\u001b[0;34m\u001b[0m    \u001b[0;32melse\u001b[0m\u001b[0;34m:\u001b[0m\u001b[0;34m\u001b[0m\n",
       "\u001b[0;34m\u001b[0m        \u001b[0mx\u001b[0m \u001b[0;34m=\u001b[0m \u001b[0masanyarray\u001b[0m\u001b[0;34m(\u001b[0m\u001b[0mx\u001b[0m\u001b[0;34m)\u001b[0m\u001b[0;34m\u001b[0m\n",
       "\u001b[0;34m\u001b[0m        \u001b[0;32mif\u001b[0m \u001b[0mx\u001b[0m\u001b[0;34m.\u001b[0m\u001b[0mndim\u001b[0m \u001b[0;34m==\u001b[0m \u001b[0;36m1\u001b[0m\u001b[0;34m:\u001b[0m\u001b[0;34m\u001b[0m\n",
       "\u001b[0;34m\u001b[0m            \u001b[0md\u001b[0m \u001b[0;34m=\u001b[0m \u001b[0mdiff\u001b[0m\u001b[0;34m(\u001b[0m\u001b[0mx\u001b[0m\u001b[0;34m)\u001b[0m\u001b[0;34m\u001b[0m\n",
       "\u001b[0;34m\u001b[0m            \u001b[0;31m# reshape to correct shape\u001b[0m\u001b[0;34m\u001b[0m\n",
       "\u001b[0;34m\u001b[0m            \u001b[0mshape\u001b[0m \u001b[0;34m=\u001b[0m \u001b[0;34m[\u001b[0m\u001b[0;36m1\u001b[0m\u001b[0;34m]\u001b[0m\u001b[0;34m*\u001b[0m\u001b[0my\u001b[0m\u001b[0;34m.\u001b[0m\u001b[0mndim\u001b[0m\u001b[0;34m\u001b[0m\n",
       "\u001b[0;34m\u001b[0m            \u001b[0mshape\u001b[0m\u001b[0;34m[\u001b[0m\u001b[0maxis\u001b[0m\u001b[0;34m]\u001b[0m \u001b[0;34m=\u001b[0m \u001b[0md\u001b[0m\u001b[0;34m.\u001b[0m\u001b[0mshape\u001b[0m\u001b[0;34m[\u001b[0m\u001b[0;36m0\u001b[0m\u001b[0;34m]\u001b[0m\u001b[0;34m\u001b[0m\n",
       "\u001b[0;34m\u001b[0m            \u001b[0md\u001b[0m \u001b[0;34m=\u001b[0m \u001b[0md\u001b[0m\u001b[0;34m.\u001b[0m\u001b[0mreshape\u001b[0m\u001b[0;34m(\u001b[0m\u001b[0mshape\u001b[0m\u001b[0;34m)\u001b[0m\u001b[0;34m\u001b[0m\n",
       "\u001b[0;34m\u001b[0m        \u001b[0;32melse\u001b[0m\u001b[0;34m:\u001b[0m\u001b[0;34m\u001b[0m\n",
       "\u001b[0;34m\u001b[0m            \u001b[0md\u001b[0m \u001b[0;34m=\u001b[0m \u001b[0mdiff\u001b[0m\u001b[0;34m(\u001b[0m\u001b[0mx\u001b[0m\u001b[0;34m,\u001b[0m \u001b[0maxis\u001b[0m\u001b[0;34m=\u001b[0m\u001b[0maxis\u001b[0m\u001b[0;34m)\u001b[0m\u001b[0;34m\u001b[0m\n",
       "\u001b[0;34m\u001b[0m    \u001b[0mnd\u001b[0m \u001b[0;34m=\u001b[0m \u001b[0my\u001b[0m\u001b[0;34m.\u001b[0m\u001b[0mndim\u001b[0m\u001b[0;34m\u001b[0m\n",
       "\u001b[0;34m\u001b[0m    \u001b[0mslice1\u001b[0m \u001b[0;34m=\u001b[0m \u001b[0;34m[\u001b[0m\u001b[0mslice\u001b[0m\u001b[0;34m(\u001b[0m\u001b[0;32mNone\u001b[0m\u001b[0;34m)\u001b[0m\u001b[0;34m]\u001b[0m\u001b[0;34m*\u001b[0m\u001b[0mnd\u001b[0m\u001b[0;34m\u001b[0m\n",
       "\u001b[0;34m\u001b[0m    \u001b[0mslice2\u001b[0m \u001b[0;34m=\u001b[0m \u001b[0;34m[\u001b[0m\u001b[0mslice\u001b[0m\u001b[0;34m(\u001b[0m\u001b[0;32mNone\u001b[0m\u001b[0;34m)\u001b[0m\u001b[0;34m]\u001b[0m\u001b[0;34m*\u001b[0m\u001b[0mnd\u001b[0m\u001b[0;34m\u001b[0m\n",
       "\u001b[0;34m\u001b[0m    \u001b[0mslice1\u001b[0m\u001b[0;34m[\u001b[0m\u001b[0maxis\u001b[0m\u001b[0;34m]\u001b[0m \u001b[0;34m=\u001b[0m \u001b[0mslice\u001b[0m\u001b[0;34m(\u001b[0m\u001b[0;36m1\u001b[0m\u001b[0;34m,\u001b[0m \u001b[0;32mNone\u001b[0m\u001b[0;34m)\u001b[0m\u001b[0;34m\u001b[0m\n",
       "\u001b[0;34m\u001b[0m    \u001b[0mslice2\u001b[0m\u001b[0;34m[\u001b[0m\u001b[0maxis\u001b[0m\u001b[0;34m]\u001b[0m \u001b[0;34m=\u001b[0m \u001b[0mslice\u001b[0m\u001b[0;34m(\u001b[0m\u001b[0;32mNone\u001b[0m\u001b[0;34m,\u001b[0m \u001b[0;34m-\u001b[0m\u001b[0;36m1\u001b[0m\u001b[0;34m)\u001b[0m\u001b[0;34m\u001b[0m\n",
       "\u001b[0;34m\u001b[0m    \u001b[0;32mtry\u001b[0m\u001b[0;34m:\u001b[0m\u001b[0;34m\u001b[0m\n",
       "\u001b[0;34m\u001b[0m        \u001b[0mret\u001b[0m \u001b[0;34m=\u001b[0m \u001b[0;34m(\u001b[0m\u001b[0md\u001b[0m \u001b[0;34m*\u001b[0m \u001b[0;34m(\u001b[0m\u001b[0my\u001b[0m\u001b[0;34m[\u001b[0m\u001b[0mtuple\u001b[0m\u001b[0;34m(\u001b[0m\u001b[0mslice1\u001b[0m\u001b[0;34m)\u001b[0m\u001b[0;34m]\u001b[0m \u001b[0;34m+\u001b[0m \u001b[0my\u001b[0m\u001b[0;34m[\u001b[0m\u001b[0mtuple\u001b[0m\u001b[0;34m(\u001b[0m\u001b[0mslice2\u001b[0m\u001b[0;34m)\u001b[0m\u001b[0;34m]\u001b[0m\u001b[0;34m)\u001b[0m \u001b[0;34m/\u001b[0m \u001b[0;36m2.0\u001b[0m\u001b[0;34m)\u001b[0m\u001b[0;34m.\u001b[0m\u001b[0msum\u001b[0m\u001b[0;34m(\u001b[0m\u001b[0maxis\u001b[0m\u001b[0;34m)\u001b[0m\u001b[0;34m\u001b[0m\n",
       "\u001b[0;34m\u001b[0m    \u001b[0;32mexcept\u001b[0m \u001b[0mValueError\u001b[0m\u001b[0;34m:\u001b[0m\u001b[0;34m\u001b[0m\n",
       "\u001b[0;34m\u001b[0m        \u001b[0;31m# Operations didn't work, cast to ndarray\u001b[0m\u001b[0;34m\u001b[0m\n",
       "\u001b[0;34m\u001b[0m        \u001b[0md\u001b[0m \u001b[0;34m=\u001b[0m \u001b[0mnp\u001b[0m\u001b[0;34m.\u001b[0m\u001b[0masarray\u001b[0m\u001b[0;34m(\u001b[0m\u001b[0md\u001b[0m\u001b[0;34m)\u001b[0m\u001b[0;34m\u001b[0m\n",
       "\u001b[0;34m\u001b[0m        \u001b[0my\u001b[0m \u001b[0;34m=\u001b[0m \u001b[0mnp\u001b[0m\u001b[0;34m.\u001b[0m\u001b[0masarray\u001b[0m\u001b[0;34m(\u001b[0m\u001b[0my\u001b[0m\u001b[0;34m)\u001b[0m\u001b[0;34m\u001b[0m\n",
       "\u001b[0;34m\u001b[0m        \u001b[0mret\u001b[0m \u001b[0;34m=\u001b[0m \u001b[0madd\u001b[0m\u001b[0;34m.\u001b[0m\u001b[0mreduce\u001b[0m\u001b[0;34m(\u001b[0m\u001b[0md\u001b[0m \u001b[0;34m*\u001b[0m \u001b[0;34m(\u001b[0m\u001b[0my\u001b[0m\u001b[0;34m[\u001b[0m\u001b[0mtuple\u001b[0m\u001b[0;34m(\u001b[0m\u001b[0mslice1\u001b[0m\u001b[0;34m)\u001b[0m\u001b[0;34m]\u001b[0m\u001b[0;34m+\u001b[0m\u001b[0my\u001b[0m\u001b[0;34m[\u001b[0m\u001b[0mtuple\u001b[0m\u001b[0;34m(\u001b[0m\u001b[0mslice2\u001b[0m\u001b[0;34m)\u001b[0m\u001b[0;34m]\u001b[0m\u001b[0;34m)\u001b[0m\u001b[0;34m/\u001b[0m\u001b[0;36m2.0\u001b[0m\u001b[0;34m,\u001b[0m \u001b[0maxis\u001b[0m\u001b[0;34m)\u001b[0m\u001b[0;34m\u001b[0m\n",
       "\u001b[0;34m\u001b[0m    \u001b[0;32mreturn\u001b[0m \u001b[0mret\u001b[0m\u001b[0;34m\u001b[0m\u001b[0;34m\u001b[0m\u001b[0m\n",
       "\u001b[0;31mFile:\u001b[0m      /opt/tljh/user/lib/python3.9/site-packages/numpy/lib/function_base.py\n",
       "\u001b[0;31mType:\u001b[0m      function\n"
      ]
     },
     "metadata": {},
     "output_type": "display_data"
    }
   ],
   "source": [
    "??np.trapz"
   ]
  },
  {
   "cell_type": "markdown",
   "metadata": {
    "id": "t8n2cFA7Gf0q"
   },
   "source": [
    "The trapezoid method is only exact for lines. For everything else, it is an approximation. For functions (or regions) that are concave up, the trapezoid method will over-estimate the integral, and for regions that are concave down, the method will underestimate the true integral.\n",
    "\n",
    "The [error](https://en.wikipedia.org/wiki/Trapezoidal_rule#Error_analysis) in this method is formally:\n",
    "\n",
    "$error = - \\frac{(b - a)^3}{12 N^2} f''(\\xi)$\n",
    "\n",
    "In this formula, $\\xi$ is some number between $a$ and $b$, in other words the error is related to the second derivative of the function evaluated somewhere in the interval.\n",
    "\n",
    "Practically, we only use this method for integrating data where we do not know the function it represents, so we cannot reliably estimate the error in the integral.\n",
    "\n"
   ]
  },
  {
   "cell_type": "markdown",
   "metadata": {
    "id": "zi8nIg2VGf0r"
   },
   "source": [
    "## Simpson's rule\n",
    "\n"
   ]
  },
  {
   "cell_type": "markdown",
   "metadata": {
    "id": "dA8AN04EEagc"
   },
   "source": [
    "```{note}\n",
    "in scipy 1.4.1, Simpson's is in scipy.integrate.simps, but as of 1.7.1 it is in scipy.integrate.simpson. (https://docs.scipy.org/doc/scipy-1.7.1/reference/reference/generated/scipy.integrate.simpson.html#scipy.integrate.simpson)\n",
    "\n",
    "This is a common occurence in code where things get reorganized, and it sometimes breaks older code.\n",
    "```"
   ]
  },
  {
   "cell_type": "code",
   "execution_count": 15,
   "metadata": {
    "colab": {
     "base_uri": "https://localhost:8080/",
     "height": 35
    },
    "executionInfo": {
     "elapsed": 156,
     "status": "ok",
     "timestamp": 1631017767487,
     "user": {
      "displayName": "John Kitchin",
      "photoUrl": "",
      "userId": "14782011281593705406"
     },
     "user_tz": 240
    },
    "id": "7phJB0arEeHh",
    "outputId": "b22ae4c2-910c-403e-89ee-38843c565cc6"
   },
   "outputs": [
    {
     "data": {
      "text/plain": [
       "'1.9.0'"
      ]
     },
     "execution_count": 15,
     "metadata": {},
     "output_type": "execute_result"
    }
   ],
   "source": [
    "import scipy\n",
    "\n",
    "scipy.__version__"
   ]
  },
  {
   "cell_type": "markdown",
   "metadata": {
    "id": "m6wJwU_hGf0s"
   },
   "source": [
    "There are more advanced approximations to integration than the trapezoid method. With the trapezoid method, you essentially assume linear interpolation between the points, and in the limit of infinite points that are close together, this is reasonable. We rarely get to that limit however.\n",
    "\n",
    "Instead of linear interpolation, we can use quadratic interpolation, where one uses the point and its neighbors to compute the equation of a parabola that goes through them, and then analytically computes the area under the parabola over the relevant interval. This is the basis of [Simpson's method](https://en.wikipedia.org/wiki/Simpson%27s_rule). There is an excellent animation of Simpson's Rule at that page.\n",
    "\n",
    "Note in this case, since we integrate a parabola, the result is exact. It will not be exact in general, but this method is generally expected to be more accurate than the trapezoid method for well-behaved data because it represents the local curvature better than lines do.\n",
    "\n"
   ]
  },
  {
   "cell_type": "code",
   "execution_count": 16,
   "metadata": {
    "colab": {
     "base_uri": "https://localhost:8080/"
    },
    "executionInfo": {
     "elapsed": 214,
     "status": "ok",
     "timestamp": 1631017816329,
     "user": {
      "displayName": "John Kitchin",
      "photoUrl": "",
      "userId": "14782011281593705406"
     },
     "user_tz": 240
    },
    "id": "P6JTdzNBGf0u",
    "outputId": "f6810e49-e131-4c63-de80-d413b78fc7b7"
   },
   "outputs": [
    {
     "data": {
      "text/plain": [
       "(21.000001360359544, 21.000202693572362)"
      ]
     },
     "execution_count": 16,
     "metadata": {},
     "output_type": "execute_result"
    }
   ],
   "source": [
    "from scipy.integrate import simps\n",
    "\n",
    "simps(y, x), np.trapz(y, x)"
   ]
  },
  {
   "cell_type": "markdown",
   "metadata": {
    "id": "ZQefB7ewGf01"
   },
   "source": [
    "## Applications\n",
    "\n"
   ]
  },
  {
   "cell_type": "markdown",
   "metadata": {
    "id": "xErzRUTEGf03"
   },
   "source": [
    "### Estimating the volume of a solid\n",
    "\n"
   ]
  },
  {
   "cell_type": "markdown",
   "metadata": {
    "id": "Z9hCtPv9Gf04"
   },
   "source": [
    "We can use integrals to compute the volume of solids. If we know how the cross-sectional area of a solid varies in some direction, we simply evaluate the following integral:\n",
    "\n",
    "$\\int_{x0}^{x1} A(x) dx$\n",
    "\n",
    "For a sphere, we can derive:\n",
    "\n",
    "$A(x) = \\pi (1 - x^2)$\n",
    "\n"
   ]
  },
  {
   "cell_type": "code",
   "execution_count": 17,
   "metadata": {
    "colab": {
     "base_uri": "https://localhost:8080/"
    },
    "executionInfo": {
     "elapsed": 168,
     "status": "ok",
     "timestamp": 1631018052527,
     "user": {
      "displayName": "John Kitchin",
      "photoUrl": "",
      "userId": "14782011281593705406"
     },
     "user_tz": 240
    },
    "id": "07Oobx5mGf05",
    "outputId": "b9c4b342-566c-4435-8a5d-504850442b83"
   },
   "outputs": [
    {
     "name": "stdout",
     "output_type": "stream",
     "text": [
      "Approximate volume = 4.1870\n",
      "Exact volume = 4.1888\n"
     ]
    }
   ],
   "source": [
    "R = 1\n",
    "x = np.linspace(-R, R)\n",
    "A = np.pi * (1 - x**2)\n",
    "\n",
    "approx_V = np.trapz(A, x)\n",
    "exact_V = 4 / 3 * np.pi * R**3\n",
    "\n",
    "print(\n",
    "    f\"\"\"Approximate volume = {approx_V:1.4f}\n",
    "Exact volume = {exact_V:1.4f}\"\"\"\n",
    ")"
   ]
  },
  {
   "cell_type": "markdown",
   "metadata": {
    "id": "F5omdC_8Gf0_"
   },
   "source": [
    "With 50 points, the estimate is pretty good. Try increasing the number of points to improve the estimate.\n",
    "\n"
   ]
  },
  {
   "cell_type": "markdown",
   "metadata": {
    "id": "p96e04mlGf1A"
   },
   "source": [
    "### Estimating the volume of a plug flow reactor\n",
    "\n"
   ]
  },
  {
   "cell_type": "markdown",
   "metadata": {
    "id": "HrDH1aMXGf1C"
   },
   "source": [
    "Adapted from Fogler example 2.7. The volume of a plug flow reactor is defined by this integral:\n",
    "\n",
    "$\\int_{X_0}^{X_1} \\frac{F_{A_0}}{-r_A} dX$\n",
    "\n",
    "where $F_{A_0}$ is the inlet molar flow of species A, $X$ is the conversion, and $-r_A$ is the rate of generation of species A per unit volume. $r_A$  is a function of conversion. We often do not know what the function is, but we can measure the rate of generation. Below is some tabulated data of the rate of generation of species A as a function of conversion.\n",
    "\n",
    "| X|-r\\_A (kmol / m^3 / hr)|\n",
    "|---|---|\n",
    "| 0|39|\n",
    "| 0.2|53|\n",
    "| 0.4|59|\n",
    "| 0.6|38|\n",
    "| 0.65|25|\n",
    "\n",
    "Use this data to estimate the volume of the reactor required to achieve a conversion of 0.65.\n",
    "\n"
   ]
  },
  {
   "cell_type": "code",
   "execution_count": 18,
   "metadata": {
    "colab": {
     "base_uri": "https://localhost:8080/"
    },
    "executionInfo": {
     "elapsed": 119,
     "status": "ok",
     "timestamp": 1631018197233,
     "user": {
      "displayName": "John Kitchin",
      "photoUrl": "",
      "userId": "14782011281593705406"
     },
     "user_tz": 240
    },
    "id": "4NFaTb7XGf1D",
    "outputId": "f8bb9c77-e446-49c5-be9f-fea3028d9d4a"
   },
   "outputs": [
    {
     "name": "stdout",
     "output_type": "stream",
     "text": [
      "The required volume is 0.701 m^3.\n"
     ]
    }
   ],
   "source": [
    "X = np.array([0, 0.2, 0.4, 0.6, 0.65])\n",
    "\n",
    "ra = -np.array([39, 53, 59, 38, 25])  # kmol / m^3 /hour\n",
    "\n",
    "Fa0 = 50  # kmol / hr.\n",
    "\n",
    "V = np.trapz(Fa0 / -ra, X)\n",
    "\n",
    "print(f\"The required volume is {V:1.3f} m^3.\")"
   ]
  },
  {
   "cell_type": "markdown",
   "metadata": {
    "id": "DdKTj-g1Gf1J"
   },
   "source": [
    "How does the volume depend on conversion? Let's plot the integrand first so we can get a sense for how the area might change with conversion.\n",
    "\n"
   ]
  },
  {
   "cell_type": "code",
   "execution_count": 19,
   "metadata": {
    "colab": {
     "base_uri": "https://localhost:8080/",
     "height": 300
    },
    "executionInfo": {
     "elapsed": 557,
     "status": "ok",
     "timestamp": 1631018273237,
     "user": {
      "displayName": "John Kitchin",
      "photoUrl": "",
      "userId": "14782011281593705406"
     },
     "user_tz": 240
    },
    "id": "cI9E0xTzGf1K",
    "outputId": "6266dd8a-c662-47df-b2c9-601e708600f9"
   },
   "outputs": [
    {
     "data": {
      "image/png": "[encoded data removed]",
      "text/plain": [
       "<Figure size 432x288 with 1 Axes>"
      ]
     },
     "metadata": {
      "needs_background": "light"
     },
     "output_type": "display_data"
    }
   ],
   "source": [
    "plt.plot(X, Fa0 / -ra)\n",
    "plt.xlabel(\"Conversion\")\n",
    "plt.ylabel(\"$F_{A0} / -r_A$\")\n",
    "plt.xlim([0, 0.65])\n",
    "plt.ylim([0, 2]);"
   ]
  },
  {
   "cell_type": "markdown",
   "metadata": {
    "id": "YK9lniceGf1U"
   },
   "source": [
    "We could iterate over the conversions and print the volume for each value. This is a little wasteful since we recompute the areas in each iteration, but here it is so fast it does not matter.\n",
    "\n",
    "Before jumping into the integration an loop, Let's review array slicing. It allows us to select portions of arrays for analysis."
   ]
  },
  {
   "cell_type": "code",
   "execution_count": 20,
   "metadata": {
    "colab": {
     "base_uri": "https://localhost:8080/"
    },
    "executionInfo": {
     "elapsed": 151,
     "status": "ok",
     "timestamp": 1631018452284,
     "user": {
      "displayName": "John Kitchin",
      "photoUrl": "",
      "userId": "14782011281593705406"
     },
     "user_tz": 240
    },
    "id": "8zrzrcGXGf1V",
    "outputId": "35fd8549-244d-4250-fa53-93cf41e9c947"
   },
   "outputs": [
    {
     "data": {
      "text/plain": [
       "array([0. , 0.2, 0.4])"
      ]
     },
     "execution_count": 20,
     "metadata": {},
     "output_type": "execute_result"
    }
   ],
   "source": [
    "# X[start:below_end]\n",
    "X = np.array([0, 0.2, 0.4, 0.6, 0.65])\n",
    "X[0:3]  # This selects points with indices 0-2"
   ]
  },
  {
   "cell_type": "markdown",
   "metadata": {
    "id": "Cs3-4nYVGf1c"
   },
   "source": [
    "We use -1 for the last element (-2 for second to last element, etc). Note that this *does not* include the last element.\n",
    "\n"
   ]
  },
  {
   "cell_type": "code",
   "execution_count": 21,
   "metadata": {
    "colab": {
     "base_uri": "https://localhost:8080/"
    },
    "executionInfo": {
     "elapsed": 174,
     "status": "ok",
     "timestamp": 1631018465783,
     "user": {
      "displayName": "John Kitchin",
      "photoUrl": "",
      "userId": "14782011281593705406"
     },
     "user_tz": 240
    },
    "id": "Gxp5QeZtGf1d",
    "outputId": "856af955-01e9-4861-e9cd-3678365cd880"
   },
   "outputs": [
    {
     "data": {
      "text/plain": [
       "array([0.2, 0.4, 0.6])"
      ]
     },
     "execution_count": 21,
     "metadata": {},
     "output_type": "execute_result"
    }
   ],
   "source": [
    "X[1:-1]"
   ]
  },
  {
   "cell_type": "markdown",
   "metadata": {
    "id": "amIlpWvYGf1i"
   },
   "source": [
    "To get to the last element, we do not specify an end value like this:\n",
    "\n"
   ]
  },
  {
   "cell_type": "code",
   "execution_count": 22,
   "metadata": {
    "colab": {
     "base_uri": "https://localhost:8080/"
    },
    "executionInfo": {
     "elapsed": 144,
     "status": "ok",
     "timestamp": 1631018472993,
     "user": {
      "displayName": "John Kitchin",
      "photoUrl": "",
      "userId": "14782011281593705406"
     },
     "user_tz": 240
    },
    "id": "htOPU15iGf1j",
    "outputId": "180a63f6-2ef4-4b06-89a9-c5144614300d"
   },
   "outputs": [
    {
     "data": {
      "text/plain": [
       "array([0.2 , 0.4 , 0.6 , 0.65])"
      ]
     },
     "execution_count": 22,
     "metadata": {},
     "output_type": "execute_result"
    }
   ],
   "source": [
    "X[1:]"
   ]
  },
  {
   "cell_type": "markdown",
   "metadata": {
    "id": "SNtNAEt_Gf1o"
   },
   "source": [
    "So, back to the integration. We need to use slices of the array for each integration step.\n",
    "\n"
   ]
  },
  {
   "cell_type": "code",
   "execution_count": 23,
   "metadata": {
    "colab": {
     "base_uri": "https://localhost:8080/"
    },
    "executionInfo": {
     "elapsed": 132,
     "status": "ok",
     "timestamp": 1631018541061,
     "user": {
      "displayName": "John Kitchin",
      "photoUrl": "",
      "userId": "14782011281593705406"
     },
     "user_tz": 240
    },
    "id": "U_hbQuTWGf1o",
    "outputId": "45d9d3b4-14b3-4389-9a2b-93017ddfa950"
   },
   "outputs": [
    {
     "name": "stdout",
     "output_type": "stream",
     "text": [
      "At X=0.00 V=0.000 m^3\n",
      "At X=0.20 V=0.223 m^3\n",
      "At X=0.40 V=0.402 m^3\n",
      "At X=0.60 V=0.618 m^3\n",
      "At X=0.65 V=0.701 m^3\n"
     ]
    },
    {
     "data": {
      "text/plain": [
       "[0.0,\n",
       " 0.22254475084663766,\n",
       " 0.40163013620001153,\n",
       " 0.617954846280297,\n",
       " 0.7008495831224023]"
      ]
     },
     "execution_count": 23,
     "metadata": {},
     "output_type": "execute_result"
    }
   ],
   "source": [
    "y = Fa0 / -ra  # An array\n",
    "\n",
    "volumes = []  # empty list to store values in\n",
    "\n",
    "for i in range(0, len(X)):\n",
    "    vol = np.trapz(y[0 : i + 1], X[0 : i + 1])\n",
    "    volumes += [\n",
    "        vol\n",
    "    ]  # here we accumulate the vol into our list, we concatenate two lists here\n",
    "    print(f\"At X={X[i]:3.2f} V={vol:1.3f} m^3\")\n",
    "\n",
    "volumes"
   ]
  },
  {
   "cell_type": "markdown",
   "metadata": {
    "id": "Q9OMyzswGf1t"
   },
   "source": [
    "An alternative approach is to use a cumulative trapezoid function. This is defined in `scipy.integrate`. The main benefit of this approach is that it is faster, as it does not recompute the areas, and the code is shorter, so there are less places to make mistakes!\n",
    "\n"
   ]
  },
  {
   "cell_type": "code",
   "execution_count": 24,
   "metadata": {
    "colab": {
     "base_uri": "https://localhost:8080/",
     "height": 296
    },
    "executionInfo": {
     "elapsed": 342,
     "status": "ok",
     "timestamp": 1631018672736,
     "user": {
      "displayName": "John Kitchin",
      "photoUrl": "",
      "userId": "14782011281593705406"
     },
     "user_tz": 240
    },
    "id": "tg80_u5dGf1u",
    "outputId": "3098a7bd-a548-47b5-b6ff-445287dc7dea"
   },
   "outputs": [
    {
     "data": {
      "text/plain": [
       "array([0.22254475, 0.40163014, 0.61795485, 0.70084958])"
      ]
     },
     "execution_count": 24,
     "metadata": {},
     "output_type": "execute_result"
    },
    {
     "data": {
      "image/png": "[encoded data removed]",
      "text/plain": [
       "<Figure size 432x288 with 1 Axes>"
      ]
     },
     "metadata": {
      "needs_background": "light"
     },
     "output_type": "display_data"
    }
   ],
   "source": [
    "import scipy as sp\n",
    "\n",
    "cumV = sp.integrate.cumtrapz(Fa0 / -ra, X)\n",
    "\n",
    "plt.plot(X[1:], cumV)\n",
    "plt.xlabel(\"Conversion\")\n",
    "plt.ylabel(\"Volume (m$^3$)\")\n",
    "\n",
    "cumV"
   ]
  },
  {
   "cell_type": "code",
   "execution_count": 25,
   "metadata": {
    "colab": {
     "base_uri": "https://localhost:8080/",
     "height": 296
    },
    "executionInfo": {
     "elapsed": 327,
     "status": "ok",
     "timestamp": 1631018683606,
     "user": {
      "displayName": "John Kitchin",
      "photoUrl": "",
      "userId": "14782011281593705406"
     },
     "user_tz": 240
    },
    "id": "ap-03JazvKV6",
    "outputId": "bac7aef0-8fba-4fdd-cc70-beb57fabe75e"
   },
   "outputs": [
    {
     "data": {
      "text/plain": [
       "array([0.        , 0.22254475, 0.40163014, 0.61795485, 0.70084958])"
      ]
     },
     "execution_count": 25,
     "metadata": {},
     "output_type": "execute_result"
    },
    {
     "data": {
      "image/png": "[encoded data removed]",
      "text/plain": [
       "<Figure size 432x288 with 1 Axes>"
      ]
     },
     "metadata": {
      "needs_background": "light"
     },
     "output_type": "display_data"
    }
   ],
   "source": [
    "import scipy as sp\n",
    "\n",
    "cumV = sp.integrate.cumtrapz(\n",
    "    Fa0 / -ra, X, initial=0\n",
    ")  # include initial to get the first value.\n",
    "\n",
    "plt.plot(X, cumV)\n",
    "plt.xlabel(\"Conversion\")\n",
    "plt.ylabel(\"Volume (m$^3$)\")\n",
    "\n",
    "cumV"
   ]
  },
  {
   "cell_type": "code",
   "execution_count": 26,
   "metadata": {
    "id": "TeHBCRp5SjBS"
   },
   "outputs": [
    {
     "data": {
      "text/plain": [
       "\u001b[0;31mSignature:\u001b[0m \u001b[0msp\u001b[0m\u001b[0;34m.\u001b[0m\u001b[0mintegrate\u001b[0m\u001b[0;34m.\u001b[0m\u001b[0mcumtrapz\u001b[0m\u001b[0;34m(\u001b[0m\u001b[0my\u001b[0m\u001b[0;34m,\u001b[0m \u001b[0mx\u001b[0m\u001b[0;34m=\u001b[0m\u001b[0;32mNone\u001b[0m\u001b[0;34m,\u001b[0m \u001b[0mdx\u001b[0m\u001b[0;34m=\u001b[0m\u001b[0;36m1.0\u001b[0m\u001b[0;34m,\u001b[0m \u001b[0maxis\u001b[0m\u001b[0;34m=\u001b[0m\u001b[0;34m-\u001b[0m\u001b[0;36m1\u001b[0m\u001b[0;34m,\u001b[0m \u001b[0minitial\u001b[0m\u001b[0;34m=\u001b[0m\u001b[0;32mNone\u001b[0m\u001b[0;34m)\u001b[0m\u001b[0;34m\u001b[0m\u001b[0;34m\u001b[0m\u001b[0m\n",
       "\u001b[0;31mDocstring:\u001b[0m\n",
       "An alias of `cumulative_trapezoid`.\n",
       "\n",
       "`cumtrapz` is kept for backwards compatibility. For new code, prefer\n",
       "`cumulative_trapezoid` instead.\n",
       "\u001b[0;31mFile:\u001b[0m      /opt/tljh/user/lib/python3.9/site-packages/scipy/integrate/_quadrature.py\n",
       "\u001b[0;31mType:\u001b[0m      function\n"
      ]
     },
     "metadata": {},
     "output_type": "display_data"
    }
   ],
   "source": [
    "?sp.integrate.cumtrapz"
   ]
  },
  {
   "cell_type": "markdown",
   "metadata": {
    "id": "B0tnCNrdGf1z"
   },
   "source": [
    "What if you want to know the volume required for an intermediate conversion? For that you need interpolation. We will cover that later in the course when we talk more about dealing with data.\n",
    "\n"
   ]
  },
  {
   "cell_type": "markdown",
   "metadata": {
    "id": "ySNaRdogGf10"
   },
   "source": [
    "# Numerical quadrature - or integration of functions\n",
    "\n"
   ]
  },
  {
   "cell_type": "markdown",
   "metadata": {
    "id": "bpDUKkBXGf10"
   },
   "source": [
    "When you have a function and you know its analytical form we can use quadrature to estimate integrals of it. In quadrature, we approximate the integral as a weighted sum of function values. By increasing the number values used, we can systematically improve the integral estimates.\n",
    "\n",
    "To motivate the idea, let's consider the function integral of $y(x) = 7 x^3 - 8 x^2 - 3x +3$ from -1 to 1.\n",
    "\n",
    "This is a third order polynomial, so we can in this case replace the integral with a sum of two points:\n",
    "\n",
    "$\\int f(x) dx = w_1 f(x_1) + w_2 f(x_2)$\n",
    "\n",
    "provided we can find the weights, and the right values of $x$ to use. These are derived and tabulated (e.g. at [https://en.wikipedia.org/wiki/Gaussian_quadrature](https://en.wikipedia.org/wiki/Gaussian_quadrature)), which tells us for this case, the weights are simply equal to one, and we should use $\\pm \\sqrt{1/3}$ for x.\n",
    "\n"
   ]
  },
  {
   "cell_type": "code",
   "execution_count": 27,
   "metadata": {
    "colab": {
     "base_uri": "https://localhost:8080/",
     "height": 282
    },
    "executionInfo": {
     "elapsed": 610,
     "status": "ok",
     "timestamp": 1631019093155,
     "user": {
      "displayName": "John Kitchin",
      "photoUrl": "",
      "userId": "14782011281593705406"
     },
     "user_tz": 240
    },
    "id": "crMx9flLGf11",
    "outputId": "e935a76b-8bf1-4083-aab9-94f4e9616eca"
   },
   "outputs": [
    {
     "data": {
      "text/plain": [
       "(0.6666666666666674, (0.6666666666666666, 4.721410046114446e-14))"
      ]
     },
     "execution_count": 27,
     "metadata": {},
     "output_type": "execute_result"
    },
    {
     "data": {
      "image/png": "[encoded data removed]",
      "text/plain": [
       "<Figure size 432x288 with 1 Axes>"
      ]
     },
     "metadata": {
      "needs_background": "light"
     },
     "output_type": "display_data"
    }
   ],
   "source": [
    "import numpy as np\n",
    "import matplotlib.pyplot as plt\n",
    "from scipy.integrate import quad\n",
    "\n",
    "x = np.linspace(-1, 1)\n",
    "\n",
    "\n",
    "def f(x):\n",
    "    return 7 * x**3 - 8 * x**2 - 3 * x + 3\n",
    "\n",
    "\n",
    "plt.plot(x, f(x))\n",
    "\n",
    "f(np.sqrt(1 / 3)) + f(-np.sqrt(1 / 3)), quad(f, -1, 1)"
   ]
  },
  {
   "cell_type": "markdown",
   "metadata": {
    "id": "tiy4Gn2_Gf16"
   },
   "source": [
    "This example is special in several ways:\n",
    "\n",
    "1.  The formula was derived for $n^{th}$ order polynomials, here we had a 3rd order polynomial, so $n-1$ points are needed to exactly compute the integral. The formula is not exact for non-polynomial functions.\n",
    "    For non-polynomial functions, the formula is an approximation to the integral and you have to use more than two points to estimate the integral. When you use more points, the weights change, but they can be looked up in the table, or computed.\n",
    "\n",
    "I show this example mostly to motivate the idea that given a function, you can perform an integral by evaluating the function at special points, and weighting those function values appropriately. In practice, we don't do this manually. It has been coded already into robust libraries that we can reuse.\n",
    "\n",
    "`scipy.integrate` provides the [quad](https://docs.scipy.org/doc/scipy-0.18.1/reference/generated/scipy.integrate.quad.html#scipy.integrate.quad) function. This is a Python wrapper around a sophisticated [Fortran library](https://en.wikipedia.org/wiki/QUADPACK) for integrating functions. These routines use an adaptive method to compute the integral and provide an upper bound on the error of the computed integral. The beauty of this interface is we can use a reliable, proven library written in Fortran inside of Python. We do not have to write and compile a Fortran program ourselves.\n",
    "\n"
   ]
  },
  {
   "cell_type": "code",
   "execution_count": 28,
   "metadata": {
    "id": "SmEMS-lAGf17"
   },
   "outputs": [
    {
     "data": {
      "text/plain": [
       "\u001b[0;31mSignature:\u001b[0m\n",
       "\u001b[0mquad\u001b[0m\u001b[0;34m(\u001b[0m\u001b[0;34m\u001b[0m\n",
       "\u001b[0;34m\u001b[0m    \u001b[0mfunc\u001b[0m\u001b[0;34m,\u001b[0m\u001b[0;34m\u001b[0m\n",
       "\u001b[0;34m\u001b[0m    \u001b[0ma\u001b[0m\u001b[0;34m,\u001b[0m\u001b[0;34m\u001b[0m\n",
       "\u001b[0;34m\u001b[0m    \u001b[0mb\u001b[0m\u001b[0;34m,\u001b[0m\u001b[0;34m\u001b[0m\n",
       "\u001b[0;34m\u001b[0m    \u001b[0margs\u001b[0m\u001b[0;34m=\u001b[0m\u001b[0;34m(\u001b[0m\u001b[0;34m)\u001b[0m\u001b[0;34m,\u001b[0m\u001b[0;34m\u001b[0m\n",
       "\u001b[0;34m\u001b[0m    \u001b[0mfull_output\u001b[0m\u001b[0;34m=\u001b[0m\u001b[0;36m0\u001b[0m\u001b[0;34m,\u001b[0m\u001b[0;34m\u001b[0m\n",
       "\u001b[0;34m\u001b[0m    \u001b[0mepsabs\u001b[0m\u001b[0;34m=\u001b[0m\u001b[0;36m1.49e-08\u001b[0m\u001b[0;34m,\u001b[0m\u001b[0;34m\u001b[0m\n",
       "\u001b[0;34m\u001b[0m    \u001b[0mepsrel\u001b[0m\u001b[0;34m=\u001b[0m\u001b[0;36m1.49e-08\u001b[0m\u001b[0;34m,\u001b[0m\u001b[0;34m\u001b[0m\n",
       "\u001b[0;34m\u001b[0m    \u001b[0mlimit\u001b[0m\u001b[0;34m=\u001b[0m\u001b[0;36m50\u001b[0m\u001b[0;34m,\u001b[0m\u001b[0;34m\u001b[0m\n",
       "\u001b[0;34m\u001b[0m    \u001b[0mpoints\u001b[0m\u001b[0;34m=\u001b[0m\u001b[0;32mNone\u001b[0m\u001b[0;34m,\u001b[0m\u001b[0;34m\u001b[0m\n",
       "\u001b[0;34m\u001b[0m    \u001b[0mweight\u001b[0m\u001b[0;34m=\u001b[0m\u001b[0;32mNone\u001b[0m\u001b[0;34m,\u001b[0m\u001b[0;34m\u001b[0m\n",
       "\u001b[0;34m\u001b[0m    \u001b[0mwvar\u001b[0m\u001b[0;34m=\u001b[0m\u001b[0;32mNone\u001b[0m\u001b[0;34m,\u001b[0m\u001b[0;34m\u001b[0m\n",
       "\u001b[0;34m\u001b[0m    \u001b[0mwopts\u001b[0m\u001b[0;34m=\u001b[0m\u001b[0;32mNone\u001b[0m\u001b[0;34m,\u001b[0m\u001b[0;34m\u001b[0m\n",
       "\u001b[0;34m\u001b[0m    \u001b[0mmaxp1\u001b[0m\u001b[0;34m=\u001b[0m\u001b[0;36m50\u001b[0m\u001b[0;34m,\u001b[0m\u001b[0;34m\u001b[0m\n",
       "\u001b[0;34m\u001b[0m    \u001b[0mlimlst\u001b[0m\u001b[0;34m=\u001b[0m\u001b[0;36m50\u001b[0m\u001b[0;34m,\u001b[0m\u001b[0;34m\u001b[0m\n",
       "\u001b[0;34m\u001b[0m\u001b[0;34m)\u001b[0m\u001b[0;34m\u001b[0m\u001b[0;34m\u001b[0m\u001b[0m\n",
       "\u001b[0;31mDocstring:\u001b[0m\n",
       "Compute a definite integral.\n",
       "\n",
       "Integrate func from `a` to `b` (possibly infinite interval) using a\n",
       "technique from the Fortran library QUADPACK.\n",
       "\n",
       "Parameters\n",
       "----------\n",
       "func : {function, scipy.LowLevelCallable}\n",
       "    A Python function or method to integrate. If `func` takes many\n",
       "    arguments, it is integrated along the axis corresponding to the\n",
       "    first argument.\n",
       "\n",
       "    If the user desires improved integration performance, then `f` may\n",
       "    be a `scipy.LowLevelCallable` with one of the signatures::\n",
       "\n",
       "        double func(double x)\n",
       "        double func(double x, void *user_data)\n",
       "        double func(int n, double *xx)\n",
       "        double func(int n, double *xx, void *user_data)\n",
       "\n",
       "    The ``user_data`` is the data contained in the `scipy.LowLevelCallable`.\n",
       "    In the call forms with ``xx``,  ``n`` is the length of the ``xx``\n",
       "    array which contains ``xx[0] == x`` and the rest of the items are\n",
       "    numbers contained in the ``args`` argument of quad.\n",
       "\n",
       "    In addition, certain ctypes call signatures are supported for\n",
       "    backward compatibility, but those should not be used in new code.\n",
       "a : float\n",
       "    Lower limit of integration (use -numpy.inf for -infinity).\n",
       "b : float\n",
       "    Upper limit of integration (use numpy.inf for +infinity).\n",
       "args : tuple, optional\n",
       "    Extra arguments to pass to `func`.\n",
       "full_output : int, optional\n",
       "    Non-zero to return a dictionary of integration information.\n",
       "    If non-zero, warning messages are also suppressed and the\n",
       "    message is appended to the output tuple.\n",
       "\n",
       "Returns\n",
       "-------\n",
       "y : float\n",
       "    The integral of func from `a` to `b`.\n",
       "abserr : float\n",
       "    An estimate of the absolute error in the result.\n",
       "infodict : dict\n",
       "    A dictionary containing additional information.\n",
       "message\n",
       "    A convergence message.\n",
       "explain\n",
       "    Appended only with 'cos' or 'sin' weighting and infinite\n",
       "    integration limits, it contains an explanation of the codes in\n",
       "    infodict['ierlst']\n",
       "\n",
       "Other Parameters\n",
       "----------------\n",
       "epsabs : float or int, optional\n",
       "    Absolute error tolerance. Default is 1.49e-8. `quad` tries to obtain\n",
       "    an accuracy of ``abs(i-result) <= max(epsabs, epsrel*abs(i))``\n",
       "    where ``i`` = integral of `func` from `a` to `b`, and ``result`` is the\n",
       "    numerical approximation. See `epsrel` below.\n",
       "epsrel : float or int, optional\n",
       "    Relative error tolerance. Default is 1.49e-8.\n",
       "    If ``epsabs <= 0``, `epsrel` must be greater than both 5e-29\n",
       "    and ``50 * (machine epsilon)``. See `epsabs` above.\n",
       "limit : float or int, optional\n",
       "    An upper bound on the number of subintervals used in the adaptive\n",
       "    algorithm.\n",
       "points : (sequence of floats,ints), optional\n",
       "    A sequence of break points in the bounded integration interval\n",
       "    where local difficulties of the integrand may occur (e.g.,\n",
       "    singularities, discontinuities). The sequence does not have\n",
       "    to be sorted. Note that this option cannot be used in conjunction\n",
       "    with ``weight``.\n",
       "weight : float or int, optional\n",
       "    String indicating weighting function. Full explanation for this\n",
       "    and the remaining arguments can be found below.\n",
       "wvar : optional\n",
       "    Variables for use with weighting functions.\n",
       "wopts : optional\n",
       "    Optional input for reusing Chebyshev moments.\n",
       "maxp1 : float or int, optional\n",
       "    An upper bound on the number of Chebyshev moments.\n",
       "limlst : int, optional\n",
       "    Upper bound on the number of cycles (>=3) for use with a sinusoidal\n",
       "    weighting and an infinite end-point.\n",
       "\n",
       "See Also\n",
       "--------\n",
       "dblquad : double integral\n",
       "tplquad : triple integral\n",
       "nquad : n-dimensional integrals (uses `quad` recursively)\n",
       "fixed_quad : fixed-order Gaussian quadrature\n",
       "quadrature : adaptive Gaussian quadrature\n",
       "odeint : ODE integrator\n",
       "ode : ODE integrator\n",
       "simpson : integrator for sampled data\n",
       "romb : integrator for sampled data\n",
       "scipy.special : for coefficients and roots of orthogonal polynomials\n",
       "\n",
       "Notes\n",
       "-----\n",
       "\n",
       "**Extra information for quad() inputs and outputs**\n",
       "\n",
       "If full_output is non-zero, then the third output argument\n",
       "(infodict) is a dictionary with entries as tabulated below. For\n",
       "infinite limits, the range is transformed to (0,1) and the\n",
       "optional outputs are given with respect to this transformed range.\n",
       "Let M be the input argument limit and let K be infodict['last'].\n",
       "The entries are:\n",
       "\n",
       "'neval'\n",
       "    The number of function evaluations.\n",
       "'last'\n",
       "    The number, K, of subintervals produced in the subdivision process.\n",
       "'alist'\n",
       "    A rank-1 array of length M, the first K elements of which are the\n",
       "    left end points of the subintervals in the partition of the\n",
       "    integration range.\n",
       "'blist'\n",
       "    A rank-1 array of length M, the first K elements of which are the\n",
       "    right end points of the subintervals.\n",
       "'rlist'\n",
       "    A rank-1 array of length M, the first K elements of which are the\n",
       "    integral approximations on the subintervals.\n",
       "'elist'\n",
       "    A rank-1 array of length M, the first K elements of which are the\n",
       "    moduli of the absolute error estimates on the subintervals.\n",
       "'iord'\n",
       "    A rank-1 integer array of length M, the first L elements of\n",
       "    which are pointers to the error estimates over the subintervals\n",
       "    with ``L=K`` if ``K<=M/2+2`` or ``L=M+1-K`` otherwise. Let I be the\n",
       "    sequence ``infodict['iord']`` and let E be the sequence\n",
       "    ``infodict['elist']``.  Then ``E[I[1]], ..., E[I[L]]`` forms a\n",
       "    decreasing sequence.\n",
       "\n",
       "If the input argument points is provided (i.e., it is not None),\n",
       "the following additional outputs are placed in the output\n",
       "dictionary. Assume the points sequence is of length P.\n",
       "\n",
       "'pts'\n",
       "    A rank-1 array of length P+2 containing the integration limits\n",
       "    and the break points of the intervals in ascending order.\n",
       "    This is an array giving the subintervals over which integration\n",
       "    will occur.\n",
       "'level'\n",
       "    A rank-1 integer array of length M (=limit), containing the\n",
       "    subdivision levels of the subintervals, i.e., if (aa,bb) is a\n",
       "    subinterval of ``(pts[1], pts[2])`` where ``pts[0]`` and ``pts[2]``\n",
       "    are adjacent elements of ``infodict['pts']``, then (aa,bb) has level l\n",
       "    if ``|bb-aa| = |pts[2]-pts[1]| * 2**(-l)``.\n",
       "'ndin'\n",
       "    A rank-1 integer array of length P+2. After the first integration\n",
       "    over the intervals (pts[1], pts[2]), the error estimates over some\n",
       "    of the intervals may have been increased artificially in order to\n",
       "    put their subdivision forward. This array has ones in slots\n",
       "    corresponding to the subintervals for which this happens.\n",
       "\n",
       "**Weighting the integrand**\n",
       "\n",
       "The input variables, *weight* and *wvar*, are used to weight the\n",
       "integrand by a select list of functions. Different integration\n",
       "methods are used to compute the integral with these weighting\n",
       "functions, and these do not support specifying break points. The\n",
       "possible values of weight and the corresponding weighting functions are.\n",
       "\n",
       "==========  ===================================   =====================\n",
       "``weight``  Weight function used                  ``wvar``\n",
       "==========  ===================================   =====================\n",
       "'cos'       cos(w*x)                              wvar = w\n",
       "'sin'       sin(w*x)                              wvar = w\n",
       "'alg'       g(x) = ((x-a)**alpha)*((b-x)**beta)   wvar = (alpha, beta)\n",
       "'alg-loga'  g(x)*log(x-a)                         wvar = (alpha, beta)\n",
       "'alg-logb'  g(x)*log(b-x)                         wvar = (alpha, beta)\n",
       "'alg-log'   g(x)*log(x-a)*log(b-x)                wvar = (alpha, beta)\n",
       "'cauchy'    1/(x-c)                               wvar = c\n",
       "==========  ===================================   =====================\n",
       "\n",
       "wvar holds the parameter w, (alpha, beta), or c depending on the weight\n",
       "selected. In these expressions, a and b are the integration limits.\n",
       "\n",
       "For the 'cos' and 'sin' weighting, additional inputs and outputs are\n",
       "available.\n",
       "\n",
       "For finite integration limits, the integration is performed using a\n",
       "Clenshaw-Curtis method which uses Chebyshev moments. For repeated\n",
       "calculations, these moments are saved in the output dictionary:\n",
       "\n",
       "'momcom'\n",
       "    The maximum level of Chebyshev moments that have been computed,\n",
       "    i.e., if ``M_c`` is ``infodict['momcom']`` then the moments have been\n",
       "    computed for intervals of length ``|b-a| * 2**(-l)``,\n",
       "    ``l=0,1,...,M_c``.\n",
       "'nnlog'\n",
       "    A rank-1 integer array of length M(=limit), containing the\n",
       "    subdivision levels of the subintervals, i.e., an element of this\n",
       "    array is equal to l if the corresponding subinterval is\n",
       "    ``|b-a|* 2**(-l)``.\n",
       "'chebmo'\n",
       "    A rank-2 array of shape (25, maxp1) containing the computed\n",
       "    Chebyshev moments. These can be passed on to an integration\n",
       "    over the same interval by passing this array as the second\n",
       "    element of the sequence wopts and passing infodict['momcom'] as\n",
       "    the first element.\n",
       "\n",
       "If one of the integration limits is infinite, then a Fourier integral is\n",
       "computed (assuming w neq 0). If full_output is 1 and a numerical error\n",
       "is encountered, besides the error message attached to the output tuple,\n",
       "a dictionary is also appended to the output tuple which translates the\n",
       "error codes in the array ``info['ierlst']`` to English messages. The\n",
       "output information dictionary contains the following entries instead of\n",
       "'last', 'alist', 'blist', 'rlist', and 'elist':\n",
       "\n",
       "'lst'\n",
       "    The number of subintervals needed for the integration (call it ``K_f``).\n",
       "'rslst'\n",
       "    A rank-1 array of length M_f=limlst, whose first ``K_f`` elements\n",
       "    contain the integral contribution over the interval\n",
       "    ``(a+(k-1)c, a+kc)`` where ``c = (2*floor(|w|) + 1) * pi / |w|``\n",
       "    and ``k=1,2,...,K_f``.\n",
       "'erlst'\n",
       "    A rank-1 array of length ``M_f`` containing the error estimate\n",
       "    corresponding to the interval in the same position in\n",
       "    ``infodict['rslist']``.\n",
       "'ierlst'\n",
       "    A rank-1 integer array of length ``M_f`` containing an error flag\n",
       "    corresponding to the interval in the same position in\n",
       "    ``infodict['rslist']``.  See the explanation dictionary (last entry\n",
       "    in the output tuple) for the meaning of the codes.\n",
       "\n",
       "\n",
       "**Details of QUADPACK level routines**\n",
       "\n",
       "`quad` calls routines from the FORTRAN library QUADPACK. This section\n",
       "provides details on the conditions for each routine to be called and a\n",
       "short description of each routine. The routine called depends on\n",
       "`weight`, `points` and the integration limits `a` and `b`.\n",
       "\n",
       "================  ==============  ==========  =====================\n",
       "QUADPACK routine  `weight`        `points`    infinite bounds\n",
       "================  ==============  ==========  =====================\n",
       "qagse             None            No          No\n",
       "qagie             None            No          Yes\n",
       "qagpe             None            Yes         No\n",
       "qawoe             'sin', 'cos'    No          No\n",
       "qawfe             'sin', 'cos'    No          either `a` or `b`\n",
       "qawse             'alg*'          No          No\n",
       "qawce             'cauchy'        No          No\n",
       "================  ==============  ==========  =====================\n",
       "\n",
       "The following provides a short desciption from [1]_ for each\n",
       "routine.\n",
       "\n",
       "qagse\n",
       "    is an integrator based on globally adaptive interval\n",
       "    subdivision in connection with extrapolation, which will\n",
       "    eliminate the effects of integrand singularities of\n",
       "    several types.\n",
       "qagie\n",
       "    handles integration over infinite intervals. The infinite range is\n",
       "    mapped onto a finite interval and subsequently the same strategy as\n",
       "    in ``QAGS`` is applied.\n",
       "qagpe\n",
       "    serves the same purposes as QAGS, but also allows the\n",
       "    user to provide explicit information about the location\n",
       "    and type of trouble-spots i.e. the abscissae of internal\n",
       "    singularities, discontinuities and other difficulties of\n",
       "    the integrand function.\n",
       "qawoe\n",
       "    is an integrator for the evaluation of\n",
       "    :math:`\\int^b_a \\cos(\\omega x)f(x)dx` or\n",
       "    :math:`\\int^b_a \\sin(\\omega x)f(x)dx`\n",
       "    over a finite interval [a,b], where :math:`\\omega` and :math:`f`\n",
       "    are specified by the user. The rule evaluation component is based\n",
       "    on the modified Clenshaw-Curtis technique\n",
       "\n",
       "    An adaptive subdivision scheme is used in connection\n",
       "    with an extrapolation procedure, which is a modification\n",
       "    of that in ``QAGS`` and allows the algorithm to deal with\n",
       "    singularities in :math:`f(x)`.\n",
       "qawfe\n",
       "    calculates the Fourier transform\n",
       "    :math:`\\int^\\infty_a \\cos(\\omega x)f(x)dx` or\n",
       "    :math:`\\int^\\infty_a \\sin(\\omega x)f(x)dx`\n",
       "    for user-provided :math:`\\omega` and :math:`f`. The procedure of\n",
       "    ``QAWO`` is applied on successive finite intervals, and convergence\n",
       "    acceleration by means of the :math:`\\varepsilon`-algorithm is applied\n",
       "    to the series of integral approximations.\n",
       "qawse\n",
       "    approximate :math:`\\int^b_a w(x)f(x)dx`, with :math:`a < b` where\n",
       "    :math:`w(x) = (x-a)^{\\alpha}(b-x)^{\\beta}v(x)` with\n",
       "    :math:`\\alpha,\\beta > -1`, where :math:`v(x)` may be one of the\n",
       "    following functions: :math:`1`, :math:`\\log(x-a)`, :math:`\\log(b-x)`,\n",
       "    :math:`\\log(x-a)\\log(b-x)`.\n",
       "\n",
       "    The user specifies :math:`\\alpha`, :math:`\\beta` and the type of the\n",
       "    function :math:`v`. A globally adaptive subdivision strategy is\n",
       "    applied, with modified Clenshaw-Curtis integration on those\n",
       "    subintervals which contain `a` or `b`.\n",
       "qawce\n",
       "    compute :math:`\\int^b_a f(x) / (x-c)dx` where the integral must be\n",
       "    interpreted as a Cauchy principal value integral, for user specified\n",
       "    :math:`c` and :math:`f`. The strategy is globally adaptive. Modified\n",
       "    Clenshaw-Curtis integration is used on those intervals containing the\n",
       "    point :math:`x = c`.\n",
       "\n",
       "References\n",
       "----------\n",
       "\n",
       ".. [1] Piessens, Robert; de Doncker-Kapenga, Elise;\n",
       "       Überhuber, Christoph W.; Kahaner, David (1983).\n",
       "       QUADPACK: A subroutine package for automatic integration.\n",
       "       Springer-Verlag.\n",
       "       ISBN 978-3-540-12553-2.\n",
       "\n",
       "Examples\n",
       "--------\n",
       "Calculate :math:`\\int^4_0 x^2 dx` and compare with an analytic result\n",
       "\n",
       ">>> from scipy import integrate\n",
       ">>> x2 = lambda x: x**2\n",
       ">>> integrate.quad(x2, 0, 4)\n",
       "(21.333333333333332, 2.3684757858670003e-13)\n",
       ">>> print(4**3 / 3.)  # analytical result\n",
       "21.3333333333\n",
       "\n",
       "Calculate :math:`\\int^\\infty_0 e^{-x} dx`\n",
       "\n",
       ">>> invexp = lambda x: np.exp(-x)\n",
       ">>> integrate.quad(invexp, 0, np.inf)\n",
       "(1.0, 5.842605999138044e-11)\n",
       "\n",
       "Calculate :math:`\\int^1_0 a x \\,dx` for :math:`a = 1, 3`\n",
       "\n",
       ">>> f = lambda x, a: a*x\n",
       ">>> y, err = integrate.quad(f, 0, 1, args=(1,))\n",
       ">>> y\n",
       "0.5\n",
       ">>> y, err = integrate.quad(f, 0, 1, args=(3,))\n",
       ">>> y\n",
       "1.5\n",
       "\n",
       "Calculate :math:`\\int^1_0 x^2 + y^2 dx` with ctypes, holding\n",
       "y parameter as 1::\n",
       "\n",
       "    testlib.c =>\n",
       "        double func(int n, double args[n]){\n",
       "            return args[0]*args[0] + args[1]*args[1];}\n",
       "    compile to library testlib.*\n",
       "\n",
       "::\n",
       "\n",
       "   from scipy import integrate\n",
       "   import ctypes\n",
       "   lib = ctypes.CDLL('/home/.../testlib.*') #use absolute path\n",
       "   lib.func.restype = ctypes.c_double\n",
       "   lib.func.argtypes = (ctypes.c_int,ctypes.c_double)\n",
       "   integrate.quad(lib.func,0,1,(1))\n",
       "   #(1.3333333333333333, 1.4802973661668752e-14)\n",
       "   print((1.0**3/3.0 + 1.0) - (0.0**3/3.0 + 0.0)) #Analytic result\n",
       "   # 1.3333333333333333\n",
       "\n",
       "Be aware that pulse shapes and other sharp features as compared to the\n",
       "size of the integration interval may not be integrated correctly using\n",
       "this method. A simplified example of this limitation is integrating a\n",
       "y-axis reflected step function with many zero values within the integrals\n",
       "bounds.\n",
       "\n",
       ">>> y = lambda x: 1 if x<=0 else 0\n",
       ">>> integrate.quad(y, -1, 1)\n",
       "(1.0, 1.1102230246251565e-14)\n",
       ">>> integrate.quad(y, -1, 100)\n",
       "(1.0000000002199108, 1.0189464580163188e-08)\n",
       ">>> integrate.quad(y, -1, 10000)\n",
       "(0.0, 0.0)\n",
       "\u001b[0;31mFile:\u001b[0m      /opt/tljh/user/lib/python3.9/site-packages/scipy/integrate/_quadpack_py.py\n",
       "\u001b[0;31mType:\u001b[0m      function\n"
      ]
     },
     "metadata": {},
     "output_type": "display_data"
    }
   ],
   "source": [
    "from scipy.integrate import quad\n",
    "\n",
    "?quad"
   ]
  },
  {
   "cell_type": "markdown",
   "metadata": {
    "id": "dPjtQ3ILGf2C"
   },
   "source": [
    "We return to our simple integral, which should equal 21.\n",
    "\n"
   ]
  },
  {
   "cell_type": "markdown",
   "metadata": {},
   "source": [
    "```{tip}\n",
    "\n",
    "Don't try to memorize everything in the documentation above. It is there for reference. Instead, try to get a grasp on what is in there, and when you run into an issue with quad, go back to the documentation.\n",
    "```"
   ]
  },
  {
   "cell_type": "code",
   "execution_count": 29,
   "metadata": {
    "colab": {
     "base_uri": "https://localhost:8080/"
    },
    "executionInfo": {
     "elapsed": 148,
     "status": "ok",
     "timestamp": 1631019275145,
     "user": {
      "displayName": "John Kitchin",
      "photoUrl": "",
      "userId": "14782011281593705406"
     },
     "user_tz": 240
    },
    "id": "I1KX8WdHGf2D",
    "outputId": "403213e8-2797-42bb-8e73-41343ff8c189"
   },
   "outputs": [
    {
     "data": {
      "text/plain": [
       "21.0"
      ]
     },
     "execution_count": 29,
     "metadata": {},
     "output_type": "execute_result"
    }
   ],
   "source": [
    "4**3 / 3 - 1 / 3  # analytical integral of x^2 from 1 to 4."
   ]
  },
  {
   "cell_type": "markdown",
   "metadata": {
    "id": "cAwgmZ47Gf2I"
   },
   "source": [
    "To use the quad function, we define a function, and use it as the first argument in the quad function. The quad function returns the integral value, and estimated error.\n",
    "\n"
   ]
  },
  {
   "cell_type": "code",
   "execution_count": 30,
   "metadata": {
    "colab": {
     "base_uri": "https://localhost:8080/"
    },
    "executionInfo": {
     "elapsed": 127,
     "status": "ok",
     "timestamp": 1631019409952,
     "user": {
      "displayName": "John Kitchin",
      "photoUrl": "",
      "userId": "14782011281593705406"
     },
     "user_tz": 240
    },
    "id": "qYrYUy4JGf2J",
    "outputId": "5dc1fd24-7db4-4fb4-b8ae-9228095c79c2"
   },
   "outputs": [
    {
     "data": {
      "text/plain": [
       "(21.000000000000004, 2.331468351712829e-13)"
      ]
     },
     "execution_count": 30,
     "metadata": {},
     "output_type": "execute_result"
    }
   ],
   "source": [
    "def f(x):\n",
    "    return x**2\n",
    "\n",
    "\n",
    "I, e = quad(f, 1, 4)\n",
    "I, e"
   ]
  },
  {
   "cell_type": "markdown",
   "metadata": {
    "id": "1h4lpchWGf2N"
   },
   "source": [
    "We can recompute the volume of a sphere much more precisely, and easily now. Recall $A(x) = \\pi (1 - x^2)$ and that $V = \\int_{-1}^{1} A(x) dx$. Here is the implementation.\n",
    "\n"
   ]
  },
  {
   "cell_type": "code",
   "execution_count": 31,
   "metadata": {
    "colab": {
     "base_uri": "https://localhost:8080/"
    },
    "executionInfo": {
     "elapsed": 128,
     "status": "ok",
     "timestamp": 1631019447939,
     "user": {
      "displayName": "John Kitchin",
      "photoUrl": "",
      "userId": "14782011281593705406"
     },
     "user_tz": 240
    },
    "id": "XZ0ulKErGf2O",
    "outputId": "3819a544-b497-4923-d3ec-90f0b3fdad72"
   },
   "outputs": [
    {
     "data": {
      "text/plain": [
       "(4.1887902047863905, 4.6504913306781755e-14)"
      ]
     },
     "execution_count": 31,
     "metadata": {},
     "output_type": "execute_result"
    }
   ],
   "source": [
    "def cross_section(x):\n",
    "    return np.pi * (1 - x**2)\n",
    "\n",
    "\n",
    "I, err = quad(cross_section, -1, 1)\n",
    "I, err"
   ]
  },
  {
   "cell_type": "code",
   "execution_count": 32,
   "metadata": {
    "colab": {
     "base_uri": "https://localhost:8080/"
    },
    "executionInfo": {
     "elapsed": 117,
     "status": "ok",
     "timestamp": 1631019462308,
     "user": {
      "displayName": "John Kitchin",
      "photoUrl": "",
      "userId": "14782011281593705406"
     },
     "user_tz": 240
    },
    "id": "lglqgtPdVcT5",
    "outputId": "1b03dd01-c401-47b0-cb02-e65b31c98905"
   },
   "outputs": [
    {
     "data": {
      "text/plain": [
       "4.1887902047863905"
      ]
     },
     "execution_count": 32,
     "metadata": {},
     "output_type": "execute_result"
    }
   ],
   "source": [
    "4 / 3 * np.pi"
   ]
  },
  {
   "cell_type": "markdown",
   "metadata": {
    "id": "nZhapZk9Gf2T"
   },
   "source": [
    "We can integrate to infinity.\n",
    "\n",
    "$\\int_{-\\infty}^{\\infty} \\frac{1}{x^2 + 1} = \\pi$.\n",
    "\n",
    "Let us verify this. You can use &plusmn; &infin; as limits.\n",
    "\n"
   ]
  },
  {
   "cell_type": "code",
   "execution_count": 33,
   "metadata": {
    "colab": {
     "base_uri": "https://localhost:8080/"
    },
    "executionInfo": {
     "elapsed": 143,
     "status": "ok",
     "timestamp": 1631019517351,
     "user": {
      "displayName": "John Kitchin",
      "photoUrl": "",
      "userId": "14782011281593705406"
     },
     "user_tz": 240
    },
    "id": "UK-TY4dZGf2T",
    "outputId": "65760072-ba76-41d2-b671-fe8210a901f0"
   },
   "outputs": [
    {
     "data": {
      "text/plain": [
       "(3.141592653589793, 5.155583041103855e-10)"
      ]
     },
     "execution_count": 33,
     "metadata": {},
     "output_type": "execute_result"
    }
   ],
   "source": [
    "def f(x):\n",
    "    return 1 / (x**2 + 1)\n",
    "\n",
    "\n",
    "quad(f, -np.inf, np.inf)"
   ]
  },
  {
   "cell_type": "markdown",
   "metadata": {
    "id": "bn79v7XKGf2Y"
   },
   "source": [
    "Not all integrals are finite. For example\n",
    "\n",
    "$\\int_1^\\infty \\frac{dx}{x} = \\infty$\n",
    "\n",
    "Here we get an IntegrationWarning that a maximum number of subdivisions has been achieved.\n",
    "\n"
   ]
  },
  {
   "cell_type": "code",
   "execution_count": 34,
   "metadata": {
    "colab": {
     "base_uri": "https://localhost:8080/"
    },
    "executionInfo": {
     "elapsed": 127,
     "status": "ok",
     "timestamp": 1631022325237,
     "user": {
      "displayName": "John Kitchin",
      "photoUrl": "",
      "userId": "14782011281593705406"
     },
     "user_tz": 240
    },
    "id": "1jGmwNfVGf2Z",
    "outputId": "82f92c73-29d2-48e6-8c96-45d18d9720f9"
   },
   "outputs": [
    {
     "name": "stdout",
     "output_type": "stream",
     "text": [
      "The answer is 40.996012819169536!!!\n"
     ]
    },
    {
     "name": "stderr",
     "output_type": "stream",
     "text": [
      "<ipython-input-34-879f49e62408>:5: IntegrationWarning: The maximum number of subdivisions (50) has been achieved.\n",
      "  If increasing the limit yields no improvement it is advised to analyze \n",
      "  the integrand in order to determine the difficulties.  If the position of a \n",
      "  local difficulty can be determined (singularity, discontinuity) one will \n",
      "  probably gain from splitting up the interval and calling the integrator \n",
      "  on the subranges.  Perhaps a special-purpose integrator should be used.\n",
      "  Ibad, ebad = quad(f, 1, np.inf)\n"
     ]
    }
   ],
   "source": [
    "def f(x):\n",
    "    return 1 / x\n",
    "\n",
    "\n",
    "Ibad, ebad = quad(f, 1, np.inf)\n",
    "\n",
    "print(f\"The answer is {Ibad}!!!\")"
   ]
  },
  {
   "cell_type": "markdown",
   "metadata": {},
   "source": [
    "```{warning}\n",
    "Computers will often give you a number that is wrong, and they will not always give you a warning or error!\n",
    "\n",
    "It is your job to think critically about the results, and to assess if they make sense or not.\n",
    "```"
   ]
  },
  {
   "cell_type": "markdown",
   "metadata": {
    "id": "8f0dxpNEGf2f"
   },
   "source": [
    "Math is fun though, this subtly different function is integrable:\n",
    "\n"
   ]
  },
  {
   "cell_type": "code",
   "execution_count": 35,
   "metadata": {
    "colab": {
     "base_uri": "https://localhost:8080/"
    },
    "executionInfo": {
     "elapsed": 184,
     "status": "ok",
     "timestamp": 1631019723546,
     "user": {
      "displayName": "John Kitchin",
      "photoUrl": "",
      "userId": "14782011281593705406"
     },
     "user_tz": 240
    },
    "id": "71Wz0zrPGf2g",
    "outputId": "4876ebc2-4e3a-4d16-d0b6-b166e733901f"
   },
   "outputs": [
    {
     "data": {
      "text/plain": [
       "(1.0, 1.1102230246251565e-14)"
      ]
     },
     "execution_count": 35,
     "metadata": {},
     "output_type": "execute_result"
    }
   ],
   "source": [
    "def f(x):\n",
    "    return 1 / x**2\n",
    "\n",
    "\n",
    "quad(f, 1, np.inf)"
   ]
  },
  {
   "cell_type": "markdown",
   "metadata": {
    "id": "Bc0LODpGGf2l"
   },
   "source": [
    "And this function is integrable, despite the singularity at x=0.\n",
    "\n"
   ]
  },
  {
   "cell_type": "code",
   "execution_count": 36,
   "metadata": {
    "colab": {
     "base_uri": "https://localhost:8080/"
    },
    "executionInfo": {
     "elapsed": 125,
     "status": "ok",
     "timestamp": 1631019730320,
     "user": {
      "displayName": "John Kitchin",
      "photoUrl": "",
      "userId": "14782011281593705406"
     },
     "user_tz": 240
    },
    "id": "-3JA-YxAGf2l",
    "outputId": "b99fe732-fe1e-4185-f10b-fd5e4cc66841"
   },
   "outputs": [
    {
     "data": {
      "text/plain": [
       "(1.9999999999999984, 5.773159728050814e-15)"
      ]
     },
     "execution_count": 36,
     "metadata": {},
     "output_type": "execute_result"
    }
   ],
   "source": [
    "def f(x):\n",
    "    return 1 / np.sqrt(x)\n",
    "\n",
    "\n",
    "quad(f, 0, 1)"
   ]
  },
  {
   "cell_type": "markdown",
   "metadata": {
    "id": "dqby57F1Gf2r"
   },
   "source": [
    "## Find the volume of a PFR\n",
    "\n"
   ]
  },
  {
   "cell_type": "markdown",
   "metadata": {
    "id": "LOe-FHxZGf2s"
   },
   "source": [
    "For a single reaction that consumes a species A at a rate of $-r_A = k C_A$, a mole balance leads to an equation for the volume as a function of conversion $X$ as:\n",
    "\n",
    "$V = \\int_0^X \\frac{F_{A_0}}{-r_A(X)} dX$\n",
    "\n",
    "$F_{A_0}$ is the inlet molar flow of species A, which is equal to the inlet concentration times the inlet volumetric flow. The concentration of A in the reactor is a function of the conversion, and is given by  $C_A = C_{A_0} (1 - X)$. If $k = 0.23$ 1/min, $C_{A_0} = 1$ mol/L, and the volumetric flow is 1 L/min, what is the reactor volume required to achieve a conversion of 50%?"
   ]
  },
  {
   "cell_type": "code",
   "execution_count": 37,
   "metadata": {
    "colab": {
     "base_uri": "https://localhost:8080/"
    },
    "executionInfo": {
     "elapsed": 132,
     "status": "ok",
     "timestamp": 1631019903566,
     "user": {
      "displayName": "John Kitchin",
      "photoUrl": "",
      "userId": "14782011281593705406"
     },
     "user_tz": 240
    },
    "id": "l0HmY4RBGf2t",
    "outputId": "c4469444-f201-4dd5-e4f9-2a8c9503a4c4"
   },
   "outputs": [
    {
     "name": "stdout",
     "output_type": "stream",
     "text": [
      "The required volume is 3.014 L\n"
     ]
    }
   ],
   "source": [
    "from scipy.integrate import quad\n",
    "\n",
    "k = 0.23  # 1/min\n",
    "Ca0 = 1.0  # 1 mol / L\n",
    "v0 = 1.0  # L / min\n",
    "\n",
    "Fa0 = v0 * Ca0  # derive molar flow rate\n",
    "\n",
    "\n",
    "def rA(X):\n",
    "    Ca = Ca0 * (1 - X)\n",
    "    return -k * Ca\n",
    "\n",
    "\n",
    "def integrand(X):\n",
    "    return Fa0 / -rA(X)\n",
    "\n",
    "\n",
    "vol, err = quad(integrand, 0, 0.5)\n",
    "print(f\"The required volume is {vol:1.3f} L\")"
   ]
  },
  {
   "cell_type": "markdown",
   "metadata": {},
   "source": [
    "Compare the verbose code above to this condensed code. Which is easier to read and understand?"
   ]
  },
  {
   "cell_type": "code",
   "execution_count": 38,
   "metadata": {
    "colab": {
     "base_uri": "https://localhost:8080/"
    },
    "executionInfo": {
     "elapsed": 148,
     "status": "ok",
     "timestamp": 1631020274172,
     "user": {
      "displayName": "John Kitchin",
      "photoUrl": "",
      "userId": "14782011281593705406"
     },
     "user_tz": 240
    },
    "id": "6hYKZzTiXXKf",
    "outputId": "c8f154fb-7aea-4503-d374-586233d5dd31"
   },
   "outputs": [
    {
     "data": {
      "text/plain": [
       "(3.0136833937388925, 3.3458606926593995e-14)"
      ]
     },
     "execution_count": 38,
     "metadata": {},
     "output_type": "execute_result"
    }
   ],
   "source": [
    "def new_integrand(X):\n",
    "    return Fa0 / (k * Ca0 * (1 - X))\n",
    "\n",
    "\n",
    "quad(new_integrand, 0, 0.5)"
   ]
  },
  {
   "cell_type": "markdown",
   "metadata": {
    "id": "d0IzU_mwGf2y"
   },
   "source": [
    "## Diffusion\n",
    "\n"
   ]
  },
  {
   "cell_type": "markdown",
   "metadata": {
    "id": "yhUyLQPcGf2y"
   },
   "source": [
    "When the surface concentration of a solute is constant, and the solute diffused into a semi-infinite solid, the concentration of the solute in the solid varies with space and time according to:\n",
    "$C_A(x, t) = C_{As} - (C_{As} - C_{A0}) erf\\left(\\frac{x}{\\sqrt{4 D t}}\\right)$.\n",
    "\n",
    "$C_{As}$ is the concentration of the diffusing species at $x=0$, and $C_{A0}$ is the initial concentration of the species in the semi-infinite body.\n",
    "\n",
    "and $erf(x) = \\frac{2}{\\sqrt{\\pi}} \\int_0^x e^{-\\xi^2} d\\xi$\n",
    "\n",
    "This integral arises from the solution to the differential equation describing diffusion. The integral does not have an analytical solution, but it can be solved numerically.\n",
    "\n",
    "Suppose we have a steel sample #1 that initially contains 0.02% Carbon in it, and it is put in contact with another steel containing 1.2% carbon. If the diffusion coefficient of carbon is 1.54e-6 cm^2/s, what will the concentration of carbon in sample #1 be after 24 hours at x = 0.15 cm?\n",
    "\n"
   ]
  },
  {
   "cell_type": "code",
   "execution_count": 39,
   "metadata": {
    "colab": {
     "base_uri": "https://localhost:8080/"
    },
    "executionInfo": {
     "elapsed": 155,
     "status": "ok",
     "timestamp": 1631020561208,
     "user": {
      "displayName": "John Kitchin",
      "photoUrl": "",
      "userId": "14782011281593705406"
     },
     "user_tz": 240
    },
    "id": "5C5hWhBbGf2z",
    "outputId": "c533aa73-4817-4074-96ff-36ce9dca4f64"
   },
   "outputs": [
    {
     "name": "stdout",
     "output_type": "stream",
     "text": [
      "The concentration of carbon at X = 0.15 cm after 24.0 hours is 0.93%.\n"
     ]
    }
   ],
   "source": [
    "Cas = 1.2\n",
    "Ca0 = 0.02\n",
    "D = 1.54e-6  # cm^2/s\n",
    "X = 0.15  # cm\n",
    "t = 24 * 60 * 60  # time in seconds\n",
    "\n",
    "\n",
    "xi = X / np.sqrt(4 * D * t)\n",
    "\n",
    "\n",
    "def erf_integrand(xi):\n",
    "    return 2 / np.sqrt(np.pi) * np.exp(-(xi**2))\n",
    "\n",
    "\n",
    "erfx, err = quad(erf_integrand, 0, xi)\n",
    "\n",
    "Cx = Cas - (Cas - Ca0) * erfx\n",
    "print(\n",
    "    f\"The concentration of carbon at X = {X} cm after {t / 3600} hours is {Cx:1.2f}%.\"\n",
    ")"
   ]
  },
  {
   "cell_type": "code",
   "execution_count": 40,
   "metadata": {
    "colab": {
     "base_uri": "https://localhost:8080/"
    },
    "executionInfo": {
     "elapsed": 125,
     "status": "ok",
     "timestamp": 1631020600325,
     "user": {
      "displayName": "John Kitchin",
      "photoUrl": "",
      "userId": "14782011281593705406"
     },
     "user_tz": 240
    },
    "id": "2DPWQVm3Zwxj",
    "outputId": "f207cd00-55d3-4fc7-8806-77424932634c"
   },
   "outputs": [
    {
     "name": "stdout",
     "output_type": "stream",
     "text": [
      "The concentration of carbon at X = 0.15 cm after 24.0 hours is 0.93%.\n"
     ]
    }
   ],
   "source": [
    "Cas = 1.2 / 100  # This is in actual percent\n",
    "Ca0 = 0.02 / 100\n",
    "D = 1.54e-6  # cm^2/s\n",
    "X = 0.15  # cm\n",
    "t = 24 * 60 * 60  # time in seconds\n",
    "\n",
    "\n",
    "xi = X / np.sqrt(4 * D * t)\n",
    "\n",
    "\n",
    "def erf_integrand(xi):\n",
    "    return 2 / np.sqrt(np.pi) * np.exp(-(xi**2))\n",
    "\n",
    "\n",
    "erfx, err = quad(erf_integrand, 0, xi)\n",
    "\n",
    "Cx = Cas - (Cas - Ca0) * erfx\n",
    "print(\n",
    "    f\"The concentration of carbon at X = {X} cm after {t / 3600} hours is {Cx * 100:1.2f}%.\"\n",
    ")"
   ]
  },
  {
   "cell_type": "markdown",
   "metadata": {
    "id": "2Go6OscKGf24"
   },
   "source": [
    "The [error function](https://en.wikipedia.org/wiki/Error_function), $erf(x)$ is such an important function it is implemented as a special function in scipy.special.\n",
    "\n"
   ]
  },
  {
   "cell_type": "code",
   "execution_count": 41,
   "metadata": {
    "colab": {
     "base_uri": "https://localhost:8080/"
    },
    "executionInfo": {
     "elapsed": 143,
     "status": "ok",
     "timestamp": 1631020785496,
     "user": {
      "displayName": "John Kitchin",
      "photoUrl": "",
      "userId": "14782011281593705406"
     },
     "user_tz": 240
    },
    "id": "7cziFkIOGf24",
    "outputId": "bc3bbca9-d5e7-49c4-c6c3-bc627c9efb13"
   },
   "outputs": [
    {
     "name": "stdout",
     "output_type": "stream",
     "text": [
      "The concentration of carbon at X = 0.15 cm after 24.0 hours is 0.93%.\n"
     ]
    }
   ],
   "source": [
    "from scipy.special import erf\n",
    "\n",
    "Cx_wspecial = Cas - (Cas - Ca0) * erf(xi)\n",
    "print(\n",
    "    f\"The concentration of carbon at X = {X} cm after {t / 3600} hours is {Cx_wspecial*100:1.2f}%.\"\n",
    ")"
   ]
  },
  {
   "cell_type": "markdown",
   "metadata": {
    "id": "mY0vyPjIGf29"
   },
   "source": [
    "# Summary\n",
    "\n"
   ]
  },
  {
   "cell_type": "markdown",
   "metadata": {
    "id": "CnZXDKDwGf2-"
   },
   "source": [
    "The main points of this lecture were on\n",
    "\n",
    "-   Numerical integration of data\n",
    "    -   I recommend you rely on library implementations of the trapezoid method or Simpson's method where possible.\n",
    "    -   `numpy.trapz`, `scipy.integrate.cumtrapz`, and `scipy.integrate.simps`.\n",
    "\n",
    "-   Integration of functions by quadrature\n",
    "    -   quadrature uses a weighted sum of function evaluations to estimate the integrals.\n",
    "    -   I recommend you rely on a library implementation of a quadrature\n",
    "        -   e.g. `scipy.integrate.quad`.\n",
    "        -   These libraries provide sophisticated convergence algorithms and error estimates\n",
    "\n",
    "Next time we will consider using integration to obtain solutions to differential equations.\n",
    "\n"
   ]
  },
  {
   "cell_type": "code",
   "execution_count": 42,
   "metadata": {},
   "outputs": [
    {
     "name": "stdout",
     "output_type": "stream",
     "text": [
      "\n"
     ]
    },
    {
     "data": {
      "text/html": [
       "<style>\n",
       ":root{\n",
       "  --asparagus: #87a878ff;\n",
       "  --terra-cotta: #e26d5aff;\n",
       "  --cyan-process: #5bc0ebff;\n",
       "  --dark-blue-gray: #666a86ff;\n",
       "  --snow: #fffafbff;\n",
       "  --rich-black-fogra-39: #090c08ff;\n",
       "}\n",
       "\n",
       "\n",
       "/* entire container, keeps perspective */\n",
       ".flip-container {\n",
       "\tperspective: 1000px;\n",
       "  touch-action: pinch-zoom pan-y;\n",
       "}\n",
       "\n",
       "\n",
       ".flip-container.flip .flipper {\n",
       "\ttransform: rotateY(180deg)  translateX(-10%);\n",
       "}\n",
       "\n",
       "\n",
       ".flip-container.slide .flipper.frontcard {\n",
       "    filter: brightness(90%);\n",
       "    position:absolute;\n",
       "    z-index: -20;\n",
       "}\n",
       "\n",
       ".flip-container.prepare .flipper.backcard {\n",
       "    opacity:1;\n",
       "    transform:  translateX(20px); \n",
       "    transition: display 0s;\n",
       "}\n",
       "\n",
       "\n",
       ".flip-container.slide .flipper.backcard {\n",
       "    filter: brightness(115%);\n",
       "    height: 360px;\n",
       "    opacity:1;\n",
       "\t  transform:  rotateY(3deg)  translateX(700px) translateZ(20px) scale(1, 1.05) rotate(3deg);\n",
       "    z-index: 20;\n",
       "}\n",
       "\n",
       "\n",
       "\n",
       "\n",
       ".flip-container.slideback .flipper.backcard {\n",
       "    filter: brightness(100%);\n",
       "    opacity: 1;\n",
       "\t  transform: translateX(0px) translateZ(20px) rotateY(0deg);\n",
       "    z-index: 10;\n",
       "}\n",
       "\n",
       ".flip-container.slideback .flipper.frontcard {\n",
       "    filter: brightness(90%);\n",
       "    transform: translateX(0px) translateZ(-20px);\n",
       "    z-index: -10;\n",
       "}\n",
       "\n",
       "\n",
       ".flip-container, .front, .back {\n",
       "\t  height: 300px;\n",
       "\t  width: 640px;\n",
       "}\n",
       "\n",
       ".flipper.frontcard {\n",
       "    position:absolute;\n",
       "\t  transform: translateX(0px) rotateY(0deg) translateZ(20px);\n",
       "    z-index: 10;\n",
       "}\n",
       "\n",
       ".flipper.backcard {\n",
       "    filter: brightness(90%);\n",
       "    opacity:0;\n",
       "    position:absolute;\n",
       "    transform: translateX(0px) translateZ(-20px);\n",
       "    z-index: -10;\n",
       "}\n",
       "\n",
       "\n",
       "\n",
       "\n",
       "/* flip speed goes here */\n",
       ".flipper {\n",
       "    cursor:pointer;\n",
       "\t  height: 200px;\n",
       "    margin-left:20px;\n",
       "\t  position: absolute;\n",
       "    top: 0;\n",
       "\t  transform-style: preserve-3d;\n",
       "\t  transition: 0.6s;\n",
       "    width: 600px;\n",
       "}\n",
       "\n",
       "/* hide back of pane during swap */\n",
       ".front, .back {\n",
       "    -webkit-backface-visibility: hidden;\n",
       "\t  backface-visibility: hidden;\n",
       "\t  left: 0;\n",
       "\t  position: absolute;\n",
       "\t  top: 0;\n",
       "}\n",
       "\n",
       "/* front pane, placed above back */\n",
       ".front {\n",
       "\t  backface-visibility: hidden;\n",
       "    background: var(--asparagus);\n",
       "    transform: rotateY(0deg);\n",
       "\t  z-index: 2;\n",
       "}\n",
       "\n",
       "/* back, initially hidden pane */\n",
       ".back {\n",
       "\t  backface-visibility: hidden;\n",
       "    background: var(--dark-blue-gray);\n",
       "\t  transform: rotateY(180deg);\n",
       "}\n",
       "\n",
       ".next {\n",
       "    color: var(--rich-black-fogra-39);\n",
       "    cursor:pointer;\n",
       "    font-size: 16pt;\n",
       "    left:442pt;\n",
       "    width: 100pt;\n",
       "    height: 22pt;\n",
       "    opacity:0.3;\n",
       "    position:relative; \n",
       "    top:20px;\n",
       "}\n",
       "\n",
       ".next svg {\n",
       "    height:16pt;\n",
       "    width:16pt;\n",
       "    position:relative;\n",
       "    top:-2pt;\n",
       "}\n",
       "\n",
       ".jp-OutputArea-output .next svg {\n",
       "    top: 1pt;\n",
       "}\n",
       "\n",
       ".next.flipped {\n",
       "    opacity:1;\n",
       "}\n",
       "\n",
       ".next.hide {\n",
       "    opacity:0;\n",
       "}\n",
       "\n",
       "\n",
       ".flashcard{\n",
       "    border-radius: 10px;\n",
       "    color: #fafafa;\n",
       "    display:block;\n",
       "    padding:10px;\n",
       "  \n",
       "}\n",
       ".flashcardtext{\n",
       "    color: var(--snow);\n",
       "    font-size: 20pt;\n",
       "    margin-left:3%;\n",
       "    position:absolute;\n",
       "    text-align:center;\n",
       "    top: 50%;\n",
       "    transform: translate(0, -50%);\n",
       "    width:90%;\n",
       "  }\n",
       "\n",
       "</style>"
      ],
      "text/plain": [
       "<IPython.core.display.HTML object>"
      ]
     },
     "metadata": {},
     "output_type": "display_data"
    },
    {
     "data": {
      "text/html": [
       "<div style=\"height:40px\"></div><div class=\"flip-container\" id=\"CgiMFYLMgtqV\" onclick=\"window.flipCard(this)\"></div><div style=\"height:40px\"></div><div class=\"next\" id=\"CgiMFYLMgtqV-next\" onclick=\"window.checkFlip('CgiMFYLMgtqV')\"> </div> <div style=\"height:40px\"></div>"
      ],
      "text/plain": [
       "<IPython.core.display.HTML object>"
      ]
     },
     "metadata": {},
     "output_type": "display_data"
    },
    {
     "data": {
      "application/javascript": [
       "/*!\n",
       " * swiped-events.js - v1.1.4\n",
       " * Pure JavaScript swipe events\n",
       " * https://github.com/john-doherty/swiped-events\n",
       " * @inspiration https://stackoverflow.com/questions/16348031/disable-scrolling-when-touch-moving-certain-element\n",
       " * @author John Doherty <www.johndoherty.info>\n",
       " * @license MIT\n",
       " */\n",
       "!function(t,e){\"use strict\";\"function\"!=typeof t.CustomEvent&&(t.CustomEvent=function(t,n){n=n||{bubbles:!1,cancelable:!1,detail:void 0};var a=e.createEvent(\"CustomEvent\");return a.initCustomEvent(t,n.bubbles,n.cancelable,n.detail),a},t.CustomEvent.prototype=t.Event.prototype),e.addEventListener(\"touchstart\",function(t){if(\"true\"===t.target.getAttribute(\"data-swipe-ignore\"))return;s=t.target,r=Date.now(),n=t.touches[0].clientX,a=t.touches[0].clientY,u=0,i=0},!1),e.addEventListener(\"touchmove\",function(t){if(!n||!a)return;var e=t.touches[0].clientX,r=t.touches[0].clientY;u=n-e,i=a-r},!1),e.addEventListener(\"touchend\",function(t){if(s!==t.target)return;var e=parseInt(l(s,\"data-swipe-threshold\",\"20\"),10),o=parseInt(l(s,\"data-swipe-timeout\",\"500\"),10),c=Date.now()-r,d=\"\",p=t.changedTouches||t.touches||[];Math.abs(u)>Math.abs(i)?Math.abs(u)>e&&c<o&&(d=u>0?\"swiped-left\":\"swiped-right\"):Math.abs(i)>e&&c<o&&(d=i>0?\"swiped-up\":\"swiped-down\");if(\"\"!==d){var b={dir:d.replace(/swiped-/,\"\"),xStart:parseInt(n,10),xEnd:parseInt((p[0]||{}).clientX||-1,10),yStart:parseInt(a,10),yEnd:parseInt((p[0]||{}).clientY||-1,10)};s.dispatchEvent(new CustomEvent(\"swiped\",{bubbles:!0,cancelable:!0,detail:b})),s.dispatchEvent(new CustomEvent(d,{bubbles:!0,cancelable:!0,detail:b}))}n=null,a=null,r=null},!1);var n=null,a=null,u=null,i=null,r=null,s=null;function l(t,n,a){for(;t&&t!==e.documentElement;){var u=t.getAttribute(n);if(u)return u;t=t.parentNode}return a}}(window,document);\n",
       "\n",
       "function jaxify(string) {\n",
       "    var mystring = string;\n",
       "    console.log(mystring);\n",
       "\n",
       "    var count = 0;\n",
       "    var loc = mystring.search(/([^\\\\]|^)(\\$)/);\n",
       "\n",
       "    var count2 = 0;\n",
       "    var loc2 = mystring.search(/([^\\\\]|^)(\\$\\$)/);\n",
       "\n",
       "    //console.log(loc);\n",
       "\n",
       "    while ((loc >= 0) || (loc2 >= 0)) {\n",
       "\n",
       "        /* Have to replace all the double $$ first with current implementation */\n",
       "        if (loc2 >= 0) {\n",
       "            if (count2 % 2 == 0) {\n",
       "                mystring = mystring.replace(/([^\\\\]|^)(\\$\\$)/, \"$1\\\\[\");\n",
       "            } else {\n",
       "                mystring = mystring.replace(/([^\\\\]|^)(\\$\\$)/, \"$1\\\\]\");\n",
       "            }\n",
       "            count2++;\n",
       "        } else {\n",
       "            if (count % 2 == 0) {\n",
       "                mystring = mystring.replace(/([^\\\\]|^)(\\$)/, \"$1\\\\(\");\n",
       "            } else {\n",
       "                mystring = mystring.replace(/([^\\\\]|^)(\\$)/, \"$1\\\\)\");\n",
       "            }\n",
       "            count++;\n",
       "        }\n",
       "        loc = mystring.search(/([^\\\\]|^)(\\$)/);\n",
       "        loc2 = mystring.search(/([^\\\\]|^)(\\$\\$)/);\n",
       "        //console.log(mystring,\", loc:\",loc,\", loc2:\",loc2);\n",
       "    }\n",
       "\n",
       "    //console.log(mystring);\n",
       "    return mystring;\n",
       "}\n",
       "\n",
       "window.flipCard = function flipCard(ths) {\n",
       "    console.log(ths);\n",
       "    console.log(ths.id);\n",
       "    ths.classList.toggle(\"flip\"); \n",
       "    var next=document.getElementById(ths.id+'-next');\n",
       "    next.style.pointerEvents='none';\n",
       "    next.classList.add('flipped');\n",
       "    if (typeof MathJax != 'undefined') {\n",
       "        var version = MathJax.version;\n",
       "        console.log('MathJax version', version);\n",
       "        if (version[0] == \"2\") {\n",
       "            MathJax.Hub.Queue([\"Typeset\", MathJax.Hub]);\n",
       "        } else if (version[0] == \"3\") {\n",
       "            MathJax.typeset([ths]);\n",
       "        }\n",
       "    } else {\n",
       "        console.log('MathJax not detected');\n",
       "    }\n",
       "\n",
       "\n",
       "    setTimeout(reenableNext, 700, next);\n",
       "}\n",
       "\n",
       "function reenableNext(next) {\n",
       "    next.style.pointerEvents='auto';\n",
       "}\n",
       "\n",
       "\n",
       "\n",
       "function slide2(containerId) {\n",
       "    var container = document.getElementById(containerId);\n",
       "    var next=document.getElementById(containerId+'-next');\n",
       "    var frontcard = container.children[0];\n",
       "    var backcard = container.children[1];\n",
       "    container.style.pointerEvents='none';\n",
       "    //backcard.style.pointerEvents='none';\n",
       "    next.style.pointerEvents='none';\n",
       "    next.classList.remove('flipped');\n",
       "    next.classList.add('hide');\n",
       "\n",
       "    //container.classList.add(\"prepare\");\n",
       "    \n",
       "    container.className=\"flip-container slide\";\n",
       "    backcard.parentElement.removeChild(frontcard);\n",
       "    backcard.parentElement.appendChild(frontcard);\n",
       "    setTimeout(slideback, 600, container, frontcard, backcard, next);\n",
       "    \n",
       "}\n",
       "\n",
       "\n",
       "window.checkFlip = function checkFlip(containerId) {\n",
       "    var container = document.getElementById(containerId);\n",
       "\n",
       "\n",
       "    if (container.classList.contains('flip')) {\n",
       "        container.classList.remove('flip');\n",
       "        setTimeout(slide2, 600, containerId);\n",
       "    } \n",
       "    else {\n",
       "        slide2(containerId);\n",
       "    }\n",
       "}\n",
       "\n",
       "\n",
       "function slideback(container, frontcard, backcard, next) {\n",
       "    container.className=\"flip-container slideback\";\n",
       "    setTimeout(cleanup, 600, container, frontcard, backcard, next);\n",
       "}\n",
       "\n",
       "function cleanup(container, frontcard, backcard, next) {\n",
       "    container.removeChild(frontcard);\n",
       "    backcard.className=\"flipper frontcard\";\n",
       "    container.className=\"flip-container\";\n",
       "\n",
       "    var cardnum=parseInt(container.dataset.cardnum);\n",
       "    var cards=eval('cards'+container.id);\n",
       "    var flipper=createOneCard(container, false, cards, cardnum);\n",
       "    container.append(flipper);\n",
       "    cardnum= (cardnum+1) % parseInt(container.dataset.numCards);\n",
       "    container.dataset.cardnum=cardnum;\n",
       "    if (cardnum != 1){\n",
       "        next.innerHTML=\"Next >\";\n",
       "    } else {\n",
       "        //next.innerHTML=\"Reload \\\\(\\\\circlearrowleft\\\\) \";\n",
       "        next.innerHTML='Reload <svg xmlns=\"http://www.w3.org/2000/svg\" xmlns:xlink=\"http://www.w3.org/1999/xlink\" viewbox=\"0 0 25 26\"> <path d=\"M7,6a10,10,0,1,0,9,0\" style=\"fill:none;stroke:black;stroke-width:2px\" id=\"e2_circleArc\"/> <line id=\"e3_line\" x1=\"17\" y1=\"6.5\" x2=\"17.5\" y2=\"15\" style=\"stroke:black;fill:none;stroke-width:2px\"/> <line id=\"e4_line\" x1=\"16.5\" y1=\"6.5\" x2=\"26\" y2=\"8\" style=\"stroke:black;fill:none;stroke-width:2px\"/> </svg> '\n",
       "        if (typeof MathJax != 'undefined') {\n",
       "            var version = MathJax.version;\n",
       "            console.log('MathJax version', version);\n",
       "            if (version[0] == \"2\") {\n",
       "                MathJax.Hub.Queue([\"Typeset\", MathJax.Hub]);\n",
       "            } else if (version[0] == \"3\") {\n",
       "                MathJax.typeset([next]);\n",
       "            }\n",
       "        } else {\n",
       "            console.log('MathJax not detected');\n",
       "        }\n",
       "\n",
       "\n",
       "    }\n",
       "\n",
       "    if (typeof MathJax != 'undefined') {\n",
       "        var version = MathJax.version;\n",
       "        console.log('MathJax version', version);\n",
       "        if (version[0] == \"2\") {\n",
       "            MathJax.Hub.Queue([\"Typeset\", MathJax.Hub]);\n",
       "        } else if (version[0] == \"3\") {\n",
       "            MathJax.typeset();\n",
       "        }\n",
       "    } else {\n",
       "        console.log('MathJax not detected');\n",
       "    }\n",
       "\n",
       "\n",
       "    next.style.pointerEvents='auto';\n",
       "    container.style.pointerEvents='auto';\n",
       "    next.classList.remove('hide');\n",
       "    container.addEventListener('swiped-left', function(e) {\n",
       "        /*\n",
       "          console.log(e.detail);\n",
       "          console.log(id);\n",
       "        */\n",
       "        checkFlip(container.id);\n",
       "    }, {once: true });\n",
       "\n",
       "\n",
       "}\n",
       "\n",
       "\n",
       "function createOneCard  (mydiv, frontCard, cards, cardnum) {\n",
       "    var colors=[\n",
       "        '--asparagus',\n",
       "        '--terra-cotta',\n",
       "        '--cyan-process'\n",
       "    ]\n",
       "\n",
       "    var flipper = document.createElement('div');\n",
       "    if (frontCard){\n",
       "        flipper.className=\"flipper frontcard\";    \n",
       "    }\n",
       "    else {\n",
       "        flipper.className=\"flipper backcard\";   \n",
       "    }\n",
       "\n",
       "    var front = document.createElement('div');\n",
       "    front.className='front flashcard';\n",
       "\n",
       "    var frontSpan= document.createElement('span');\n",
       "    frontSpan.className='flashcardtext';\n",
       "    frontSpan.innerHTML=jaxify(cards[cardnum]['front']);\n",
       "    //frontSpan.textContent=jaxify(cards[cardnum]['front']);\n",
       "    front.style.background='var(' + colors[cardnum % colors.length] + ')';\n",
       "\n",
       "\n",
       "    front.append(frontSpan);\n",
       "    flipper.append(front);\n",
       "\n",
       "    var back = document.createElement('div');\n",
       "    back.className='back flashcard';\n",
       "\n",
       "    var backSpan= document.createElement('span');\n",
       "    backSpan.className='flashcardtext';\n",
       "    backSpan.innerHTML=jaxify(cards[cardnum]['back']);\n",
       "    back.append(backSpan);\n",
       "\n",
       "    flipper.append(back);\n",
       "\n",
       "    return flipper;\n",
       "\n",
       "}\n",
       "\n",
       "\n",
       "\n",
       "\n",
       "\n",
       "function createCards(id) {\n",
       "    console.log(id);\n",
       "    \n",
       "    var mydiv=document.getElementById(id);\n",
       "    \n",
       "    var cards=eval('cards'+id);\n",
       "    mydiv.dataset.cardnum=0;\n",
       "    mydiv.dataset.numCards=cards.length;\n",
       "    mydiv.addEventListener('swiped-left', function(e) {\n",
       "        /*\n",
       "          console.log(e.detail);\n",
       "          console.log(id);\n",
       "        */\n",
       "        checkFlip(id);\n",
       "    }, {once: true});\n",
       "\n",
       "    var cardnum=0;\n",
       "    \n",
       "    for (var i=0; i<2; i++) {\n",
       "    \n",
       "        var flipper;\n",
       "        if (i==0){\n",
       "            flipper=createOneCard(mydiv, true, cards, cardnum);\n",
       "        }\n",
       "        else {\n",
       "            flipper=createOneCard(mydiv, false, cards, cardnum);\n",
       "        }\n",
       "\n",
       "        mydiv.append(flipper);\n",
       "        if (typeof MathJax != 'undefined') {\n",
       "            var version = MathJax.version;\n",
       "            if (typeof version == 'undefined') {\n",
       "                setTimeout(function(){\n",
       "                    var version = MathJax.version;\n",
       "                    console.log('After sleep, MathJax version', version);\n",
       "                    if (version[0] == \"2\") {\n",
       "                        MathJax.Hub.Queue([\"Typeset\", MathJax.Hub]);\n",
       "                    } else if (version[0] == \"3\") {\n",
       "                        MathJax.typeset([flipper]);\n",
       "                    }\n",
       "                }, 500);\n",
       "            } else{\n",
       "                console.log('MathJax version', version);\n",
       "                if (version[0] == \"2\") {\n",
       "                    MathJax.Hub.Queue([\"Typeset\", MathJax.Hub]);\n",
       "                } else if (version[0] == \"3\") {\n",
       "                    MathJax.typeset([flipper]);\n",
       "                }\n",
       "            }\n",
       "        } else {\n",
       "            console.log('MathJax not detected');\n",
       "        }\n",
       "\n",
       "\n",
       "        cardnum = (cardnum + 1) % mydiv.dataset.numCards;\n",
       "    }\n",
       "    mydiv.dataset.cardnum = cardnum;\n",
       "\n",
       "    var next=document.getElementById(id+'-next');\n",
       "    if (cards.length==1) {\n",
       "        // Don't show next if no other cards!\n",
       "        next.style.pointerEvents='none';\n",
       "        next.classList.add('hide');\n",
       "    } else {\n",
       "        next.innerHTML=\"Next >\";\n",
       "    }\n",
       "\n",
       "    return flipper;\n",
       "}\n",
       "\n",
       "\n",
       "\n",
       "\n",
       "\n",
       "var cardsCgiMFYLMgtqV=[\n",
       "    {\n",
       "        \"front\": \"np.trapz\",\n",
       "        \"back\": \"Trapezoid method for data integration\"\n",
       "    },\n",
       "    {\n",
       "        \"front\": \"scipy.integrate.simps\",\n",
       "        \"back\": \"Simpson's method for data integration\"\n",
       "    },\n",
       "    {\n",
       "        \"front\": \"scipy.integrate.cumtrapz\",\n",
       "        \"back\": \"Cumulative data integration\"\n",
       "    },\n",
       "    {\n",
       "        \"front\": \"scipy.integrate.quad\",\n",
       "        \"back\": \"Gaussian quadrature to integrate functions<br>Returns integrand, error estimate\"\n",
       "    }\n",
       "];\n",
       "    \n",
       "        createCards(\"CgiMFYLMgtqV\");\n",
       "        "
      ],
      "text/plain": [
       "<IPython.core.display.Javascript object>"
      ]
     },
     "metadata": {},
     "output_type": "display_data"
    }
   ],
   "source": [
    "# review some commands from today\n",
    "from jupytercards import display_flashcards\n",
    "display_flashcards('flash.json')"
   ]
  },
  {
   "cell_type": "code",
   "execution_count": 43,
   "metadata": {},
   "outputs": [
    {
     "name": "stdout",
     "output_type": "stream",
     "text": [
      "\n"
     ]
    },
    {
     "data": {
      "text/html": [
       "<div id=\"eEXIjfaGnNLX\" data-shufflequestions=\"False\"\n",
       "               data-shuffleanswers=\"True\"\n",
       "               data-preserveresponses=\"false\"\n",
       "               data-numquestions=\"1000000\"> <style>:root {\n",
       "    --medium-slate-blue: #6f78ffff;\n",
       "    --orange-pantone: #f75c03ff;\n",
       "    --russian-violet: #392061ff;\n",
       "    --maximum-yellow-red: #ffc857ff;\n",
       "    --viridian-green: #119da4ff;\n",
       "    --incorrect-red: #c80202;\n",
       "    --correct-green: #009113;\n",
       "}\n",
       "\n",
       ".Quiz {\n",
       "    max-width: 600px;\n",
       "    margin-top: 15px;\n",
       "    margin-left: auto;\n",
       "    margin-right: auto;\n",
       "    margin-bottom: 15px;\n",
       "    padding-bottom: 4px;\n",
       "    padding-top: 4px;\n",
       "    line-height: 1.1;\n",
       "    font-size: 16pt;\n",
       "}\n",
       "\n",
       ".QuizCode {\n",
       "    font-size: 14pt;\n",
       "    margin-top: 10px;\n",
       "    margin-left: 20px;\n",
       "    margin-right: 20px;\n",
       "}\n",
       "\n",
       ".QuizCode>pre {\n",
       "    padding: 4px;\n",
       "}\n",
       "\n",
       ".Answer {\n",
       "    margin: 10px 0;\n",
       "    display: grid;\n",
       "    grid-template-columns: auto auto;\n",
       "    grid-gap: 10px;\n",
       "}\n",
       "\n",
       ".Feedback {\n",
       "    font-size: 16pt;\n",
       "    text-align: center;\n",
       "    min-height: 2em;\n",
       "}\n",
       "\n",
       ".Input {\n",
       "    align: left;\n",
       "    font-size: 20pt;\n",
       "}\n",
       "\n",
       ".Input-text {\n",
       "    display: block;\n",
       "    margin: 10px;\n",
       "    color: inherit;\n",
       "    width: 140px;\n",
       "    background-color: #c0c0c0;\n",
       "    color: #fff;\n",
       "    padding: 5px;\n",
       "    padding-left: 10px;\n",
       "    font-family: inherit;\n",
       "    font-size: 20px;\n",
       "    font-weight: inherit;\n",
       "    line-height: 20pt;\n",
       "    border: none;\n",
       "    border-radius: 0.2rem;\n",
       "    transition: box-shadow 0.1s);\n",
       "}\n",
       "\n",
       ".Input-text:focus {\n",
       "    outline: none;\n",
       "    background-color: #c0c0c0;\n",
       "    box-shadow: 0.6rem 0.8rem 1.4rem -0.5rem #999999;\n",
       "}\n",
       "\n",
       ".MCButton {\n",
       "    background: #fafafa;\n",
       "    border: 1px solid #eee;\n",
       "    border-radius: 10px;\n",
       "    padding: 10px;\n",
       "    font-size: 16px;\n",
       "    cursor: pointer;\n",
       "    text-align: center;\n",
       "}\n",
       "\n",
       ".MCButton p {\n",
       "    color: inherit;\n",
       "}\n",
       "\n",
       ".MultipleChoiceQn {\n",
       "    padding: 10px;\n",
       "    background: var(--medium-slate-blue);\n",
       "    color: #fafafa;\n",
       "    border-radius: 10px;\n",
       "}\n",
       "\n",
       ".ManyChoiceQn {\n",
       "    padding: 10px;\n",
       "    background: var(--orange-pantone);\n",
       "    color: #fafafa;\n",
       "    border-radius: 10px;\n",
       "}\n",
       "\n",
       ".NumericQn {\n",
       "    padding: 10px;\n",
       "    background: var(--russian-violet);\n",
       "    color: #fafafa;\n",
       "    border-radius: 10px;\n",
       "}\n",
       "\n",
       ".NumericQn p {\n",
       "    color: inherit;\n",
       "}\n",
       "\n",
       ".InpLabel {\n",
       "    line-height: 34px;\n",
       "    float: left;\n",
       "    margin-right: 10px;\n",
       "    color: #101010;\n",
       "    font-size: 15pt;\n",
       "}\n",
       "\n",
       ".incorrect {\n",
       "    color: var(--incorrect-red);\n",
       "}\n",
       "\n",
       ".correct {\n",
       "    color: var(--correct-green);\n",
       "}\n",
       "\n",
       ".correctButton {\n",
       "    /*\n",
       "    background: var(--correct-green);\n",
       "   */\n",
       "    animation: correct-anim 0.6s ease;\n",
       "    animation-fill-mode: forwards;\n",
       "    color: #fafafa;\n",
       "    box-shadow: inset 0px 0px 5px #555555;\n",
       "    outline: none;\n",
       "}\n",
       "\n",
       ".incorrectButton {\n",
       "    animation: incorrect-anim 0.8s ease;\n",
       "    animation-fill-mode: forwards;\n",
       "    color: #fafafa;\n",
       "    box-shadow: inset 0px 0px 5px #555555;\n",
       "    outline: none;\n",
       "}\n",
       "\n",
       "@keyframes incorrect-anim {\n",
       "    100% {\n",
       "        background-color: var(--incorrect-red);\n",
       "    }\n",
       "}\n",
       "\n",
       "@keyframes correct-anim {\n",
       "    100% {\n",
       "        background-color: var(--correct-green);\n",
       "    }\n",
       "}</style>"
      ],
      "text/plain": [
       "<IPython.core.display.HTML object>"
      ]
     },
     "metadata": {},
     "output_type": "display_data"
    },
    {
     "data": {
      "application/javascript": [
       "var questionseEXIjfaGnNLX=[\n",
       "  {\n",
       "    \"question\": \"Which is the correct argument in matplotlib to plot data using black circles connected with a solid line?\",\n",
       "    \"type\": \"multiple_choice\",\n",
       "    \"answers\": [\n",
       "      {\n",
       "        \"answer\": \"ko-\",\n",
       "        \"correct\": true\n",
       "      },\n",
       "      {\n",
       "        \"answer\": \"bo-\",\n",
       "        \"correct\": false\n",
       "      },\n",
       "      {\n",
       "        \"answer\": \"blo-\",\n",
       "        \"correct\": false\n",
       "      },\n",
       "      {\n",
       "        \"answer\": \"bko-\",\n",
       "        \"correct\": false\n",
       "      }\n",
       "    ],\n",
       "    \"tag\": \"matplotlib\",\n",
       "    \"lecture_file\": \"02_integration_1\"\n",
       "  },\n",
       "  {\n",
       "    \"question\": \"<p>What will be the output of the following code:</p><br><p><pre>x = np.array([4, 3, 2, 1])<br>for I in x:<br>    print(I)</pre></p>\",\n",
       "    \"type\": \"multiple_choice\",\n",
       "    \"answers\": [\n",
       "      {\n",
       "        \"answer\": \"error\",\n",
       "        \"correct\": false\n",
       "      },\n",
       "      {\n",
       "        \"answer\": \"4, 3, 2, 1\",\n",
       "        \"correct\": true\n",
       "      },\n",
       "      {\n",
       "        \"answer\": \"1, 2, 3, 4\",\n",
       "        \"correct\": false\n",
       "      },\n",
       "      {\n",
       "        \"answer\": \"I, I, I, I\",\n",
       "        \"correct\": false\n",
       "      }\n",
       "    ],\n",
       "    \"tag\": \"arrays\",\n",
       "    \"lecture_file\": \"02_integration_1\"\n",
       "  },\n",
       "  {\n",
       "    \"question\": \"Which of the following will give an error?\",\n",
       "    \"type\": \"multiple_choice\",\n",
       "    \"answers\": [\n",
       "      {\n",
       "        \"answer\": \"np.trapz(y)\",\n",
       "        \"correct\": false\n",
       "      },\n",
       "      {\n",
       "        \"answer\": \"np.trapz(y, x, 2)\",\n",
       "        \"correct\": false\n",
       "      },\n",
       "      {\n",
       "        \"answer\": \"np.trapz(y, None)\",\n",
       "        \"correct\": false\n",
       "      },\n",
       "      {\n",
       "        \"answer\": \"np.trapz(y, None, None)\",\n",
       "        \"correct\": true\n",
       "      }\n",
       "    ],\n",
       "    \"tag\": \"numpy\",\n",
       "    \"lecture_file\": \"02_integration_1\"\n",
       "  },\n",
       "  {\n",
       "    \"question\": \"np.trapz() returns a \",\n",
       "    \"type\": \"multiple_choice\",\n",
       "    \"answers\": [\n",
       "      {\n",
       "        \"answer\": \"int\",\n",
       "        \"correct\": false\n",
       "      },\n",
       "      {\n",
       "        \"answer\": \"float\",\n",
       "        \"correct\": true\n",
       "      },\n",
       "      {\n",
       "        \"answer\": \"array\",\n",
       "        \"correct\": false\n",
       "      },\n",
       "      {\n",
       "        \"answer\": \"depends on the input\",\n",
       "        \"correct\": false\n",
       "      }\n",
       "    ],\n",
       "    \"tag\": \"numpy\",\n",
       "    \"lecture_file\": \"02_integration_1\"\n",
       "  },\n",
       "  {\n",
       "    \"question\": \"Simpson's method for integration requires \",\n",
       "    \"type\": \"multiple_choice\",\n",
       "    \"answers\": [\n",
       "      {\n",
       "        \"answer\": \"even number of samples\",\n",
       "        \"correct\": false\n",
       "      },\n",
       "      {\n",
       "        \"answer\": \"odd number of intervals\",\n",
       "        \"correct\": false\n",
       "      },\n",
       "      {\n",
       "        \"answer\": \"even number of intervals\",\n",
       "        \"correct\": true\n",
       "      },\n",
       "      {\n",
       "        \"answer\": \"all of the above\",\n",
       "        \"correct\": false\n",
       "      }\n",
       "    ],\n",
       "    \"tag\": \"scipy\",\n",
       "    \"lecture_file\": \"02_integration_1\"\n",
       "  },\n",
       "  {\n",
       "    \"question\": \"In using scipy.integrate.simps, for unequally spaced points\",\n",
       "    \"type\": \"multiple_choice\",\n",
       "    \"answers\": [\n",
       "      {\n",
       "        \"answer\": \"the result cannot be exact\",\n",
       "        \"correct\": false\n",
       "      },\n",
       "      {\n",
       "        \"answer\": \"the result is always exact\",\n",
       "        \"correct\": false\n",
       "      },\n",
       "      {\n",
       "        \"answer\": \"the result is exact only if the target function is of order of 3 or more\",\n",
       "        \"correct\": false\n",
       "      },\n",
       "      {\n",
       "        \"answer\": \"the result is exact only if the target function is of order of 2 or less\",\n",
       "        \"correct\": true\n",
       "      }\n",
       "    ],\n",
       "    \"tag\": \"scipy\",\n",
       "    \"lecture_file\": \"02_integration_1\"\n",
       "  },\n",
       "  {\n",
       "    \"question\": \"<p>The correct way to use scipy.integrate.quad to integrate the following function is:<br><code>def f(x, p):<br>    return 2*x - p</code></p>\",\n",
       "    \"type\": \"multiple_choice\",\n",
       "    \"answers\": [\n",
       "      {\n",
       "        \"answer\": \"quad(f, x, y, p)\",\n",
       "        \"correct\": true\n",
       "      },\n",
       "      {\n",
       "        \"answer\": \"quad(f(,p), y, x)\",\n",
       "        \"correct\": false\n",
       "      },\n",
       "      {\n",
       "        \"answer\": \"quad(f(x, p), y, x)\",\n",
       "        \"correct\": false\n",
       "      },\n",
       "      {\n",
       "        \"answer\": \"quad(f, y=1, x = 4, p)\",\n",
       "        \"correct\": false\n",
       "      }\n",
       "    ],\n",
       "    \"tag\": \"scipy\",\n",
       "    \"lecture_file\": \"02_integration_1\"\n",
       "  },\n",
       "  {\n",
       "    \"question\": \"Which of the following gives an error\",\n",
       "    \"type\": \"multiple_choice\",\n",
       "    \"answers\": [\n",
       "      {\n",
       "        \"answer\": \"ans = quad(f, 0, 4)\",\n",
       "        \"correct\": false\n",
       "      },\n",
       "      {\n",
       "        \"answer\": \"ans, = quad(f, 0, 4)\",\n",
       "        \"correct\": true\n",
       "      },\n",
       "      {\n",
       "        \"answer\": \"ans, err = quad(f, 0, 4)\",\n",
       "        \"correct\": false\n",
       "      },\n",
       "      {\n",
       "        \"answer\": \"ans, _ = quad(f, 0, 4)\",\n",
       "        \"correct\": false\n",
       "      }\n",
       "    ],\n",
       "    \"tag\": \"scipy\",\n",
       "    \"lecture_file\": \"02_integration_1\"\n",
       "  },\n",
       "  {\n",
       "    \"question\": \"For x = np.array([1, 2, 3, 4, 5]), what is x[-2]\",\n",
       "    \"type\": \"multiple_choice\",\n",
       "    \"answers\": [\n",
       "      {\n",
       "        \"answer\": \"-1\",\n",
       "        \"correct\": false\n",
       "      },\n",
       "      {\n",
       "        \"answer\": \"1\",\n",
       "        \"correct\": false\n",
       "      },\n",
       "      {\n",
       "        \"answer\": \"4\",\n",
       "        \"correct\": true\n",
       "      },\n",
       "      {\n",
       "        \"answer\": \"5\",\n",
       "        \"correct\": false\n",
       "      }\n",
       "    ],\n",
       "    \"tag\": \"arrays\",\n",
       "    \"lecture_file\": \"02_integration_1\"\n",
       "  },\n",
       "  {\n",
       "    \"question\": \"For x = np.array([1, 2, 3, 4, 5]), what is x[::-1]\",\n",
       "    \"type\": \"multiple_choice\",\n",
       "    \"answers\": [\n",
       "      {\n",
       "        \"answer\": \"array([5])\",\n",
       "        \"correct\": false\n",
       "      },\n",
       "      {\n",
       "        \"answer\": \"array([5, 4, ,3, 2, 1])\",\n",
       "        \"correct\": true\n",
       "      },\n",
       "      {\n",
       "        \"answer\": \"array([5, 5, 5, 5, 5 ])\",\n",
       "        \"correct\": false\n",
       "      },\n",
       "      {\n",
       "        \"answer\": \"array([-1])\",\n",
       "        \"correct\": false\n",
       "      }\n",
       "    ],\n",
       "    \"tag\": \"arrays\",\n",
       "    \"lecture_file\": \"02_integration_1\"\n",
       "  }\n",
       "]\n",
       ";\n",
       "    // Make a random ID\n",
       "function makeid(length) {\n",
       "    var result = [];\n",
       "    var characters = 'ABCDEFGHIJKLMNOPQRSTUVWXYZabcdefghijklmnopqrstuvwxyz';\n",
       "    var charactersLength = characters.length;\n",
       "    for (var i = 0; i < length; i++) {\n",
       "        result.push(characters.charAt(Math.floor(Math.random() * charactersLength)));\n",
       "    }\n",
       "    return result.join('');\n",
       "}\n",
       "\n",
       "// Choose a random subset of an array. Can also be used to shuffle the array\n",
       "function getRandomSubarray(arr, size) {\n",
       "    var shuffled = arr.slice(0), i = arr.length, temp, index;\n",
       "    while (i--) {\n",
       "        index = Math.floor((i + 1) * Math.random());\n",
       "        temp = shuffled[index];\n",
       "        shuffled[index] = shuffled[i];\n",
       "        shuffled[i] = temp;\n",
       "    }\n",
       "    return shuffled.slice(0, size);\n",
       "}\n",
       "\n",
       "function printResponses(responsesContainer) {\n",
       "    var responses=JSON.parse(responsesContainer.dataset.responses);\n",
       "    var stringResponses='<B>IMPORTANT!</B>To preserve this answer sequence for submission, when you have finalized your answers: <ol> <li> Copy the text in this cell below \"Answer String\"</li> <li> Double click on the cell directly below the Answer String, labeled \"Replace Me\"</li> <li> Select the whole \"Replace Me\" text</li> <li> Paste in your answer string and press shift-Enter.</li><li>Save the notebook using the save icon or File->Save Notebook menu item</li></ul><br><br><br><b>Answer String:</b><br> ';\n",
       "    console.log(responses);\n",
       "    responses.forEach((response, index) => {\n",
       "        if (response) {\n",
       "            console.log(index + ': ' + response);\n",
       "            stringResponses+= index + ': ' + response +\"<BR>\";\n",
       "        }\n",
       "    });\n",
       "    responsesContainer.innerHTML=stringResponses;\n",
       "}\n",
       "function check_mc() {\n",
       "    var id = this.id.split('-')[0];\n",
       "    //var response = this.id.split('-')[1];\n",
       "    //console.log(response);\n",
       "    //console.log(\"In check_mc(), id=\"+id);\n",
       "    //console.log(event.srcElement.id)           \n",
       "    //console.log(event.srcElement.dataset.correct)   \n",
       "    //console.log(event.srcElement.dataset.feedback)\n",
       "\n",
       "    var label = event.srcElement;\n",
       "    //console.log(label, label.nodeName);\n",
       "    var depth = 0;\n",
       "    while ((label.nodeName != \"LABEL\") && (depth < 20)) {\n",
       "        label = label.parentElement;\n",
       "        console.log(depth, label);\n",
       "        depth++;\n",
       "    }\n",
       "\n",
       "\n",
       "\n",
       "    var answers = label.parentElement.children;\n",
       "\n",
       "    //console.log(answers);\n",
       "\n",
       "\n",
       "    // Split behavior based on multiple choice vs many choice:\n",
       "    var fb = document.getElementById(\"fb\" + id);\n",
       "\n",
       "\n",
       "\n",
       "\n",
       "    if (fb.dataset.numcorrect == 1) {\n",
       "        // What follows is for the saved responses stuff\n",
       "        var outerContainer = fb.parentElement.parentElement;\n",
       "        var responsesContainer = document.getElementById(\"responses\" + outerContainer.id);\n",
       "        if (responsesContainer) {\n",
       "            //console.log(responsesContainer);\n",
       "            var response = label.firstChild.innerText;\n",
       "            if (label.querySelector(\".QuizCode\")){\n",
       "                response+= label.querySelector(\".QuizCode\").firstChild.innerText;\n",
       "            }\n",
       "            console.log(response);\n",
       "            //console.log(document.getElementById(\"quizWrap\"+id));\n",
       "            var qnum = document.getElementById(\"quizWrap\"+id).dataset.qnum;\n",
       "            console.log(\"Question \" + qnum);\n",
       "            //console.log(id, \", got numcorrect=\",fb.dataset.numcorrect);\n",
       "            var responses=JSON.parse(responsesContainer.dataset.responses);\n",
       "            console.log(responses);\n",
       "            responses[qnum]= response;\n",
       "            responsesContainer.setAttribute('data-responses', JSON.stringify(responses));\n",
       "            printResponses(responsesContainer);\n",
       "        }\n",
       "        // End code to preserve responses\n",
       "        \n",
       "        for (var i = 0; i < answers.length; i++) {\n",
       "            var child = answers[i];\n",
       "            //console.log(child);\n",
       "            child.className = \"MCButton\";\n",
       "        }\n",
       "\n",
       "\n",
       "\n",
       "        if (label.dataset.correct == \"true\") {\n",
       "            // console.log(\"Correct action\");\n",
       "            if (\"feedback\" in label.dataset) {\n",
       "                fb.textContent = jaxify(label.dataset.feedback);\n",
       "            } else {\n",
       "                fb.textContent = \"Correct!\";\n",
       "            }\n",
       "            label.classList.add(\"correctButton\");\n",
       "\n",
       "            fb.className = \"Feedback\";\n",
       "            fb.classList.add(\"correct\");\n",
       "\n",
       "        } else {\n",
       "            if (\"feedback\" in label.dataset) {\n",
       "                fb.textContent = jaxify(label.dataset.feedback);\n",
       "            } else {\n",
       "                fb.textContent = \"Incorrect -- try again.\";\n",
       "            }\n",
       "            //console.log(\"Error action\");\n",
       "            label.classList.add(\"incorrectButton\");\n",
       "            fb.className = \"Feedback\";\n",
       "            fb.classList.add(\"incorrect\");\n",
       "        }\n",
       "    }\n",
       "    else {\n",
       "        var reset = false;\n",
       "        var feedback;\n",
       "         if (label.dataset.correct == \"true\") {\n",
       "            if (\"feedback\" in label.dataset) {\n",
       "                feedback = jaxify(label.dataset.feedback);\n",
       "            } else {\n",
       "                feedback = \"Correct!\";\n",
       "            }\n",
       "            if (label.dataset.answered <= 0) {\n",
       "                if (fb.dataset.answeredcorrect < 0) {\n",
       "                    fb.dataset.answeredcorrect = 1;\n",
       "                    reset = true;\n",
       "                } else {\n",
       "                    fb.dataset.answeredcorrect++;\n",
       "                }\n",
       "                if (reset) {\n",
       "                    for (var i = 0; i < answers.length; i++) {\n",
       "                        var child = answers[i];\n",
       "                        child.className = \"MCButton\";\n",
       "                        child.dataset.answered = 0;\n",
       "                    }\n",
       "                }\n",
       "                label.classList.add(\"correctButton\");\n",
       "                label.dataset.answered = 1;\n",
       "                fb.className = \"Feedback\";\n",
       "                fb.classList.add(\"correct\");\n",
       "\n",
       "            }\n",
       "        } else {\n",
       "            if (\"feedback\" in label.dataset) {\n",
       "                feedback = jaxify(label.dataset.feedback);\n",
       "            } else {\n",
       "                feedback = \"Incorrect -- try again.\";\n",
       "            }\n",
       "            if (fb.dataset.answeredcorrect > 0) {\n",
       "                fb.dataset.answeredcorrect = -1;\n",
       "                reset = true;\n",
       "            } else {\n",
       "                fb.dataset.answeredcorrect--;\n",
       "            }\n",
       "\n",
       "            if (reset) {\n",
       "                for (var i = 0; i < answers.length; i++) {\n",
       "                    var child = answers[i];\n",
       "                    child.className = \"MCButton\";\n",
       "                    child.dataset.answered = 0;\n",
       "                }\n",
       "            }\n",
       "            label.classList.add(\"incorrectButton\");\n",
       "            fb.className = \"Feedback\";\n",
       "            fb.classList.add(\"incorrect\");\n",
       "        }\n",
       "        // What follows is for the saved responses stuff\n",
       "        var outerContainer = fb.parentElement.parentElement;\n",
       "        var responsesContainer = document.getElementById(\"responses\" + outerContainer.id);\n",
       "        if (responsesContainer) {\n",
       "            //console.log(responsesContainer);\n",
       "            var response = label.firstChild.innerText;\n",
       "            if (label.querySelector(\".QuizCode\")){\n",
       "                response+= label.querySelector(\".QuizCode\").firstChild.innerText;\n",
       "            }\n",
       "            console.log(response);\n",
       "            //console.log(document.getElementById(\"quizWrap\"+id));\n",
       "            var qnum = document.getElementById(\"quizWrap\"+id).dataset.qnum;\n",
       "            console.log(\"Question \" + qnum);\n",
       "            //console.log(id, \", got numcorrect=\",fb.dataset.numcorrect);\n",
       "            var responses=JSON.parse(responsesContainer.dataset.responses);\n",
       "            if (label.dataset.correct == \"true\") {\n",
       "                if (typeof(responses[qnum]) == \"object\"){\n",
       "                    if (!responses[qnum].includes(response))\n",
       "                        responses[qnum].push(response);\n",
       "                } else{\n",
       "                    responses[qnum]= [ response ];\n",
       "                }\n",
       "            } else {\n",
       "                responses[qnum]= response;\n",
       "            }\n",
       "            console.log(responses);\n",
       "            responsesContainer.setAttribute('data-responses', JSON.stringify(responses));\n",
       "            printResponses(responsesContainer);\n",
       "        }\n",
       "        // End save responses stuff\n",
       "\n",
       "\n",
       "\n",
       "        var numcorrect = fb.dataset.numcorrect;\n",
       "        var answeredcorrect = fb.dataset.answeredcorrect;\n",
       "        if (answeredcorrect >= 0) {\n",
       "            fb.textContent = feedback + \" [\" + answeredcorrect + \"/\" + numcorrect + \"]\";\n",
       "        } else {\n",
       "            fb.textContent = feedback + \" [\" + 0 + \"/\" + numcorrect + \"]\";\n",
       "        }\n",
       "\n",
       "\n",
       "    }\n",
       "\n",
       "    if (typeof MathJax != 'undefined') {\n",
       "        var version = MathJax.version;\n",
       "        console.log('MathJax version', version);\n",
       "        if (version[0] == \"2\") {\n",
       "            MathJax.Hub.Queue([\"Typeset\", MathJax.Hub]);\n",
       "        } else if (version[0] == \"3\") {\n",
       "            MathJax.typeset([fb]);\n",
       "        }\n",
       "    } else {\n",
       "        console.log('MathJax not detected');\n",
       "    }\n",
       "\n",
       "}\n",
       "\n",
       "function make_mc(qa, shuffle_answers, outerqDiv, qDiv, aDiv, id) {\n",
       "    var shuffled;\n",
       "    if (shuffle_answers == \"True\") {\n",
       "        //console.log(shuffle_answers+\" read as true\");\n",
       "        shuffled = getRandomSubarray(qa.answers, qa.answers.length);\n",
       "    } else {\n",
       "        //console.log(shuffle_answers+\" read as false\");\n",
       "        shuffled = qa.answers;\n",
       "    }\n",
       "\n",
       "\n",
       "    var num_correct = 0;\n",
       "\n",
       "\n",
       "\n",
       "    shuffled.forEach((item, index, ans_array) => {\n",
       "        //console.log(answer);\n",
       "\n",
       "        // Make input element\n",
       "        var inp = document.createElement(\"input\");\n",
       "        inp.type = \"radio\";\n",
       "        inp.id = \"quizo\" + id + index;\n",
       "        inp.style = \"display:none;\";\n",
       "        aDiv.append(inp);\n",
       "\n",
       "        //Make label for input element\n",
       "        var lab = document.createElement(\"label\");\n",
       "        lab.className = \"MCButton\";\n",
       "        lab.id = id + '-' + index;\n",
       "        lab.onclick = check_mc;\n",
       "        var aSpan = document.createElement('span');\n",
       "        aSpan.classsName = \"\";\n",
       "        //qDiv.id=\"quizQn\"+id+index;\n",
       "        if (\"answer\" in item) {\n",
       "            aSpan.innerHTML = jaxify(item.answer);\n",
       "            //aSpan.innerHTML=item.answer;\n",
       "        }\n",
       "        lab.append(aSpan);\n",
       "\n",
       "        // Create div for code inside question\n",
       "        var codeSpan;\n",
       "        if (\"code\" in item) {\n",
       "            codeSpan = document.createElement('span');\n",
       "            codeSpan.id = \"code\" + id + index;\n",
       "            codeSpan.className = \"QuizCode\";\n",
       "            var codePre = document.createElement('pre');\n",
       "            codeSpan.append(codePre);\n",
       "            var codeCode = document.createElement('code');\n",
       "            codePre.append(codeCode);\n",
       "            codeCode.innerHTML = item.code;\n",
       "            lab.append(codeSpan);\n",
       "            //console.log(codeSpan);\n",
       "        }\n",
       "\n",
       "        //lab.textContent=item.answer;\n",
       "\n",
       "        // Set the data attributes for the answer\n",
       "        lab.setAttribute('data-correct', item.correct);\n",
       "        if (item.correct) {\n",
       "            num_correct++;\n",
       "        }\n",
       "        if (\"feedback\" in item) {\n",
       "            lab.setAttribute('data-feedback', item.feedback);\n",
       "        }\n",
       "        lab.setAttribute('data-answered', 0);\n",
       "\n",
       "        aDiv.append(lab);\n",
       "\n",
       "    });\n",
       "\n",
       "    if (num_correct > 1) {\n",
       "        outerqDiv.className = \"ManyChoiceQn\";\n",
       "    } else {\n",
       "        outerqDiv.className = \"MultipleChoiceQn\";\n",
       "    }\n",
       "\n",
       "    return num_correct;\n",
       "\n",
       "}\n",
       "function check_numeric(ths, event) {\n",
       "\n",
       "    if (event.keyCode === 13) {\n",
       "        ths.blur();\n",
       "\n",
       "        var id = ths.id.split('-')[0];\n",
       "\n",
       "        var submission = ths.value;\n",
       "        if (submission.indexOf('/') != -1) {\n",
       "            var sub_parts = submission.split('/');\n",
       "            //console.log(sub_parts);\n",
       "            submission = sub_parts[0] / sub_parts[1];\n",
       "        }\n",
       "        //console.log(\"Reader entered\", submission);\n",
       "\n",
       "        if (\"precision\" in ths.dataset) {\n",
       "            var precision = ths.dataset.precision;\n",
       "            // console.log(\"1:\", submission)\n",
       "            submission = Math.round((1 * submission + Number.EPSILON) * 10 ** precision) / 10 ** precision;\n",
       "            // console.log(\"Rounded to \", submission, \" precision=\", precision  );\n",
       "        }\n",
       "\n",
       "\n",
       "        //console.log(\"In check_numeric(), id=\"+id);\n",
       "        //console.log(event.srcElement.id)           \n",
       "        //console.log(event.srcElement.dataset.feedback)\n",
       "\n",
       "        var fb = document.getElementById(\"fb\" + id);\n",
       "        fb.style.display = \"none\";\n",
       "        fb.textContent = \"Incorrect -- try again.\";\n",
       "\n",
       "        var answers = JSON.parse(ths.dataset.answers);\n",
       "        //console.log(answers);\n",
       "\n",
       "        var defaultFB = \"\";\n",
       "        var correct;\n",
       "        var done = false;\n",
       "        answers.every(answer => {\n",
       "            //console.log(answer.type);\n",
       "\n",
       "            correct = false;\n",
       "            // if (answer.type==\"value\"){\n",
       "            if ('value' in answer) {\n",
       "                if (submission == answer.value) {\n",
       "                    fb.textContent = jaxify(answer.feedback);\n",
       "                    correct = answer.correct;\n",
       "                    //console.log(answer.correct);\n",
       "                    done = true;\n",
       "                }\n",
       "                // } else if (answer.type==\"range\") {\n",
       "            } else if ('range' in answer) {\n",
       "                //console.log(answer.range);\n",
       "                if ((submission >= answer.range[0]) && (submission < answer.range[1])) {\n",
       "                    fb.textContent = jaxify(answer.feedback);\n",
       "                    correct = answer.correct;\n",
       "                    //console.log(answer.correct);\n",
       "                    done = true;\n",
       "                }\n",
       "            } else if (answer.type == \"default\") {\n",
       "                defaultFB = answer.feedback;\n",
       "            }\n",
       "            if (done) {\n",
       "                return false; // Break out of loop if this has been marked correct\n",
       "            } else {\n",
       "                return true; // Keep looking for case that includes this as a correct answer\n",
       "            }\n",
       "        });\n",
       "\n",
       "        if ((!done) && (defaultFB != \"\")) {\n",
       "            fb.innerHTML = jaxify(defaultFB);\n",
       "            //console.log(\"Default feedback\", defaultFB);\n",
       "        }\n",
       "\n",
       "        fb.style.display = \"block\";\n",
       "        if (correct) {\n",
       "            ths.className = \"Input-text\";\n",
       "            ths.classList.add(\"correctButton\");\n",
       "            fb.className = \"Feedback\";\n",
       "            fb.classList.add(\"correct\");\n",
       "        } else {\n",
       "            ths.className = \"Input-text\";\n",
       "            ths.classList.add(\"incorrectButton\");\n",
       "            fb.className = \"Feedback\";\n",
       "            fb.classList.add(\"incorrect\");\n",
       "        }\n",
       "\n",
       "        // What follows is for the saved responses stuff\n",
       "        var outerContainer = fb.parentElement.parentElement;\n",
       "        var responsesContainer = document.getElementById(\"responses\" + outerContainer.id);\n",
       "        if (responsesContainer) {\n",
       "            console.log(submission);\n",
       "            var qnum = document.getElementById(\"quizWrap\"+id).dataset.qnum;\n",
       "            //console.log(\"Question \" + qnum);\n",
       "            //console.log(id, \", got numcorrect=\",fb.dataset.numcorrect);\n",
       "            var responses=JSON.parse(responsesContainer.dataset.responses);\n",
       "            console.log(responses);\n",
       "            if (submission == ths.value){\n",
       "                responses[qnum]= submission;\n",
       "            } else {\n",
       "                responses[qnum]= ths.value + \"(\" + submission +\")\";\n",
       "            }\n",
       "            responsesContainer.setAttribute('data-responses', JSON.stringify(responses));\n",
       "            printResponses(responsesContainer);\n",
       "        }\n",
       "        // End code to preserve responses\n",
       "\n",
       "        if (typeof MathJax != 'undefined') {\n",
       "            var version = MathJax.version;\n",
       "            console.log('MathJax version', version);\n",
       "            if (version[0] == \"2\") {\n",
       "                MathJax.Hub.Queue([\"Typeset\", MathJax.Hub]);\n",
       "            } else if (version[0] == \"3\") {\n",
       "                MathJax.typeset([fb]);\n",
       "            }\n",
       "        } else {\n",
       "            console.log('MathJax not detected');\n",
       "        }\n",
       "        return false;\n",
       "    }\n",
       "\n",
       "}\n",
       "\n",
       "function isValid(el, charC) {\n",
       "    //console.log(\"Input char: \", charC);\n",
       "    if (charC == 46) {\n",
       "        if (el.value.indexOf('.') === -1) {\n",
       "            return true;\n",
       "        } else if (el.value.indexOf('/') != -1) {\n",
       "            var parts = el.value.split('/');\n",
       "            if (parts[1].indexOf('.') === -1) {\n",
       "                return true;\n",
       "            }\n",
       "        }\n",
       "        else {\n",
       "            return false;\n",
       "        }\n",
       "    } else if (charC == 47) {\n",
       "        if (el.value.indexOf('/') === -1) {\n",
       "            if ((el.value != \"\") && (el.value != \".\")) {\n",
       "                return true;\n",
       "            } else {\n",
       "                return false;\n",
       "            }\n",
       "        } else {\n",
       "            return false;\n",
       "        }\n",
       "    } else if (charC == 45) {\n",
       "        var edex = el.value.indexOf('e');\n",
       "        if (edex == -1) {\n",
       "            edex = el.value.indexOf('E');\n",
       "        }\n",
       "\n",
       "        if (el.value == \"\") {\n",
       "            return true;\n",
       "        } else if (edex == (el.value.length - 1)) { // If just after e or E\n",
       "            return true;\n",
       "        } else {\n",
       "            return false;\n",
       "        }\n",
       "    } else if (charC == 101) { // \"e\"\n",
       "        if ((el.value.indexOf('e') === -1) && (el.value.indexOf('E') === -1) && (el.value.indexOf('/') == -1)) {\n",
       "            // Prev symbol must be digit or decimal point:\n",
       "            if (el.value.slice(-1).search(/\\d/) >= 0) {\n",
       "                return true;\n",
       "            } else if (el.value.slice(-1).search(/\\./) >= 0) {\n",
       "                return true;\n",
       "            } else {\n",
       "                return false;\n",
       "            }\n",
       "        } else {\n",
       "            return false;\n",
       "        }\n",
       "    } else {\n",
       "        if (charC > 31 && (charC < 48 || charC > 57))\n",
       "            return false;\n",
       "    }\n",
       "    return true;\n",
       "}\n",
       "\n",
       "function numeric_keypress(evnt) {\n",
       "    var charC = (evnt.which) ? evnt.which : evnt.keyCode;\n",
       "\n",
       "    if (charC == 13) {\n",
       "        check_numeric(this, evnt);\n",
       "    } else {\n",
       "        return isValid(this, charC);\n",
       "    }\n",
       "}\n",
       "\n",
       "\n",
       "\n",
       "\n",
       "\n",
       "function make_numeric(qa, outerqDiv, qDiv, aDiv, id) {\n",
       "\n",
       "\n",
       "\n",
       "    //console.log(answer);\n",
       "\n",
       "\n",
       "    outerqDiv.className = \"NumericQn\";\n",
       "    aDiv.style.display = 'block';\n",
       "\n",
       "    var lab = document.createElement(\"label\");\n",
       "    lab.className = \"InpLabel\";\n",
       "    lab.textContent = \"Type numeric answer here:\";\n",
       "    aDiv.append(lab);\n",
       "\n",
       "    var inp = document.createElement(\"input\");\n",
       "    inp.type = \"text\";\n",
       "    //inp.id=\"input-\"+id;\n",
       "    inp.id = id + \"-0\";\n",
       "    inp.className = \"Input-text\";\n",
       "    inp.setAttribute('data-answers', JSON.stringify(qa.answers));\n",
       "    if (\"precision\" in qa) {\n",
       "        inp.setAttribute('data-precision', qa.precision);\n",
       "    }\n",
       "    aDiv.append(inp);\n",
       "    //console.log(inp);\n",
       "\n",
       "    //inp.addEventListener(\"keypress\", check_numeric);\n",
       "    //inp.addEventListener(\"keypress\", numeric_keypress);\n",
       "    /*\n",
       "    inp.addEventListener(\"keypress\", function(event) {\n",
       "        return numeric_keypress(this, event);\n",
       "    }\n",
       "                        );\n",
       "                        */\n",
       "    //inp.onkeypress=\"return numeric_keypress(this, event)\";\n",
       "    inp.onkeypress = numeric_keypress;\n",
       "    inp.onpaste = event => false;\n",
       "\n",
       "    inp.addEventListener(\"focus\", function (event) {\n",
       "        this.value = \"\";\n",
       "        return false;\n",
       "    }\n",
       "    );\n",
       "\n",
       "\n",
       "}\n",
       "function jaxify(string) {\n",
       "    var mystring = string;\n",
       "\n",
       "    var count = 0;\n",
       "    var loc = mystring.search(/([^\\\\]|^)(\\$)/);\n",
       "\n",
       "    var count2 = 0;\n",
       "    var loc2 = mystring.search(/([^\\\\]|^)(\\$\\$)/);\n",
       "\n",
       "    //console.log(loc);\n",
       "\n",
       "    while ((loc >= 0) || (loc2 >= 0)) {\n",
       "\n",
       "        /* Have to replace all the double $$ first with current implementation */\n",
       "        if (loc2 >= 0) {\n",
       "            if (count2 % 2 == 0) {\n",
       "                mystring = mystring.replace(/([^\\\\]|^)(\\$\\$)/, \"$1\\\\[\");\n",
       "            } else {\n",
       "                mystring = mystring.replace(/([^\\\\]|^)(\\$\\$)/, \"$1\\\\]\");\n",
       "            }\n",
       "            count2++;\n",
       "        } else {\n",
       "            if (count % 2 == 0) {\n",
       "                mystring = mystring.replace(/([^\\\\]|^)(\\$)/, \"$1\\\\(\");\n",
       "            } else {\n",
       "                mystring = mystring.replace(/([^\\\\]|^)(\\$)/, \"$1\\\\)\");\n",
       "            }\n",
       "            count++;\n",
       "        }\n",
       "        loc = mystring.search(/([^\\\\]|^)(\\$)/);\n",
       "        loc2 = mystring.search(/([^\\\\]|^)(\\$\\$)/);\n",
       "        //console.log(mystring,\", loc:\",loc,\", loc2:\",loc2);\n",
       "    }\n",
       "\n",
       "    //console.log(mystring);\n",
       "    return mystring;\n",
       "}\n",
       "\n",
       "\n",
       "function show_questions(json, mydiv) {\n",
       "    console.log('show_questions');\n",
       "    //var mydiv=document.getElementById(myid);\n",
       "    var shuffle_questions = mydiv.dataset.shufflequestions;\n",
       "    var num_questions = mydiv.dataset.numquestions;\n",
       "    var shuffle_answers = mydiv.dataset.shuffleanswers;\n",
       "\n",
       "    if (num_questions > json.length) {\n",
       "        num_questions = json.length;\n",
       "    }\n",
       "\n",
       "    var questions;\n",
       "    if ((num_questions < json.length) || (shuffle_questions == \"True\")) {\n",
       "        //console.log(num_questions+\",\"+json.length);\n",
       "        questions = getRandomSubarray(json, num_questions);\n",
       "    } else {\n",
       "        questions = json;\n",
       "    }\n",
       "\n",
       "    //console.log(\"SQ: \"+shuffle_questions+\", NQ: \" + num_questions + \", SA: \", shuffle_answers);\n",
       "\n",
       "    // Iterate over questions\n",
       "    questions.forEach((qa, index, array) => {\n",
       "        //console.log(qa.question); \n",
       "\n",
       "        var id = makeid(8);\n",
       "        //console.log(id);\n",
       "\n",
       "\n",
       "        // Create Div to contain question and answers\n",
       "        var iDiv = document.createElement('div');\n",
       "        //iDiv.id = 'quizWrap' + id + index;\n",
       "        iDiv.id = 'quizWrap' + id;\n",
       "        iDiv.className = 'Quiz';\n",
       "        iDiv.setAttribute('data-qnum', index);\n",
       "        mydiv.appendChild(iDiv);\n",
       "        // iDiv.innerHTML=qa.question;\n",
       "\n",
       "        var outerqDiv = document.createElement('div');\n",
       "        outerqDiv.id = \"OuterquizQn\" + id + index;\n",
       "\n",
       "        iDiv.append(outerqDiv);\n",
       "\n",
       "        // Create div to contain question part\n",
       "        var qDiv = document.createElement('div');\n",
       "        qDiv.id = \"quizQn\" + id + index;\n",
       "        //qDiv.textContent=qa.question;\n",
       "        qDiv.innerHTML = jaxify(qa.question);\n",
       "\n",
       "        outerqDiv.append(qDiv);\n",
       "\n",
       "        // Create div for code inside question\n",
       "        var codeDiv;\n",
       "        if (\"code\" in qa) {\n",
       "            codeDiv = document.createElement('div');\n",
       "            codeDiv.id = \"code\" + id + index;\n",
       "            codeDiv.className = \"QuizCode\";\n",
       "            var codePre = document.createElement('pre');\n",
       "            codeDiv.append(codePre);\n",
       "            var codeCode = document.createElement('code');\n",
       "            codePre.append(codeCode);\n",
       "            codeCode.innerHTML = qa.code;\n",
       "            outerqDiv.append(codeDiv);\n",
       "            //console.log(codeDiv);\n",
       "        }\n",
       "\n",
       "\n",
       "        // Create div to contain answer part\n",
       "        var aDiv = document.createElement('div');\n",
       "        aDiv.id = \"quizAns\" + id + index;\n",
       "        aDiv.className = 'Answer';\n",
       "        iDiv.append(aDiv);\n",
       "\n",
       "        //console.log(qa.type);\n",
       "\n",
       "        var num_correct;\n",
       "        if (qa.type == \"multiple_choice\") {\n",
       "            num_correct = make_mc(qa, shuffle_answers, outerqDiv, qDiv, aDiv, id);\n",
       "        } else if (qa.type == \"many_choice\") {\n",
       "            num_correct = make_mc(qa, shuffle_answers, outerqDiv, qDiv, aDiv, id);\n",
       "        } else if (qa.type == \"numeric\") {\n",
       "            //console.log(\"numeric\");\n",
       "            make_numeric(qa, outerqDiv, qDiv, aDiv, id);\n",
       "        }\n",
       "\n",
       "\n",
       "        //Make div for feedback\n",
       "        var fb = document.createElement(\"div\");\n",
       "        fb.id = \"fb\" + id;\n",
       "        //fb.style=\"font-size: 20px;text-align:center;\";\n",
       "        fb.className = \"Feedback\";\n",
       "        fb.setAttribute(\"data-answeredcorrect\", 0);\n",
       "        fb.setAttribute(\"data-numcorrect\", num_correct);\n",
       "        iDiv.append(fb);\n",
       "\n",
       "\n",
       "    });\n",
       "    var preserveResponses = mydiv.dataset.preserveresponses;\n",
       "    console.log(preserveResponses);\n",
       "    console.log(preserveResponses == \"true\");\n",
       "    if (preserveResponses == \"true\") {\n",
       "        console.log(preserveResponses);\n",
       "        // Create Div to contain record of answers\n",
       "        var iDiv = document.createElement('div');\n",
       "        iDiv.id = 'responses' + mydiv.id;\n",
       "        iDiv.className = 'JCResponses';\n",
       "        // Create a place to store responses as an empty array\n",
       "        iDiv.setAttribute('data-responses', '[]');\n",
       "\n",
       "        // Dummy Text\n",
       "        iDiv.innerHTML=\"<b>Select your answers and then follow the directions that will appear here.</b>\"\n",
       "        //iDiv.className = 'Quiz';\n",
       "        mydiv.appendChild(iDiv);\n",
       "    }\n",
       "//console.log(\"At end of show_questions\");\n",
       "    if (typeof MathJax != 'undefined') {\n",
       "        console.log(\"MathJax version\", MathJax.version);\n",
       "        var version = MathJax.version;\n",
       "        setTimeout(function(){\n",
       "            var version = MathJax.version;\n",
       "            console.log('After sleep, MathJax version', version);\n",
       "            if (version[0] == \"2\") {\n",
       "                MathJax.Hub.Queue([\"Typeset\", MathJax.Hub]);\n",
       "            } else if (version[0] == \"3\") {\n",
       "                MathJax.typeset([mydiv]);\n",
       "            }\n",
       "        }, 500);\n",
       "if (typeof version == 'undefined') {\n",
       "        } else\n",
       "        {\n",
       "            if (version[0] == \"2\") {\n",
       "                MathJax.Hub.Queue([\"Typeset\", MathJax.Hub]);\n",
       "            } else if (version[0] == \"3\") {\n",
       "                MathJax.typeset([mydiv]);\n",
       "            } else {\n",
       "                console.log(\"MathJax not found\");\n",
       "            }\n",
       "        }\n",
       "    }\n",
       "    return false;\n",
       "}\n",
       "\n",
       "        {\n",
       "        show_questions(questionseEXIjfaGnNLX,  eEXIjfaGnNLX);\n",
       "        }\n",
       "        "
      ],
      "text/plain": [
       "<IPython.core.display.Javascript object>"
      ]
     },
     "metadata": {},
     "output_type": "display_data"
    }
   ],
   "source": [
    "from jupyterquiz import display_quiz\n",
    "display_quiz('.quiz.json')"
   ]
  },
  {
   "cell_type": "code",
   "execution_count": null,
   "metadata": {},
   "outputs": [],
   "source": []
  }
 ],
 "metadata": {
  "colab": {
   "collapsed_sections": [],
   "name": "02-integration-1.ipynb",
   "provenance": []
  },
  "kernelspec": {
   "display_name": "Python 3",
   "language": "python",
   "name": "python3"
  },
  "language_info": {
   "codemirror_mode": {
    "name": "ipython",
    "version": 3
   },
   "file_extension": ".py",
   "mimetype": "text/x-python",
   "name": "python",
   "nbconvert_exporter": "python",
   "pygments_lexer": "ipython3",
   "version": "3.9.7"
  },
  "org": {
   "KEYWORDS": "integration, trapz, cumtrapz, quad"
  },
  "widgets": {
   "application/vnd.jupyter.widget-state+json": {
    "state": {},
    "version_major": 2,
    "version_minor": 0
   }
  }
 },
 "nbformat": 4,
 "nbformat_minor": 4
}
