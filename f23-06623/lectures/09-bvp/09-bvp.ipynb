{
 "cells": [
  {
   "cell_type": "markdown",
   "metadata": {
    "id": "Se7N4ritLxA0"
   },
   "source": [
    "[TOC](../toc.ipynb)\n",
    "\n",
    "Boundary Value Problems in differential equations\n",
    "=================================================\n",
    "\n",
    "- KEYWORDS: scipy.integrate.solve_bvp, numpy.polyfit\n"
   ]
  },
  {
   "cell_type": "markdown",
   "metadata": {
    "id": "0-2UcGuBxhVo"
   },
   "source": [
    "![image](https://www.simiode.org/app/site/media/Humor/CS172712_hi-deferentialequations.jpg)"
   ]
  },
  {
   "cell_type": "markdown",
   "metadata": {
    "id": "OX_x007xkdYS"
   },
   "source": [
    "So far we have focused on *initial value* ordinary differential equations. That means all the initial conditions are defined at the *same* independent variable value. \n",
    "\n",
    "Sometimes that is not the case, and the initial conditions are defined at *different* independent variable values. These problems are called *boundary value* problems, because we only know part of the solution at different boundaries.\n",
    "\n",
    "We cannot solve these directly with `solve_ivp`, we need some different approaches."
   ]
  },
  {
   "cell_type": "markdown",
   "metadata": {
    "id": "kRWOdhYPLxA4"
   },
   "source": [
    "## Solving nonlinear BVPs by finite differences\n",
    "\n"
   ]
  },
  {
   "cell_type": "markdown",
   "metadata": {},
   "source": [
    "Adapted from Example 8.7 in <span class=\"underline\">Numerical Methods in Engineering with Python</span> by Jaan Kiusalaas.\n",
    "\n",
    "We want to solve $y''(x) = -3 y(x) y'(x)$ with $y(0) = 0$ and $y(2) = 1$."
   ]
  },
  {
   "cell_type": "markdown",
   "metadata": {},
   "source": [
    "![image.png](bvp-fd.png)"
   ]
  },
  {
   "cell_type": "markdown",
   "metadata": {
    "id": "iLgHYpaELxA7"
   },
   "source": [
    "\n",
    "\n",
    "This is a boundary value problem *not an initial value problem*. First we consider using a finite difference method. We discretize the region and approximate the derivatives as:\n",
    "\n",
    "$y''(x) \\approx \\frac{y_{i-1} - 2 y_i + y_{i+1}}{h^2} $\n",
    "\n",
    "$y'(x) \\approx \\frac{y_{i+1} - y_{i-1}}{2 h} $\n",
    "\n",
    "We define a function $y''(x) = F(x, y, y')$. At each node in our discretized region, we will have an equation that looks like $y''(x) - F(x, y, y') = 0$, which will be nonlinear in the unknown solution $y$. The set of equations to solve is:\n",
    "\n",
    "\\begin{eqnarray}\n",
    "y_0 - \\alpha &=& 0 \\\\\n",
    "\\frac{y_{i-1} - 2 y_i + y_{i+1}}{h^2} + (3 y_i) \\left(\\frac{y_{i+1} - y_{i-1}}{2 h}\\right) &=& 0 \\\\\n",
    "y_L - \\beta &=&0\n",
    "\\end{eqnarray}\n",
    "\n",
    "Since we use a nonlinear solver, we will have to provide an initial guess to the solution. We will in this case assume a line. In other cases, a bad initial guess may lead to no solution.\n",
    "\n",
    "Let's pause and ask how many equations do we get, what are the unknowns, and how many are there?"
   ]
  },
  {
   "cell_type": "markdown",
   "metadata": {},
   "source": [
    "![image.png](bvp-2.png)"
   ]
  },
  {
   "cell_type": "markdown",
   "metadata": {},
   "source": [
    "Note in this case the boundary conditions can be independently solved. This is not always the case though, so we leave this in the general form. If you add more points to the discretization, you get more unknowns, and an equal number of new equations."
   ]
  },
  {
   "cell_type": "code",
   "execution_count": 1,
   "metadata": {
    "id": "89a_84vXLxA-"
   },
   "outputs": [],
   "source": [
    "import numpy as np\n",
    "from scipy.optimize import root\n",
    "import matplotlib.pyplot as plt\n",
    "\n",
    "x1 = 0.0\n",
    "x2 = 2.0\n",
    "\n",
    "alpha = 0.0\n",
    "beta = 1.0"
   ]
  },
  {
   "cell_type": "markdown",
   "metadata": {
    "id": "OPPw2c0eLxBQ"
   },
   "source": [
    "We need to specify a grid of points to discretize the solution on. We will start with a small grid because it is easy to visualize, but note that the grid spacing determines how good the approximation to the derivative is, so we will have to return here to see what the impact of our spacing is.\n",
    "\n"
   ]
  },
  {
   "cell_type": "code",
   "execution_count": 2,
   "metadata": {
    "colab": {
     "base_uri": "https://localhost:8080/"
    },
    "executionInfo": {
     "elapsed": 408,
     "status": "ok",
     "timestamp": 1633437623958,
     "user": {
      "displayName": "John Kitchin",
      "photoUrl": "https://lh3.googleusercontent.com/a/default-user=s64",
      "userId": "14782011281593705406"
     },
     "user_tz": 240
    },
    "id": "lWmTMzjXLxBS",
    "outputId": "592a9f2d-f32b-4c57-eb70-08d7d7e9a966"
   },
   "outputs": [
    {
     "data": {
      "text/plain": [
       "(array([0.        , 0.22222222, 0.44444444, 0.66666667, 0.88888889,\n",
       "        1.11111111, 1.33333333, 1.55555556, 1.77777778, 2.        ]),\n",
       " 0.2222222222222222)"
      ]
     },
     "execution_count": 2,
     "metadata": {},
     "output_type": "execute_result"
    }
   ],
   "source": [
    "N = 10\n",
    "X, h = np.linspace(x1, x2, N, retstep=True)\n",
    "X, h"
   ]
  },
  {
   "cell_type": "markdown",
   "metadata": {
    "id": "j2wpaNjvLxBe"
   },
   "source": [
    "Now, we can define functions for the differential equation, and for the nonlinear equations.\n",
    "\n"
   ]
  },
  {
   "cell_type": "code",
   "execution_count": 3,
   "metadata": {
    "id": "eDyv1rP5LxBg"
   },
   "outputs": [],
   "source": [
    "def residuals(y):\n",
    "    \"When we have the right values of y, this function will be zero.\"\n",
    "\n",
    "    res = np.zeros(y.shape)  # we need a zero for each node\n",
    "\n",
    "    res[0] = y[0] - alpha  # this is the boundary value y(alpha) = 0\n",
    "\n",
    "    for i in range(1, N - 1):\n",
    "        x = X[i]  # we don't actually need this, but this is the current x-point\n",
    "\n",
    "        # Approximation of y'' from the current point\n",
    "        YPP = (y[i - 1] - 2 * y[i] + y[i + 1]) / h**2\n",
    "\n",
    "        # Approximation of y'\n",
    "        YP = (y[i + 1] - y[i - 1]) / (2 * h)\n",
    "\n",
    "        # y'' + 3 * y * y' = 0\n",
    "        res[i] = YPP + 3 * y[i] * YP\n",
    "\n",
    "    res[-1] = y[-1] - beta  # y(beta) = 0\n",
    "\n",
    "    return res"
   ]
  },
  {
   "cell_type": "code",
   "execution_count": 4,
   "metadata": {
    "colab": {
     "base_uri": "https://localhost:8080/"
    },
    "executionInfo": {
     "elapsed": 172,
     "status": "ok",
     "timestamp": 1633437631026,
     "user": {
      "displayName": "John Kitchin",
      "photoUrl": "https://lh3.googleusercontent.com/a/default-user=s64",
      "userId": "14782011281593705406"
     },
     "user_tz": 240
    },
    "id": "Ntt28cfd5HUJ",
    "outputId": "e97976f0-d2df-4c23-edd4-9c32c6651d59"
   },
   "outputs": [
    {
     "data": {
      "text/plain": [
       "array([0.        , 0.66666667, 1.33333333, 2.        , 2.66666667,\n",
       "       3.33333333, 4.        , 4.66666667, 5.33333333, 1.        ])"
      ]
     },
     "execution_count": 4,
     "metadata": {},
     "output_type": "execute_result"
    }
   ],
   "source": [
    "residuals(X)"
   ]
  },
  {
   "cell_type": "markdown",
   "metadata": {
    "id": "6uDz77r0LxBr"
   },
   "source": [
    "We need a guess, and here we guess a line. It is always a good idea to plot your guess just to make sure it does what you want. Here, we want it to have the right boundary values.\n",
    "\n"
   ]
  },
  {
   "cell_type": "code",
   "execution_count": 5,
   "metadata": {
    "colab": {
     "base_uri": "https://localhost:8080/",
     "height": 1000
    },
    "executionInfo": {
     "elapsed": 271,
     "status": "ok",
     "timestamp": 1633437632966,
     "user": {
      "displayName": "John Kitchin",
      "photoUrl": "https://lh3.googleusercontent.com/a/default-user=s64",
      "userId": "14782011281593705406"
     },
     "user_tz": 240
    },
    "id": "PUVF_9lRLxBt",
    "outputId": "ac840423-57c3-44c7-ea20-f0755ce49cff"
   },
   "outputs": [
    {
     "data": {
      "text/plain": [
       "array([0.        , 0.11111111, 0.22222222, 0.33333333, 0.44444444,\n",
       "       0.55555556, 0.66666667, 0.77777778, 0.88888889, 1.        ])"
      ]
     },
     "execution_count": 5,
     "metadata": {},
     "output_type": "execute_result"
    },
    {
     "data": {
      "image/png": "[encoded data removed]",
      "text/plain": [
       "<Figure size 432x288 with 1 Axes>"
      ]
     },
     "metadata": {
      "needs_background": "light"
     },
     "output_type": "display_data"
    }
   ],
   "source": [
    "# we need an initial guess\n",
    "# a line from (x1, alpha) to (x2, beta)\n",
    "init = alpha + (beta - alpha) / (x2 - x1) * X  # an array\n",
    "plt.plot(X, init, \"r.\")\n",
    "init"
   ]
  },
  {
   "cell_type": "markdown",
   "metadata": {
    "id": "6GOxE6jJLxB4"
   },
   "source": [
    "We should check our residuals function. We mostly want to see that it runs, and produces the right shaped output.\n",
    "\n"
   ]
  },
  {
   "cell_type": "code",
   "execution_count": 6,
   "metadata": {
    "id": "XBMuVkbYLxB7"
   },
   "outputs": [
    {
     "data": {
      "text/plain": [
       "array([0.        , 0.16666667, 0.33333333, 0.5       , 0.66666667,\n",
       "       0.83333333, 1.        , 1.16666667, 1.33333333, 0.        ])"
      ]
     },
     "execution_count": 6,
     "metadata": {},
     "output_type": "execute_result"
    }
   ],
   "source": [
    "residuals(init)"
   ]
  },
  {
   "cell_type": "markdown",
   "metadata": {
    "id": "mF-u0n7pLxCC"
   },
   "source": [
    "Now, we solve the BVP.\n",
    "\n"
   ]
  },
  {
   "cell_type": "code",
   "execution_count": 7,
   "metadata": {
    "colab": {
     "base_uri": "https://localhost:8080/",
     "height": 296
    },
    "executionInfo": {
     "elapsed": 5216,
     "status": "ok",
     "timestamp": 1633437641765,
     "user": {
      "displayName": "John Kitchin",
      "photoUrl": "https://lh3.googleusercontent.com/a/default-user=s64",
      "userId": "14782011281593705406"
     },
     "user_tz": 240
    },
    "id": "qnMkgyC2LxCE",
    "outputId": "5553a952-0618-443c-ab33-9f849167ac42"
   },
   "outputs": [
    {
     "data": {
      "text/plain": [
       "    fjac: array([[-5.12147520e-02, -9.98687663e-01, -4.47558657e-16,\n",
       "         9.05525654e-16,  8.70831185e-16, -1.21864324e-15,\n",
       "        -5.89805982e-16,  2.43728648e-16,  1.92554306e-16,\n",
       "         0.00000000e+00],\n",
       "       [ 1.03407577e-01, -5.30295264e-03,  9.94289014e-01,\n",
       "        -1.98270636e-02, -6.76892125e-03, -2.45845848e-03,\n",
       "        -1.26052263e-02,  1.26552583e-03,  7.91458834e-03,\n",
       "         0.00000000e+00],\n",
       "       [ 1.72006383e-01, -8.82084014e-03,  5.29544034e-06,\n",
       "         9.76968653e-01, -1.02899810e-01,  3.37945832e-02,\n",
       "        -4.96633691e-02, -1.25242192e-02,  3.89165378e-02,\n",
       "         0.00000000e+00],\n",
       "       [-3.66998678e-01,  1.88204450e-02,  3.37517807e-02,\n",
       "        -1.49137499e-02, -9.03862626e-01, -1.23932748e-01,\n",
       "         1.09342295e-01,  7.21024709e-02, -1.18805226e-01,\n",
       "         0.00000000e+00],\n",
       "       [-3.37125829e-01,  1.72885040e-02,  4.05954862e-02,\n",
       "         1.34606046e-01,  2.97424623e-01, -8.52687734e-01,\n",
       "         1.46232846e-01,  9.90065119e-02, -1.39844162e-01,\n",
       "         0.00000000e+00],\n",
       "       [-5.98181854e-01,  3.06759925e-02,  6.09981272e-02,\n",
       "         1.00442711e-01,  1.90878388e-01,  2.99137840e-01,\n",
       "        -5.91341477e-01,  2.47890973e-01, -3.00624782e-01,\n",
       "         0.00000000e+00],\n",
       "       [ 4.05949148e-01, -2.08179050e-02, -5.78810796e-02,\n",
       "        -1.19159376e-01, -1.99510256e-01, -3.64234670e-01,\n",
       "        -6.60730451e-01,  3.75690963e-01,  2.58926751e-01,\n",
       "         0.00000000e+00],\n",
       "       [ 2.58918497e-01, -1.32778716e-02, -1.95597949e-02,\n",
       "        -1.34610387e-03,  3.69963009e-02,  1.30189577e-01,\n",
       "         3.55458352e-01,  7.79526318e-01, -4.24347193e-01,\n",
       "         0.00000000e+00],\n",
       "       [ 3.45109900e-01, -1.76979436e-02, -3.38910642e-02,\n",
       "        -5.00841670e-02, -7.95558305e-02, -1.31592233e-01,\n",
       "        -2.26792337e-01, -4.17834385e-01, -7.91999324e-01,\n",
       "         0.00000000e+00],\n",
       "       [ 0.00000000e+00, -0.00000000e+00, -0.00000000e+00,\n",
       "        -0.00000000e+00, -0.00000000e+00,  0.00000000e+00,\n",
       "         0.00000000e+00,  0.00000000e+00,  0.00000000e+00,\n",
       "        -1.00000000e+00]])\n",
       "     fun: array([-1.77928174e-24,  1.88617344e-10, -8.08311640e-10,  1.85495663e-09,\n",
       "       -2.00028138e-09,  5.30350541e-10,  7.04126257e-10, -8.99436609e-10,\n",
       "        4.29967839e-10,  0.00000000e+00])\n",
       " message: 'The solution converged.'\n",
       "    nfev: 20\n",
       "     qtf: array([-4.33644075e-09,  2.47101254e-08, -2.00726364e-08,  5.16586187e-08,\n",
       "        7.09100043e-09, -5.45144919e-08, -4.98890554e-08,  2.37152204e-08,\n",
       "        1.02200844e-08,  0.00000000e+00])\n",
       "       r: array([-1.95256242e+01,  3.85745194e+01, -2.19685334e+01, -5.46147857e-01,\n",
       "       -2.87907247e-01, -6.49649120e-01, -1.44691117e-01,  5.84830144e-01,\n",
       "        4.54971636e-01,  6.38378239e-15,  1.91048326e+01, -3.77000819e+01,\n",
       "        2.45619813e+01,  3.40720171e-01, -5.83457603e-01,  5.74054473e-01,\n",
       "       -2.22906134e-01, -4.63284547e-01,  2.07757944e-01,  1.61235942e+01,\n",
       "       -3.97881049e+01,  2.77171236e+01, -5.19802376e+00,  1.53825027e+00,\n",
       "        3.08183740e-01, -1.07549108e+00,  1.02155912e+00, -1.16511107e+01,\n",
       "        3.27654969e+01, -1.72001343e+01, -7.81783633e+00, -2.16192120e+00,\n",
       "        6.31185300e+00, -3.11863718e+00, -2.13789426e+01,  4.24439059e+01,\n",
       "       -2.62609112e+01, -2.82381416e+00,  8.25973168e+00, -3.67090924e+00,\n",
       "       -1.49079514e+01,  3.51306134e+01, -2.83544429e+01,  1.80485352e+01,\n",
       "       -7.89140053e+00,  2.20736210e+01, -2.83479736e+01, -9.23367821e-01,\n",
       "        6.79682722e+00, -2.78029107e+01,  3.64961469e+01, -1.11391138e+01,\n",
       "        2.05118122e+01, -2.07899822e+01, -1.00000000e+00])\n",
       "  status: 1\n",
       " success: True\n",
       "       x: array([-1.77928174e-24,  3.35880968e-01,  6.04124016e-01,  7.82441153e-01,\n",
       "        8.86984418e-01,  9.43815504e-01,  9.73445490e-01,  9.88557508e-01,\n",
       "        9.96178548e-01,  1.00000000e+00])"
      ]
     },
     "execution_count": 7,
     "metadata": {},
     "output_type": "execute_result"
    }
   ],
   "source": [
    "sol = root(residuals, init)\n",
    "sol"
   ]
  },
  {
   "cell_type": "code",
   "execution_count": 8,
   "metadata": {},
   "outputs": [
    {
     "data": {
      "image/png": "[encoded data removed]",
      "text/plain": [
       "<Figure size 432x288 with 1 Axes>"
      ]
     },
     "metadata": {
      "needs_background": "light"
     },
     "output_type": "display_data"
    }
   ],
   "source": [
    "Y = sol.x\n",
    "plt.plot(X, Y)\n",
    "plt.xlabel(\"x\")\n",
    "plt.ylabel(\"y\");"
   ]
  },
  {
   "cell_type": "code",
   "execution_count": 9,
   "metadata": {
    "id": "5RlUfwXscQbl"
   },
   "outputs": [
    {
     "name": "stdout",
     "output_type": "stream",
     "text": [
      "[-0.  0. -0.  0. -0.  0.  0. -0.  0.  0.]\n",
      "[-0.  0. -0.  0. -0.  0.  0. -0.  0.  0.]\n"
     ]
    }
   ],
   "source": [
    "# Check the residuals\n",
    "with np.printoptions(suppress=True):\n",
    "    print(residuals(Y))\n",
    "    print(sol.fun)"
   ]
  },
  {
   "cell_type": "code",
   "execution_count": 10,
   "metadata": {
    "colab": {
     "base_uri": "https://localhost:8080/"
    },
    "executionInfo": {
     "elapsed": 127,
     "status": "ok",
     "timestamp": 1633437650768,
     "user": {
      "displayName": "John Kitchin",
      "photoUrl": "https://lh3.googleusercontent.com/a/default-user=s64",
      "userId": "14782011281593705406"
     },
     "user_tz": 240
    },
    "id": "z8z4pfi26AoR",
    "outputId": "1d71c42c-51d5-4560-dfce-3cbeef734cc9"
   },
   "outputs": [
    {
     "data": {
      "text/plain": [
       "True"
      ]
     },
     "execution_count": 10,
     "metadata": {},
     "output_type": "execute_result"
    }
   ],
   "source": [
    "np.allclose(residuals(Y), 0, atol=1e-7)  # shows that we got a good solution"
   ]
  },
  {
   "cell_type": "code",
   "execution_count": 11,
   "metadata": {
    "colab": {
     "base_uri": "https://localhost:8080/"
    },
    "executionInfo": {
     "elapsed": 120,
     "status": "ok",
     "timestamp": 1633437659253,
     "user": {
      "displayName": "John Kitchin",
      "photoUrl": "https://lh3.googleusercontent.com/a/default-user=s64",
      "userId": "14782011281593705406"
     },
     "user_tz": 240
    },
    "id": "YAShzuKp7MCj",
    "outputId": "e9cc4548-cbda-47c5-e4e2-28b0d95a2002"
   },
   "outputs": [
    {
     "data": {
      "text/plain": [
       "1.854956632740823e-09"
      ]
     },
     "execution_count": 11,
     "metadata": {},
     "output_type": "execute_result"
    }
   ],
   "source": [
    "residuals(Y).max()"
   ]
  },
  {
   "cell_type": "markdown",
   "metadata": {
    "id": "SyLde_-7LxCK",
    "tags": []
   },
   "source": [
    "The solution is has some apparent kinks because we only used about 10 points. How can you tell if the solution is correct? We can estimate the derivatives, and see how well they fit the equation. We look for:\n",
    "\n",
    "$y'' + 3 y y' = 0$ for all $x$.\n",
    "\n"
   ]
  },
  {
   "cell_type": "markdown",
   "metadata": {},
   "source": [
    "Let's check how well the solution works."
   ]
  },
  {
   "cell_type": "code",
   "execution_count": 12,
   "metadata": {
    "colab": {
     "base_uri": "https://localhost:8080/",
     "height": 279
    },
    "executionInfo": {
     "elapsed": 306,
     "status": "ok",
     "timestamp": 1633437666819,
     "user": {
      "displayName": "John Kitchin",
      "photoUrl": "https://lh3.googleusercontent.com/a/default-user=s64",
      "userId": "14782011281593705406"
     },
     "user_tz": 240
    },
    "id": "hhzq-YsxLxCL",
    "outputId": "b5565e04-60ae-498b-c046-904573e9c271"
   },
   "outputs": [
    {
     "data": {
      "image/png": "[encoded data removed]",
      "text/plain": [
       "<Figure size 432x288 with 1 Axes>"
      ]
     },
     "metadata": {
      "needs_background": "light"
     },
     "output_type": "display_data"
    }
   ],
   "source": [
    "yp = np.gradient(Y, X, edge_order=2)\n",
    "ypp = np.gradient(yp, X, edge_order=2)\n",
    "\n",
    "plt.plot(X, ypp + 3 * Y * yp)  # This should be zero everywhere\n",
    "plt.xlabel(\"x\")\n",
    "plt.ylabel(\"residuals\");"
   ]
  },
  {
   "cell_type": "code",
   "execution_count": 13,
   "metadata": {
    "colab": {
     "base_uri": "https://localhost:8080/"
    },
    "executionInfo": {
     "elapsed": 113,
     "status": "ok",
     "timestamp": 1633437503789,
     "user": {
      "displayName": "John Kitchin",
      "photoUrl": "https://lh3.googleusercontent.com/a/default-user=s64",
      "userId": "14782011281593705406"
     },
     "user_tz": 240
    },
    "id": "TySAWx9_9q9J",
    "outputId": "d7b00b72-70b4-4612-8ff3-958e85e5b4f9"
   },
   "outputs": [
    {
     "data": {
      "text/plain": [
       "-1.7792817396280564e-24"
      ]
     },
     "execution_count": 13,
     "metadata": {},
     "output_type": "execute_result"
    }
   ],
   "source": [
    "Y[0]"
   ]
  },
  {
   "cell_type": "markdown",
   "metadata": {
    "id": "hFJ4s9e7LxCQ"
   },
   "source": [
    "This result doesn't look great at the origin, but remember:\n",
    "\n",
    "1.  we used a coarse grid, so the derivative *approximations* are probably not that accurate\n",
    "2.  Numerical derivatives at the end-points are less accurate than in the middle.\n",
    "\n",
    "**exercise** Go back and repeat this for a finer grid, e.g. with 50, 100 points.\n",
    "\n",
    "The approach described here is pretty general. Here, we were able to solve a second-order BVP by discretizing it, approximating the derivatives at the points, and solving the corresponding nonlinear algebra equations. This approach can be extended in a variety of ways, including to systems of equations, and to 2D or 3D systems (where this approach is called finite-element). You will see these kinds of problems extensively in the spring semster in the Transport class.\n",
    "\n",
    "As we have seen before, however, there are functions in `scipy` that can help solve these problems.\n",
    "\n"
   ]
  },
  {
   "cell_type": "markdown",
   "metadata": {
    "id": "KX9FVaqWLxCQ"
   },
   "source": [
    "## Introduction to solve_bvp\n",
    "\n"
   ]
  },
  {
   "cell_type": "code",
   "execution_count": 14,
   "metadata": {
    "id": "GHNyBgF3LxCR"
   },
   "outputs": [
    {
     "data": {
      "text/plain": [
       "\u001b[0;31mSignature:\u001b[0m\n",
       "\u001b[0msolve_bvp\u001b[0m\u001b[0;34m(\u001b[0m\u001b[0;34m\u001b[0m\n",
       "\u001b[0;34m\u001b[0m    \u001b[0mfun\u001b[0m\u001b[0;34m,\u001b[0m\u001b[0;34m\u001b[0m\n",
       "\u001b[0;34m\u001b[0m    \u001b[0mbc\u001b[0m\u001b[0;34m,\u001b[0m\u001b[0;34m\u001b[0m\n",
       "\u001b[0;34m\u001b[0m    \u001b[0mx\u001b[0m\u001b[0;34m,\u001b[0m\u001b[0;34m\u001b[0m\n",
       "\u001b[0;34m\u001b[0m    \u001b[0my\u001b[0m\u001b[0;34m,\u001b[0m\u001b[0;34m\u001b[0m\n",
       "\u001b[0;34m\u001b[0m    \u001b[0mp\u001b[0m\u001b[0;34m=\u001b[0m\u001b[0;32mNone\u001b[0m\u001b[0;34m,\u001b[0m\u001b[0;34m\u001b[0m\n",
       "\u001b[0;34m\u001b[0m    \u001b[0mS\u001b[0m\u001b[0;34m=\u001b[0m\u001b[0;32mNone\u001b[0m\u001b[0;34m,\u001b[0m\u001b[0;34m\u001b[0m\n",
       "\u001b[0;34m\u001b[0m    \u001b[0mfun_jac\u001b[0m\u001b[0;34m=\u001b[0m\u001b[0;32mNone\u001b[0m\u001b[0;34m,\u001b[0m\u001b[0;34m\u001b[0m\n",
       "\u001b[0;34m\u001b[0m    \u001b[0mbc_jac\u001b[0m\u001b[0;34m=\u001b[0m\u001b[0;32mNone\u001b[0m\u001b[0;34m,\u001b[0m\u001b[0;34m\u001b[0m\n",
       "\u001b[0;34m\u001b[0m    \u001b[0mtol\u001b[0m\u001b[0;34m=\u001b[0m\u001b[0;36m0.001\u001b[0m\u001b[0;34m,\u001b[0m\u001b[0;34m\u001b[0m\n",
       "\u001b[0;34m\u001b[0m    \u001b[0mmax_nodes\u001b[0m\u001b[0;34m=\u001b[0m\u001b[0;36m1000\u001b[0m\u001b[0;34m,\u001b[0m\u001b[0;34m\u001b[0m\n",
       "\u001b[0;34m\u001b[0m    \u001b[0mverbose\u001b[0m\u001b[0;34m=\u001b[0m\u001b[0;36m0\u001b[0m\u001b[0;34m,\u001b[0m\u001b[0;34m\u001b[0m\n",
       "\u001b[0;34m\u001b[0m    \u001b[0mbc_tol\u001b[0m\u001b[0;34m=\u001b[0m\u001b[0;32mNone\u001b[0m\u001b[0;34m,\u001b[0m\u001b[0;34m\u001b[0m\n",
       "\u001b[0;34m\u001b[0m\u001b[0;34m)\u001b[0m\u001b[0;34m\u001b[0m\u001b[0;34m\u001b[0m\u001b[0m\n",
       "\u001b[0;31mDocstring:\u001b[0m\n",
       "Solve a boundary value problem for a system of ODEs.\n",
       "\n",
       "This function numerically solves a first order system of ODEs subject to\n",
       "two-point boundary conditions::\n",
       "\n",
       "    dy / dx = f(x, y, p) + S * y / (x - a), a <= x <= b\n",
       "    bc(y(a), y(b), p) = 0\n",
       "\n",
       "Here x is a 1-D independent variable, y(x) is an N-D\n",
       "vector-valued function and p is a k-D vector of unknown\n",
       "parameters which is to be found along with y(x). For the problem to be\n",
       "determined, there must be n + k boundary conditions, i.e., bc must be an\n",
       "(n + k)-D function.\n",
       "\n",
       "The last singular term on the right-hand side of the system is optional.\n",
       "It is defined by an n-by-n matrix S, such that the solution must satisfy\n",
       "S y(a) = 0. This condition will be forced during iterations, so it must not\n",
       "contradict boundary conditions. See [2]_ for the explanation how this term\n",
       "is handled when solving BVPs numerically.\n",
       "\n",
       "Problems in a complex domain can be solved as well. In this case, y and p\n",
       "are considered to be complex, and f and bc are assumed to be complex-valued\n",
       "functions, but x stays real. Note that f and bc must be complex\n",
       "differentiable (satisfy Cauchy-Riemann equations [4]_), otherwise you\n",
       "should rewrite your problem for real and imaginary parts separately. To\n",
       "solve a problem in a complex domain, pass an initial guess for y with a\n",
       "complex data type (see below).\n",
       "\n",
       "Parameters\n",
       "----------\n",
       "fun : callable\n",
       "    Right-hand side of the system. The calling signature is ``fun(x, y)``,\n",
       "    or ``fun(x, y, p)`` if parameters are present. All arguments are\n",
       "    ndarray: ``x`` with shape (m,), ``y`` with shape (n, m), meaning that\n",
       "    ``y[:, i]`` corresponds to ``x[i]``, and ``p`` with shape (k,). The\n",
       "    return value must be an array with shape (n, m) and with the same\n",
       "    layout as ``y``.\n",
       "bc : callable\n",
       "    Function evaluating residuals of the boundary conditions. The calling\n",
       "    signature is ``bc(ya, yb)``, or ``bc(ya, yb, p)`` if parameters are\n",
       "    present. All arguments are ndarray: ``ya`` and ``yb`` with shape (n,),\n",
       "    and ``p`` with shape (k,). The return value must be an array with\n",
       "    shape (n + k,).\n",
       "x : array_like, shape (m,)\n",
       "    Initial mesh. Must be a strictly increasing sequence of real numbers\n",
       "    with ``x[0]=a`` and ``x[-1]=b``.\n",
       "y : array_like, shape (n, m)\n",
       "    Initial guess for the function values at the mesh nodes, ith column\n",
       "    corresponds to ``x[i]``. For problems in a complex domain pass `y`\n",
       "    with a complex data type (even if the initial guess is purely real).\n",
       "p : array_like with shape (k,) or None, optional\n",
       "    Initial guess for the unknown parameters. If None (default), it is\n",
       "    assumed that the problem doesn't depend on any parameters.\n",
       "S : array_like with shape (n, n) or None\n",
       "    Matrix defining the singular term. If None (default), the problem is\n",
       "    solved without the singular term.\n",
       "fun_jac : callable or None, optional\n",
       "    Function computing derivatives of f with respect to y and p. The\n",
       "    calling signature is ``fun_jac(x, y)``, or ``fun_jac(x, y, p)`` if\n",
       "    parameters are present. The return must contain 1 or 2 elements in the\n",
       "    following order:\n",
       "\n",
       "        * df_dy : array_like with shape (n, n, m), where an element\n",
       "          (i, j, q) equals to d f_i(x_q, y_q, p) / d (y_q)_j.\n",
       "        * df_dp : array_like with shape (n, k, m), where an element\n",
       "          (i, j, q) equals to d f_i(x_q, y_q, p) / d p_j.\n",
       "\n",
       "    Here q numbers nodes at which x and y are defined, whereas i and j\n",
       "    number vector components. If the problem is solved without unknown\n",
       "    parameters, df_dp should not be returned.\n",
       "\n",
       "    If `fun_jac` is None (default), the derivatives will be estimated\n",
       "    by the forward finite differences.\n",
       "bc_jac : callable or None, optional\n",
       "    Function computing derivatives of bc with respect to ya, yb, and p.\n",
       "    The calling signature is ``bc_jac(ya, yb)``, or ``bc_jac(ya, yb, p)``\n",
       "    if parameters are present. The return must contain 2 or 3 elements in\n",
       "    the following order:\n",
       "\n",
       "        * dbc_dya : array_like with shape (n, n), where an element (i, j)\n",
       "          equals to d bc_i(ya, yb, p) / d ya_j.\n",
       "        * dbc_dyb : array_like with shape (n, n), where an element (i, j)\n",
       "          equals to d bc_i(ya, yb, p) / d yb_j.\n",
       "        * dbc_dp : array_like with shape (n, k), where an element (i, j)\n",
       "          equals to d bc_i(ya, yb, p) / d p_j.\n",
       "\n",
       "    If the problem is solved without unknown parameters, dbc_dp should not\n",
       "    be returned.\n",
       "\n",
       "    If `bc_jac` is None (default), the derivatives will be estimated by\n",
       "    the forward finite differences.\n",
       "tol : float, optional\n",
       "    Desired tolerance of the solution. If we define ``r = y' - f(x, y)``,\n",
       "    where y is the found solution, then the solver tries to achieve on each\n",
       "    mesh interval ``norm(r / (1 + abs(f)) < tol``, where ``norm`` is\n",
       "    estimated in a root mean squared sense (using a numerical quadrature\n",
       "    formula). Default is 1e-3.\n",
       "max_nodes : int, optional\n",
       "    Maximum allowed number of the mesh nodes. If exceeded, the algorithm\n",
       "    terminates. Default is 1000.\n",
       "verbose : {0, 1, 2}, optional\n",
       "    Level of algorithm's verbosity:\n",
       "\n",
       "        * 0 (default) : work silently.\n",
       "        * 1 : display a termination report.\n",
       "        * 2 : display progress during iterations.\n",
       "bc_tol : float, optional\n",
       "    Desired absolute tolerance for the boundary condition residuals: `bc`\n",
       "    value should satisfy ``abs(bc) < bc_tol`` component-wise.\n",
       "    Equals to `tol` by default. Up to 10 iterations are allowed to achieve this\n",
       "    tolerance.\n",
       "\n",
       "Returns\n",
       "-------\n",
       "Bunch object with the following fields defined:\n",
       "sol : PPoly\n",
       "    Found solution for y as `scipy.interpolate.PPoly` instance, a C1\n",
       "    continuous cubic spline.\n",
       "p : ndarray or None, shape (k,)\n",
       "    Found parameters. None, if the parameters were not present in the\n",
       "    problem.\n",
       "x : ndarray, shape (m,)\n",
       "    Nodes of the final mesh.\n",
       "y : ndarray, shape (n, m)\n",
       "    Solution values at the mesh nodes.\n",
       "yp : ndarray, shape (n, m)\n",
       "    Solution derivatives at the mesh nodes.\n",
       "rms_residuals : ndarray, shape (m - 1,)\n",
       "    RMS values of the relative residuals over each mesh interval (see the\n",
       "    description of `tol` parameter).\n",
       "niter : int\n",
       "    Number of completed iterations.\n",
       "status : int\n",
       "    Reason for algorithm termination:\n",
       "\n",
       "        * 0: The algorithm converged to the desired accuracy.\n",
       "        * 1: The maximum number of mesh nodes is exceeded.\n",
       "        * 2: A singular Jacobian encountered when solving the collocation\n",
       "          system.\n",
       "\n",
       "message : string\n",
       "    Verbal description of the termination reason.\n",
       "success : bool\n",
       "    True if the algorithm converged to the desired accuracy (``status=0``).\n",
       "\n",
       "Notes\n",
       "-----\n",
       "This function implements a 4th order collocation algorithm with the\n",
       "control of residuals similar to [1]_. A collocation system is solved\n",
       "by a damped Newton method with an affine-invariant criterion function as\n",
       "described in [3]_.\n",
       "\n",
       "Note that in [1]_  integral residuals are defined without normalization\n",
       "by interval lengths. So, their definition is different by a multiplier of\n",
       "h**0.5 (h is an interval length) from the definition used here.\n",
       "\n",
       ".. versionadded:: 0.18.0\n",
       "\n",
       "References\n",
       "----------\n",
       ".. [1] J. Kierzenka, L. F. Shampine, \"A BVP Solver Based on Residual\n",
       "       Control and the Maltab PSE\", ACM Trans. Math. Softw., Vol. 27,\n",
       "       Number 3, pp. 299-316, 2001.\n",
       ".. [2] L.F. Shampine, P. H. Muir and H. Xu, \"A User-Friendly Fortran BVP\n",
       "       Solver\".\n",
       ".. [3] U. Ascher, R. Mattheij and R. Russell \"Numerical Solution of\n",
       "       Boundary Value Problems for Ordinary Differential Equations\".\n",
       ".. [4] `Cauchy-Riemann equations\n",
       "        <https://en.wikipedia.org/wiki/Cauchy-Riemann_equations>`_ on\n",
       "        Wikipedia.\n",
       "\n",
       "Examples\n",
       "--------\n",
       "In the first example, we solve Bratu's problem::\n",
       "\n",
       "    y'' + k * exp(y) = 0\n",
       "    y(0) = y(1) = 0\n",
       "\n",
       "for k = 1.\n",
       "\n",
       "We rewrite the equation as a first-order system and implement its\n",
       "right-hand side evaluation::\n",
       "\n",
       "    y1' = y2\n",
       "    y2' = -exp(y1)\n",
       "\n",
       ">>> def fun(x, y):\n",
       "...     return np.vstack((y[1], -np.exp(y[0])))\n",
       "\n",
       "Implement evaluation of the boundary condition residuals:\n",
       "\n",
       ">>> def bc(ya, yb):\n",
       "...     return np.array([ya[0], yb[0]])\n",
       "\n",
       "Define the initial mesh with 5 nodes:\n",
       "\n",
       ">>> x = np.linspace(0, 1, 5)\n",
       "\n",
       "This problem is known to have two solutions. To obtain both of them, we\n",
       "use two different initial guesses for y. We denote them by subscripts\n",
       "a and b.\n",
       "\n",
       ">>> y_a = np.zeros((2, x.size))\n",
       ">>> y_b = np.zeros((2, x.size))\n",
       ">>> y_b[0] = 3\n",
       "\n",
       "Now we are ready to run the solver.\n",
       "\n",
       ">>> from scipy.integrate import solve_bvp\n",
       ">>> res_a = solve_bvp(fun, bc, x, y_a)\n",
       ">>> res_b = solve_bvp(fun, bc, x, y_b)\n",
       "\n",
       "Let's plot the two found solutions. We take an advantage of having the\n",
       "solution in a spline form to produce a smooth plot.\n",
       "\n",
       ">>> x_plot = np.linspace(0, 1, 100)\n",
       ">>> y_plot_a = res_a.sol(x_plot)[0]\n",
       ">>> y_plot_b = res_b.sol(x_plot)[0]\n",
       ">>> import matplotlib.pyplot as plt\n",
       ">>> plt.plot(x_plot, y_plot_a, label='y_a')\n",
       ">>> plt.plot(x_plot, y_plot_b, label='y_b')\n",
       ">>> plt.legend()\n",
       ">>> plt.xlabel(\"x\")\n",
       ">>> plt.ylabel(\"y\")\n",
       ">>> plt.show()\n",
       "\n",
       "We see that the two solutions have similar shape, but differ in scale\n",
       "significantly.\n",
       "\n",
       "In the second example, we solve a simple Sturm-Liouville problem::\n",
       "\n",
       "    y'' + k**2 * y = 0\n",
       "    y(0) = y(1) = 0\n",
       "\n",
       "It is known that a non-trivial solution y = A * sin(k * x) is possible for\n",
       "k = pi * n, where n is an integer. To establish the normalization constant\n",
       "A = 1 we add a boundary condition::\n",
       "\n",
       "    y'(0) = k\n",
       "\n",
       "Again, we rewrite our equation as a first-order system and implement its\n",
       "right-hand side evaluation::\n",
       "\n",
       "    y1' = y2\n",
       "    y2' = -k**2 * y1\n",
       "\n",
       ">>> def fun(x, y, p):\n",
       "...     k = p[0]\n",
       "...     return np.vstack((y[1], -k**2 * y[0]))\n",
       "\n",
       "Note that parameters p are passed as a vector (with one element in our\n",
       "case).\n",
       "\n",
       "Implement the boundary conditions:\n",
       "\n",
       ">>> def bc(ya, yb, p):\n",
       "...     k = p[0]\n",
       "...     return np.array([ya[0], yb[0], ya[1] - k])\n",
       "\n",
       "Set up the initial mesh and guess for y. We aim to find the solution for\n",
       "k = 2 * pi, to achieve that we set values of y to approximately follow\n",
       "sin(2 * pi * x):\n",
       "\n",
       ">>> x = np.linspace(0, 1, 5)\n",
       ">>> y = np.zeros((2, x.size))\n",
       ">>> y[0, 1] = 1\n",
       ">>> y[0, 3] = -1\n",
       "\n",
       "Run the solver with 6 as an initial guess for k.\n",
       "\n",
       ">>> sol = solve_bvp(fun, bc, x, y, p=[6])\n",
       "\n",
       "We see that the found k is approximately correct:\n",
       "\n",
       ">>> sol.p[0]\n",
       "6.28329460046\n",
       "\n",
       "And, finally, plot the solution to see the anticipated sinusoid:\n",
       "\n",
       ">>> x_plot = np.linspace(0, 1, 100)\n",
       ">>> y_plot = sol.sol(x_plot)[0]\n",
       ">>> plt.plot(x_plot, y_plot)\n",
       ">>> plt.xlabel(\"x\")\n",
       ">>> plt.ylabel(\"y\")\n",
       ">>> plt.show()\n",
       "\u001b[0;31mFile:\u001b[0m      /opt/tljh/user/lib/python3.9/site-packages/scipy/integrate/_bvp.py\n",
       "\u001b[0;31mType:\u001b[0m      function\n"
      ]
     },
     "metadata": {},
     "output_type": "display_data"
    }
   ],
   "source": [
    "from scipy.integrate import solve_bvp\n",
    "\n",
    "solve_bvp?"
   ]
  },
  {
   "cell_type": "markdown",
   "metadata": {
    "id": "Yc7RjZtOLxCV"
   },
   "source": [
    "### A worked bvp problem\n",
    "\n"
   ]
  },
  {
   "cell_type": "markdown",
   "metadata": {
    "id": "ek8t5PXFLxCW"
   },
   "source": [
    "In the pressure driven flow of a fluid with viscosity $\\mu$ between two stationary plates separated by distance $d$ and driven by a pressure drop $\\Delta P/\\Delta x$, the governing equations on the velocity $u$ of the fluid are (assuming flow in the x-direction with the velocity varying only in the y-direction):\n",
    "\n",
    "$$\\frac{\\Delta P}{\\Delta x} = \\mu \\frac{d^2u}{dy^2}$$\n",
    "\n",
    "with boundary conditions $u(y=0) = 0$ and $u(y=d) = 0$, i.e. the no-slip condition at the edges of the plate.\n",
    "\n",
    "we convert this second order BVP to a system of ODEs by letting $u_1 = u$, $u_2 = u_1'$ and then $u_2' = u_1''$. This leads to:\n",
    "\n",
    "$\\frac{d u_1}{dy} = u_2$\n",
    "\n",
    "$\\frac{d u_2}{dy} = \\frac{1}{\\mu}\\frac{\\Delta P}{\\Delta x}$\n",
    "\n",
    "with boundary conditions $u_1(y=0) = 0$ and $u_1(y=d) = 0$.\n",
    "\n",
    "for this problem we let the plate separation be d=0.1, the viscosity $\\mu = 1$, and $\\frac{\\Delta P}{\\Delta x} = -100$.\n",
    "\n"
   ]
  },
  {
   "cell_type": "code",
   "execution_count": 15,
   "metadata": {
    "id": "45QPZV-PLxCX"
   },
   "outputs": [],
   "source": [
    "import numpy as np\n",
    "\n",
    "d = 0.1\n",
    "mu = 1\n",
    "deltaPdeltax = -100"
   ]
  },
  {
   "cell_type": "markdown",
   "metadata": {
    "id": "ODalRQuBLxCb"
   },
   "source": [
    "The function defining the BVP has to return an array that has a row for each equation, and a column for each value in the grid.\n",
    "\n"
   ]
  },
  {
   "cell_type": "code",
   "execution_count": 16,
   "metadata": {
    "id": "PSI9po9KLxCb"
   },
   "outputs": [],
   "source": [
    "def bvp(y, U):\n",
    "    u1, u2 = U\n",
    "    du1dy = u2\n",
    "    du2dy = np.ones(y.shape) / mu * deltaPdeltax  # this is an array now\n",
    "    return [du1dy, du2dy]"
   ]
  },
  {
   "cell_type": "markdown",
   "metadata": {
    "id": "weK5ZosdLxCf"
   },
   "source": [
    "The boundary condition function will get the whole numeric solution at each boundary. We want $u1(a) = 0$ and $u1(b)=0$.\n",
    "\n"
   ]
  },
  {
   "cell_type": "code",
   "execution_count": 17,
   "metadata": {
    "id": "sXeU1N2YLxCg"
   },
   "outputs": [],
   "source": [
    "def bc(Ua, Ub):\n",
    "    u1a, u2a = Ua\n",
    "    u1b, u2b = Ub\n",
    "    return [u1a, u1b]  # u1(a) = 0  # u1(b) = 0"
   ]
  },
  {
   "cell_type": "markdown",
   "metadata": {
    "id": "cZc_dkZVLxCk"
   },
   "source": [
    "Next, we need an initial guess for u1 and u2 on a grid of points. You have to make some decisions here. You need a guess that is reasonably close, but not hard to construct. Here, we anticipate a solution that looks parabolic, and that goes through the points: (0, 0), (d, 0), and some point at (d / 2, ?), where ? represents the point of maximum velocity in middle. We can easily get this polynomial with `np.polyfit`. You do not have to do this, you can fit the line any way you want.\n",
    "\n"
   ]
  },
  {
   "cell_type": "code",
   "execution_count": 18,
   "metadata": {
    "id": "U-5VCW7XLxCk"
   },
   "outputs": [
    {
     "data": {
      "text/plain": [
       "\u001b[0;31mSignature:\u001b[0m \u001b[0mnp\u001b[0m\u001b[0;34m.\u001b[0m\u001b[0mpolyfit\u001b[0m\u001b[0;34m(\u001b[0m\u001b[0mx\u001b[0m\u001b[0;34m,\u001b[0m \u001b[0my\u001b[0m\u001b[0;34m,\u001b[0m \u001b[0mdeg\u001b[0m\u001b[0;34m,\u001b[0m \u001b[0mrcond\u001b[0m\u001b[0;34m=\u001b[0m\u001b[0;32mNone\u001b[0m\u001b[0;34m,\u001b[0m \u001b[0mfull\u001b[0m\u001b[0;34m=\u001b[0m\u001b[0;32mFalse\u001b[0m\u001b[0;34m,\u001b[0m \u001b[0mw\u001b[0m\u001b[0;34m=\u001b[0m\u001b[0;32mNone\u001b[0m\u001b[0;34m,\u001b[0m \u001b[0mcov\u001b[0m\u001b[0;34m=\u001b[0m\u001b[0;32mFalse\u001b[0m\u001b[0;34m)\u001b[0m\u001b[0;34m\u001b[0m\u001b[0;34m\u001b[0m\u001b[0m\n",
       "\u001b[0;31mDocstring:\u001b[0m\n",
       "Least squares polynomial fit.\n",
       "\n",
       ".. note::\n",
       "   This forms part of the old polynomial API. Since version 1.4, the\n",
       "   new polynomial API defined in `numpy.polynomial` is preferred.\n",
       "   A summary of the differences can be found in the\n",
       "   :doc:`transition guide </reference/routines.polynomials>`.\n",
       "\n",
       "Fit a polynomial ``p(x) = p[0] * x**deg + ... + p[deg]`` of degree `deg`\n",
       "to points `(x, y)`. Returns a vector of coefficients `p` that minimises\n",
       "the squared error in the order `deg`, `deg-1`, ... `0`.\n",
       "\n",
       "The `Polynomial.fit <numpy.polynomial.polynomial.Polynomial.fit>` class\n",
       "method is recommended for new code as it is more stable numerically. See\n",
       "the documentation of the method for more information.\n",
       "\n",
       "Parameters\n",
       "----------\n",
       "x : array_like, shape (M,)\n",
       "    x-coordinates of the M sample points ``(x[i], y[i])``.\n",
       "y : array_like, shape (M,) or (M, K)\n",
       "    y-coordinates of the sample points. Several data sets of sample\n",
       "    points sharing the same x-coordinates can be fitted at once by\n",
       "    passing in a 2D-array that contains one dataset per column.\n",
       "deg : int\n",
       "    Degree of the fitting polynomial\n",
       "rcond : float, optional\n",
       "    Relative condition number of the fit. Singular values smaller than\n",
       "    this relative to the largest singular value will be ignored. The\n",
       "    default value is len(x)*eps, where eps is the relative precision of\n",
       "    the float type, about 2e-16 in most cases.\n",
       "full : bool, optional\n",
       "    Switch determining nature of return value. When it is False (the\n",
       "    default) just the coefficients are returned, when True diagnostic\n",
       "    information from the singular value decomposition is also returned.\n",
       "w : array_like, shape (M,), optional\n",
       "    Weights. If not None, the weight ``w[i]`` applies to the unsquared\n",
       "    residual ``y[i] - y_hat[i]`` at ``x[i]``. Ideally the weights are\n",
       "    chosen so that the errors of the products ``w[i]*y[i]`` all have the\n",
       "    same variance.  When using inverse-variance weighting, use\n",
       "    ``w[i] = 1/sigma(y[i])``.  The default value is None.\n",
       "cov : bool or str, optional\n",
       "    If given and not `False`, return not just the estimate but also its\n",
       "    covariance matrix. By default, the covariance are scaled by\n",
       "    chi2/dof, where dof = M - (deg + 1), i.e., the weights are presumed\n",
       "    to be unreliable except in a relative sense and everything is scaled\n",
       "    such that the reduced chi2 is unity. This scaling is omitted if\n",
       "    ``cov='unscaled'``, as is relevant for the case that the weights are\n",
       "    w = 1/sigma, with sigma known to be a reliable estimate of the\n",
       "    uncertainty.\n",
       "\n",
       "Returns\n",
       "-------\n",
       "p : ndarray, shape (deg + 1,) or (deg + 1, K)\n",
       "    Polynomial coefficients, highest power first.  If `y` was 2-D, the\n",
       "    coefficients for `k`-th data set are in ``p[:,k]``.\n",
       "\n",
       "residuals, rank, singular_values, rcond\n",
       "    These values are only returned if ``full == True``\n",
       "\n",
       "    - residuals -- sum of squared residuals of the least squares fit\n",
       "    - rank -- the effective rank of the scaled Vandermonde\n",
       "       coefficient matrix\n",
       "    - singular_values -- singular values of the scaled Vandermonde\n",
       "       coefficient matrix\n",
       "    - rcond -- value of `rcond`.\n",
       "\n",
       "    For more details, see `numpy.linalg.lstsq`.\n",
       "\n",
       "V : ndarray, shape (M,M) or (M,M,K)\n",
       "    Present only if ``full == False`` and ``cov == True``.  The covariance\n",
       "    matrix of the polynomial coefficient estimates.  The diagonal of\n",
       "    this matrix are the variance estimates for each coefficient.  If y\n",
       "    is a 2-D array, then the covariance matrix for the `k`-th data set\n",
       "    are in ``V[:,:,k]``\n",
       "\n",
       "\n",
       "Warns\n",
       "-----\n",
       "RankWarning\n",
       "    The rank of the coefficient matrix in the least-squares fit is\n",
       "    deficient. The warning is only raised if ``full == False``.\n",
       "\n",
       "    The warnings can be turned off by\n",
       "\n",
       "    >>> import warnings\n",
       "    >>> warnings.simplefilter('ignore', np.RankWarning)\n",
       "\n",
       "See Also\n",
       "--------\n",
       "polyval : Compute polynomial values.\n",
       "linalg.lstsq : Computes a least-squares fit.\n",
       "scipy.interpolate.UnivariateSpline : Computes spline fits.\n",
       "\n",
       "Notes\n",
       "-----\n",
       "The solution minimizes the squared error\n",
       "\n",
       ".. math::\n",
       "    E = \\sum_{j=0}^k |p(x_j) - y_j|^2\n",
       "\n",
       "in the equations::\n",
       "\n",
       "    x[0]**n * p[0] + ... + x[0] * p[n-1] + p[n] = y[0]\n",
       "    x[1]**n * p[0] + ... + x[1] * p[n-1] + p[n] = y[1]\n",
       "    ...\n",
       "    x[k]**n * p[0] + ... + x[k] * p[n-1] + p[n] = y[k]\n",
       "\n",
       "The coefficient matrix of the coefficients `p` is a Vandermonde matrix.\n",
       "\n",
       "`polyfit` issues a `RankWarning` when the least-squares fit is badly\n",
       "conditioned. This implies that the best fit is not well-defined due\n",
       "to numerical error. The results may be improved by lowering the polynomial\n",
       "degree or by replacing `x` by `x` - `x`.mean(). The `rcond` parameter\n",
       "can also be set to a value smaller than its default, but the resulting\n",
       "fit may be spurious: including contributions from the small singular\n",
       "values can add numerical noise to the result.\n",
       "\n",
       "Note that fitting polynomial coefficients is inherently badly conditioned\n",
       "when the degree of the polynomial is large or the interval of sample points\n",
       "is badly centered. The quality of the fit should always be checked in these\n",
       "cases. When polynomial fits are not satisfactory, splines may be a good\n",
       "alternative.\n",
       "\n",
       "References\n",
       "----------\n",
       ".. [1] Wikipedia, \"Curve fitting\",\n",
       "       https://en.wikipedia.org/wiki/Curve_fitting\n",
       ".. [2] Wikipedia, \"Polynomial interpolation\",\n",
       "       https://en.wikipedia.org/wiki/Polynomial_interpolation\n",
       "\n",
       "Examples\n",
       "--------\n",
       ">>> import warnings\n",
       ">>> x = np.array([0.0, 1.0, 2.0, 3.0,  4.0,  5.0])\n",
       ">>> y = np.array([0.0, 0.8, 0.9, 0.1, -0.8, -1.0])\n",
       ">>> z = np.polyfit(x, y, 3)\n",
       ">>> z\n",
       "array([ 0.08703704, -0.81349206,  1.69312169, -0.03968254]) # may vary\n",
       "\n",
       "It is convenient to use `poly1d` objects for dealing with polynomials:\n",
       "\n",
       ">>> p = np.poly1d(z)\n",
       ">>> p(0.5)\n",
       "0.6143849206349179 # may vary\n",
       ">>> p(3.5)\n",
       "-0.34732142857143039 # may vary\n",
       ">>> p(10)\n",
       "22.579365079365115 # may vary\n",
       "\n",
       "High-order polynomials may oscillate wildly:\n",
       "\n",
       ">>> with warnings.catch_warnings():\n",
       "...     warnings.simplefilter('ignore', np.RankWarning)\n",
       "...     p30 = np.poly1d(np.polyfit(x, y, 30))\n",
       "...\n",
       ">>> p30(4)\n",
       "-0.80000000000000204 # may vary\n",
       ">>> p30(5)\n",
       "-0.99999999999999445 # may vary\n",
       ">>> p30(4.5)\n",
       "-0.10547061179440398 # may vary\n",
       "\n",
       "Illustration:\n",
       "\n",
       ">>> import matplotlib.pyplot as plt\n",
       ">>> xp = np.linspace(-2, 6, 100)\n",
       ">>> _ = plt.plot(x, y, '.', xp, p(xp), '-', xp, p30(xp), '--')\n",
       ">>> plt.ylim(-2,2)\n",
       "(-2, 2)\n",
       ">>> plt.show()\n",
       "\u001b[0;31mFile:\u001b[0m      /opt/tljh/user/lib/python3.9/site-packages/numpy/lib/polynomial.py\n",
       "\u001b[0;31mType:\u001b[0m      function\n"
      ]
     },
     "metadata": {},
     "output_type": "display_data"
    }
   ],
   "source": [
    "?np.polyfit"
   ]
  },
  {
   "cell_type": "markdown",
   "metadata": {
    "id": "vltdMXfrLxCu"
   },
   "source": [
    "We don't know what the maximum velocity is, so we make a guess, say 0.5. Then, we get the parameters, and apply them to an array of y values.\n",
    "\n"
   ]
  },
  {
   "cell_type": "code",
   "execution_count": 20,
   "metadata": {
    "colab": {
     "base_uri": "https://localhost:8080/"
    },
    "executionInfo": {
     "elapsed": 118,
     "status": "ok",
     "timestamp": 1633439329629,
     "user": {
      "displayName": "John Kitchin",
      "photoUrl": "https://lh3.googleusercontent.com/a/default-user=s64",
      "userId": "14782011281593705406"
     },
     "user_tz": 240
    },
    "id": "86QlLL52LxCv",
    "outputId": "428e7f62-d5db-46ee-facf-2b8fee125324"
   },
   "outputs": [
    {
     "data": {
      "text/plain": [
       "array([-2.00000000e+02,  2.00000000e+01, -4.70357789e-16])"
      ]
     },
     "execution_count": 20,
     "metadata": {},
     "output_type": "execute_result"
    }
   ],
   "source": [
    "pars = np.polyfit([0, d / 2, d], # x-points\n",
    "                  [0, 0.5, 0], # y-points\n",
    "                  2)  # polynomial order = 2  \n",
    "pars"
   ]
  },
  {
   "cell_type": "markdown",
   "metadata": {
    "id": "aMm60gomLxC0"
   },
   "source": [
    "Now, we can define a Y grid and define the guess for the first U1.\n",
    "\n"
   ]
  },
  {
   "cell_type": "code",
   "execution_count": 21,
   "metadata": {
    "colab": {
     "base_uri": "https://localhost:8080/"
    },
    "executionInfo": {
     "elapsed": 133,
     "status": "ok",
     "timestamp": 1633439348948,
     "user": {
      "displayName": "John Kitchin",
      "photoUrl": "https://lh3.googleusercontent.com/a/default-user=s64",
      "userId": "14782011281593705406"
     },
     "user_tz": 240
    },
    "id": "qnu7ce6uLxC1",
    "outputId": "7091ea94-8543-441a-dfc3-60b13a42b27a"
   },
   "outputs": [
    {
     "data": {
      "text/plain": [
       "array([-4.70357789e-16,  3.99833403e-02,  7.83007080e-02,  1.14952103e-01,\n",
       "        1.49937526e-01,  1.83256976e-01,  2.14910454e-01,  2.44897959e-01,\n",
       "        2.73219492e-01,  2.99875052e-01,  3.24864640e-01,  3.48188255e-01,\n",
       "        3.69845898e-01,  3.89837568e-01,  4.08163265e-01,  4.24822990e-01,\n",
       "        4.39816743e-01,  4.53144523e-01,  4.64806331e-01,  4.74802166e-01,\n",
       "        4.83132028e-01,  4.89795918e-01,  4.94793836e-01,  4.98125781e-01,\n",
       "        4.99791753e-01,  4.99791753e-01,  4.98125781e-01,  4.94793836e-01,\n",
       "        4.89795918e-01,  4.83132028e-01,  4.74802166e-01,  4.64806331e-01,\n",
       "        4.53144523e-01,  4.39816743e-01,  4.24822990e-01,  4.08163265e-01,\n",
       "        3.89837568e-01,  3.69845898e-01,  3.48188255e-01,  3.24864640e-01,\n",
       "        2.99875052e-01,  2.73219492e-01,  2.44897959e-01,  2.14910454e-01,\n",
       "        1.83256976e-01,  1.49937526e-01,  1.14952103e-01,  7.83007080e-02,\n",
       "        3.99833403e-02,  5.95456315e-16])"
      ]
     },
     "execution_count": 21,
     "metadata": {},
     "output_type": "execute_result"
    }
   ],
   "source": [
    "Y = np.linspace(0, d)\n",
    "\n",
    "U1 = np.polyval(pars, Y)\n",
    "U1"
   ]
  },
  {
   "cell_type": "code",
   "execution_count": 23,
   "metadata": {
    "colab": {
     "base_uri": "https://localhost:8080/",
     "height": 265
    },
    "executionInfo": {
     "elapsed": 308,
     "status": "ok",
     "timestamp": 1633439371815,
     "user": {
      "displayName": "John Kitchin",
      "photoUrl": "https://lh3.googleusercontent.com/a/default-user=s64",
      "userId": "14782011281593705406"
     },
     "user_tz": 240
    },
    "id": "SrOCBNdEkqby",
    "outputId": "f77986fa-ae53-4477-db77-6a6774853535"
   },
   "outputs": [
    {
     "data": {
      "image/png": "[encoded data removed]",
      "text/plain": [
       "<Figure size 432x288 with 1 Axes>"
      ]
     },
     "metadata": {
      "needs_background": "light"
     },
     "output_type": "display_data"
    }
   ],
   "source": [
    "plt.plot(Y, U1)\n",
    "plt.xlabel('y')\n",
    "plt.ylabel('u1');"
   ]
  },
  {
   "cell_type": "markdown",
   "metadata": {
    "id": "OKb3PJdQLxC7"
   },
   "source": [
    "We also need a guess for U2, and in this case we know that $u2 = u1'$, so we just use that.\n",
    "\n"
   ]
  },
  {
   "cell_type": "code",
   "execution_count": 24,
   "metadata": {
    "colab": {
     "base_uri": "https://localhost:8080/"
    },
    "executionInfo": {
     "elapsed": 112,
     "status": "ok",
     "timestamp": 1633439438779,
     "user": {
      "displayName": "John Kitchin",
      "photoUrl": "https://lh3.googleusercontent.com/a/default-user=s64",
      "userId": "14782011281593705406"
     },
     "user_tz": 240
    },
    "id": "SjxGfbXPLxC9",
    "outputId": "b8752812-9565-4fd3-84ab-928b9ae53497"
   },
   "outputs": [
    {
     "name": "stdout",
     "output_type": "stream",
     "text": [
      "(2, 50)\n"
     ]
    }
   ],
   "source": [
    "U2 = np.gradient(U1, Y, edge_order=2)\n",
    "\n",
    "U = np.array([U1, U2])\n",
    "print(U.shape)"
   ]
  },
  {
   "cell_type": "markdown",
   "metadata": {
    "id": "urG4qGJLLxDC"
   },
   "source": [
    "You should *always* visualize the guess to make sure it does what you want. It is **hard** to make these!\n",
    "\n"
   ]
  },
  {
   "cell_type": "code",
   "execution_count": 25,
   "metadata": {
    "colab": {
     "base_uri": "https://localhost:8080/",
     "height": 279
    },
    "executionInfo": {
     "elapsed": 269,
     "status": "ok",
     "timestamp": 1633439926104,
     "user": {
      "displayName": "John Kitchin",
      "photoUrl": "https://lh3.googleusercontent.com/a/default-user=s64",
      "userId": "14782011281593705406"
     },
     "user_tz": 240
    },
    "id": "sDmAb8qyLxDD",
    "outputId": "760bbf69-6d9c-43e8-f5f3-5e32b35bd42c"
   },
   "outputs": [
    {
     "data": {
      "image/png": "[encoded data removed]",
      "text/plain": [
       "<Figure size 432x288 with 1 Axes>"
      ]
     },
     "metadata": {
      "needs_background": "light"
     },
     "output_type": "display_data"
    }
   ],
   "source": [
    "import matplotlib.pyplot as plt\n",
    "\n",
    "plt.plot(Y, U[0], label=\"u1\")\n",
    "plt.tick_params(\"y\", colors=\"b\")\n",
    "plt.ylabel(\"u1\")\n",
    "plt.xlabel(\"y\")\n",
    "plt.legend([\"u1\"])\n",
    "\n",
    "# plt.twinx()\n",
    "plt.plot(Y, 0.01 * U[1], \"r\", label=\"0.01 * u2\")\n",
    "plt.tick_params(\"y\", colors=\"r\")\n",
    "plt.ylabel(\"u2\", color='r')\n",
    "plt.legend();"
   ]
  },
  {
   "cell_type": "markdown",
   "metadata": {
    "id": "zyONkwB7LxDK"
   },
   "source": [
    "Now, we are ready to solve the BVP. Let's check that all the functions work correctly, e.g. they don't result in errors and return the right things.\n",
    "\n",
    "`bvp` takes an array of Y and U values, and returns the derivatives at each point for each equation.\n",
    "\n"
   ]
  },
  {
   "cell_type": "code",
   "execution_count": 28,
   "metadata": {
    "colab": {
     "base_uri": "https://localhost:8080/"
    },
    "executionInfo": {
     "elapsed": 125,
     "status": "ok",
     "timestamp": 1633439657207,
     "user": {
      "displayName": "John Kitchin",
      "photoUrl": "https://lh3.googleusercontent.com/a/default-user=s64",
      "userId": "14782011281593705406"
     },
     "user_tz": 240
    },
    "id": "fHowAIBcCpGl",
    "outputId": "cf958496-249e-407a-cac7-6c9d2278e843"
   },
   "outputs": [
    {
     "data": {
      "text/plain": [
       "[array([ 20.        ,  19.18367347,  18.36734694,  17.55102041,\n",
       "         16.73469388,  15.91836735,  15.10204082,  14.28571429,\n",
       "         13.46938776,  12.65306122,  11.83673469,  11.02040816,\n",
       "         10.20408163,   9.3877551 ,   8.57142857,   7.75510204,\n",
       "          6.93877551,   6.12244898,   5.30612245,   4.48979592,\n",
       "          3.67346939,   2.85714286,   2.04081633,   1.2244898 ,\n",
       "          0.40816327,  -0.40816327,  -1.2244898 ,  -2.04081633,\n",
       "         -2.85714286,  -3.67346939,  -4.48979592,  -5.30612245,\n",
       "         -6.12244898,  -6.93877551,  -7.75510204,  -8.57142857,\n",
       "         -9.3877551 , -10.20408163, -11.02040816, -11.83673469,\n",
       "        -12.65306122, -13.46938776, -14.28571429, -15.10204082,\n",
       "        -15.91836735, -16.73469388, -17.55102041, -18.36734694,\n",
       "        -19.18367347, -20.        ]),\n",
       " array([-100., -100., -100., -100., -100., -100., -100., -100., -100.,\n",
       "        -100., -100., -100., -100., -100., -100., -100., -100., -100.,\n",
       "        -100., -100., -100., -100., -100., -100., -100., -100., -100.,\n",
       "        -100., -100., -100., -100., -100., -100., -100., -100., -100.,\n",
       "        -100., -100., -100., -100., -100., -100., -100., -100., -100.,\n",
       "        -100., -100., -100., -100., -100.])]"
      ]
     },
     "execution_count": 28,
     "metadata": {},
     "output_type": "execute_result"
    }
   ],
   "source": [
    "bvp(Y, U)"
   ]
  },
  {
   "cell_type": "markdown",
   "metadata": {},
   "source": [
    "`bc` takes the solution values at the boundaries, and returns a value for each one. Eventually, these values should be zero. We construct our guess to do this, so we expect zeros here."
   ]
  },
  {
   "cell_type": "code",
   "execution_count": 29,
   "metadata": {
    "colab": {
     "base_uri": "https://localhost:8080/"
    },
    "executionInfo": {
     "elapsed": 111,
     "status": "ok",
     "timestamp": 1633439701506,
     "user": {
      "displayName": "John Kitchin",
      "photoUrl": "https://lh3.googleusercontent.com/a/default-user=s64",
      "userId": "14782011281593705406"
     },
     "user_tz": 240
    },
    "id": "-G8CE-2HCwHN",
    "outputId": "55af7ec4-640a-43d1-acf9-dccc38b51890"
   },
   "outputs": [
    {
     "data": {
      "text/plain": [
       "[-4.703577888813712e-16, 5.954563147587792e-16]"
      ]
     },
     "execution_count": 29,
     "metadata": {},
     "output_type": "execute_result"
    }
   ],
   "source": [
    "bc(U[:, 0], U[:, -1])"
   ]
  },
  {
   "cell_type": "code",
   "execution_count": 30,
   "metadata": {
    "colab": {
     "base_uri": "https://localhost:8080/",
     "height": 296
    },
    "executionInfo": {
     "elapsed": 442,
     "status": "ok",
     "timestamp": 1633439723263,
     "user": {
      "displayName": "John Kitchin",
      "photoUrl": "https://lh3.googleusercontent.com/a/default-user=s64",
      "userId": "14782011281593705406"
     },
     "user_tz": 240
    },
    "id": "zooqEP0-LxDL",
    "outputId": "051e430b-4db6-4896-85f9-5d11755df0da"
   },
   "outputs": [
    {
     "name": "stdout",
     "output_type": "stream",
     "text": [
      "The algorithm converged to the desired accuracy.\n"
     ]
    },
    {
     "data": {
      "image/png": "[encoded data removed]",
      "text/plain": [
       "<Figure size 432x288 with 1 Axes>"
      ]
     },
     "metadata": {
      "needs_background": "light"
     },
     "output_type": "display_data"
    }
   ],
   "source": [
    "from scipy.integrate import solve_bvp\n",
    "\n",
    "sol = solve_bvp(bvp, bc, Y, U)\n",
    "print(sol.message)\n",
    "plt.plot(sol.x, sol.y[0])\n",
    "plt.xlabel(\"y\")\n",
    "plt.ylabel(\"U\");"
   ]
  },
  {
   "cell_type": "markdown",
   "metadata": {
    "id": "L_m0twMKm8p3"
   },
   "source": [
    "## Some alternate ways to make initial guesses\n",
    "There are many ways to approach this. Anything with a smooth hump is likely to work."
   ]
  },
  {
   "cell_type": "code",
   "execution_count": 31,
   "metadata": {
    "colab": {
     "base_uri": "https://localhost:8080/",
     "height": 265
    },
    "executionInfo": {
     "elapsed": 428,
     "status": "ok",
     "timestamp": 1633440069590,
     "user": {
      "displayName": "John Kitchin",
      "photoUrl": "https://lh3.googleusercontent.com/a/default-user=s64",
      "userId": "14782011281593705406"
     },
     "user_tz": 240
    },
    "id": "5fkRCpAhnQrC",
    "outputId": "cc75de20-edb3-4153-bf4a-db1eeeeb3ee9"
   },
   "outputs": [
    {
     "data": {
      "image/png": "[encoded data removed]",
      "text/plain": [
       "<Figure size 432x288 with 1 Axes>"
      ]
     },
     "metadata": {
      "needs_background": "light"
     },
     "output_type": "display_data"
    }
   ],
   "source": [
    "# a sin\n",
    "U1 = 0.2 * np.sin(Y * np.pi / 0.1)\n",
    "U2 = np.gradient(U1)\n",
    "plt.plot(Y, U1, Y, U2);"
   ]
  },
  {
   "cell_type": "code",
   "execution_count": 32,
   "metadata": {
    "colab": {
     "base_uri": "https://localhost:8080/",
     "height": 296
    },
    "executionInfo": {
     "elapsed": 306,
     "status": "ok",
     "timestamp": 1633440096084,
     "user": {
      "displayName": "John Kitchin",
      "photoUrl": "https://lh3.googleusercontent.com/a/default-user=s64",
      "userId": "14782011281593705406"
     },
     "user_tz": 240
    },
    "id": "5LhmfQ4HDQOn",
    "outputId": "317e5b9a-8149-4062-cf1c-f6ea2032c883"
   },
   "outputs": [
    {
     "name": "stdout",
     "output_type": "stream",
     "text": [
      "The algorithm converged to the desired accuracy.\n"
     ]
    },
    {
     "data": {
      "image/png": "[encoded data removed]",
      "text/plain": [
       "<Figure size 432x288 with 1 Axes>"
      ]
     },
     "metadata": {
      "needs_background": "light"
     },
     "output_type": "display_data"
    }
   ],
   "source": [
    "sol = solve_bvp(bvp, bc, Y, [U1, U2])\n",
    "\n",
    "print(sol.message)\n",
    "plt.plot(sol.x, sol.y[0])\n",
    "plt.xlabel(\"y\")\n",
    "plt.ylabel(\"U\")\n",
    "\n",
    "plt.plot(Y, U1)\n",
    "plt.legend([\"soln\", \"guess\"]);"
   ]
  },
  {
   "cell_type": "code",
   "execution_count": 33,
   "metadata": {
    "colab": {
     "base_uri": "https://localhost:8080/",
     "height": 300
    },
    "executionInfo": {
     "elapsed": 254,
     "status": "ok",
     "timestamp": 1633440222114,
     "user": {
      "displayName": "John Kitchin",
      "photoUrl": "https://lh3.googleusercontent.com/a/default-user=s64",
      "userId": "14782011281593705406"
     },
     "user_tz": 240
    },
    "id": "6b4pWBImnkdA",
    "outputId": "1978854d-71f5-420f-90a6-b51b91668745"
   },
   "outputs": [
    {
     "data": {
      "image/png": "[encoded data removed]",
      "text/plain": [
       "<Figure size 432x288 with 1 Axes>"
      ]
     },
     "metadata": {
      "needs_background": "light"
     },
     "output_type": "display_data"
    }
   ],
   "source": [
    "# a triangle wave\n",
    "p1 = np.polyfit([0, d / 2], [0, 0.2], 1)\n",
    "p2 = np.polyfit([d / 2, d], [0.2, 0], 1)\n",
    "\n",
    "U1 = np.zeros(Y.shape)\n",
    "# U1[0: 25] = np.polyval(p1, Y[0: 25])\n",
    "# U1[25:] = np.polyval(p2, Y[25:])\n",
    "i1 = Y < d / 2\n",
    "U1[i1] = np.polyval(p1, Y[i1])\n",
    "\n",
    "i2 = Y >= d / 2\n",
    "U1[i2] = np.polyval(p2, Y[i2])\n",
    "\n",
    "U2 = np.gradient(U1)\n",
    "\n",
    "plt.plot(Y, U1, Y, U2);"
   ]
  },
  {
   "cell_type": "code",
   "execution_count": 34,
   "metadata": {
    "colab": {
     "base_uri": "https://localhost:8080/",
     "height": 296
    },
    "executionInfo": {
     "elapsed": 348,
     "status": "ok",
     "timestamp": 1633440230722,
     "user": {
      "displayName": "John Kitchin",
      "photoUrl": "https://lh3.googleusercontent.com/a/default-user=s64",
      "userId": "14782011281593705406"
     },
     "user_tz": 240
    },
    "id": "nfFrBDi7EnvE",
    "outputId": "98bdad7b-616c-4195-b815-2c335f418d86"
   },
   "outputs": [
    {
     "name": "stdout",
     "output_type": "stream",
     "text": [
      "The algorithm converged to the desired accuracy.\n"
     ]
    },
    {
     "data": {
      "image/png": "[encoded data removed]",
      "text/plain": [
       "<Figure size 432x288 with 1 Axes>"
      ]
     },
     "metadata": {
      "needs_background": "light"
     },
     "output_type": "display_data"
    }
   ],
   "source": [
    "sol = solve_bvp(bvp, bc, Y, [U1, U2])\n",
    "\n",
    "print(sol.message)\n",
    "plt.plot(sol.x, sol.y[0])\n",
    "plt.xlabel(\"y\")\n",
    "plt.ylabel(\"U\")\n",
    "\n",
    "plt.plot(Y, U1)\n",
    "plt.legend([\"soln\", \"guess\"]);"
   ]
  },
  {
   "cell_type": "markdown",
   "metadata": {
    "id": "u8mSKpcLLxDQ"
   },
   "source": [
    "**exercise** Try using different guesses, e.g. lines, or triangle shapes, etc. What else looks like this shape? Half a cycle of a sin wave? A semi-circle?\n",
    "\n",
    "**exercise** How can you show this is a solution to the BVP?\n",
    "\n"
   ]
  },
  {
   "cell_type": "markdown",
   "metadata": {
    "id": "g685tvMYLxDR"
   },
   "source": [
    "### Concentration profile in a particle\n",
    "\n"
   ]
  },
  {
   "cell_type": "markdown",
   "metadata": {
    "id": "g1hV0AC0LxDS"
   },
   "source": [
    "Another typical boundary value problem in chemical engineering is the concentration profile inside a catalyst particle. Here is the dimensionless equation for a second order reaction in a slab. Note here we have a boundary condition on the derivative at the origin. This kind of condition means either there is no flux at this position, or that the slab is symmetric about this position.\n",
    "\n",
    "$\\frac{d^2c}{dx^2} = \\Phi^2 c^2$\n",
    "\n",
    "with $c'(0)$ = 0 and $c(1) = 1$\n",
    "\n",
    "We again convert this to a system of first order differential equations like this:\n",
    "\n",
    "Let c1 = c, c1' = c', and c2 = c1', so c2' = c1'' = c''\n",
    "\n",
    "Then we have:\n",
    "\n",
    "$c1' = c2$\n",
    "\n",
    "$c2' = \\Phi^2 c1^2$\n",
    "\n",
    "with boundary conditions $c1'(0) = 0$ and $c1(1) = 1$.\n",
    "\n",
    "We begin with the required functions:\n",
    "\n"
   ]
  },
  {
   "cell_type": "code",
   "execution_count": 35,
   "metadata": {
    "id": "S8obh-HALxDT"
   },
   "outputs": [],
   "source": [
    "Phi = 50\n",
    "\n",
    "\n",
    "def bvp(x, C):\n",
    "    c1, c2 = C\n",
    "    dc1dx = c2\n",
    "    dc2dx = Phi**2 * c1**2\n",
    "    return [dc1dx, dc2dx]\n",
    "\n",
    "\n",
    "def bc(Ca, Cb):\n",
    "    c1a, c2a = Ca\n",
    "    c1b, c2b = Cb\n",
    "\n",
    "    # Now, evaluate the derivatives at the first boundary condition\n",
    "    c1prime, c2prime = bvp(0, [c1a, c2a])\n",
    "    return [c1prime, c1b - 1]  # will all equal zero  # c1(b) = 1"
   ]
  },
  {
   "cell_type": "markdown",
   "metadata": {
    "id": "BVBiJ98-LxDZ"
   },
   "source": [
    "We need an initial guess. We make a naive one, that $c(x) = 1$ in the slab, i.e. there is no reaction. As usual, we visualize the guess to be sure it does what we intended."
   ]
  },
  {
   "cell_type": "code",
   "execution_count": 36,
   "metadata": {
    "colab": {
     "base_uri": "https://localhost:8080/",
     "height": 265
    },
    "executionInfo": {
     "elapsed": 298,
     "status": "ok",
     "timestamp": 1633440902009,
     "user": {
      "displayName": "John Kitchin",
      "photoUrl": "https://lh3.googleusercontent.com/a/default-user=s64",
      "userId": "14782011281593705406"
     },
     "user_tz": 240
    },
    "id": "81eZJKw1LxDa",
    "outputId": "1a6752fd-7b39-4e50-b504-fa01f4cb3c1b"
   },
   "outputs": [
    {
     "data": {
      "image/png": "[encoded data removed]",
      "text/plain": [
       "<Figure size 432x288 with 1 Axes>"
      ]
     },
     "metadata": {
      "needs_background": "light"
     },
     "output_type": "display_data"
    }
   ],
   "source": [
    "X = np.linspace(0, 1)\n",
    "\n",
    "C1 = np.ones(X.shape)\n",
    "C2 = np.gradient(C1, X)\n",
    "\n",
    "plt.plot(X, C1);"
   ]
  },
  {
   "cell_type": "markdown",
   "metadata": {
    "id": "Dwe5vnsHLxDg"
   },
   "source": [
    "Now we solve the system.\n",
    "\n"
   ]
  },
  {
   "cell_type": "code",
   "execution_count": 37,
   "metadata": {
    "colab": {
     "base_uri": "https://localhost:8080/",
     "height": 35
    },
    "executionInfo": {
     "elapsed": 132,
     "status": "ok",
     "timestamp": 1633440903963,
     "user": {
      "displayName": "John Kitchin",
      "photoUrl": "https://lh3.googleusercontent.com/a/default-user=s64",
      "userId": "14782011281593705406"
     },
     "user_tz": 240
    },
    "id": "cpvjN-QHLxDh",
    "outputId": "3affa208-e116-4636-ff3a-67f7edb51d70"
   },
   "outputs": [
    {
     "data": {
      "text/plain": [
       "'The algorithm converged to the desired accuracy.'"
      ]
     },
     "execution_count": 37,
     "metadata": {},
     "output_type": "execute_result"
    }
   ],
   "source": [
    "C = [C1, C2]\n",
    "sol = solve_bvp(bvp, bc, X, C)\n",
    "sol.message"
   ]
  },
  {
   "cell_type": "code",
   "execution_count": 38,
   "metadata": {
    "colab": {
     "base_uri": "https://localhost:8080/",
     "height": 283
    },
    "executionInfo": {
     "elapsed": 300,
     "status": "ok",
     "timestamp": 1633440906148,
     "user": {
      "displayName": "John Kitchin",
      "photoUrl": "https://lh3.googleusercontent.com/a/default-user=s64",
      "userId": "14782011281593705406"
     },
     "user_tz": 240
    },
    "id": "oA4Xo-YmLxDn",
    "outputId": "5ca74896-2450-40d4-c1d7-052b9c72f4f7"
   },
   "outputs": [
    {
     "data": {
      "image/png": "[encoded data removed]",
      "text/plain": [
       "<Figure size 432x288 with 1 Axes>"
      ]
     },
     "metadata": {
      "needs_background": "light"
     },
     "output_type": "display_data"
    }
   ],
   "source": [
    "plt.plot(sol.x, sol.y[0], \"b.\")\n",
    "plt.xlabel(\"x\")\n",
    "plt.ylabel(\"C\")\n",
    "plt.xlim([0, 1])\n",
    "plt.ylim([0, 1]);"
   ]
  },
  {
   "cell_type": "markdown",
   "metadata": {
    "id": "77HNvVBTLxDs"
   },
   "source": [
    "You can see the solution looks nothing like our initial guess. In this case, a high thiele modulus means most of the reaction happens near the catalyst surface, and the interior of the slab has hardly any reactant in it. This solution is consistent with that.\n",
    "\n",
    "The effectiveness factor for this system is defined by:\n",
    "\n",
    "$E = \\int_0^1 c^2 dx$\n",
    "\n",
    "We can estimate this with the trapezoid or Simpson's method (remember that the solution is a vector of numbers).\n",
    "\n"
   ]
  },
  {
   "cell_type": "code",
   "execution_count": 40,
   "metadata": {
    "colab": {
     "base_uri": "https://localhost:8080/"
    },
    "executionInfo": {
     "elapsed": 5,
     "status": "ok",
     "timestamp": 1633440916443,
     "user": {
      "displayName": "John Kitchin",
      "photoUrl": "https://lh3.googleusercontent.com/a/default-user=s64",
      "userId": "14782011281593705406"
     },
     "user_tz": 240
    },
    "id": "y9EuJ1B2IjQr",
    "outputId": "67c3e6af-943c-4b3b-ee4a-af77439bf566"
   },
   "outputs": [
    {
     "data": {
      "text/plain": [
       "dict_keys(['sol', 'p', 'x', 'y', 'yp', 'rms_residuals', 'niter', 'status', 'message', 'success'])"
      ]
     },
     "execution_count": 40,
     "metadata": {},
     "output_type": "execute_result"
    }
   ],
   "source": [
    "sol.keys()"
   ]
  },
  {
   "cell_type": "code",
   "execution_count": 41,
   "metadata": {
    "colab": {
     "base_uri": "https://localhost:8080/"
    },
    "executionInfo": {
     "elapsed": 6,
     "status": "ok",
     "timestamp": 1633440916921,
     "user": {
      "displayName": "John Kitchin",
      "photoUrl": "https://lh3.googleusercontent.com/a/default-user=s64",
      "userId": "14782011281593705406"
     },
     "user_tz": 240
    },
    "id": "a7xin9UoLxDt",
    "outputId": "ac7286a3-9643-45a9-ab97-7855477040f5"
   },
   "outputs": [
    {
     "name": "stdout",
     "output_type": "stream",
     "text": [
      "0.016528962860989843\n",
      "0.0163346209448209\n"
     ]
    }
   ],
   "source": [
    "c = sol.y[0]\n",
    "print(np.trapz(c**2, sol.x))\n",
    "\n",
    "from scipy.integrate import simps\n",
    "\n",
    "print(simps(c**2, sol.x))"
   ]
  },
  {
   "cell_type": "code",
   "execution_count": 42,
   "metadata": {
    "colab": {
     "base_uri": "https://localhost:8080/"
    },
    "executionInfo": {
     "elapsed": 122,
     "status": "ok",
     "timestamp": 1633440841180,
     "user": {
      "displayName": "John Kitchin",
      "photoUrl": "https://lh3.googleusercontent.com/a/default-user=s64",
      "userId": "14782011281593705406"
     },
     "user_tz": 240
    },
    "id": "GhGRzK5xI1cx",
    "outputId": "5f2ab304-8351-4da5-c89f-9729fd030ee1"
   },
   "outputs": [
    {
     "data": {
      "text/plain": [
       "array([0.00454622, 0.00999503])"
      ]
     },
     "execution_count": 42,
     "metadata": {},
     "output_type": "execute_result"
    }
   ],
   "source": [
    "sol.sol(0.3)  # callable interpolation function to estimate your solution"
   ]
  },
  {
   "cell_type": "markdown",
   "metadata": {
    "id": "MXcXwCEaLxDy"
   },
   "source": [
    "Or, we can use the dense\\_output of the solution with quad.\n",
    "\n"
   ]
  },
  {
   "cell_type": "code",
   "execution_count": 43,
   "metadata": {
    "colab": {
     "base_uri": "https://localhost:8080/"
    },
    "executionInfo": {
     "elapsed": 289,
     "status": "ok",
     "timestamp": 1633440865963,
     "user": {
      "displayName": "John Kitchin",
      "photoUrl": "https://lh3.googleusercontent.com/a/default-user=s64",
      "userId": "14782011281593705406"
     },
     "user_tz": 240
    },
    "id": "sHctdW7yLxD0",
    "outputId": "e1e2d7e2-3de3-4b54-e1dd-72268f37e9a1"
   },
   "outputs": [
    {
     "data": {
      "text/plain": [
       "(0.016329985883573477, 9.761482248609782e-09)"
      ]
     },
     "execution_count": 43,
     "metadata": {},
     "output_type": "execute_result"
    }
   ],
   "source": [
    "from scipy.integrate import quad\n",
    "\n",
    "\n",
    "def integrand(x):\n",
    "    c1, c2 = sol.sol(x)\n",
    "    return c1**2\n",
    "\n",
    "\n",
    "quad(integrand, 0, 1)"
   ]
  },
  {
   "cell_type": "code",
   "execution_count": 44,
   "metadata": {
    "colab": {
     "base_uri": "https://localhost:8080/"
    },
    "executionInfo": {
     "elapsed": 120,
     "status": "ok",
     "timestamp": 1633441571323,
     "user": {
      "displayName": "John Kitchin",
      "photoUrl": "https://lh3.googleusercontent.com/a/default-user=s64",
      "userId": "14782011281593705406"
     },
     "user_tz": 240
    },
    "id": "7agbR45qsPUV",
    "outputId": "c78de5ad-82b6-4970-8a66-3b2bc58dca67"
   },
   "outputs": [
    {
     "data": {
      "text/plain": [
       "array([0.0387161 , 0.31090853])"
      ]
     },
     "execution_count": 44,
     "metadata": {},
     "output_type": "execute_result"
    }
   ],
   "source": [
    "sol.sol(0.8)  # interpolating function on the BVP solution"
   ]
  },
  {
   "cell_type": "code",
   "execution_count": 45,
   "metadata": {
    "colab": {
     "base_uri": "https://localhost:8080/"
    },
    "executionInfo": {
     "elapsed": 117,
     "status": "ok",
     "timestamp": 1633441434107,
     "user": {
      "displayName": "John Kitchin",
      "photoUrl": "https://lh3.googleusercontent.com/a/default-user=s64",
      "userId": "14782011281593705406"
     },
     "user_tz": 240
    },
    "id": "9VUJto-msW2v",
    "outputId": "5c469770-0f35-419a-eb6d-4f41ec1e76ae"
   },
   "outputs": [
    {
     "data": {
      "text/plain": [
       "array([0.93944403])"
      ]
     },
     "execution_count": 45,
     "metadata": {},
     "output_type": "execute_result"
    }
   ],
   "source": [
    "def objective(x):\n",
    "    return 0.2 - sol.sol(x)[0]\n",
    "\n",
    "\n",
    "from scipy.optimize import fsolve\n",
    "\n",
    "fsolve(objective, 0.8)"
   ]
  },
  {
   "cell_type": "markdown",
   "metadata": {
    "id": "9LECXStILxD7"
   },
   "source": [
    "**excercise** Repeat this example for different values of &Phi;.\n",
    "\n",
    "**exercise** Try different kinds of guesses. Think of a guess that has the properties of the boundary conditions, e.g. c'(0) = 0, and c(1) = 1.\n",
    "\n",
    "**exercise** Evaluate the quality of the solution based on the equations.\n",
    "\n"
   ]
  },
  {
   "cell_type": "markdown",
   "metadata": {
    "id": "IKlMK3upLxD8"
   },
   "source": [
    "## Summary\n",
    "\n"
   ]
  },
  {
   "cell_type": "markdown",
   "metadata": {
    "id": "kR2h7CgALxD-"
   },
   "source": [
    "Today, we leveraged the ability to solve systems of nonlinear algebraic equations to solve boundary value problems by discretizing them on a grid, approximating them at the grid points, and then solving the resulting nonlinear equations.\n",
    "\n",
    "We also learned about the solve\\_bvp function, which is in scipy.integrate to solve systems of first-order boundary value problems.\n",
    "\n",
    "Next time, we will return to nonlinear algebra to see how the algorithms can be used to find minima and maxima.\n",
    "\n"
   ]
  },
  {
   "cell_type": "code",
   "execution_count": 48,
   "metadata": {},
   "outputs": [
    {
     "name": "stdout",
     "output_type": "stream",
     "text": [
      "\n"
     ]
    },
    {
     "data": {
      "text/html": [
       "<div id=\"lhlunsAPAWab\" data-shufflequestions=\"False\"\n",
       "               data-shuffleanswers=\"True\"\n",
       "               data-preserveresponses=\"false\"\n",
       "               data-numquestions=\"1000000\"> <style>:root {\n",
       "    --medium-slate-blue: #6f78ffff;\n",
       "    --orange-pantone: #f75c03ff;\n",
       "    --russian-violet: #392061ff;\n",
       "    --maximum-yellow-red: #ffc857ff;\n",
       "    --viridian-green: #119da4ff;\n",
       "    --incorrect-red: #c80202;\n",
       "    --correct-green: #009113;\n",
       "}\n",
       "\n",
       ".Quiz {\n",
       "    max-width: 600px;\n",
       "    margin-top: 15px;\n",
       "    margin-left: auto;\n",
       "    margin-right: auto;\n",
       "    margin-bottom: 15px;\n",
       "    padding-bottom: 4px;\n",
       "    padding-top: 4px;\n",
       "    line-height: 1.1;\n",
       "    font-size: 16pt;\n",
       "}\n",
       "\n",
       ".QuizCode {\n",
       "    font-size: 14pt;\n",
       "    margin-top: 10px;\n",
       "    margin-left: 20px;\n",
       "    margin-right: 20px;\n",
       "}\n",
       "\n",
       ".QuizCode>pre {\n",
       "    padding: 4px;\n",
       "}\n",
       "\n",
       ".Answer {\n",
       "    margin: 10px 0;\n",
       "    display: grid;\n",
       "    grid-template-columns: auto auto;\n",
       "    grid-gap: 10px;\n",
       "}\n",
       "\n",
       ".Feedback {\n",
       "    font-size: 16pt;\n",
       "    text-align: center;\n",
       "    min-height: 2em;\n",
       "}\n",
       "\n",
       ".Input {\n",
       "    align: left;\n",
       "    font-size: 20pt;\n",
       "}\n",
       "\n",
       ".Input-text {\n",
       "    display: block;\n",
       "    margin: 10px;\n",
       "    color: inherit;\n",
       "    width: 140px;\n",
       "    background-color: #c0c0c0;\n",
       "    color: #fff;\n",
       "    padding: 5px;\n",
       "    padding-left: 10px;\n",
       "    font-family: inherit;\n",
       "    font-size: 20px;\n",
       "    font-weight: inherit;\n",
       "    line-height: 20pt;\n",
       "    border: none;\n",
       "    border-radius: 0.2rem;\n",
       "    transition: box-shadow 0.1s);\n",
       "}\n",
       "\n",
       ".Input-text:focus {\n",
       "    outline: none;\n",
       "    background-color: #c0c0c0;\n",
       "    box-shadow: 0.6rem 0.8rem 1.4rem -0.5rem #999999;\n",
       "}\n",
       "\n",
       ".MCButton {\n",
       "    background: #fafafa;\n",
       "    border: 1px solid #eee;\n",
       "    border-radius: 10px;\n",
       "    padding: 10px;\n",
       "    font-size: 16px;\n",
       "    cursor: pointer;\n",
       "    text-align: center;\n",
       "}\n",
       "\n",
       ".MCButton p {\n",
       "    color: inherit;\n",
       "}\n",
       "\n",
       ".MultipleChoiceQn {\n",
       "    padding: 10px;\n",
       "    background: var(--medium-slate-blue);\n",
       "    color: #fafafa;\n",
       "    border-radius: 10px;\n",
       "}\n",
       "\n",
       ".ManyChoiceQn {\n",
       "    padding: 10px;\n",
       "    background: var(--orange-pantone);\n",
       "    color: #fafafa;\n",
       "    border-radius: 10px;\n",
       "}\n",
       "\n",
       ".NumericQn {\n",
       "    padding: 10px;\n",
       "    background: var(--russian-violet);\n",
       "    color: #fafafa;\n",
       "    border-radius: 10px;\n",
       "}\n",
       "\n",
       ".NumericQn p {\n",
       "    color: inherit;\n",
       "}\n",
       "\n",
       ".InpLabel {\n",
       "    line-height: 34px;\n",
       "    float: left;\n",
       "    margin-right: 10px;\n",
       "    color: #101010;\n",
       "    font-size: 15pt;\n",
       "}\n",
       "\n",
       ".incorrect {\n",
       "    color: var(--incorrect-red);\n",
       "}\n",
       "\n",
       ".correct {\n",
       "    color: var(--correct-green);\n",
       "}\n",
       "\n",
       ".correctButton {\n",
       "    /*\n",
       "    background: var(--correct-green);\n",
       "   */\n",
       "    animation: correct-anim 0.6s ease;\n",
       "    animation-fill-mode: forwards;\n",
       "    color: #fafafa;\n",
       "    box-shadow: inset 0px 0px 5px #555555;\n",
       "    outline: none;\n",
       "}\n",
       "\n",
       ".incorrectButton {\n",
       "    animation: incorrect-anim 0.8s ease;\n",
       "    animation-fill-mode: forwards;\n",
       "    color: #fafafa;\n",
       "    box-shadow: inset 0px 0px 5px #555555;\n",
       "    outline: none;\n",
       "}\n",
       "\n",
       "@keyframes incorrect-anim {\n",
       "    100% {\n",
       "        background-color: var(--incorrect-red);\n",
       "    }\n",
       "}\n",
       "\n",
       "@keyframes correct-anim {\n",
       "    100% {\n",
       "        background-color: var(--correct-green);\n",
       "    }\n",
       "}</style>"
      ],
      "text/plain": [
       "<IPython.core.display.HTML object>"
      ]
     },
     "metadata": {},
     "output_type": "display_data"
    },
    {
     "data": {
      "application/javascript": [
       "var questionslhlunsAPAWab=[{\"question\": \"A set of linear differential equations can be solved using\", \"type\": \"multiple_choice\", \"answers\": [{\"answer\": \"solve_bvp() if we know the boundary conditions\", \"correct\": false}, {\"answer\": \"With fsolve() and an integration function if we have a good initial guess\", \"correct\": false}, {\"answer\": \"solve_ivp() if we know the initial conditions\", \"correct\": false}, {\"answer\": \"All of the above\", \"correct\": true}], \"tag\": \"scipy\", \"lecture_file\": \"09_bvp\"}, {\"question\": \"Using finite difference method, find the value of y\\\", <br>if y = [0.87, 0.87]<br>h = 1.0, and the end points are at 0, 0.\", \"type\": \"multiple_choice\", \"answers\": [{\"answer\": \"[-0.87, -0.87]\", \"correct\": false}, {\"answer\": \"[-0.87, -0.98]\", \"correct\": true}, {\"answer\": \"[-0.98, -0.98]\", \"correct\": false}, {\"answer\": \"[0.98, 0.98]\", \"correct\": false}], \"tag\": \"bvp finite_difference\", \"lecture_file\": \"09_bvp\"}, {\"question\": \"Using finite difference method, find the values of y', <br>if y = [3.,  5.,  7.,  9., 11., 13.]<br>h = 0.2, and the end points are at 1, 15.\", \"type\": \"multiple_choice\", \"answers\": [{\"answer\": \"[10, 10, 10, 10, 10, 10]\", \"correct\": true}, {\"answer\": \"2\", \"correct\": false}, {\"answer\": \"[2, 2, 2, 2, 2, 2]\", \"correct\": false}, {\"answer\": \"[0, 0, 0, 0, 0, 0]\", \"correct\": false}], \"tag\": \"bvp finite_difference\", \"lecture_file\": \"09_bvp\"}, {\"question\": \"When solving d^3y/dx^3 = 0 using solve_bvp(bvp, bc, X, Y);<br>What should be the shape of Y?\", \"type\": \"multiple_choice\", \"answers\": [{\"answer\": \"(3, len(X))\", \"correct\": true}, {\"answer\": \"(len(X), 3)\", \"correct\": false}, {\"answer\": \"(3, 3)\", \"correct\": false}, {\"answer\": \"(len(X), len(X))\", \"correct\": false}], \"tag\": \"scipy\", \"lecture_file\": \"09_bvp\"}, {\"question\": \"The argument 'edge_order' in np.gradient() determines\", \"type\": \"multiple_choice\", \"answers\": [{\"answer\": \"The order of the derivative\", \"correct\": false}, {\"answer\": \"The gradient calculation method\", \"correct\": false}, {\"answer\": \"The number of points considered to calculate the gradient at the boundary\", \"correct\": true}, {\"answer\": \"The axis of the derivative\", \"correct\": false}], \"tag\": \"numpy\", \"lecture_file\": \"09_bvp\"}, {\"question\": \"<p>The following boundary condition function used for solve_bvp() suggests that:</p>\\n<pre><code class=\\\"language-python\\\">def bc(Ua, Ub):\\n    u1a, u2a, u3a = Ua\\n    u1b, u2b, u3b = Ub\\n    return [u1a, u2b]\\n</code></pre>\", \"type\": \"multiple_choice\", \"answers\": [{\"answer\": \"This function is not correctly written\", \"correct\": false}, {\"answer\": \"There are 3 boundaries in this system of ODEs\", \"correct\": false}, {\"answer\": \"There are 3 dependent variables  in this system of ODEs\", \"correct\": true}, {\"answer\": \"There are 3 independent variables  in this system of ODEs\", \"correct\": false}], \"tag\": \"scipy\", \"lecture_file\": \"09_bvp\"}, {\"question\": \"y(t_0) = 1<br>y'(t_0) = 0<br>above expressions would be the conditions for a \", \"type\": \"multiple_choice\", \"answers\": [{\"answer\": \"Boundary value problem using solve_bvp()\", \"correct\": false}, {\"answer\": \"Initial value problem using solve_ivp()\", \"correct\": true}, {\"answer\": \"Both \", \"correct\": false}, {\"answer\": \"None of the above\", \"correct\": false}], \"tag\": \"scipy\", \"lecture_file\": \"09_bvp\"}, {\"question\": \"The initial guess will always determine the behaviour (shape) of the final function obtained through solve_bvp()\", \"type\": \"multiple_choice\", \"answers\": [{\"answer\": \"FALSE\", \"correct\": true}, {\"answer\": \"TRUE\", \"correct\": false}, {\"answer\": \"-\", \"correct\": false}, {\"answer\": \"-\", \"correct\": false}], \"tag\": \"scipy\", \"lecture_file\": \"09_bvp\"}, {\"question\": \"The accuracy of the finite differences method can be increased by\", \"type\": \"multiple_choice\", \"answers\": [{\"answer\": \"improving the approximations at the boundaries\", \"correct\": false}, {\"answer\": \"using a finer discretization\", \"correct\": false}, {\"answer\": \"using a spatially variable number of nodes to account for complexities in certain regions while avoiding extra computation in the simpler regions\", \"correct\": false}, {\"answer\": \"All of the above\", \"correct\": true}], \"tag\": \"finite_difference bvp\", \"lecture_file\": \"09_bvp\"}, {\"question\": \"Express the following equation as a set of linear differential equations:<br>d^2y/dx^2 = 3x + 5\", \"type\": \"multiple_choice\", \"answers\": [{\"answer\": \"du/dx = y<br>   dy/dx = 3x + 5\", \"correct\": false}, {\"answer\": \"du/dx = y<br>   du/dx = 3x + 5\", \"correct\": false}, {\"answer\": \"dy/dx = 0<br>   dydx = 3x + 5\", \"correct\": false}, {\"answer\": \"dy/dx = u<br>   du/dx = 3x + 5\", \"correct\": true}], \"tag\": \"ode\", \"lecture_file\": \"09_bvp\"}];\n",
       "    // Make a random ID\n",
       "function makeid(length) {\n",
       "    var result = [];\n",
       "    var characters = 'ABCDEFGHIJKLMNOPQRSTUVWXYZabcdefghijklmnopqrstuvwxyz';\n",
       "    var charactersLength = characters.length;\n",
       "    for (var i = 0; i < length; i++) {\n",
       "        result.push(characters.charAt(Math.floor(Math.random() * charactersLength)));\n",
       "    }\n",
       "    return result.join('');\n",
       "}\n",
       "\n",
       "// Choose a random subset of an array. Can also be used to shuffle the array\n",
       "function getRandomSubarray(arr, size) {\n",
       "    var shuffled = arr.slice(0), i = arr.length, temp, index;\n",
       "    while (i--) {\n",
       "        index = Math.floor((i + 1) * Math.random());\n",
       "        temp = shuffled[index];\n",
       "        shuffled[index] = shuffled[i];\n",
       "        shuffled[i] = temp;\n",
       "    }\n",
       "    return shuffled.slice(0, size);\n",
       "}\n",
       "\n",
       "function printResponses(responsesContainer) {\n",
       "    var responses=JSON.parse(responsesContainer.dataset.responses);\n",
       "    var stringResponses='<B>IMPORTANT!</B>To preserve this answer sequence for submission, when you have finalized your answers: <ol> <li> Copy the text in this cell below \"Answer String\"</li> <li> Double click on the cell directly below the Answer String, labeled \"Replace Me\"</li> <li> Select the whole \"Replace Me\" text</li> <li> Paste in your answer string and press shift-Enter.</li><li>Save the notebook using the save icon or File->Save Notebook menu item</li></ul><br><br><br><b>Answer String:</b><br> ';\n",
       "    console.log(responses);\n",
       "    responses.forEach((response, index) => {\n",
       "        if (response) {\n",
       "            console.log(index + ': ' + response);\n",
       "            stringResponses+= index + ': ' + response +\"<BR>\";\n",
       "        }\n",
       "    });\n",
       "    responsesContainer.innerHTML=stringResponses;\n",
       "}\n",
       "function check_mc() {\n",
       "    var id = this.id.split('-')[0];\n",
       "    //var response = this.id.split('-')[1];\n",
       "    //console.log(response);\n",
       "    //console.log(\"In check_mc(), id=\"+id);\n",
       "    //console.log(event.srcElement.id)           \n",
       "    //console.log(event.srcElement.dataset.correct)   \n",
       "    //console.log(event.srcElement.dataset.feedback)\n",
       "\n",
       "    var label = event.srcElement;\n",
       "    //console.log(label, label.nodeName);\n",
       "    var depth = 0;\n",
       "    while ((label.nodeName != \"LABEL\") && (depth < 20)) {\n",
       "        label = label.parentElement;\n",
       "        console.log(depth, label);\n",
       "        depth++;\n",
       "    }\n",
       "\n",
       "\n",
       "\n",
       "    var answers = label.parentElement.children;\n",
       "\n",
       "    //console.log(answers);\n",
       "\n",
       "\n",
       "    // Split behavior based on multiple choice vs many choice:\n",
       "    var fb = document.getElementById(\"fb\" + id);\n",
       "\n",
       "\n",
       "\n",
       "\n",
       "    if (fb.dataset.numcorrect == 1) {\n",
       "        // What follows is for the saved responses stuff\n",
       "        var outerContainer = fb.parentElement.parentElement;\n",
       "        var responsesContainer = document.getElementById(\"responses\" + outerContainer.id);\n",
       "        if (responsesContainer) {\n",
       "            //console.log(responsesContainer);\n",
       "            var response = label.firstChild.innerText;\n",
       "            if (label.querySelector(\".QuizCode\")){\n",
       "                response+= label.querySelector(\".QuizCode\").firstChild.innerText;\n",
       "            }\n",
       "            console.log(response);\n",
       "            //console.log(document.getElementById(\"quizWrap\"+id));\n",
       "            var qnum = document.getElementById(\"quizWrap\"+id).dataset.qnum;\n",
       "            console.log(\"Question \" + qnum);\n",
       "            //console.log(id, \", got numcorrect=\",fb.dataset.numcorrect);\n",
       "            var responses=JSON.parse(responsesContainer.dataset.responses);\n",
       "            console.log(responses);\n",
       "            responses[qnum]= response;\n",
       "            responsesContainer.setAttribute('data-responses', JSON.stringify(responses));\n",
       "            printResponses(responsesContainer);\n",
       "        }\n",
       "        // End code to preserve responses\n",
       "        \n",
       "        for (var i = 0; i < answers.length; i++) {\n",
       "            var child = answers[i];\n",
       "            //console.log(child);\n",
       "            child.className = \"MCButton\";\n",
       "        }\n",
       "\n",
       "\n",
       "\n",
       "        if (label.dataset.correct == \"true\") {\n",
       "            // console.log(\"Correct action\");\n",
       "            if (\"feedback\" in label.dataset) {\n",
       "                fb.textContent = jaxify(label.dataset.feedback);\n",
       "            } else {\n",
       "                fb.textContent = \"Correct!\";\n",
       "            }\n",
       "            label.classList.add(\"correctButton\");\n",
       "\n",
       "            fb.className = \"Feedback\";\n",
       "            fb.classList.add(\"correct\");\n",
       "\n",
       "        } else {\n",
       "            if (\"feedback\" in label.dataset) {\n",
       "                fb.textContent = jaxify(label.dataset.feedback);\n",
       "            } else {\n",
       "                fb.textContent = \"Incorrect -- try again.\";\n",
       "            }\n",
       "            //console.log(\"Error action\");\n",
       "            label.classList.add(\"incorrectButton\");\n",
       "            fb.className = \"Feedback\";\n",
       "            fb.classList.add(\"incorrect\");\n",
       "        }\n",
       "    }\n",
       "    else {\n",
       "        var reset = false;\n",
       "        var feedback;\n",
       "         if (label.dataset.correct == \"true\") {\n",
       "            if (\"feedback\" in label.dataset) {\n",
       "                feedback = jaxify(label.dataset.feedback);\n",
       "            } else {\n",
       "                feedback = \"Correct!\";\n",
       "            }\n",
       "            if (label.dataset.answered <= 0) {\n",
       "                if (fb.dataset.answeredcorrect < 0) {\n",
       "                    fb.dataset.answeredcorrect = 1;\n",
       "                    reset = true;\n",
       "                } else {\n",
       "                    fb.dataset.answeredcorrect++;\n",
       "                }\n",
       "                if (reset) {\n",
       "                    for (var i = 0; i < answers.length; i++) {\n",
       "                        var child = answers[i];\n",
       "                        child.className = \"MCButton\";\n",
       "                        child.dataset.answered = 0;\n",
       "                    }\n",
       "                }\n",
       "                label.classList.add(\"correctButton\");\n",
       "                label.dataset.answered = 1;\n",
       "                fb.className = \"Feedback\";\n",
       "                fb.classList.add(\"correct\");\n",
       "\n",
       "            }\n",
       "        } else {\n",
       "            if (\"feedback\" in label.dataset) {\n",
       "                feedback = jaxify(label.dataset.feedback);\n",
       "            } else {\n",
       "                feedback = \"Incorrect -- try again.\";\n",
       "            }\n",
       "            if (fb.dataset.answeredcorrect > 0) {\n",
       "                fb.dataset.answeredcorrect = -1;\n",
       "                reset = true;\n",
       "            } else {\n",
       "                fb.dataset.answeredcorrect--;\n",
       "            }\n",
       "\n",
       "            if (reset) {\n",
       "                for (var i = 0; i < answers.length; i++) {\n",
       "                    var child = answers[i];\n",
       "                    child.className = \"MCButton\";\n",
       "                    child.dataset.answered = 0;\n",
       "                }\n",
       "            }\n",
       "            label.classList.add(\"incorrectButton\");\n",
       "            fb.className = \"Feedback\";\n",
       "            fb.classList.add(\"incorrect\");\n",
       "        }\n",
       "        // What follows is for the saved responses stuff\n",
       "        var outerContainer = fb.parentElement.parentElement;\n",
       "        var responsesContainer = document.getElementById(\"responses\" + outerContainer.id);\n",
       "        if (responsesContainer) {\n",
       "            //console.log(responsesContainer);\n",
       "            var response = label.firstChild.innerText;\n",
       "            if (label.querySelector(\".QuizCode\")){\n",
       "                response+= label.querySelector(\".QuizCode\").firstChild.innerText;\n",
       "            }\n",
       "            console.log(response);\n",
       "            //console.log(document.getElementById(\"quizWrap\"+id));\n",
       "            var qnum = document.getElementById(\"quizWrap\"+id).dataset.qnum;\n",
       "            console.log(\"Question \" + qnum);\n",
       "            //console.log(id, \", got numcorrect=\",fb.dataset.numcorrect);\n",
       "            var responses=JSON.parse(responsesContainer.dataset.responses);\n",
       "            if (label.dataset.correct == \"true\") {\n",
       "                if (typeof(responses[qnum]) == \"object\"){\n",
       "                    if (!responses[qnum].includes(response))\n",
       "                        responses[qnum].push(response);\n",
       "                } else{\n",
       "                    responses[qnum]= [ response ];\n",
       "                }\n",
       "            } else {\n",
       "                responses[qnum]= response;\n",
       "            }\n",
       "            console.log(responses);\n",
       "            responsesContainer.setAttribute('data-responses', JSON.stringify(responses));\n",
       "            printResponses(responsesContainer);\n",
       "        }\n",
       "        // End save responses stuff\n",
       "\n",
       "\n",
       "\n",
       "        var numcorrect = fb.dataset.numcorrect;\n",
       "        var answeredcorrect = fb.dataset.answeredcorrect;\n",
       "        if (answeredcorrect >= 0) {\n",
       "            fb.textContent = feedback + \" [\" + answeredcorrect + \"/\" + numcorrect + \"]\";\n",
       "        } else {\n",
       "            fb.textContent = feedback + \" [\" + 0 + \"/\" + numcorrect + \"]\";\n",
       "        }\n",
       "\n",
       "\n",
       "    }\n",
       "\n",
       "    if (typeof MathJax != 'undefined') {\n",
       "        var version = MathJax.version;\n",
       "        console.log('MathJax version', version);\n",
       "        if (version[0] == \"2\") {\n",
       "            MathJax.Hub.Queue([\"Typeset\", MathJax.Hub]);\n",
       "        } else if (version[0] == \"3\") {\n",
       "            MathJax.typeset([fb]);\n",
       "        }\n",
       "    } else {\n",
       "        console.log('MathJax not detected');\n",
       "    }\n",
       "\n",
       "}\n",
       "\n",
       "function make_mc(qa, shuffle_answers, outerqDiv, qDiv, aDiv, id) {\n",
       "    var shuffled;\n",
       "    if (shuffle_answers == \"True\") {\n",
       "        //console.log(shuffle_answers+\" read as true\");\n",
       "        shuffled = getRandomSubarray(qa.answers, qa.answers.length);\n",
       "    } else {\n",
       "        //console.log(shuffle_answers+\" read as false\");\n",
       "        shuffled = qa.answers;\n",
       "    }\n",
       "\n",
       "\n",
       "    var num_correct = 0;\n",
       "\n",
       "\n",
       "\n",
       "    shuffled.forEach((item, index, ans_array) => {\n",
       "        //console.log(answer);\n",
       "\n",
       "        // Make input element\n",
       "        var inp = document.createElement(\"input\");\n",
       "        inp.type = \"radio\";\n",
       "        inp.id = \"quizo\" + id + index;\n",
       "        inp.style = \"display:none;\";\n",
       "        aDiv.append(inp);\n",
       "\n",
       "        //Make label for input element\n",
       "        var lab = document.createElement(\"label\");\n",
       "        lab.className = \"MCButton\";\n",
       "        lab.id = id + '-' + index;\n",
       "        lab.onclick = check_mc;\n",
       "        var aSpan = document.createElement('span');\n",
       "        aSpan.classsName = \"\";\n",
       "        //qDiv.id=\"quizQn\"+id+index;\n",
       "        if (\"answer\" in item) {\n",
       "            aSpan.innerHTML = jaxify(item.answer);\n",
       "            //aSpan.innerHTML=item.answer;\n",
       "        }\n",
       "        lab.append(aSpan);\n",
       "\n",
       "        // Create div for code inside question\n",
       "        var codeSpan;\n",
       "        if (\"code\" in item) {\n",
       "            codeSpan = document.createElement('span');\n",
       "            codeSpan.id = \"code\" + id + index;\n",
       "            codeSpan.className = \"QuizCode\";\n",
       "            var codePre = document.createElement('pre');\n",
       "            codeSpan.append(codePre);\n",
       "            var codeCode = document.createElement('code');\n",
       "            codePre.append(codeCode);\n",
       "            codeCode.innerHTML = item.code;\n",
       "            lab.append(codeSpan);\n",
       "            //console.log(codeSpan);\n",
       "        }\n",
       "\n",
       "        //lab.textContent=item.answer;\n",
       "\n",
       "        // Set the data attributes for the answer\n",
       "        lab.setAttribute('data-correct', item.correct);\n",
       "        if (item.correct) {\n",
       "            num_correct++;\n",
       "        }\n",
       "        if (\"feedback\" in item) {\n",
       "            lab.setAttribute('data-feedback', item.feedback);\n",
       "        }\n",
       "        lab.setAttribute('data-answered', 0);\n",
       "\n",
       "        aDiv.append(lab);\n",
       "\n",
       "    });\n",
       "\n",
       "    if (num_correct > 1) {\n",
       "        outerqDiv.className = \"ManyChoiceQn\";\n",
       "    } else {\n",
       "        outerqDiv.className = \"MultipleChoiceQn\";\n",
       "    }\n",
       "\n",
       "    return num_correct;\n",
       "\n",
       "}\n",
       "function check_numeric(ths, event) {\n",
       "\n",
       "    if (event.keyCode === 13) {\n",
       "        ths.blur();\n",
       "\n",
       "        var id = ths.id.split('-')[0];\n",
       "\n",
       "        var submission = ths.value;\n",
       "        if (submission.indexOf('/') != -1) {\n",
       "            var sub_parts = submission.split('/');\n",
       "            //console.log(sub_parts);\n",
       "            submission = sub_parts[0] / sub_parts[1];\n",
       "        }\n",
       "        //console.log(\"Reader entered\", submission);\n",
       "\n",
       "        if (\"precision\" in ths.dataset) {\n",
       "            var precision = ths.dataset.precision;\n",
       "            // console.log(\"1:\", submission)\n",
       "            submission = Math.round((1 * submission + Number.EPSILON) * 10 ** precision) / 10 ** precision;\n",
       "            // console.log(\"Rounded to \", submission, \" precision=\", precision  );\n",
       "        }\n",
       "\n",
       "\n",
       "        //console.log(\"In check_numeric(), id=\"+id);\n",
       "        //console.log(event.srcElement.id)           \n",
       "        //console.log(event.srcElement.dataset.feedback)\n",
       "\n",
       "        var fb = document.getElementById(\"fb\" + id);\n",
       "        fb.style.display = \"none\";\n",
       "        fb.textContent = \"Incorrect -- try again.\";\n",
       "\n",
       "        var answers = JSON.parse(ths.dataset.answers);\n",
       "        //console.log(answers);\n",
       "\n",
       "        var defaultFB = \"\";\n",
       "        var correct;\n",
       "        var done = false;\n",
       "        answers.every(answer => {\n",
       "            //console.log(answer.type);\n",
       "\n",
       "            correct = false;\n",
       "            // if (answer.type==\"value\"){\n",
       "            if ('value' in answer) {\n",
       "                if (submission == answer.value) {\n",
       "                    fb.textContent = jaxify(answer.feedback);\n",
       "                    correct = answer.correct;\n",
       "                    //console.log(answer.correct);\n",
       "                    done = true;\n",
       "                }\n",
       "                // } else if (answer.type==\"range\") {\n",
       "            } else if ('range' in answer) {\n",
       "                //console.log(answer.range);\n",
       "                if ((submission >= answer.range[0]) && (submission < answer.range[1])) {\n",
       "                    fb.textContent = jaxify(answer.feedback);\n",
       "                    correct = answer.correct;\n",
       "                    //console.log(answer.correct);\n",
       "                    done = true;\n",
       "                }\n",
       "            } else if (answer.type == \"default\") {\n",
       "                defaultFB = answer.feedback;\n",
       "            }\n",
       "            if (done) {\n",
       "                return false; // Break out of loop if this has been marked correct\n",
       "            } else {\n",
       "                return true; // Keep looking for case that includes this as a correct answer\n",
       "            }\n",
       "        });\n",
       "\n",
       "        if ((!done) && (defaultFB != \"\")) {\n",
       "            fb.innerHTML = jaxify(defaultFB);\n",
       "            //console.log(\"Default feedback\", defaultFB);\n",
       "        }\n",
       "\n",
       "        fb.style.display = \"block\";\n",
       "        if (correct) {\n",
       "            ths.className = \"Input-text\";\n",
       "            ths.classList.add(\"correctButton\");\n",
       "            fb.className = \"Feedback\";\n",
       "            fb.classList.add(\"correct\");\n",
       "        } else {\n",
       "            ths.className = \"Input-text\";\n",
       "            ths.classList.add(\"incorrectButton\");\n",
       "            fb.className = \"Feedback\";\n",
       "            fb.classList.add(\"incorrect\");\n",
       "        }\n",
       "\n",
       "        // What follows is for the saved responses stuff\n",
       "        var outerContainer = fb.parentElement.parentElement;\n",
       "        var responsesContainer = document.getElementById(\"responses\" + outerContainer.id);\n",
       "        if (responsesContainer) {\n",
       "            console.log(submission);\n",
       "            var qnum = document.getElementById(\"quizWrap\"+id).dataset.qnum;\n",
       "            //console.log(\"Question \" + qnum);\n",
       "            //console.log(id, \", got numcorrect=\",fb.dataset.numcorrect);\n",
       "            var responses=JSON.parse(responsesContainer.dataset.responses);\n",
       "            console.log(responses);\n",
       "            if (submission == ths.value){\n",
       "                responses[qnum]= submission;\n",
       "            } else {\n",
       "                responses[qnum]= ths.value + \"(\" + submission +\")\";\n",
       "            }\n",
       "            responsesContainer.setAttribute('data-responses', JSON.stringify(responses));\n",
       "            printResponses(responsesContainer);\n",
       "        }\n",
       "        // End code to preserve responses\n",
       "\n",
       "        if (typeof MathJax != 'undefined') {\n",
       "            var version = MathJax.version;\n",
       "            console.log('MathJax version', version);\n",
       "            if (version[0] == \"2\") {\n",
       "                MathJax.Hub.Queue([\"Typeset\", MathJax.Hub]);\n",
       "            } else if (version[0] == \"3\") {\n",
       "                MathJax.typeset([fb]);\n",
       "            }\n",
       "        } else {\n",
       "            console.log('MathJax not detected');\n",
       "        }\n",
       "        return false;\n",
       "    }\n",
       "\n",
       "}\n",
       "\n",
       "function isValid(el, charC) {\n",
       "    //console.log(\"Input char: \", charC);\n",
       "    if (charC == 46) {\n",
       "        if (el.value.indexOf('.') === -1) {\n",
       "            return true;\n",
       "        } else if (el.value.indexOf('/') != -1) {\n",
       "            var parts = el.value.split('/');\n",
       "            if (parts[1].indexOf('.') === -1) {\n",
       "                return true;\n",
       "            }\n",
       "        }\n",
       "        else {\n",
       "            return false;\n",
       "        }\n",
       "    } else if (charC == 47) {\n",
       "        if (el.value.indexOf('/') === -1) {\n",
       "            if ((el.value != \"\") && (el.value != \".\")) {\n",
       "                return true;\n",
       "            } else {\n",
       "                return false;\n",
       "            }\n",
       "        } else {\n",
       "            return false;\n",
       "        }\n",
       "    } else if (charC == 45) {\n",
       "        var edex = el.value.indexOf('e');\n",
       "        if (edex == -1) {\n",
       "            edex = el.value.indexOf('E');\n",
       "        }\n",
       "\n",
       "        if (el.value == \"\") {\n",
       "            return true;\n",
       "        } else if (edex == (el.value.length - 1)) { // If just after e or E\n",
       "            return true;\n",
       "        } else {\n",
       "            return false;\n",
       "        }\n",
       "    } else if (charC == 101) { // \"e\"\n",
       "        if ((el.value.indexOf('e') === -1) && (el.value.indexOf('E') === -1) && (el.value.indexOf('/') == -1)) {\n",
       "            // Prev symbol must be digit or decimal point:\n",
       "            if (el.value.slice(-1).search(/\\d/) >= 0) {\n",
       "                return true;\n",
       "            } else if (el.value.slice(-1).search(/\\./) >= 0) {\n",
       "                return true;\n",
       "            } else {\n",
       "                return false;\n",
       "            }\n",
       "        } else {\n",
       "            return false;\n",
       "        }\n",
       "    } else {\n",
       "        if (charC > 31 && (charC < 48 || charC > 57))\n",
       "            return false;\n",
       "    }\n",
       "    return true;\n",
       "}\n",
       "\n",
       "function numeric_keypress(evnt) {\n",
       "    var charC = (evnt.which) ? evnt.which : evnt.keyCode;\n",
       "\n",
       "    if (charC == 13) {\n",
       "        check_numeric(this, evnt);\n",
       "    } else {\n",
       "        return isValid(this, charC);\n",
       "    }\n",
       "}\n",
       "\n",
       "\n",
       "\n",
       "\n",
       "\n",
       "function make_numeric(qa, outerqDiv, qDiv, aDiv, id) {\n",
       "\n",
       "\n",
       "\n",
       "    //console.log(answer);\n",
       "\n",
       "\n",
       "    outerqDiv.className = \"NumericQn\";\n",
       "    aDiv.style.display = 'block';\n",
       "\n",
       "    var lab = document.createElement(\"label\");\n",
       "    lab.className = \"InpLabel\";\n",
       "    lab.textContent = \"Type numeric answer here:\";\n",
       "    aDiv.append(lab);\n",
       "\n",
       "    var inp = document.createElement(\"input\");\n",
       "    inp.type = \"text\";\n",
       "    //inp.id=\"input-\"+id;\n",
       "    inp.id = id + \"-0\";\n",
       "    inp.className = \"Input-text\";\n",
       "    inp.setAttribute('data-answers', JSON.stringify(qa.answers));\n",
       "    if (\"precision\" in qa) {\n",
       "        inp.setAttribute('data-precision', qa.precision);\n",
       "    }\n",
       "    aDiv.append(inp);\n",
       "    //console.log(inp);\n",
       "\n",
       "    //inp.addEventListener(\"keypress\", check_numeric);\n",
       "    //inp.addEventListener(\"keypress\", numeric_keypress);\n",
       "    /*\n",
       "    inp.addEventListener(\"keypress\", function(event) {\n",
       "        return numeric_keypress(this, event);\n",
       "    }\n",
       "                        );\n",
       "                        */\n",
       "    //inp.onkeypress=\"return numeric_keypress(this, event)\";\n",
       "    inp.onkeypress = numeric_keypress;\n",
       "    inp.onpaste = event => false;\n",
       "\n",
       "    inp.addEventListener(\"focus\", function (event) {\n",
       "        this.value = \"\";\n",
       "        return false;\n",
       "    }\n",
       "    );\n",
       "\n",
       "\n",
       "}\n",
       "function jaxify(string) {\n",
       "    var mystring = string;\n",
       "\n",
       "    var count = 0;\n",
       "    var loc = mystring.search(/([^\\\\]|^)(\\$)/);\n",
       "\n",
       "    var count2 = 0;\n",
       "    var loc2 = mystring.search(/([^\\\\]|^)(\\$\\$)/);\n",
       "\n",
       "    //console.log(loc);\n",
       "\n",
       "    while ((loc >= 0) || (loc2 >= 0)) {\n",
       "\n",
       "        /* Have to replace all the double $$ first with current implementation */\n",
       "        if (loc2 >= 0) {\n",
       "            if (count2 % 2 == 0) {\n",
       "                mystring = mystring.replace(/([^\\\\]|^)(\\$\\$)/, \"$1\\\\[\");\n",
       "            } else {\n",
       "                mystring = mystring.replace(/([^\\\\]|^)(\\$\\$)/, \"$1\\\\]\");\n",
       "            }\n",
       "            count2++;\n",
       "        } else {\n",
       "            if (count % 2 == 0) {\n",
       "                mystring = mystring.replace(/([^\\\\]|^)(\\$)/, \"$1\\\\(\");\n",
       "            } else {\n",
       "                mystring = mystring.replace(/([^\\\\]|^)(\\$)/, \"$1\\\\)\");\n",
       "            }\n",
       "            count++;\n",
       "        }\n",
       "        loc = mystring.search(/([^\\\\]|^)(\\$)/);\n",
       "        loc2 = mystring.search(/([^\\\\]|^)(\\$\\$)/);\n",
       "        //console.log(mystring,\", loc:\",loc,\", loc2:\",loc2);\n",
       "    }\n",
       "\n",
       "    //console.log(mystring);\n",
       "    return mystring;\n",
       "}\n",
       "\n",
       "\n",
       "function show_questions(json, mydiv) {\n",
       "    console.log('show_questions');\n",
       "    //var mydiv=document.getElementById(myid);\n",
       "    var shuffle_questions = mydiv.dataset.shufflequestions;\n",
       "    var num_questions = mydiv.dataset.numquestions;\n",
       "    var shuffle_answers = mydiv.dataset.shuffleanswers;\n",
       "\n",
       "    if (num_questions > json.length) {\n",
       "        num_questions = json.length;\n",
       "    }\n",
       "\n",
       "    var questions;\n",
       "    if ((num_questions < json.length) || (shuffle_questions == \"True\")) {\n",
       "        //console.log(num_questions+\",\"+json.length);\n",
       "        questions = getRandomSubarray(json, num_questions);\n",
       "    } else {\n",
       "        questions = json;\n",
       "    }\n",
       "\n",
       "    //console.log(\"SQ: \"+shuffle_questions+\", NQ: \" + num_questions + \", SA: \", shuffle_answers);\n",
       "\n",
       "    // Iterate over questions\n",
       "    questions.forEach((qa, index, array) => {\n",
       "        //console.log(qa.question); \n",
       "\n",
       "        var id = makeid(8);\n",
       "        //console.log(id);\n",
       "\n",
       "\n",
       "        // Create Div to contain question and answers\n",
       "        var iDiv = document.createElement('div');\n",
       "        //iDiv.id = 'quizWrap' + id + index;\n",
       "        iDiv.id = 'quizWrap' + id;\n",
       "        iDiv.className = 'Quiz';\n",
       "        iDiv.setAttribute('data-qnum', index);\n",
       "        mydiv.appendChild(iDiv);\n",
       "        // iDiv.innerHTML=qa.question;\n",
       "\n",
       "        var outerqDiv = document.createElement('div');\n",
       "        outerqDiv.id = \"OuterquizQn\" + id + index;\n",
       "\n",
       "        iDiv.append(outerqDiv);\n",
       "\n",
       "        // Create div to contain question part\n",
       "        var qDiv = document.createElement('div');\n",
       "        qDiv.id = \"quizQn\" + id + index;\n",
       "        //qDiv.textContent=qa.question;\n",
       "        qDiv.innerHTML = jaxify(qa.question);\n",
       "\n",
       "        outerqDiv.append(qDiv);\n",
       "\n",
       "        // Create div for code inside question\n",
       "        var codeDiv;\n",
       "        if (\"code\" in qa) {\n",
       "            codeDiv = document.createElement('div');\n",
       "            codeDiv.id = \"code\" + id + index;\n",
       "            codeDiv.className = \"QuizCode\";\n",
       "            var codePre = document.createElement('pre');\n",
       "            codeDiv.append(codePre);\n",
       "            var codeCode = document.createElement('code');\n",
       "            codePre.append(codeCode);\n",
       "            codeCode.innerHTML = qa.code;\n",
       "            outerqDiv.append(codeDiv);\n",
       "            //console.log(codeDiv);\n",
       "        }\n",
       "\n",
       "\n",
       "        // Create div to contain answer part\n",
       "        var aDiv = document.createElement('div');\n",
       "        aDiv.id = \"quizAns\" + id + index;\n",
       "        aDiv.className = 'Answer';\n",
       "        iDiv.append(aDiv);\n",
       "\n",
       "        //console.log(qa.type);\n",
       "\n",
       "        var num_correct;\n",
       "        if (qa.type == \"multiple_choice\") {\n",
       "            num_correct = make_mc(qa, shuffle_answers, outerqDiv, qDiv, aDiv, id);\n",
       "        } else if (qa.type == \"many_choice\") {\n",
       "            num_correct = make_mc(qa, shuffle_answers, outerqDiv, qDiv, aDiv, id);\n",
       "        } else if (qa.type == \"numeric\") {\n",
       "            //console.log(\"numeric\");\n",
       "            make_numeric(qa, outerqDiv, qDiv, aDiv, id);\n",
       "        }\n",
       "\n",
       "\n",
       "        //Make div for feedback\n",
       "        var fb = document.createElement(\"div\");\n",
       "        fb.id = \"fb\" + id;\n",
       "        //fb.style=\"font-size: 20px;text-align:center;\";\n",
       "        fb.className = \"Feedback\";\n",
       "        fb.setAttribute(\"data-answeredcorrect\", 0);\n",
       "        fb.setAttribute(\"data-numcorrect\", num_correct);\n",
       "        iDiv.append(fb);\n",
       "\n",
       "\n",
       "    });\n",
       "    var preserveResponses = mydiv.dataset.preserveresponses;\n",
       "    console.log(preserveResponses);\n",
       "    console.log(preserveResponses == \"true\");\n",
       "    if (preserveResponses == \"true\") {\n",
       "        console.log(preserveResponses);\n",
       "        // Create Div to contain record of answers\n",
       "        var iDiv = document.createElement('div');\n",
       "        iDiv.id = 'responses' + mydiv.id;\n",
       "        iDiv.className = 'JCResponses';\n",
       "        // Create a place to store responses as an empty array\n",
       "        iDiv.setAttribute('data-responses', '[]');\n",
       "\n",
       "        // Dummy Text\n",
       "        iDiv.innerHTML=\"<b>Select your answers and then follow the directions that will appear here.</b>\"\n",
       "        //iDiv.className = 'Quiz';\n",
       "        mydiv.appendChild(iDiv);\n",
       "    }\n",
       "//console.log(\"At end of show_questions\");\n",
       "    if (typeof MathJax != 'undefined') {\n",
       "        console.log(\"MathJax version\", MathJax.version);\n",
       "        var version = MathJax.version;\n",
       "        setTimeout(function(){\n",
       "            var version = MathJax.version;\n",
       "            console.log('After sleep, MathJax version', version);\n",
       "            if (version[0] == \"2\") {\n",
       "                MathJax.Hub.Queue([\"Typeset\", MathJax.Hub]);\n",
       "            } else if (version[0] == \"3\") {\n",
       "                MathJax.typeset([mydiv]);\n",
       "            }\n",
       "        }, 500);\n",
       "if (typeof version == 'undefined') {\n",
       "        } else\n",
       "        {\n",
       "            if (version[0] == \"2\") {\n",
       "                MathJax.Hub.Queue([\"Typeset\", MathJax.Hub]);\n",
       "            } else if (version[0] == \"3\") {\n",
       "                MathJax.typeset([mydiv]);\n",
       "            } else {\n",
       "                console.log(\"MathJax not found\");\n",
       "            }\n",
       "        }\n",
       "    }\n",
       "    return false;\n",
       "}\n",
       "\n",
       "        {\n",
       "        show_questions(questionslhlunsAPAWab,  lhlunsAPAWab);\n",
       "        }\n",
       "        "
      ],
      "text/plain": [
       "<IPython.core.display.Javascript object>"
      ]
     },
     "metadata": {},
     "output_type": "display_data"
    }
   ],
   "source": [
    "from f22_06623 import MCQ\n",
    "\n",
    "MCQ(lecture='09_bvp')"
   ]
  },
  {
   "cell_type": "code",
   "execution_count": null,
   "metadata": {},
   "outputs": [],
   "source": []
  }
 ],
 "metadata": {
  "colab": {
   "collapsed_sections": [],
   "name": "09-bvp.ipynb",
   "provenance": []
  },
  "kernelspec": {
   "display_name": "Python 3 (ipykernel)",
   "language": "python",
   "name": "python3"
  },
  "language_info": {
   "codemirror_mode": {
    "name": "ipython",
    "version": 3
   },
   "file_extension": ".py",
   "mimetype": "text/x-python",
   "name": "python",
   "nbconvert_exporter": "python",
   "pygments_lexer": "ipython3",
   "version": "3.9.12"
  },
  "org": {
   "KEYWORDS": "scipy.integrate.solve_bvp, numpy.polyfit"
  },
  "widgets": {
   "application/vnd.jupyter.widget-state+json": {
    "state": {},
    "version_major": 2,
    "version_minor": 0
   }
  }
 },
 "nbformat": 4,
 "nbformat_minor": 4
}
