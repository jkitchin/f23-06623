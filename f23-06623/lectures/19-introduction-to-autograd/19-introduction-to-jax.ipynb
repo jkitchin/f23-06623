{
 "cells": [
  {
   "cell_type": "markdown",
   "metadata": {},
   "source": [
    "Introduction to automatic differentiation with jax\n",
    "=================================================="
   ]
  },
  {
   "cell_type": "markdown",
   "metadata": {},
   "source": [
    "![img](https://imgs.xkcd.com/comics/newton_and_leibniz.png)"
   ]
  },
  {
   "cell_type": "markdown",
   "metadata": {
    "id": "Jxe6ugNXTgkh"
   },
   "source": [
    "# Derivatives in scientific programming\n",
    "\n"
   ]
  },
  {
   "cell_type": "markdown",
   "metadata": {
    "id": "qQen6wpXTgkm"
   },
   "source": [
    "Derivatives play an important role in modeling engineering processes.\n",
    "They serve mathematical roles in optimization where we need them to find\n",
    "stationary points (i.e. where the first derivatives are zero), and to\n",
    "determine if these points are minima, maxima or saddle points.\n",
    "\n",
    "Derivatives also play a central role in uncertainty propagation and\n",
    "sensitivity analysis. These analyses require derivatives of equations\n",
    "with respect to parameters.\n",
    "\n",
    "Derivatives also serve in physical roles. When we write mass/energy\n",
    "balances we are defining how those variables change in time, which is a\n",
    "derivative. If you recall Fick's law, we way that the flux of a material\n",
    "is proportional to the *gradient* in concentration, which is a\n",
    "derivative. In thermodynamics, we relate many properties to derivatives\n",
    "of some thermodynamic variable. For example, the heat capacity is\n",
    "defined by a partial derivative of the enthalpy:\n",
    "$\\left(\\frac{\\partial H}{\\partial T}\\right)_P = C_p$. There are many\n",
    "more examples where derivatives are important.\n",
    "\n",
    "We usually think about deriving derivatives using calculus. That\n",
    "requires, however, that you have an analytical equation, that you know\n",
    "how to derive the derivative, and finally that you correctly evaluate\n",
    "the result. When you have an analytical equation, that approach is\n",
    "probably the best one when done correctly.\n",
    "\n",
    "In many cases, however, we may not have an equation, or the equation\n",
    "could change regularly or be tedious to derive the derivative. As we\n",
    "increasingly express equations in the form of a program, it is\n",
    "increasingly inconvenient and difficult to work through the program to\n",
    "derive derivatives. In these cases, we need a computational approach to\n",
    "getting derivatives.\n",
    "\n",
    "We have primarily considered two approaches to *estimating* or\n",
    "*approximating* derivatives so far:\n",
    "\n",
    "1.  `numpy.gradient`\n",
    "2.  `numdifftools.Derivative`\n",
    "\n",
    "Both of these approaches have limitations we review below.\n",
    "\n"
   ]
  },
  {
   "cell_type": "markdown",
   "metadata": {
    "id": "RbYg97R3Tgko"
   },
   "source": [
    "## numpy.gradient\n",
    "\n"
   ]
  },
  {
   "cell_type": "markdown",
   "metadata": {
    "id": "fLax40OuTgkr"
   },
   "source": [
    "`numpy.gradient` uses\n",
    "[finite\n",
    "difference](https://en.wikipedia.org/wiki/Numerical_differentiation) formulas to estimate the derivatives *from data*. This data\n",
    "may be obtained from experiments, or by numeric integration of an ODE,\n",
    "or from the solution to a BVP. In these cases we do not have analytical\n",
    "formulas to get derivatives from, and we have to resort to numerical\n",
    "methods.\n",
    "\n"
   ]
  },
  {
   "cell_type": "code",
   "execution_count": 1,
   "metadata": {
    "executionInfo": {
     "elapsed": 147,
     "status": "ok",
     "timestamp": 1637068077342,
     "user": {
      "displayName": "John Kitchin",
      "photoUrl": "https://lh3.googleusercontent.com/a/default-user=s64",
      "userId": "14782011281593705406"
     },
     "user_tz": 300
    },
    "id": "dsA1UqXLTgku"
   },
   "outputs": [
    {
     "data": {
      "text/plain": [
       "\u001b[0;31mSignature:\u001b[0m \u001b[0mnp\u001b[0m\u001b[0;34m.\u001b[0m\u001b[0mgradient\u001b[0m\u001b[0;34m(\u001b[0m\u001b[0mf\u001b[0m\u001b[0;34m,\u001b[0m \u001b[0;34m*\u001b[0m\u001b[0mvarargs\u001b[0m\u001b[0;34m,\u001b[0m \u001b[0maxis\u001b[0m\u001b[0;34m=\u001b[0m\u001b[0;32mNone\u001b[0m\u001b[0;34m,\u001b[0m \u001b[0medge_order\u001b[0m\u001b[0;34m=\u001b[0m\u001b[0;36m1\u001b[0m\u001b[0;34m)\u001b[0m\u001b[0;34m\u001b[0m\u001b[0;34m\u001b[0m\u001b[0m\n",
       "\u001b[0;31mDocstring:\u001b[0m\n",
       "Return the gradient of an N-dimensional array.\n",
       "\n",
       "The gradient is computed using second order accurate central differences\n",
       "in the interior points and either first or second order accurate one-sides\n",
       "(forward or backwards) differences at the boundaries.\n",
       "The returned gradient hence has the same shape as the input array.\n",
       "\n",
       "Parameters\n",
       "----------\n",
       "f : array_like\n",
       "    An N-dimensional array containing samples of a scalar function.\n",
       "varargs : list of scalar or array, optional\n",
       "    Spacing between f values. Default unitary spacing for all dimensions.\n",
       "    Spacing can be specified using:\n",
       "\n",
       "    1. single scalar to specify a sample distance for all dimensions.\n",
       "    2. N scalars to specify a constant sample distance for each dimension.\n",
       "       i.e. `dx`, `dy`, `dz`, ...\n",
       "    3. N arrays to specify the coordinates of the values along each\n",
       "       dimension of F. The length of the array must match the size of\n",
       "       the corresponding dimension\n",
       "    4. Any combination of N scalars/arrays with the meaning of 2. and 3.\n",
       "\n",
       "    If `axis` is given, the number of varargs must equal the number of axes.\n",
       "    Default: 1.\n",
       "\n",
       "edge_order : {1, 2}, optional\n",
       "    Gradient is calculated using N-th order accurate differences\n",
       "    at the boundaries. Default: 1.\n",
       "\n",
       "    .. versionadded:: 1.9.1\n",
       "\n",
       "axis : None or int or tuple of ints, optional\n",
       "    Gradient is calculated only along the given axis or axes\n",
       "    The default (axis = None) is to calculate the gradient for all the axes\n",
       "    of the input array. axis may be negative, in which case it counts from\n",
       "    the last to the first axis.\n",
       "\n",
       "    .. versionadded:: 1.11.0\n",
       "\n",
       "Returns\n",
       "-------\n",
       "gradient : ndarray or list of ndarray\n",
       "    A list of ndarrays (or a single ndarray if there is only one dimension)\n",
       "    corresponding to the derivatives of f with respect to each dimension.\n",
       "    Each derivative has the same shape as f.\n",
       "\n",
       "Examples\n",
       "--------\n",
       ">>> f = np.array([1, 2, 4, 7, 11, 16], dtype=float)\n",
       ">>> np.gradient(f)\n",
       "array([1. , 1.5, 2.5, 3.5, 4.5, 5. ])\n",
       ">>> np.gradient(f, 2)\n",
       "array([0.5 ,  0.75,  1.25,  1.75,  2.25,  2.5 ])\n",
       "\n",
       "Spacing can be also specified with an array that represents the coordinates\n",
       "of the values F along the dimensions.\n",
       "For instance a uniform spacing:\n",
       "\n",
       ">>> x = np.arange(f.size)\n",
       ">>> np.gradient(f, x)\n",
       "array([1. ,  1.5,  2.5,  3.5,  4.5,  5. ])\n",
       "\n",
       "Or a non uniform one:\n",
       "\n",
       ">>> x = np.array([0., 1., 1.5, 3.5, 4., 6.], dtype=float)\n",
       ">>> np.gradient(f, x)\n",
       "array([1. ,  3. ,  3.5,  6.7,  6.9,  2.5])\n",
       "\n",
       "For two dimensional arrays, the return will be two arrays ordered by\n",
       "axis. In this example the first array stands for the gradient in\n",
       "rows and the second one in columns direction:\n",
       "\n",
       ">>> np.gradient(np.array([[1, 2, 6], [3, 4, 5]], dtype=float))\n",
       "[array([[ 2.,  2., -1.],\n",
       "       [ 2.,  2., -1.]]), array([[1. , 2.5, 4. ],\n",
       "       [1. , 1. , 1. ]])]\n",
       "\n",
       "In this example the spacing is also specified:\n",
       "uniform for axis=0 and non uniform for axis=1\n",
       "\n",
       ">>> dx = 2.\n",
       ">>> y = [1., 1.5, 3.5]\n",
       ">>> np.gradient(np.array([[1, 2, 6], [3, 4, 5]], dtype=float), dx, y)\n",
       "[array([[ 1. ,  1. , -0.5],\n",
       "       [ 1. ,  1. , -0.5]]), array([[2. , 2. , 2. ],\n",
       "       [2. , 1.7, 0.5]])]\n",
       "\n",
       "It is possible to specify how boundaries are treated using `edge_order`\n",
       "\n",
       ">>> x = np.array([0, 1, 2, 3, 4])\n",
       ">>> f = x**2\n",
       ">>> np.gradient(f, edge_order=1)\n",
       "array([1.,  2.,  4.,  6.,  7.])\n",
       ">>> np.gradient(f, edge_order=2)\n",
       "array([0., 2., 4., 6., 8.])\n",
       "\n",
       "The `axis` keyword can be used to specify a subset of axes of which the\n",
       "gradient is calculated\n",
       "\n",
       ">>> np.gradient(np.array([[1, 2, 6], [3, 4, 5]], dtype=float), axis=0)\n",
       "array([[ 2.,  2., -1.],\n",
       "       [ 2.,  2., -1.]])\n",
       "\n",
       "Notes\n",
       "-----\n",
       "Assuming that :math:`f\\in C^{3}` (i.e., :math:`f` has at least 3 continuous\n",
       "derivatives) and let :math:`h_{*}` be a non-homogeneous stepsize, we\n",
       "minimize the \"consistency error\" :math:`\\eta_{i}` between the true gradient\n",
       "and its estimate from a linear combination of the neighboring grid-points:\n",
       "\n",
       ".. math::\n",
       "\n",
       "    \\eta_{i} = f_{i}^{\\left(1\\right)} -\n",
       "                \\left[ \\alpha f\\left(x_{i}\\right) +\n",
       "                        \\beta f\\left(x_{i} + h_{d}\\right) +\n",
       "                        \\gamma f\\left(x_{i}-h_{s}\\right)\n",
       "                \\right]\n",
       "\n",
       "By substituting :math:`f(x_{i} + h_{d})` and :math:`f(x_{i} - h_{s})`\n",
       "with their Taylor series expansion, this translates into solving\n",
       "the following the linear system:\n",
       "\n",
       ".. math::\n",
       "\n",
       "    \\left\\{\n",
       "        \\begin{array}{r}\n",
       "            \\alpha+\\beta+\\gamma=0 \\\\\n",
       "            \\beta h_{d}-\\gamma h_{s}=1 \\\\\n",
       "            \\beta h_{d}^{2}+\\gamma h_{s}^{2}=0\n",
       "        \\end{array}\n",
       "    \\right.\n",
       "\n",
       "The resulting approximation of :math:`f_{i}^{(1)}` is the following:\n",
       "\n",
       ".. math::\n",
       "\n",
       "    \\hat f_{i}^{(1)} =\n",
       "        \\frac{\n",
       "            h_{s}^{2}f\\left(x_{i} + h_{d}\\right)\n",
       "            + \\left(h_{d}^{2} - h_{s}^{2}\\right)f\\left(x_{i}\\right)\n",
       "            - h_{d}^{2}f\\left(x_{i}-h_{s}\\right)}\n",
       "            { h_{s}h_{d}\\left(h_{d} + h_{s}\\right)}\n",
       "        + \\mathcal{O}\\left(\\frac{h_{d}h_{s}^{2}\n",
       "                            + h_{s}h_{d}^{2}}{h_{d}\n",
       "                            + h_{s}}\\right)\n",
       "\n",
       "It is worth noting that if :math:`h_{s}=h_{d}`\n",
       "(i.e., data are evenly spaced)\n",
       "we find the standard second order approximation:\n",
       "\n",
       ".. math::\n",
       "\n",
       "    \\hat f_{i}^{(1)}=\n",
       "        \\frac{f\\left(x_{i+1}\\right) - f\\left(x_{i-1}\\right)}{2h}\n",
       "        + \\mathcal{O}\\left(h^{2}\\right)\n",
       "\n",
       "With a similar procedure the forward/backward approximations used for\n",
       "boundaries can be derived.\n",
       "\n",
       "References\n",
       "----------\n",
       ".. [1]  Quarteroni A., Sacco R., Saleri F. (2007) Numerical Mathematics\n",
       "        (Texts in Applied Mathematics). New York: Springer.\n",
       ".. [2]  Durran D. R. (1999) Numerical Methods for Wave Equations\n",
       "        in Geophysical Fluid Dynamics. New York: Springer.\n",
       ".. [3]  Fornberg B. (1988) Generation of Finite Difference Formulas on\n",
       "        Arbitrarily Spaced Grids,\n",
       "        Mathematics of Computation 51, no. 184 : 699-706.\n",
       "        `PDF <http://www.ams.org/journals/mcom/1988-51-184/\n",
       "        S0025-5718-1988-0935077-0/S0025-5718-1988-0935077-0.pdf>`_.\n",
       "\u001b[0;31mFile:\u001b[0m      ~/opt/anaconda3/lib/python3.9/site-packages/numpy/lib/function_base.py\n",
       "\u001b[0;31mType:\u001b[0m      function\n"
      ]
     },
     "metadata": {},
     "output_type": "display_data"
    }
   ],
   "source": [
    "import matplotlib.pyplot as plt\n",
    "import numpy as np\n",
    "\n",
    "?np.gradient"
   ]
  },
  {
   "cell_type": "markdown",
   "metadata": {
    "id": "FYTGSNfrTglD"
   },
   "source": [
    "The accuracy of these derivatives depends on the spacing between the\n",
    "data points. We have seen the derivatives at the edges of the data are\n",
    "less accurate because a first-order equation is used by default.\n",
    "\n"
   ]
  },
  {
   "cell_type": "code",
   "execution_count": 2,
   "metadata": {
    "colab": {
     "base_uri": "https://localhost:8080/",
     "height": 265
    },
    "executionInfo": {
     "elapsed": 341,
     "status": "ok",
     "timestamp": 1637068376899,
     "user": {
      "displayName": "John Kitchin",
      "photoUrl": "https://lh3.googleusercontent.com/a/default-user=s64",
      "userId": "14782011281593705406"
     },
     "user_tz": 300
    },
    "id": "p8p4M9fKTglF",
    "outputId": "5989677f-0444-401a-9a90-eb11d40dbd55"
   },
   "outputs": [
    {
     "data": {
      "image/png": "[encoded data removed]",
      "text/plain": [
       "<Figure size 432x288 with 1 Axes>"
      ]
     },
     "metadata": {
      "needs_background": "light"
     },
     "output_type": "display_data"
    }
   ],
   "source": [
    "x = np.linspace(0.1, 1, 10)\n",
    "y = x**0.5\n",
    "\n",
    "plt.plot(x, 0.5 * x**-0.5, x, np.gradient(y, x, edge_order=2), \"r.\")\n",
    "plt.legend([\"analytical\", \"numeric\"]);"
   ]
  },
  {
   "cell_type": "markdown",
   "metadata": {
    "id": "VQwboMkoTglU"
   },
   "source": [
    "You may recall we can fit a polynomial to this data, and then easily get\n",
    "the derivative of the polynomial. By increasing the polynomial order we\n",
    "can improve the derivative estimates to a point. If you start\n",
    "overfitting, you will introduce wiggles into the data.\n",
    "\n"
   ]
  },
  {
   "cell_type": "code",
   "execution_count": 3,
   "metadata": {
    "colab": {
     "base_uri": "https://localhost:8080/",
     "height": 265
    },
    "executionInfo": {
     "elapsed": 371,
     "status": "ok",
     "timestamp": 1637068455313,
     "user": {
      "displayName": "John Kitchin",
      "photoUrl": "https://lh3.googleusercontent.com/a/default-user=s64",
      "userId": "14782011281593705406"
     },
     "user_tz": 300
    },
    "id": "Va66GRBSTglW",
    "outputId": "490f5f42-634b-4ef3-aa9f-6691fcc5f11b"
   },
   "outputs": [
    {
     "data": {
      "image/png": "[encoded data removed]",
      "text/plain": [
       "<Figure size 432x288 with 1 Axes>"
      ]
     },
     "metadata": {
      "needs_background": "light"
     },
     "output_type": "display_data"
    }
   ],
   "source": [
    "p = np.polyfit(x, y, 9)\n",
    "dp = np.polyder(p)\n",
    "plt.plot(x, 0.5 * x**-0.5, x, np.polyval(dp, x), \"r.\")\n",
    "plt.legend([\"analytical\", \"numeric\"]);"
   ]
  },
  {
   "cell_type": "markdown",
   "metadata": {
    "id": "RSXb4rOyTgli"
   },
   "source": [
    "Let's briefly review some linear algebra and the connection with\n",
    "derivatives.\n",
    "\n",
    "A central difference formula is:\n",
    "\n",
    "$y'(x_i) \\approx \\frac{y_{i+1} - y_{i-1}}{2h}$\n",
    "\n",
    "We cannot evaluate this for $y_0$ or $y_{-1}$. We need a simpler formula for\n",
    "that:\n",
    "\n",
    "We use a forward formula at the beginning:\n",
    "$y'(x_0) \\approx \\frac{y_1 - y_0}{h}$\n",
    "\n",
    "and a backward formula at the end:\n",
    "$y'(x_{-1}) \\approx \\frac{y_{-1} - y_{-2}}{h}$\n",
    "\n",
    "We can express these formulas in matrix algebra form:\n",
    "\n",
    "$\\mathbf{y'} = \\mathbf{D} \\mathbf{y}$"
   ]
  },
  {
   "cell_type": "code",
   "execution_count": 4,
   "metadata": {
    "colab": {
     "base_uri": "https://localhost:8080/"
    },
    "executionInfo": {
     "elapsed": 132,
     "status": "ok",
     "timestamp": 1637069382375,
     "user": {
      "displayName": "John Kitchin",
      "photoUrl": "https://lh3.googleusercontent.com/a/default-user=s64",
      "userId": "14782011281593705406"
     },
     "user_tz": 300
    },
    "id": "4WH4WIgzTglk",
    "outputId": "68ddcac6-e69b-43b6-da9f-1c282ceb685c"
   },
   "outputs": [
    {
     "name": "stdout",
     "output_type": "stream",
     "text": [
      "0.1\n"
     ]
    },
    {
     "data": {
      "text/plain": [
       "array([[ 100., -200.,  200.,    0.,    0.,    0.,    0.,    0.,    0.,\n",
       "           0.],\n",
       "       [  -5.,    0.,    5.,    0.,    0.,    0.,    0.,    0.,    0.,\n",
       "           0.],\n",
       "       [   0.,   -5.,    0.,    5.,    0.,    0.,    0.,    0.,    0.,\n",
       "           0.],\n",
       "       [   0.,    0.,   -5.,    0.,    5.,    0.,    0.,    0.,    0.,\n",
       "           0.],\n",
       "       [   0.,    0.,    0.,   -5.,    0.,    5.,    0.,    0.,    0.,\n",
       "           0.],\n",
       "       [   0.,    0.,    0.,    0.,   -5.,    0.,    5.,    0.,    0.,\n",
       "           0.],\n",
       "       [   0.,    0.,    0.,    0.,    0.,   -5.,    0.,    5.,    0.,\n",
       "           0.],\n",
       "       [   0.,    0.,    0.,    0.,    0.,    0.,   -5.,    0.,    5.,\n",
       "           0.],\n",
       "       [   0.,    0.,    0.,    0.,    0.,    0.,    0.,   -5.,    0.,\n",
       "           5.],\n",
       "       [   0.,    0.,    0.,    0.,    0.,    0.,    0.,  100., -200.,\n",
       "         100.]])"
      ]
     },
     "execution_count": 4,
     "metadata": {},
     "output_type": "execute_result"
    }
   ],
   "source": [
    "x, h = np.linspace(0.1, 1, 10, retstep=True)\n",
    "print(h)\n",
    "y = x**0.5\n",
    "\n",
    "D = np.zeros((len(x), len(x)))\n",
    "D += np.diag(np.ones(len(x) - 1) / (2 * h), 1)  # diagonal above main\n",
    "D += np.diag(-np.ones(len(x) - 1) / (2 * h), -1)  #  diagonal below the main\n",
    "D[0, 0:3] = np.array([1, -2, 2]) / h**2  # forward formula for the first row\n",
    "D[-1, -3:] = np.array([1, -2, 1]) / h**2  # backward formula for the last row\n",
    "D"
   ]
  },
  {
   "cell_type": "code",
   "execution_count": 5,
   "metadata": {
    "colab": {
     "base_uri": "https://localhost:8080/"
    },
    "executionInfo": {
     "elapsed": 139,
     "status": "ok",
     "timestamp": 1637069397174,
     "user": {
      "displayName": "John Kitchin",
      "photoUrl": "https://lh3.googleusercontent.com/a/default-user=s64",
      "userId": "14782011281593705406"
     },
     "user_tz": 300
    },
    "id": "we0hLUsPTglv",
    "outputId": "45d7ebf2-0327-4c95-997e-8e8b0697803e"
   },
   "outputs": [
    {
     "data": {
      "text/plain": [
       "False"
      ]
     },
     "execution_count": 5,
     "metadata": {},
     "output_type": "execute_result"
    }
   ],
   "source": [
    "dydx = D @ y\n",
    "\n",
    "np.allclose(dydx, np.gradient(y, x, edge_order=2))"
   ]
  },
  {
   "cell_type": "markdown",
   "metadata": {
    "id": "T8Er7wPyTgl5"
   },
   "source": [
    "There are more accurate formulas to use for these that use more data\n",
    "points, but in these cases it is better to use `np.gradient` because it\n",
    "already handles these.\n",
    "\n"
   ]
  },
  {
   "cell_type": "markdown",
   "metadata": {
    "id": "hbTIZr-OTgl7"
   },
   "source": [
    "## numdifftools.Derivative\n",
    "\n"
   ]
  },
  {
   "cell_type": "markdown",
   "metadata": {
    "id": "vy0DRhhOTgl9"
   },
   "source": [
    "When we have equations in the form of *functions* rather than data, we\n",
    "can leverage `scipy.misc.derivative`. This function also works by using\n",
    "finite differences, and so it would suffer from the same limitations on\n",
    "accuracy as we saw above with data. Nevertheless, if you don't have a\n",
    "better approach, it might still be useful.\n",
    "\n"
   ]
  },
  {
   "cell_type": "code",
   "execution_count": 6,
   "metadata": {
    "executionInfo": {
     "elapsed": 133,
     "status": "ok",
     "timestamp": 1637069526046,
     "user": {
      "displayName": "John Kitchin",
      "photoUrl": "https://lh3.googleusercontent.com/a/default-user=s64",
      "userId": "14782011281593705406"
     },
     "user_tz": 300
    },
    "id": "3sS142zcTgmB"
   },
   "outputs": [
    {
     "data": {
      "text/plain": [
       "\u001b[0;31mInit signature:\u001b[0m \u001b[0mDerivative\u001b[0m\u001b[0;34m(\u001b[0m\u001b[0mfun\u001b[0m\u001b[0;34m,\u001b[0m \u001b[0mstep\u001b[0m\u001b[0;34m=\u001b[0m\u001b[0;32mNone\u001b[0m\u001b[0;34m,\u001b[0m \u001b[0mmethod\u001b[0m\u001b[0;34m=\u001b[0m\u001b[0;34m'central'\u001b[0m\u001b[0;34m,\u001b[0m \u001b[0morder\u001b[0m\u001b[0;34m=\u001b[0m\u001b[0;36m2\u001b[0m\u001b[0;34m,\u001b[0m \u001b[0mn\u001b[0m\u001b[0;34m=\u001b[0m\u001b[0;36m1\u001b[0m\u001b[0;34m,\u001b[0m \u001b[0;34m**\u001b[0m\u001b[0moptions\u001b[0m\u001b[0;34m)\u001b[0m\u001b[0;34m\u001b[0m\u001b[0;34m\u001b[0m\u001b[0m\n",
       "\u001b[0;31mDocstring:\u001b[0m     \n",
       "Calculate n-th derivative with finite difference approximation\n",
       "\n",
       "Parameters\n",
       "----------\n",
       "fun : function\n",
       "   function of one array fun(x, `*args`, `**kwds`)\n",
       "step : float, array-like or StepGenerator object, optional\n",
       "    Defines the spacing used in the approximation.\n",
       "    Default is MinStepGenerator(**step_options) if method in in ['complex', 'multicomplex'],\n",
       "    otherwise\n",
       "        MaxStepGenerator(**step_options)\n",
       "    The results are extrapolated if the StepGenerator generate more than 3\n",
       "    steps.\n",
       "method : {'central', 'complex', 'multicomplex', 'forward', 'backward'}\n",
       "    defines the method used in the approximation\n",
       "order : int, optional\n",
       "    defines the order of the error term in the Taylor approximation used.\n",
       "    For 'central' and 'complex' methods, it must be an even number.\n",
       "n : int, optional\n",
       "    Order of the derivative.\n",
       "richardson_terms: scalar integer, default 2.\n",
       "    number of terms used in the Richardson extrapolation.\n",
       "full_output : bool, optional\n",
       "    If `full_output` is False, only the derivative is returned.\n",
       "    If `full_output` is True, then (der, r) is returned `der` is the\n",
       "    derivative, and `r` is a Results object.\n",
       "**step_options:\n",
       "    options to pass on to the XXXStepGenerator used.\n",
       "\n",
       "Methods\n",
       "-------\n",
       "__call__ : callable with the following parameters:\n",
       "    x : array_like\n",
       "        value at which function derivative is evaluated\n",
       "    args : tuple\n",
       "        Arguments for function `fun`.\n",
       "    kwds : dict\n",
       "        Keyword arguments for function `fun`.\n",
       "\n",
       "Returns\n",
       "-------\n",
       "der : ndarray\n",
       "   array of derivatives\n",
       "\n",
       "Notes\n",
       "-----\n",
       "Complex methods are usually the most accurate provided the function to\n",
       "differentiate is analytic. The complex-step methods also requires fewer\n",
       "steps than the other methods and can work very close to the support of\n",
       "a function.\n",
       "The complex-step derivative has truncation error O(steps**2) for `n=1` and\n",
       "O(steps**4) for `n` larger, so truncation error can be eliminated by\n",
       "choosing steps to be very small.\n",
       "Especially the first order complex-step derivative avoids the problem of\n",
       "round-off error with small steps because there is no subtraction. However,\n",
       "this method fails if fun(x) does not support complex numbers or involves\n",
       "non-analytic functions such as e.g.: abs, max, min.\n",
       "Central difference methods are almost as accurate and has no restriction on\n",
       "type of function. For this reason the 'central' method is the default\n",
       "method, but sometimes one can only allow evaluation in forward or backward\n",
       "direction.\n",
       "\n",
       "For all methods one should be careful in decreasing the step size too much\n",
       "due to round-off errors.\n",
       "\n",
       "Higher order approximation methods will generally be more accurate, but may\n",
       "also suffer more from numerical problems. First order methods is usually\n",
       "not recommended.\n",
       "\n",
       "References\n",
       "----------\n",
       "Ridout, M.S. (2009) Statistical applications of the complex-step method\n",
       "    of numerical differentiation. The American Statistician, 63, 66-74\n",
       "\n",
       "K.-L. Lai, J.L. Crassidis, Y. Cheng, J. Kim (2005), New complex step\n",
       "    derivative approximations with application to second-order\n",
       "    kalman filtering, AIAA Guidance, Navigation and Control Conference,\n",
       "    San Francisco, California, August 2005, AIAA-2005-5944.\n",
       "\n",
       "Lyness, J. M., Moler, C. B. (1966). Vandermonde Systems and Numerical\n",
       "                 Differentiation. *Numerische Mathematik*.\n",
       "\n",
       "Lyness, J. M., Moler, C. B. (1969). Generalized Romberg Methods for\n",
       "                 Integrals of Derivatives. *Numerische Mathematik*.\n",
       "\n",
       "Examples\n",
       "--------\n",
       ">>> import numpy as np\n",
       ">>> import numdifftools as nd\n",
       "\n",
       "# 1'st derivative of exp(x), at x == 1\n",
       "\n",
       ">>> fd = nd.Derivative(np.exp)\n",
       ">>> np.allclose(fd(1), 2.71828183)\n",
       "True\n",
       "\n",
       ">>> d2 = fd([1, 2])\n",
       ">>> np.allclose(d2, [ 2.71828183,  7.3890561 ])\n",
       "True\n",
       "\n",
       ">>> def f(x):\n",
       "...     return x**3 + x**2\n",
       "\n",
       ">>> df = nd.Derivative(f)\n",
       ">>> np.allclose(df(1), 5)\n",
       "True\n",
       ">>> ddf = nd.Derivative(f, n=2)\n",
       ">>> np.allclose(ddf(1), 8)\n",
       "True\n",
       "\n",
       "\n",
       "See also\n",
       "--------\n",
       "Gradient,\n",
       "Hessian\n",
       "\u001b[0;31mFile:\u001b[0m           ~/opt/anaconda3/lib/python3.9/site-packages/numdifftools/core.py\n",
       "\u001b[0;31mType:\u001b[0m           type\n",
       "\u001b[0;31mSubclasses:\u001b[0m     Jacobian, Hessdiag\n"
      ]
     },
     "metadata": {},
     "output_type": "display_data"
    }
   ],
   "source": [
    "import numpy as np\n",
    "from numdifftools import Derivative\n",
    "\n",
    "?Derivative"
   ]
  },
  {
   "cell_type": "markdown",
   "metadata": {
    "id": "PxaedQssTgmM"
   },
   "source": [
    "The most crucial step is choosing an appropriate value for dx. Note that\n",
    "`derivative` does not return a function; we have to *wrap* it in a\n",
    "function definition to use it like a function.\n",
    "\n"
   ]
  },
  {
   "cell_type": "code",
   "execution_count": 7,
   "metadata": {
    "colab": {
     "base_uri": "https://localhost:8080/",
     "height": 265
    },
    "executionInfo": {
     "elapsed": 367,
     "status": "ok",
     "timestamp": 1637069656744,
     "user": {
      "displayName": "John Kitchin",
      "photoUrl": "https://lh3.googleusercontent.com/a/default-user=s64",
      "userId": "14782011281593705406"
     },
     "user_tz": 300
    },
    "id": "3_wvZFD8TgmO",
    "outputId": "80316303-c261-4bc6-9c9d-19fb80df2228"
   },
   "outputs": [
    {
     "data": {
      "image/png": "[encoded data removed]",
      "text/plain": [
       "<Figure size 432x288 with 1 Axes>"
      ]
     },
     "metadata": {
      "needs_background": "light"
     },
     "output_type": "display_data"
    }
   ],
   "source": [
    "def f(x):\n",
    "    return x**0.5\n",
    "\n",
    "\n",
    "def dfdx(x, dx=None):\n",
    "    return Derivative(f, step=dx)(x)\n",
    "\n",
    "\n",
    "plt.plot(x, 0.5 * x**-0.5, x, dfdx(x), \"r.\")\n",
    "plt.legend([\"analytical\", \"numeric\"]);"
   ]
  },
  {
   "cell_type": "code",
   "execution_count": 8,
   "metadata": {
    "colab": {
     "base_uri": "https://localhost:8080/"
    },
    "executionInfo": {
     "elapsed": 144,
     "status": "ok",
     "timestamp": 1637069785126,
     "user": {
      "displayName": "John Kitchin",
      "photoUrl": "https://lh3.googleusercontent.com/a/default-user=s64",
      "userId": "14782011281593705406"
     },
     "user_tz": 300
    },
    "id": "uFOvpVnLTgmZ",
    "outputId": "d2255fd5-e712-45ae-c78d-25aa8cf1c962"
   },
   "outputs": [
    {
     "data": {
      "text/plain": [
       "array([1.58113883, 1.11803399, 0.91287093, 0.79056942, 0.70710678,\n",
       "       0.64549722, 0.5976143 , 0.55901699, 0.52704628, 0.5       ])"
      ]
     },
     "execution_count": 8,
     "metadata": {},
     "output_type": "execute_result"
    }
   ],
   "source": [
    "Derivative(f)(x)  # this is vectorized, so the helper function is not critical here"
   ]
  },
  {
   "cell_type": "markdown",
   "metadata": {
    "id": "Kya85bjjTgmk"
   },
   "source": [
    "We can combine the ideas for data and functions with\n",
    "`scipy.interpolate.interp1d`. This is similar in spirit to using\n",
    "polyfit, but the polynomials are locally fit rather than globally fit\n",
    "through all the data points. As with polyfit, this can result in\n",
    "spurious wiggles being introduced, especially near data points where\n",
    "there are big changes.\n",
    "\n"
   ]
  },
  {
   "cell_type": "code",
   "execution_count": 9,
   "metadata": {
    "executionInfo": {
     "elapsed": 122,
     "status": "ok",
     "timestamp": 1637069876547,
     "user": {
      "displayName": "John Kitchin",
      "photoUrl": "https://lh3.googleusercontent.com/a/default-user=s64",
      "userId": "14782011281593705406"
     },
     "user_tz": 300
    },
    "id": "octn496VTgmm"
   },
   "outputs": [
    {
     "data": {
      "text/plain": [
       "\u001b[0;31mInit signature:\u001b[0m\n",
       "\u001b[0minterp1d\u001b[0m\u001b[0;34m(\u001b[0m\u001b[0;34m\u001b[0m\n",
       "\u001b[0;34m\u001b[0m    \u001b[0mx\u001b[0m\u001b[0;34m,\u001b[0m\u001b[0;34m\u001b[0m\n",
       "\u001b[0;34m\u001b[0m    \u001b[0my\u001b[0m\u001b[0;34m,\u001b[0m\u001b[0;34m\u001b[0m\n",
       "\u001b[0;34m\u001b[0m    \u001b[0mkind\u001b[0m\u001b[0;34m=\u001b[0m\u001b[0;34m'linear'\u001b[0m\u001b[0;34m,\u001b[0m\u001b[0;34m\u001b[0m\n",
       "\u001b[0;34m\u001b[0m    \u001b[0maxis\u001b[0m\u001b[0;34m=\u001b[0m\u001b[0;34m-\u001b[0m\u001b[0;36m1\u001b[0m\u001b[0;34m,\u001b[0m\u001b[0;34m\u001b[0m\n",
       "\u001b[0;34m\u001b[0m    \u001b[0mcopy\u001b[0m\u001b[0;34m=\u001b[0m\u001b[0;32mTrue\u001b[0m\u001b[0;34m,\u001b[0m\u001b[0;34m\u001b[0m\n",
       "\u001b[0;34m\u001b[0m    \u001b[0mbounds_error\u001b[0m\u001b[0;34m=\u001b[0m\u001b[0;32mNone\u001b[0m\u001b[0;34m,\u001b[0m\u001b[0;34m\u001b[0m\n",
       "\u001b[0;34m\u001b[0m    \u001b[0mfill_value\u001b[0m\u001b[0;34m=\u001b[0m\u001b[0mnan\u001b[0m\u001b[0;34m,\u001b[0m\u001b[0;34m\u001b[0m\n",
       "\u001b[0;34m\u001b[0m    \u001b[0massume_sorted\u001b[0m\u001b[0;34m=\u001b[0m\u001b[0;32mFalse\u001b[0m\u001b[0;34m,\u001b[0m\u001b[0;34m\u001b[0m\n",
       "\u001b[0;34m\u001b[0m\u001b[0;34m)\u001b[0m\u001b[0;34m\u001b[0m\u001b[0;34m\u001b[0m\u001b[0m\n",
       "\u001b[0;31mDocstring:\u001b[0m     \n",
       "Interpolate a 1-D function.\n",
       "\n",
       "`x` and `y` are arrays of values used to approximate some function f:\n",
       "``y = f(x)``. This class returns a function whose call method uses\n",
       "interpolation to find the value of new points.\n",
       "\n",
       "Parameters\n",
       "----------\n",
       "x : (N,) array_like\n",
       "    A 1-D array of real values.\n",
       "y : (...,N,...) array_like\n",
       "    A N-D array of real values. The length of `y` along the interpolation\n",
       "    axis must be equal to the length of `x`.\n",
       "kind : str or int, optional\n",
       "    Specifies the kind of interpolation as a string or as an integer\n",
       "    specifying the order of the spline interpolator to use.\n",
       "    The string has to be one of 'linear', 'nearest', 'nearest-up', 'zero',\n",
       "    'slinear', 'quadratic', 'cubic', 'previous', or 'next'. 'zero',\n",
       "    'slinear', 'quadratic' and 'cubic' refer to a spline interpolation of\n",
       "    zeroth, first, second or third order; 'previous' and 'next' simply\n",
       "    return the previous or next value of the point; 'nearest-up' and\n",
       "    'nearest' differ when interpolating half-integers (e.g. 0.5, 1.5)\n",
       "    in that 'nearest-up' rounds up and 'nearest' rounds down. Default\n",
       "    is 'linear'.\n",
       "axis : int, optional\n",
       "    Specifies the axis of `y` along which to interpolate.\n",
       "    Interpolation defaults to the last axis of `y`.\n",
       "copy : bool, optional\n",
       "    If True, the class makes internal copies of x and y.\n",
       "    If False, references to `x` and `y` are used. The default is to copy.\n",
       "bounds_error : bool, optional\n",
       "    If True, a ValueError is raised any time interpolation is attempted on\n",
       "    a value outside of the range of x (where extrapolation is\n",
       "    necessary). If False, out of bounds values are assigned `fill_value`.\n",
       "    By default, an error is raised unless ``fill_value=\"extrapolate\"``.\n",
       "fill_value : array-like or (array-like, array_like) or \"extrapolate\", optional\n",
       "    - if a ndarray (or float), this value will be used to fill in for\n",
       "      requested points outside of the data range. If not provided, then\n",
       "      the default is NaN. The array-like must broadcast properly to the\n",
       "      dimensions of the non-interpolation axes.\n",
       "    - If a two-element tuple, then the first element is used as a\n",
       "      fill value for ``x_new < x[0]`` and the second element is used for\n",
       "      ``x_new > x[-1]``. Anything that is not a 2-element tuple (e.g.,\n",
       "      list or ndarray, regardless of shape) is taken to be a single\n",
       "      array-like argument meant to be used for both bounds as\n",
       "      ``below, above = fill_value, fill_value``. Using a two-element tuple\n",
       "      or ndarray requires ``bounds_error=False``.\n",
       "\n",
       "      .. versionadded:: 0.17.0\n",
       "    - If \"extrapolate\", then points outside the data range will be\n",
       "      extrapolated.\n",
       "\n",
       "      .. versionadded:: 0.17.0\n",
       "assume_sorted : bool, optional\n",
       "    If False, values of `x` can be in any order and they are sorted first.\n",
       "    If True, `x` has to be an array of monotonically increasing values.\n",
       "\n",
       "Attributes\n",
       "----------\n",
       "fill_value\n",
       "\n",
       "Methods\n",
       "-------\n",
       "__call__\n",
       "\n",
       "See Also\n",
       "--------\n",
       "splrep, splev\n",
       "    Spline interpolation/smoothing based on FITPACK.\n",
       "UnivariateSpline : An object-oriented wrapper of the FITPACK routines.\n",
       "interp2d : 2-D interpolation\n",
       "\n",
       "Notes\n",
       "-----\n",
       "Calling `interp1d` with NaNs present in input values results in\n",
       "undefined behaviour.\n",
       "\n",
       "Input values `x` and `y` must be convertible to `float` values like\n",
       "`int` or `float`.\n",
       "\n",
       "If the values in `x` are not unique, the resulting behavior is\n",
       "undefined and specific to the choice of `kind`, i.e., changing\n",
       "`kind` will change the behavior for duplicates.\n",
       "\n",
       "\n",
       "Examples\n",
       "--------\n",
       ">>> import numpy as np\n",
       ">>> import matplotlib.pyplot as plt\n",
       ">>> from scipy import interpolate\n",
       ">>> x = np.arange(0, 10)\n",
       ">>> y = np.exp(-x/3.0)\n",
       ">>> f = interpolate.interp1d(x, y)\n",
       "\n",
       ">>> xnew = np.arange(0, 9, 0.1)\n",
       ">>> ynew = f(xnew)   # use interpolation function returned by `interp1d`\n",
       ">>> plt.plot(x, y, 'o', xnew, ynew, '-')\n",
       ">>> plt.show()\n",
       "\u001b[0;31mInit docstring:\u001b[0m Initialize a 1-D linear interpolation class.\n",
       "\u001b[0;31mFile:\u001b[0m           ~/opt/anaconda3/lib/python3.9/site-packages/scipy/interpolate/_interpolate.py\n",
       "\u001b[0;31mType:\u001b[0m           type\n",
       "\u001b[0;31mSubclasses:\u001b[0m     \n"
      ]
     },
     "metadata": {},
     "output_type": "display_data"
    }
   ],
   "source": [
    "from scipy.interpolate import interp1d\n",
    "\n",
    "?interp1d"
   ]
  },
  {
   "cell_type": "code",
   "execution_count": 10,
   "metadata": {
    "colab": {
     "base_uri": "https://localhost:8080/"
    },
    "executionInfo": {
     "elapsed": 126,
     "status": "ok",
     "timestamp": 1637070146787,
     "user": {
      "displayName": "John Kitchin",
      "photoUrl": "https://lh3.googleusercontent.com/a/default-user=s64",
      "userId": "14782011281593705406"
     },
     "user_tz": 300
    },
    "id": "NSZIdYumo5Of",
    "outputId": "185b0aa8-d79a-405a-883f-b678ddb062c4"
   },
   "outputs": [
    {
     "data": {
      "text/plain": [
       "(array([0.64185858, 0.70638561]), array(-93.57391418))"
      ]
     },
     "execution_count": 10,
     "metadata": {},
     "output_type": "execute_result"
    }
   ],
   "source": [
    "x, h = np.linspace(0.1, 1, 10, retstep=True)\n",
    "y = x**0.5 + np.random.normal(0, 0.005, size=x.shape)\n",
    "\n",
    "af = interp1d(x, y, kind=\"cubic\", bounds_error=False, fill_value=\"extrapolate\")\n",
    "af([0.4, 0.5]), af(3)"
   ]
  },
  {
   "cell_type": "code",
   "execution_count": 11,
   "metadata": {
    "colab": {
     "base_uri": "https://localhost:8080/",
     "height": 265
    },
    "executionInfo": {
     "elapsed": 323,
     "status": "ok",
     "timestamp": 1637070148069,
     "user": {
      "displayName": "John Kitchin",
      "photoUrl": "https://lh3.googleusercontent.com/a/default-user=s64",
      "userId": "14782011281593705406"
     },
     "user_tz": 300
    },
    "id": "OwvLCacxpSOi",
    "outputId": "cb849224-4110-418a-9b5b-14d2d7e95260"
   },
   "outputs": [
    {
     "data": {
      "image/png": "[encoded data removed]",
      "text/plain": [
       "<Figure size 432x288 with 1 Axes>"
      ]
     },
     "metadata": {
      "needs_background": "light"
     },
     "output_type": "display_data"
    }
   ],
   "source": [
    "xfit = np.linspace(0.1, 1, 100)\n",
    "plt.plot(x, y, \"bo\", xfit, af(xfit));"
   ]
  },
  {
   "cell_type": "code",
   "execution_count": 12,
   "metadata": {
    "colab": {
     "base_uri": "https://localhost:8080/",
     "height": 265
    },
    "executionInfo": {
     "elapsed": 257,
     "status": "ok",
     "timestamp": 1637070151213,
     "user": {
      "displayName": "John Kitchin",
      "photoUrl": "https://lh3.googleusercontent.com/a/default-user=s64",
      "userId": "14782011281593705406"
     },
     "user_tz": 300
    },
    "id": "NcKvf9-2Tgm5",
    "outputId": "16dd1d2e-db56-4910-be67-835a4e97754e"
   },
   "outputs": [
    {
     "data": {
      "image/png": "[encoded data removed]",
      "text/plain": [
       "<Figure size 432x288 with 1 Axes>"
      ]
     },
     "metadata": {
      "needs_background": "light"
     },
     "output_type": "display_data"
    }
   ],
   "source": [
    "def dfadx(x, dx=None):\n",
    "    return Derivative(af, step=dx)(x)\n",
    "\n",
    "\n",
    "plt.plot(x, 0.5 * x**-0.5, \"bo\", xfit, dfadx(xfit, dx=0.05), \"r.\")\n",
    "plt.legend([\"analytical\", \"numeric\"]);"
   ]
  },
  {
   "cell_type": "code",
   "execution_count": 13,
   "metadata": {
    "colab": {
     "base_uri": "https://localhost:8080/",
     "height": 265
    },
    "executionInfo": {
     "elapsed": 276,
     "status": "ok",
     "timestamp": 1637070189314,
     "user": {
      "displayName": "John Kitchin",
      "photoUrl": "https://lh3.googleusercontent.com/a/default-user=s64",
      "userId": "14782011281593705406"
     },
     "user_tz": 300
    },
    "id": "LZeAtP7eTgm_",
    "outputId": "87bd2418-b27f-415c-f45a-0030241830cc"
   },
   "outputs": [
    {
     "data": {
      "image/png": "[encoded data removed]",
      "text/plain": [
       "<Figure size 432x288 with 1 Axes>"
      ]
     },
     "metadata": {
      "needs_background": "light"
     },
     "output_type": "display_data"
    }
   ],
   "source": [
    "plt.plot(x, 0.5 * x**-0.5, x, np.gradient(y, x), \"r.\");"
   ]
  },
  {
   "cell_type": "markdown",
   "metadata": {
    "id": "rz57W_CvTgnE"
   },
   "source": [
    "## Limitations of numeric derivatives\n",
    "\n"
   ]
  },
  {
   "cell_type": "markdown",
   "metadata": {
    "id": "xvUZZee8TgnF"
   },
   "source": [
    "There are several limitations of numeric derivatives. The biggest one is\n",
    "that they are all *approximations* to the real derivative, and their\n",
    "accuracy depends on how small the spacing between the data points is. If\n",
    "the spacing is too small, however, these methods can suffer from\n",
    "numerical instabilities. These issues are exacerbated with higher order\n",
    "derivatives; derivatives tend to magnify errors in data.\n",
    "\n",
    "Fitting models to the data leads to analytical models that can be\n",
    "analytically differentiated. Here you have to be aware of the properties\n",
    "of the model, and its derivatives.\n",
    "\n",
    "The methods above apply to scalar functions of a single variable. It is\n",
    "not convenient to use them for multivariable functions.\n",
    "\n",
    "Numdifftools ([https://numdifftools.readthedocs.io/en/latest/](https://numdifftools.readthedocs.io/en/latest/)) is a\n",
    "more advanced library for numerical differentiation that can do\n",
    "multivariable functions, but it too can have numerical instabilities and\n",
    "needs to be checked for convergence.\n",
    "\n"
   ]
  },
  {
   "cell_type": "markdown",
   "metadata": {
    "id": "Fcmh824RTgnG"
   },
   "source": [
    "# Symbolic differentiation\n",
    "\n"
   ]
  },
  {
   "cell_type": "markdown",
   "metadata": {
    "id": "IKHZovwATgnH"
   },
   "source": [
    "[https://docs.sympy.org/latest/tutorial/calculus.html](https://docs.sympy.org/latest/tutorial/calculus.html)\n",
    "\n",
    "Computer algebra systems have increasingly been able to compute symbolic\n",
    "derivatives of expressions.\n",
    "[sympy](https://docs.sympy.org/latest/index.html) can do some\n",
    "[calculus](https://docs.sympy.org/latest/tutorial/calculus.html),\n",
    "including taking derivatives symbolically.\n",
    "\n"
   ]
  },
  {
   "cell_type": "code",
   "execution_count": 14,
   "metadata": {
    "colab": {
     "base_uri": "https://localhost:8080/",
     "height": 300
    },
    "executionInfo": {
     "elapsed": 1262,
     "status": "ok",
     "timestamp": 1637070608003,
     "user": {
      "displayName": "John Kitchin",
      "photoUrl": "https://lh3.googleusercontent.com/a/default-user=s64",
      "userId": "14782011281593705406"
     },
     "user_tz": 300
    },
    "id": "LTeYSW4OTgnI",
    "outputId": "62e56cd2-a7a0-4602-c000-8ae59facc458"
   },
   "outputs": [
    {
     "name": "stdout",
     "output_type": "stream",
     "text": [
      "0.5/x**0.5\n",
      "0.707106781186548\n"
     ]
    },
    {
     "data": {
      "image/png": "[encoded data removed]",
      "text/plain": [
       "<Figure size 432x288 with 1 Axes>"
      ]
     },
     "metadata": {
      "needs_background": "light"
     },
     "output_type": "display_data"
    }
   ],
   "source": [
    "from sympy import *  # the import * is considered lazy/sloppy, \n",
    "# and it can cause issues if you import functions that are already defined\n",
    "\n",
    "x = symbols(\"x\")\n",
    "\n",
    "df = diff(x**0.5, x)\n",
    "print(df)\n",
    "print(df.subs(x, 0.5))\n",
    "\n",
    "X = np.linspace(0.1, 2)\n",
    "plt.plot(X, 0.5 * X**-0.5, \"r-\", X, [df.subs(x, a) for a in X], \"b.\")\n",
    "plt.legend([\"analytical\", \"symbolic\"]);"
   ]
  },
  {
   "cell_type": "code",
   "execution_count": 15,
   "metadata": {
    "colab": {
     "base_uri": "https://localhost:8080/",
     "height": 300
    },
    "executionInfo": {
     "elapsed": 533,
     "status": "ok",
     "timestamp": 1637070726321,
     "user": {
      "displayName": "John Kitchin",
      "photoUrl": "https://lh3.googleusercontent.com/a/default-user=s64",
      "userId": "14782011281593705406"
     },
     "user_tz": 300
    },
    "id": "af4sbSFprozA",
    "outputId": "dd4243cb-8465-42ba-e658-4e9d84f57b1d"
   },
   "outputs": [
    {
     "name": "stdout",
     "output_type": "stream",
     "text": [
      "0.5/x**0.5\n",
      "0.707106781186548\n"
     ]
    },
    {
     "data": {
      "image/png": "[encoded data removed]",
      "text/plain": [
       "<Figure size 432x288 with 1 Axes>"
      ]
     },
     "metadata": {
      "needs_background": "light"
     },
     "output_type": "display_data"
    }
   ],
   "source": [
    "import sympy as sym  # This is a more responsible way to keep functions in namespaces\n",
    "\n",
    "x = sym.symbols(\"x\")\n",
    "\n",
    "df = sym.diff(x**0.5, x)\n",
    "print(df)\n",
    "print(df.subs(x, 0.5))\n",
    "\n",
    "X = np.linspace(0.1, 2)\n",
    "plt.plot(X, 0.5 * X**-0.5, \"r-\", X, [df.subs(x, a) for a in X], \"b.\")\n",
    "plt.legend([\"analytical\", \"symbolic\"]);"
   ]
  },
  {
   "cell_type": "markdown",
   "metadata": {
    "id": "WH5aazDMTgnO"
   },
   "source": [
    "For some applications, this is very useful. Symbolic derivatives do not\n",
    "work on programs though, and in some cases there are not simple\n",
    "derivatives to find.\n",
    "\n"
   ]
  },
  {
   "cell_type": "markdown",
   "metadata": {
    "id": "-9CoNBo4TgnP"
   },
   "source": [
    "# Automatic differentiation\n",
    "\n"
   ]
  },
  {
   "cell_type": "markdown",
   "metadata": {
    "id": "Zul9Mk8oTgnQ"
   },
   "source": [
    "The third kind of computational derivatives we need to know about is\n",
    "called [automatic differentiation](https://en.wikipedia.org/wiki/Automatic_differentiation) (AD). It is completely different from both finite\n",
    "differences and symbolic differentiation. In AD, we use the chain rule\n",
    "to take derivatives of computer programs.\n",
    "\n",
    "AD solves many of the problems described above:\n",
    "\n",
    "1.  It is not an approximation like the finite difference approach.\n",
    "2.  It works on programs, unlike symbolic differentiation\n",
    "\n",
    "However, these features come at some cost; we have to use an AD library\n",
    "and learn how to write code with it. Most importantly, AD is usually an\n",
    "add-on feature and its implementation introduces some constraints on\n",
    "what can be programmed.\n",
    "\n",
    "There are several AD frameworks available in Python that have been\n",
    "developed for machine learning applications. The main ones in use today\n",
    "are:\n",
    "\n",
    "1.  autograd - [https://github.com/HIPS/autograd](https://github.com/HIPS/autograd)\n",
    "2. JAX - [https://github.com/google/jax](https://github.com/google/jax)\n",
    "2.  Tensorflow - [https://www.tensorflow.org/](https://www.tensorflow.org/)\n",
    "3.  pytorch - [https://pytorch.org/](https://pytorch.org/)\n",
    "\n",
    "We will focus on jax for the rest of the semester."
   ]
  },
  {
   "cell_type": "markdown",
   "metadata": {
    "id": "enxJQOhnTgnW"
   },
   "source": [
    "jax works by modifying `numpy` so that derivatives can be\n",
    "automatically computed.\n",
    "\n",
    "**The most important step** in using jax is to import the jax\n",
    "version of numpy. Not doing this will lead to errors eventually. We also configure jax to use 64-bit floats (32-bit is the default, and that is not usually sufficient for pycse calculations.)\n",
    "\n"
   ]
  },
  {
   "cell_type": "code",
   "execution_count": 16,
   "metadata": {
    "executionInfo": {
     "elapsed": 139,
     "status": "ok",
     "timestamp": 1637071578450,
     "user": {
      "displayName": "John Kitchin",
      "photoUrl": "https://lh3.googleusercontent.com/a/default-user=s64",
      "userId": "14782011281593705406"
     },
     "user_tz": 300
    },
    "id": "JjNJdVdUTgnX"
   },
   "outputs": [
    {
     "ename": "RuntimeError",
     "evalue": "This version of jaxlib was built using AVX instructions, which your CPU and/or operating system do not support. You may be able work around this issue by building jaxlib from source.",
     "output_type": "error",
     "traceback": [
      "\u001b[0;31m---------------------------------------------------------------------------\u001b[0m",
      "\u001b[0;31mRuntimeError\u001b[0m                              Traceback (most recent call last)",
      "Input \u001b[0;32mIn [16]\u001b[0m, in \u001b[0;36m<cell line: 1>\u001b[0;34m()\u001b[0m\n\u001b[0;32m----> 1\u001b[0m \u001b[38;5;28;01mfrom\u001b[39;00m \u001b[38;5;21;01mjax\u001b[39;00m\u001b[38;5;21;01m.\u001b[39;00m\u001b[38;5;21;01mconfig\u001b[39;00m \u001b[38;5;28;01mimport\u001b[39;00m config\n\u001b[1;32m      3\u001b[0m config\u001b[38;5;241m.\u001b[39mupdate(\u001b[38;5;124m\"\u001b[39m\u001b[38;5;124mjax_enable_x64\u001b[39m\u001b[38;5;124m\"\u001b[39m, \u001b[38;5;28;01mTrue\u001b[39;00m)\n\u001b[1;32m      5\u001b[0m \u001b[38;5;28;01mimport\u001b[39;00m \u001b[38;5;21;01mjax\u001b[39;00m\u001b[38;5;21;01m.\u001b[39;00m\u001b[38;5;21;01mnumpy\u001b[39;00m \u001b[38;5;28;01mas\u001b[39;00m \u001b[38;5;21;01mnp\u001b[39;00m\n",
      "File \u001b[0;32m~/opt/anaconda3/lib/python3.9/site-packages/jax/__init__.py:35\u001b[0m, in \u001b[0;36m<module>\u001b[0;34m\u001b[0m\n\u001b[1;32m     30\u001b[0m \u001b[38;5;28;01mdel\u001b[39;00m _cloud_tpu_init\n\u001b[1;32m     32\u001b[0m \u001b[38;5;66;03m# Confusingly there are two things named \"config\": the module and the class.\u001b[39;00m\n\u001b[1;32m     33\u001b[0m \u001b[38;5;66;03m# We want the exported object to be the class, so we first import the module\u001b[39;00m\n\u001b[1;32m     34\u001b[0m \u001b[38;5;66;03m# to make sure a later import doesn't overwrite the class.\u001b[39;00m\n\u001b[0;32m---> 35\u001b[0m \u001b[38;5;28;01mfrom\u001b[39;00m \u001b[38;5;21;01mjax\u001b[39;00m \u001b[38;5;28;01mimport\u001b[39;00m config \u001b[38;5;28;01mas\u001b[39;00m _config_module\n\u001b[1;32m     36\u001b[0m \u001b[38;5;28;01mdel\u001b[39;00m _config_module\n\u001b[1;32m     38\u001b[0m \u001b[38;5;66;03m# Force early import, allowing use of `jax.core` after importing `jax`.\u001b[39;00m\n",
      "File \u001b[0;32m~/opt/anaconda3/lib/python3.9/site-packages/jax/config.py:17\u001b[0m, in \u001b[0;36m<module>\u001b[0;34m\u001b[0m\n\u001b[1;32m      1\u001b[0m \u001b[38;5;66;03m# Copyright 2018 The JAX Authors.\u001b[39;00m\n\u001b[1;32m      2\u001b[0m \u001b[38;5;66;03m#\u001b[39;00m\n\u001b[1;32m      3\u001b[0m \u001b[38;5;66;03m# Licensed under the Apache License, Version 2.0 (the \"License\");\u001b[39;00m\n\u001b[0;32m   (...)\u001b[0m\n\u001b[1;32m     14\u001b[0m \n\u001b[1;32m     15\u001b[0m \u001b[38;5;66;03m# TODO(phawkins): fix users of this alias and delete this file.\u001b[39;00m\n\u001b[0;32m---> 17\u001b[0m \u001b[38;5;28;01mfrom\u001b[39;00m \u001b[38;5;21;01mjax\u001b[39;00m\u001b[38;5;21;01m.\u001b[39;00m\u001b[38;5;21;01m_src\u001b[39;00m\u001b[38;5;21;01m.\u001b[39;00m\u001b[38;5;21;01mconfig\u001b[39;00m \u001b[38;5;28;01mimport\u001b[39;00m config\n",
      "File \u001b[0;32m~/opt/anaconda3/lib/python3.9/site-packages/jax/_src/config.py:27\u001b[0m, in \u001b[0;36m<module>\u001b[0;34m\u001b[0m\n\u001b[1;32m     24\u001b[0m \u001b[38;5;28;01mimport\u001b[39;00m \u001b[38;5;21;01mthreading\u001b[39;00m\n\u001b[1;32m     25\u001b[0m \u001b[38;5;28;01mfrom\u001b[39;00m \u001b[38;5;21;01mtyping\u001b[39;00m \u001b[38;5;28;01mimport\u001b[39;00m Any, Callable, Generic, NamedTuple, Optional, TypeVar\n\u001b[0;32m---> 27\u001b[0m \u001b[38;5;28;01mfrom\u001b[39;00m \u001b[38;5;21;01mjax\u001b[39;00m\u001b[38;5;21;01m.\u001b[39;00m\u001b[38;5;21;01m_src\u001b[39;00m \u001b[38;5;28;01mimport\u001b[39;00m lib\n\u001b[1;32m     28\u001b[0m \u001b[38;5;28;01mfrom\u001b[39;00m \u001b[38;5;21;01mjax\u001b[39;00m\u001b[38;5;21;01m.\u001b[39;00m\u001b[38;5;21;01m_src\u001b[39;00m\u001b[38;5;21;01m.\u001b[39;00m\u001b[38;5;21;01mlib\u001b[39;00m \u001b[38;5;28;01mimport\u001b[39;00m jax_jit\n\u001b[1;32m     29\u001b[0m \u001b[38;5;28;01mfrom\u001b[39;00m \u001b[38;5;21;01mjax\u001b[39;00m\u001b[38;5;21;01m.\u001b[39;00m\u001b[38;5;21;01m_src\u001b[39;00m\u001b[38;5;21;01m.\u001b[39;00m\u001b[38;5;21;01mlib\u001b[39;00m \u001b[38;5;28;01mimport\u001b[39;00m transfer_guard_lib\n",
      "File \u001b[0;32m~/opt/anaconda3/lib/python3.9/site-packages/jax/_src/lib/__init__.py:84\u001b[0m, in \u001b[0;36m<module>\u001b[0;34m\u001b[0m\n\u001b[1;32m     80\u001b[0m \u001b[38;5;66;03m# Before importing any C compiled modules from jaxlib, first import the CPU\u001b[39;00m\n\u001b[1;32m     81\u001b[0m \u001b[38;5;66;03m# feature guard module to verify that jaxlib was compiled in a way that only\u001b[39;00m\n\u001b[1;32m     82\u001b[0m \u001b[38;5;66;03m# uses instructions that are present on this machine.\u001b[39;00m\n\u001b[1;32m     83\u001b[0m \u001b[38;5;28;01mimport\u001b[39;00m \u001b[38;5;21;01mjaxlib\u001b[39;00m\u001b[38;5;21;01m.\u001b[39;00m\u001b[38;5;21;01mcpu_feature_guard\u001b[39;00m \u001b[38;5;28;01mas\u001b[39;00m \u001b[38;5;21;01mcpu_feature_guard\u001b[39;00m\n\u001b[0;32m---> 84\u001b[0m \u001b[43mcpu_feature_guard\u001b[49m\u001b[38;5;241;43m.\u001b[39;49m\u001b[43mcheck_cpu_features\u001b[49m\u001b[43m(\u001b[49m\u001b[43m)\u001b[49m\n\u001b[1;32m     86\u001b[0m \u001b[38;5;28;01mimport\u001b[39;00m \u001b[38;5;21;01mjaxlib\u001b[39;00m\u001b[38;5;21;01m.\u001b[39;00m\u001b[38;5;21;01mutils\u001b[39;00m \u001b[38;5;28;01mas\u001b[39;00m \u001b[38;5;21;01mutils\u001b[39;00m\n\u001b[1;32m     87\u001b[0m \u001b[38;5;28;01mimport\u001b[39;00m \u001b[38;5;21;01mjaxlib\u001b[39;00m\u001b[38;5;21;01m.\u001b[39;00m\u001b[38;5;21;01mxla_client\u001b[39;00m \u001b[38;5;28;01mas\u001b[39;00m \u001b[38;5;21;01mxla_client\u001b[39;00m\n",
      "\u001b[0;31mRuntimeError\u001b[0m: This version of jaxlib was built using AVX instructions, which your CPU and/or operating system do not support. You may be able work around this issue by building jaxlib from source."
     ]
    }
   ],
   "source": [
    "from jax.config import config\n",
    "\n",
    "config.update(\"jax_enable_x64\", True)\n",
    "\n",
    "import jax.numpy as np"
   ]
  },
  {
   "cell_type": "markdown",
   "metadata": {
    "id": "cuCSc4pLTgnc"
   },
   "source": [
    "## Derivatives of scalar functions\n",
    "\n"
   ]
  },
  {
   "cell_type": "markdown",
   "metadata": {
    "id": "jcWZX-ZmTgnd"
   },
   "source": [
    "jax provides functions for getting the derivatives of different kinds of functions. We first consider scalar functions, i.e. functions that return one number that is continuous (e.g. it is a float). The function can have many arguments, but it can only return one number. Note you have to be careful here, some functions return a single number with single arguments, but return an array of numbers if you use arrays as arguments."
   ]
  },
  {
   "cell_type": "code",
   "execution_count": null,
   "metadata": {
    "executionInfo": {
     "elapsed": 160,
     "status": "ok",
     "timestamp": 1637071707991,
     "user": {
      "displayName": "John Kitchin",
      "photoUrl": "https://lh3.googleusercontent.com/a/default-user=s64",
      "userId": "14782011281593705406"
     },
     "user_tz": 300
    },
    "id": "yeidMls-Tgne"
   },
   "outputs": [],
   "source": [
    "from jax import grad\n",
    "\n",
    "?grad"
   ]
  },
  {
   "cell_type": "markdown",
   "metadata": {
    "id": "mLoBL90pTgnj"
   },
   "source": [
    "You use grad when your function outputs a single number, and you want a\n",
    "single derivative of that function with respect to an argument. For\n",
    "example, it could be an objective function.\n",
    "\n"
   ]
  },
  {
   "cell_type": "code",
   "execution_count": null,
   "metadata": {
    "colab": {
     "base_uri": "https://localhost:8080/"
    },
    "executionInfo": {
     "elapsed": 148,
     "status": "ok",
     "timestamp": 1637071817177,
     "user": {
      "displayName": "John Kitchin",
      "photoUrl": "https://lh3.googleusercontent.com/a/default-user=s64",
      "userId": "14782011281593705406"
     },
     "user_tz": 300
    },
    "id": "JKi4Y2gqTgnk",
    "outputId": "a1b57056-7f3d-4881-c12e-dadc9bd68d98"
   },
   "outputs": [],
   "source": [
    "def f(x):\n",
    "    return x**2\n",
    "\n",
    "\n",
    "dfdx = grad(f)  # the output is callable like a function\n",
    "\n",
    "dfdx(10.0)  # the analytical derivative is 2x"
   ]
  },
  {
   "cell_type": "markdown",
   "metadata": {},
   "source": [
    "There are a few points to note in the output. First you get the WARNING, which is annoying, but something to ignore. You only see it the first time you run the code, if you run it again you won't see it. \n",
    "\n",
    "Second, the output shows we do not get a \"number\" that is returned, but a `DeviceArray` object. If you print the object, you will see something that looks like a number."
   ]
  },
  {
   "cell_type": "markdown",
   "metadata": {
    "id": "dAmA2jWXTgno"
   },
   "source": [
    "Note: Using integers as the input will give an error. Why? Integers are *not\n",
    "differentiable*.\n",
    "\n"
   ]
  },
  {
   "cell_type": "code",
   "execution_count": null,
   "metadata": {
    "colab": {
     "base_uri": "https://localhost:8080/"
    },
    "executionInfo": {
     "elapsed": 130,
     "status": "ok",
     "timestamp": 1637071858601,
     "user": {
      "displayName": "John Kitchin",
      "photoUrl": "https://lh3.googleusercontent.com/a/default-user=s64",
      "userId": "14782011281593705406"
     },
     "user_tz": 300
    },
    "id": "4YjeHX-NTgnp",
    "outputId": "e8b17825-9d3a-4f07-ebcf-43fd655ba040",
    "tags": [
     "raises-exception"
    ]
   },
   "outputs": [],
   "source": [
    "dfdx(10)"
   ]
  },
  {
   "cell_type": "markdown",
   "metadata": {
    "id": "mUUDqDoUTgnu"
   },
   "source": [
    "We have to be careful about what kind of argument we use. You should not\n",
    "use lists when you mean arrays. jax can only work on arrays defined\n",
    "in the jax.numpy library.\n",
    "\n",
    "With jax you should be explicit on types, and not rely on automatic casting."
   ]
  },
  {
   "cell_type": "code",
   "execution_count": null,
   "metadata": {
    "colab": {
     "base_uri": "https://localhost:8080/",
     "height": 381
    },
    "executionInfo": {
     "elapsed": 159,
     "status": "error",
     "timestamp": 1637071908426,
     "user": {
      "displayName": "John Kitchin",
      "photoUrl": "https://lh3.googleusercontent.com/a/default-user=s64",
      "userId": "14782011281593705406"
     },
     "user_tz": 300
    },
    "id": "Zn5NT0ViTgnv",
    "outputId": "7b6ac67a-22fa-4dee-be62-1f1f53738ea2",
    "tags": [
     "raises-exception"
    ]
   },
   "outputs": [],
   "source": [
    "dfdx([1.5, 2.0])  # This is an error because lists do not support the operations required to evaluate the derivative."
   ]
  },
  {
   "cell_type": "markdown",
   "metadata": {
    "id": "SVKOz69XTgn0"
   },
   "source": [
    "Here is another error, because when you pass an array, the function no longer has a scalar output.\n",
    "\n"
   ]
  },
  {
   "cell_type": "code",
   "execution_count": null,
   "metadata": {
    "colab": {
     "base_uri": "https://localhost:8080/",
     "height": 416
    },
    "executionInfo": {
     "elapsed": 130,
     "status": "error",
     "timestamp": 1637071921243,
     "user": {
      "displayName": "John Kitchin",
      "photoUrl": "https://lh3.googleusercontent.com/a/default-user=s64",
      "userId": "14782011281593705406"
     },
     "user_tz": 300
    },
    "id": "IPLyzKHFTgn1",
    "outputId": "0641fbdc-a4c7-4684-8465-7b7c4b13a3cb",
    "tags": [
     "raises-exception"
    ]
   },
   "outputs": [],
   "source": [
    "dfdx(np.array([1.5, 2.0]))"
   ]
  },
  {
   "cell_type": "markdown",
   "metadata": {
    "id": "ge-7bi3ATgn4"
   },
   "source": [
    "The problem is with an array input, `f` is not a scalar function; it\n",
    "outputs an array.\n",
    "\n"
   ]
  },
  {
   "cell_type": "code",
   "execution_count": null,
   "metadata": {
    "colab": {
     "base_uri": "https://localhost:8080/"
    },
    "executionInfo": {
     "elapsed": 170,
     "status": "ok",
     "timestamp": 1637071937982,
     "user": {
      "displayName": "John Kitchin",
      "photoUrl": "https://lh3.googleusercontent.com/a/default-user=s64",
      "userId": "14782011281593705406"
     },
     "user_tz": 300
    },
    "id": "C9utGUmxTgn5",
    "outputId": "967cf3d7-eba8-44ba-e98a-ef46a1cc440b"
   },
   "outputs": [],
   "source": [
    "f(np.array([1.5, 2.0]))"
   ]
  },
  {
   "cell_type": "markdown",
   "metadata": {
    "id": "7J_hR0QGTgn9"
   },
   "source": [
    "To address this, we can use `vmap`, which means pretend each element is passed one at a time, and then provide the gradient for that value. `vmap` means vector map, which is a programming jargon for mapping something on every element.\n",
    "\n"
   ]
  },
  {
   "cell_type": "code",
   "execution_count": null,
   "metadata": {
    "executionInfo": {
     "elapsed": 139,
     "status": "ok",
     "timestamp": 1637071997266,
     "user": {
      "displayName": "John Kitchin",
      "photoUrl": "https://lh3.googleusercontent.com/a/default-user=s64",
      "userId": "14782011281593705406"
     },
     "user_tz": 300
    },
    "id": "U4XpQSGoTgn9"
   },
   "outputs": [],
   "source": [
    "from jax import vmap\n",
    "\n",
    "?vmap"
   ]
  },
  {
   "cell_type": "markdown",
   "metadata": {
    "id": "GalyziOaTgoB"
   },
   "source": [
    "You use vmap when you might use an array as input, and you\n",
    "get an array of values out, but you want the derivative of each element\n",
    "in the output with respect to the corresponding element in the input.\n",
    "This is still a *scalar* function in the sense that each element in the\n",
    "input produces one element in the output.\n",
    "\n"
   ]
  },
  {
   "cell_type": "code",
   "execution_count": null,
   "metadata": {
    "colab": {
     "base_uri": "https://localhost:8080/"
    },
    "executionInfo": {
     "elapsed": 137,
     "status": "ok",
     "timestamp": 1637072022141,
     "user": {
      "displayName": "John Kitchin",
      "photoUrl": "https://lh3.googleusercontent.com/a/default-user=s64",
      "userId": "14782011281593705406"
     },
     "user_tz": 300
    },
    "id": "GwAUshpmTgoC",
    "outputId": "03365ae6-8754-4bd4-babb-b024991b9f72"
   },
   "outputs": [],
   "source": [
    "eg = vmap(dfdx)\n",
    "eg(np.array([1.5, 2.0, -2.0, 5.0]))"
   ]
  },
  {
   "cell_type": "code",
   "execution_count": null,
   "metadata": {
    "colab": {
     "base_uri": "https://localhost:8080/"
    },
    "executionInfo": {
     "elapsed": 134,
     "status": "ok",
     "timestamp": 1637072053065,
     "user": {
      "displayName": "John Kitchin",
      "photoUrl": "https://lh3.googleusercontent.com/a/default-user=s64",
      "userId": "14782011281593705406"
     },
     "user_tz": 300
    },
    "id": "Gf1upP-vTgoF",
    "outputId": "091b9df0-2e5c-49a1-83d4-efdcd58de976"
   },
   "outputs": [],
   "source": [
    "[dfdx(_x) for _x in [1.5, 2.0, -2.0, 5.0]]  # equivalent to vmap, but probably slower"
   ]
  },
  {
   "cell_type": "markdown",
   "metadata": {
    "id": "w_CdCg0ITgoJ"
   },
   "source": [
    "Here is an example usage similar to the examples we have used so far.\n",
    "\n"
   ]
  },
  {
   "cell_type": "code",
   "execution_count": null,
   "metadata": {
    "colab": {
     "base_uri": "https://localhost:8080/",
     "height": 283
    },
    "executionInfo": {
     "elapsed": 297,
     "status": "ok",
     "timestamp": 1637072072562,
     "user": {
      "displayName": "John Kitchin",
      "photoUrl": "https://lh3.googleusercontent.com/a/default-user=s64",
      "userId": "14782011281593705406"
     },
     "user_tz": 300
    },
    "id": "o2eUPjb9TgoJ",
    "outputId": "59f8b7da-3675-41e3-f044-ea990cdf8971"
   },
   "outputs": [],
   "source": [
    "def f(x):\n",
    "    return x**0.5\n",
    "\n",
    "\n",
    "df = vmap(grad(f))  # This returns a callable function\n",
    "\n",
    "x = np.linspace(0.1, 2)\n",
    "\n",
    "import matplotlib.pyplot as plt\n",
    "\n",
    "plt.plot(x, 0.5 * x**-0.5, \"r-\", x, df(x), \"b.\")\n",
    "plt.legend([\"analytical\", \"autograd\"])\n",
    "np.allclose(0.5 * x**-0.5, df(x))"
   ]
  },
  {
   "cell_type": "markdown",
   "metadata": {},
   "source": [
    "AD is not magical, if a derivative is not defined, AD will not compute it. Here the derivative at x=0 is infinity, which is what jax reports."
   ]
  },
  {
   "cell_type": "code",
   "execution_count": null,
   "metadata": {
    "colab": {
     "base_uri": "https://localhost:8080/"
    },
    "executionInfo": {
     "elapsed": 147,
     "status": "ok",
     "timestamp": 1637072192986,
     "user": {
      "displayName": "John Kitchin",
      "photoUrl": "https://lh3.googleusercontent.com/a/default-user=s64",
      "userId": "14782011281593705406"
     },
     "user_tz": 300
    },
    "id": "P7ev85d-GykZ",
    "outputId": "35488735-643c-421d-ea83-70cfd5a9dadc"
   },
   "outputs": [],
   "source": [
    "df(np.array([0.0]))"
   ]
  },
  {
   "cell_type": "markdown",
   "metadata": {
    "id": "3GeeYFlVTgoN"
   },
   "source": [
    "The AD derivatives are identical within tolerance to the analytical\n",
    "formula because autograd simply applies the chain rule to the program to\n",
    "evaluate the derivatives.\n",
    "\n",
    "**Limitation** Derivatives with integers is not well-defined since\n",
    "integers are not continuous.\n",
    "\n",
    "It might not seem like a big deal that this works. The significance\n",
    "really shows when you have more complex programs. This Rube-Goldberg\n",
    "program is equivalent to the previous program. You could work out the\n",
    "derivative by the chain rule your self, but autograd has no problem\n",
    "doing this through all the operations and loops!\n",
    "\n"
   ]
  },
  {
   "cell_type": "code",
   "execution_count": null,
   "metadata": {
    "colab": {
     "base_uri": "https://localhost:8080/",
     "height": 283
    },
    "executionInfo": {
     "elapsed": 355,
     "status": "ok",
     "timestamp": 1637072336486,
     "user": {
      "displayName": "John Kitchin",
      "photoUrl": "https://lh3.googleusercontent.com/a/default-user=s64",
      "userId": "14782011281593705406"
     },
     "user_tz": 300
    },
    "id": "pTPE87QQTgoO",
    "outputId": "5b5e5d82-5f13-405d-88e8-094f6cb0b332"
   },
   "outputs": [],
   "source": [
    "def f(x):\n",
    "    a = 2.0 * x\n",
    "    b = a**2\n",
    "    c = b / 4.0\n",
    "    d = c**0.5\n",
    "    for i in range(5):\n",
    "        d = d * 2\n",
    "\n",
    "    for i in range(5):\n",
    "        d = d / 2\n",
    "\n",
    "    e = np.sqrt(d)\n",
    "    return e\n",
    "\n",
    "\n",
    "df = vmap(grad(f))  # This returns a callable function\n",
    "\n",
    "x = np.linspace(0.1, 2)\n",
    "\n",
    "plt.plot(x, 0.5 * x**-0.5, \"r-\", x, df(x), \"b.\")\n",
    "plt.legend([\"analytical\", \"autograd\"])\n",
    "np.allclose(0.5 * x**-0.5, df(x))"
   ]
  },
  {
   "cell_type": "markdown",
   "metadata": {
    "id": "BtulbuBKTgoT"
   },
   "source": [
    "Of course, autograd cannot make derivatives where they are not defined.\n",
    "The derivative of the square root function is not defined at $x=0$, and\n",
    "we get warnings and a `nan` result if we try to evaluate it there.\n",
    "\n"
   ]
  },
  {
   "cell_type": "code",
   "execution_count": null,
   "metadata": {
    "colab": {
     "base_uri": "https://localhost:8080/"
    },
    "executionInfo": {
     "elapsed": 159,
     "status": "ok",
     "timestamp": 1637072390363,
     "user": {
      "displayName": "John Kitchin",
      "photoUrl": "https://lh3.googleusercontent.com/a/default-user=s64",
      "userId": "14782011281593705406"
     },
     "user_tz": 300
    },
    "id": "e7AQjfOgTgoU",
    "outputId": "7d0b9fe0-e166-416a-ea77-67a69fa1db10"
   },
   "outputs": [],
   "source": [
    "df(np.array([0.0]))"
   ]
  },
  {
   "cell_type": "markdown",
   "metadata": {
    "id": "eH5WTARLTgoZ"
   },
   "source": [
    "## Derivatives of multivalue functions - Jacobian\n",
    "\n"
   ]
  },
  {
   "cell_type": "markdown",
   "metadata": {
    "id": "cMr21FHdTgob"
   },
   "source": [
    "Autograd really starts to shine when we have vector functions. If we\n",
    "have a function that takes an input with $n$ and produces $m$ outputs,\n",
    "then we frequently need to compute the derivatives of the output with\n",
    "respect to the inputs. These are defined by:\n",
    "\n",
    "$\\mathbf{J}_{ij} = \\frac{\\partial f_i}{\\partial x_j}$\n",
    "\n",
    "jax provides functions for computing the Jacobian for this. Let's consider an\n",
    "example:\n",
    "\n",
    "$f_1(x, y) = x^2 y$\n",
    "\n",
    "$f_2(x, y) = 5 x + \\sin(y)$\n",
    "\n",
    "The Jacobian of this system is:\n",
    "\n",
    "\\begin{equation} \\left[\\begin{array}{cc} 2 x y & x^2 \\\\ 5 & \\cos y \\\\\n",
    "\\end{array}\\right] \\end{equation}\n",
    "\n",
    "There are two Jacobian functions, `jacfwd` and `jacref`. In theory they do the same thing, but one of them will usually be faster for some systems. `jacfwd` uses a forward pass through the code to compute the Jacobian, while `jacrev` uses a reverse pass. The [documentation](https://jax.readthedocs.io/en/latest/notebooks/autodiff_cookbook.html#jacobians-and-hessians-using-jacfwd-and-jacrev) recommends using jacfwd for \"tall\" Jacobians and jacref for \"wide\" jacobians. For square jacobians, it does not matter. It is fine to be practical, and try both to see if one is faster than other.\n",
    "\n"
   ]
  },
  {
   "cell_type": "code",
   "execution_count": null,
   "metadata": {
    "colab": {
     "base_uri": "https://localhost:8080/"
    },
    "executionInfo": {
     "elapsed": 140,
     "status": "ok",
     "timestamp": 1637072763569,
     "user": {
      "displayName": "John Kitchin",
      "photoUrl": "https://lh3.googleusercontent.com/a/default-user=s64",
      "userId": "14782011281593705406"
     },
     "user_tz": 300
    },
    "id": "JQWjZ_JfTgob",
    "outputId": "38f1177d-c4cd-4261-c75b-4f12cd18eb61"
   },
   "outputs": [],
   "source": [
    "from jax import jacfwd\n",
    "\n",
    "\n",
    "def f(X):\n",
    "    x, y = X\n",
    "    return np.array([x**2 * y, 5 * x + np.sin(y)])  # f1  # f2\n",
    "\n",
    "\n",
    "Jf = jacfwd(f)\n",
    "\n",
    "# now show the equivalence\n",
    "x, y = 0.5, 0.5\n",
    "print(\"Jf: \", Jf(np.array([x, y])))  # use array for the input\n",
    "print(\"An: \", np.array([[2 * x * y, x**2], [5, np.cos(y)]]))\n",
    "\n",
    "np.allclose(Jf(np.array([x, y])), np.array([[2 * x * y, x**2], [5, np.cos(y)]]))"
   ]
  },
  {
   "cell_type": "markdown",
   "metadata": {
    "id": "mbbZTo27Tgof"
   },
   "source": [
    "**Limitation** Note the explicit use of arrays in the above code. jax\n",
    "requires you to use arrays explicitly most of the time, and you can get\n",
    "errors if you are lazy and use lists/tuples.\n",
    "\n",
    "We use Jacobians in a variety of applications, but one important one is\n",
    "for changing variables in integrations, presumably because this results\n",
    "in a simpler integral.\n",
    "\n",
    "$\\int \\int_R f(x, y) dx dy = \\int \\int_{R'} f(x(u, v), y(u, v)) \\left|\\frac{\\partial(x, y)}{\\partial(u, v)}\\right| du dv$\n",
    "\n",
    "Where $\\left|\\frac{\\partial(x, y)}{\\partial(u, v)}\\right|$ is defined as\n",
    "the determinant of the Jacobian:\n",
    "\n",
    "$\\left|\\begin{array}{cc} \\frac{\\partial x}{\\partial u} & \\frac{\\partial x}{\\partial v} \\\\ \\frac{\\partial y}{\\partial u} & \\frac{\\partial y}{\\partial v} \\end{array}\\right|$\n",
    "\n",
    "Here is an example we work out that is adapted from:\n",
    "[http://www.stat.rice.edu/~dobelman/notes_papers/math/Jacobian.pdf](http://www.stat.rice.edu/~dobelman/notes_papers/math/Jacobian.pdf)\n",
    "\n",
    "![image.png](data:image/png;base64,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)\n",
    "\n",
    "Executing that double integral in cartesian coordinates is not\n",
    "convenient because the integral limits would be a function for $y$. If\n",
    "we instead switch to polar coordinates, then we have the simpler limits\n",
    "of $\\rho$ from 0 to $r$, and $\\theta$ from 0 to $2\\pi$. There is no\n",
    "$f(x, y)$ here, the integrand is just 1.\n",
    "\n",
    "This is a double integral, and we use `scipy.integrate.dblquad`.\n",
    "\n"
   ]
  },
  {
   "cell_type": "code",
   "execution_count": null,
   "metadata": {
    "executionInfo": {
     "elapsed": 146,
     "status": "ok",
     "timestamp": 1637073051933,
     "user": {
      "displayName": "John Kitchin",
      "photoUrl": "https://lh3.googleusercontent.com/a/default-user=s64",
      "userId": "14782011281593705406"
     },
     "user_tz": 300
    },
    "id": "JTVT3lHGTgog"
   },
   "outputs": [],
   "source": [
    "from scipy.integrate import dblquad\n",
    "\n",
    "?dblquad"
   ]
  },
  {
   "cell_type": "markdown",
   "metadata": {
    "id": "OnUZpep9Tgok"
   },
   "source": [
    "Return the double (definite) integral of \\`\\`func(y, x)\\`\\` from \\`\\`x =\n",
    "a..b\\`\\` and \\`\\`y = gfun(x)..hfun(x)\\`\\`.\n",
    "\n",
    "We want:\n",
    "\n",
    "$\\int_{\\rho=0}^{\\rho=1} \\int_{\\theta=0}^{\\theta=2\\pi} det(J) d\\rho d\\theta = \\pi$\n",
    "\n",
    "That leads to this implementation:\n",
    "\n"
   ]
  },
  {
   "cell_type": "code",
   "execution_count": null,
   "metadata": {
    "colab": {
     "base_uri": "https://localhost:8080/"
    },
    "executionInfo": {
     "elapsed": 313,
     "status": "ok",
     "timestamp": 1637073159923,
     "user": {
      "displayName": "John Kitchin",
      "photoUrl": "https://lh3.googleusercontent.com/a/default-user=s64",
      "userId": "14782011281593705406"
     },
     "user_tz": 300
    },
    "id": "3zHyiH3ITgol",
    "outputId": "a4745c51-98ac-40f4-fe7f-f7d9fac43853"
   },
   "outputs": [],
   "source": [
    "def f(P):\n",
    "    rho, theta = P\n",
    "    return np.array([rho * np.cos(theta), rho * np.sin(theta)])  # x  # y\n",
    "\n",
    "\n",
    "jf = jacfwd(f)\n",
    "\n",
    "\n",
    "def integrand(rho, theta):\n",
    "    J = jf(np.array([rho, theta]))\n",
    "    return np.linalg.det(J)\n",
    "\n",
    "\n",
    "# integrand(y, x)\n",
    "xa, xb = 0, 2 * np.pi  # theta\n",
    "ya, yb = 0, 1  # rho\n",
    "\n",
    "dblquad(integrand, xa, xb, ya, yb)"
   ]
  },
  {
   "cell_type": "markdown",
   "metadata": {
    "id": "JrvWKngvTgop"
   },
   "source": [
    "And the expected answer. Compare that to the cartesian coordinate\n",
    "system:\n",
    "\n",
    "$\\int_{-1}^1 \\int_{-\\sqrt{1 - x^2}}^{\\sqrt{1 - x^2}} dx dy$\n",
    "\n"
   ]
  },
  {
   "cell_type": "code",
   "execution_count": null,
   "metadata": {
    "colab": {
     "base_uri": "https://localhost:8080/"
    },
    "executionInfo": {
     "elapsed": 125,
     "status": "ok",
     "timestamp": 1637073211689,
     "user": {
      "displayName": "John Kitchin",
      "photoUrl": "https://lh3.googleusercontent.com/a/default-user=s64",
      "userId": "14782011281593705406"
     },
     "user_tz": 300
    },
    "id": "C7dKNTJvTgoq",
    "outputId": "920df7b7-47f4-43a8-d8f1-ca5862ca2339"
   },
   "outputs": [],
   "source": [
    "def integrand(y, x):\n",
    "    return 1\n",
    "\n",
    "\n",
    "def yl(x):\n",
    "    return -np.sqrt(1 - x**2)\n",
    "\n",
    "\n",
    "def yu(x):\n",
    "    return np.sqrt(1 - x**2)\n",
    "\n",
    "\n",
    "dblquad(integrand, -1, 1, yl, yu)"
   ]
  },
  {
   "cell_type": "markdown",
   "metadata": {
    "id": "nUQdXWJhTgou"
   },
   "source": [
    "The answer is the same, but the integral limits are more complex. Of\n",
    "course, one can invoke Kitchin's conservation of complexity law here; we\n",
    "can give up the complexity of the limits if we take on the complexity of\n",
    "autograd.\n",
    "\n"
   ]
  },
  {
   "cell_type": "markdown",
   "metadata": {
    "id": "c3KhfjoZTgov"
   },
   "source": [
    "## Hessians\n",
    "\n"
   ]
  },
  {
   "cell_type": "markdown",
   "metadata": {
    "id": "9r2003ZGTgov"
   },
   "source": [
    "The [Hessian matrix](https://en.wikipedia.org/wiki/Hessian_matrix) is\n",
    "a square matrix of second-order partial derivatives of a scalar-valued\n",
    "function.\n",
    "\n",
    "$\\mathbf{H}_{ij} = \\frac{\\partial^2 f}{\\partial x_i x_j}$\n",
    "\n",
    "`autograd.hessian` also returns a callable function.\n",
    "\n"
   ]
  },
  {
   "cell_type": "code",
   "execution_count": null,
   "metadata": {
    "colab": {
     "base_uri": "https://localhost:8080/"
    },
    "executionInfo": {
     "elapsed": 136,
     "status": "ok",
     "timestamp": 1637073339876,
     "user": {
      "displayName": "John Kitchin",
      "photoUrl": "https://lh3.googleusercontent.com/a/default-user=s64",
      "userId": "14782011281593705406"
     },
     "user_tz": 300
    },
    "id": "GIYFaWdLTgow",
    "outputId": "e6f98cf2-ee11-49f1-8ecb-6640123531e9"
   },
   "outputs": [],
   "source": [
    "from jax import hessian\n",
    "\n",
    "\n",
    "def f(X):\n",
    "    x, y = X\n",
    "    return x**2 + y**2\n",
    "\n",
    "\n",
    "H = hessian(f)\n",
    "\n",
    "H(np.array([0.5, 0.5]))"
   ]
  },
  {
   "cell_type": "markdown",
   "metadata": {
    "id": "Nn7BTASaTgo0"
   },
   "source": [
    "The Hessian is used to classify what kind of stationary points have been\n",
    "found. It is also used in some optimization algorithms.\n",
    "\n"
   ]
  },
  {
   "cell_type": "markdown",
   "metadata": {
    "id": "tV34Zcv3Tgo1"
   },
   "source": [
    "## Applications to optimization\n",
    "\n"
   ]
  },
  {
   "cell_type": "code",
   "execution_count": null,
   "metadata": {
    "executionInfo": {
     "elapsed": 140,
     "status": "ok",
     "timestamp": 1637073459742,
     "user": {
      "displayName": "John Kitchin",
      "photoUrl": "https://lh3.googleusercontent.com/a/default-user=s64",
      "userId": "14782011281593705406"
     },
     "user_tz": 300
    },
    "id": "C_nOQPm6Tgo1"
   },
   "outputs": [],
   "source": [
    "from scipy.optimize import minimize\n",
    "\n",
    "?minimize"
   ]
  },
  {
   "cell_type": "markdown",
   "metadata": {
    "id": "iI7sRzHETgo7"
   },
   "source": [
    "We will consider the\n",
    "[Rosenbrock function](https://en.wikipedia.org/wiki/Rosenbrock_function), which has a minimum at (1, 1) with a value of 0. The\n",
    "standard optimization approach is shown here for comparison.\n",
    "\n"
   ]
  },
  {
   "cell_type": "code",
   "execution_count": null,
   "metadata": {
    "colab": {
     "base_uri": "https://localhost:8080/"
    },
    "executionInfo": {
     "elapsed": 138,
     "status": "ok",
     "timestamp": 1637073535220,
     "user": {
      "displayName": "John Kitchin",
      "photoUrl": "https://lh3.googleusercontent.com/a/default-user=s64",
      "userId": "14782011281593705406"
     },
     "user_tz": 300
    },
    "id": "bfRsPHM1Tgo8",
    "outputId": "ee3a1731-4111-4acb-d152-ec744d377c25"
   },
   "outputs": [],
   "source": [
    "from scipy.optimize import minimize\n",
    "\n",
    "\n",
    "def rosenbrock(X):\n",
    "    x, y = X\n",
    "    return (1 - x) ** 2 + 100 * (y - x**2) ** 2\n",
    "\n",
    "\n",
    "sol = minimize(rosenbrock, [1, 0])\n",
    "print(sol)"
   ]
  },
  {
   "cell_type": "markdown",
   "metadata": {},
   "source": [
    "Next, we look at how to imporve the performance by providing the Jacobian and Hessian via AD functions."
   ]
  },
  {
   "cell_type": "code",
   "execution_count": null,
   "metadata": {
    "id": "HWzMLiRS1Jpr"
   },
   "outputs": [],
   "source": [
    "?minimize"
   ]
  },
  {
   "cell_type": "markdown",
   "metadata": {
    "id": "U_Qgh2YUTgpA"
   },
   "source": [
    "The solution is pretty good, but we can get a better answer if we\n",
    "provide the Jacobian. Usually you are expected to derive and implement\n",
    "this. We do it in one like with jax. Since we have a scalar function, the Jacobian and grad are equivalent.\n",
    "\n"
   ]
  },
  {
   "cell_type": "code",
   "execution_count": null,
   "metadata": {
    "colab": {
     "base_uri": "https://localhost:8080/"
    },
    "executionInfo": {
     "elapsed": 173,
     "status": "ok",
     "timestamp": 1637073631185,
     "user": {
      "displayName": "John Kitchin",
      "photoUrl": "https://lh3.googleusercontent.com/a/default-user=s64",
      "userId": "14782011281593705406"
     },
     "user_tz": 300
    },
    "id": "ke1_K-pN1gLy",
    "outputId": "89c1583e-9e7a-4f55-f627-25692310550f"
   },
   "outputs": [],
   "source": [
    "df = grad(rosenbrock)\n",
    "df(np.array([1.0, 0.0]))"
   ]
  },
  {
   "cell_type": "code",
   "execution_count": null,
   "metadata": {
    "colab": {
     "base_uri": "https://localhost:8080/"
    },
    "executionInfo": {
     "elapsed": 143,
     "status": "ok",
     "timestamp": 1637073648567,
     "user": {
      "displayName": "John Kitchin",
      "photoUrl": "https://lh3.googleusercontent.com/a/default-user=s64",
      "userId": "14782011281593705406"
     },
     "user_tz": 300
    },
    "id": "eL9_WWkxTgpB",
    "outputId": "d188c6d2-5174-4cd7-8cd9-63b93f98c1cc"
   },
   "outputs": [],
   "source": [
    "df = grad(rosenbrock)\n",
    "\n",
    "sol_j = minimize(rosenbrock, [1, 0], jac=df)\n",
    "print(sol_j)"
   ]
  },
  {
   "cell_type": "markdown",
   "metadata": {
    "id": "iccGDRLGTgpH"
   },
   "source": [
    "Note that the function is closer to zero (although it was small to start\n",
    "with) and it took many fewer steps to get there.\n",
    "\n",
    "Finally, we get an even better answer if we also provide the Hessian,\n",
    "and use an algorithm that uses the Hessian (most of them do not).\n",
    "\n"
   ]
  },
  {
   "cell_type": "code",
   "execution_count": null,
   "metadata": {
    "executionInfo": {
     "elapsed": 150,
     "status": "ok",
     "timestamp": 1637073912367,
     "user": {
      "displayName": "John Kitchin",
      "photoUrl": "https://lh3.googleusercontent.com/a/default-user=s64",
      "userId": "14782011281593705406"
     },
     "user_tz": 300
    },
    "id": "Yxz0mfBM2J_K"
   },
   "outputs": [],
   "source": [
    "?minimize"
   ]
  },
  {
   "cell_type": "code",
   "execution_count": null,
   "metadata": {
    "colab": {
     "base_uri": "https://localhost:8080/"
    },
    "executionInfo": {
     "elapsed": 127,
     "status": "ok",
     "timestamp": 1637073967783,
     "user": {
      "displayName": "John Kitchin",
      "photoUrl": "https://lh3.googleusercontent.com/a/default-user=s64",
      "userId": "14782011281593705406"
     },
     "user_tz": 300
    },
    "id": "1C6bPG1rTgpH",
    "outputId": "125528b5-9a6d-4ad4-efd5-9d40947aab89"
   },
   "outputs": [],
   "source": [
    "hf = hessian(rosenbrock)\n",
    "minimize(rosenbrock, [1, 0], jac=df, hess=hf, method=\"dogleg\")"
   ]
  },
  {
   "cell_type": "markdown",
   "metadata": {
    "id": "HDgcM3wBTgpM"
   },
   "source": [
    "Note we get an almost exact answer, with only two function evaluations! \n",
    "\n",
    "You can see that the Hessian returned by this solver is identical to the\n",
    "Hessian we would compute.\n",
    "\n"
   ]
  },
  {
   "cell_type": "code",
   "execution_count": null,
   "metadata": {
    "colab": {
     "base_uri": "https://localhost:8080/"
    },
    "executionInfo": {
     "elapsed": 170,
     "status": "ok",
     "timestamp": 1637073755421,
     "user": {
      "displayName": "John Kitchin",
      "photoUrl": "https://lh3.googleusercontent.com/a/default-user=s64",
      "userId": "14782011281593705406"
     },
     "user_tz": 300
    },
    "id": "OpZWzLRoTgpN",
    "outputId": "473c273e-dfc8-432e-9737-8d8f13daaf03"
   },
   "outputs": [],
   "source": [
    "hf(np.array([1.0, 1.0]))"
   ]
  },
  {
   "cell_type": "markdown",
   "metadata": {
    "id": "xToqRi4BTgpR"
   },
   "source": [
    "Note that in the example where we just provided the Jacobian that the\n",
    "Hessian is approximated. You can see that here. It is pretty close, but\n",
    "not exact.\n",
    "\n"
   ]
  },
  {
   "cell_type": "code",
   "execution_count": null,
   "metadata": {
    "colab": {
     "base_uri": "https://localhost:8080/"
    },
    "executionInfo": {
     "elapsed": 126,
     "status": "ok",
     "timestamp": 1637073795380,
     "user": {
      "displayName": "John Kitchin",
      "photoUrl": "https://lh3.googleusercontent.com/a/default-user=s64",
      "userId": "14782011281593705406"
     },
     "user_tz": 300
    },
    "id": "Uga_J_KSTgpR",
    "outputId": "b9692c9e-46cc-47a1-9c40-ee514ff407f6"
   },
   "outputs": [],
   "source": [
    "print(np.linalg.inv(sol_j.hess_inv))"
   ]
  },
  {
   "cell_type": "markdown",
   "metadata": {
    "id": "bKBW-bapTgpV"
   },
   "source": [
    "# Summary\n",
    "\n"
   ]
  },
  {
   "cell_type": "markdown",
   "metadata": {
    "id": "g3tTsd8bTgpV"
   },
   "source": [
    "Today we reviewed computational approaches to taking derivatives. The\n",
    "star of this lecture is automatic differentiation.\n",
    "\n",
    "`jax` is very good, but it is worth spending some time reading https://jax.readthedocs.io/en/latest/notebooks/Common_Gotchas_in_JAX.html. It is not magic, and sometimes there are surprises that require innovative solutions.\n",
    "\n",
    "Next time we will look at several applications of AD in calculus,\n",
    "science and engineering. After that, we will return to nonlinear\n",
    "regression and conclude with an introduction to machine learning.\n",
    "\n"
   ]
  },
  {
   "cell_type": "code",
   "execution_count": 18,
   "metadata": {},
   "outputs": [
    {
     "data": {
      "text/html": [
       "<div id=\"cTLErsxjRvGi\" data-shufflequestions=\"False\"\n",
       "               data-shuffleanswers=\"True\"\n",
       "               data-preserveresponses=\"false\"\n",
       "               data-numquestions=\"1000000\"\n",
       "               data-maxwidth=\"600\"\n",
       "               style=\"border-radius: 10px; text-align: left\"> <style>\n",
       "#cTLErsxjRvGi {\n",
       "   --jq-multiple-choice-bg: #6f78ffff;\n",
       "   --jq-mc-button-bg: #fafafa;\n",
       "   --jq-mc-button-border: #e0e0e0e0;\n",
       "   --jq-mc-button-inset-shadow: #555555;\n",
       "   --jq-many-choice-bg: #f75c03ff;\n",
       "   --jq-numeric-bg: #392061ff;\n",
       "   --jq-numeric-input-bg: #c0c0c0;\n",
       "   --jq-numeric-input-label: #101010;\n",
       "   --jq-numeric-input-shadow: #999999;\n",
       "   --jq-incorrect-color: #c80202;\n",
       "   --jq-correct-color: #009113;\n",
       "   --jq-text-color: #fafafa;\n",
       "}\n",
       "\n",
       ".Quiz {\n",
       "    max-width: 600px;\n",
       "    margin-top: 15px;\n",
       "    margin-left: auto;\n",
       "    margin-right: auto;\n",
       "    margin-bottom: 15px;\n",
       "    padding-bottom: 4px;\n",
       "    padding-top: 4px;\n",
       "    line-height: 1.1;\n",
       "    font-size: 16pt;\n",
       "    border-radius: inherit;\n",
       "}\n",
       "\n",
       ".QuizCode {\n",
       "    font-size: 14pt;\n",
       "    margin-top: 10px;\n",
       "    margin-left: 20px;\n",
       "    margin-right: 20px;\n",
       "}\n",
       "\n",
       ".QuizCode>pre {\n",
       "    padding: 4px;\n",
       "}\n",
       "\n",
       ".Answer {\n",
       "    margin: 10px 0;\n",
       "    display: grid;\n",
       "    grid-template-columns: 1fr 1fr;\n",
       "    grid-gap: 10px;\n",
       "    border-radius: inherit;\n",
       "}\n",
       "\n",
       ".Feedback {\n",
       "    font-size: 16pt;\n",
       "    text-align: center;\n",
       "    min-height: 2em;\n",
       "}\n",
       "\n",
       ".Input {\n",
       "    align: left;\n",
       "    font-size: 20pt;\n",
       "}\n",
       "\n",
       ".Input-text {\n",
       "    display: block;\n",
       "    margin: 10px;\n",
       "    color: inherit;\n",
       "    width: 140px;\n",
       "    background-color: var(--jq-numeric-input-bg);\n",
       "    color: var(--jq-text-color);\n",
       "    padding: 5px;\n",
       "    padding-left: 10px;\n",
       "    font-family: inherit;\n",
       "    font-size: 20px;\n",
       "    font-weight: inherit;\n",
       "    line-height: 20pt;\n",
       "    border: none;\n",
       "    border-radius: 0.2rem;\n",
       "    transition: box-shadow 0.1s);\n",
       "}\n",
       "\n",
       ".Input-text:focus {\n",
       "    outline: none;\n",
       "    background-color: var(--jq-numeric-input-bg);\n",
       "    box-shadow: 0.6rem 0.8rem 1.4rem -0.5rem var(--jq-numeric-input-shadow);\n",
       "}\n",
       "\n",
       ".MCButton {\n",
       "    background: var(--jq-mc-button-bg);\n",
       "    border: 1px solid var(--jq-mc-button-border);\n",
       "    border-radius: inherit;\n",
       "    padding: 10px;\n",
       "    font-size: 16px;\n",
       "    cursor: pointer;\n",
       "    text-align: center;\n",
       "    display: flex;\n",
       "    align-items: center;\n",
       "    justify-content: center;\n",
       "}\n",
       "\n",
       ".MCButton p {\n",
       "    color: inherit;\n",
       "}\n",
       "\n",
       ".MultipleChoiceQn {\n",
       "    padding: 10px;\n",
       "    background: var(--jq-multiple-choice-bg);\n",
       "    color: var(--jq-text-color);\n",
       "    border-radius: inherit;\n",
       "}\n",
       "\n",
       ".ManyChoiceQn {\n",
       "    padding: 10px;\n",
       "    background: var(--jq-many-choice-bg);\n",
       "    color: var(--jq-text-color);\n",
       "    border-radius: inherit;\n",
       "}\n",
       "\n",
       ".NumericQn {\n",
       "    padding: 10px;\n",
       "    background: var(--jq-numeric-bg);\n",
       "    color: var(--jq-text-color);\n",
       "    border-radius: inherit;\n",
       "}\n",
       "\n",
       ".NumericQn p {\n",
       "    color: inherit;\n",
       "}\n",
       "\n",
       ".InpLabel {\n",
       "    line-height: 34px;\n",
       "    float: left;\n",
       "    margin-right: 10px;\n",
       "    color: var(--jq-numeric-input-label);\n",
       "    font-size: 15pt;\n",
       "}\n",
       "\n",
       ".incorrect {\n",
       "    color: var(--jq-incorrect-color);\n",
       "}\n",
       "\n",
       ".correct {\n",
       "    color: var(--jq-correct-color);\n",
       "}\n",
       "\n",
       ".correctButton {\n",
       "    /*\n",
       "    background: var(--jq-correct-color);\n",
       "   */\n",
       "    animation: correct-anim 0.6s ease;\n",
       "    animation-fill-mode: forwards;\n",
       "    color: var(--jq-text-color);\n",
       "    box-shadow: inset 0px 0px 5px var(--jq-mc-button-inset-shadow);\n",
       "    outline: none;\n",
       "}\n",
       "\n",
       ".incorrectButton {\n",
       "    animation: incorrect-anim 0.8s ease;\n",
       "    animation-fill-mode: forwards;\n",
       "    color: var(--jq-text-color);\n",
       "    box-shadow: inset 0px 0px 5px var(--jq-mc-button-inset-shadow);\n",
       "    outline: none;\n",
       "}\n",
       "\n",
       "@keyframes incorrect-anim {\n",
       "    100% {\n",
       "        background-color: var(--jq-incorrect-color);\n",
       "    }\n",
       "}\n",
       "\n",
       "@keyframes correct-anim {\n",
       "    100% {\n",
       "        background-color: var(--jq-correct-color);\n",
       "    }\n",
       "}\n",
       "</style>"
      ],
      "text/plain": [
       "<IPython.core.display.HTML object>"
      ]
     },
     "metadata": {},
     "output_type": "display_data"
    },
    {
     "data": {
      "application/javascript": [
       "var questionscTLErsxjRvGi=[\n",
       "  {\n",
       "    \"question\": \"Derivatives have useful applications in determining\",\n",
       "    \"type\": \"multiple_choice\",\n",
       "    \"answers\": [\n",
       "      {\n",
       "        \"answer\": \"rate of change of physical quantities\",\n",
       "        \"correct\": false\n",
       "      },\n",
       "      {\n",
       "        \"answer\": \"uncertainty propagation\",\n",
       "        \"correct\": false\n",
       "      },\n",
       "      {\n",
       "        \"answer\": \"extreme values of a function\",\n",
       "        \"correct\": false\n",
       "      },\n",
       "      {\n",
       "        \"answer\": \"All of the above\",\n",
       "        \"correct\": true\n",
       "      }\n",
       "    ],\n",
       "    \"tag\": \"derivative\",\n",
       "    \"lecture_file\": \"19_introduction_to_autograd\"\n",
       "  },\n",
       "  {\n",
       "    \"question\": \"np.gradient and numdifftools.Derivative approximates the derivatives based on\",\n",
       "    \"type\": \"multiple_choice\",\n",
       "    \"answers\": [\n",
       "      {\n",
       "        \"answer\": \"chain rule\",\n",
       "        \"correct\": false\n",
       "      },\n",
       "      {\n",
       "        \"answer\": \"Finite element analysis\",\n",
       "        \"correct\": false\n",
       "      },\n",
       "      {\n",
       "        \"answer\": \"Finite differences\",\n",
       "        \"correct\": true\n",
       "      },\n",
       "      {\n",
       "        \"answer\": \"None of the above\",\n",
       "        \"correct\": false\n",
       "      }\n",
       "    ],\n",
       "    \"tag\": \"derivative numpy scipy\",\n",
       "    \"lecture_file\": \"19_introduction_to_autograd\"\n",
       "  },\n",
       "  {\n",
       "    \"question\": \"A requirement of using np.gradient to calculate the derivative is\",\n",
       "    \"type\": \"multiple_choice\",\n",
       "    \"answers\": [\n",
       "      {\n",
       "        \"answer\": \"equation of the function to be differentiated\",\n",
       "        \"correct\": false\n",
       "      },\n",
       "      {\n",
       "        \"answer\": \"data points\",\n",
       "        \"correct\": true\n",
       "      },\n",
       "      {\n",
       "        \"answer\": \"defining a function in python\",\n",
       "        \"correct\": false\n",
       "      },\n",
       "      {\n",
       "        \"answer\": \"None of the above\",\n",
       "        \"correct\": false\n",
       "      }\n",
       "    ],\n",
       "    \"tag\": \"numpy derivative\",\n",
       "    \"lecture_file\": \"19_introduction_to_autograd\"\n",
       "  },\n",
       "  {\n",
       "    \"question\": \"A requirement of using numdifftools.Derivative to calculate the derivative is\",\n",
       "    \"type\": \"multiple_choice\",\n",
       "    \"answers\": [\n",
       "      {\n",
       "        \"answer\": \"equation of the function to be differentiated\",\n",
       "        \"correct\": false\n",
       "      },\n",
       "      {\n",
       "        \"answer\": \"defining a function in python\",\n",
       "        \"correct\": false\n",
       "      },\n",
       "      {\n",
       "        \"answer\": \"All of the above\",\n",
       "        \"correct\": true\n",
       "      },\n",
       "      {\n",
       "        \"answer\": \"None of the above\",\n",
       "        \"correct\": false\n",
       "      }\n",
       "    ],\n",
       "    \"tag\": \"scipy derivative\",\n",
       "    \"lecture_file\": \"19_introduction_to_autograd\"\n",
       "  },\n",
       "  {\n",
       "    \"question\": \"Automatic differentiation is better than classical methods such as symbolic and numerical differentiation as\",\n",
       "    \"type\": \"multiple_choice\",\n",
       "    \"answers\": [\n",
       "      {\n",
       "        \"answer\": \"It does not approximate\",\n",
       "        \"correct\": false\n",
       "      },\n",
       "      {\n",
       "        \"answer\": \"It can solve higher order derivatives\",\n",
       "        \"correct\": false\n",
       "      },\n",
       "      {\n",
       "        \"answer\": \"It can work on a program\",\n",
       "        \"correct\": false\n",
       "      },\n",
       "      {\n",
       "        \"answer\": \"All of the above\",\n",
       "        \"correct\": true\n",
       "      }\n",
       "    ],\n",
       "    \"tag\": \"derivative automatic_differentiation\",\n",
       "    \"lecture_file\": \"19_introduction_to_autograd\"\n",
       "  },\n",
       "  {\n",
       "    \"question\": \"If f(x) is a scalar function, and E = elementwise_grad(f), then E(np.array([a, b, c]), will output\",\n",
       "    \"type\": \"multiple_choice\",\n",
       "    \"answers\": [\n",
       "      {\n",
       "        \"answer\": \"A single element as f(x) is a scalar function\",\n",
       "        \"correct\": false\n",
       "      },\n",
       "      {\n",
       "        \"answer\": \"An array of length 3\",\n",
       "        \"correct\": true\n",
       "      },\n",
       "      {\n",
       "        \"answer\": \"An error\",\n",
       "        \"correct\": false\n",
       "      },\n",
       "      {\n",
       "        \"answer\": \"An array of length 9\",\n",
       "        \"correct\": false\n",
       "      }\n",
       "    ],\n",
       "    \"tag\": \"autograd\",\n",
       "    \"lecture_file\": \"19_introduction_to_autograd\"\n",
       "  },\n",
       "  {\n",
       "    \"question\": \"When using jax, which of the following codes will work without raising an error\",\n",
       "    \"type\": \"multiple_choice\",\n",
       "    \"answers\": [\n",
       "      {\n",
       "        \"answer\": \"def z(x):<br>    c = 1/x - 1<br>    return c<br>dz = grad(z)<br>dz(-2.0)\",\n",
       "        \"correct\": true\n",
       "      },\n",
       "      {\n",
       "        \"answer\": \"def z(x):<br>    c = 1/x - 1<br>    return c<br>dz = grad(z)<br>dz(2)\",\n",
       "        \"correct\": false\n",
       "      },\n",
       "      {\n",
       "        \"answer\": \"def z(x):<br>    c = 1/x - 1<br>    return c<br>dz = grad(z)<br>dz(0.0)\",\n",
       "        \"correct\": false\n",
       "      },\n",
       "      {\n",
       "        \"answer\": \"def z(x):<br>    c = 1/x - 1<br>    return c<br>dz = grad(z)<br>dz(np.array([-2.0, -1.0]))\",\n",
       "        \"correct\": false\n",
       "      }\n",
       "    ],\n",
       "    \"tag\": \"autograd\",\n",
       "    \"lecture_file\": \"19_introduction_to_autograd\"\n",
       "  },\n",
       "  {\n",
       "    \"question\": \"When using jax.jacobian() to evaluate the derivative for multiple input arrays, we need to\",\n",
       "    \"type\": \"multiple_choice\",\n",
       "    \"answers\": [\n",
       "      {\n",
       "        \"answer\": \"Use a list of arrays as input\",\n",
       "        \"correct\": false\n",
       "      },\n",
       "      {\n",
       "        \"answer\": \"Cannot be done directly; Need to use a single input array at a time\",\n",
       "        \"correct\": false\n",
       "      },\n",
       "      {\n",
       "        \"answer\": \"Use a nested array as the input\",\n",
       "        \"correct\": true\n",
       "      },\n",
       "      {\n",
       "        \"answer\": \"Can be used if we vectorize the function with '@np.vectorize' decorator\",\n",
       "        \"correct\": false\n",
       "      }\n",
       "    ],\n",
       "    \"tag\": \"autograd\",\n",
       "    \"lecture_file\": \"19_introduction_to_autograd\"\n",
       "  },\n",
       "  {\n",
       "    \"question\": \"Hessian and Jacobian are useful to find the partial derivatives of\",\n",
       "    \"type\": \"multiple_choice\",\n",
       "    \"answers\": [\n",
       "      {\n",
       "        \"answer\": \"Vector-valued functions\",\n",
       "        \"correct\": false\n",
       "      },\n",
       "      {\n",
       "        \"answer\": \"Scalar-valued functions\",\n",
       "        \"correct\": false\n",
       "      },\n",
       "      {\n",
       "        \"answer\": \"Hessian is used on scalar-valued functions and Jacobian on vector-valued functions\",\n",
       "        \"correct\": true\n",
       "      },\n",
       "      {\n",
       "        \"answer\": \"Hessian is used on vector-valued functions and Jacobian on scalar-valued functions\",\n",
       "        \"correct\": false\n",
       "      }\n",
       "    ],\n",
       "    \"tag\": \"hessian jacobian\",\n",
       "    \"lecture_file\": \"19_introduction_to_autograd\"\n",
       "  },\n",
       "  {\n",
       "    \"question\": \"When the input dimensions and output dimensions of a vector valued function are equal to 1, then\",\n",
       "    \"type\": \"multiple_choice\",\n",
       "    \"answers\": [\n",
       "      {\n",
       "        \"answer\": \"The function can be interpreted as scalar-valued\",\n",
       "        \"correct\": false\n",
       "      },\n",
       "      {\n",
       "        \"answer\": \"The jacobian matrix has a single value which is the derivative of the function at the input value\",\n",
       "        \"correct\": false\n",
       "      },\n",
       "      {\n",
       "        \"answer\": \"The function is no longer multivariate\",\n",
       "        \"correct\": false\n",
       "      },\n",
       "      {\n",
       "        \"answer\": \"All of the above\",\n",
       "        \"correct\": true\n",
       "      }\n",
       "    ],\n",
       "    \"tag\": \"autograd functions\",\n",
       "    \"lecture_file\": \"19_introduction_to_autograd\"\n",
       "  }\n",
       "]\n",
       ";\n",
       "    // Make a random ID\n",
       "function makeid(length) {\n",
       "    var result = [];\n",
       "    var characters = 'ABCDEFGHIJKLMNOPQRSTUVWXYZabcdefghijklmnopqrstuvwxyz';\n",
       "    var charactersLength = characters.length;\n",
       "    for (var i = 0; i < length; i++) {\n",
       "        result.push(characters.charAt(Math.floor(Math.random() * charactersLength)));\n",
       "    }\n",
       "    return result.join('');\n",
       "}\n",
       "\n",
       "// Choose a random subset of an array. Can also be used to shuffle the array\n",
       "function getRandomSubarray(arr, size) {\n",
       "    var shuffled = arr.slice(0), i = arr.length, temp, index;\n",
       "    while (i--) {\n",
       "        index = Math.floor((i + 1) * Math.random());\n",
       "        temp = shuffled[index];\n",
       "        shuffled[index] = shuffled[i];\n",
       "        shuffled[i] = temp;\n",
       "    }\n",
       "    return shuffled.slice(0, size);\n",
       "}\n",
       "\n",
       "function printResponses(responsesContainer) {\n",
       "    var responses=JSON.parse(responsesContainer.dataset.responses);\n",
       "    var stringResponses='<B>IMPORTANT!</B>To preserve this answer sequence for submission, when you have finalized your answers: <ol> <li> Copy the text in this cell below \"Answer String\"</li> <li> Double click on the cell directly below the Answer String, labeled \"Replace Me\"</li> <li> Select the whole \"Replace Me\" text</li> <li> Paste in your answer string and press shift-Enter.</li><li>Save the notebook using the save icon or File->Save Notebook menu item</li></ul><br><br><br><b>Answer String:</b><br> ';\n",
       "    console.log(responses);\n",
       "    responses.forEach((response, index) => {\n",
       "        if (response) {\n",
       "            console.log(index + ': ' + response);\n",
       "            stringResponses+= index + ': ' + response +\"<BR>\";\n",
       "        }\n",
       "    });\n",
       "    responsesContainer.innerHTML=stringResponses;\n",
       "}\n",
       "function check_mc() {\n",
       "    var id = this.id.split('-')[0];\n",
       "    //var response = this.id.split('-')[1];\n",
       "    //console.log(response);\n",
       "    //console.log(\"In check_mc(), id=\"+id);\n",
       "    //console.log(event.srcElement.id)           \n",
       "    //console.log(event.srcElement.dataset.correct)   \n",
       "    //console.log(event.srcElement.dataset.feedback)\n",
       "\n",
       "    var label = event.srcElement;\n",
       "    //console.log(label, label.nodeName);\n",
       "    var depth = 0;\n",
       "    while ((label.nodeName != \"LABEL\") && (depth < 20)) {\n",
       "        label = label.parentElement;\n",
       "        console.log(depth, label);\n",
       "        depth++;\n",
       "    }\n",
       "\n",
       "\n",
       "\n",
       "    var answers = label.parentElement.children;\n",
       "\n",
       "    //console.log(answers);\n",
       "\n",
       "\n",
       "    // Split behavior based on multiple choice vs many choice:\n",
       "    var fb = document.getElementById(\"fb\" + id);\n",
       "\n",
       "\n",
       "\n",
       "\n",
       "    if (fb.dataset.numcorrect == 1) {\n",
       "        // What follows is for the saved responses stuff\n",
       "        var outerContainer = fb.parentElement.parentElement;\n",
       "        var responsesContainer = document.getElementById(\"responses\" + outerContainer.id);\n",
       "        if (responsesContainer) {\n",
       "            //console.log(responsesContainer);\n",
       "            var response = label.firstChild.innerText;\n",
       "            if (label.querySelector(\".QuizCode\")){\n",
       "                response+= label.querySelector(\".QuizCode\").firstChild.innerText;\n",
       "            }\n",
       "            console.log(response);\n",
       "            //console.log(document.getElementById(\"quizWrap\"+id));\n",
       "            var qnum = document.getElementById(\"quizWrap\"+id).dataset.qnum;\n",
       "            console.log(\"Question \" + qnum);\n",
       "            //console.log(id, \", got numcorrect=\",fb.dataset.numcorrect);\n",
       "            var responses=JSON.parse(responsesContainer.dataset.responses);\n",
       "            console.log(responses);\n",
       "            responses[qnum]= response;\n",
       "            responsesContainer.setAttribute('data-responses', JSON.stringify(responses));\n",
       "            printResponses(responsesContainer);\n",
       "        }\n",
       "        // End code to preserve responses\n",
       "        \n",
       "        for (var i = 0; i < answers.length; i++) {\n",
       "            var child = answers[i];\n",
       "            //console.log(child);\n",
       "            child.className = \"MCButton\";\n",
       "        }\n",
       "\n",
       "\n",
       "\n",
       "        if (label.dataset.correct == \"true\") {\n",
       "            // console.log(\"Correct action\");\n",
       "            if (\"feedback\" in label.dataset) {\n",
       "                fb.textContent = jaxify(label.dataset.feedback);\n",
       "            } else {\n",
       "                fb.textContent = \"Correct!\";\n",
       "            }\n",
       "            label.classList.add(\"correctButton\");\n",
       "\n",
       "            fb.className = \"Feedback\";\n",
       "            fb.classList.add(\"correct\");\n",
       "\n",
       "        } else {\n",
       "            if (\"feedback\" in label.dataset) {\n",
       "                fb.textContent = jaxify(label.dataset.feedback);\n",
       "            } else {\n",
       "                fb.textContent = \"Incorrect -- try again.\";\n",
       "            }\n",
       "            //console.log(\"Error action\");\n",
       "            label.classList.add(\"incorrectButton\");\n",
       "            fb.className = \"Feedback\";\n",
       "            fb.classList.add(\"incorrect\");\n",
       "        }\n",
       "    }\n",
       "    else {\n",
       "        var reset = false;\n",
       "        var feedback;\n",
       "         if (label.dataset.correct == \"true\") {\n",
       "            if (\"feedback\" in label.dataset) {\n",
       "                feedback = jaxify(label.dataset.feedback);\n",
       "            } else {\n",
       "                feedback = \"Correct!\";\n",
       "            }\n",
       "            if (label.dataset.answered <= 0) {\n",
       "                if (fb.dataset.answeredcorrect < 0) {\n",
       "                    fb.dataset.answeredcorrect = 1;\n",
       "                    reset = true;\n",
       "                } else {\n",
       "                    fb.dataset.answeredcorrect++;\n",
       "                }\n",
       "                if (reset) {\n",
       "                    for (var i = 0; i < answers.length; i++) {\n",
       "                        var child = answers[i];\n",
       "                        child.className = \"MCButton\";\n",
       "                        child.dataset.answered = 0;\n",
       "                    }\n",
       "                }\n",
       "                label.classList.add(\"correctButton\");\n",
       "                label.dataset.answered = 1;\n",
       "                fb.className = \"Feedback\";\n",
       "                fb.classList.add(\"correct\");\n",
       "\n",
       "            }\n",
       "        } else {\n",
       "            if (\"feedback\" in label.dataset) {\n",
       "                feedback = jaxify(label.dataset.feedback);\n",
       "            } else {\n",
       "                feedback = \"Incorrect -- try again.\";\n",
       "            }\n",
       "            if (fb.dataset.answeredcorrect > 0) {\n",
       "                fb.dataset.answeredcorrect = -1;\n",
       "                reset = true;\n",
       "            } else {\n",
       "                fb.dataset.answeredcorrect--;\n",
       "            }\n",
       "\n",
       "            if (reset) {\n",
       "                for (var i = 0; i < answers.length; i++) {\n",
       "                    var child = answers[i];\n",
       "                    child.className = \"MCButton\";\n",
       "                    child.dataset.answered = 0;\n",
       "                }\n",
       "            }\n",
       "            label.classList.add(\"incorrectButton\");\n",
       "            fb.className = \"Feedback\";\n",
       "            fb.classList.add(\"incorrect\");\n",
       "        }\n",
       "        // What follows is for the saved responses stuff\n",
       "        var outerContainer = fb.parentElement.parentElement;\n",
       "        var responsesContainer = document.getElementById(\"responses\" + outerContainer.id);\n",
       "        if (responsesContainer) {\n",
       "            //console.log(responsesContainer);\n",
       "            var response = label.firstChild.innerText;\n",
       "            if (label.querySelector(\".QuizCode\")){\n",
       "                response+= label.querySelector(\".QuizCode\").firstChild.innerText;\n",
       "            }\n",
       "            console.log(response);\n",
       "            //console.log(document.getElementById(\"quizWrap\"+id));\n",
       "            var qnum = document.getElementById(\"quizWrap\"+id).dataset.qnum;\n",
       "            console.log(\"Question \" + qnum);\n",
       "            //console.log(id, \", got numcorrect=\",fb.dataset.numcorrect);\n",
       "            var responses=JSON.parse(responsesContainer.dataset.responses);\n",
       "            if (label.dataset.correct == \"true\") {\n",
       "                if (typeof(responses[qnum]) == \"object\"){\n",
       "                    if (!responses[qnum].includes(response))\n",
       "                        responses[qnum].push(response);\n",
       "                } else{\n",
       "                    responses[qnum]= [ response ];\n",
       "                }\n",
       "            } else {\n",
       "                responses[qnum]= response;\n",
       "            }\n",
       "            console.log(responses);\n",
       "            responsesContainer.setAttribute('data-responses', JSON.stringify(responses));\n",
       "            printResponses(responsesContainer);\n",
       "        }\n",
       "        // End save responses stuff\n",
       "\n",
       "\n",
       "\n",
       "        var numcorrect = fb.dataset.numcorrect;\n",
       "        var answeredcorrect = fb.dataset.answeredcorrect;\n",
       "        if (answeredcorrect >= 0) {\n",
       "            fb.textContent = feedback + \" [\" + answeredcorrect + \"/\" + numcorrect + \"]\";\n",
       "        } else {\n",
       "            fb.textContent = feedback + \" [\" + 0 + \"/\" + numcorrect + \"]\";\n",
       "        }\n",
       "\n",
       "\n",
       "    }\n",
       "\n",
       "    if (typeof MathJax != 'undefined') {\n",
       "        var version = MathJax.version;\n",
       "        console.log('MathJax version', version);\n",
       "        if (version[0] == \"2\") {\n",
       "            MathJax.Hub.Queue([\"Typeset\", MathJax.Hub]);\n",
       "        } else if (version[0] == \"3\") {\n",
       "            MathJax.typeset([fb]);\n",
       "        }\n",
       "    } else {\n",
       "        console.log('MathJax not detected');\n",
       "    }\n",
       "\n",
       "}\n",
       "\n",
       "function make_mc(qa, shuffle_answers, outerqDiv, qDiv, aDiv, id) {\n",
       "    var shuffled;\n",
       "    if (shuffle_answers == \"True\") {\n",
       "        //console.log(shuffle_answers+\" read as true\");\n",
       "        shuffled = getRandomSubarray(qa.answers, qa.answers.length);\n",
       "    } else {\n",
       "        //console.log(shuffle_answers+\" read as false\");\n",
       "        shuffled = qa.answers;\n",
       "    }\n",
       "\n",
       "\n",
       "    var num_correct = 0;\n",
       "\n",
       "\n",
       "\n",
       "    shuffled.forEach((item, index, ans_array) => {\n",
       "        //console.log(answer);\n",
       "\n",
       "        // Make input element\n",
       "        var inp = document.createElement(\"input\");\n",
       "        inp.type = \"radio\";\n",
       "        inp.id = \"quizo\" + id + index;\n",
       "        inp.style = \"display:none;\";\n",
       "        aDiv.append(inp);\n",
       "\n",
       "        //Make label for input element\n",
       "        var lab = document.createElement(\"label\");\n",
       "        lab.className = \"MCButton\";\n",
       "        lab.id = id + '-' + index;\n",
       "        lab.onclick = check_mc;\n",
       "        var aSpan = document.createElement('span');\n",
       "        aSpan.classsName = \"\";\n",
       "        //qDiv.id=\"quizQn\"+id+index;\n",
       "        if (\"answer\" in item) {\n",
       "            aSpan.innerHTML = jaxify(item.answer);\n",
       "            //aSpan.innerHTML=item.answer;\n",
       "        }\n",
       "        lab.append(aSpan);\n",
       "\n",
       "        // Create div for code inside question\n",
       "        var codeSpan;\n",
       "        if (\"code\" in item) {\n",
       "            codeSpan = document.createElement('span');\n",
       "            codeSpan.id = \"code\" + id + index;\n",
       "            codeSpan.className = \"QuizCode\";\n",
       "            var codePre = document.createElement('pre');\n",
       "            codeSpan.append(codePre);\n",
       "            var codeCode = document.createElement('code');\n",
       "            codePre.append(codeCode);\n",
       "            codeCode.innerHTML = item.code;\n",
       "            lab.append(codeSpan);\n",
       "            //console.log(codeSpan);\n",
       "        }\n",
       "\n",
       "        //lab.textContent=item.answer;\n",
       "\n",
       "        // Set the data attributes for the answer\n",
       "        lab.setAttribute('data-correct', item.correct);\n",
       "        if (item.correct) {\n",
       "            num_correct++;\n",
       "        }\n",
       "        if (\"feedback\" in item) {\n",
       "            lab.setAttribute('data-feedback', item.feedback);\n",
       "        }\n",
       "        lab.setAttribute('data-answered', 0);\n",
       "\n",
       "        aDiv.append(lab);\n",
       "\n",
       "    });\n",
       "\n",
       "    if (num_correct > 1) {\n",
       "        outerqDiv.className = \"ManyChoiceQn\";\n",
       "    } else {\n",
       "        outerqDiv.className = \"MultipleChoiceQn\";\n",
       "    }\n",
       "\n",
       "    return num_correct;\n",
       "\n",
       "}\n",
       "function check_numeric(ths, event) {\n",
       "\n",
       "    if (event.keyCode === 13) {\n",
       "        ths.blur();\n",
       "\n",
       "        var id = ths.id.split('-')[0];\n",
       "\n",
       "        var submission = ths.value;\n",
       "        if (submission.indexOf('/') != -1) {\n",
       "            var sub_parts = submission.split('/');\n",
       "            //console.log(sub_parts);\n",
       "            submission = sub_parts[0] / sub_parts[1];\n",
       "        }\n",
       "        //console.log(\"Reader entered\", submission);\n",
       "\n",
       "        if (\"precision\" in ths.dataset) {\n",
       "            var precision = ths.dataset.precision;\n",
       "            // console.log(\"1:\", submission)\n",
       "            submission = Math.round((1 * submission + Number.EPSILON) * 10 ** precision) / 10 ** precision;\n",
       "            // console.log(\"Rounded to \", submission, \" precision=\", precision  );\n",
       "        }\n",
       "\n",
       "\n",
       "        //console.log(\"In check_numeric(), id=\"+id);\n",
       "        //console.log(event.srcElement.id)           \n",
       "        //console.log(event.srcElement.dataset.feedback)\n",
       "\n",
       "        var fb = document.getElementById(\"fb\" + id);\n",
       "        fb.style.display = \"none\";\n",
       "        fb.textContent = \"Incorrect -- try again.\";\n",
       "\n",
       "        var answers = JSON.parse(ths.dataset.answers);\n",
       "        //console.log(answers);\n",
       "\n",
       "        var defaultFB = \"\";\n",
       "        var correct;\n",
       "        var done = false;\n",
       "        answers.every(answer => {\n",
       "            //console.log(answer.type);\n",
       "\n",
       "            correct = false;\n",
       "            // if (answer.type==\"value\"){\n",
       "            if ('value' in answer) {\n",
       "                if (submission == answer.value) {\n",
       "                    if (\"feedback\" in answer) {\n",
       "                        fb.textContent = jaxify(answer.feedback);\n",
       "                    } else {\n",
       "                        fb.textContent = jaxify(\"Correct\");\n",
       "                    }\n",
       "                    correct = answer.correct;\n",
       "                    //console.log(answer.correct);\n",
       "                    done = true;\n",
       "                }\n",
       "                // } else if (answer.type==\"range\") {\n",
       "            } else if ('range' in answer) {\n",
       "                //console.log(answer.range);\n",
       "                if ((submission >= answer.range[0]) && (submission < answer.range[1])) {\n",
       "                    fb.textContent = jaxify(answer.feedback);\n",
       "                    correct = answer.correct;\n",
       "                    //console.log(answer.correct);\n",
       "                    done = true;\n",
       "                }\n",
       "            } else if (answer.type == \"default\") {\n",
       "                defaultFB = answer.feedback;\n",
       "            }\n",
       "            if (done) {\n",
       "                return false; // Break out of loop if this has been marked correct\n",
       "            } else {\n",
       "                return true; // Keep looking for case that includes this as a correct answer\n",
       "            }\n",
       "        });\n",
       "\n",
       "        if ((!done) && (defaultFB != \"\")) {\n",
       "            fb.innerHTML = jaxify(defaultFB);\n",
       "            //console.log(\"Default feedback\", defaultFB);\n",
       "        }\n",
       "\n",
       "        fb.style.display = \"block\";\n",
       "        if (correct) {\n",
       "            ths.className = \"Input-text\";\n",
       "            ths.classList.add(\"correctButton\");\n",
       "            fb.className = \"Feedback\";\n",
       "            fb.classList.add(\"correct\");\n",
       "        } else {\n",
       "            ths.className = \"Input-text\";\n",
       "            ths.classList.add(\"incorrectButton\");\n",
       "            fb.className = \"Feedback\";\n",
       "            fb.classList.add(\"incorrect\");\n",
       "        }\n",
       "\n",
       "        // What follows is for the saved responses stuff\n",
       "        var outerContainer = fb.parentElement.parentElement;\n",
       "        var responsesContainer = document.getElementById(\"responses\" + outerContainer.id);\n",
       "        if (responsesContainer) {\n",
       "            console.log(submission);\n",
       "            var qnum = document.getElementById(\"quizWrap\"+id).dataset.qnum;\n",
       "            //console.log(\"Question \" + qnum);\n",
       "            //console.log(id, \", got numcorrect=\",fb.dataset.numcorrect);\n",
       "            var responses=JSON.parse(responsesContainer.dataset.responses);\n",
       "            console.log(responses);\n",
       "            if (submission == ths.value){\n",
       "                responses[qnum]= submission;\n",
       "            } else {\n",
       "                responses[qnum]= ths.value + \"(\" + submission +\")\";\n",
       "            }\n",
       "            responsesContainer.setAttribute('data-responses', JSON.stringify(responses));\n",
       "            printResponses(responsesContainer);\n",
       "        }\n",
       "        // End code to preserve responses\n",
       "\n",
       "        if (typeof MathJax != 'undefined') {\n",
       "            var version = MathJax.version;\n",
       "            console.log('MathJax version', version);\n",
       "            if (version[0] == \"2\") {\n",
       "                MathJax.Hub.Queue([\"Typeset\", MathJax.Hub]);\n",
       "            } else if (version[0] == \"3\") {\n",
       "                MathJax.typeset([fb]);\n",
       "            }\n",
       "        } else {\n",
       "            console.log('MathJax not detected');\n",
       "        }\n",
       "        return false;\n",
       "    }\n",
       "\n",
       "}\n",
       "\n",
       "function isValid(el, charC) {\n",
       "    //console.log(\"Input char: \", charC);\n",
       "    if (charC == 46) {\n",
       "        if (el.value.indexOf('.') === -1) {\n",
       "            return true;\n",
       "        } else if (el.value.indexOf('/') != -1) {\n",
       "            var parts = el.value.split('/');\n",
       "            if (parts[1].indexOf('.') === -1) {\n",
       "                return true;\n",
       "            }\n",
       "        }\n",
       "        else {\n",
       "            return false;\n",
       "        }\n",
       "    } else if (charC == 47) {\n",
       "        if (el.value.indexOf('/') === -1) {\n",
       "            if ((el.value != \"\") && (el.value != \".\")) {\n",
       "                return true;\n",
       "            } else {\n",
       "                return false;\n",
       "            }\n",
       "        } else {\n",
       "            return false;\n",
       "        }\n",
       "    } else if (charC == 45) {\n",
       "        var edex = el.value.indexOf('e');\n",
       "        if (edex == -1) {\n",
       "            edex = el.value.indexOf('E');\n",
       "        }\n",
       "\n",
       "        if (el.value == \"\") {\n",
       "            return true;\n",
       "        } else if (edex == (el.value.length - 1)) { // If just after e or E\n",
       "            return true;\n",
       "        } else {\n",
       "            return false;\n",
       "        }\n",
       "    } else if (charC == 101) { // \"e\"\n",
       "        if ((el.value.indexOf('e') === -1) && (el.value.indexOf('E') === -1) && (el.value.indexOf('/') == -1)) {\n",
       "            // Prev symbol must be digit or decimal point:\n",
       "            if (el.value.slice(-1).search(/\\d/) >= 0) {\n",
       "                return true;\n",
       "            } else if (el.value.slice(-1).search(/\\./) >= 0) {\n",
       "                return true;\n",
       "            } else {\n",
       "                return false;\n",
       "            }\n",
       "        } else {\n",
       "            return false;\n",
       "        }\n",
       "    } else {\n",
       "        if (charC > 31 && (charC < 48 || charC > 57))\n",
       "            return false;\n",
       "    }\n",
       "    return true;\n",
       "}\n",
       "\n",
       "function numeric_keypress(evnt) {\n",
       "    var charC = (evnt.which) ? evnt.which : evnt.keyCode;\n",
       "\n",
       "    if (charC == 13) {\n",
       "        check_numeric(this, evnt);\n",
       "    } else {\n",
       "        return isValid(this, charC);\n",
       "    }\n",
       "}\n",
       "\n",
       "\n",
       "\n",
       "\n",
       "\n",
       "function make_numeric(qa, outerqDiv, qDiv, aDiv, id) {\n",
       "\n",
       "\n",
       "\n",
       "    //console.log(answer);\n",
       "\n",
       "\n",
       "    outerqDiv.className = \"NumericQn\";\n",
       "    aDiv.style.display = 'block';\n",
       "\n",
       "    var lab = document.createElement(\"label\");\n",
       "    lab.className = \"InpLabel\";\n",
       "    lab.textContent = \"Type numeric answer here:\";\n",
       "    aDiv.append(lab);\n",
       "\n",
       "    var inp = document.createElement(\"input\");\n",
       "    inp.type = \"text\";\n",
       "    //inp.id=\"input-\"+id;\n",
       "    inp.id = id + \"-0\";\n",
       "    inp.className = \"Input-text\";\n",
       "    inp.setAttribute('data-answers', JSON.stringify(qa.answers));\n",
       "    if (\"precision\" in qa) {\n",
       "        inp.setAttribute('data-precision', qa.precision);\n",
       "    }\n",
       "    aDiv.append(inp);\n",
       "    //console.log(inp);\n",
       "\n",
       "    //inp.addEventListener(\"keypress\", check_numeric);\n",
       "    //inp.addEventListener(\"keypress\", numeric_keypress);\n",
       "    /*\n",
       "    inp.addEventListener(\"keypress\", function(event) {\n",
       "        return numeric_keypress(this, event);\n",
       "    }\n",
       "                        );\n",
       "                        */\n",
       "    //inp.onkeypress=\"return numeric_keypress(this, event)\";\n",
       "    inp.onkeypress = numeric_keypress;\n",
       "    inp.onpaste = event => false;\n",
       "\n",
       "    inp.addEventListener(\"focus\", function (event) {\n",
       "        this.value = \"\";\n",
       "        return false;\n",
       "    }\n",
       "    );\n",
       "\n",
       "\n",
       "}\n",
       "function jaxify(string) {\n",
       "    var mystring = string;\n",
       "\n",
       "    var count = 0;\n",
       "    var loc = mystring.search(/([^\\\\]|^)(\\$)/);\n",
       "\n",
       "    var count2 = 0;\n",
       "    var loc2 = mystring.search(/([^\\\\]|^)(\\$\\$)/);\n",
       "\n",
       "    //console.log(loc);\n",
       "\n",
       "    while ((loc >= 0) || (loc2 >= 0)) {\n",
       "\n",
       "        /* Have to replace all the double $$ first with current implementation */\n",
       "        if (loc2 >= 0) {\n",
       "            if (count2 % 2 == 0) {\n",
       "                mystring = mystring.replace(/([^\\\\]|^)(\\$\\$)/, \"$1\\\\[\");\n",
       "            } else {\n",
       "                mystring = mystring.replace(/([^\\\\]|^)(\\$\\$)/, \"$1\\\\]\");\n",
       "            }\n",
       "            count2++;\n",
       "        } else {\n",
       "            if (count % 2 == 0) {\n",
       "                mystring = mystring.replace(/([^\\\\]|^)(\\$)/, \"$1\\\\(\");\n",
       "            } else {\n",
       "                mystring = mystring.replace(/([^\\\\]|^)(\\$)/, \"$1\\\\)\");\n",
       "            }\n",
       "            count++;\n",
       "        }\n",
       "        loc = mystring.search(/([^\\\\]|^)(\\$)/);\n",
       "        loc2 = mystring.search(/([^\\\\]|^)(\\$\\$)/);\n",
       "        //console.log(mystring,\", loc:\",loc,\", loc2:\",loc2);\n",
       "    }\n",
       "\n",
       "    //console.log(mystring);\n",
       "    return mystring;\n",
       "}\n",
       "\n",
       "\n",
       "function show_questions(json, mydiv) {\n",
       "    console.log('show_questions');\n",
       "    //var mydiv=document.getElementById(myid);\n",
       "    var shuffle_questions = mydiv.dataset.shufflequestions;\n",
       "    var num_questions = mydiv.dataset.numquestions;\n",
       "    var shuffle_answers = mydiv.dataset.shuffleanswers;\n",
       "    var max_width = mydiv.dataset.maxwidth;\n",
       "\n",
       "    if (num_questions > json.length) {\n",
       "        num_questions = json.length;\n",
       "    }\n",
       "\n",
       "    var questions;\n",
       "    if ((num_questions < json.length) || (shuffle_questions == \"True\")) {\n",
       "        //console.log(num_questions+\",\"+json.length);\n",
       "        questions = getRandomSubarray(json, num_questions);\n",
       "    } else {\n",
       "        questions = json;\n",
       "    }\n",
       "\n",
       "    //console.log(\"SQ: \"+shuffle_questions+\", NQ: \" + num_questions + \", SA: \", shuffle_answers);\n",
       "\n",
       "    // Iterate over questions\n",
       "    questions.forEach((qa, index, array) => {\n",
       "        //console.log(qa.question); \n",
       "\n",
       "        var id = makeid(8);\n",
       "        //console.log(id);\n",
       "\n",
       "\n",
       "        // Create Div to contain question and answers\n",
       "        var iDiv = document.createElement('div');\n",
       "        //iDiv.id = 'quizWrap' + id + index;\n",
       "        iDiv.id = 'quizWrap' + id;\n",
       "        iDiv.className = 'Quiz';\n",
       "        iDiv.setAttribute('data-qnum', index);\n",
       "        iDiv.style.maxWidth  =max_width+\"px\";\n",
       "        mydiv.appendChild(iDiv);\n",
       "        // iDiv.innerHTML=qa.question;\n",
       "        \n",
       "        var outerqDiv = document.createElement('div');\n",
       "        outerqDiv.id = \"OuterquizQn\" + id + index;\n",
       "        // Create div to contain question part\n",
       "        var qDiv = document.createElement('div');\n",
       "        qDiv.id = \"quizQn\" + id + index;\n",
       "        \n",
       "        if (qa.question) {\n",
       "            iDiv.append(outerqDiv);\n",
       "\n",
       "            //qDiv.textContent=qa.question;\n",
       "            qDiv.innerHTML = jaxify(qa.question);\n",
       "            outerqDiv.append(qDiv);\n",
       "        }\n",
       "\n",
       "        // Create div for code inside question\n",
       "        var codeDiv;\n",
       "        if (\"code\" in qa) {\n",
       "            codeDiv = document.createElement('div');\n",
       "            codeDiv.id = \"code\" + id + index;\n",
       "            codeDiv.className = \"QuizCode\";\n",
       "            var codePre = document.createElement('pre');\n",
       "            codeDiv.append(codePre);\n",
       "            var codeCode = document.createElement('code');\n",
       "            codePre.append(codeCode);\n",
       "            codeCode.innerHTML = qa.code;\n",
       "            outerqDiv.append(codeDiv);\n",
       "            //console.log(codeDiv);\n",
       "        }\n",
       "\n",
       "\n",
       "        // Create div to contain answer part\n",
       "        var aDiv = document.createElement('div');\n",
       "        aDiv.id = \"quizAns\" + id + index;\n",
       "        aDiv.className = 'Answer';\n",
       "        iDiv.append(aDiv);\n",
       "\n",
       "        //console.log(qa.type);\n",
       "\n",
       "        var num_correct;\n",
       "        if ((qa.type == \"multiple_choice\") || (qa.type == \"many_choice\") ) {\n",
       "            num_correct = make_mc(qa, shuffle_answers, outerqDiv, qDiv, aDiv, id);\n",
       "            if (\"answer_cols\" in qa) {\n",
       "                //aDiv.style.gridTemplateColumns = 'auto '.repeat(qa.answer_cols);\n",
       "                aDiv.style.gridTemplateColumns = 'repeat(' + qa.answer_cols + ', 1fr)';\n",
       "            }\n",
       "        } else if (qa.type == \"numeric\") {\n",
       "            //console.log(\"numeric\");\n",
       "            make_numeric(qa, outerqDiv, qDiv, aDiv, id);\n",
       "        }\n",
       "\n",
       "\n",
       "        //Make div for feedback\n",
       "        var fb = document.createElement(\"div\");\n",
       "        fb.id = \"fb\" + id;\n",
       "        //fb.style=\"font-size: 20px;text-align:center;\";\n",
       "        fb.className = \"Feedback\";\n",
       "        fb.setAttribute(\"data-answeredcorrect\", 0);\n",
       "        fb.setAttribute(\"data-numcorrect\", num_correct);\n",
       "        iDiv.append(fb);\n",
       "\n",
       "\n",
       "    });\n",
       "    var preserveResponses = mydiv.dataset.preserveresponses;\n",
       "    console.log(preserveResponses);\n",
       "    console.log(preserveResponses == \"true\");\n",
       "    if (preserveResponses == \"true\") {\n",
       "        console.log(preserveResponses);\n",
       "        // Create Div to contain record of answers\n",
       "        var iDiv = document.createElement('div');\n",
       "        iDiv.id = 'responses' + mydiv.id;\n",
       "        iDiv.className = 'JCResponses';\n",
       "        // Create a place to store responses as an empty array\n",
       "        iDiv.setAttribute('data-responses', '[]');\n",
       "\n",
       "        // Dummy Text\n",
       "        iDiv.innerHTML=\"<b>Select your answers and then follow the directions that will appear here.</b>\"\n",
       "        //iDiv.className = 'Quiz';\n",
       "        mydiv.appendChild(iDiv);\n",
       "    }\n",
       "//console.log(\"At end of show_questions\");\n",
       "    if (typeof MathJax != 'undefined') {\n",
       "        console.log(\"MathJax version\", MathJax.version);\n",
       "        var version = MathJax.version;\n",
       "        setTimeout(function(){\n",
       "            var version = MathJax.version;\n",
       "            console.log('After sleep, MathJax version', version);\n",
       "            if (version[0] == \"2\") {\n",
       "                MathJax.Hub.Queue([\"Typeset\", MathJax.Hub]);\n",
       "            } else if (version[0] == \"3\") {\n",
       "                MathJax.typeset([mydiv]);\n",
       "            }\n",
       "        }, 500);\n",
       "if (typeof version == 'undefined') {\n",
       "        } else\n",
       "        {\n",
       "            if (version[0] == \"2\") {\n",
       "                MathJax.Hub.Queue([\"Typeset\", MathJax.Hub]);\n",
       "            } else if (version[0] == \"3\") {\n",
       "                MathJax.typeset([mydiv]);\n",
       "            } else {\n",
       "                console.log(\"MathJax not found\");\n",
       "            }\n",
       "        }\n",
       "    }\n",
       "    return false;\n",
       "}\n",
       "/* This is to handle asynchrony issues in loading Jupyter notebooks\n",
       "           where the quiz has been previously run. The Javascript was generally\n",
       "           being run before the div was added to the DOM. I tried to do this\n",
       "           more elegantly using Mutation Observer, but I didn't get it to work.\n",
       "\n",
       "           Someone more knowledgeable could make this better ;-) */\n",
       "\n",
       "        function try_show() {\n",
       "          if(document.getElementById(\"cTLErsxjRvGi\")) {\n",
       "            show_questions(questionscTLErsxjRvGi,  cTLErsxjRvGi); \n",
       "          } else {\n",
       "             setTimeout(try_show, 200);\n",
       "          }\n",
       "        };\n",
       "    \n",
       "        {\n",
       "        // console.log(element);\n",
       "\n",
       "        //console.log(\"cTLErsxjRvGi\");\n",
       "        // console.log(document.getElementById(\"cTLErsxjRvGi\"));\n",
       "\n",
       "        try_show();\n",
       "        }\n",
       "        "
      ],
      "text/plain": [
       "<IPython.core.display.Javascript object>"
      ]
     },
     "metadata": {},
     "output_type": "display_data"
    }
   ],
   "source": [
    "from jupyterquiz import display_quiz\n",
    "display_quiz('.quiz.json')"
   ]
  }
 ],
 "metadata": {
  "colab": {
   "collapsed_sections": [],
   "name": "19-introduction-to-autograd.ipynb",
   "provenance": []
  },
  "kernelspec": {
   "display_name": "Python 3 (ipykernel)",
   "language": "python",
   "name": "python3"
  },
  "language_info": {
   "codemirror_mode": {
    "name": "ipython",
    "version": 3
   },
   "file_extension": ".py",
   "mimetype": "text/x-python",
   "name": "python",
   "nbconvert_exporter": "python",
   "pygments_lexer": "ipython3",
   "version": "3.9.12"
  },
  "org": null,
  "vscode": {
   "interpreter": {
    "hash": "d4d1e4263499bec80672ea0156c357c1ee493ec2b1c70f0acce89fc37c4a6abe"
   }
  },
  "widgets": {
   "application/vnd.jupyter.widget-state+json": {
    "state": {},
    "version_major": 2,
    "version_minor": 0
   }
  }
 },
 "nbformat": 4,
 "nbformat_minor": 4
}
