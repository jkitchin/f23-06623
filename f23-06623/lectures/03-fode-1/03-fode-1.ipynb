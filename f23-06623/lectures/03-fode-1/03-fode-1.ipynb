{
 "cells": [
  {
   "cell_type": "markdown",
   "metadata": {
    "id": "MTML9hd9HDxm"
   },
   "source": [
    "[TOC](../toc.ipynb)\n",
    "\n",
    "- KEYWORDS: integration, quad, zeros, shape, enumerate, solve_ivp\n"
   ]
  },
  {
   "cell_type": "markdown",
   "metadata": {
    "id": "wST7cfrrHDxs"
   },
   "source": [
    "# Solutions to first-order differential equations by integration\n",
    "\n"
   ]
  },
  {
   "cell_type": "markdown",
   "metadata": {
    "id": "pHl3KhNfHDxv"
   },
   "source": [
    "Adapted from Ch. 2 in Advanced Engineering Mathematics, 2<sup>nd</sup> Ed. by Michael Greenberg.\n",
    "\n"
   ]
  },
  {
   "cell_type": "markdown",
   "metadata": {
    "id": "STXXr0CJHDxy"
   },
   "source": [
    "## Homogeneous, first-order linear differential equations\n",
    "\n"
   ]
  },
  {
   "cell_type": "markdown",
   "metadata": {
    "id": "khA2hwGIHDx1"
   },
   "source": [
    "We first consider a homogeneous, first-order, linear differential equation of the form:\n",
    "\n",
    "$y' + p(x) y = 0$, with $y(a) = b$ as an initial value.\n",
    "\n",
    "You can derive a solution to this ODE as:\n",
    "\n",
    "$y(x) = b e^{-\\int_a^x p(\\xi) d\\xi}$\n",
    "\n",
    "For concreteness, consider $(x+2) y' - xy = 0, y(0) = 3$\n",
    "\n",
    "what is the value of $y(1)$?\n",
    "\n",
    "We need to cast this in the form required to identify $p(x)$. That form is:\n",
    "\n",
    "$y' + \\frac{-x}{x+2}y = 0$.\n",
    "\n",
    "Now, we simply evaluate the required integral and use it to compute the value of the solution at the desired new $x$ value."
   ]
  },
  {
   "cell_type": "code",
   "execution_count": 1,
   "metadata": {
    "colab": {
     "base_uri": "https://localhost:8080/"
    },
    "executionInfo": {
     "elapsed": 497,
     "status": "ok",
     "timestamp": 1631189568436,
     "user": {
      "displayName": "John Kitchin",
      "photoUrl": "https://lh3.googleusercontent.com/a/default-user=s64",
      "userId": "14782011281593705406"
     },
     "user_tz": 240
    },
    "id": "M0cPwgMEHDx_",
    "outputId": "8f03cbef-ede6-4962-f687-d506bd74eaaa"
   },
   "outputs": [
    {
     "name": "stdout",
     "output_type": "stream",
     "text": [
      "y(1) = 3.624\n"
     ]
    }
   ],
   "source": [
    "a = 0\n",
    "b = 3\n",
    "x1 = 1  # final point of the solution to find y on the range x=0..1\n",
    "\n",
    "\n",
    "def p(x):\n",
    "    return -x / (x + 2)\n",
    "\n",
    "\n",
    "import numpy as np\n",
    "from scipy.integrate import quad\n",
    "\n",
    "I, err = quad(p, a, x1)\n",
    "\n",
    "y_x1 = b * np.exp(-I)\n",
    "\n",
    "print(f\"y(1) = {y_x1:1.3f}\")"
   ]
  },
  {
   "cell_type": "markdown",
   "metadata": {
    "id": "y5ZKSqxsi3lf"
   },
   "source": [
    "It is worth asking how do you know if this answer is correct? To evaluate that, you could compute the derivative of the solution, and plug it back into the differential equation to see if it works. We check here with a simple centered finite difference formula:\n",
    "\n",
    "$y' \\approx \\frac{y(x + \\delta) - y(x - \\delta)}{2\\delta}$."
   ]
  },
  {
   "cell_type": "code",
   "execution_count": 2,
   "metadata": {
    "colab": {
     "base_uri": "https://localhost:8080/"
    },
    "executionInfo": {
     "elapsed": 263,
     "status": "ok",
     "timestamp": 1631190017241,
     "user": {
      "displayName": "John Kitchin",
      "photoUrl": "https://lh3.googleusercontent.com/a/default-user=s64",
      "userId": "14782011281593705406"
     },
     "user_tz": 240
    },
    "id": "vF0kklI-jead",
    "outputId": "d2d6b030-2d48-4e07-93c8-1eb227d23a4b"
   },
   "outputs": [
    {
     "data": {
      "text/plain": [
       "-1.4666268199903243e-10"
      ]
     },
     "execution_count": 2,
     "metadata": {},
     "output_type": "execute_result"
    }
   ],
   "source": [
    "delta = 1e-6\n",
    "\n",
    "Ip, err = quad(p, a, x1 + delta)\n",
    "Im, err = quad(p, a, x1 - delta)\n",
    "\n",
    "yp_plus = b * np.exp(-Ip)\n",
    "ym_minus = b * np.exp(-Im)\n",
    "\n",
    "yp = (yp_plus - ym_minus) / (2 * delta)\n",
    "\n",
    "yp + (-x1 / (x1 + 2) * y_x1)"
   ]
  },
  {
   "cell_type": "markdown",
   "metadata": {
    "id": "hUdxZ34mk7ey"
   },
   "source": [
    "That result is pretty close to zero, indicating we have a good result.\n",
    "\n",
    "```{note}\n",
    "\"pretty close\" is in the eye of the beholder, and an indication we have made an approximation. We have to decide how close is close enough.  Here the solution error due to the approximation is negligible (7e-11) compared to the value at $y(1)$.\n",
    "```"
   ]
  },
  {
   "cell_type": "markdown",
   "metadata": {
    "id": "UrqSWNIYHDyU"
   },
   "source": [
    "It is a little trickier to evaluate the solution at several x-values, e.g. to make a plot. The `quad` function is not \"vectorized\", meaning it only performs one integral for one range at a time. You cannot pass it a list of ranges to evaluate it several times. Instead, we have to use a loop for this. In the loop, we will solve the integral, and accumulate the result in a solution array. Before we do that, here are a few useful commands we will need to use.\n",
    "\n",
    "First, it is useful to make an array to store the results in. There are a few ways to do this, the one we use today is the `np.zeros` function. You specify the size of the array as an argument. For example, to make an array with three zeros, do this:\n",
    "\n"
   ]
  },
  {
   "cell_type": "code",
   "execution_count": 3,
   "metadata": {
    "colab": {
     "base_uri": "https://localhost:8080/"
    },
    "executionInfo": {
     "elapsed": 258,
     "status": "ok",
     "timestamp": 1631190285208,
     "user": {
      "displayName": "John Kitchin",
      "photoUrl": "https://lh3.googleusercontent.com/a/default-user=s64",
      "userId": "14782011281593705406"
     },
     "user_tz": 240
    },
    "id": "a7gnDfbjHDyX",
    "outputId": "a17abba3-b190-4443-820a-2ef025b3b502"
   },
   "outputs": [
    {
     "data": {
      "text/plain": [
       "array([0., 0., 0.])"
      ]
     },
     "execution_count": 3,
     "metadata": {},
     "output_type": "execute_result"
    }
   ],
   "source": [
    "np.zeros(3)"
   ]
  },
  {
   "cell_type": "markdown",
   "metadata": {
    "id": "vJE6CiZHHDyn"
   },
   "source": [
    "Second, it is helpful to get the shape of an array. You use dot notation and the shape attribute of an array for this. This allows you to create an array, and later make an array of zeros with the same shape and size.\n",
    "\n"
   ]
  },
  {
   "cell_type": "code",
   "execution_count": 4,
   "metadata": {
    "colab": {
     "base_uri": "https://localhost:8080/"
    },
    "executionInfo": {
     "elapsed": 373,
     "status": "ok",
     "timestamp": 1631190346315,
     "user": {
      "displayName": "John Kitchin",
      "photoUrl": "https://lh3.googleusercontent.com/a/default-user=s64",
      "userId": "14782011281593705406"
     },
     "user_tz": 240
    },
    "id": "YVy7LixhHDyq",
    "outputId": "02e6851f-0868-49d3-fd9a-cd01dcae5abf"
   },
   "outputs": [
    {
     "data": {
      "text/plain": [
       "(10,)"
      ]
     },
     "execution_count": 4,
     "metadata": {},
     "output_type": "execute_result"
    }
   ],
   "source": [
    "x = np.linspace(0, 3.5, 10)\n",
    "x.shape"
   ]
  },
  {
   "cell_type": "markdown",
   "metadata": {
    "id": "WhY6jbA7HDy7"
   },
   "source": [
    "Finally we will iterate over the elements of the x array, and in each step we need to know the index of the element *and* the value of the element. `enumerate` provides this in a pretty straightforward syntax. This function iterates over an array and returns at each step the index and element, which you can assign to variables that you use inside the loop. There are other ways to achieve this, but we only consider this method today. Here, we create an array, and an array of zeros that is the same shape. Then, we iterate over the first array, and set the corresponding index in the second array equal to a computation using the index and element value.\n",
    "\n"
   ]
  },
  {
   "cell_type": "code",
   "execution_count": 5,
   "metadata": {
    "colab": {
     "base_uri": "https://localhost:8080/"
    },
    "executionInfo": {
     "elapsed": 254,
     "status": "ok",
     "timestamp": 1631190413496,
     "user": {
      "displayName": "John Kitchin",
      "photoUrl": "https://lh3.googleusercontent.com/a/default-user=s64",
      "userId": "14782011281593705406"
     },
     "user_tz": 240
    },
    "id": "e0xXJbnc_RLe",
    "outputId": "401b9021-5abb-4672-b095-3c965397b5ee"
   },
   "outputs": [
    {
     "name": "stdout",
     "output_type": "stream",
     "text": [
      "0 a\n",
      "1 b\n",
      "2 ['c', 'd']\n"
     ]
    }
   ],
   "source": [
    "# Examples for enumerate\n",
    "a = [\"a\", \"b\", [\"c\", \"d\"]]\n",
    "\n",
    "for i, val in enumerate(a):\n",
    "    print(i, val)"
   ]
  },
  {
   "cell_type": "code",
   "execution_count": 6,
   "metadata": {
    "colab": {
     "base_uri": "https://localhost:8080/"
    },
    "executionInfo": {
     "elapsed": 333,
     "status": "ok",
     "timestamp": 1631190651999,
     "user": {
      "displayName": "John Kitchin",
      "photoUrl": "https://lh3.googleusercontent.com/a/default-user=s64",
      "userId": "14782011281593705406"
     },
     "user_tz": 240
    },
    "id": "TYHCQVQYiSqX",
    "outputId": "17a10891-4f1b-4100-d28a-6a3613622afe"
   },
   "outputs": [
    {
     "data": {
      "text/plain": [
       "array([0., 0., 0., 0., 0.])"
      ]
     },
     "execution_count": 6,
     "metadata": {},
     "output_type": "execute_result"
    }
   ],
   "source": [
    "n = 5  # enter n here...\n",
    "np.zeros(n)"
   ]
  },
  {
   "cell_type": "code",
   "execution_count": 7,
   "metadata": {
    "colab": {
     "base_uri": "https://localhost:8080/"
    },
    "executionInfo": {
     "elapsed": 296,
     "status": "ok",
     "timestamp": 1631190470267,
     "user": {
      "displayName": "John Kitchin",
      "photoUrl": "https://lh3.googleusercontent.com/a/default-user=s64",
      "userId": "14782011281593705406"
     },
     "user_tz": 240
    },
    "id": "bakv6fh9hzj7",
    "outputId": "44824f94-b210-4732-b014-0d35779a023d"
   },
   "outputs": [
    {
     "data": {
      "text/plain": [
       "3"
      ]
     },
     "execution_count": 7,
     "metadata": {},
     "output_type": "execute_result"
    }
   ],
   "source": [
    "len(a)"
   ]
  },
  {
   "cell_type": "code",
   "execution_count": 8,
   "metadata": {
    "colab": {
     "base_uri": "https://localhost:8080/"
    },
    "executionInfo": {
     "elapsed": 248,
     "status": "ok",
     "timestamp": 1631190513128,
     "user": {
      "displayName": "John Kitchin",
      "photoUrl": "https://lh3.googleusercontent.com/a/default-user=s64",
      "userId": "14782011281593705406"
     },
     "user_tz": 240
    },
    "id": "qs2CiLMghjio",
    "outputId": "971d7eed-dd06-4cef-c346-de7811e04c4b"
   },
   "outputs": [
    {
     "name": "stdout",
     "output_type": "stream",
     "text": [
      "0 a\n",
      "1 b\n",
      "2 ['c', 'd']\n"
     ]
    }
   ],
   "source": [
    "# equivalent to\n",
    "for i in range(len(a)):\n",
    "    print(i, a[i])"
   ]
  },
  {
   "cell_type": "code",
   "execution_count": 9,
   "metadata": {
    "colab": {
     "base_uri": "https://localhost:8080/"
    },
    "executionInfo": {
     "elapsed": 286,
     "status": "ok",
     "timestamp": 1631190528606,
     "user": {
      "displayName": "John Kitchin",
      "photoUrl": "https://lh3.googleusercontent.com/a/default-user=s64",
      "userId": "14782011281593705406"
     },
     "user_tz": 240
    },
    "id": "RhB4q0jHiAAR",
    "outputId": "839b4593-afe4-44a4-95ef-c92bc108067b"
   },
   "outputs": [
    {
     "name": "stdout",
     "output_type": "stream",
     "text": [
      "(0, 'a')\n",
      "(1, 'b')\n",
      "(2, ['c', 'd'])\n"
     ]
    }
   ],
   "source": [
    "for tup in enumerate(a):\n",
    "    print(tup)"
   ]
  },
  {
   "cell_type": "markdown",
   "metadata": {
    "id": "mkIx8GHXirj9"
   },
   "source": [
    "Next, we learn how to save values in the array. We iterate over the positions, and assign values to each one."
   ]
  },
  {
   "cell_type": "code",
   "execution_count": 10,
   "metadata": {
    "colab": {
     "base_uri": "https://localhost:8080/"
    },
    "executionInfo": {
     "elapsed": 308,
     "status": "ok",
     "timestamp": 1631190772283,
     "user": {
      "displayName": "John Kitchin",
      "photoUrl": "https://lh3.googleusercontent.com/a/default-user=s64",
      "userId": "14782011281593705406"
     },
     "user_tz": 240
    },
    "id": "jgPKPiZQHDy9",
    "outputId": "ada1283f-66fe-494a-cdc2-4c116ea868d5"
   },
   "outputs": [
    {
     "name": "stdout",
     "output_type": "stream",
     "text": [
      "Before the loop new_arr = [0. 0. 0. 0. 0.]\n",
      "    The element at index 0 is 0.0\n",
      "    The element at index 1 is 0.25\n",
      "    The element at index 2 is 0.5\n",
      "    The element at index 3 is 0.75\n",
      "    The element at index 4 is 1.0\n",
      "After the loop new_arr = [0.   0.25 1.   2.25 4.  ]\n"
     ]
    }
   ],
   "source": [
    "arr = np.linspace(0, 1, 5)\n",
    "new_arr = np.zeros(arr.shape)\n",
    "print(f\"Before the loop new_arr = {new_arr}\")\n",
    "\n",
    "for i, val in enumerate(arr):\n",
    "    new_arr[i] = i * val  # this is a calculation we choose\n",
    "    print(f\"    The element at index {i} is {val}\")\n",
    "\n",
    "print(f\"After the loop new_arr = {new_arr}\")"
   ]
  },
  {
   "cell_type": "markdown",
   "metadata": {},
   "source": [
    "```{tip}\n",
    "Take some time later to go back over the previous concepts. We introduced several new ideas in programming you will want to get comfortable with because we will use them often.\n",
    "```"
   ]
  },
  {
   "cell_type": "markdown",
   "metadata": {
    "id": "xtKK0EAjHDzK"
   },
   "source": [
    "Back to the solution to our integration problem. Our goal is to compute the value of the solution for an array of x-values. We will iterate over an array of x-values, and for each one compute the value of the solution at that x, and save the solution in a new array.\n",
    "\n"
   ]
  },
  {
   "cell_type": "code",
   "execution_count": 11,
   "metadata": {
    "colab": {
     "base_uri": "https://localhost:8080/",
     "height": 279
    },
    "executionInfo": {
     "elapsed": 293,
     "status": "ok",
     "timestamp": 1631191649992,
     "user": {
      "displayName": "John Kitchin",
      "photoUrl": "https://lh3.googleusercontent.com/a/default-user=s64",
      "userId": "14782011281593705406"
     },
     "user_tz": 240
    },
    "id": "kox2iQD2HDzM",
    "outputId": "05ca4e2d-8707-4d37-d51c-8788ba3ea132"
   },
   "outputs": [
    {
     "data": {
      "text/plain": [
       "(0.0, 3.5)"
      ]
     },
     "execution_count": 11,
     "metadata": {},
     "output_type": "execute_result"
    },
    {
     "data": {
      "image/png": "[encoded data removed]",
      "text/plain": [
       "<Figure size 640x480 with 1 Axes>"
      ]
     },
     "metadata": {},
     "output_type": "display_data"
    }
   ],
   "source": [
    "x = np.linspace(0, 3.5, 150)\n",
    "y = np.zeros(x.shape)\n",
    "\n",
    "a = 0\n",
    "b = 3\n",
    "\n",
    "for i, x1 in enumerate(x):\n",
    "    I, err = quad(p, a, x1)\n",
    "    y[i] = b * np.exp(-I)\n",
    "\n",
    "\n",
    "import matplotlib.pyplot as plt\n",
    "\n",
    "plt.plot(x, y, \"b-\")\n",
    "plt.xlabel(\"x\")\n",
    "plt.ylabel(\"y\")\n",
    "# plt.xlim([x.min(), x.max()]);  # .min and .max only work on numpy.arrays\n",
    "plt.xlim([min(x), max(x)])\n",
    "# These are built in python functions that work on lists"
   ]
  },
  {
   "cell_type": "markdown",
   "metadata": {
    "id": "Vq34V78pHD02"
   },
   "source": [
    "We should ask, how can we tell this is correct? We can confirm the initial values, which we know are correct.\n",
    "\n"
   ]
  },
  {
   "cell_type": "code",
   "execution_count": 12,
   "metadata": {
    "id": "7ALP2fK8HD06"
   },
   "outputs": [
    {
     "data": {
      "text/plain": [
       "(0.0, 3.0)"
      ]
     },
     "execution_count": 12,
     "metadata": {},
     "output_type": "execute_result"
    }
   ],
   "source": [
    "x[0], y[0]"
   ]
  },
  {
   "cell_type": "markdown",
   "metadata": {
    "id": "t_hKzsxtHD1H"
   },
   "source": [
    "We can express the ODE as: $y' = \\frac{x}{x+2}y$. By inspection, we can see that the derivative will always be positive, so the solution should increase from the initial value, which it does.\n",
    "\n",
    "We can also examine the derivatives of our solution. We have to rely on numerical derivatives of our solution because x and y are arrays. `np.gradient` will compute the derivative using a reasonable approximation. We know the derivative analytically from the ODE."
   ]
  },
  {
   "cell_type": "code",
   "execution_count": 13,
   "metadata": {
    "colab": {
     "base_uri": "https://localhost:8080/",
     "height": 279
    },
    "executionInfo": {
     "elapsed": 375,
     "status": "ok",
     "timestamp": 1631191657985,
     "user": {
      "displayName": "John Kitchin",
      "photoUrl": "https://lh3.googleusercontent.com/a/default-user=s64",
      "userId": "14782011281593705406"
     },
     "user_tz": 240
    },
    "id": "H1ZNWP0oHD1J",
    "outputId": "a75bfb7d-e346-4640-d4b1-967aae126977"
   },
   "outputs": [
    {
     "data": {
      "image/png": "[encoded data removed]",
      "text/plain": [
       "<Figure size 640x480 with 1 Axes>"
      ]
     },
     "metadata": {},
     "output_type": "display_data"
    }
   ],
   "source": [
    "dydx = np.gradient(y, x, edge_order=2)  # Estimates the derivative dy/dx at every point\n",
    "\n",
    "plt.plot(x, dydx, label=\"dydx\")\n",
    "plt.plot(x, x / (x + 2) * y, \"r--\", label=\"RHS\")\n",
    "plt.xlabel(\"x\")\n",
    "plt.ylabel(\"dy/dx\")\n",
    "plt.legend();"
   ]
  },
  {
   "cell_type": "code",
   "execution_count": 14,
   "metadata": {
    "colab": {
     "base_uri": "https://localhost:8080/",
     "height": 282
    },
    "executionInfo": {
     "elapsed": 285,
     "status": "ok",
     "timestamp": 1631191663330,
     "user": {
      "displayName": "John Kitchin",
      "photoUrl": "https://lh3.googleusercontent.com/a/default-user=s64",
      "userId": "14782011281593705406"
     },
     "user_tz": 240
    },
    "id": "AgKlbM_dl_Y0",
    "outputId": "db068b52-b136-43cf-8183-22d24f551856"
   },
   "outputs": [
    {
     "data": {
      "image/png": "[encoded data removed]",
      "text/plain": [
       "<Figure size 640x480 with 1 Axes>"
      ]
     },
     "metadata": {},
     "output_type": "display_data"
    }
   ],
   "source": [
    "plt.plot(x, dydx - x / (x + 2) * y);"
   ]
  },
  {
   "cell_type": "markdown",
   "metadata": {
    "id": "h0ge8hD_HD1P"
   },
   "source": [
    "Here you see good agreement over most of the range. The end-points are always less accurate because the derivatives there are approximated by a less accurate formula. We interpret the sum of this evidence to mean our solution to the ODE is good over this range of x values.\n",
    "\n"
   ]
  },
  {
   "cell_type": "markdown",
   "metadata": {
    "id": "g8TgvmDIHD1Q"
   },
   "source": [
    "## (Optional) Non-homogeneous linear first-order ODEs\n",
    "\n"
   ]
  },
  {
   "cell_type": "markdown",
   "metadata": {
    "id": "NcYG1X5QHD1S"
   },
   "source": [
    "A non-homogenous first order, linear differential equation has this form:\n",
    "\n",
    "$y' + p(x) y = q(x), y(a)=b$\n",
    "\n",
    "Equations of this form are typically solved with a method called variation of parameters. In the most general form, this leads to solutions of the form:\n",
    "\n",
    "$y(x) = e^{-\\int_a^x p(\\xi)d\\xi}\\left(\\int_a^x e^{-\\int_a^{\\xi} p(\\zeta)d\\zeta} q(\\xi)d\\xi + b\\right)$\n",
    "\n",
    "It is a little tricky to implement this. It is helpful to break this down into several pieces. Note that it is not necessary to do this, it just makes it easier to read, debug, and see that you have done it correctly. Here are the easiest parts."
   ]
  },
  {
   "cell_type": "code",
   "execution_count": 15,
   "metadata": {
    "id": "fT2EpNFoHD1U"
   },
   "outputs": [],
   "source": [
    "def p(xi):\n",
    "    return -2 * xi\n",
    "\n",
    "\n",
    "def q(xi):\n",
    "    return np.sin(xi)\n",
    "\n",
    "\n",
    "a = 0\n",
    "b = 3"
   ]
  },
  {
   "cell_type": "markdown",
   "metadata": {
    "id": "3-HdJObYHD1b"
   },
   "source": [
    "Next, we will break the equation into two parts:\n",
    "\n",
    "$y(x) = term1 * term2$ where\n",
    "\n",
    "$term1 = e^{-\\int_a^x p(\\xi)d\\xi}$\n",
    "\n",
    "and\n",
    "\n",
    "$term2 = \\left(\\int_a^x e^{-\\int_a^{\\xi} p(\\zeta)d\\zeta} q(\\xi)d\\xi + b\\right)$\n",
    "\n",
    "We can immediately define a function for term1 as:\n",
    "\n"
   ]
  },
  {
   "cell_type": "code",
   "execution_count": 16,
   "metadata": {
    "id": "gVeMcD32HD1c"
   },
   "outputs": [],
   "source": [
    "def term1(x):\n",
    "    I1, _ = quad(p, a, x)\n",
    "    return np.exp(-I1)"
   ]
  },
  {
   "cell_type": "markdown",
   "metadata": {
    "id": "0uxVSfjLHD1k"
   },
   "source": [
    "term2 is a little trickier, as it has a partial integral inside an integral. We can define a function for this term also, but we have to define an internal function to use for the integral. The internal function will have an integral inside of it.\n",
    "\n"
   ]
  },
  {
   "cell_type": "code",
   "execution_count": 17,
   "metadata": {
    "id": "wnu7IugkHD1m"
   },
   "outputs": [],
   "source": [
    "def term2(x):\n",
    "    def integrand(xi):\n",
    "        internal_term1, _ = quad(p, a, xi)\n",
    "        internal_term2 = q(xi)\n",
    "        return np.exp(internal_term1) * internal_term2\n",
    "\n",
    "    I2, _ = quad(integrand, a, x)\n",
    "    return I2 + b"
   ]
  },
  {
   "cell_type": "markdown",
   "metadata": {
    "id": "4IwLDnNTHD1s"
   },
   "source": [
    "Now, to use it, we form the product of the two terms:\n",
    "\n"
   ]
  },
  {
   "cell_type": "code",
   "execution_count": 18,
   "metadata": {
    "id": "iwp6yjlGHD1t"
   },
   "outputs": [
    {
     "name": "stdout",
     "output_type": "stream",
     "text": [
      "3.991276533834524\n"
     ]
    }
   ],
   "source": [
    "x1 = 0.5\n",
    "print(term1(x1) * term2(x1))"
   ]
  },
  {
   "cell_type": "markdown",
   "metadata": {
    "id": "Tomhsp_GHD10"
   },
   "source": [
    "With some algebra and calculus on your part, you might arrive at the following non-elementary integral solution:\n",
    "\n",
    "$y(x) = e^{x^2} \\left(\\int_0^x e^{-\\xi^2} \\sin{\\xi} d\\xi + 3\\right)$\n",
    "\n",
    "The solution is called non-elementary because you cannot evaluate the integral in closed form using elementary functions, e.g. powers of x, trigonometric functions, exponentials or logarithms. You can, however, use numerical methods to integrate it.\n",
    "\n"
   ]
  },
  {
   "cell_type": "code",
   "execution_count": 19,
   "metadata": {
    "id": "UAfWJhKFHD11"
   },
   "outputs": [
    {
     "data": {
      "text/plain": [
       "3.991276533834524"
      ]
     },
     "execution_count": 19,
     "metadata": {},
     "output_type": "execute_result"
    }
   ],
   "source": [
    "def integrand(x):\n",
    "    return np.exp(-(x**2)) * np.sin(x)\n",
    "\n",
    "\n",
    "I, _ = quad(integrand, 0, x1)\n",
    "\n",
    "sol = np.exp(x1**2) * (I + b)\n",
    "sol"
   ]
  },
  {
   "cell_type": "markdown",
   "metadata": {
    "id": "RSzeXi_WHD1_"
   },
   "source": [
    "Note there is some conservation of effort here. If you can derive the solution above correctly (and you have all learned how to do this if you had a differential equations course), the code below is quite short to get the solution at some value of x. If you are unable to derive that solution, you can use the general solution we gave, but then it is a trickier solution to implement in code.\n",
    "\n"
   ]
  },
  {
   "cell_type": "markdown",
   "metadata": {
    "id": "wunpCRkUHD2B"
   },
   "source": [
    "### Limitations of solutions by integration\n",
    "\n"
   ]
  },
  {
   "cell_type": "markdown",
   "metadata": {
    "id": "JGwgldicHD2C"
   },
   "source": [
    "Solution by integration has some advantages. You get an estimate of the error in the solution from the `quad` function, which is helpful to know how good the solution is. However, the methods described above are limited to *linear* differential equations of the form described. If you have a nonlinear differential equation, or if you are unable to separate the equations into integrable form, the methods simply don't work. Next, we consider how to approach equations where we cannot use integration to solve the problems.\n",
    "\n"
   ]
  },
  {
   "cell_type": "markdown",
   "metadata": {
    "id": "xjarbN2BHD2D"
   },
   "source": [
    "# Numerical solutions to differential equations\n",
    "\n"
   ]
  },
  {
   "cell_type": "markdown",
   "metadata": {
    "id": "YNwK2kzFHD2E"
   },
   "source": [
    "We begin with a brief review of first order differential equations. The equations we are concerned with here all have the form:\n",
    "\n",
    "$\\frac{dy}{dx} = f(x, y)$\n",
    "\n",
    "And the value of the solution is known at some point, e.g. $y(x_0) = y_0$. $f(x, y)$ can be linear or nonlinear. Our goal in this section is to motivate how numerical solutions are obtained.\n",
    "\n",
    "These notes were adapted from Chapter 6 in Advanced Engineering Mathematics 2<sup>nd</sup> ed. by Michael D. Greenberg.\n",
    "\n",
    "The basic idea behind these methods is that we know the initial value of the solution *and* the derivative of the solution (it is defined by the ODE definition above), and so we can estimate the solution a small distance away from the initial value. If you repeat this process with the newly estimated point, you can estimate the next point, and so on. There are many algorithms for performing the estimation, and we will consider a two of them. These algorithms differ in efficiency, ease of implementation, and accuracy.\n",
    "\n"
   ]
  },
  {
   "cell_type": "markdown",
   "metadata": {
    "id": "nGyH-QJnHD2F"
   },
   "source": [
    "## Euler's method\n",
    "\n"
   ]
  },
  {
   "cell_type": "markdown",
   "metadata": {
    "id": "XycMUNf1HD2H"
   },
   "source": [
    "The main idea of Euler's method is that if you know the value of the solution at some point, and you know the derivative at that point, you can estimate the solution nearby at $x0 + h$, where $h$ is a small number:\n",
    "\n",
    "$y_{n+1} = y_n + f(x_n, y_n) h$\n",
    "\n",
    "Now, you just repeat this until you get to the x-value that you want. For concreteness, consider:\n",
    "\n",
    "$y' = y + 2x - x^2$\n",
    "\n",
    "$y(0) = 1$.\n",
    "\n",
    "This ODE has a known analytical solution: $y(x) = x^2 + e^x$. We will use this for comparison.\n",
    "\n",
    "Find a solution from x=0 to x=1.5."
   ]
  },
  {
   "cell_type": "code",
   "execution_count": 20,
   "metadata": {
    "colab": {
     "base_uri": "https://localhost:8080/"
    },
    "executionInfo": {
     "elapsed": 248,
     "status": "ok",
     "timestamp": 1631192298784,
     "user": {
      "displayName": "John Kitchin",
      "photoUrl": "https://lh3.googleusercontent.com/a/default-user=s64",
      "userId": "14782011281593705406"
     },
     "user_tz": 240
    },
    "id": "ggI9ru5eou21",
    "outputId": "3021efe3-39f6-4376-a72a-c761a08d9275"
   },
   "outputs": [
    {
     "data": {
      "text/plain": [
       "(array([0.  , 0.25, 0.5 , 0.75, 1.  ]), 0.25)"
      ]
     },
     "execution_count": 20,
     "metadata": {},
     "output_type": "execute_result"
    }
   ],
   "source": [
    "np.linspace(0, 1, 5, retstep=True)  # use retstep to get the step size."
   ]
  },
  {
   "cell_type": "code",
   "execution_count": 21,
   "metadata": {
    "colab": {
     "base_uri": "https://localhost:8080/"
    },
    "executionInfo": {
     "elapsed": 7,
     "status": "ok",
     "timestamp": 1631192327868,
     "user": {
      "displayName": "John Kitchin",
      "photoUrl": "https://lh3.googleusercontent.com/a/default-user=s64",
      "userId": "14782011281593705406"
     },
     "user_tz": 240
    },
    "id": "_0iP_8aNo1uQ",
    "outputId": "17be8776-2dd4-4131-af1e-7206986446a9"
   },
   "outputs": [
    {
     "data": {
      "text/plain": [
       "0.25"
      ]
     },
     "execution_count": 21,
     "metadata": {},
     "output_type": "execute_result"
    }
   ],
   "source": [
    "G = np.linspace(0, 1, 5)\n",
    "G[1] - G[0]"
   ]
  },
  {
   "cell_type": "code",
   "execution_count": 22,
   "metadata": {
    "colab": {
     "base_uri": "https://localhost:8080/"
    },
    "executionInfo": {
     "elapsed": 494,
     "status": "ok",
     "timestamp": 1631192599585,
     "user": {
      "displayName": "John Kitchin",
      "photoUrl": "https://lh3.googleusercontent.com/a/default-user=s64",
      "userId": "14782011281593705406"
     },
     "user_tz": 240
    },
    "id": "aE6YtKmTHD2I",
    "outputId": "97787d9b-823a-4751-9672-615012fda52b"
   },
   "outputs": [
    {
     "name": "stdout",
     "output_type": "stream",
     "text": [
      "h = 0.003006012024048096\n"
     ]
    }
   ],
   "source": [
    "import numpy as np\n",
    "\n",
    "\n",
    "def f(x, y):\n",
    "    return y + 2 * x - x**2\n",
    "\n",
    "\n",
    "# Initial condition\n",
    "x0 = 0\n",
    "y0 = 1\n",
    "\n",
    "x, h = np.linspace(\n",
    "    x0, 1.5, 500, retstep=True\n",
    ")  # Note the optional argument to get the stepsize.\n",
    "print(f\"h = {h}\")\n",
    "\n",
    "y = np.zeros(x.shape)\n",
    "y[0] = y0  # This is y(x0) = y0, the initial condition\n",
    "\n",
    "# Implementation of Euler's method\n",
    "# Iterate over each value\n",
    "for n in range(0, len(x) - 1):\n",
    "    y[n + 1] = y[n] + f(x[n], y[n]) * h"
   ]
  },
  {
   "cell_type": "markdown",
   "metadata": {
    "id": "n_1PPSS_HD2Q"
   },
   "source": [
    "We can check out the solution graphically:\n",
    "\n"
   ]
  },
  {
   "cell_type": "code",
   "execution_count": 23,
   "metadata": {
    "colab": {
     "base_uri": "https://localhost:8080/",
     "height": 300
    },
    "executionInfo": {
     "elapsed": 718,
     "status": "ok",
     "timestamp": 1631192602778,
     "user": {
      "displayName": "John Kitchin",
      "photoUrl": "https://lh3.googleusercontent.com/a/default-user=s64",
      "userId": "14782011281593705406"
     },
     "user_tz": 240
    },
    "id": "xX420xBEHD2R",
    "outputId": "51fb5495-2718-47d4-8fb6-04859f6689e1"
   },
   "outputs": [
    {
     "data": {
      "image/png": "[encoded data removed]",
      "text/plain": [
       "<Figure size 640x480 with 1 Axes>"
      ]
     },
     "metadata": {},
     "output_type": "display_data"
    }
   ],
   "source": [
    "import matplotlib.pyplot as plt\n",
    "\n",
    "plt.plot(x, y, label=\"Euler\")\n",
    "plt.plot(x, x**2 + np.exp(x), \"r--\", label=\"Analytical\")\n",
    "plt.xlabel(\"x\")\n",
    "plt.ylabel(\"y\")\n",
    "plt.legend();"
   ]
  },
  {
   "cell_type": "markdown",
   "metadata": {
    "id": "QsenJD7fHD2W"
   },
   "source": [
    "This solution does not look that good until you increase the number of points (i.e. decrease the value of $h$, significantly). It is known the error decreases only linearly with $h$.\n",
    "\n",
    "**Exercise** Increase the number of points in the x array and see how it affects the solution.\n",
    "\n",
    "This method is not used in practice; it is not very accurate, and you need quite small $h$ to get a good solution. It is used here to illustrate the idea of how one integrates a differential equation. We will consider one more advanced method, the fourth-order Runge-Kutta method.\n",
    "\n"
   ]
  },
  {
   "cell_type": "markdown",
   "metadata": {
    "id": "-n3yT_KQHD2X"
   },
   "source": [
    "## Fourth-order Runge-Kutta method\n",
    "\n"
   ]
  },
  {
   "cell_type": "markdown",
   "metadata": {
    "id": "bNkoOOfuHD2Y"
   },
   "source": [
    "The general idea of the more advanced methods is to use a weighted average of slopes at various points around a point to best estimate the next function value. Here we consider the fourth-order Runge-Kutta algorithm. The terms are tedious to derive, and we will not do it here as they can be looked up in several places (e.g. [https://en.wikipedia.org/wiki/Runge%E2%80%93Kutta_methods#The_Runge%E2%80%93Kutta_method](https://en.wikipedia.org/wiki/Runge%E2%80%93Kutta_methods#The_Runge%E2%80%93Kutta_method)).\n",
    "\n"
   ]
  },
  {
   "cell_type": "code",
   "execution_count": 24,
   "metadata": {
    "colab": {
     "base_uri": "https://localhost:8080/"
    },
    "executionInfo": {
     "elapsed": 261,
     "status": "ok",
     "timestamp": 1631193005801,
     "user": {
      "displayName": "John Kitchin",
      "photoUrl": "https://lh3.googleusercontent.com/a/default-user=s64",
      "userId": "14782011281593705406"
     },
     "user_tz": 240
    },
    "id": "igU9eTEpHD2Z",
    "outputId": "805ead1d-1212-4ed9-ecaa-44ade7e16651"
   },
   "outputs": [
    {
     "name": "stdout",
     "output_type": "stream",
     "text": [
      "h = 0.10714285714285714\n"
     ]
    }
   ],
   "source": [
    "x0 = 0\n",
    "y0 = 1\n",
    "\n",
    "x, h = np.linspace(x0, 1.5, 15, retstep=True)\n",
    "print(f\"h = {h}\")\n",
    "y = np.zeros(x.shape)\n",
    "y[0] = y0\n",
    "\n",
    "# Implementation of fourth order Runge Kutta method\n",
    "for i in range(0, len(x) - 1):\n",
    "    k1 = h * f(x[i], y[i])  # Note this is like Euler's method\n",
    "    k2 = h * f(x[i] + h / 2, y[i] + k1 / 2)  # This is the increment at the midpoint using y, k1\n",
    "    k3 = h * f(x[i] + h / 2, y[i] + k2 / 2)  # This is the increment at the midpoint using y, k2\n",
    "    k4 = h * f(x[i + 1], y[i] + k3)  # This is the increment at the end of the interval\n",
    "    # This is a weighted average of the four increments computed above. There is a heavier weight on the midpoints\n",
    "    y[i + 1] = y[i] + (k1 + (2 * k2) + (2 * k3) + k4) / 6"
   ]
  },
  {
   "cell_type": "code",
   "execution_count": 25,
   "metadata": {
    "colab": {
     "base_uri": "https://localhost:8080/",
     "height": 300
    },
    "executionInfo": {
     "elapsed": 304,
     "status": "ok",
     "timestamp": 1631193590748,
     "user": {
      "displayName": "John Kitchin",
      "photoUrl": "https://lh3.googleusercontent.com/a/default-user=s64",
      "userId": "14782011281593705406"
     },
     "user_tz": 240
    },
    "id": "8uF7hG_1HD2d",
    "outputId": "9c8960ae-6556-4bf4-e8dd-3452468e6ecd"
   },
   "outputs": [
    {
     "data": {
      "image/png": "[encoded data removed]",
      "text/plain": [
       "<Figure size 640x480 with 1 Axes>"
      ]
     },
     "metadata": {},
     "output_type": "display_data"
    }
   ],
   "source": [
    "plt.plot(x, y, label=\"RK-4\")\n",
    "plt.plot(x, x**2 + np.exp(x), \"r--\", label=\"Analytical\")\n",
    "plt.xlabel(\"x\")\n",
    "plt.ylabel(\"y\")\n",
    "plt.legend(loc=9);"
   ]
  },
  {
   "cell_type": "markdown",
   "metadata": {
    "id": "IF4lViZ0HD2i"
   },
   "source": [
    "Note you can get a much more accurate solution with a larger $h$ with this method than you can with the Euler method.\n",
    "\n",
    "*If* our differential equation is just $\\frac{dy}{dx} = f(x)$, i.e. $f$ is independent of $y$, then this method is equivalent to Simpson's rule of integration.\n",
    "\n",
    "Both of these methods leave some things to be desired:\n",
    "\n",
    "1.  We had to code them, and there are many places to make mistakes.\n",
    "2.  You have to choose $h$, or equivalently the number of points to use, and then make sure the solution has converged (does not depend on your choice).\n",
    "3.  $h$ is fixed in these examples, and you might prefer to use an adaptive value.\n",
    "4.  It is not easy to solve the inverse problem, e.g. for what value of $x$ does $y=4$?\n",
    "\n",
    "In practice, there are well-written ODE integrators to solve this kind of problem that address all the short-comings listed above. To use them, we just need to learn the syntax. We do that next.\n",
    "\n"
   ]
  },
  {
   "cell_type": "markdown",
   "metadata": {
    "id": "m3-6JZ2pHD2i"
   },
   "source": [
    "# scipy.integrate.solve_ivp\n",
    "\n"
   ]
  },
  {
   "cell_type": "markdown",
   "metadata": {
    "id": "9X_jiDeeHD2j"
   },
   "source": [
    "The `scipy.integrate` library provides `solve_ivp` to solve first order differential equations. It is not the only one available, but this function is recommended. You import the function like this:\n",
    "\n"
   ]
  },
  {
   "cell_type": "code",
   "execution_count": 26,
   "metadata": {
    "executionInfo": {
     "elapsed": 279,
     "status": "ok",
     "timestamp": 1631193919937,
     "user": {
      "displayName": "John Kitchin",
      "photoUrl": "https://lh3.googleusercontent.com/a/default-user=s64",
      "userId": "14782011281593705406"
     },
     "user_tz": 240
    },
    "id": "XD7pI_0CHD2k"
   },
   "outputs": [
    {
     "data": {
      "text/plain": [
       "\u001b[0;31mSignature:\u001b[0m\n",
       "\u001b[0msolve_ivp\u001b[0m\u001b[0;34m(\u001b[0m\u001b[0;34m\u001b[0m\n",
       "\u001b[0;34m\u001b[0m    \u001b[0mfun\u001b[0m\u001b[0;34m,\u001b[0m\u001b[0;34m\u001b[0m\n",
       "\u001b[0;34m\u001b[0m    \u001b[0mt_span\u001b[0m\u001b[0;34m,\u001b[0m\u001b[0;34m\u001b[0m\n",
       "\u001b[0;34m\u001b[0m    \u001b[0my0\u001b[0m\u001b[0;34m,\u001b[0m\u001b[0;34m\u001b[0m\n",
       "\u001b[0;34m\u001b[0m    \u001b[0mmethod\u001b[0m\u001b[0;34m=\u001b[0m\u001b[0;34m'RK45'\u001b[0m\u001b[0;34m,\u001b[0m\u001b[0;34m\u001b[0m\n",
       "\u001b[0;34m\u001b[0m    \u001b[0mt_eval\u001b[0m\u001b[0;34m=\u001b[0m\u001b[0;32mNone\u001b[0m\u001b[0;34m,\u001b[0m\u001b[0;34m\u001b[0m\n",
       "\u001b[0;34m\u001b[0m    \u001b[0mdense_output\u001b[0m\u001b[0;34m=\u001b[0m\u001b[0;32mFalse\u001b[0m\u001b[0;34m,\u001b[0m\u001b[0;34m\u001b[0m\n",
       "\u001b[0;34m\u001b[0m    \u001b[0mevents\u001b[0m\u001b[0;34m=\u001b[0m\u001b[0;32mNone\u001b[0m\u001b[0;34m,\u001b[0m\u001b[0;34m\u001b[0m\n",
       "\u001b[0;34m\u001b[0m    \u001b[0mvectorized\u001b[0m\u001b[0;34m=\u001b[0m\u001b[0;32mFalse\u001b[0m\u001b[0;34m,\u001b[0m\u001b[0;34m\u001b[0m\n",
       "\u001b[0;34m\u001b[0m    \u001b[0margs\u001b[0m\u001b[0;34m=\u001b[0m\u001b[0;32mNone\u001b[0m\u001b[0;34m,\u001b[0m\u001b[0;34m\u001b[0m\n",
       "\u001b[0;34m\u001b[0m    \u001b[0;34m**\u001b[0m\u001b[0moptions\u001b[0m\u001b[0;34m,\u001b[0m\u001b[0;34m\u001b[0m\n",
       "\u001b[0;34m\u001b[0m\u001b[0;34m)\u001b[0m\u001b[0;34m\u001b[0m\u001b[0;34m\u001b[0m\u001b[0m\n",
       "\u001b[0;31mDocstring:\u001b[0m\n",
       "Solve an initial value problem for a system of ODEs.\n",
       "\n",
       "This function numerically integrates a system of ordinary differential\n",
       "equations given an initial value::\n",
       "\n",
       "    dy / dt = f(t, y)\n",
       "    y(t0) = y0\n",
       "\n",
       "Here t is a 1-D independent variable (time), y(t) is an\n",
       "N-D vector-valued function (state), and an N-D\n",
       "vector-valued function f(t, y) determines the differential equations.\n",
       "The goal is to find y(t) approximately satisfying the differential\n",
       "equations, given an initial value y(t0)=y0.\n",
       "\n",
       "Some of the solvers support integration in the complex domain, but note\n",
       "that for stiff ODE solvers, the right-hand side must be\n",
       "complex-differentiable (satisfy Cauchy-Riemann equations [11]_).\n",
       "To solve a problem in the complex domain, pass y0 with a complex data type.\n",
       "Another option always available is to rewrite your problem for real and\n",
       "imaginary parts separately.\n",
       "\n",
       "Parameters\n",
       "----------\n",
       "fun : callable\n",
       "    Right-hand side of the system. The calling signature is ``fun(t, y)``.\n",
       "    Here `t` is a scalar, and there are two options for the ndarray `y`:\n",
       "    It can either have shape (n,); then `fun` must return array_like with\n",
       "    shape (n,). Alternatively, it can have shape (n, k); then `fun`\n",
       "    must return an array_like with shape (n, k), i.e., each column\n",
       "    corresponds to a single column in `y`. The choice between the two\n",
       "    options is determined by `vectorized` argument (see below). The\n",
       "    vectorized implementation allows a faster approximation of the Jacobian\n",
       "    by finite differences (required for stiff solvers).\n",
       "t_span : 2-member sequence\n",
       "    Interval of integration (t0, tf). The solver starts with t=t0 and\n",
       "    integrates until it reaches t=tf. Both t0 and tf must be floats\n",
       "    or values interpretable by the float conversion function.\n",
       "y0 : array_like, shape (n,)\n",
       "    Initial state. For problems in the complex domain, pass `y0` with a\n",
       "    complex data type (even if the initial value is purely real).\n",
       "method : string or `OdeSolver`, optional\n",
       "    Integration method to use:\n",
       "\n",
       "        * 'RK45' (default): Explicit Runge-Kutta method of order 5(4) [1]_.\n",
       "          The error is controlled assuming accuracy of the fourth-order\n",
       "          method, but steps are taken using the fifth-order accurate\n",
       "          formula (local extrapolation is done). A quartic interpolation\n",
       "          polynomial is used for the dense output [2]_. Can be applied in\n",
       "          the complex domain.\n",
       "        * 'RK23': Explicit Runge-Kutta method of order 3(2) [3]_. The error\n",
       "          is controlled assuming accuracy of the second-order method, but\n",
       "          steps are taken using the third-order accurate formula (local\n",
       "          extrapolation is done). A cubic Hermite polynomial is used for the\n",
       "          dense output. Can be applied in the complex domain.\n",
       "        * 'DOP853': Explicit Runge-Kutta method of order 8 [13]_.\n",
       "          Python implementation of the \"DOP853\" algorithm originally\n",
       "          written in Fortran [14]_. A 7-th order interpolation polynomial\n",
       "          accurate to 7-th order is used for the dense output.\n",
       "          Can be applied in the complex domain.\n",
       "        * 'Radau': Implicit Runge-Kutta method of the Radau IIA family of\n",
       "          order 5 [4]_. The error is controlled with a third-order accurate\n",
       "          embedded formula. A cubic polynomial which satisfies the\n",
       "          collocation conditions is used for the dense output.\n",
       "        * 'BDF': Implicit multi-step variable-order (1 to 5) method based\n",
       "          on a backward differentiation formula for the derivative\n",
       "          approximation [5]_. The implementation follows the one described\n",
       "          in [6]_. A quasi-constant step scheme is used and accuracy is\n",
       "          enhanced using the NDF modification. Can be applied in the\n",
       "          complex domain.\n",
       "        * 'LSODA': Adams/BDF method with automatic stiffness detection and\n",
       "          switching [7]_, [8]_. This is a wrapper of the Fortran solver\n",
       "          from ODEPACK.\n",
       "\n",
       "    Explicit Runge-Kutta methods ('RK23', 'RK45', 'DOP853') should be used\n",
       "    for non-stiff problems and implicit methods ('Radau', 'BDF') for\n",
       "    stiff problems [9]_. Among Runge-Kutta methods, 'DOP853' is recommended\n",
       "    for solving with high precision (low values of `rtol` and `atol`).\n",
       "\n",
       "    If not sure, first try to run 'RK45'. If it makes unusually many\n",
       "    iterations, diverges, or fails, your problem is likely to be stiff and\n",
       "    you should use 'Radau' or 'BDF'. 'LSODA' can also be a good universal\n",
       "    choice, but it might be somewhat less convenient to work with as it\n",
       "    wraps old Fortran code.\n",
       "\n",
       "    You can also pass an arbitrary class derived from `OdeSolver` which\n",
       "    implements the solver.\n",
       "t_eval : array_like or None, optional\n",
       "    Times at which to store the computed solution, must be sorted and lie\n",
       "    within `t_span`. If None (default), use points selected by the solver.\n",
       "dense_output : bool, optional\n",
       "    Whether to compute a continuous solution. Default is False.\n",
       "events : callable, or list of callables, optional\n",
       "    Events to track. If None (default), no events will be tracked.\n",
       "    Each event occurs at the zeros of a continuous function of time and\n",
       "    state. Each function must have the signature ``event(t, y)`` and return\n",
       "    a float. The solver will find an accurate value of `t` at which\n",
       "    ``event(t, y(t)) = 0`` using a root-finding algorithm. By default, all\n",
       "    zeros will be found. The solver looks for a sign change over each step,\n",
       "    so if multiple zero crossings occur within one step, events may be\n",
       "    missed. Additionally each `event` function might have the following\n",
       "    attributes:\n",
       "\n",
       "        terminal: bool, optional\n",
       "            Whether to terminate integration if this event occurs.\n",
       "            Implicitly False if not assigned.\n",
       "        direction: float, optional\n",
       "            Direction of a zero crossing. If `direction` is positive,\n",
       "            `event` will only trigger when going from negative to positive,\n",
       "            and vice versa if `direction` is negative. If 0, then either\n",
       "            direction will trigger event. Implicitly 0 if not assigned.\n",
       "\n",
       "    You can assign attributes like ``event.terminal = True`` to any\n",
       "    function in Python.\n",
       "vectorized : bool, optional\n",
       "    Whether `fun` is implemented in a vectorized fashion. Default is False.\n",
       "args : tuple, optional\n",
       "    Additional arguments to pass to the user-defined functions.  If given,\n",
       "    the additional arguments are passed to all user-defined functions.\n",
       "    So if, for example, `fun` has the signature ``fun(t, y, a, b, c)``,\n",
       "    then `jac` (if given) and any event functions must have the same\n",
       "    signature, and `args` must be a tuple of length 3.\n",
       "**options\n",
       "    Options passed to a chosen solver. All options available for already\n",
       "    implemented solvers are listed below.\n",
       "first_step : float or None, optional\n",
       "    Initial step size. Default is `None` which means that the algorithm\n",
       "    should choose.\n",
       "max_step : float, optional\n",
       "    Maximum allowed step size. Default is np.inf, i.e., the step size is not\n",
       "    bounded and determined solely by the solver.\n",
       "rtol, atol : float or array_like, optional\n",
       "    Relative and absolute tolerances. The solver keeps the local error\n",
       "    estimates less than ``atol + rtol * abs(y)``. Here `rtol` controls a\n",
       "    relative accuracy (number of correct digits), while `atol` controls\n",
       "    absolute accuracy (number of correct decimal places). To achieve the\n",
       "    desired `rtol`, set `atol` to be smaller than the smallest value that\n",
       "    can be expected from ``rtol * abs(y)`` so that `rtol` dominates the\n",
       "    allowable error. If `atol` is larger than ``rtol * abs(y)`` the\n",
       "    number of correct digits is not guaranteed. Conversely, to achieve the\n",
       "    desired `atol` set `rtol` such that ``rtol * abs(y)`` is always smaller\n",
       "    than `atol`. If components of y have different scales, it might be\n",
       "    beneficial to set different `atol` values for different components by\n",
       "    passing array_like with shape (n,) for `atol`. Default values are\n",
       "    1e-3 for `rtol` and 1e-6 for `atol`.\n",
       "jac : array_like, sparse_matrix, callable or None, optional\n",
       "    Jacobian matrix of the right-hand side of the system with respect\n",
       "    to y, required by the 'Radau', 'BDF' and 'LSODA' method. The\n",
       "    Jacobian matrix has shape (n, n) and its element (i, j) is equal to\n",
       "    ``d f_i / d y_j``.  There are three ways to define the Jacobian:\n",
       "\n",
       "        * If array_like or sparse_matrix, the Jacobian is assumed to\n",
       "          be constant. Not supported by 'LSODA'.\n",
       "        * If callable, the Jacobian is assumed to depend on both\n",
       "          t and y; it will be called as ``jac(t, y)``, as necessary.\n",
       "          For 'Radau' and 'BDF' methods, the return value might be a\n",
       "          sparse matrix.\n",
       "        * If None (default), the Jacobian will be approximated by\n",
       "          finite differences.\n",
       "\n",
       "    It is generally recommended to provide the Jacobian rather than\n",
       "    relying on a finite-difference approximation.\n",
       "jac_sparsity : array_like, sparse matrix or None, optional\n",
       "    Defines a sparsity structure of the Jacobian matrix for a finite-\n",
       "    difference approximation. Its shape must be (n, n). This argument\n",
       "    is ignored if `jac` is not `None`. If the Jacobian has only few\n",
       "    non-zero elements in *each* row, providing the sparsity structure\n",
       "    will greatly speed up the computations [10]_. A zero entry means that\n",
       "    a corresponding element in the Jacobian is always zero. If None\n",
       "    (default), the Jacobian is assumed to be dense.\n",
       "    Not supported by 'LSODA', see `lband` and `uband` instead.\n",
       "lband, uband : int or None, optional\n",
       "    Parameters defining the bandwidth of the Jacobian for the 'LSODA'\n",
       "    method, i.e., ``jac[i, j] != 0 only for i - lband <= j <= i + uband``.\n",
       "    Default is None. Setting these requires your jac routine to return the\n",
       "    Jacobian in the packed format: the returned array must have ``n``\n",
       "    columns and ``uband + lband + 1`` rows in which Jacobian diagonals are\n",
       "    written. Specifically ``jac_packed[uband + i - j , j] = jac[i, j]``.\n",
       "    The same format is used in `scipy.linalg.solve_banded` (check for an\n",
       "    illustration).  These parameters can be also used with ``jac=None`` to\n",
       "    reduce the number of Jacobian elements estimated by finite differences.\n",
       "min_step : float, optional\n",
       "    The minimum allowed step size for 'LSODA' method.\n",
       "    By default `min_step` is zero.\n",
       "\n",
       "Returns\n",
       "-------\n",
       "Bunch object with the following fields defined:\n",
       "t : ndarray, shape (n_points,)\n",
       "    Time points.\n",
       "y : ndarray, shape (n, n_points)\n",
       "    Values of the solution at `t`.\n",
       "sol : `OdeSolution` or None\n",
       "    Found solution as `OdeSolution` instance; None if `dense_output` was\n",
       "    set to False.\n",
       "t_events : list of ndarray or None\n",
       "    Contains for each event type a list of arrays at which an event of\n",
       "    that type event was detected. None if `events` was None.\n",
       "y_events : list of ndarray or None\n",
       "    For each value of `t_events`, the corresponding value of the solution.\n",
       "    None if `events` was None.\n",
       "nfev : int\n",
       "    Number of evaluations of the right-hand side.\n",
       "njev : int\n",
       "    Number of evaluations of the Jacobian.\n",
       "nlu : int\n",
       "    Number of LU decompositions.\n",
       "status : int\n",
       "    Reason for algorithm termination:\n",
       "\n",
       "        * -1: Integration step failed.\n",
       "        *  0: The solver successfully reached the end of `tspan`.\n",
       "        *  1: A termination event occurred.\n",
       "\n",
       "message : string\n",
       "    Human-readable description of the termination reason.\n",
       "success : bool\n",
       "    True if the solver reached the interval end or a termination event\n",
       "    occurred (``status >= 0``).\n",
       "\n",
       "References\n",
       "----------\n",
       ".. [1] J. R. Dormand, P. J. Prince, \"A family of embedded Runge-Kutta\n",
       "       formulae\", Journal of Computational and Applied Mathematics, Vol. 6,\n",
       "       No. 1, pp. 19-26, 1980.\n",
       ".. [2] L. W. Shampine, \"Some Practical Runge-Kutta Formulas\", Mathematics\n",
       "       of Computation,, Vol. 46, No. 173, pp. 135-150, 1986.\n",
       ".. [3] P. Bogacki, L.F. Shampine, \"A 3(2) Pair of Runge-Kutta Formulas\",\n",
       "       Appl. Math. Lett. Vol. 2, No. 4. pp. 321-325, 1989.\n",
       ".. [4] E. Hairer, G. Wanner, \"Solving Ordinary Differential Equations II:\n",
       "       Stiff and Differential-Algebraic Problems\", Sec. IV.8.\n",
       ".. [5] `Backward Differentiation Formula\n",
       "        <https://en.wikipedia.org/wiki/Backward_differentiation_formula>`_\n",
       "        on Wikipedia.\n",
       ".. [6] L. F. Shampine, M. W. Reichelt, \"THE MATLAB ODE SUITE\", SIAM J. SCI.\n",
       "       COMPUTE., Vol. 18, No. 1, pp. 1-22, January 1997.\n",
       ".. [7] A. C. Hindmarsh, \"ODEPACK, A Systematized Collection of ODE\n",
       "       Solvers,\" IMACS Transactions on Scientific Computation, Vol 1.,\n",
       "       pp. 55-64, 1983.\n",
       ".. [8] L. Petzold, \"Automatic selection of methods for solving stiff and\n",
       "       nonstiff systems of ordinary differential equations\", SIAM Journal\n",
       "       on Scientific and Statistical Computing, Vol. 4, No. 1, pp. 136-148,\n",
       "       1983.\n",
       ".. [9] `Stiff equation <https://en.wikipedia.org/wiki/Stiff_equation>`_ on\n",
       "       Wikipedia.\n",
       ".. [10] A. Curtis, M. J. D. Powell, and J. Reid, \"On the estimation of\n",
       "        sparse Jacobian matrices\", Journal of the Institute of Mathematics\n",
       "        and its Applications, 13, pp. 117-120, 1974.\n",
       ".. [11] `Cauchy-Riemann equations\n",
       "         <https://en.wikipedia.org/wiki/Cauchy-Riemann_equations>`_ on\n",
       "         Wikipedia.\n",
       ".. [12] `Lotka-Volterra equations\n",
       "        <https://en.wikipedia.org/wiki/Lotka%E2%80%93Volterra_equations>`_\n",
       "        on Wikipedia.\n",
       ".. [13] E. Hairer, S. P. Norsett G. Wanner, \"Solving Ordinary Differential\n",
       "        Equations I: Nonstiff Problems\", Sec. II.\n",
       ".. [14] `Page with original Fortran code of DOP853\n",
       "        <http://www.unige.ch/~hairer/software.html>`_.\n",
       "\n",
       "Examples\n",
       "--------\n",
       "Basic exponential decay showing automatically chosen time points.\n",
       "\n",
       ">>> import numpy as np\n",
       ">>> from scipy.integrate import solve_ivp\n",
       ">>> def exponential_decay(t, y): return -0.5 * y\n",
       ">>> sol = solve_ivp(exponential_decay, [0, 10], [2, 4, 8])\n",
       ">>> print(sol.t)\n",
       "[ 0.          0.11487653  1.26364188  3.06061781  4.81611105  6.57445806\n",
       "  8.33328988 10.        ]\n",
       ">>> print(sol.y)\n",
       "[[2.         1.88836035 1.06327177 0.43319312 0.18017253 0.07483045\n",
       "  0.03107158 0.01350781]\n",
       " [4.         3.7767207  2.12654355 0.86638624 0.36034507 0.14966091\n",
       "  0.06214316 0.02701561]\n",
       " [8.         7.5534414  4.25308709 1.73277247 0.72069014 0.29932181\n",
       "  0.12428631 0.05403123]]\n",
       "\n",
       "Specifying points where the solution is desired.\n",
       "\n",
       ">>> sol = solve_ivp(exponential_decay, [0, 10], [2, 4, 8],\n",
       "...                 t_eval=[0, 1, 2, 4, 10])\n",
       ">>> print(sol.t)\n",
       "[ 0  1  2  4 10]\n",
       ">>> print(sol.y)\n",
       "[[2.         1.21305369 0.73534021 0.27066736 0.01350938]\n",
       " [4.         2.42610739 1.47068043 0.54133472 0.02701876]\n",
       " [8.         4.85221478 2.94136085 1.08266944 0.05403753]]\n",
       "\n",
       "Cannon fired upward with terminal event upon impact. The ``terminal`` and\n",
       "``direction`` fields of an event are applied by monkey patching a function.\n",
       "Here ``y[0]`` is position and ``y[1]`` is velocity. The projectile starts\n",
       "at position 0 with velocity +10. Note that the integration never reaches\n",
       "t=100 because the event is terminal.\n",
       "\n",
       ">>> def upward_cannon(t, y): return [y[1], -0.5]\n",
       ">>> def hit_ground(t, y): return y[0]\n",
       ">>> hit_ground.terminal = True\n",
       ">>> hit_ground.direction = -1\n",
       ">>> sol = solve_ivp(upward_cannon, [0, 100], [0, 10], events=hit_ground)\n",
       ">>> print(sol.t_events)\n",
       "[array([40.])]\n",
       ">>> print(sol.t)\n",
       "[0.00000000e+00 9.99900010e-05 1.09989001e-03 1.10988901e-02\n",
       " 1.11088891e-01 1.11098890e+00 1.11099890e+01 4.00000000e+01]\n",
       "\n",
       "Use `dense_output` and `events` to find position, which is 100, at the apex\n",
       "of the cannonball's trajectory. Apex is not defined as terminal, so both\n",
       "apex and hit_ground are found. There is no information at t=20, so the sol\n",
       "attribute is used to evaluate the solution. The sol attribute is returned\n",
       "by setting ``dense_output=True``. Alternatively, the `y_events` attribute\n",
       "can be used to access the solution at the time of the event.\n",
       "\n",
       ">>> def apex(t, y): return y[1]\n",
       ">>> sol = solve_ivp(upward_cannon, [0, 100], [0, 10],\n",
       "...                 events=(hit_ground, apex), dense_output=True)\n",
       ">>> print(sol.t_events)\n",
       "[array([40.]), array([20.])]\n",
       ">>> print(sol.t)\n",
       "[0.00000000e+00 9.99900010e-05 1.09989001e-03 1.10988901e-02\n",
       " 1.11088891e-01 1.11098890e+00 1.11099890e+01 4.00000000e+01]\n",
       ">>> print(sol.sol(sol.t_events[1][0]))\n",
       "[100.   0.]\n",
       ">>> print(sol.y_events)\n",
       "[array([[-5.68434189e-14, -1.00000000e+01]]), array([[1.00000000e+02, 1.77635684e-15]])]\n",
       "\n",
       "As an example of a system with additional parameters, we'll implement\n",
       "the Lotka-Volterra equations [12]_.\n",
       "\n",
       ">>> def lotkavolterra(t, z, a, b, c, d):\n",
       "...     x, y = z\n",
       "...     return [a*x - b*x*y, -c*y + d*x*y]\n",
       "...\n",
       "\n",
       "We pass in the parameter values a=1.5, b=1, c=3 and d=1 with the `args`\n",
       "argument.\n",
       "\n",
       ">>> sol = solve_ivp(lotkavolterra, [0, 15], [10, 5], args=(1.5, 1, 3, 1),\n",
       "...                 dense_output=True)\n",
       "\n",
       "Compute a dense solution and plot it.\n",
       "\n",
       ">>> t = np.linspace(0, 15, 300)\n",
       ">>> z = sol.sol(t)\n",
       ">>> import matplotlib.pyplot as plt\n",
       ">>> plt.plot(t, z.T)\n",
       ">>> plt.xlabel('t')\n",
       ">>> plt.legend(['x', 'y'], shadow=True)\n",
       ">>> plt.title('Lotka-Volterra System')\n",
       ">>> plt.show()\n",
       "\u001b[0;31mFile:\u001b[0m      ~/anaconda3/lib/python3.10/site-packages/scipy/integrate/_ivp/ivp.py\n",
       "\u001b[0;31mType:\u001b[0m      function"
      ]
     },
     "metadata": {},
     "output_type": "display_data"
    }
   ],
   "source": [
    "from scipy.integrate import solve_ivp\n",
    "?solve_ivp"
   ]
  },
  {
   "cell_type": "markdown",
   "metadata": {
    "id": "oScNnW9BHD2p"
   },
   "source": [
    "Here is a minimal use of the function, with keyword arguments.\n",
    "\n",
    "`y0` is an array containing the initial values.  `fun` is a function with a signature of f(t, y). Here, $t$ is considered the independent variable. You can call it whatever you want, so f(x, y) is also fine. Since `solve_ivp` had $t$ in mind, the second argument is the `t_span`, which is a tuple of two numbers for where the integration starts (t0, or x0) and where it ends.  `solve_ivp` returns an object.\n",
    "\n"
   ]
  },
  {
   "cell_type": "code",
   "execution_count": 28,
   "metadata": {
    "colab": {
     "base_uri": "https://localhost:8080/"
    },
    "executionInfo": {
     "elapsed": 266,
     "status": "ok",
     "timestamp": 1631194177394,
     "user": {
      "displayName": "John Kitchin",
      "photoUrl": "https://lh3.googleusercontent.com/a/default-user=s64",
      "userId": "14782011281593705406"
     },
     "user_tz": 240
    },
    "id": "yCEeAzo4HD2q",
    "outputId": "84f84da8-7a33-4e50-882a-7be9ad61a180"
   },
   "outputs": [
    {
     "data": {
      "text/plain": [
       "  message: The solver successfully reached the end of the integration interval.\n",
       "  success: True\n",
       "   status: 0\n",
       "        t: [ 0.000e+00  8.034e-02  8.668e-01  1.500e+00]\n",
       "        y: [[ 1.000e+00  1.090e+00  3.131e+00  6.732e+00]]\n",
       "      sol: None\n",
       " t_events: None\n",
       " y_events: None\n",
       "     nfev: 20\n",
       "     njev: 0\n",
       "      nlu: 0"
      ]
     },
     "execution_count": 28,
     "metadata": {},
     "output_type": "execute_result"
    }
   ],
   "source": [
    "x0 = 0\n",
    "y0 = np.array([1])  # It is a good idea to make y0 an array. It will be important later.\n",
    "sol = solve_ivp(fun=f, t_span=(x0, 1.5), y0=y0)\n",
    "sol"
   ]
  },
  {
   "cell_type": "markdown",
   "metadata": {
    "id": "K8w40MGdHD2w"
   },
   "source": [
    "The output of `solve_ivp` is an object containing results in attributes on the object."
   ]
  },
  {
   "cell_type": "code",
   "execution_count": 29,
   "metadata": {
    "colab": {
     "base_uri": "https://localhost:8080/",
     "height": 35
    },
    "executionInfo": {
     "elapsed": 258,
     "status": "ok",
     "timestamp": 1631194215641,
     "user": {
      "displayName": "John Kitchin",
      "photoUrl": "https://lh3.googleusercontent.com/a/default-user=s64",
      "userId": "14782011281593705406"
     },
     "user_tz": 240
    },
    "id": "LnT0ZJckHD2z",
    "outputId": "b7c69dce-5e31-4f08-9037-0e273524c9cf"
   },
   "outputs": [
    {
     "data": {
      "text/plain": [
       "'The solver successfully reached the end of the integration interval.'"
      ]
     },
     "execution_count": 29,
     "metadata": {},
     "output_type": "execute_result"
    }
   ],
   "source": [
    "sol.message"
   ]
  },
  {
   "cell_type": "markdown",
   "metadata": {
    "id": "IVp9rd80HD2-"
   },
   "source": [
    "You should look for a few things here. One is that the message indicates success. Second, we access the solution using dot notation. Here are the independent variable values the solution was evaluated at.\n",
    "\n"
   ]
  },
  {
   "cell_type": "code",
   "execution_count": 30,
   "metadata": {
    "colab": {
     "base_uri": "https://localhost:8080/"
    },
    "executionInfo": {
     "elapsed": 269,
     "status": "ok",
     "timestamp": 1631194228921,
     "user": {
      "displayName": "John Kitchin",
      "photoUrl": "https://lh3.googleusercontent.com/a/default-user=s64",
      "userId": "14782011281593705406"
     },
     "user_tz": 240
    },
    "id": "JzHZkbLgHD2-",
    "outputId": "c5dc3ade-b22b-48ea-e87c-453461c41e15"
   },
   "outputs": [
    {
     "data": {
      "text/plain": [
       "(4,)"
      ]
     },
     "execution_count": 30,
     "metadata": {},
     "output_type": "execute_result"
    }
   ],
   "source": [
    "sol.t.shape"
   ]
  },
  {
   "cell_type": "code",
   "execution_count": 31,
   "metadata": {
    "colab": {
     "base_uri": "https://localhost:8080/"
    },
    "executionInfo": {
     "elapsed": 265,
     "status": "ok",
     "timestamp": 1631194241686,
     "user": {
      "displayName": "John Kitchin",
      "photoUrl": "https://lh3.googleusercontent.com/a/default-user=s64",
      "userId": "14782011281593705406"
     },
     "user_tz": 240
    },
    "id": "l6mh2guMwLnu",
    "outputId": "24b78bd5-912f-4381-d357-fd8c23ee25e7"
   },
   "outputs": [
    {
     "data": {
      "text/plain": [
       "(1, 4)"
      ]
     },
     "execution_count": 31,
     "metadata": {},
     "output_type": "execute_result"
    }
   ],
   "source": [
    "sol.y.shape"
   ]
  },
  {
   "cell_type": "code",
   "execution_count": 32,
   "metadata": {
    "colab": {
     "base_uri": "https://localhost:8080/"
    },
    "executionInfo": {
     "elapsed": 267,
     "status": "ok",
     "timestamp": 1631194280299,
     "user": {
      "displayName": "John Kitchin",
      "photoUrl": "https://lh3.googleusercontent.com/a/default-user=s64",
      "userId": "14782011281593705406"
     },
     "user_tz": 240
    },
    "id": "0SfwRvBCwPqw",
    "outputId": "131d2ac1-b479-4a69-f00f-57541c962dda"
   },
   "outputs": [
    {
     "data": {
      "text/plain": [
       "(4,)"
      ]
     },
     "execution_count": 32,
     "metadata": {},
     "output_type": "execute_result"
    }
   ],
   "source": [
    "sol.y[0].shape"
   ]
  },
  {
   "cell_type": "markdown",
   "metadata": {
    "id": "5GnBqfFmHD3D"
   },
   "source": [
    "Third, the solution is in a 2D array. We only have one equation here, so we use indexing to get the first row as an array.\n",
    "\n"
   ]
  },
  {
   "cell_type": "code",
   "execution_count": 33,
   "metadata": {
    "id": "sue_R_C3HD3D"
   },
   "outputs": [
    {
     "data": {
      "text/plain": [
       "array([1.        , 1.09011474, 3.13086569, 6.73191444])"
      ]
     },
     "execution_count": 33,
     "metadata": {},
     "output_type": "execute_result"
    }
   ],
   "source": [
    "sol.y[0]"
   ]
  },
  {
   "cell_type": "markdown",
   "metadata": {
    "id": "nFb1CbyDHD3I"
   },
   "source": [
    "Now, we can plot the solution.\n",
    "\n"
   ]
  },
  {
   "cell_type": "code",
   "execution_count": 34,
   "metadata": {
    "colab": {
     "base_uri": "https://localhost:8080/",
     "height": 283
    },
    "executionInfo": {
     "elapsed": 274,
     "status": "ok",
     "timestamp": 1631194300036,
     "user": {
      "displayName": "John Kitchin",
      "photoUrl": "https://lh3.googleusercontent.com/a/default-user=s64",
      "userId": "14782011281593705406"
     },
     "user_tz": 240
    },
    "id": "QQRpwGlTHD3K",
    "outputId": "7f7983f7-d527-4e8d-ec72-cbcb205fe72b"
   },
   "outputs": [
    {
     "data": {
      "image/png": "[encoded data removed]",
      "text/plain": [
       "<Figure size 640x480 with 1 Axes>"
      ]
     },
     "metadata": {},
     "output_type": "display_data"
    }
   ],
   "source": [
    "plt.plot(sol.t, sol.y[0], \"bo\", label=\"solve_ivp\")\n",
    "plt.plot(sol.t, sol.t**2 + np.exp(sol.t), \"r--\", label=\"Analytical\")\n",
    "plt.xlabel(\"x\")\n",
    "plt.ylabel(\"y\")\n",
    "plt.legend();"
   ]
  },
  {
   "cell_type": "markdown",
   "metadata": {
    "id": "snbBh0tCHD3O"
   },
   "source": [
    "That doesn't looks so great since there are only four data points. By default, the algorithm only uses as many points as it needs to achieve a specified tolerance. We can specify that we want the solution evaluated at other points using the optional `t_eval` keyword arg. It is important to remember that these points are an approximation to the solution.\n",
    "\n"
   ]
  },
  {
   "cell_type": "code",
   "execution_count": 35,
   "metadata": {
    "colab": {
     "base_uri": "https://localhost:8080/"
    },
    "executionInfo": {
     "elapsed": 269,
     "status": "ok",
     "timestamp": 1631194399010,
     "user": {
      "displayName": "John Kitchin",
      "photoUrl": "https://lh3.googleusercontent.com/a/default-user=s64",
      "userId": "14782011281593705406"
     },
     "user_tz": 240
    },
    "id": "aTNsSKIMHD3P",
    "outputId": "48f08fb4-1420-4b9a-d79e-2c8997f91c5b"
   },
   "outputs": [
    {
     "data": {
      "text/plain": [
       "  message: The solver successfully reached the end of the integration interval.\n",
       "  success: True\n",
       "   status: 0\n",
       "        t: [ 0.000e+00  3.061e-02 ...  1.469e+00  1.500e+00]\n",
       "        y: [[ 1.000e+00  1.032e+00 ...  6.506e+00  6.732e+00]]\n",
       "      sol: None\n",
       " t_events: None\n",
       " y_events: None\n",
       "     nfev: 20\n",
       "     njev: 0\n",
       "      nlu: 0"
      ]
     },
     "execution_count": 35,
     "metadata": {},
     "output_type": "execute_result"
    }
   ],
   "source": [
    "X = np.linspace(x0, 1.5)\n",
    "sol = solve_ivp(fun=f, t_span=(min(X), max(X)), y0=y0, t_eval=X)\n",
    "sol"
   ]
  },
  {
   "cell_type": "code",
   "execution_count": 36,
   "metadata": {
    "colab": {
     "base_uri": "https://localhost:8080/",
     "height": 300
    },
    "executionInfo": {
     "elapsed": 324,
     "status": "ok",
     "timestamp": 1631194409847,
     "user": {
      "displayName": "John Kitchin",
      "photoUrl": "https://lh3.googleusercontent.com/a/default-user=s64",
      "userId": "14782011281593705406"
     },
     "user_tz": 240
    },
    "id": "E9kXjWUSHD3V",
    "outputId": "1a48756b-6836-4769-9727-53c65412d566"
   },
   "outputs": [
    {
     "data": {
      "text/plain": [
       "<matplotlib.legend.Legend at 0x11a957430>"
      ]
     },
     "execution_count": 36,
     "metadata": {},
     "output_type": "execute_result"
    },
    {
     "data": {
      "image/png": "[encoded data removed]",
      "text/plain": [
       "<Figure size 640x480 with 1 Axes>"
      ]
     },
     "metadata": {},
     "output_type": "display_data"
    }
   ],
   "source": [
    "plt.plot(sol.t, sol.y[0], label=\"solve_ivp\")\n",
    "plt.plot(X, X**2 + np.exp(X), \"r--\", label=\"Analytical\")\n",
    "plt.xlabel(\"x\")\n",
    "plt.ylabel(\"y\")\n",
    "plt.legend()"
   ]
  },
  {
   "cell_type": "markdown",
   "metadata": {
    "id": "n-Iiw8gRHD3e"
   },
   "source": [
    "So far, `solve_ivp` solves the issues with item 1 (we did not have to code the algorithm), and items 2 and 3 (it uses an adaptive step and converges to a tolerance for us). It will also help us solve for the inverse problem, i.e. for what value of $x$ is $y=4$?\n",
    "\n",
    "\n",
    "\n"
   ]
  },
  {
   "cell_type": "markdown",
   "metadata": {
    "id": "NAoV24dXn-Gu"
   },
   "source": [
    "## Events\n",
    "\n",
    "To do this, we need a new concept of an \"event function\". During each step of the integration, you can run a function that can detect an \"event\". When an event is detected, the location of the event is stored, and if desired integration can be terminated. `solve_ivp` can take a list of event functions. We consider only one for now.\n",
    "\n",
    "An event occurs when an event function is equal to zero. During integration, if the event function changes sign, then it is clear an event has occurred, and the algorithm determines where it occurred. Since we want to know when $y=4$, we will define a function that returns $y - 4$, because that will equal zero at that condition. We want the integration to terminate when that happens, so we set the \"terminal\" attribute on our function to True.\n",
    "\n",
    "An event function has a signature of f(x, y). Remember that $y$ is going to be an array,"
   ]
  },
  {
   "cell_type": "code",
   "execution_count": 37,
   "metadata": {
    "id": "lMNIKmvq2KU3"
   },
   "outputs": [
    {
     "data": {
      "text/plain": [
       "array([0.        , 0.03061224, 0.06122449, 0.09183673, 0.12244898,\n",
       "       0.15306122, 0.18367347, 0.21428571, 0.24489796, 0.2755102 ,\n",
       "       0.30612245, 0.33673469, 0.36734694, 0.39795918, 0.42857143,\n",
       "       0.45918367, 0.48979592, 0.52040816, 0.55102041, 0.58163265,\n",
       "       0.6122449 , 0.64285714, 0.67346939, 0.70408163, 0.73469388,\n",
       "       0.76530612, 0.79591837, 0.82653061, 0.85714286, 0.8877551 ,\n",
       "       0.91836735, 0.94897959, 0.97959184, 1.01020408, 1.04081633,\n",
       "       1.07142857, 1.10204082, 1.13265306, 1.16326531, 1.19387755,\n",
       "       1.2244898 , 1.25510204, 1.28571429, 1.31632653, 1.34693878,\n",
       "       1.37755102, 1.40816327, 1.43877551, 1.46938776, 1.5       ])"
      ]
     },
     "execution_count": 37,
     "metadata": {},
     "output_type": "execute_result"
    }
   ],
   "source": [
    "X"
   ]
  },
  {
   "cell_type": "code",
   "execution_count": 38,
   "metadata": {
    "colab": {
     "base_uri": "https://localhost:8080/"
    },
    "executionInfo": {
     "elapsed": 258,
     "status": "ok",
     "timestamp": 1631195726999,
     "user": {
      "displayName": "John Kitchin",
      "photoUrl": "https://lh3.googleusercontent.com/a/default-user=s64",
      "userId": "14782011281593705406"
     },
     "user_tz": 240
    },
    "id": "MP46Q2UMHD3f",
    "outputId": "bcbbdd97-d222-4c3e-d54a-9a7e213348b4"
   },
   "outputs": [
    {
     "data": {
      "text/plain": [
       "  message: The solver successfully reached the end of the integration interval.\n",
       "  success: True\n",
       "   status: 0\n",
       "        t: [ 0.000e+00  8.034e-02 ...  1.480e+00  1.500e+00]\n",
       "        y: [[ 1.000e+00  1.090e+00 ...  6.586e+00  6.732e+00]]\n",
       "      sol: None\n",
       " t_events: [array([ 1.058e+00]), array([ 5.373e-01]), array([ 1.250e+00])]\n",
       " y_events: [array([[ 4.000e+00]]), array([[ 2.000e+00]]), array([[ 5.053e+00]])]\n",
       "     nfev: 98\n",
       "     njev: 0\n",
       "      nlu: 0"
      ]
     },
     "execution_count": 38,
     "metadata": {},
     "output_type": "execute_result"
    }
   ],
   "source": [
    "def event1(x, y):\n",
    "    return y[0] - 4\n",
    "\n",
    "\n",
    "def event2(x, y):\n",
    "    return y[0] - 2\n",
    "\n",
    "\n",
    "def event3(x, y):\n",
    "    return x - 1.25\n",
    "\n",
    "\n",
    "event1.terminal = False\n",
    "\n",
    "sol = solve_ivp(\n",
    "    fun=f, t_span=(x0, 1.5), y0=y0, events=[event1, event2, event3], max_step=0.1\n",
    ")\n",
    "sol"
   ]
  },
  {
   "cell_type": "markdown",
   "metadata": {
    "id": "W09O7VPsHD3k"
   },
   "source": [
    "Now, there are a couple of new things to note. First, we got a message that a termination event occurred. Second, the sol.y array ends at 4.0, because we made the event function *terminal*. Next, sol.t\\_events is not empty, because an event occurred. It now contains the value where the event occurred, which is where $y=4$!\n",
    "\n"
   ]
  },
  {
   "cell_type": "code",
   "execution_count": 39,
   "metadata": {
    "colab": {
     "base_uri": "https://localhost:8080/"
    },
    "executionInfo": {
     "elapsed": 244,
     "status": "ok",
     "timestamp": 1631195598455,
     "user": {
      "displayName": "John Kitchin",
      "photoUrl": "https://lh3.googleusercontent.com/a/default-user=s64",
      "userId": "14782011281593705406"
     },
     "user_tz": 240
    },
    "id": "tcR8y6UcHD3m",
    "outputId": "8bf736b6-1863-4499-90bd-a515cbc41599"
   },
   "outputs": [
    {
     "data": {
      "text/plain": [
       "[array([1.0580064]), array([0.53727444]), array([1.25])]"
      ]
     },
     "execution_count": 39,
     "metadata": {},
     "output_type": "execute_result"
    }
   ],
   "source": [
    "sol.t_events"
   ]
  },
  {
   "cell_type": "code",
   "execution_count": 40,
   "metadata": {
    "colab": {
     "base_uri": "https://localhost:8080/"
    },
    "executionInfo": {
     "elapsed": 352,
     "status": "ok",
     "timestamp": 1631195600205,
     "user": {
      "displayName": "John Kitchin",
      "photoUrl": "https://lh3.googleusercontent.com/a/default-user=s64",
      "userId": "14782011281593705406"
     },
     "user_tz": 240
    },
    "id": "MluNg_j_HD30",
    "outputId": "1b5c2e6c-af96-4617-a7f2-979290b34c91"
   },
   "outputs": [
    {
     "data": {
      "text/plain": [
       "[array([[4.]]), array([[2.]]), array([[5.05284299]])]"
      ]
     },
     "execution_count": 40,
     "metadata": {},
     "output_type": "execute_result"
    }
   ],
   "source": [
    "sol.y_events"
   ]
  },
  {
   "cell_type": "code",
   "execution_count": 41,
   "metadata": {
    "colab": {
     "base_uri": "https://localhost:8080/",
     "height": 269
    },
    "executionInfo": {
     "elapsed": 286,
     "status": "ok",
     "timestamp": 1631195602116,
     "user": {
      "displayName": "John Kitchin",
      "photoUrl": "https://lh3.googleusercontent.com/a/default-user=s64",
      "userId": "14782011281593705406"
     },
     "user_tz": 240
    },
    "id": "epq1I071yP-P",
    "outputId": "74358265-5d76-4a11-8658-9be6685d0579"
   },
   "outputs": [
    {
     "data": {
      "image/png": "[encoded data removed]",
      "text/plain": [
       "<Figure size 640x480 with 1 Axes>"
      ]
     },
     "metadata": {},
     "output_type": "display_data"
    }
   ],
   "source": [
    "plt.plot(sol.t, sol.y[0])\n",
    "plt.plot(\n",
    "    sol.t_events[0], sol.y_events[0], \"ro\", label=f\"y=4 at x={sol.t_events[0][0]:1.3f}\"\n",
    ")\n",
    "plt.plot(\n",
    "    sol.t_events[1], sol.y_events[1], \"gs\", label=f\"y=2 at x={sol.t_events[1][0]:1.3f}\"\n",
    ")\n",
    "plt.legend();"
   ]
  },
  {
   "cell_type": "markdown",
   "metadata": {
    "id": "FDVOG0sG_YhD"
   },
   "source": [
    "**Reflective Questions**"
   ]
  },
  {
   "cell_type": "code",
   "execution_count": 42,
   "metadata": {},
   "outputs": [
    {
     "data": {
      "text/html": [
       "<div id=\"IWWVrxusPKBF\" data-shufflequestions=\"False\"\n",
       "               data-shuffleanswers=\"True\"\n",
       "               data-preserveresponses=\"false\"\n",
       "               data-numquestions=\"1000000\"\n",
       "               data-maxwidth=\"600\"\n",
       "               style=\"border-radius: 10px; text-align: left\"> <style>\n",
       "#IWWVrxusPKBF {\n",
       "   --jq-multiple-choice-bg: #6f78ffff;\n",
       "   --jq-mc-button-bg: #fafafa;\n",
       "   --jq-mc-button-border: #e0e0e0e0;\n",
       "   --jq-mc-button-inset-shadow: #555555;\n",
       "   --jq-many-choice-bg: #f75c03ff;\n",
       "   --jq-numeric-bg: #392061ff;\n",
       "   --jq-numeric-input-bg: #c0c0c0;\n",
       "   --jq-numeric-input-label: #101010;\n",
       "   --jq-numeric-input-shadow: #999999;\n",
       "   --jq-incorrect-color: #c80202;\n",
       "   --jq-correct-color: #009113;\n",
       "   --jq-text-color: #fafafa;\n",
       "}\n",
       "\n",
       ".Quiz {\n",
       "    max-width: 600px;\n",
       "    margin-top: 15px;\n",
       "    margin-left: auto;\n",
       "    margin-right: auto;\n",
       "    margin-bottom: 15px;\n",
       "    padding-bottom: 4px;\n",
       "    padding-top: 4px;\n",
       "    line-height: 1.1;\n",
       "    font-size: 16pt;\n",
       "    border-radius: inherit;\n",
       "}\n",
       "\n",
       ".QuizCode {\n",
       "    font-size: 14pt;\n",
       "    margin-top: 10px;\n",
       "    margin-left: 20px;\n",
       "    margin-right: 20px;\n",
       "}\n",
       "\n",
       ".QuizCode>pre {\n",
       "    padding: 4px;\n",
       "}\n",
       "\n",
       ".Answer {\n",
       "    margin: 10px 0;\n",
       "    display: grid;\n",
       "    grid-template-columns: 1fr 1fr;\n",
       "    grid-gap: 10px;\n",
       "    border-radius: inherit;\n",
       "}\n",
       "\n",
       ".Feedback {\n",
       "    font-size: 16pt;\n",
       "    text-align: center;\n",
       "    min-height: 2em;\n",
       "}\n",
       "\n",
       ".Input {\n",
       "    align: left;\n",
       "    font-size: 20pt;\n",
       "}\n",
       "\n",
       ".Input-text {\n",
       "    display: block;\n",
       "    margin: 10px;\n",
       "    color: inherit;\n",
       "    width: 140px;\n",
       "    background-color: var(--jq-numeric-input-bg);\n",
       "    color: var(--jq-text-color);\n",
       "    padding: 5px;\n",
       "    padding-left: 10px;\n",
       "    font-family: inherit;\n",
       "    font-size: 20px;\n",
       "    font-weight: inherit;\n",
       "    line-height: 20pt;\n",
       "    border: none;\n",
       "    border-radius: 0.2rem;\n",
       "    transition: box-shadow 0.1s);\n",
       "}\n",
       "\n",
       ".Input-text:focus {\n",
       "    outline: none;\n",
       "    background-color: var(--jq-numeric-input-bg);\n",
       "    box-shadow: 0.6rem 0.8rem 1.4rem -0.5rem var(--jq-numeric-input-shadow);\n",
       "}\n",
       "\n",
       ".MCButton {\n",
       "    background: var(--jq-mc-button-bg);\n",
       "    border: 1px solid var(--jq-mc-button-border);\n",
       "    border-radius: inherit;\n",
       "    padding: 10px;\n",
       "    font-size: 16px;\n",
       "    cursor: pointer;\n",
       "    text-align: center;\n",
       "    display: flex;\n",
       "    align-items: center;\n",
       "    justify-content: center;\n",
       "}\n",
       "\n",
       ".MCButton p {\n",
       "    color: inherit;\n",
       "}\n",
       "\n",
       ".MultipleChoiceQn {\n",
       "    padding: 10px;\n",
       "    background: var(--jq-multiple-choice-bg);\n",
       "    color: var(--jq-text-color);\n",
       "    border-radius: inherit;\n",
       "}\n",
       "\n",
       ".ManyChoiceQn {\n",
       "    padding: 10px;\n",
       "    background: var(--jq-many-choice-bg);\n",
       "    color: var(--jq-text-color);\n",
       "    border-radius: inherit;\n",
       "}\n",
       "\n",
       ".NumericQn {\n",
       "    padding: 10px;\n",
       "    background: var(--jq-numeric-bg);\n",
       "    color: var(--jq-text-color);\n",
       "    border-radius: inherit;\n",
       "}\n",
       "\n",
       ".NumericQn p {\n",
       "    color: inherit;\n",
       "}\n",
       "\n",
       ".InpLabel {\n",
       "    line-height: 34px;\n",
       "    float: left;\n",
       "    margin-right: 10px;\n",
       "    color: var(--jq-numeric-input-label);\n",
       "    font-size: 15pt;\n",
       "}\n",
       "\n",
       ".incorrect {\n",
       "    color: var(--jq-incorrect-color);\n",
       "}\n",
       "\n",
       ".correct {\n",
       "    color: var(--jq-correct-color);\n",
       "}\n",
       "\n",
       ".correctButton {\n",
       "    /*\n",
       "    background: var(--jq-correct-color);\n",
       "   */\n",
       "    animation: correct-anim 0.6s ease;\n",
       "    animation-fill-mode: forwards;\n",
       "    color: var(--jq-text-color);\n",
       "    box-shadow: inset 0px 0px 5px var(--jq-mc-button-inset-shadow);\n",
       "    outline: none;\n",
       "}\n",
       "\n",
       ".incorrectButton {\n",
       "    animation: incorrect-anim 0.8s ease;\n",
       "    animation-fill-mode: forwards;\n",
       "    color: var(--jq-text-color);\n",
       "    box-shadow: inset 0px 0px 5px var(--jq-mc-button-inset-shadow);\n",
       "    outline: none;\n",
       "}\n",
       "\n",
       "@keyframes incorrect-anim {\n",
       "    100% {\n",
       "        background-color: var(--jq-incorrect-color);\n",
       "    }\n",
       "}\n",
       "\n",
       "@keyframes correct-anim {\n",
       "    100% {\n",
       "        background-color: var(--jq-correct-color);\n",
       "    }\n",
       "}\n",
       "</style>"
      ],
      "text/plain": [
       "<IPython.core.display.HTML object>"
      ]
     },
     "metadata": {},
     "output_type": "display_data"
    },
    {
     "data": {
      "application/javascript": [
       "var questionsIWWVrxusPKBF=[{\"question\": \"Which of the following is not a vectorized function?\", \"type\": \"multiple_choice\", \"answers\": [{\"answer\": \"np.sin()\", \"correct\": false}, {\"answer\": \"np.sqrt()\", \"correct\": false}, {\"answer\": \"np.sum()\", \"correct\": false}, {\"answer\": \"all are vectorized functions\", \"correct\": true}], \"tag\": \"numpy\", \"lecture_file\": \"03_fode_1\"}, {\"question\": \"Which of the following will give a 5 rows x 5 columns 2D array of zeros?\", \"type\": \"multiple_choice\", \"answers\": [{\"answer\": \"np.zeros(5, 5)\", \"correct\": false}, {\"answer\": \"np.zeros([5, 5])\", \"correct\": true}, {\"answer\": \"5*np.zeros(5)\", \"correct\": false}, {\"answer\": \"np.five(5)\", \"correct\": false}], \"tag\": \"numpy\", \"lecture_file\": \"03_fode_1\"}, {\"question\": \"If the first and second derivative of a function are zero, then we have a \", \"type\": \"multiple_choice\", \"answers\": [{\"answer\": \"global maximum\", \"correct\": false}, {\"answer\": \"global minimum\", \"correct\": false}, {\"answer\": \"saddle point\", \"correct\": false}, {\"answer\": \"cannot say\", \"correct\": true}], \"tag\": \"derivative\", \"lecture_file\": \"03_fode_1\"}, {\"question\": \"How to plot the legend in the lower left corner of a matplotlib plot?\", \"type\": \"multiple_choice\", \"answers\": [{\"answer\": \"plt.legend(loc = 3)\", \"correct\": true}, {\"answer\": \"plt.lower_left('legend')\", \"correct\": false}, {\"answer\": \"plt.loc('lower left')\", \"correct\": false}, {\"answer\": \"plt.legend('3')\", \"correct\": false}], \"tag\": \"matplotlib\", \"lecture_file\": \"03_fode_1\"}, {\"question\": \"$5 dy/dx - y*e^x + 5*sin(x) = 0$ ; is a\", \"type\": \"multiple_choice\", \"answers\": [{\"answer\": \"homogeneous first-order linear equation\", \"correct\": false}, {\"answer\": \"non-homogeneous first order linear equation\", \"correct\": true}, {\"answer\": \"non-homogeneous first order non-linear equation\", \"correct\": false}, {\"answer\": \"homogeneous first-order non-linear equation\", \"correct\": false}], \"tag\": \"derivative\", \"lecture_file\": \"03_fode_1\"}, {\"question\": \"The values at which the function 'f' was evaluated when using sol = solve_ivp(f) can be read with\", \"type\": \"multiple_choice\", \"answers\": [{\"answer\": \"sol.x\", \"correct\": false}, {\"answer\": \"sol.X\", \"correct\": false}, {\"answer\": \"sol.t\", \"correct\": true}, {\"answer\": \"sol\", \"correct\": false}], \"tag\": \"scipy\", \"lecture_file\": \"03_fode_1\"}, {\"question\": \"Which of the following does not give an error?\", \"type\": \"multiple_choice\", \"answers\": [{\"answer\": \"solve_ivp(f, t_span = (0,1), y0 = y0, t_eval = np.linspace(0, 2))\", \"correct\": false}, {\"answer\": \"solve_ivp(f, t_span = (0,1), y0)\", \"correct\": false}, {\"answer\": \"solve_ivp(f, y0 = y0, t_eval = np.linspace(0,1))\", \"correct\": false}, {\"answer\": \"solve_ivp(f, t_span = [0,1], y0 = y0)\", \"correct\": true}], \"tag\": \"scipy\", \"lecture_file\": \"03_fode_1\"}, {\"question\": \"A solve_ivp() event occurs when the value the event function\", \"type\": \"multiple_choice\", \"answers\": [{\"answer\": \"becomes positive\", \"correct\": false}, {\"answer\": \"is equal to zero\", \"correct\": true}, {\"answer\": \"crosses the event value\", \"correct\": false}, {\"answer\": \"becomes negative\", \"correct\": false}], \"tag\": \"scipy\", \"lecture_file\": \"03_fode_1\"}, {\"question\": \"solve_ivp() makes solving first-order differential equations easier by\", \"type\": \"multiple_choice\", \"answers\": [{\"answer\": \"using an adaptive step size to increase the efficiency of the algorithm\", \"correct\": false}, {\"answer\": \"converging to an acceptable value\", \"correct\": false}, {\"answer\": \"helping to find the value of the independent variable at an instance of the dependent variable\", \"correct\": false}, {\"answer\": \"all of the above\", \"correct\": true}], \"tag\": \"scipy\", \"lecture_file\": \"03_fode_1\"}, {\"question\": \"Which of the following methods is not available in the solve_ivp() function?\", \"type\": \"multiple_choice\", \"answers\": [{\"answer\": \"Euler's Method\", \"correct\": true}, {\"answer\": \"Runge-Kutta\", \"correct\": false}, {\"answer\": \"Backward Differentiation\", \"correct\": false}, {\"answer\": \"LSODA\", \"correct\": false}], \"tag\": \"scipy\", \"lecture_file\": \"03_fode_1\"}];\n",
       "    // Make a random ID\n",
       "function makeid(length) {\n",
       "    var result = [];\n",
       "    var characters = 'ABCDEFGHIJKLMNOPQRSTUVWXYZabcdefghijklmnopqrstuvwxyz';\n",
       "    var charactersLength = characters.length;\n",
       "    for (var i = 0; i < length; i++) {\n",
       "        result.push(characters.charAt(Math.floor(Math.random() * charactersLength)));\n",
       "    }\n",
       "    return result.join('');\n",
       "}\n",
       "\n",
       "// Choose a random subset of an array. Can also be used to shuffle the array\n",
       "function getRandomSubarray(arr, size) {\n",
       "    var shuffled = arr.slice(0), i = arr.length, temp, index;\n",
       "    while (i--) {\n",
       "        index = Math.floor((i + 1) * Math.random());\n",
       "        temp = shuffled[index];\n",
       "        shuffled[index] = shuffled[i];\n",
       "        shuffled[i] = temp;\n",
       "    }\n",
       "    return shuffled.slice(0, size);\n",
       "}\n",
       "\n",
       "function printResponses(responsesContainer) {\n",
       "    var responses=JSON.parse(responsesContainer.dataset.responses);\n",
       "    var stringResponses='<B>IMPORTANT!</B>To preserve this answer sequence for submission, when you have finalized your answers: <ol> <li> Copy the text in this cell below \"Answer String\"</li> <li> Double click on the cell directly below the Answer String, labeled \"Replace Me\"</li> <li> Select the whole \"Replace Me\" text</li> <li> Paste in your answer string and press shift-Enter.</li><li>Save the notebook using the save icon or File->Save Notebook menu item</li></ul><br><br><br><b>Answer String:</b><br> ';\n",
       "    console.log(responses);\n",
       "    responses.forEach((response, index) => {\n",
       "        if (response) {\n",
       "            console.log(index + ': ' + response);\n",
       "            stringResponses+= index + ': ' + response +\"<BR>\";\n",
       "        }\n",
       "    });\n",
       "    responsesContainer.innerHTML=stringResponses;\n",
       "}\n",
       "function check_mc() {\n",
       "    var id = this.id.split('-')[0];\n",
       "    //var response = this.id.split('-')[1];\n",
       "    //console.log(response);\n",
       "    //console.log(\"In check_mc(), id=\"+id);\n",
       "    //console.log(event.srcElement.id)           \n",
       "    //console.log(event.srcElement.dataset.correct)   \n",
       "    //console.log(event.srcElement.dataset.feedback)\n",
       "\n",
       "    var label = event.srcElement;\n",
       "    //console.log(label, label.nodeName);\n",
       "    var depth = 0;\n",
       "    while ((label.nodeName != \"LABEL\") && (depth < 20)) {\n",
       "        label = label.parentElement;\n",
       "        console.log(depth, label);\n",
       "        depth++;\n",
       "    }\n",
       "\n",
       "\n",
       "\n",
       "    var answers = label.parentElement.children;\n",
       "\n",
       "    //console.log(answers);\n",
       "\n",
       "\n",
       "    // Split behavior based on multiple choice vs many choice:\n",
       "    var fb = document.getElementById(\"fb\" + id);\n",
       "\n",
       "\n",
       "\n",
       "\n",
       "    if (fb.dataset.numcorrect == 1) {\n",
       "        // What follows is for the saved responses stuff\n",
       "        var outerContainer = fb.parentElement.parentElement;\n",
       "        var responsesContainer = document.getElementById(\"responses\" + outerContainer.id);\n",
       "        if (responsesContainer) {\n",
       "            //console.log(responsesContainer);\n",
       "            var response = label.firstChild.innerText;\n",
       "            if (label.querySelector(\".QuizCode\")){\n",
       "                response+= label.querySelector(\".QuizCode\").firstChild.innerText;\n",
       "            }\n",
       "            console.log(response);\n",
       "            //console.log(document.getElementById(\"quizWrap\"+id));\n",
       "            var qnum = document.getElementById(\"quizWrap\"+id).dataset.qnum;\n",
       "            console.log(\"Question \" + qnum);\n",
       "            //console.log(id, \", got numcorrect=\",fb.dataset.numcorrect);\n",
       "            var responses=JSON.parse(responsesContainer.dataset.responses);\n",
       "            console.log(responses);\n",
       "            responses[qnum]= response;\n",
       "            responsesContainer.setAttribute('data-responses', JSON.stringify(responses));\n",
       "            printResponses(responsesContainer);\n",
       "        }\n",
       "        // End code to preserve responses\n",
       "        \n",
       "        for (var i = 0; i < answers.length; i++) {\n",
       "            var child = answers[i];\n",
       "            //console.log(child);\n",
       "            child.className = \"MCButton\";\n",
       "        }\n",
       "\n",
       "\n",
       "\n",
       "        if (label.dataset.correct == \"true\") {\n",
       "            // console.log(\"Correct action\");\n",
       "            if (\"feedback\" in label.dataset) {\n",
       "                fb.textContent = jaxify(label.dataset.feedback);\n",
       "            } else {\n",
       "                fb.textContent = \"Correct!\";\n",
       "            }\n",
       "            label.classList.add(\"correctButton\");\n",
       "\n",
       "            fb.className = \"Feedback\";\n",
       "            fb.classList.add(\"correct\");\n",
       "\n",
       "        } else {\n",
       "            if (\"feedback\" in label.dataset) {\n",
       "                fb.textContent = jaxify(label.dataset.feedback);\n",
       "            } else {\n",
       "                fb.textContent = \"Incorrect -- try again.\";\n",
       "            }\n",
       "            //console.log(\"Error action\");\n",
       "            label.classList.add(\"incorrectButton\");\n",
       "            fb.className = \"Feedback\";\n",
       "            fb.classList.add(\"incorrect\");\n",
       "        }\n",
       "    }\n",
       "    else {\n",
       "        var reset = false;\n",
       "        var feedback;\n",
       "         if (label.dataset.correct == \"true\") {\n",
       "            if (\"feedback\" in label.dataset) {\n",
       "                feedback = jaxify(label.dataset.feedback);\n",
       "            } else {\n",
       "                feedback = \"Correct!\";\n",
       "            }\n",
       "            if (label.dataset.answered <= 0) {\n",
       "                if (fb.dataset.answeredcorrect < 0) {\n",
       "                    fb.dataset.answeredcorrect = 1;\n",
       "                    reset = true;\n",
       "                } else {\n",
       "                    fb.dataset.answeredcorrect++;\n",
       "                }\n",
       "                if (reset) {\n",
       "                    for (var i = 0; i < answers.length; i++) {\n",
       "                        var child = answers[i];\n",
       "                        child.className = \"MCButton\";\n",
       "                        child.dataset.answered = 0;\n",
       "                    }\n",
       "                }\n",
       "                label.classList.add(\"correctButton\");\n",
       "                label.dataset.answered = 1;\n",
       "                fb.className = \"Feedback\";\n",
       "                fb.classList.add(\"correct\");\n",
       "\n",
       "            }\n",
       "        } else {\n",
       "            if (\"feedback\" in label.dataset) {\n",
       "                feedback = jaxify(label.dataset.feedback);\n",
       "            } else {\n",
       "                feedback = \"Incorrect -- try again.\";\n",
       "            }\n",
       "            if (fb.dataset.answeredcorrect > 0) {\n",
       "                fb.dataset.answeredcorrect = -1;\n",
       "                reset = true;\n",
       "            } else {\n",
       "                fb.dataset.answeredcorrect--;\n",
       "            }\n",
       "\n",
       "            if (reset) {\n",
       "                for (var i = 0; i < answers.length; i++) {\n",
       "                    var child = answers[i];\n",
       "                    child.className = \"MCButton\";\n",
       "                    child.dataset.answered = 0;\n",
       "                }\n",
       "            }\n",
       "            label.classList.add(\"incorrectButton\");\n",
       "            fb.className = \"Feedback\";\n",
       "            fb.classList.add(\"incorrect\");\n",
       "        }\n",
       "        // What follows is for the saved responses stuff\n",
       "        var outerContainer = fb.parentElement.parentElement;\n",
       "        var responsesContainer = document.getElementById(\"responses\" + outerContainer.id);\n",
       "        if (responsesContainer) {\n",
       "            //console.log(responsesContainer);\n",
       "            var response = label.firstChild.innerText;\n",
       "            if (label.querySelector(\".QuizCode\")){\n",
       "                response+= label.querySelector(\".QuizCode\").firstChild.innerText;\n",
       "            }\n",
       "            console.log(response);\n",
       "            //console.log(document.getElementById(\"quizWrap\"+id));\n",
       "            var qnum = document.getElementById(\"quizWrap\"+id).dataset.qnum;\n",
       "            console.log(\"Question \" + qnum);\n",
       "            //console.log(id, \", got numcorrect=\",fb.dataset.numcorrect);\n",
       "            var responses=JSON.parse(responsesContainer.dataset.responses);\n",
       "            if (label.dataset.correct == \"true\") {\n",
       "                if (typeof(responses[qnum]) == \"object\"){\n",
       "                    if (!responses[qnum].includes(response))\n",
       "                        responses[qnum].push(response);\n",
       "                } else{\n",
       "                    responses[qnum]= [ response ];\n",
       "                }\n",
       "            } else {\n",
       "                responses[qnum]= response;\n",
       "            }\n",
       "            console.log(responses);\n",
       "            responsesContainer.setAttribute('data-responses', JSON.stringify(responses));\n",
       "            printResponses(responsesContainer);\n",
       "        }\n",
       "        // End save responses stuff\n",
       "\n",
       "\n",
       "\n",
       "        var numcorrect = fb.dataset.numcorrect;\n",
       "        var answeredcorrect = fb.dataset.answeredcorrect;\n",
       "        if (answeredcorrect >= 0) {\n",
       "            fb.textContent = feedback + \" [\" + answeredcorrect + \"/\" + numcorrect + \"]\";\n",
       "        } else {\n",
       "            fb.textContent = feedback + \" [\" + 0 + \"/\" + numcorrect + \"]\";\n",
       "        }\n",
       "\n",
       "\n",
       "    }\n",
       "\n",
       "    if (typeof MathJax != 'undefined') {\n",
       "        var version = MathJax.version;\n",
       "        console.log('MathJax version', version);\n",
       "        if (version[0] == \"2\") {\n",
       "            MathJax.Hub.Queue([\"Typeset\", MathJax.Hub]);\n",
       "        } else if (version[0] == \"3\") {\n",
       "            MathJax.typeset([fb]);\n",
       "        }\n",
       "    } else {\n",
       "        console.log('MathJax not detected');\n",
       "    }\n",
       "\n",
       "}\n",
       "\n",
       "function make_mc(qa, shuffle_answers, outerqDiv, qDiv, aDiv, id) {\n",
       "    var shuffled;\n",
       "    if (shuffle_answers == \"True\") {\n",
       "        //console.log(shuffle_answers+\" read as true\");\n",
       "        shuffled = getRandomSubarray(qa.answers, qa.answers.length);\n",
       "    } else {\n",
       "        //console.log(shuffle_answers+\" read as false\");\n",
       "        shuffled = qa.answers;\n",
       "    }\n",
       "\n",
       "\n",
       "    var num_correct = 0;\n",
       "\n",
       "\n",
       "\n",
       "    shuffled.forEach((item, index, ans_array) => {\n",
       "        //console.log(answer);\n",
       "\n",
       "        // Make input element\n",
       "        var inp = document.createElement(\"input\");\n",
       "        inp.type = \"radio\";\n",
       "        inp.id = \"quizo\" + id + index;\n",
       "        inp.style = \"display:none;\";\n",
       "        aDiv.append(inp);\n",
       "\n",
       "        //Make label for input element\n",
       "        var lab = document.createElement(\"label\");\n",
       "        lab.className = \"MCButton\";\n",
       "        lab.id = id + '-' + index;\n",
       "        lab.onclick = check_mc;\n",
       "        var aSpan = document.createElement('span');\n",
       "        aSpan.classsName = \"\";\n",
       "        //qDiv.id=\"quizQn\"+id+index;\n",
       "        if (\"answer\" in item) {\n",
       "            aSpan.innerHTML = jaxify(item.answer);\n",
       "            //aSpan.innerHTML=item.answer;\n",
       "        }\n",
       "        lab.append(aSpan);\n",
       "\n",
       "        // Create div for code inside question\n",
       "        var codeSpan;\n",
       "        if (\"code\" in item) {\n",
       "            codeSpan = document.createElement('span');\n",
       "            codeSpan.id = \"code\" + id + index;\n",
       "            codeSpan.className = \"QuizCode\";\n",
       "            var codePre = document.createElement('pre');\n",
       "            codeSpan.append(codePre);\n",
       "            var codeCode = document.createElement('code');\n",
       "            codePre.append(codeCode);\n",
       "            codeCode.innerHTML = item.code;\n",
       "            lab.append(codeSpan);\n",
       "            //console.log(codeSpan);\n",
       "        }\n",
       "\n",
       "        //lab.textContent=item.answer;\n",
       "\n",
       "        // Set the data attributes for the answer\n",
       "        lab.setAttribute('data-correct', item.correct);\n",
       "        if (item.correct) {\n",
       "            num_correct++;\n",
       "        }\n",
       "        if (\"feedback\" in item) {\n",
       "            lab.setAttribute('data-feedback', item.feedback);\n",
       "        }\n",
       "        lab.setAttribute('data-answered', 0);\n",
       "\n",
       "        aDiv.append(lab);\n",
       "\n",
       "    });\n",
       "\n",
       "    if (num_correct > 1) {\n",
       "        outerqDiv.className = \"ManyChoiceQn\";\n",
       "    } else {\n",
       "        outerqDiv.className = \"MultipleChoiceQn\";\n",
       "    }\n",
       "\n",
       "    return num_correct;\n",
       "\n",
       "}\n",
       "function check_numeric(ths, event) {\n",
       "\n",
       "    if (event.keyCode === 13) {\n",
       "        ths.blur();\n",
       "\n",
       "        var id = ths.id.split('-')[0];\n",
       "\n",
       "        var submission = ths.value;\n",
       "        if (submission.indexOf('/') != -1) {\n",
       "            var sub_parts = submission.split('/');\n",
       "            //console.log(sub_parts);\n",
       "            submission = sub_parts[0] / sub_parts[1];\n",
       "        }\n",
       "        //console.log(\"Reader entered\", submission);\n",
       "\n",
       "        if (\"precision\" in ths.dataset) {\n",
       "            var precision = ths.dataset.precision;\n",
       "            // console.log(\"1:\", submission)\n",
       "            submission = Math.round((1 * submission + Number.EPSILON) * 10 ** precision) / 10 ** precision;\n",
       "            // console.log(\"Rounded to \", submission, \" precision=\", precision  );\n",
       "        }\n",
       "\n",
       "\n",
       "        //console.log(\"In check_numeric(), id=\"+id);\n",
       "        //console.log(event.srcElement.id)           \n",
       "        //console.log(event.srcElement.dataset.feedback)\n",
       "\n",
       "        var fb = document.getElementById(\"fb\" + id);\n",
       "        fb.style.display = \"none\";\n",
       "        fb.textContent = \"Incorrect -- try again.\";\n",
       "\n",
       "        var answers = JSON.parse(ths.dataset.answers);\n",
       "        //console.log(answers);\n",
       "\n",
       "        var defaultFB = \"\";\n",
       "        var correct;\n",
       "        var done = false;\n",
       "        answers.every(answer => {\n",
       "            //console.log(answer.type);\n",
       "\n",
       "            correct = false;\n",
       "            // if (answer.type==\"value\"){\n",
       "            if ('value' in answer) {\n",
       "                if (submission == answer.value) {\n",
       "                    if (\"feedback\" in answer) {\n",
       "                        fb.textContent = jaxify(answer.feedback);\n",
       "                    } else {\n",
       "                        fb.textContent = jaxify(\"Correct\");\n",
       "                    }\n",
       "                    correct = answer.correct;\n",
       "                    //console.log(answer.correct);\n",
       "                    done = true;\n",
       "                }\n",
       "                // } else if (answer.type==\"range\") {\n",
       "            } else if ('range' in answer) {\n",
       "                //console.log(answer.range);\n",
       "                if ((submission >= answer.range[0]) && (submission < answer.range[1])) {\n",
       "                    fb.textContent = jaxify(answer.feedback);\n",
       "                    correct = answer.correct;\n",
       "                    //console.log(answer.correct);\n",
       "                    done = true;\n",
       "                }\n",
       "            } else if (answer.type == \"default\") {\n",
       "                defaultFB = answer.feedback;\n",
       "            }\n",
       "            if (done) {\n",
       "                return false; // Break out of loop if this has been marked correct\n",
       "            } else {\n",
       "                return true; // Keep looking for case that includes this as a correct answer\n",
       "            }\n",
       "        });\n",
       "\n",
       "        if ((!done) && (defaultFB != \"\")) {\n",
       "            fb.innerHTML = jaxify(defaultFB);\n",
       "            //console.log(\"Default feedback\", defaultFB);\n",
       "        }\n",
       "\n",
       "        fb.style.display = \"block\";\n",
       "        if (correct) {\n",
       "            ths.className = \"Input-text\";\n",
       "            ths.classList.add(\"correctButton\");\n",
       "            fb.className = \"Feedback\";\n",
       "            fb.classList.add(\"correct\");\n",
       "        } else {\n",
       "            ths.className = \"Input-text\";\n",
       "            ths.classList.add(\"incorrectButton\");\n",
       "            fb.className = \"Feedback\";\n",
       "            fb.classList.add(\"incorrect\");\n",
       "        }\n",
       "\n",
       "        // What follows is for the saved responses stuff\n",
       "        var outerContainer = fb.parentElement.parentElement;\n",
       "        var responsesContainer = document.getElementById(\"responses\" + outerContainer.id);\n",
       "        if (responsesContainer) {\n",
       "            console.log(submission);\n",
       "            var qnum = document.getElementById(\"quizWrap\"+id).dataset.qnum;\n",
       "            //console.log(\"Question \" + qnum);\n",
       "            //console.log(id, \", got numcorrect=\",fb.dataset.numcorrect);\n",
       "            var responses=JSON.parse(responsesContainer.dataset.responses);\n",
       "            console.log(responses);\n",
       "            if (submission == ths.value){\n",
       "                responses[qnum]= submission;\n",
       "            } else {\n",
       "                responses[qnum]= ths.value + \"(\" + submission +\")\";\n",
       "            }\n",
       "            responsesContainer.setAttribute('data-responses', JSON.stringify(responses));\n",
       "            printResponses(responsesContainer);\n",
       "        }\n",
       "        // End code to preserve responses\n",
       "\n",
       "        if (typeof MathJax != 'undefined') {\n",
       "            var version = MathJax.version;\n",
       "            console.log('MathJax version', version);\n",
       "            if (version[0] == \"2\") {\n",
       "                MathJax.Hub.Queue([\"Typeset\", MathJax.Hub]);\n",
       "            } else if (version[0] == \"3\") {\n",
       "                MathJax.typeset([fb]);\n",
       "            }\n",
       "        } else {\n",
       "            console.log('MathJax not detected');\n",
       "        }\n",
       "        return false;\n",
       "    }\n",
       "\n",
       "}\n",
       "\n",
       "function isValid(el, charC) {\n",
       "    //console.log(\"Input char: \", charC);\n",
       "    if (charC == 46) {\n",
       "        if (el.value.indexOf('.') === -1) {\n",
       "            return true;\n",
       "        } else if (el.value.indexOf('/') != -1) {\n",
       "            var parts = el.value.split('/');\n",
       "            if (parts[1].indexOf('.') === -1) {\n",
       "                return true;\n",
       "            }\n",
       "        }\n",
       "        else {\n",
       "            return false;\n",
       "        }\n",
       "    } else if (charC == 47) {\n",
       "        if (el.value.indexOf('/') === -1) {\n",
       "            if ((el.value != \"\") && (el.value != \".\")) {\n",
       "                return true;\n",
       "            } else {\n",
       "                return false;\n",
       "            }\n",
       "        } else {\n",
       "            return false;\n",
       "        }\n",
       "    } else if (charC == 45) {\n",
       "        var edex = el.value.indexOf('e');\n",
       "        if (edex == -1) {\n",
       "            edex = el.value.indexOf('E');\n",
       "        }\n",
       "\n",
       "        if (el.value == \"\") {\n",
       "            return true;\n",
       "        } else if (edex == (el.value.length - 1)) { // If just after e or E\n",
       "            return true;\n",
       "        } else {\n",
       "            return false;\n",
       "        }\n",
       "    } else if (charC == 101) { // \"e\"\n",
       "        if ((el.value.indexOf('e') === -1) && (el.value.indexOf('E') === -1) && (el.value.indexOf('/') == -1)) {\n",
       "            // Prev symbol must be digit or decimal point:\n",
       "            if (el.value.slice(-1).search(/\\d/) >= 0) {\n",
       "                return true;\n",
       "            } else if (el.value.slice(-1).search(/\\./) >= 0) {\n",
       "                return true;\n",
       "            } else {\n",
       "                return false;\n",
       "            }\n",
       "        } else {\n",
       "            return false;\n",
       "        }\n",
       "    } else {\n",
       "        if (charC > 31 && (charC < 48 || charC > 57))\n",
       "            return false;\n",
       "    }\n",
       "    return true;\n",
       "}\n",
       "\n",
       "function numeric_keypress(evnt) {\n",
       "    var charC = (evnt.which) ? evnt.which : evnt.keyCode;\n",
       "\n",
       "    if (charC == 13) {\n",
       "        check_numeric(this, evnt);\n",
       "    } else {\n",
       "        return isValid(this, charC);\n",
       "    }\n",
       "}\n",
       "\n",
       "\n",
       "\n",
       "\n",
       "\n",
       "function make_numeric(qa, outerqDiv, qDiv, aDiv, id) {\n",
       "\n",
       "\n",
       "\n",
       "    //console.log(answer);\n",
       "\n",
       "\n",
       "    outerqDiv.className = \"NumericQn\";\n",
       "    aDiv.style.display = 'block';\n",
       "\n",
       "    var lab = document.createElement(\"label\");\n",
       "    lab.className = \"InpLabel\";\n",
       "    lab.textContent = \"Type numeric answer here:\";\n",
       "    aDiv.append(lab);\n",
       "\n",
       "    var inp = document.createElement(\"input\");\n",
       "    inp.type = \"text\";\n",
       "    //inp.id=\"input-\"+id;\n",
       "    inp.id = id + \"-0\";\n",
       "    inp.className = \"Input-text\";\n",
       "    inp.setAttribute('data-answers', JSON.stringify(qa.answers));\n",
       "    if (\"precision\" in qa) {\n",
       "        inp.setAttribute('data-precision', qa.precision);\n",
       "    }\n",
       "    aDiv.append(inp);\n",
       "    //console.log(inp);\n",
       "\n",
       "    //inp.addEventListener(\"keypress\", check_numeric);\n",
       "    //inp.addEventListener(\"keypress\", numeric_keypress);\n",
       "    /*\n",
       "    inp.addEventListener(\"keypress\", function(event) {\n",
       "        return numeric_keypress(this, event);\n",
       "    }\n",
       "                        );\n",
       "                        */\n",
       "    //inp.onkeypress=\"return numeric_keypress(this, event)\";\n",
       "    inp.onkeypress = numeric_keypress;\n",
       "    inp.onpaste = event => false;\n",
       "\n",
       "    inp.addEventListener(\"focus\", function (event) {\n",
       "        this.value = \"\";\n",
       "        return false;\n",
       "    }\n",
       "    );\n",
       "\n",
       "\n",
       "}\n",
       "function jaxify(string) {\n",
       "    var mystring = string;\n",
       "\n",
       "    var count = 0;\n",
       "    var loc = mystring.search(/([^\\\\]|^)(\\$)/);\n",
       "\n",
       "    var count2 = 0;\n",
       "    var loc2 = mystring.search(/([^\\\\]|^)(\\$\\$)/);\n",
       "\n",
       "    //console.log(loc);\n",
       "\n",
       "    while ((loc >= 0) || (loc2 >= 0)) {\n",
       "\n",
       "        /* Have to replace all the double $$ first with current implementation */\n",
       "        if (loc2 >= 0) {\n",
       "            if (count2 % 2 == 0) {\n",
       "                mystring = mystring.replace(/([^\\\\]|^)(\\$\\$)/, \"$1\\\\[\");\n",
       "            } else {\n",
       "                mystring = mystring.replace(/([^\\\\]|^)(\\$\\$)/, \"$1\\\\]\");\n",
       "            }\n",
       "            count2++;\n",
       "        } else {\n",
       "            if (count % 2 == 0) {\n",
       "                mystring = mystring.replace(/([^\\\\]|^)(\\$)/, \"$1\\\\(\");\n",
       "            } else {\n",
       "                mystring = mystring.replace(/([^\\\\]|^)(\\$)/, \"$1\\\\)\");\n",
       "            }\n",
       "            count++;\n",
       "        }\n",
       "        loc = mystring.search(/([^\\\\]|^)(\\$)/);\n",
       "        loc2 = mystring.search(/([^\\\\]|^)(\\$\\$)/);\n",
       "        //console.log(mystring,\", loc:\",loc,\", loc2:\",loc2);\n",
       "    }\n",
       "\n",
       "    //console.log(mystring);\n",
       "    return mystring;\n",
       "}\n",
       "\n",
       "\n",
       "function show_questions(json, mydiv) {\n",
       "    console.log('show_questions');\n",
       "    //var mydiv=document.getElementById(myid);\n",
       "    var shuffle_questions = mydiv.dataset.shufflequestions;\n",
       "    var num_questions = mydiv.dataset.numquestions;\n",
       "    var shuffle_answers = mydiv.dataset.shuffleanswers;\n",
       "    var max_width = mydiv.dataset.maxwidth;\n",
       "\n",
       "    if (num_questions > json.length) {\n",
       "        num_questions = json.length;\n",
       "    }\n",
       "\n",
       "    var questions;\n",
       "    if ((num_questions < json.length) || (shuffle_questions == \"True\")) {\n",
       "        //console.log(num_questions+\",\"+json.length);\n",
       "        questions = getRandomSubarray(json, num_questions);\n",
       "    } else {\n",
       "        questions = json;\n",
       "    }\n",
       "\n",
       "    //console.log(\"SQ: \"+shuffle_questions+\", NQ: \" + num_questions + \", SA: \", shuffle_answers);\n",
       "\n",
       "    // Iterate over questions\n",
       "    questions.forEach((qa, index, array) => {\n",
       "        //console.log(qa.question); \n",
       "\n",
       "        var id = makeid(8);\n",
       "        //console.log(id);\n",
       "\n",
       "\n",
       "        // Create Div to contain question and answers\n",
       "        var iDiv = document.createElement('div');\n",
       "        //iDiv.id = 'quizWrap' + id + index;\n",
       "        iDiv.id = 'quizWrap' + id;\n",
       "        iDiv.className = 'Quiz';\n",
       "        iDiv.setAttribute('data-qnum', index);\n",
       "        iDiv.style.maxWidth  =max_width+\"px\";\n",
       "        mydiv.appendChild(iDiv);\n",
       "        // iDiv.innerHTML=qa.question;\n",
       "        \n",
       "        var outerqDiv = document.createElement('div');\n",
       "        outerqDiv.id = \"OuterquizQn\" + id + index;\n",
       "        // Create div to contain question part\n",
       "        var qDiv = document.createElement('div');\n",
       "        qDiv.id = \"quizQn\" + id + index;\n",
       "        \n",
       "        if (qa.question) {\n",
       "            iDiv.append(outerqDiv);\n",
       "\n",
       "            //qDiv.textContent=qa.question;\n",
       "            qDiv.innerHTML = jaxify(qa.question);\n",
       "            outerqDiv.append(qDiv);\n",
       "        }\n",
       "\n",
       "        // Create div for code inside question\n",
       "        var codeDiv;\n",
       "        if (\"code\" in qa) {\n",
       "            codeDiv = document.createElement('div');\n",
       "            codeDiv.id = \"code\" + id + index;\n",
       "            codeDiv.className = \"QuizCode\";\n",
       "            var codePre = document.createElement('pre');\n",
       "            codeDiv.append(codePre);\n",
       "            var codeCode = document.createElement('code');\n",
       "            codePre.append(codeCode);\n",
       "            codeCode.innerHTML = qa.code;\n",
       "            outerqDiv.append(codeDiv);\n",
       "            //console.log(codeDiv);\n",
       "        }\n",
       "\n",
       "\n",
       "        // Create div to contain answer part\n",
       "        var aDiv = document.createElement('div');\n",
       "        aDiv.id = \"quizAns\" + id + index;\n",
       "        aDiv.className = 'Answer';\n",
       "        iDiv.append(aDiv);\n",
       "\n",
       "        //console.log(qa.type);\n",
       "\n",
       "        var num_correct;\n",
       "        if ((qa.type == \"multiple_choice\") || (qa.type == \"many_choice\") ) {\n",
       "            num_correct = make_mc(qa, shuffle_answers, outerqDiv, qDiv, aDiv, id);\n",
       "            if (\"answer_cols\" in qa) {\n",
       "                //aDiv.style.gridTemplateColumns = 'auto '.repeat(qa.answer_cols);\n",
       "                aDiv.style.gridTemplateColumns = 'repeat(' + qa.answer_cols + ', 1fr)';\n",
       "            }\n",
       "        } else if (qa.type == \"numeric\") {\n",
       "            //console.log(\"numeric\");\n",
       "            make_numeric(qa, outerqDiv, qDiv, aDiv, id);\n",
       "        }\n",
       "\n",
       "\n",
       "        //Make div for feedback\n",
       "        var fb = document.createElement(\"div\");\n",
       "        fb.id = \"fb\" + id;\n",
       "        //fb.style=\"font-size: 20px;text-align:center;\";\n",
       "        fb.className = \"Feedback\";\n",
       "        fb.setAttribute(\"data-answeredcorrect\", 0);\n",
       "        fb.setAttribute(\"data-numcorrect\", num_correct);\n",
       "        iDiv.append(fb);\n",
       "\n",
       "\n",
       "    });\n",
       "    var preserveResponses = mydiv.dataset.preserveresponses;\n",
       "    console.log(preserveResponses);\n",
       "    console.log(preserveResponses == \"true\");\n",
       "    if (preserveResponses == \"true\") {\n",
       "        console.log(preserveResponses);\n",
       "        // Create Div to contain record of answers\n",
       "        var iDiv = document.createElement('div');\n",
       "        iDiv.id = 'responses' + mydiv.id;\n",
       "        iDiv.className = 'JCResponses';\n",
       "        // Create a place to store responses as an empty array\n",
       "        iDiv.setAttribute('data-responses', '[]');\n",
       "\n",
       "        // Dummy Text\n",
       "        iDiv.innerHTML=\"<b>Select your answers and then follow the directions that will appear here.</b>\"\n",
       "        //iDiv.className = 'Quiz';\n",
       "        mydiv.appendChild(iDiv);\n",
       "    }\n",
       "//console.log(\"At end of show_questions\");\n",
       "    if (typeof MathJax != 'undefined') {\n",
       "        console.log(\"MathJax version\", MathJax.version);\n",
       "        var version = MathJax.version;\n",
       "        setTimeout(function(){\n",
       "            var version = MathJax.version;\n",
       "            console.log('After sleep, MathJax version', version);\n",
       "            if (version[0] == \"2\") {\n",
       "                MathJax.Hub.Queue([\"Typeset\", MathJax.Hub]);\n",
       "            } else if (version[0] == \"3\") {\n",
       "                MathJax.typeset([mydiv]);\n",
       "            }\n",
       "        }, 500);\n",
       "if (typeof version == 'undefined') {\n",
       "        } else\n",
       "        {\n",
       "            if (version[0] == \"2\") {\n",
       "                MathJax.Hub.Queue([\"Typeset\", MathJax.Hub]);\n",
       "            } else if (version[0] == \"3\") {\n",
       "                MathJax.typeset([mydiv]);\n",
       "            } else {\n",
       "                console.log(\"MathJax not found\");\n",
       "            }\n",
       "        }\n",
       "    }\n",
       "    return false;\n",
       "}\n",
       "/* This is to handle asynchrony issues in loading Jupyter notebooks\n",
       "           where the quiz has been previously run. The Javascript was generally\n",
       "           being run before the div was added to the DOM. I tried to do this\n",
       "           more elegantly using Mutation Observer, but I didn't get it to work.\n",
       "\n",
       "           Someone more knowledgeable could make this better ;-) */\n",
       "\n",
       "        function try_show() {\n",
       "          if(document.getElementById(\"IWWVrxusPKBF\")) {\n",
       "            show_questions(questionsIWWVrxusPKBF,  IWWVrxusPKBF); \n",
       "          } else {\n",
       "             setTimeout(try_show, 200);\n",
       "          }\n",
       "        };\n",
       "    \n",
       "        {\n",
       "        // console.log(element);\n",
       "\n",
       "        //console.log(\"IWWVrxusPKBF\");\n",
       "        // console.log(document.getElementById(\"IWWVrxusPKBF\"));\n",
       "\n",
       "        try_show();\n",
       "        }\n",
       "        "
      ],
      "text/plain": [
       "<IPython.core.display.Javascript object>"
      ]
     },
     "metadata": {},
     "output_type": "display_data"
    }
   ],
   "source": [
    "from jupyterquiz import display_quiz\n",
    "display_quiz('.quiz.json')"
   ]
  },
  {
   "cell_type": "markdown",
   "metadata": {
    "id": "w1qpmbK0HD4C"
   },
   "source": [
    "# Summary\n",
    "\n"
   ]
  },
  {
   "cell_type": "markdown",
   "metadata": {
    "id": "vFP3-Z6THD4E"
   },
   "source": [
    "We learned how to solve different types of first-order differential equations. Linear equations can be solved by integration, which has the benefit of providing an estimate of error if the `scipy.integrate.quad` function is used.\n",
    "\n",
    "Most first-order differential equations can be solved numerically with `scipy.integrate.solve_ivp`. This solver allows you to specify the points the solution is evaluated on, and to define event functions that can terminate the integration, or record where events occur.\n",
    "\n"
   ]
  },
  {
   "cell_type": "markdown",
   "metadata": {},
   "source": [
    "```{tip}\n",
    "\n",
    "Take some time to make some flash cards for yourself on all the functions in this lecture; there are a lot of new ones!\n",
    "```"
   ]
  }
 ],
 "metadata": {
  "colab": {
   "collapsed_sections": [
    "g8TgvmDIHD1Q"
   ],
   "name": "03-fode-1.ipynb",
   "provenance": []
  },
  "kernelspec": {
   "display_name": "Python 3",
   "language": "python",
   "name": "python3"
  },
  "language_info": {
   "codemirror_mode": {
    "name": "ipython",
    "version": 3
   },
   "file_extension": ".py",
   "mimetype": "text/x-python",
   "name": "python",
   "nbconvert_exporter": "python",
   "pygments_lexer": "ipython3",
   "version": "3.9.7"
  },
  "org": {
   "KEYWORDS": "integration, quad, zeros, shape, enumerate, solve_ivp"
  },
  "widgets": {
   "application/vnd.jupyter.widget-state+json": {
    "state": {},
    "version_major": 2,
    "version_minor": 0
   }
  }
 },
 "nbformat": 4,
 "nbformat_minor": 4
}
