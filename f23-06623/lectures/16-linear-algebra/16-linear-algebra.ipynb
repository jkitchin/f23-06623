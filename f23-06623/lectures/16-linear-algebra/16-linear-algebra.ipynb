{
 "cells": [
  {
   "cell_type": "markdown",
   "metadata": {
    "id": "-CW0Gl1DRKmh"
   },
   "source": [
    "[TOC](../toc.ipynb)\n",
    "\n",
    "Linear algebraic equations\n",
    "===========================\n",
    "\n",
    "\n",
    "- KEYWORDS: numpy.linalg.solve"
   ]
  },
  {
   "cell_type": "markdown",
   "metadata": {},
   "source": [
    "![img](pumpkin-pi.png)"
   ]
  },
  {
   "cell_type": "markdown",
   "metadata": {
    "id": "XT8N9XPDRKmp"
   },
   "source": [
    "Linear algebra is used extensively in engineering applications. Here we consider some examples.\n",
    "\n"
   ]
  },
  {
   "cell_type": "markdown",
   "metadata": {
    "id": "uoQWUaouRKmt"
   },
   "source": [
    "# Application in reaction engineering - Steady state CSTR\n",
    "\n"
   ]
  },
  {
   "cell_type": "markdown",
   "metadata": {
    "id": "4EKpW5kwRKmv"
   },
   "source": [
    "Suppose we have first order reactions occurring in a CSTR. We can represent the concentrations of each species in the reactor as a vector: $C = [C_A, C_C, C_D, ...]$.\n",
    "\n",
    "Let the reactions be $A \\rightarrow C$ and $C \\rightarrow D$. These reactions happen at these rates:\n",
    "\n",
    "$r_1 = k_1 C_A$ and $r_2 = k_2 C_C$.\n",
    "\n",
    "We assume a constant volume $V$, and volumetric flow rate $\\nu$ into a CSTR, and steady state. It is convenient to define $\\tau = V / \\nu$. With these assumptions, we can derive the following species mole balances:\n",
    "\n",
    "$0 = C_{A, feed} - C_A - \\tau k_1 C_A$\n",
    "\n",
    "$0 = C_{C, feed} - C_C + \\tau k_1 C_A - \\tau k_2 C_C$\n",
    "\n",
    "$0 = C_{D, feed} - C_D + \\tau k_2 C_C$\n",
    "\n",
    "These are not particularly in a useful form, since they do not resemble $\\mathbf{A} \\mathbf{x} = \\mathbf{b}$. We can rearrange them to achieve that. We need all the variables on the left, and any constant terms on the right.\n",
    "\n",
    "$C_A + \\tau k_1 C_A = C_{A, feed}$\n",
    "\n",
    "$C_C - \\tau k_1 C_A + \\tau k_2 C_C = C_{C, feed}$\n",
    "\n",
    "$C_D - \\tau k_2 C_C = C_{D, feed}$\n",
    "\n",
    "Now, we can start to see some structure emerge. Let $\\mathbf{C} = [C_A, C_C, C_D]$.\n",
    "\n",
    "Let $\\mathbf{A} = \\left[\\begin{array}{ccc}\n",
    " 1 + \\tau k_1 & 0 & 0 \\\\\n",
    " -\\tau k_1 & 1 + \\tau k_2 & 0 \\\\\n",
    " 0 & -\\tau k_2 & 1\n",
    " \\end{array}\\right]$\n",
    "\n",
    "and finally, we have $\\mathbf{C_{feed}} = [C_{A,feed}, C_{C, feed}, C_{D, feed}]$. Or, all together:\n",
    "\n",
    "$\\mathbf{A} \\mathbf{C} = \\mathbf{C_{feed}}$.\n",
    "\n",
    "Note that we have been talking about these as linear equations, but,  we may also think of them as transformations. Consider this:\n",
    "\n",
    "$\\mathbf{A}^{-1} \\mathbf{C_{feed}} = \\mathbf{C}$.\n",
    "\n",
    "Here we can see that $\\mathbf{A}^{-1}$ transforms the feed concentrations into the exit concentrations.\n",
    "\n",
    "Solving these equations is now straightfoward:"
   ]
  },
  {
   "cell_type": "code",
   "execution_count": 1,
   "metadata": {
    "colab": {
     "base_uri": "https://localhost:8080/"
    },
    "executionInfo": {
     "elapsed": 180,
     "status": "ok",
     "timestamp": 1635855140165,
     "user": {
      "displayName": "John Kitchin",
      "photoUrl": "https://lh3.googleusercontent.com/a/default-user=s64",
      "userId": "14782011281593705406"
     },
     "user_tz": 240
    },
    "id": "Y_FWl6G8RKmz",
    "outputId": "bcbefa1a-becb-4f4a-dd2e-91d9562628ec"
   },
   "outputs": [
    {
     "name": "stdout",
     "output_type": "stream",
     "text": [
      "The exit concentrations are C_A=0.33, C_C=0.15, C_D=1.72 mol/L\n"
     ]
    }
   ],
   "source": [
    "import numpy as np\n",
    "\n",
    "tau = 2.5  # Residence time (min)\n",
    "C_feed = [2.2, 0.0, 0.0]  # mol / L\n",
    "k1 = 2.3  # 1/min\n",
    "k2 = 4.5  # 1/min\n",
    "\n",
    "A = np.array(\n",
    "    [[1 + tau * k1, 0.0, 0.0], [-tau * k1, 1 + tau * k2, 0.0], [0.0, -tau * k2, 1]]\n",
    ")\n",
    "\n",
    "C_A, C_C, C_D = np.linalg.solve(A, C_feed)\n",
    "\n",
    "print(f\"The exit concentrations are C_A={C_A:1.2f}, C_C={C_C:1.2f}, C_D={C_D:1.2f} mol/L\")"
   ]
  },
  {
   "cell_type": "markdown",
   "metadata": {},
   "source": [
    "You can check your answer with other ways."
   ]
  },
  {
   "cell_type": "code",
   "execution_count": 2,
   "metadata": {
    "colab": {
     "base_uri": "https://localhost:8080/"
    },
    "executionInfo": {
     "elapsed": 108,
     "status": "ok",
     "timestamp": 1635855330845,
     "user": {
      "displayName": "John Kitchin",
      "photoUrl": "https://lh3.googleusercontent.com/a/default-user=s64",
      "userId": "14782011281593705406"
     },
     "user_tz": 240
    },
    "id": "vwHRAj1hUl6n",
    "outputId": "2fcb5f03-72cf-41a4-bd5b-c61109e7e37f"
   },
   "outputs": [
    {
     "name": "stdout",
     "output_type": "stream",
     "text": [
      "sol = [0.33 0.15 1.72]\n"
     ]
    }
   ],
   "source": [
    "sol = np.linalg.inv(A) @ C_feed\n",
    "\n",
    "with np.printoptions(precision=2):\n",
    "    print(f\"sol = {sol}\")"
   ]
  },
  {
   "cell_type": "markdown",
   "metadata": {},
   "source": [
    "And we can see the solution works like this, e.g. A @ C = C_feed"
   ]
  },
  {
   "cell_type": "code",
   "execution_count": 3,
   "metadata": {
    "colab": {
     "base_uri": "https://localhost:8080/"
    },
    "executionInfo": {
     "elapsed": 121,
     "status": "ok",
     "timestamp": 1635855371114,
     "user": {
      "displayName": "John Kitchin",
      "photoUrl": "https://lh3.googleusercontent.com/a/default-user=s64",
      "userId": "14782011281593705406"
     },
     "user_tz": 240
    },
    "id": "GryeCtNdU1C9",
    "outputId": "aecd5060-b409-4144-9ee7-ebf9ddc8348a"
   },
   "outputs": [
    {
     "data": {
      "text/plain": [
       "True"
      ]
     },
     "execution_count": 3,
     "metadata": {},
     "output_type": "execute_result"
    }
   ],
   "source": [
    "np.allclose(A @ [C_A, C_C, C_D], C_feed)"
   ]
  },
  {
   "cell_type": "markdown",
   "metadata": {},
   "source": [
    "We can also see that the matrix is rank 3, with a non-zero determinant, so for three unknowns, we expect a unique solution."
   ]
  },
  {
   "cell_type": "code",
   "execution_count": 4,
   "metadata": {
    "colab": {
     "base_uri": "https://localhost:8080/"
    },
    "executionInfo": {
     "elapsed": 114,
     "status": "ok",
     "timestamp": 1635855386208,
     "user": {
      "displayName": "John Kitchin",
      "photoUrl": "https://lh3.googleusercontent.com/a/default-user=s64",
      "userId": "14782011281593705406"
     },
     "user_tz": 240
    },
    "id": "teB53OtzWZ6A",
    "outputId": "fd4e3ba9-46d7-4dfc-e181-d6e8528bb724"
   },
   "outputs": [
    {
     "data": {
      "text/plain": [
       "3"
      ]
     },
     "execution_count": 4,
     "metadata": {},
     "output_type": "execute_result"
    }
   ],
   "source": [
    "np.linalg.matrix_rank(A)"
   ]
  },
  {
   "cell_type": "code",
   "execution_count": 5,
   "metadata": {
    "colab": {
     "base_uri": "https://localhost:8080/"
    },
    "executionInfo": {
     "elapsed": 153,
     "status": "ok",
     "timestamp": 1635855389317,
     "user": {
      "displayName": "John Kitchin",
      "photoUrl": "https://lh3.googleusercontent.com/a/default-user=s64",
      "userId": "14782011281593705406"
     },
     "user_tz": 240
    },
    "id": "sl61A0zbXMwE",
    "outputId": "ff0de35f-f625-4a46-e7b9-05e6dddd0c97"
   },
   "outputs": [
    {
     "data": {
      "text/plain": [
       "82.6875"
      ]
     },
     "execution_count": 5,
     "metadata": {},
     "output_type": "execute_result"
    }
   ],
   "source": [
    "np.linalg.det(A)"
   ]
  },
  {
   "cell_type": "markdown",
   "metadata": {
    "id": "jhTzZzBSRKnN"
   },
   "source": [
    "## Finding independent reactions\n",
    "\n"
   ]
  },
  {
   "cell_type": "markdown",
   "metadata": {
    "id": "w17sqqurRKnP"
   },
   "source": [
    "reference: Exercise 2.4 in Chemical Reactor Analysis and Design Fundamentals by Rawlings and Ekerdt.\n",
    "\n",
    "The following reactions are proposed in the hydrogenation of bromine. The reactions are defined by $\\mathbf{M} \\mathbf{v}$  where $\\mathbf{M}$ is a stoichometric matrix in which each row represents a reaction with negative stoichiometric coefficients for reactants, and positive stoichiometric coefficients for products. A stoichiometric coefficient of 0 is used for species not participating in the reaction.  The species vector is $\\mathbf{v}$ = [H2 H Br2 Br HBr].T\n",
    "\n"
   ]
  },
  {
   "cell_type": "code",
   "execution_count": 6,
   "metadata": {
    "executionInfo": {
     "elapsed": 139,
     "status": "ok",
     "timestamp": 1635855665393,
     "user": {
      "displayName": "John Kitchin",
      "photoUrl": "https://lh3.googleusercontent.com/a/default-user=s64",
      "userId": "14782011281593705406"
     },
     "user_tz": 240
    },
    "id": "01vXC7DnRKnR"
   },
   "outputs": [],
   "source": [
    "#              [H2  H Br2  Br  HBr]\n",
    "M = np.array([[-1, 0, -1, 0, 2],  # H2 + Br2 == 2HBR\n",
    "              [0, 0, -1, 2, 0],  # Br2 == 2Br\n",
    "              [-1, 1, 0, -1, 1],  # Br + H2 == HBr + H\n",
    "              [0, -1, -1, 1, 1],  # H + Br2 == HBr + Br\n",
    "              [1, -1, 0, 1, -1],  # H + HBr == H2 + Br\n",
    "              [0, 0, 1, -2, 0]])  # 2Br == Br2"
   ]
  },
  {
   "cell_type": "markdown",
   "metadata": {
    "id": "OPLkXhJ0RKnd"
   },
   "source": [
    "We can check to see how many independent rows there are, this is equal to the rank of the matrix."
   ]
  },
  {
   "cell_type": "code",
   "execution_count": 7,
   "metadata": {
    "colab": {
     "base_uri": "https://localhost:8080/"
    },
    "executionInfo": {
     "elapsed": 121,
     "status": "ok",
     "timestamp": 1635855667594,
     "user": {
      "displayName": "John Kitchin",
      "photoUrl": "https://lh3.googleusercontent.com/a/default-user=s64",
      "userId": "14782011281593705406"
     },
     "user_tz": 240
    },
    "id": "J6LQQk2ARKnf",
    "outputId": "482af8d7-8147-4328-c999-ab19610fbfb2"
   },
   "outputs": [
    {
     "data": {
      "text/plain": [
       "3"
      ]
     },
     "execution_count": 7,
     "metadata": {},
     "output_type": "execute_result"
    }
   ],
   "source": [
    "np.linalg.matrix_rank(M)"
   ]
  },
  {
   "cell_type": "markdown",
   "metadata": {
    "id": "ikp4oLcuRKnq"
   },
   "source": [
    "You can see based on this result that there are only three independent equations. Now we consider how to identify three of them. We need to manipulate $\\mathbf{M}$ to eliminate at least three rows. We can see by inspection that rows 1 and 5 are linearly related. If we add row 1 to row 5, we will get a row of zeros. That means these two rows are linearly dependent.\n",
    "\n"
   ]
  },
  {
   "cell_type": "code",
   "execution_count": 8,
   "metadata": {
    "colab": {
     "base_uri": "https://localhost:8080/"
    },
    "executionInfo": {
     "elapsed": 141,
     "status": "ok",
     "timestamp": 1635855719328,
     "user": {
      "displayName": "John Kitchin",
      "photoUrl": "https://lh3.googleusercontent.com/a/default-user=s64",
      "userId": "14782011281593705406"
     },
     "user_tz": 240
    },
    "id": "2C1QPRCzmVBJ",
    "outputId": "9be7b73a-b227-4eab-ec45-bf9961afe232"
   },
   "outputs": [
    {
     "data": {
      "text/plain": [
       "array([[-1,  0, -1,  0,  2],\n",
       "       [ 0,  0, -1,  2,  0],\n",
       "       [-1,  1,  0, -1,  1],\n",
       "       [ 0, -1, -1,  1,  1],\n",
       "       [ 1, -1,  0,  1, -1],\n",
       "       [ 0,  0,  1, -2,  0]])"
      ]
     },
     "execution_count": 8,
     "metadata": {},
     "output_type": "execute_result"
    }
   ],
   "source": [
    "M"
   ]
  },
  {
   "cell_type": "code",
   "execution_count": 9,
   "metadata": {
    "colab": {
     "base_uri": "https://localhost:8080/"
    },
    "executionInfo": {
     "elapsed": 142,
     "status": "ok",
     "timestamp": 1635855766990,
     "user": {
      "displayName": "John Kitchin",
      "photoUrl": "https://lh3.googleusercontent.com/a/default-user=s64",
      "userId": "14782011281593705406"
     },
     "user_tz": 240
    },
    "id": "ieidrEepRKns",
    "outputId": "3f812bc0-32de-4342-a62a-47f72ed7b61d"
   },
   "outputs": [
    {
     "data": {
      "text/plain": [
       "array([[-1,  0, -1,  0,  2],\n",
       "       [ 0,  0, -1,  2,  0],\n",
       "       [-1,  1,  0, -1,  1],\n",
       "       [ 0, -1, -1,  1,  1],\n",
       "       [ 1, -1,  0,  1, -1],\n",
       "       [ 0,  0,  0,  0,  0]])"
      ]
     },
     "execution_count": 9,
     "metadata": {},
     "output_type": "execute_result"
    }
   ],
   "source": [
    "M[5] += M[1]  # This modifies the array: M[5] = M[5] + M[1]\n",
    "M"
   ]
  },
  {
   "cell_type": "markdown",
   "metadata": {
    "id": "tlHcqtxmRKn3"
   },
   "source": [
    "Further inspection shows Row 0 is the sum of rows 2 and 3.\n",
    "\n"
   ]
  },
  {
   "cell_type": "code",
   "execution_count": 10,
   "metadata": {
    "colab": {
     "base_uri": "https://localhost:8080/"
    },
    "executionInfo": {
     "elapsed": 117,
     "status": "ok",
     "timestamp": 1635855840802,
     "user": {
      "displayName": "John Kitchin",
      "photoUrl": "https://lh3.googleusercontent.com/a/default-user=s64",
      "userId": "14782011281593705406"
     },
     "user_tz": 240
    },
    "id": "8CIgnXQFRKn5",
    "outputId": "b53bfc3e-4a7a-47f6-bf3c-9a61f52aced4"
   },
   "outputs": [
    {
     "data": {
      "text/plain": [
       "array([[ 0,  0,  0,  0,  0],\n",
       "       [ 0,  0, -1,  2,  0],\n",
       "       [-1,  1,  0, -1,  1],\n",
       "       [ 0, -1, -1,  1,  1],\n",
       "       [ 1, -1,  0,  1, -1],\n",
       "       [ 0,  0,  0,  0,  0]])"
      ]
     },
     "execution_count": 10,
     "metadata": {},
     "output_type": "execute_result"
    }
   ],
   "source": [
    "M[0] -= M[2] + M[3]\n",
    "M"
   ]
  },
  {
   "cell_type": "markdown",
   "metadata": {
    "id": "dVW8oFL0RKoF"
   },
   "source": [
    "Finally reaction 2 is the opposite of reaction 4\n",
    "\n"
   ]
  },
  {
   "cell_type": "code",
   "execution_count": 11,
   "metadata": {
    "colab": {
     "base_uri": "https://localhost:8080/"
    },
    "executionInfo": {
     "elapsed": 307,
     "status": "ok",
     "timestamp": 1635855861185,
     "user": {
      "displayName": "John Kitchin",
      "photoUrl": "https://lh3.googleusercontent.com/a/default-user=s64",
      "userId": "14782011281593705406"
     },
     "user_tz": 240
    },
    "id": "G7wt8ICARKoH",
    "outputId": "802c625d-4d5d-4fc0-a010-2dfb5e95d4da"
   },
   "outputs": [
    {
     "data": {
      "text/plain": [
       "array([[ 0,  0,  0,  0,  0],\n",
       "       [ 0,  0, -1,  2,  0],\n",
       "       [ 0,  0,  0,  0,  0],\n",
       "       [ 0, -1, -1,  1,  1],\n",
       "       [ 1, -1,  0,  1, -1],\n",
       "       [ 0,  0,  0,  0,  0]])"
      ]
     },
     "execution_count": 11,
     "metadata": {},
     "output_type": "execute_result"
    }
   ],
   "source": [
    "M[2] += M[4]\n",
    "M"
   ]
  },
  {
   "cell_type": "markdown",
   "metadata": {
    "id": "mqptV__cRKoT"
   },
   "source": [
    "We have successfully eliminated three reactions by linear combinations of other reactions. We can reorder the array like this to put the non-zero rows at the top.\n",
    "\n"
   ]
  },
  {
   "cell_type": "code",
   "execution_count": 12,
   "metadata": {
    "colab": {
     "base_uri": "https://localhost:8080/"
    },
    "executionInfo": {
     "elapsed": 141,
     "status": "ok",
     "timestamp": 1635855904590,
     "user": {
      "displayName": "John Kitchin",
      "photoUrl": "https://lh3.googleusercontent.com/a/default-user=s64",
      "userId": "14782011281593705406"
     },
     "user_tz": 240
    },
    "id": "cqeFdoZzRKoV",
    "outputId": "934450c6-5979-4206-b846-3e856f0a22c9"
   },
   "outputs": [
    {
     "data": {
      "text/plain": [
       "array([[ 0,  0, -1,  2,  0],\n",
       "       [ 0, -1, -1,  1,  1],\n",
       "       [ 1, -1,  0,  1, -1],\n",
       "       [ 0,  0,  0,  0,  0],\n",
       "       [ 0,  0,  0,  0,  0],\n",
       "       [ 0,  0,  0,  0,  0]])"
      ]
     },
     "execution_count": 12,
     "metadata": {},
     "output_type": "execute_result"
    }
   ],
   "source": [
    "M[[1, 3, 4, 0, 2, 5]]  # indexing to reorder the array"
   ]
  },
  {
   "cell_type": "markdown",
   "metadata": {
    "id": "c2cAjjnGRKof"
   },
   "source": [
    "It would be nice to print these in a more readable form. That requires some iteration, and combining the labels and coefficients. \n",
    "\n",
    "```{sidebar}\n",
    "We review some ways to do this here.\n",
    "```"
   ]
  },
  {
   "cell_type": "code",
   "execution_count": 13,
   "metadata": {
    "colab": {
     "base_uri": "https://localhost:8080/"
    },
    "executionInfo": {
     "elapsed": 137,
     "status": "ok",
     "timestamp": 1635856600828,
     "user": {
      "displayName": "John Kitchin",
      "photoUrl": "https://lh3.googleusercontent.com/a/default-user=s64",
      "userId": "14782011281593705406"
     },
     "user_tz": 240
    },
    "id": "nKJOUY9So22i",
    "outputId": "0a3e435c-9001-4f92-8fec-b8627ec76907"
   },
   "outputs": [
    {
     "name": "stdout",
     "output_type": "stream",
     "text": [
      "1 a\n",
      "2 b\n",
      "3 c\n",
      "4 d\n"
     ]
    }
   ],
   "source": [
    "for a, b in zip([1, 2, 3, 4], [\"a\", \"b\", \"c\", \"d\"]):\n",
    "    print(a, b)"
   ]
  },
  {
   "cell_type": "markdown",
   "metadata": {},
   "source": [
    "Or alternatively using enumerate"
   ]
  },
  {
   "cell_type": "code",
   "execution_count": 14,
   "metadata": {
    "colab": {
     "base_uri": "https://localhost:8080/"
    },
    "executionInfo": {
     "elapsed": 114,
     "status": "ok",
     "timestamp": 1635856589115,
     "user": {
      "displayName": "John Kitchin",
      "photoUrl": "https://lh3.googleusercontent.com/a/default-user=s64",
      "userId": "14782011281593705406"
     },
     "user_tz": 240
    },
    "id": "zWTb5g28pIFo",
    "outputId": "8ce3785d-0a67-46d9-b476-22a6b9941a6c"
   },
   "outputs": [
    {
     "name": "stdout",
     "output_type": "stream",
     "text": [
      "1 a\n",
      "2 b\n",
      "3 c\n",
      "4 d\n"
     ]
    }
   ],
   "source": [
    "B = [\"a\", \"b\", \"c\", \"d\"]\n",
    "for i, a in enumerate([1, 2, 3, 4]):\n",
    "    print(a, B[i])"
   ]
  },
  {
   "cell_type": "markdown",
   "metadata": {},
   "source": [
    "This also works, but is considered old-fashioned."
   ]
  },
  {
   "cell_type": "code",
   "execution_count": 15,
   "metadata": {
    "colab": {
     "base_uri": "https://localhost:8080/"
    },
    "executionInfo": {
     "elapsed": 122,
     "status": "ok",
     "timestamp": 1635856564832,
     "user": {
      "displayName": "John Kitchin",
      "photoUrl": "https://lh3.googleusercontent.com/a/default-user=s64",
      "userId": "14782011281593705406"
     },
     "user_tz": 240
    },
    "id": "YQySSF19pXVA",
    "outputId": "01270d9b-dc8e-4be7-c02b-9162169be07b"
   },
   "outputs": [
    {
     "name": "stdout",
     "output_type": "stream",
     "text": [
      "1 a\n",
      "2 b\n",
      "3 c\n",
      "4 d\n"
     ]
    }
   ],
   "source": [
    "A = [1, 2, 3, 4]\n",
    "for i in range(4):\n",
    "    print(A[i], B[i])"
   ]
  },
  {
   "cell_type": "markdown",
   "metadata": {},
   "source": [
    "Now we consider a few different ways we can combine these. First, we use an \"equation\" form where everything is on the right hand side, and we use a sign to indicate (-) reactants and (+) products. The sign is entered in the format string with +."
   ]
  },
  {
   "cell_type": "code",
   "execution_count": 16,
   "metadata": {
    "colab": {
     "base_uri": "https://localhost:8080/"
    },
    "executionInfo": {
     "elapsed": 121,
     "status": "ok",
     "timestamp": 1635856362606,
     "user": {
      "displayName": "John Kitchin",
      "photoUrl": "https://lh3.googleusercontent.com/a/default-user=s64",
      "userId": "14782011281593705406"
     },
     "user_tz": 240
    },
    "id": "MrfRZh_7oLCn",
    "outputId": "3de72cf8-721c-41be-bd6d-eb5def4feef2"
   },
   "outputs": [
    {
     "name": "stdout",
     "output_type": "stream",
     "text": [
      "0 =  +0H2 +0H -1Br2 +2Br +0HBr\n",
      "0 =  +0H2 -1H -1Br2 +1Br +1HBr\n",
      "0 =  +1H2 -1H +0Br2 +1Br -1HBr\n",
      "0 =  +0H2 +0H +0Br2 +0Br +0HBr\n",
      "0 =  +0H2 +0H +0Br2 +0Br +0HBr\n",
      "0 =  +0H2 +0H +0Br2 +0Br +0HBr\n"
     ]
    }
   ],
   "source": [
    "labels = [\"H2\", \"H\", \"Br2\", \"Br\", \"HBr\"]\n",
    "for row in M[[1, 3, 4, 0, 2, 5]]:\n",
    "    s = \"0 = \"\n",
    "    for nu, species in zip(row, labels):\n",
    "        s += f\" {int(nu):+d}{species}\"\n",
    "    print(s)"
   ]
  },
  {
   "cell_type": "markdown",
   "metadata": {},
   "source": [
    "That is not too beautiful. We usually do not include reactants with stoichiometric coefficients of 0. Next, we eliminate those. Some rows are all 0, so we eliminate those too."
   ]
  },
  {
   "cell_type": "code",
   "execution_count": 17,
   "metadata": {
    "colab": {
     "base_uri": "https://localhost:8080/"
    },
    "executionInfo": {
     "elapsed": 162,
     "status": "ok",
     "timestamp": 1635856134470,
     "user": {
      "displayName": "John Kitchin",
      "photoUrl": "https://lh3.googleusercontent.com/a/default-user=s64",
      "userId": "14782011281593705406"
     },
     "user_tz": 240
    },
    "id": "Dmi0vDp1RKoh",
    "outputId": "f5c669d7-3aac-44db-9ebb-5c5a5847130a"
   },
   "outputs": [
    {
     "name": "stdout",
     "output_type": "stream",
     "text": [
      "0 =  -1Br2 +2Br\n",
      "0 =  -1H -1Br2 +1Br +1HBr\n",
      "0 =  +1H2 -1H +1Br -1HBr\n"
     ]
    }
   ],
   "source": [
    "labels = [\"H2\", \"H\", \"Br2\", \"Br\", \"HBr\"]\n",
    "for row in M:\n",
    "    if not np.all(row == 0):  # ignore rows that are all zeros\n",
    "        s = \"0 = \"\n",
    "        for nu, species in zip(row, labels):\n",
    "            if nu != 0:\n",
    "                s += f\" {int(nu):+d}{species}\"\n",
    "        print(s)"
   ]
  },
  {
   "cell_type": "markdown",
   "metadata": {
    "id": "GgfCkvYIRKoq"
   },
   "source": [
    "That representation is a little clunky, but it is tricky to get more conventional looking reactions. Here we accumulate strings in a list, and then we join them."
   ]
  },
  {
   "cell_type": "code",
   "execution_count": 18,
   "metadata": {
    "colab": {
     "base_uri": "https://localhost:8080/",
     "height": 35
    },
    "executionInfo": {
     "elapsed": 147,
     "status": "ok",
     "timestamp": 1635856765313,
     "user": {
      "displayName": "John Kitchin",
      "photoUrl": "https://lh3.googleusercontent.com/a/default-user=s64",
      "userId": "14782011281593705406"
     },
     "user_tz": 240
    },
    "id": "P__-twTgqNn0",
    "outputId": "a536972d-4138-4e4f-b201-c7b4ccd30e77"
   },
   "outputs": [
    {
     "data": {
      "text/plain": [
       "'a = b = c'"
      ]
     },
     "execution_count": 18,
     "metadata": {},
     "output_type": "execute_result"
    }
   ],
   "source": [
    "\" = \".join([\"a\", \"b\", \"c\"])  # joining a list of string"
   ]
  },
  {
   "cell_type": "code",
   "execution_count": 19,
   "metadata": {
    "colab": {
     "base_uri": "https://localhost:8080/"
    },
    "executionInfo": {
     "elapsed": 150,
     "status": "ok",
     "timestamp": 1635856722079,
     "user": {
      "displayName": "John Kitchin",
      "photoUrl": "https://lh3.googleusercontent.com/a/default-user=s64",
      "userId": "14782011281593705406"
     },
     "user_tz": 240
    },
    "id": "gQYN6ynDRKos",
    "outputId": "6a7158ed-e022-4744-ed80-d498b4f73094"
   },
   "outputs": [
    {
     "name": "stdout",
     "output_type": "stream",
     "text": [
      " Br2 ->  2Br\n",
      " H +  Br2 ->  Br +  HBr\n",
      " H +  HBr ->  H2 +  Br\n"
     ]
    }
   ],
   "source": [
    "labels = [\"H2\", \"H\", \"Br2\", \"Br\", \"HBr\"]\n",
    "for row in M:\n",
    "    if not np.all(row == 0):\n",
    "        reactants, products = [], []\n",
    "        for nu, species in zip(row, labels):\n",
    "            if nu < 0:\n",
    "                reactants += [f' {\"\" if nu == -1 else -int(nu)}{species}']\n",
    "            elif nu > 0:\n",
    "                products += [f' {\"\" if nu == 1 else int(nu)}{species}']\n",
    "        reactants = \" + \".join(reactants)\n",
    "        products = \" + \".join(products)\n",
    "        print(f\"{reactants} -> {products}\")"
   ]
  },
  {
   "cell_type": "markdown",
   "metadata": {
    "id": "PcYYfN4dRKo2"
   },
   "source": [
    "What we did by hand was to put the matrix into reduced row echelon form. It is not common to do this by hand. One way to get the computer to do this for you is to use [sympy](https://www.sympy.org/en/index.html). This is a symbolic math package for Python that is similar to Mathematica and Maple in its ability to do symbolic (as opposed to numeric) manipulations.\n",
    "\n"
   ]
  },
  {
   "cell_type": "code",
   "execution_count": 20,
   "metadata": {
    "executionInfo": {
     "elapsed": 156,
     "status": "ok",
     "timestamp": 1635856910739,
     "user": {
      "displayName": "John Kitchin",
      "photoUrl": "https://lh3.googleusercontent.com/a/default-user=s64",
      "userId": "14782011281593705406"
     },
     "user_tz": 240
    },
    "id": "TaT_hf3wRKo3"
   },
   "outputs": [
    {
     "data": {
      "text/plain": [
       "\u001b[0;31mSignature:\u001b[0m\n",
       "\u001b[0msympy\u001b[0m\u001b[0;34m.\u001b[0m\u001b[0mMatrix\u001b[0m\u001b[0;34m.\u001b[0m\u001b[0mrref\u001b[0m\u001b[0;34m(\u001b[0m\u001b[0;34m\u001b[0m\n",
       "\u001b[0;34m\u001b[0m    \u001b[0mself\u001b[0m\u001b[0;34m,\u001b[0m\u001b[0;34m\u001b[0m\n",
       "\u001b[0;34m\u001b[0m    \u001b[0miszerofunc\u001b[0m\u001b[0;34m=\u001b[0m\u001b[0;34m<\u001b[0m\u001b[0mfunction\u001b[0m \u001b[0m_iszero\u001b[0m \u001b[0mat\u001b[0m \u001b[0;36m0x129b1ddc0\u001b[0m\u001b[0;34m>\u001b[0m\u001b[0;34m,\u001b[0m\u001b[0;34m\u001b[0m\n",
       "\u001b[0;34m\u001b[0m    \u001b[0msimplify\u001b[0m\u001b[0;34m=\u001b[0m\u001b[0;32mFalse\u001b[0m\u001b[0;34m,\u001b[0m\u001b[0;34m\u001b[0m\n",
       "\u001b[0;34m\u001b[0m    \u001b[0mpivots\u001b[0m\u001b[0;34m=\u001b[0m\u001b[0;32mTrue\u001b[0m\u001b[0;34m,\u001b[0m\u001b[0;34m\u001b[0m\n",
       "\u001b[0;34m\u001b[0m    \u001b[0mnormalize_last\u001b[0m\u001b[0;34m=\u001b[0m\u001b[0;32mTrue\u001b[0m\u001b[0;34m,\u001b[0m\u001b[0;34m\u001b[0m\n",
       "\u001b[0;34m\u001b[0m\u001b[0;34m)\u001b[0m\u001b[0;34m\u001b[0m\u001b[0;34m\u001b[0m\u001b[0m\n",
       "\u001b[0;31mDocstring:\u001b[0m\n",
       "Return reduced row-echelon form of matrix and indices of pivot vars.\n",
       "\n",
       "Parameters\n",
       "==========\n",
       "\n",
       "iszerofunc : Function\n",
       "    A function used for detecting whether an element can\n",
       "    act as a pivot.  ``lambda x: x.is_zero`` is used by default.\n",
       "\n",
       "simplify : Function\n",
       "    A function used to simplify elements when looking for a pivot.\n",
       "    By default SymPy's ``simplify`` is used.\n",
       "\n",
       "pivots : True or False\n",
       "    If ``True``, a tuple containing the row-reduced matrix and a tuple\n",
       "    of pivot columns is returned.  If ``False`` just the row-reduced\n",
       "    matrix is returned.\n",
       "\n",
       "normalize_last : True or False\n",
       "    If ``True``, no pivots are normalized to `1` until after all\n",
       "    entries above and below each pivot are zeroed.  This means the row\n",
       "    reduction algorithm is fraction free until the very last step.\n",
       "    If ``False``, the naive row reduction procedure is used where\n",
       "    each pivot is normalized to be `1` before row operations are\n",
       "    used to zero above and below the pivot.\n",
       "\n",
       "Examples\n",
       "========\n",
       "\n",
       ">>> from sympy import Matrix\n",
       ">>> from sympy.abc import x\n",
       ">>> m = Matrix([[1, 2], [x, 1 - 1/x]])\n",
       ">>> m.rref()\n",
       "(Matrix([\n",
       "[1, 0],\n",
       "[0, 1]]), (0, 1))\n",
       ">>> rref_matrix, rref_pivots = m.rref()\n",
       ">>> rref_matrix\n",
       "Matrix([\n",
       "[1, 0],\n",
       "[0, 1]])\n",
       ">>> rref_pivots\n",
       "(0, 1)\n",
       "\n",
       "Notes\n",
       "=====\n",
       "\n",
       "The default value of ``normalize_last=True`` can provide significant\n",
       "speedup to row reduction, especially on matrices with symbols.  However,\n",
       "if you depend on the form row reduction algorithm leaves entries\n",
       "of the matrix, set ``noramlize_last=False``\n",
       "\u001b[0;31mFile:\u001b[0m      ~/opt/anaconda3/lib/python3.9/site-packages/sympy/matrices/matrices.py\n",
       "\u001b[0;31mType:\u001b[0m      function\n"
      ]
     },
     "metadata": {},
     "output_type": "display_data"
    }
   ],
   "source": [
    "import sympy\n",
    "\n",
    "sympy.Matrix.rref?"
   ]
  },
  {
   "cell_type": "markdown",
   "metadata": {
    "id": "JKi4NAWJ68rN"
   },
   "source": [
    "We can convert the `Matrix` to an array like this."
   ]
  },
  {
   "cell_type": "markdown",
   "metadata": {
    "id": "3-1ZYaIfRKpI"
   },
   "source": [
    "From here you can use the code from above to construct the equations.\n",
    "\n"
   ]
  },
  {
   "cell_type": "code",
   "execution_count": 21,
   "metadata": {},
   "outputs": [],
   "source": [
    "reduced_form, pivots = sympy.Matrix(M).rref()"
   ]
  },
  {
   "cell_type": "code",
   "execution_count": 22,
   "metadata": {
    "colab": {
     "base_uri": "https://localhost:8080/"
    },
    "executionInfo": {
     "elapsed": 184,
     "status": "ok",
     "timestamp": 1635857127185,
     "user": {
      "displayName": "John Kitchin",
      "photoUrl": "https://lh3.googleusercontent.com/a/default-user=s64",
      "userId": "14782011281593705406"
     },
     "user_tz": 240
    },
    "id": "VDBZyDaLRKpE",
    "outputId": "70356deb-13ab-4b1a-ddb9-ce1058b46580"
   },
   "outputs": [
    {
     "data": {
      "text/plain": [
       "array([[ 1,  0,  0,  2, -2],\n",
       "       [ 0,  1,  0,  1, -1],\n",
       "       [ 0,  0,  1, -2,  0],\n",
       "       [ 0,  0,  0,  0,  0],\n",
       "       [ 0,  0,  0,  0,  0],\n",
       "       [ 0,  0,  0,  0,  0]])"
      ]
     },
     "execution_count": 22,
     "metadata": {},
     "output_type": "execute_result"
    }
   ],
   "source": [
    "np.array(reduced_form).astype(int)"
   ]
  },
  {
   "cell_type": "code",
   "execution_count": 23,
   "metadata": {
    "colab": {
     "base_uri": "https://localhost:8080/"
    },
    "executionInfo": {
     "elapsed": 118,
     "status": "ok",
     "timestamp": 1635857131737,
     "user": {
      "displayName": "John Kitchin",
      "photoUrl": "https://lh3.googleusercontent.com/a/default-user=s64",
      "userId": "14782011281593705406"
     },
     "user_tz": 240
    },
    "id": "3nK4xMAQbfry",
    "outputId": "a40327d9-8e86-4aa7-bdd0-993d86e525ff"
   },
   "outputs": [
    {
     "name": "stdout",
     "output_type": "stream",
     "text": [
      " 2HBr ->  H2 +  2Br\n",
      " HBr ->  H +  Br\n",
      " 2Br ->  Br2\n"
     ]
    }
   ],
   "source": [
    "labels = [\"H2\", \"H\", \"Br2\", \"Br\", \"HBr\"]\n",
    "for row in np.array(reduced_form).astype(int):\n",
    "    if not np.all(row == 0):\n",
    "        reactants, products = [], []\n",
    "        for nu, species in zip(row, labels):\n",
    "            if nu < 0:\n",
    "                reactants += [f' {\"\" if nu == -1 else -int(nu)}{species}']\n",
    "            elif nu > 0:\n",
    "                products += [f' {\"\" if nu == 1 else int(nu)}{species}']\n",
    "        reactants = \" + \".join(reactants)\n",
    "        products = \" + \".join(products)\n",
    "        print(f\"{reactants} -> {products}\")"
   ]
  },
  {
   "cell_type": "markdown",
   "metadata": {
    "id": "i9R3kkjWRKpJ"
   },
   "source": [
    "## Application in linear boundary value problems\n",
    "\n"
   ]
  },
  {
   "cell_type": "markdown",
   "metadata": {
    "id": "wrkZsMBBRKpK"
   },
   "source": [
    "Let us consider pressure driven flow again.\n",
    "\n",
    "$\\frac{d^2 v_x}{dy^2} = \\frac{1}{\\mu}\\frac{\\Delta P}{\\Delta x}$\n",
    "\n",
    "This is a boundary value problem where $v_x(y=0) = 0$ and $v_x(y=B) = 0$. The solution is well-known and parabolic.\n",
    "\n",
    "We previously used `scipy.integrate.solve_bvp` for this. Recall that it is necessary to create an initial guess of the solution, and that can be tricky. Here we consider an alternative approach to solving it using a method of finite differences.\n",
    "\n",
    "We can write the second derivative as an approximate finite difference formula:\n",
    "\n",
    "$f''(x) \\approx \\frac{f(x + h) - 2 f(x) + f(x-h)}{h^2}$\n",
    "\n",
    "Let's discretize the domain and then see if we can solve for the velocity at the discretized points.\n",
    "\n",
    "At each point, we can estimate the second derivative as:\n",
    "\n",
    "$\\frac{d^2 v}{dy^2} \\approx \\frac{v_{j+1} - 2 v_j + v_{j-1}}{h^2} = \\frac{\\Delta P}{\\mu\\Delta x}$\n",
    "\n",
    "How does this help us? The $v_j$ are variables that we want to solve for. With a little rearrangement we have:\n",
    "\n",
    "$v_{j+1} - 2 v_j + v_{j-1} = \\frac{h^2 \\Delta P}{\\mu\\Delta x} = G$\n",
    "\n",
    "Let's write a few of these out, starting at $j=1$ up to $j=N-1$:\n",
    "\n",
    "$v_2 - 2 v_1 + v_0 = G$\n",
    "\n",
    "$v_3 - 2 v_2 + v_1 = G$\n",
    "\n",
    "&#x2026;\n",
    "\n",
    "$v_{N} - 2 v_{N-1} + v_{N-2} = G$\n",
    "\n",
    "If we define $\\mathbf{v} = [v_1, v_2, ... v_{N-1}]$ (remember we know $v_0$ and $v_{N}$ from the boundary conditions), we can see the following structure emerge:\n",
    "\n",
    "Let $\\mathbf{A} = \\left[\\begin{array}{ccccc}\n",
    " -2 & 1 & 0 & ... & 0 \\\\\n",
    " 1 & -2 & 1 & ...& 0\\\\\n",
    " \\vdots\\\\\n",
    " 0 & ... & 0 & 1 & -2\n",
    " \\end{array}\\right]$\n",
    "\n",
    "This matrix is sparse (most entries are zero), and diagonal. The diagonal is always -2, and the diagonal above and below the main diagonal is always 1. Note that some derivations of this move a minus sign into the $\\mathbf{G}$, but it does not change anything. Let's consider how to construct a matrix like this."
   ]
  },
  {
   "cell_type": "code",
   "execution_count": 24,
   "metadata": {
    "colab": {
     "base_uri": "https://localhost:8080/"
    },
    "executionInfo": {
     "elapsed": 127,
     "status": "ok",
     "timestamp": 1635858686653,
     "user": {
      "displayName": "John Kitchin",
      "photoUrl": "https://lh3.googleusercontent.com/a/default-user=s64",
      "userId": "14782011281593705406"
     },
     "user_tz": 240
    },
    "id": "jd6zWOvzRKpK",
    "outputId": "45323295-e665-4e59-c918-4baa604649af"
   },
   "outputs": [
    {
     "data": {
      "text/plain": [
       "array([[-2.,  1.,  0.,  0.,  0.],\n",
       "       [ 1., -2.,  1.,  0.,  0.],\n",
       "       [ 0.,  1., -2.,  1.,  0.],\n",
       "       [ 0.,  0.,  1., -2.,  1.],\n",
       "       [ 0.,  0.,  0.,  1., -2.]])"
      ]
     },
     "execution_count": 24,
     "metadata": {},
     "output_type": "execute_result"
    }
   ],
   "source": [
    "N = 5\n",
    "A = np.eye(N) * -2\n",
    "L = np.diag(np.ones(N - 1), -1)  # diagonal below the main\n",
    "U = np.diag(np.ones(N - 1), 1)  # diagonal above the main\n",
    "A + L + U"
   ]
  },
  {
   "cell_type": "code",
   "execution_count": 25,
   "metadata": {
    "colab": {
     "base_uri": "https://localhost:8080/"
    },
    "executionInfo": {
     "elapsed": 128,
     "status": "ok",
     "timestamp": 1635858986783,
     "user": {
      "displayName": "John Kitchin",
      "photoUrl": "https://lh3.googleusercontent.com/a/default-user=s64",
      "userId": "14782011281593705406"
     },
     "user_tz": 240
    },
    "id": "dEJ-EQF7yHDO",
    "outputId": "2f1efb85-b63a-43b1-cd12-2e273df9eb3f"
   },
   "outputs": [
    {
     "data": {
      "text/plain": [
       "array([[0., 0., 0., 0., 0.],\n",
       "       [1., 0., 0., 0., 0.],\n",
       "       [0., 1., 0., 0., 0.],\n",
       "       [0., 0., 1., 0., 0.],\n",
       "       [0., 0., 0., 1., 0.]])"
      ]
     },
     "execution_count": 25,
     "metadata": {},
     "output_type": "execute_result"
    }
   ],
   "source": [
    "# tricky and tedious way to build arrays by indexing\n",
    "Z = np.zeros((5, 5))\n",
    "for i in [1, 2, 3, 4]:\n",
    "    Z[i, i - 1] = 1\n",
    "Z"
   ]
  },
  {
   "cell_type": "code",
   "execution_count": 26,
   "metadata": {
    "colab": {
     "base_uri": "https://localhost:8080/"
    },
    "executionInfo": {
     "elapsed": 260,
     "status": "ok",
     "timestamp": 1635858728337,
     "user": {
      "displayName": "John Kitchin",
      "photoUrl": "https://lh3.googleusercontent.com/a/default-user=s64",
      "userId": "14782011281593705406"
     },
     "user_tz": 240
    },
    "id": "j89EG69peYTn",
    "outputId": "ca210b0e-9eeb-4eef-e2e6-3202a7700d12"
   },
   "outputs": [
    {
     "data": {
      "text/plain": [
       "array([[-2., -0., -0., -0., -0.],\n",
       "       [-0., -2., -0., -0., -0.],\n",
       "       [-0., -0., -2., -0., -0.],\n",
       "       [-0., -0., -0., -2., -0.],\n",
       "       [-0., -0., -0., -0., -2.]])"
      ]
     },
     "execution_count": 26,
     "metadata": {},
     "output_type": "execute_result"
    }
   ],
   "source": [
    "A"
   ]
  },
  {
   "cell_type": "code",
   "execution_count": 27,
   "metadata": {
    "colab": {
     "base_uri": "https://localhost:8080/"
    },
    "executionInfo": {
     "elapsed": 140,
     "status": "ok",
     "timestamp": 1635858732443,
     "user": {
      "displayName": "John Kitchin",
      "photoUrl": "https://lh3.googleusercontent.com/a/default-user=s64",
      "userId": "14782011281593705406"
     },
     "user_tz": 240
    },
    "id": "7CTfT2w2epDg",
    "outputId": "5c602f24-7f65-40be-8db3-fff5290518dd"
   },
   "outputs": [
    {
     "data": {
      "text/plain": [
       "array([[-2.,  1.,  0.,  0.,  0.],\n",
       "       [ 1., -2.,  1.,  0.,  0.],\n",
       "       [ 0.,  1., -2.,  1.,  0.],\n",
       "       [ 0.,  0.,  1., -2.,  1.],\n",
       "       [ 0.,  0.,  0.,  1., -2.]])"
      ]
     },
     "execution_count": 27,
     "metadata": {},
     "output_type": "execute_result"
    }
   ],
   "source": [
    "A + L + U"
   ]
  },
  {
   "cell_type": "markdown",
   "metadata": {
    "id": "m7ymdOtQRKpO"
   },
   "source": [
    "And we can define $\\mathbf{G} = [G - v_0, G, G, ..., G - v_N]$ so that we have the following linear equation that is easy to solve:\n",
    "\n",
    "$\\mathbf{A} \\mathbf{v} = \\mathbf{G}$. The only issue is how to code this up conveniently?\n",
    "\n"
   ]
  },
  {
   "cell_type": "code",
   "execution_count": 28,
   "metadata": {
    "colab": {
     "base_uri": "https://localhost:8080/"
    },
    "executionInfo": {
     "elapsed": 144,
     "status": "ok",
     "timestamp": 1635859324687,
     "user": {
      "displayName": "John Kitchin",
      "photoUrl": "https://lh3.googleusercontent.com/a/default-user=s64",
      "userId": "14782011281593705406"
     },
     "user_tz": 240
    },
    "id": "oqg7G3a5RKpU",
    "outputId": "73acbedc-d73c-4849-8aae-8a473a700ca8"
   },
   "outputs": [
    {
     "data": {
      "text/plain": [
       "array([[-2.,  1.,  0.,  0.,  0.,  0.,  0.,  0.],\n",
       "       [ 1., -2.,  1.,  0.,  0.,  0.,  0.,  0.],\n",
       "       [ 0.,  1., -2.,  1.,  0.,  0.,  0.,  0.],\n",
       "       [ 0.,  0.,  1., -2.,  1.,  0.,  0.,  0.],\n",
       "       [ 0.,  0.,  0.,  1., -2.,  1.,  0.,  0.],\n",
       "       [ 0.,  0.,  0.,  0.,  1., -2.,  1.,  0.],\n",
       "       [ 0.,  0.,  0.,  0.,  0.,  1., -2.,  1.],\n",
       "       [ 0.,  0.,  0.,  0.,  0.,  0.,  1., -2.]])"
      ]
     },
     "execution_count": 28,
     "metadata": {},
     "output_type": "execute_result"
    }
   ],
   "source": [
    "B = 0.2  # height of channel\n",
    "\n",
    "N = 10  # You need to use enough points to make sure the derivatives are\n",
    "# reasonably approximated\n",
    "\n",
    "y, h = np.linspace(0, B, N, retstep=True)\n",
    "\n",
    "A = np.eye(len(y) - 2) * -2\n",
    "L = np.diag(np.ones(len(y) - 3), -1)  # lower diagonal\n",
    "U = np.diag(np.ones(len(y) - 3), 1)  # upper diagonal\n",
    "A = A + L + U\n",
    "A  # always a good idea to check we have the right structure."
   ]
  },
  {
   "cell_type": "markdown",
   "metadata": {
    "id": "WNFrpe-2RKpa"
   },
   "source": [
    "Now we create the $\\mathbf{G}$ vector.\n",
    "\n"
   ]
  },
  {
   "cell_type": "code",
   "execution_count": 29,
   "metadata": {
    "colab": {
     "base_uri": "https://localhost:8080/"
    },
    "executionInfo": {
     "elapsed": 122,
     "status": "ok",
     "timestamp": 1635859403574,
     "user": {
      "displayName": "John Kitchin",
      "photoUrl": "https://lh3.googleusercontent.com/a/default-user=s64",
      "userId": "14782011281593705406"
     },
     "user_tz": 240
    },
    "id": "Et8iqhmGRKpb",
    "outputId": "d08cbe2f-252c-4548-cee2-f92760f5ab85"
   },
   "outputs": [
    {
     "data": {
      "text/plain": [
       "((8, 8), (8,))"
      ]
     },
     "execution_count": 29,
     "metadata": {},
     "output_type": "execute_result"
    }
   ],
   "source": [
    "mu = 2\n",
    "deltaPx = -50\n",
    "v0, vB = 0.0, 0.0\n",
    "\n",
    "G = np.ones(len(y) - 2) * deltaPx / mu * h**2\n",
    "G[0] -= v0\n",
    "G[-1] -= vB\n",
    "A.shape, G.shape"
   ]
  },
  {
   "cell_type": "markdown",
   "metadata": {
    "id": "BNhEbt4XRKpg"
   },
   "source": [
    "Now, solving this is simple, no initial guesses required since it is a linear problem.\n",
    "\n"
   ]
  },
  {
   "cell_type": "code",
   "execution_count": 30,
   "metadata": {
    "colab": {
     "base_uri": "https://localhost:8080/",
     "height": 297
    },
    "executionInfo": {
     "elapsed": 466,
     "status": "ok",
     "timestamp": 1635859406000,
     "user": {
      "displayName": "John Kitchin",
      "photoUrl": "https://lh3.googleusercontent.com/a/default-user=s64",
      "userId": "14782011281593705406"
     },
     "user_tz": 240
    },
    "id": "FcVFmjVMRKpg",
    "outputId": "4d36c8e0-37bd-4d9b-8974-59cd72a9e656"
   },
   "outputs": [
    {
     "data": {
      "image/png": "[encoded data removed]",
      "text/plain": [
       "<Figure size 432x288 with 1 Axes>"
      ]
     },
     "metadata": {
      "needs_background": "light"
     },
     "output_type": "display_data"
    }
   ],
   "source": [
    "vx = np.linalg.solve(A, G)\n",
    "\n",
    "import matplotlib.pyplot as plt\n",
    "\n",
    "plt.plot(y, np.concatenate([[v0], vx, [vB]]))\n",
    "plt.xlabel(\"y\")\n",
    "plt.ylabel(\"$v_x$\")\n",
    "plt.xlim([0, B]);"
   ]
  },
  {
   "cell_type": "markdown",
   "metadata": {
    "id": "wg71sLzlRKpm"
   },
   "source": [
    "Note that we have approximated the solution by discretizing and estimating the derivatives at the points. You have to check for convergence by increasing the number of points $N$.\n",
    "\n",
    "This method worked because the BVP was *linear*, i.e. no products, powers, etc of derivatives, so that the final set of equations after discretization was linear. If the BVP was nonlinear, we would end up with a set of coupled nonlinear equations that you would have to use `scipy.optimize.root` to solve, or `scipy.integrate.solve_bvp`, and these would both require an initial guess to solve.\n",
    "\n"
   ]
  },
  {
   "cell_type": "markdown",
   "metadata": {
    "id": "xo8xXXsJRKpn"
   },
   "source": [
    "# Things to look out for\n",
    "\n"
   ]
  },
  {
   "cell_type": "markdown",
   "metadata": {
    "id": "xfQjqbZ6RKpn"
   },
   "source": [
    "Just because systems are linear doesn't mean they are well-behaved. Seemingly simple equations can show unexpected behavior. Consider\n",
    "\n",
    "$-0.5 x1 + x2 = 1.1$\n",
    "\n",
    "and\n",
    "\n",
    "$-0.46 x1 + x2 = 1.0$\n",
    "\n",
    "These are easy to solve.\n",
    "\n"
   ]
  },
  {
   "cell_type": "code",
   "execution_count": 31,
   "metadata": {
    "colab": {
     "base_uri": "https://localhost:8080/"
    },
    "executionInfo": {
     "elapsed": 146,
     "status": "ok",
     "timestamp": 1635859522581,
     "user": {
      "displayName": "John Kitchin",
      "photoUrl": "https://lh3.googleusercontent.com/a/default-user=s64",
      "userId": "14782011281593705406"
     },
     "user_tz": 240
    },
    "id": "qrplOA0jRKpo",
    "outputId": "2bb5d8e4-00f1-45b6-9e57-5acce5f50365"
   },
   "outputs": [
    {
     "data": {
      "text/plain": [
       "array([-2.5 , -0.15])"
      ]
     },
     "execution_count": 31,
     "metadata": {},
     "output_type": "execute_result"
    }
   ],
   "source": [
    "import numpy as np\n",
    "\n",
    "A = np.array([[-0.5, 1], [-0.46, 1]])\n",
    "b = np.array([1.1, 1])\n",
    "\n",
    "np.linalg.solve(A, b)"
   ]
  },
  {
   "cell_type": "code",
   "execution_count": 32,
   "metadata": {
    "colab": {
     "base_uri": "https://localhost:8080/",
     "height": 265
    },
    "executionInfo": {
     "elapsed": 309,
     "status": "ok",
     "timestamp": 1635859647384,
     "user": {
      "displayName": "John Kitchin",
      "photoUrl": "https://lh3.googleusercontent.com/a/default-user=s64",
      "userId": "14782011281593705406"
     },
     "user_tz": 240
    },
    "id": "8gIPm1VL06S_",
    "outputId": "77812a2a-02fe-4b33-e73e-8ee43157e824"
   },
   "outputs": [
    {
     "data": {
      "image/png": "[encoded data removed]",
      "text/plain": [
       "<Figure size 432x288 with 1 Axes>"
      ]
     },
     "metadata": {
      "needs_background": "light"
     },
     "output_type": "display_data"
    }
   ],
   "source": [
    "import matplotlib.pyplot as plt\n",
    "\n",
    "x1 = np.linspace(-5, 0)\n",
    "x21 = 1.1 + 0.5 * x1\n",
    "x22 = 1.0 + 0.46 * x1\n",
    "\n",
    "plt.plot(x1, x21, x1, x22);"
   ]
  },
  {
   "cell_type": "markdown",
   "metadata": {
    "id": "GFq1V5jDRKpt"
   },
   "source": [
    "Now consider this slightly different system where we just change -0.46 to -0.47. Surely that should not be a big deal right?\n",
    "\n"
   ]
  },
  {
   "cell_type": "code",
   "execution_count": 33,
   "metadata": {
    "colab": {
     "base_uri": "https://localhost:8080/"
    },
    "executionInfo": {
     "elapsed": 129,
     "status": "ok",
     "timestamp": 1635859656213,
     "user": {
      "displayName": "John Kitchin",
      "photoUrl": "https://lh3.googleusercontent.com/a/default-user=s64",
      "userId": "14782011281593705406"
     },
     "user_tz": 240
    },
    "id": "a8gZA7DfRKpu",
    "outputId": "2d42ac56-cd8d-4099-f654-a0b2147adaa5"
   },
   "outputs": [
    {
     "data": {
      "text/plain": [
       "array([-3.33333333, -0.56666667])"
      ]
     },
     "execution_count": 33,
     "metadata": {},
     "output_type": "execute_result"
    }
   ],
   "source": [
    "A = np.array([[-0.5, 1], [-0.47, 1]])\n",
    "\n",
    "b = np.array([1.1, 1])\n",
    "\n",
    "np.linalg.solve(A, b)"
   ]
  },
  {
   "cell_type": "markdown",
   "metadata": {
    "id": "plOsvmPkRKpz"
   },
   "source": [
    "That seems like a big change in the answer for such a small change in one coefficient. What is happening? The determinant of this matrix is small, and the condition number is high, which means it is an ill-conditioned system of equations.\n",
    "\n"
   ]
  },
  {
   "cell_type": "code",
   "execution_count": 34,
   "metadata": {
    "colab": {
     "base_uri": "https://localhost:8080/"
    },
    "executionInfo": {
     "elapsed": 132,
     "status": "ok",
     "timestamp": 1635859697965,
     "user": {
      "displayName": "John Kitchin",
      "photoUrl": "https://lh3.googleusercontent.com/a/default-user=s64",
      "userId": "14782011281593705406"
     },
     "user_tz": 240
    },
    "id": "wDgYaWsWRKp0",
    "outputId": "6fb50e8f-6447-4574-fd72-b450674dc638"
   },
   "outputs": [
    {
     "data": {
      "text/plain": [
       "(-0.030000000000000023, 82.35119021800712)"
      ]
     },
     "execution_count": 34,
     "metadata": {},
     "output_type": "execute_result"
    }
   ],
   "source": [
    "np.linalg.det(A), np.linalg.cond(A)"
   ]
  },
  {
   "cell_type": "code",
   "execution_count": 35,
   "metadata": {
    "colab": {
     "base_uri": "https://localhost:8080/"
    },
    "executionInfo": {
     "elapsed": 114,
     "status": "ok",
     "timestamp": 1635859809726,
     "user": {
      "displayName": "John Kitchin",
      "photoUrl": "https://lh3.googleusercontent.com/a/default-user=s64",
      "userId": "14782011281593705406"
     },
     "user_tz": 240
    },
    "id": "ias2OQc713no",
    "outputId": "46a30988-8ac2-4563-e605-6b39731c1b66"
   },
   "outputs": [
    {
     "data": {
      "text/plain": [
       "2"
      ]
     },
     "execution_count": 35,
     "metadata": {},
     "output_type": "execute_result"
    }
   ],
   "source": [
    "np.linalg.matrix_rank(A)"
   ]
  },
  {
   "cell_type": "code",
   "execution_count": 36,
   "metadata": {
    "colab": {
     "base_uri": "https://localhost:8080/"
    },
    "executionInfo": {
     "elapsed": 163,
     "status": "ok",
     "timestamp": 1635860299455,
     "user": {
      "displayName": "John Kitchin",
      "photoUrl": "https://lh3.googleusercontent.com/a/default-user=s64",
      "userId": "14782011281593705406"
     },
     "user_tz": 240
    },
    "id": "328-_Jkw1-ek",
    "outputId": "142662e7-08ec-42ef-8639-c0015e58e13c"
   },
   "outputs": [
    {
     "data": {
      "text/plain": [
       "(Matrix([\n",
       " [1, 0],\n",
       " [0, 1]]),\n",
       " (0, 1))"
      ]
     },
     "execution_count": 36,
     "metadata": {},
     "output_type": "execute_result"
    }
   ],
   "source": [
    "sympy.Matrix(A).rref()"
   ]
  },
  {
   "cell_type": "code",
   "execution_count": 37,
   "metadata": {
    "colab": {
     "base_uri": "https://localhost:8080/"
    },
    "executionInfo": {
     "elapsed": 3,
     "status": "ok",
     "timestamp": 1635860294945,
     "user": {
      "displayName": "John Kitchin",
      "photoUrl": "https://lh3.googleusercontent.com/a/default-user=s64",
      "userId": "14782011281593705406"
     },
     "user_tz": 240
    },
    "id": "ejnMZ7393yR-",
    "outputId": "a6200e4b-21bb-416a-a4f3-0bc52b81c989"
   },
   "outputs": [
    {
     "data": {
      "text/plain": [
       "array([[-0.5 ,  1.  ],\n",
       "       [-0.47,  1.  ]])"
      ]
     },
     "execution_count": 37,
     "metadata": {},
     "output_type": "execute_result"
    }
   ],
   "source": [
    "A"
   ]
  },
  {
   "cell_type": "code",
   "execution_count": 38,
   "metadata": {
    "colab": {
     "base_uri": "https://localhost:8080/"
    },
    "executionInfo": {
     "elapsed": 137,
     "status": "ok",
     "timestamp": 1635859869273,
     "user": {
      "displayName": "John Kitchin",
      "photoUrl": "https://lh3.googleusercontent.com/a/default-user=s64",
      "userId": "14782011281593705406"
     },
     "user_tz": 240
    },
    "id": "foKSAKYO2E_i",
    "outputId": "74d502ff-9437-417b-e41f-1109fa08acd4"
   },
   "outputs": [
    {
     "data": {
      "text/plain": [
       "array([[-0.5 ,  1.  ],\n",
       "       [ 0.03,  0.  ]])"
      ]
     },
     "execution_count": 38,
     "metadata": {},
     "output_type": "execute_result"
    }
   ],
   "source": [
    "A[1] -= A[0]\n",
    "A"
   ]
  },
  {
   "cell_type": "markdown",
   "metadata": {
    "id": "uYmtttVaRKp5"
   },
   "source": [
    "Graphically, this means the two lines are nearly parallel, so even the smallest shift in the slope will result in a large change in the intersection.\n",
    "\n"
   ]
  },
  {
   "cell_type": "code",
   "execution_count": 39,
   "metadata": {
    "colab": {
     "base_uri": "https://localhost:8080/",
     "height": 279
    },
    "executionInfo": {
     "elapsed": 358,
     "status": "ok",
     "timestamp": 1635859773651,
     "user": {
      "displayName": "John Kitchin",
      "photoUrl": "https://lh3.googleusercontent.com/a/default-user=s64",
      "userId": "14782011281593705406"
     },
     "user_tz": 240
    },
    "id": "BycrDmf9RKp7",
    "outputId": "61d182bf-79b2-4128-bdb8-8f5c9c8433ba"
   },
   "outputs": [
    {
     "data": {
      "image/png": "[encoded data removed]",
      "text/plain": [
       "<Figure size 432x288 with 1 Axes>"
      ]
     },
     "metadata": {
      "needs_background": "light"
     },
     "output_type": "display_data"
    }
   ],
   "source": [
    "import matplotlib.pyplot as plt\n",
    "\n",
    "x1 = np.linspace(-6, 0)\n",
    "x2_0 = 1.1 + 0.5 * x1\n",
    "x2_1 = 1.0 + 0.47 * x1\n",
    "\n",
    "plt.plot(x1, x2_0, x1, x2_1)\n",
    "plt.xlabel(\"x1\")\n",
    "plt.ylabel(\"x2\");"
   ]
  },
  {
   "cell_type": "markdown",
   "metadata": {
    "id": "VPE1_KW0RKqA"
   },
   "source": [
    "This system of equations is sensitive to roundoff errors, both in the coefficients of $\\mathbf{A}$ and in the numerics of solving the equations.\n",
    "\n"
   ]
  },
  {
   "cell_type": "markdown",
   "metadata": {
    "id": "omurbTOVRKqB"
   },
   "source": [
    "# Leveraging linear algebra for iteration\n",
    "\n"
   ]
  },
  {
   "cell_type": "markdown",
   "metadata": {
    "id": "hFi0NOyERKqC"
   },
   "source": [
    "Linear algebra can be used for iteration (for loops) in some cases. Doing this is usually faster because dedicated linear algebra libraries are very fast, and the code is usually shorter. However, it is trickier to write sometimes, and not everything can be done this way.\n",
    "\n",
    "It can also be advantageous to use this approach in machine learning. Some frameworks are difficult to use loops in.\n",
    "\n",
    "The dot product is defined as:\n",
    "\n",
    "$\\mathbf{a}\\cdot\\mathbf{b} = \\sum_{i=0}^{N-1} a_i b_i$\n",
    "\n",
    "For specificity we have these two vectors to start with:\n",
    "\n"
   ]
  },
  {
   "cell_type": "code",
   "execution_count": 40,
   "metadata": {
    "executionInfo": {
     "elapsed": 138,
     "status": "ok",
     "timestamp": 1635860075881,
     "user": {
      "displayName": "John Kitchin",
      "photoUrl": "https://lh3.googleusercontent.com/a/default-user=s64",
      "userId": "14782011281593705406"
     },
     "user_tz": 240
    },
    "id": "ekCJWAGiRKqD"
   },
   "outputs": [],
   "source": [
    "import numpy as np\n",
    "\n",
    "a = np.array([1, 2, 3, 4, 5])\n",
    "b = np.array([3, 6, 8, 9, 10])"
   ]
  },
  {
   "cell_type": "markdown",
   "metadata": {
    "id": "_qDcDyrMRKqJ"
   },
   "source": [
    "As defined, we could implement the dot product as:\n",
    "\n"
   ]
  },
  {
   "cell_type": "code",
   "execution_count": 41,
   "metadata": {
    "colab": {
     "base_uri": "https://localhost:8080/"
    },
    "executionInfo": {
     "elapsed": 140,
     "status": "ok",
     "timestamp": 1635860102007,
     "user": {
      "displayName": "John Kitchin",
      "photoUrl": "https://lh3.googleusercontent.com/a/default-user=s64",
      "userId": "14782011281593705406"
     },
     "user_tz": 240
    },
    "id": "ASLNji_hRKqK",
    "outputId": "953e640b-1af8-4a03-b859-c2365802f912"
   },
   "outputs": [
    {
     "data": {
      "text/plain": [
       "125"
      ]
     },
     "execution_count": 41,
     "metadata": {},
     "output_type": "execute_result"
    }
   ],
   "source": [
    "dp = 0\n",
    "for i in range(len(a)):\n",
    "    dp += a[i] * b[i]\n",
    "\n",
    "dp"
   ]
  },
  {
   "cell_type": "markdown",
   "metadata": {
    "id": "aFEOXcjuRKqO"
   },
   "source": [
    "We can do better than that with elementwise multiplication:\n",
    "\n"
   ]
  },
  {
   "cell_type": "code",
   "execution_count": 42,
   "metadata": {
    "colab": {
     "base_uri": "https://localhost:8080/"
    },
    "executionInfo": {
     "elapsed": 274,
     "status": "ok",
     "timestamp": 1635860144603,
     "user": {
      "displayName": "John Kitchin",
      "photoUrl": "https://lh3.googleusercontent.com/a/default-user=s64",
      "userId": "14782011281593705406"
     },
     "user_tz": 240
    },
    "id": "fKE-elENRKqP",
    "outputId": "bf112b6d-0e73-40dc-a7dc-9478c9989d7f"
   },
   "outputs": [
    {
     "data": {
      "text/plain": [
       "125"
      ]
     },
     "execution_count": 42,
     "metadata": {},
     "output_type": "execute_result"
    }
   ],
   "source": [
    "np.sum(a * b)"
   ]
  },
  {
   "cell_type": "markdown",
   "metadata": {
    "id": "cFJWQXGORKqU"
   },
   "source": [
    "The best approach, however, is the linear algebra approach:\n",
    "\n"
   ]
  },
  {
   "cell_type": "code",
   "execution_count": 43,
   "metadata": {
    "colab": {
     "base_uri": "https://localhost:8080/"
    },
    "executionInfo": {
     "elapsed": 129,
     "status": "ok",
     "timestamp": 1635860162418,
     "user": {
      "displayName": "John Kitchin",
      "photoUrl": "https://lh3.googleusercontent.com/a/default-user=s64",
      "userId": "14782011281593705406"
     },
     "user_tz": 240
    },
    "id": "ticv9yprRKqV",
    "outputId": "291726d1-9a9f-4892-ac77-e4fb3ff1888a"
   },
   "outputs": [
    {
     "data": {
      "text/plain": [
       "125"
      ]
     },
     "execution_count": 43,
     "metadata": {},
     "output_type": "execute_result"
    }
   ],
   "source": [
    "a @ b"
   ]
  },
  {
   "cell_type": "markdown",
   "metadata": {
    "id": "1GqPRBd6RKqb"
   },
   "source": [
    "Why is this better?\n",
    "\n",
    "1.  It is short.\n",
    "2.  It does not specify how the computation is done. This allows it to be done with an optimized (i.e. fast) and possibly parallelized algorithm. *Many* very smart people have worked hard to make linear algebra fast; we should try not to implement it ourselves.\n",
    "\n",
    "Consider $y = \\sum\\limits_{i=1}^n w_i x_i^2$. This operation is like a weighted sum of squares.\n",
    "\n",
    "The old-fashioned way to do this is with a loop.\n",
    "\n"
   ]
  },
  {
   "cell_type": "code",
   "execution_count": 44,
   "metadata": {
    "colab": {
     "base_uri": "https://localhost:8080/"
    },
    "executionInfo": {
     "elapsed": 113,
     "status": "ok",
     "timestamp": 1635860415375,
     "user": {
      "displayName": "John Kitchin",
      "photoUrl": "https://lh3.googleusercontent.com/a/default-user=s64",
      "userId": "14782011281593705406"
     },
     "user_tz": 240
    },
    "id": "TZC5uPnqRKqc",
    "outputId": "662f3467-e893-42b3-c27d-2c9cce1f0073"
   },
   "outputs": [
    {
     "data": {
      "text/plain": [
       "162.39"
      ]
     },
     "execution_count": 44,
     "metadata": {},
     "output_type": "execute_result"
    }
   ],
   "source": [
    "w = np.array([0.1, 0.25, 0.12, 0.45, 0.98])\n",
    "x = np.array([9, 7, 11, 12, 8])\n",
    "\n",
    "y = 0\n",
    "for wi, xi in zip(w, x):\n",
    "    y += wi * xi**2\n",
    "y"
   ]
  },
  {
   "cell_type": "markdown",
   "metadata": {
    "id": "jNgSpNbwRKqh"
   },
   "source": [
    "Compare this to the more modern numpy approach.\n",
    "\n"
   ]
  },
  {
   "cell_type": "code",
   "execution_count": 45,
   "metadata": {
    "colab": {
     "base_uri": "https://localhost:8080/"
    },
    "executionInfo": {
     "elapsed": 135,
     "status": "ok",
     "timestamp": 1635860436668,
     "user": {
      "displayName": "John Kitchin",
      "photoUrl": "https://lh3.googleusercontent.com/a/default-user=s64",
      "userId": "14782011281593705406"
     },
     "user_tz": 240
    },
    "id": "NwjflSIrRKqi",
    "outputId": "0c96a155-e548-4854-a82e-29baf2908336"
   },
   "outputs": [
    {
     "data": {
      "text/plain": [
       "162.39"
      ]
     },
     "execution_count": 45,
     "metadata": {},
     "output_type": "execute_result"
    }
   ],
   "source": [
    "y = np.sum(w * x**2)\n",
    "y"
   ]
  },
  {
   "cell_type": "markdown",
   "metadata": {
    "id": "lc8aHZGgRKqn"
   },
   "source": [
    "We can also express this in matrix algebra form. The operation is equivalent to $y = \\mathbf{x} \\cdot \\mathbf{D_w} \\cdot \\mathbf{x}^T$ where $\\mathbf{D_w}$ is a diagonal matrix with the weights on the diagonal.\n",
    "\n",
    "In the formula above $\\mathbf{x}$ is a row vector and $\\mathbf{x}^T$ is a column vector.\n"
   ]
  },
  {
   "cell_type": "code",
   "execution_count": 46,
   "metadata": {
    "colab": {
     "base_uri": "https://localhost:8080/"
    },
    "executionInfo": {
     "elapsed": 127,
     "status": "ok",
     "timestamp": 1635860638878,
     "user": {
      "displayName": "John Kitchin",
      "photoUrl": "https://lh3.googleusercontent.com/a/default-user=s64",
      "userId": "14782011281593705406"
     },
     "user_tz": 240
    },
    "id": "RWiNPKcv48Dx",
    "outputId": "d432e974-0087-4686-b8ae-88f1788ed278"
   },
   "outputs": [
    {
     "data": {
      "text/plain": [
       "((1, 5), (5, 1))"
      ]
     },
     "execution_count": 46,
     "metadata": {},
     "output_type": "execute_result"
    }
   ],
   "source": [
    "X = np.array([x])\n",
    "X.shape, X.T.shape"
   ]
  },
  {
   "cell_type": "markdown",
   "metadata": {
    "id": "6nm0SsND5NUK"
   },
   "source": [
    "1 x 5 @ 5 x 5 @ (5 x 1)"
   ]
  },
  {
   "cell_type": "code",
   "execution_count": 47,
   "metadata": {
    "colab": {
     "base_uri": "https://localhost:8080/"
    },
    "executionInfo": {
     "elapsed": 352,
     "status": "ok",
     "timestamp": 1635860719782,
     "user": {
      "displayName": "John Kitchin",
      "photoUrl": "https://lh3.googleusercontent.com/a/default-user=s64",
      "userId": "14782011281593705406"
     },
     "user_tz": 240
    },
    "id": "WjHuPZzu5ISB",
    "outputId": "4b217fbf-94cb-4806-856e-fb956fef8a25"
   },
   "outputs": [
    {
     "data": {
      "text/plain": [
       "(1, 1)"
      ]
     },
     "execution_count": 47,
     "metadata": {},
     "output_type": "execute_result"
    }
   ],
   "source": [
    "(X @ np.diag(w) @ X.T).shape"
   ]
  },
  {
   "cell_type": "code",
   "execution_count": 48,
   "metadata": {
    "colab": {
     "base_uri": "https://localhost:8080/"
    },
    "executionInfo": {
     "elapsed": 144,
     "status": "ok",
     "timestamp": 1635860481881,
     "user": {
      "displayName": "John Kitchin",
      "photoUrl": "https://lh3.googleusercontent.com/a/default-user=s64",
      "userId": "14782011281593705406"
     },
     "user_tz": 240
    },
    "id": "orap4bIP4cQn",
    "outputId": "8fcb45f1-e49e-42f6-8508-c682d4d8c726"
   },
   "outputs": [
    {
     "data": {
      "text/plain": [
       "array([[0.1 , 0.  , 0.  , 0.  , 0.  ],\n",
       "       [0.  , 0.25, 0.  , 0.  , 0.  ],\n",
       "       [0.  , 0.  , 0.12, 0.  , 0.  ],\n",
       "       [0.  , 0.  , 0.  , 0.45, 0.  ],\n",
       "       [0.  , 0.  , 0.  , 0.  , 0.98]])"
      ]
     },
     "execution_count": 48,
     "metadata": {},
     "output_type": "execute_result"
    }
   ],
   "source": [
    "np.diag(w)"
   ]
  },
  {
   "cell_type": "code",
   "execution_count": 49,
   "metadata": {
    "colab": {
     "base_uri": "https://localhost:8080/"
    },
    "executionInfo": {
     "elapsed": 157,
     "status": "ok",
     "timestamp": 1635860488622,
     "user": {
      "displayName": "John Kitchin",
      "photoUrl": "https://lh3.googleusercontent.com/a/default-user=s64",
      "userId": "14782011281593705406"
     },
     "user_tz": 240
    },
    "id": "fgqhumU8RKqo",
    "outputId": "3bc8f841-43de-4ec1-b2d6-6b8c2cdb7465"
   },
   "outputs": [
    {
     "data": {
      "text/plain": [
       "162.39000000000001"
      ]
     },
     "execution_count": 49,
     "metadata": {},
     "output_type": "execute_result"
    }
   ],
   "source": [
    "x @ np.diag(w) @ x"
   ]
  },
  {
   "cell_type": "markdown",
   "metadata": {
    "id": "6V9hqzN2RKqt"
   },
   "source": [
    "Finally, consider the sum of the product of three vectors. Let $y = \\sum\\limits_{i=1}^n w_i x_i y_i$. This is like a weighted sum of products.\n",
    "\n"
   ]
  },
  {
   "cell_type": "code",
   "execution_count": 50,
   "metadata": {
    "colab": {
     "base_uri": "https://localhost:8080/"
    },
    "executionInfo": {
     "elapsed": 278,
     "status": "ok",
     "timestamp": 1635860563485,
     "user": {
      "displayName": "John Kitchin",
      "photoUrl": "https://lh3.googleusercontent.com/a/default-user=s64",
      "userId": "14782011281593705406"
     },
     "user_tz": 240
    },
    "id": "KJ5ntuYtRKqt",
    "outputId": "17937082-b230-455a-f9f9-c240995f8323"
   },
   "outputs": [
    {
     "name": "stdout",
     "output_type": "stream",
     "text": [
      "57.71\n"
     ]
    },
    {
     "data": {
      "text/plain": [
       "57.71"
      ]
     },
     "execution_count": 50,
     "metadata": {},
     "output_type": "execute_result"
    }
   ],
   "source": [
    "w = np.array([0.1, 0.25, 0.12, 0.45, 0.98])\n",
    "x = np.array([9, 7, 11, 12, 8])\n",
    "y = np.array([2, 5, 3, 8, 0])\n",
    "\n",
    "print(np.sum(w * x * y))  # numpy vectorized approach\n",
    "w @ np.diag(x) @ y  # linear algebra approach"
   ]
  },
  {
   "cell_type": "markdown",
   "metadata": {
    "id": "uXBGfTYRMadB"
   },
   "source": [
    "**Reflective Questions**"
   ]
  },
  {
   "cell_type": "markdown",
   "metadata": {
    "id": "IAqRWDLGRKqy"
   },
   "source": [
    "# Summary\n",
    "\n"
   ]
  },
  {
   "cell_type": "markdown",
   "metadata": {
    "id": "ZFTcywPwRKqz"
   },
   "source": [
    "In this lecture we considered several applications of linear algebra including:\n",
    "\n",
    "1.  Solutions to steady state mass balances\n",
    "2.  Finding independent reactions\n",
    "3.  Solving linear boundary value problems\n",
    "\n",
    "We also briefly touched on vectorized approaches to using linear algebra to avoid writing explicit loops.\n",
    "\n"
   ]
  },
  {
   "cell_type": "code",
   "execution_count": 51,
   "metadata": {},
   "outputs": [
    {
     "data": {
      "text/html": [
       "<div id=\"kVYJisaXtErS\" data-shufflequestions=\"False\"\n",
       "               data-shuffleanswers=\"True\"\n",
       "               data-preserveresponses=\"false\"\n",
       "               data-numquestions=\"1000000\"\n",
       "               data-maxwidth=\"600\"\n",
       "               style=\"border-radius: 10px; text-align: left\"> <style>\n",
       "#kVYJisaXtErS {\n",
       "   --jq-multiple-choice-bg: #6f78ffff;\n",
       "   --jq-mc-button-bg: #fafafa;\n",
       "   --jq-mc-button-border: #e0e0e0e0;\n",
       "   --jq-mc-button-inset-shadow: #555555;\n",
       "   --jq-many-choice-bg: #f75c03ff;\n",
       "   --jq-numeric-bg: #392061ff;\n",
       "   --jq-numeric-input-bg: #c0c0c0;\n",
       "   --jq-numeric-input-label: #101010;\n",
       "   --jq-numeric-input-shadow: #999999;\n",
       "   --jq-incorrect-color: #c80202;\n",
       "   --jq-correct-color: #009113;\n",
       "   --jq-text-color: #fafafa;\n",
       "}\n",
       "\n",
       ".Quiz {\n",
       "    max-width: 600px;\n",
       "    margin-top: 15px;\n",
       "    margin-left: auto;\n",
       "    margin-right: auto;\n",
       "    margin-bottom: 15px;\n",
       "    padding-bottom: 4px;\n",
       "    padding-top: 4px;\n",
       "    line-height: 1.1;\n",
       "    font-size: 16pt;\n",
       "    border-radius: inherit;\n",
       "}\n",
       "\n",
       ".QuizCode {\n",
       "    font-size: 14pt;\n",
       "    margin-top: 10px;\n",
       "    margin-left: 20px;\n",
       "    margin-right: 20px;\n",
       "}\n",
       "\n",
       ".QuizCode>pre {\n",
       "    padding: 4px;\n",
       "}\n",
       "\n",
       ".Answer {\n",
       "    margin: 10px 0;\n",
       "    display: grid;\n",
       "    grid-template-columns: 1fr 1fr;\n",
       "    grid-gap: 10px;\n",
       "    border-radius: inherit;\n",
       "}\n",
       "\n",
       ".Feedback {\n",
       "    font-size: 16pt;\n",
       "    text-align: center;\n",
       "    min-height: 2em;\n",
       "}\n",
       "\n",
       ".Input {\n",
       "    align: left;\n",
       "    font-size: 20pt;\n",
       "}\n",
       "\n",
       ".Input-text {\n",
       "    display: block;\n",
       "    margin: 10px;\n",
       "    color: inherit;\n",
       "    width: 140px;\n",
       "    background-color: var(--jq-numeric-input-bg);\n",
       "    color: var(--jq-text-color);\n",
       "    padding: 5px;\n",
       "    padding-left: 10px;\n",
       "    font-family: inherit;\n",
       "    font-size: 20px;\n",
       "    font-weight: inherit;\n",
       "    line-height: 20pt;\n",
       "    border: none;\n",
       "    border-radius: 0.2rem;\n",
       "    transition: box-shadow 0.1s);\n",
       "}\n",
       "\n",
       ".Input-text:focus {\n",
       "    outline: none;\n",
       "    background-color: var(--jq-numeric-input-bg);\n",
       "    box-shadow: 0.6rem 0.8rem 1.4rem -0.5rem var(--jq-numeric-input-shadow);\n",
       "}\n",
       "\n",
       ".MCButton {\n",
       "    background: var(--jq-mc-button-bg);\n",
       "    border: 1px solid var(--jq-mc-button-border);\n",
       "    border-radius: inherit;\n",
       "    padding: 10px;\n",
       "    font-size: 16px;\n",
       "    cursor: pointer;\n",
       "    text-align: center;\n",
       "    display: flex;\n",
       "    align-items: center;\n",
       "    justify-content: center;\n",
       "}\n",
       "\n",
       ".MCButton p {\n",
       "    color: inherit;\n",
       "}\n",
       "\n",
       ".MultipleChoiceQn {\n",
       "    padding: 10px;\n",
       "    background: var(--jq-multiple-choice-bg);\n",
       "    color: var(--jq-text-color);\n",
       "    border-radius: inherit;\n",
       "}\n",
       "\n",
       ".ManyChoiceQn {\n",
       "    padding: 10px;\n",
       "    background: var(--jq-many-choice-bg);\n",
       "    color: var(--jq-text-color);\n",
       "    border-radius: inherit;\n",
       "}\n",
       "\n",
       ".NumericQn {\n",
       "    padding: 10px;\n",
       "    background: var(--jq-numeric-bg);\n",
       "    color: var(--jq-text-color);\n",
       "    border-radius: inherit;\n",
       "}\n",
       "\n",
       ".NumericQn p {\n",
       "    color: inherit;\n",
       "}\n",
       "\n",
       ".InpLabel {\n",
       "    line-height: 34px;\n",
       "    float: left;\n",
       "    margin-right: 10px;\n",
       "    color: var(--jq-numeric-input-label);\n",
       "    font-size: 15pt;\n",
       "}\n",
       "\n",
       ".incorrect {\n",
       "    color: var(--jq-incorrect-color);\n",
       "}\n",
       "\n",
       ".correct {\n",
       "    color: var(--jq-correct-color);\n",
       "}\n",
       "\n",
       ".correctButton {\n",
       "    /*\n",
       "    background: var(--jq-correct-color);\n",
       "   */\n",
       "    animation: correct-anim 0.6s ease;\n",
       "    animation-fill-mode: forwards;\n",
       "    color: var(--jq-text-color);\n",
       "    box-shadow: inset 0px 0px 5px var(--jq-mc-button-inset-shadow);\n",
       "    outline: none;\n",
       "}\n",
       "\n",
       ".incorrectButton {\n",
       "    animation: incorrect-anim 0.8s ease;\n",
       "    animation-fill-mode: forwards;\n",
       "    color: var(--jq-text-color);\n",
       "    box-shadow: inset 0px 0px 5px var(--jq-mc-button-inset-shadow);\n",
       "    outline: none;\n",
       "}\n",
       "\n",
       "@keyframes incorrect-anim {\n",
       "    100% {\n",
       "        background-color: var(--jq-incorrect-color);\n",
       "    }\n",
       "}\n",
       "\n",
       "@keyframes correct-anim {\n",
       "    100% {\n",
       "        background-color: var(--jq-correct-color);\n",
       "    }\n",
       "}\n",
       "</style>"
      ],
      "text/plain": [
       "<IPython.core.display.HTML object>"
      ]
     },
     "metadata": {},
     "output_type": "display_data"
    },
    {
     "data": {
      "application/javascript": [
       "var questionskVYJisaXtErS=[{\"question\": \"Express: summation ((a_i)**2 * (b_i)**2) <br>using linear algebra\", \"type\": \"multiple_choice\", \"answers\": [{\"answer\": \"a @ np.diag(a) @ b @ np.diag(b)\", \"correct\": false}, {\"answer\": \"a @ np.diag(a) + np.diag(b) @ b\", \"correct\": false}, {\"answer\": \"a @ np.diag(a) @ np.diag(b) @ b\", \"correct\": true}, {\"answer\": \"a @ b @ np.diag(a) @ np.diag(b)\", \"correct\": false}], \"tag\": \"summation iteration dot_product\", \"lecture_file\": \"16_linear_algebra\"}, {\"question\": \"What will be the shape of the final matrix, if the 4 matrices below are multiplied in the way shown:<br>np.array([1, 1]) @ np.array([[1, 2], [3, 4], [5, 6]).T @ np.array([1, 2, 3]).T\", \"type\": \"multiple_choice\", \"answers\": [{\"answer\": \"Error\", \"correct\": false}, {\"answer\": \"(1)\", \"correct\": true}, {\"answer\": \"(1, 3)\", \"correct\": false}, {\"answer\": \"(2, 3)\", \"correct\": false}], \"tag\": \"matrices\", \"lecture_file\": \"16_linear_algebra\"}, {\"question\": \"What will be the shape of the final matrix, if the 4 matrices below are multiplied in the way shown:<br>np.array([1, 1]) @ np.array([[1, 2], [3, 4], [5, 6]).T @ np.array([1, 2, 3])\", \"type\": \"multiple_choice\", \"answers\": [{\"answer\": \"Error\", \"correct\": true}, {\"answer\": \"(1)\", \"correct\": false}, {\"answer\": \"(1, 3)\", \"correct\": false}, {\"answer\": \"(2, 3)\", \"correct\": false}], \"tag\": \"matrices\", \"lecture_file\": \"16_linear_algebra\"}, {\"question\": \"The determinant of a matrix is a\", \"type\": \"multiple_choice\", \"answers\": [{\"answer\": \"scalar\", \"correct\": true}, {\"answer\": \"vector\", \"correct\": false}, {\"answer\": \"matrix\", \"correct\": false}, {\"answer\": \"None of the above\", \"correct\": false}], \"tag\": \"determinant\", \"lecture_file\": \"16_linear_algebra\"}, {\"question\": \"Find the determinant of the following matrix:<br>np.array([[1, 2, 3], [2, 2, 2]])\", \"type\": \"multiple_choice\", \"answers\": [{\"answer\": \"0\", \"correct\": false}, {\"answer\": \"3\", \"correct\": false}, {\"answer\": \"1\", \"correct\": false}, {\"answer\": \"determinant can be calculated only for square matrices\", \"correct\": true}], \"tag\": \"determinant\", \"lecture_file\": \"16_linear_algebra\"}, {\"question\": \"Which of the following statements is true about the below matrix:<br>np.array([[1, 2, 3], [2, 2, 2], [1, 1, 1]])\", \"type\": \"multiple_choice\", \"answers\": [{\"answer\": \"It is a non-singular matrix\", \"correct\": false}, {\"answer\": \"Rank of the matrix is 3\", \"correct\": false}, {\"answer\": \"It is a singular matrix\", \"correct\": true}, {\"answer\": \"The inverse of the matrix is real and finite\", \"correct\": false}], \"tag\": \"matrices\", \"lecture_file\": \"16_linear_algebra\"}, {\"question\": \"The advantage of using linear algebra over solve_bvp to solve boundary value problems is that\", \"type\": \"multiple_choice\", \"answers\": [{\"answer\": \"It can solve a non-linear system of equations\", \"correct\": false}, {\"answer\": \"No need of an initial guess\", \"correct\": true}, {\"answer\": \"Requires very few points\", \"correct\": false}, {\"answer\": \"All of the above\", \"correct\": false}], \"tag\": \"scipy applications\", \"lecture_file\": \"16_linear_algebra\"}, {\"question\": \"Which of the folllowing matrices are in reduced row echelon form:<br>1: np.array([[1, 2, 3], [0, 1, 0], [0, 0, 1]])<br>2: np.array([[1, 0, 1], [0, 1, 1], [0, 0, 0]])<br>3: np.array([[0, 1, 0], [0, 0, 1], [0, 0, 0]])\", \"type\": \"multiple_choice\", \"answers\": [{\"answer\": \"1, 2, 3\", \"correct\": false}, {\"answer\": \"1, 2\", \"correct\": false}, {\"answer\": \"2, 3\", \"correct\": false}, {\"answer\": \"3\", \"correct\": true}], \"tag\": \"reduced_row_echelon matrices\", \"lecture_file\": \"16_linear_algebra\"}, {\"question\": \"Which of the following  is not true about a dot product\", \"type\": \"multiple_choice\", \"answers\": [{\"answer\": \"It is the sum of the element-wise product of 2 arrays\", \"correct\": false}, {\"answer\": \"square root of a vector's dot product with itself is the magnitude of the vector\", \"correct\": false}, {\"answer\": \"It can also produce a vector\", \"correct\": true}, {\"answer\": \"It can be used to find the angle between 2 vectors\", \"correct\": false}], \"tag\": \"dot_product\", \"lecture_file\": \"16_linear_algebra\"}, {\"question\": \"Which of the following is a property of dot products for the vectors A, B, C.\", \"type\": \"multiple_choice\", \"answers\": [{\"answer\": \"If A.B = A.C; then B=C\", \"correct\": false}, {\"answer\": \"(A.B).C = C.(A.B)\", \"correct\": false}, {\"answer\": \"A and B are orthogonal if A.B = 1\", \"correct\": false}, {\"answer\": \"A.(B+C) = A.B + A.C\", \"correct\": true}], \"tag\": \"dot_product\", \"lecture_file\": \"16_linear_algebra\"}];\n",
       "    // Make a random ID\n",
       "function makeid(length) {\n",
       "    var result = [];\n",
       "    var characters = 'ABCDEFGHIJKLMNOPQRSTUVWXYZabcdefghijklmnopqrstuvwxyz';\n",
       "    var charactersLength = characters.length;\n",
       "    for (var i = 0; i < length; i++) {\n",
       "        result.push(characters.charAt(Math.floor(Math.random() * charactersLength)));\n",
       "    }\n",
       "    return result.join('');\n",
       "}\n",
       "\n",
       "// Choose a random subset of an array. Can also be used to shuffle the array\n",
       "function getRandomSubarray(arr, size) {\n",
       "    var shuffled = arr.slice(0), i = arr.length, temp, index;\n",
       "    while (i--) {\n",
       "        index = Math.floor((i + 1) * Math.random());\n",
       "        temp = shuffled[index];\n",
       "        shuffled[index] = shuffled[i];\n",
       "        shuffled[i] = temp;\n",
       "    }\n",
       "    return shuffled.slice(0, size);\n",
       "}\n",
       "\n",
       "function printResponses(responsesContainer) {\n",
       "    var responses=JSON.parse(responsesContainer.dataset.responses);\n",
       "    var stringResponses='<B>IMPORTANT!</B>To preserve this answer sequence for submission, when you have finalized your answers: <ol> <li> Copy the text in this cell below \"Answer String\"</li> <li> Double click on the cell directly below the Answer String, labeled \"Replace Me\"</li> <li> Select the whole \"Replace Me\" text</li> <li> Paste in your answer string and press shift-Enter.</li><li>Save the notebook using the save icon or File->Save Notebook menu item</li></ul><br><br><br><b>Answer String:</b><br> ';\n",
       "    console.log(responses);\n",
       "    responses.forEach((response, index) => {\n",
       "        if (response) {\n",
       "            console.log(index + ': ' + response);\n",
       "            stringResponses+= index + ': ' + response +\"<BR>\";\n",
       "        }\n",
       "    });\n",
       "    responsesContainer.innerHTML=stringResponses;\n",
       "}\n",
       "function check_mc() {\n",
       "    var id = this.id.split('-')[0];\n",
       "    //var response = this.id.split('-')[1];\n",
       "    //console.log(response);\n",
       "    //console.log(\"In check_mc(), id=\"+id);\n",
       "    //console.log(event.srcElement.id)           \n",
       "    //console.log(event.srcElement.dataset.correct)   \n",
       "    //console.log(event.srcElement.dataset.feedback)\n",
       "\n",
       "    var label = event.srcElement;\n",
       "    //console.log(label, label.nodeName);\n",
       "    var depth = 0;\n",
       "    while ((label.nodeName != \"LABEL\") && (depth < 20)) {\n",
       "        label = label.parentElement;\n",
       "        console.log(depth, label);\n",
       "        depth++;\n",
       "    }\n",
       "\n",
       "\n",
       "\n",
       "    var answers = label.parentElement.children;\n",
       "\n",
       "    //console.log(answers);\n",
       "\n",
       "\n",
       "    // Split behavior based on multiple choice vs many choice:\n",
       "    var fb = document.getElementById(\"fb\" + id);\n",
       "\n",
       "\n",
       "\n",
       "\n",
       "    if (fb.dataset.numcorrect == 1) {\n",
       "        // What follows is for the saved responses stuff\n",
       "        var outerContainer = fb.parentElement.parentElement;\n",
       "        var responsesContainer = document.getElementById(\"responses\" + outerContainer.id);\n",
       "        if (responsesContainer) {\n",
       "            //console.log(responsesContainer);\n",
       "            var response = label.firstChild.innerText;\n",
       "            if (label.querySelector(\".QuizCode\")){\n",
       "                response+= label.querySelector(\".QuizCode\").firstChild.innerText;\n",
       "            }\n",
       "            console.log(response);\n",
       "            //console.log(document.getElementById(\"quizWrap\"+id));\n",
       "            var qnum = document.getElementById(\"quizWrap\"+id).dataset.qnum;\n",
       "            console.log(\"Question \" + qnum);\n",
       "            //console.log(id, \", got numcorrect=\",fb.dataset.numcorrect);\n",
       "            var responses=JSON.parse(responsesContainer.dataset.responses);\n",
       "            console.log(responses);\n",
       "            responses[qnum]= response;\n",
       "            responsesContainer.setAttribute('data-responses', JSON.stringify(responses));\n",
       "            printResponses(responsesContainer);\n",
       "        }\n",
       "        // End code to preserve responses\n",
       "        \n",
       "        for (var i = 0; i < answers.length; i++) {\n",
       "            var child = answers[i];\n",
       "            //console.log(child);\n",
       "            child.className = \"MCButton\";\n",
       "        }\n",
       "\n",
       "\n",
       "\n",
       "        if (label.dataset.correct == \"true\") {\n",
       "            // console.log(\"Correct action\");\n",
       "            if (\"feedback\" in label.dataset) {\n",
       "                fb.textContent = jaxify(label.dataset.feedback);\n",
       "            } else {\n",
       "                fb.textContent = \"Correct!\";\n",
       "            }\n",
       "            label.classList.add(\"correctButton\");\n",
       "\n",
       "            fb.className = \"Feedback\";\n",
       "            fb.classList.add(\"correct\");\n",
       "\n",
       "        } else {\n",
       "            if (\"feedback\" in label.dataset) {\n",
       "                fb.textContent = jaxify(label.dataset.feedback);\n",
       "            } else {\n",
       "                fb.textContent = \"Incorrect -- try again.\";\n",
       "            }\n",
       "            //console.log(\"Error action\");\n",
       "            label.classList.add(\"incorrectButton\");\n",
       "            fb.className = \"Feedback\";\n",
       "            fb.classList.add(\"incorrect\");\n",
       "        }\n",
       "    }\n",
       "    else {\n",
       "        var reset = false;\n",
       "        var feedback;\n",
       "         if (label.dataset.correct == \"true\") {\n",
       "            if (\"feedback\" in label.dataset) {\n",
       "                feedback = jaxify(label.dataset.feedback);\n",
       "            } else {\n",
       "                feedback = \"Correct!\";\n",
       "            }\n",
       "            if (label.dataset.answered <= 0) {\n",
       "                if (fb.dataset.answeredcorrect < 0) {\n",
       "                    fb.dataset.answeredcorrect = 1;\n",
       "                    reset = true;\n",
       "                } else {\n",
       "                    fb.dataset.answeredcorrect++;\n",
       "                }\n",
       "                if (reset) {\n",
       "                    for (var i = 0; i < answers.length; i++) {\n",
       "                        var child = answers[i];\n",
       "                        child.className = \"MCButton\";\n",
       "                        child.dataset.answered = 0;\n",
       "                    }\n",
       "                }\n",
       "                label.classList.add(\"correctButton\");\n",
       "                label.dataset.answered = 1;\n",
       "                fb.className = \"Feedback\";\n",
       "                fb.classList.add(\"correct\");\n",
       "\n",
       "            }\n",
       "        } else {\n",
       "            if (\"feedback\" in label.dataset) {\n",
       "                feedback = jaxify(label.dataset.feedback);\n",
       "            } else {\n",
       "                feedback = \"Incorrect -- try again.\";\n",
       "            }\n",
       "            if (fb.dataset.answeredcorrect > 0) {\n",
       "                fb.dataset.answeredcorrect = -1;\n",
       "                reset = true;\n",
       "            } else {\n",
       "                fb.dataset.answeredcorrect--;\n",
       "            }\n",
       "\n",
       "            if (reset) {\n",
       "                for (var i = 0; i < answers.length; i++) {\n",
       "                    var child = answers[i];\n",
       "                    child.className = \"MCButton\";\n",
       "                    child.dataset.answered = 0;\n",
       "                }\n",
       "            }\n",
       "            label.classList.add(\"incorrectButton\");\n",
       "            fb.className = \"Feedback\";\n",
       "            fb.classList.add(\"incorrect\");\n",
       "        }\n",
       "        // What follows is for the saved responses stuff\n",
       "        var outerContainer = fb.parentElement.parentElement;\n",
       "        var responsesContainer = document.getElementById(\"responses\" + outerContainer.id);\n",
       "        if (responsesContainer) {\n",
       "            //console.log(responsesContainer);\n",
       "            var response = label.firstChild.innerText;\n",
       "            if (label.querySelector(\".QuizCode\")){\n",
       "                response+= label.querySelector(\".QuizCode\").firstChild.innerText;\n",
       "            }\n",
       "            console.log(response);\n",
       "            //console.log(document.getElementById(\"quizWrap\"+id));\n",
       "            var qnum = document.getElementById(\"quizWrap\"+id).dataset.qnum;\n",
       "            console.log(\"Question \" + qnum);\n",
       "            //console.log(id, \", got numcorrect=\",fb.dataset.numcorrect);\n",
       "            var responses=JSON.parse(responsesContainer.dataset.responses);\n",
       "            if (label.dataset.correct == \"true\") {\n",
       "                if (typeof(responses[qnum]) == \"object\"){\n",
       "                    if (!responses[qnum].includes(response))\n",
       "                        responses[qnum].push(response);\n",
       "                } else{\n",
       "                    responses[qnum]= [ response ];\n",
       "                }\n",
       "            } else {\n",
       "                responses[qnum]= response;\n",
       "            }\n",
       "            console.log(responses);\n",
       "            responsesContainer.setAttribute('data-responses', JSON.stringify(responses));\n",
       "            printResponses(responsesContainer);\n",
       "        }\n",
       "        // End save responses stuff\n",
       "\n",
       "\n",
       "\n",
       "        var numcorrect = fb.dataset.numcorrect;\n",
       "        var answeredcorrect = fb.dataset.answeredcorrect;\n",
       "        if (answeredcorrect >= 0) {\n",
       "            fb.textContent = feedback + \" [\" + answeredcorrect + \"/\" + numcorrect + \"]\";\n",
       "        } else {\n",
       "            fb.textContent = feedback + \" [\" + 0 + \"/\" + numcorrect + \"]\";\n",
       "        }\n",
       "\n",
       "\n",
       "    }\n",
       "\n",
       "    if (typeof MathJax != 'undefined') {\n",
       "        var version = MathJax.version;\n",
       "        console.log('MathJax version', version);\n",
       "        if (version[0] == \"2\") {\n",
       "            MathJax.Hub.Queue([\"Typeset\", MathJax.Hub]);\n",
       "        } else if (version[0] == \"3\") {\n",
       "            MathJax.typeset([fb]);\n",
       "        }\n",
       "    } else {\n",
       "        console.log('MathJax not detected');\n",
       "    }\n",
       "\n",
       "}\n",
       "\n",
       "function make_mc(qa, shuffle_answers, outerqDiv, qDiv, aDiv, id) {\n",
       "    var shuffled;\n",
       "    if (shuffle_answers == \"True\") {\n",
       "        //console.log(shuffle_answers+\" read as true\");\n",
       "        shuffled = getRandomSubarray(qa.answers, qa.answers.length);\n",
       "    } else {\n",
       "        //console.log(shuffle_answers+\" read as false\");\n",
       "        shuffled = qa.answers;\n",
       "    }\n",
       "\n",
       "\n",
       "    var num_correct = 0;\n",
       "\n",
       "\n",
       "\n",
       "    shuffled.forEach((item, index, ans_array) => {\n",
       "        //console.log(answer);\n",
       "\n",
       "        // Make input element\n",
       "        var inp = document.createElement(\"input\");\n",
       "        inp.type = \"radio\";\n",
       "        inp.id = \"quizo\" + id + index;\n",
       "        inp.style = \"display:none;\";\n",
       "        aDiv.append(inp);\n",
       "\n",
       "        //Make label for input element\n",
       "        var lab = document.createElement(\"label\");\n",
       "        lab.className = \"MCButton\";\n",
       "        lab.id = id + '-' + index;\n",
       "        lab.onclick = check_mc;\n",
       "        var aSpan = document.createElement('span');\n",
       "        aSpan.classsName = \"\";\n",
       "        //qDiv.id=\"quizQn\"+id+index;\n",
       "        if (\"answer\" in item) {\n",
       "            aSpan.innerHTML = jaxify(item.answer);\n",
       "            //aSpan.innerHTML=item.answer;\n",
       "        }\n",
       "        lab.append(aSpan);\n",
       "\n",
       "        // Create div for code inside question\n",
       "        var codeSpan;\n",
       "        if (\"code\" in item) {\n",
       "            codeSpan = document.createElement('span');\n",
       "            codeSpan.id = \"code\" + id + index;\n",
       "            codeSpan.className = \"QuizCode\";\n",
       "            var codePre = document.createElement('pre');\n",
       "            codeSpan.append(codePre);\n",
       "            var codeCode = document.createElement('code');\n",
       "            codePre.append(codeCode);\n",
       "            codeCode.innerHTML = item.code;\n",
       "            lab.append(codeSpan);\n",
       "            //console.log(codeSpan);\n",
       "        }\n",
       "\n",
       "        //lab.textContent=item.answer;\n",
       "\n",
       "        // Set the data attributes for the answer\n",
       "        lab.setAttribute('data-correct', item.correct);\n",
       "        if (item.correct) {\n",
       "            num_correct++;\n",
       "        }\n",
       "        if (\"feedback\" in item) {\n",
       "            lab.setAttribute('data-feedback', item.feedback);\n",
       "        }\n",
       "        lab.setAttribute('data-answered', 0);\n",
       "\n",
       "        aDiv.append(lab);\n",
       "\n",
       "    });\n",
       "\n",
       "    if (num_correct > 1) {\n",
       "        outerqDiv.className = \"ManyChoiceQn\";\n",
       "    } else {\n",
       "        outerqDiv.className = \"MultipleChoiceQn\";\n",
       "    }\n",
       "\n",
       "    return num_correct;\n",
       "\n",
       "}\n",
       "function check_numeric(ths, event) {\n",
       "\n",
       "    if (event.keyCode === 13) {\n",
       "        ths.blur();\n",
       "\n",
       "        var id = ths.id.split('-')[0];\n",
       "\n",
       "        var submission = ths.value;\n",
       "        if (submission.indexOf('/') != -1) {\n",
       "            var sub_parts = submission.split('/');\n",
       "            //console.log(sub_parts);\n",
       "            submission = sub_parts[0] / sub_parts[1];\n",
       "        }\n",
       "        //console.log(\"Reader entered\", submission);\n",
       "\n",
       "        if (\"precision\" in ths.dataset) {\n",
       "            var precision = ths.dataset.precision;\n",
       "            // console.log(\"1:\", submission)\n",
       "            submission = Math.round((1 * submission + Number.EPSILON) * 10 ** precision) / 10 ** precision;\n",
       "            // console.log(\"Rounded to \", submission, \" precision=\", precision  );\n",
       "        }\n",
       "\n",
       "\n",
       "        //console.log(\"In check_numeric(), id=\"+id);\n",
       "        //console.log(event.srcElement.id)           \n",
       "        //console.log(event.srcElement.dataset.feedback)\n",
       "\n",
       "        var fb = document.getElementById(\"fb\" + id);\n",
       "        fb.style.display = \"none\";\n",
       "        fb.textContent = \"Incorrect -- try again.\";\n",
       "\n",
       "        var answers = JSON.parse(ths.dataset.answers);\n",
       "        //console.log(answers);\n",
       "\n",
       "        var defaultFB = \"\";\n",
       "        var correct;\n",
       "        var done = false;\n",
       "        answers.every(answer => {\n",
       "            //console.log(answer.type);\n",
       "\n",
       "            correct = false;\n",
       "            // if (answer.type==\"value\"){\n",
       "            if ('value' in answer) {\n",
       "                if (submission == answer.value) {\n",
       "                    if (\"feedback\" in answer) {\n",
       "                        fb.textContent = jaxify(answer.feedback);\n",
       "                    } else {\n",
       "                        fb.textContent = jaxify(\"Correct\");\n",
       "                    }\n",
       "                    correct = answer.correct;\n",
       "                    //console.log(answer.correct);\n",
       "                    done = true;\n",
       "                }\n",
       "                // } else if (answer.type==\"range\") {\n",
       "            } else if ('range' in answer) {\n",
       "                //console.log(answer.range);\n",
       "                if ((submission >= answer.range[0]) && (submission < answer.range[1])) {\n",
       "                    fb.textContent = jaxify(answer.feedback);\n",
       "                    correct = answer.correct;\n",
       "                    //console.log(answer.correct);\n",
       "                    done = true;\n",
       "                }\n",
       "            } else if (answer.type == \"default\") {\n",
       "                defaultFB = answer.feedback;\n",
       "            }\n",
       "            if (done) {\n",
       "                return false; // Break out of loop if this has been marked correct\n",
       "            } else {\n",
       "                return true; // Keep looking for case that includes this as a correct answer\n",
       "            }\n",
       "        });\n",
       "\n",
       "        if ((!done) && (defaultFB != \"\")) {\n",
       "            fb.innerHTML = jaxify(defaultFB);\n",
       "            //console.log(\"Default feedback\", defaultFB);\n",
       "        }\n",
       "\n",
       "        fb.style.display = \"block\";\n",
       "        if (correct) {\n",
       "            ths.className = \"Input-text\";\n",
       "            ths.classList.add(\"correctButton\");\n",
       "            fb.className = \"Feedback\";\n",
       "            fb.classList.add(\"correct\");\n",
       "        } else {\n",
       "            ths.className = \"Input-text\";\n",
       "            ths.classList.add(\"incorrectButton\");\n",
       "            fb.className = \"Feedback\";\n",
       "            fb.classList.add(\"incorrect\");\n",
       "        }\n",
       "\n",
       "        // What follows is for the saved responses stuff\n",
       "        var outerContainer = fb.parentElement.parentElement;\n",
       "        var responsesContainer = document.getElementById(\"responses\" + outerContainer.id);\n",
       "        if (responsesContainer) {\n",
       "            console.log(submission);\n",
       "            var qnum = document.getElementById(\"quizWrap\"+id).dataset.qnum;\n",
       "            //console.log(\"Question \" + qnum);\n",
       "            //console.log(id, \", got numcorrect=\",fb.dataset.numcorrect);\n",
       "            var responses=JSON.parse(responsesContainer.dataset.responses);\n",
       "            console.log(responses);\n",
       "            if (submission == ths.value){\n",
       "                responses[qnum]= submission;\n",
       "            } else {\n",
       "                responses[qnum]= ths.value + \"(\" + submission +\")\";\n",
       "            }\n",
       "            responsesContainer.setAttribute('data-responses', JSON.stringify(responses));\n",
       "            printResponses(responsesContainer);\n",
       "        }\n",
       "        // End code to preserve responses\n",
       "\n",
       "        if (typeof MathJax != 'undefined') {\n",
       "            var version = MathJax.version;\n",
       "            console.log('MathJax version', version);\n",
       "            if (version[0] == \"2\") {\n",
       "                MathJax.Hub.Queue([\"Typeset\", MathJax.Hub]);\n",
       "            } else if (version[0] == \"3\") {\n",
       "                MathJax.typeset([fb]);\n",
       "            }\n",
       "        } else {\n",
       "            console.log('MathJax not detected');\n",
       "        }\n",
       "        return false;\n",
       "    }\n",
       "\n",
       "}\n",
       "\n",
       "function isValid(el, charC) {\n",
       "    //console.log(\"Input char: \", charC);\n",
       "    if (charC == 46) {\n",
       "        if (el.value.indexOf('.') === -1) {\n",
       "            return true;\n",
       "        } else if (el.value.indexOf('/') != -1) {\n",
       "            var parts = el.value.split('/');\n",
       "            if (parts[1].indexOf('.') === -1) {\n",
       "                return true;\n",
       "            }\n",
       "        }\n",
       "        else {\n",
       "            return false;\n",
       "        }\n",
       "    } else if (charC == 47) {\n",
       "        if (el.value.indexOf('/') === -1) {\n",
       "            if ((el.value != \"\") && (el.value != \".\")) {\n",
       "                return true;\n",
       "            } else {\n",
       "                return false;\n",
       "            }\n",
       "        } else {\n",
       "            return false;\n",
       "        }\n",
       "    } else if (charC == 45) {\n",
       "        var edex = el.value.indexOf('e');\n",
       "        if (edex == -1) {\n",
       "            edex = el.value.indexOf('E');\n",
       "        }\n",
       "\n",
       "        if (el.value == \"\") {\n",
       "            return true;\n",
       "        } else if (edex == (el.value.length - 1)) { // If just after e or E\n",
       "            return true;\n",
       "        } else {\n",
       "            return false;\n",
       "        }\n",
       "    } else if (charC == 101) { // \"e\"\n",
       "        if ((el.value.indexOf('e') === -1) && (el.value.indexOf('E') === -1) && (el.value.indexOf('/') == -1)) {\n",
       "            // Prev symbol must be digit or decimal point:\n",
       "            if (el.value.slice(-1).search(/\\d/) >= 0) {\n",
       "                return true;\n",
       "            } else if (el.value.slice(-1).search(/\\./) >= 0) {\n",
       "                return true;\n",
       "            } else {\n",
       "                return false;\n",
       "            }\n",
       "        } else {\n",
       "            return false;\n",
       "        }\n",
       "    } else {\n",
       "        if (charC > 31 && (charC < 48 || charC > 57))\n",
       "            return false;\n",
       "    }\n",
       "    return true;\n",
       "}\n",
       "\n",
       "function numeric_keypress(evnt) {\n",
       "    var charC = (evnt.which) ? evnt.which : evnt.keyCode;\n",
       "\n",
       "    if (charC == 13) {\n",
       "        check_numeric(this, evnt);\n",
       "    } else {\n",
       "        return isValid(this, charC);\n",
       "    }\n",
       "}\n",
       "\n",
       "\n",
       "\n",
       "\n",
       "\n",
       "function make_numeric(qa, outerqDiv, qDiv, aDiv, id) {\n",
       "\n",
       "\n",
       "\n",
       "    //console.log(answer);\n",
       "\n",
       "\n",
       "    outerqDiv.className = \"NumericQn\";\n",
       "    aDiv.style.display = 'block';\n",
       "\n",
       "    var lab = document.createElement(\"label\");\n",
       "    lab.className = \"InpLabel\";\n",
       "    lab.textContent = \"Type numeric answer here:\";\n",
       "    aDiv.append(lab);\n",
       "\n",
       "    var inp = document.createElement(\"input\");\n",
       "    inp.type = \"text\";\n",
       "    //inp.id=\"input-\"+id;\n",
       "    inp.id = id + \"-0\";\n",
       "    inp.className = \"Input-text\";\n",
       "    inp.setAttribute('data-answers', JSON.stringify(qa.answers));\n",
       "    if (\"precision\" in qa) {\n",
       "        inp.setAttribute('data-precision', qa.precision);\n",
       "    }\n",
       "    aDiv.append(inp);\n",
       "    //console.log(inp);\n",
       "\n",
       "    //inp.addEventListener(\"keypress\", check_numeric);\n",
       "    //inp.addEventListener(\"keypress\", numeric_keypress);\n",
       "    /*\n",
       "    inp.addEventListener(\"keypress\", function(event) {\n",
       "        return numeric_keypress(this, event);\n",
       "    }\n",
       "                        );\n",
       "                        */\n",
       "    //inp.onkeypress=\"return numeric_keypress(this, event)\";\n",
       "    inp.onkeypress = numeric_keypress;\n",
       "    inp.onpaste = event => false;\n",
       "\n",
       "    inp.addEventListener(\"focus\", function (event) {\n",
       "        this.value = \"\";\n",
       "        return false;\n",
       "    }\n",
       "    );\n",
       "\n",
       "\n",
       "}\n",
       "function jaxify(string) {\n",
       "    var mystring = string;\n",
       "\n",
       "    var count = 0;\n",
       "    var loc = mystring.search(/([^\\\\]|^)(\\$)/);\n",
       "\n",
       "    var count2 = 0;\n",
       "    var loc2 = mystring.search(/([^\\\\]|^)(\\$\\$)/);\n",
       "\n",
       "    //console.log(loc);\n",
       "\n",
       "    while ((loc >= 0) || (loc2 >= 0)) {\n",
       "\n",
       "        /* Have to replace all the double $$ first with current implementation */\n",
       "        if (loc2 >= 0) {\n",
       "            if (count2 % 2 == 0) {\n",
       "                mystring = mystring.replace(/([^\\\\]|^)(\\$\\$)/, \"$1\\\\[\");\n",
       "            } else {\n",
       "                mystring = mystring.replace(/([^\\\\]|^)(\\$\\$)/, \"$1\\\\]\");\n",
       "            }\n",
       "            count2++;\n",
       "        } else {\n",
       "            if (count % 2 == 0) {\n",
       "                mystring = mystring.replace(/([^\\\\]|^)(\\$)/, \"$1\\\\(\");\n",
       "            } else {\n",
       "                mystring = mystring.replace(/([^\\\\]|^)(\\$)/, \"$1\\\\)\");\n",
       "            }\n",
       "            count++;\n",
       "        }\n",
       "        loc = mystring.search(/([^\\\\]|^)(\\$)/);\n",
       "        loc2 = mystring.search(/([^\\\\]|^)(\\$\\$)/);\n",
       "        //console.log(mystring,\", loc:\",loc,\", loc2:\",loc2);\n",
       "    }\n",
       "\n",
       "    //console.log(mystring);\n",
       "    return mystring;\n",
       "}\n",
       "\n",
       "\n",
       "function show_questions(json, mydiv) {\n",
       "    console.log('show_questions');\n",
       "    //var mydiv=document.getElementById(myid);\n",
       "    var shuffle_questions = mydiv.dataset.shufflequestions;\n",
       "    var num_questions = mydiv.dataset.numquestions;\n",
       "    var shuffle_answers = mydiv.dataset.shuffleanswers;\n",
       "    var max_width = mydiv.dataset.maxwidth;\n",
       "\n",
       "    if (num_questions > json.length) {\n",
       "        num_questions = json.length;\n",
       "    }\n",
       "\n",
       "    var questions;\n",
       "    if ((num_questions < json.length) || (shuffle_questions == \"True\")) {\n",
       "        //console.log(num_questions+\",\"+json.length);\n",
       "        questions = getRandomSubarray(json, num_questions);\n",
       "    } else {\n",
       "        questions = json;\n",
       "    }\n",
       "\n",
       "    //console.log(\"SQ: \"+shuffle_questions+\", NQ: \" + num_questions + \", SA: \", shuffle_answers);\n",
       "\n",
       "    // Iterate over questions\n",
       "    questions.forEach((qa, index, array) => {\n",
       "        //console.log(qa.question); \n",
       "\n",
       "        var id = makeid(8);\n",
       "        //console.log(id);\n",
       "\n",
       "\n",
       "        // Create Div to contain question and answers\n",
       "        var iDiv = document.createElement('div');\n",
       "        //iDiv.id = 'quizWrap' + id + index;\n",
       "        iDiv.id = 'quizWrap' + id;\n",
       "        iDiv.className = 'Quiz';\n",
       "        iDiv.setAttribute('data-qnum', index);\n",
       "        iDiv.style.maxWidth  =max_width+\"px\";\n",
       "        mydiv.appendChild(iDiv);\n",
       "        // iDiv.innerHTML=qa.question;\n",
       "        \n",
       "        var outerqDiv = document.createElement('div');\n",
       "        outerqDiv.id = \"OuterquizQn\" + id + index;\n",
       "        // Create div to contain question part\n",
       "        var qDiv = document.createElement('div');\n",
       "        qDiv.id = \"quizQn\" + id + index;\n",
       "        \n",
       "        if (qa.question) {\n",
       "            iDiv.append(outerqDiv);\n",
       "\n",
       "            //qDiv.textContent=qa.question;\n",
       "            qDiv.innerHTML = jaxify(qa.question);\n",
       "            outerqDiv.append(qDiv);\n",
       "        }\n",
       "\n",
       "        // Create div for code inside question\n",
       "        var codeDiv;\n",
       "        if (\"code\" in qa) {\n",
       "            codeDiv = document.createElement('div');\n",
       "            codeDiv.id = \"code\" + id + index;\n",
       "            codeDiv.className = \"QuizCode\";\n",
       "            var codePre = document.createElement('pre');\n",
       "            codeDiv.append(codePre);\n",
       "            var codeCode = document.createElement('code');\n",
       "            codePre.append(codeCode);\n",
       "            codeCode.innerHTML = qa.code;\n",
       "            outerqDiv.append(codeDiv);\n",
       "            //console.log(codeDiv);\n",
       "        }\n",
       "\n",
       "\n",
       "        // Create div to contain answer part\n",
       "        var aDiv = document.createElement('div');\n",
       "        aDiv.id = \"quizAns\" + id + index;\n",
       "        aDiv.className = 'Answer';\n",
       "        iDiv.append(aDiv);\n",
       "\n",
       "        //console.log(qa.type);\n",
       "\n",
       "        var num_correct;\n",
       "        if ((qa.type == \"multiple_choice\") || (qa.type == \"many_choice\") ) {\n",
       "            num_correct = make_mc(qa, shuffle_answers, outerqDiv, qDiv, aDiv, id);\n",
       "            if (\"answer_cols\" in qa) {\n",
       "                //aDiv.style.gridTemplateColumns = 'auto '.repeat(qa.answer_cols);\n",
       "                aDiv.style.gridTemplateColumns = 'repeat(' + qa.answer_cols + ', 1fr)';\n",
       "            }\n",
       "        } else if (qa.type == \"numeric\") {\n",
       "            //console.log(\"numeric\");\n",
       "            make_numeric(qa, outerqDiv, qDiv, aDiv, id);\n",
       "        }\n",
       "\n",
       "\n",
       "        //Make div for feedback\n",
       "        var fb = document.createElement(\"div\");\n",
       "        fb.id = \"fb\" + id;\n",
       "        //fb.style=\"font-size: 20px;text-align:center;\";\n",
       "        fb.className = \"Feedback\";\n",
       "        fb.setAttribute(\"data-answeredcorrect\", 0);\n",
       "        fb.setAttribute(\"data-numcorrect\", num_correct);\n",
       "        iDiv.append(fb);\n",
       "\n",
       "\n",
       "    });\n",
       "    var preserveResponses = mydiv.dataset.preserveresponses;\n",
       "    console.log(preserveResponses);\n",
       "    console.log(preserveResponses == \"true\");\n",
       "    if (preserveResponses == \"true\") {\n",
       "        console.log(preserveResponses);\n",
       "        // Create Div to contain record of answers\n",
       "        var iDiv = document.createElement('div');\n",
       "        iDiv.id = 'responses' + mydiv.id;\n",
       "        iDiv.className = 'JCResponses';\n",
       "        // Create a place to store responses as an empty array\n",
       "        iDiv.setAttribute('data-responses', '[]');\n",
       "\n",
       "        // Dummy Text\n",
       "        iDiv.innerHTML=\"<b>Select your answers and then follow the directions that will appear here.</b>\"\n",
       "        //iDiv.className = 'Quiz';\n",
       "        mydiv.appendChild(iDiv);\n",
       "    }\n",
       "//console.log(\"At end of show_questions\");\n",
       "    if (typeof MathJax != 'undefined') {\n",
       "        console.log(\"MathJax version\", MathJax.version);\n",
       "        var version = MathJax.version;\n",
       "        setTimeout(function(){\n",
       "            var version = MathJax.version;\n",
       "            console.log('After sleep, MathJax version', version);\n",
       "            if (version[0] == \"2\") {\n",
       "                MathJax.Hub.Queue([\"Typeset\", MathJax.Hub]);\n",
       "            } else if (version[0] == \"3\") {\n",
       "                MathJax.typeset([mydiv]);\n",
       "            }\n",
       "        }, 500);\n",
       "if (typeof version == 'undefined') {\n",
       "        } else\n",
       "        {\n",
       "            if (version[0] == \"2\") {\n",
       "                MathJax.Hub.Queue([\"Typeset\", MathJax.Hub]);\n",
       "            } else if (version[0] == \"3\") {\n",
       "                MathJax.typeset([mydiv]);\n",
       "            } else {\n",
       "                console.log(\"MathJax not found\");\n",
       "            }\n",
       "        }\n",
       "    }\n",
       "    return false;\n",
       "}\n",
       "/* This is to handle asynchrony issues in loading Jupyter notebooks\n",
       "           where the quiz has been previously run. The Javascript was generally\n",
       "           being run before the div was added to the DOM. I tried to do this\n",
       "           more elegantly using Mutation Observer, but I didn't get it to work.\n",
       "\n",
       "           Someone more knowledgeable could make this better ;-) */\n",
       "\n",
       "        function try_show() {\n",
       "          if(document.getElementById(\"kVYJisaXtErS\")) {\n",
       "            show_questions(questionskVYJisaXtErS,  kVYJisaXtErS); \n",
       "          } else {\n",
       "             setTimeout(try_show, 200);\n",
       "          }\n",
       "        };\n",
       "    \n",
       "        {\n",
       "        // console.log(element);\n",
       "\n",
       "        //console.log(\"kVYJisaXtErS\");\n",
       "        // console.log(document.getElementById(\"kVYJisaXtErS\"));\n",
       "\n",
       "        try_show();\n",
       "        }\n",
       "        "
      ],
      "text/plain": [
       "<IPython.core.display.Javascript object>"
      ]
     },
     "metadata": {},
     "output_type": "display_data"
    }
   ],
   "source": [
    "from jupyterquiz import display_quiz\n",
    "display_quiz('.quiz.json')"
   ]
  }
 ],
 "metadata": {
  "colab": {
   "collapsed_sections": [],
   "name": "16-linear-algebra.ipynb",
   "provenance": []
  },
  "kernelspec": {
   "display_name": "Python 3 (ipykernel)",
   "language": "python",
   "name": "python3"
  },
  "language_info": {
   "codemirror_mode": {
    "name": "ipython",
    "version": 3
   },
   "file_extension": ".py",
   "mimetype": "text/x-python",
   "name": "python",
   "nbconvert_exporter": "python",
   "pygments_lexer": "ipython3",
   "version": "3.9.12"
  },
  "org": {
   "KEYWORDS": "numpy.linalg.solve"
  },
  "vscode": {
   "interpreter": {
    "hash": "d4d1e4263499bec80672ea0156c357c1ee493ec2b1c70f0acce89fc37c4a6abe"
   }
  },
  "widgets": {
   "application/vnd.jupyter.widget-state+json": {
    "state": {},
    "version_major": 2,
    "version_minor": 0
   }
  }
 },
 "nbformat": 4,
 "nbformat_minor": 4
}
