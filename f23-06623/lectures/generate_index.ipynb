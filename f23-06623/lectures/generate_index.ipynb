{
 "cells": [
  {
   "cell_type": "markdown",
   "id": "5a0afbf7-7937-40a3-ba9d-d48f470b562f",
   "metadata": {},
   "source": [
    "# Generate the index from Keywords in each file."
   ]
  },
  {
   "cell_type": "code",
   "execution_count": 2,
   "id": "b63cf962-fe0a-4eb0-8928-fe26ce819332",
   "metadata": {},
   "outputs": [],
   "source": [
    "import glob, json\n",
    "from IPython.display import display, Markdown\n",
    "\n",
    "def generate_index():\n",
    "    all_keywords = set()\n",
    "    index = {}\n",
    "\n",
    "    for ipynb in glob.glob('**/*.ipynb'):\n",
    "        with open(ipynb) as f:\n",
    "            j = json.loads(f.read())\n",
    "        \n",
    "        for cell in j['cells']:\n",
    "            if cell['cell_type'] == 'markdown':\n",
    "                for line in cell['source']:\n",
    "                    if 'KEYWORDS' in line:\n",
    "                        keywords = [x.strip() for x in line.replace('- KEYWORDS:', '').strip().split(',')]\n",
    "                    else:\n",
    "                        keywords = []\n",
    "                    \n",
    "        index[ipynb] = keywords\n",
    "        all_keywords = all_keywords.union(keywords)\n",
    "    \n",
    "    all_keywords = sorted(list(all_keywords))\n",
    "\n",
    "\n",
    "    for key in all_keywords:\n",
    "        display(Markdown(f'## {key}'))\n",
    "        for ipynb in index:\n",
    "            if key in index[ipynb]:\n",
    "                display(Markdown(f'-   [{ipynb}]({ipynb})'))"
   ]
  },
  {
   "cell_type": "markdown",
   "id": "9e96d2cb-c7cf-4af7-a0e8-cc25980034ba",
   "metadata": {},
   "source": [
    "# Generate tag index"
   ]
  },
  {
   "cell_type": "code",
   "execution_count": 28,
   "id": "fae5bab3-4d41-47c2-8f41-c4290e0dda26",
   "metadata": {},
   "outputs": [
    {
     "data": {
      "text/markdown": [
       "##  #event"
      ],
      "text/plain": [
       "<IPython.core.display.Markdown object>"
      ]
     },
     "metadata": {},
     "output_type": "display_data"
    },
    {
     "data": {
      "text/markdown": [
       "-   [05-nth-odes/05-nth-odes.ipynb](05-nth-odes/05-nth-odes.ipynb)"
      ],
      "text/plain": [
       "<IPython.core.display.Markdown object>"
      ]
     },
     "metadata": {},
     "output_type": "display_data"
    }
   ],
   "source": [
    "import re\n",
    "\n",
    "\n",
    "\n",
    "def generate_tags():\n",
    "    all_keywords = set()\n",
    "    index = {}\n",
    "\n",
    "    for ipynb in glob.glob('*/*.ipynb'):\n",
    "        with open(ipynb) as f:\n",
    "            j = json.loads(f.read())\n",
    "        \n",
    "        for cell in j['cells']:\n",
    "            if cell['cell_type'] == 'markdown':\n",
    "                for line in cell['source']:\n",
    "                    m = re.findall(' #[a-zA-Z]+', line)\n",
    "                    if m:\n",
    "                        for tag in m:\n",
    "                            all_keywords.add(tag)\n",
    "                        index[ipynb] = m\n",
    "                        \n",
    "    all_keywords = sorted(list(all_keywords))\n",
    "\n",
    "    for key in all_keywords:\n",
    "        display(Markdown(f'## {key}'))\n",
    "        for ipynb in index:\n",
    "            if key in index[ipynb]:\n",
    "                display(Markdown(f'-   [{ipynb}]({ipynb})'))                        "
   ]
  }
 ],
 "metadata": {
  "kernelspec": {
   "display_name": "Python 3",
   "language": "python",
   "name": "python3"
  },
  "language_info": {
   "codemirror_mode": {
    "name": "ipython",
    "version": 3
   },
   "file_extension": ".py",
   "mimetype": "text/x-python",
   "name": "python",
   "nbconvert_exporter": "python",
   "pygments_lexer": "ipython3",
   "version": "3.9.7"
  },
  "widgets": {
   "application/vnd.jupyter.widget-state+json": {
    "state": {},
    "version_major": 2,
    "version_minor": 0
   }
  }
 },
 "nbformat": 4,
 "nbformat_minor": 5
}
