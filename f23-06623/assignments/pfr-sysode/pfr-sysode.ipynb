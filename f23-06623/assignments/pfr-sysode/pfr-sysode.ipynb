{
 "cells": [
  {
   "cell_type": "markdown",
   "metadata": {
    "id": "7g_liZY0MoNe"
   },
   "source": [
    "## Plug flow reactor with a pressure drop\n",
    "\n"
   ]
  },
  {
   "cell_type": "markdown",
   "metadata": {
    "id": "_3pU5HRkMoNj"
   },
   "source": [
    "Name: <font color=\"red\">Put your name here</font>\n",
    "\n"
   ]
  },
  {
   "cell_type": "markdown",
   "metadata": {
    "id": "j0mI3KpUMoNk"
   },
   "source": [
    "The performance of a plug flow reactor with a pressure drop is defined by these two coupled ODEs:\n",
    "\n",
    "$\\frac{dX}{dW} = \\frac{k'}{F_{A0}}\\frac{1 - X}{1 + \\epsilon X} y$\n",
    "\n",
    "$\\frac{dy}{dW} = - \\frac{\\alpha (1 + \\epsilon X)}{2 y}$\n",
    "\n",
    "Where $X$ is the conversion, $y$ is the dimensionless pressure, and $W$ is the weight of catalyst in the reactor. The constants are described below.\n",
    "\n"
   ]
  },
  {
   "cell_type": "code",
   "execution_count": null,
   "metadata": {
    "id": "RPxsk_34MoNl"
   },
   "outputs": [],
   "source": [
    "kprime = 0.0266  # rate constant\n",
    "Fa0 = 1.08       # inlet molar flow\n",
    "alpha = 0.0166   # pressure drop parameter\n",
    "epsilon = -0.15  # mole change parameter"
   ]
  },
  {
   "cell_type": "markdown",
   "metadata": {
    "id": "fH9SIoAMMoNm"
   },
   "source": [
    "At the beginning of the reactor you have $X=0$ and $y=1$. Use this information to determine how much catalyst weight is required to reach a conversion of 0.5. What is the dimensionless pressure at that catalyst weight?\n",
    "\n"
   ]
  },
  {
   "cell_type": "code",
   "execution_count": null,
   "metadata": {
    "id": "Tuz6kCTgMoNn",
    "outputId": "2490ec2f-f56e-4dd3-8fe9-47296f1ca04c"
   },
   "outputs": [],
   "source": []
  },
  {
   "cell_type": "code",
   "execution_count": null,
   "metadata": {
    "id": "CDvTpq1yMoNp",
    "tags": [
     "raises-exception",
     "remove-output"
    ]
   },
   "outputs": [],
   "source": [
    "%run ~/f23-06623/f23.py\n",
    "%pdf"
   ]
  }
 ],
 "metadata": {
  "colab": {
   "name": "pfr-sysode-event.ipynb",
   "provenance": []
  },
  "kernelspec": {
   "display_name": "Python 3",
   "language": "python",
   "name": "python3"
  },
  "language_info": {
   "codemirror_mode": {
    "name": "ipython",
    "version": 3
   },
   "file_extension": ".py",
   "mimetype": "text/x-python",
   "name": "python",
   "nbconvert_exporter": "python",
   "pygments_lexer": "ipython3",
   "version": "3.9.7"
  },
  "org": null,
  "widgets": {
   "application/vnd.jupyter.widget-state+json": {
    "state": {},
    "version_major": 2,
    "version_minor": 0
   }
  }
 },
 "nbformat": 4,
 "nbformat_minor": 4
}
