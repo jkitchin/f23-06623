{
 "cells": [
  {
   "cell_type": "markdown",
   "id": "b6d41fdc",
   "metadata": {},
   "source": [
    "Before you turn this problem in, make sure everything runs as expected. First, **restart the kernel** (in the menubar, select Kernel$\\rightarrow$Restart) and then **run all cells** (in the menubar, select Cell$\\rightarrow$Run All).\n",
    "\n",
    "Make sure you fill in any place that says `YOUR CODE HERE` or \"YOUR ANSWER HERE\", as well as your name and collaborators below:\n",
    "\n"
   ]
  },
  {
   "cell_type": "code",
   "execution_count": null,
   "id": "a464c58c",
   "metadata": {},
   "outputs": [],
   "source": [
    "NAME = \"\"\n",
    "COLLABORATORS = \"\"\n",
    "\n"
   ]
  },
  {
   "cell_type": "markdown",
   "id": "0963c0db",
   "metadata": {},
   "source": [
    "# inverse by linear algebra\n",
    "\n",
    "If we have a matrix:\n",
    "\n",
    "$\\mathbf{A} = \\left[ \\begin{smallmatrix} 1 & -1\\\\ 1 & 2 \\end{smallmatrix} \\right]$\n",
    "\n",
    "that we want to find the inverse of, we want to find values of $x, y, w, z$ that satisfy this matrix equation.\n",
    "\n",
    "$\\mathbf{A} = \\left[ \\begin{smallmatrix} 1 & -1\\\\ 1 & 2 \\end{smallmatrix} \\right] \\left[ \\begin{smallmatrix} x & z\\\\ y & w \\end{smallmatrix} \\right] = \\left[ \\begin{smallmatrix} 1 & 0\\\\ 0 & 1 \\end{smallmatrix} \\right]$\n",
    "\n",
    "We can write this as a set of linear equations:\n",
    "\n",
    "$x - y = 1$\n",
    "\n",
    "$x + 2y = 0$\n",
    "\n",
    "$z - w = 0$\n",
    "\n",
    "$z + 2w = 1$\n",
    "\n",
    "Use `np.linalg.solve` to solve these equations.\n",
    "\n"
   ]
  },
  {
   "cell_type": "code",
   "execution_count": null,
   "id": "0f4ab058-4095-4f00-9bca-5141a5dd1b46",
   "metadata": {},
   "outputs": [],
   "source": []
  },
  {
   "cell_type": "markdown",
   "id": "7b064d16-7354-41cd-af7e-2c3602570f05",
   "metadata": {
    "nbgrader": {
     "grade": true,
     "grade_id": "cell-92da3734a5a2e41e",
     "locked": false,
     "points": 0,
     "schema_version": 3,
     "solution": true,
     "task": false
    },
    "tags": []
   },
   "source": [
    "Show that the $x, y, w, z$ values you get form a matrix equivalent to one from `np.linalg.inv`.\n",
    "\n"
   ]
  },
  {
   "cell_type": "code",
   "execution_count": null,
   "id": "bc146a5f-c797-47a8-a6d0-93b9503bcff0",
   "metadata": {},
   "outputs": [],
   "source": []
  },
  {
   "cell_type": "markdown",
   "id": "317c4670-27b5-40c1-bd33-4c6b70dd41ab",
   "metadata": {},
   "source": [
    "Finally, show that $\\mathbf{A} \\cdot \\mathbf{A^{-1}} = \\mathbf{I}$."
   ]
  },
  {
   "cell_type": "code",
   "execution_count": null,
   "id": "c8e2ac39-931a-4a92-8532-f0d230d125ea",
   "metadata": {},
   "outputs": [],
   "source": []
  },
  {
   "cell_type": "markdown",
   "id": "613d1a50-b2bb-41c8-b643-4883566ecee7",
   "metadata": {},
   "source": [
    "When you are done, download a PDF and turn it in on Canvas. Make sure to save your notebook, then run this cell and click on the download link."
   ]
  },
  {
   "cell_type": "code",
   "execution_count": null,
   "id": "d39da989-d274-4dc2-a01a-51a59375ffd9",
   "metadata": {
    "tags": [
     "raises-exception",
     "remove-output"
    ]
   },
   "outputs": [],
   "source": [
    "%run ~/f23-06623/f23.py\n",
    "%pdf"
   ]
  },
  {
   "cell_type": "markdown",
   "id": "6a974f57-c57c-4441-b2c9-4c6bc4a31ff7",
   "metadata": {},
   "source": [
    "\n",
    "\n"
   ]
  }
 ],
 "metadata": {
  "kernelspec": {
   "display_name": "Python 3",
   "language": "python",
   "name": "python3"
  },
  "language_info": {
   "codemirror_mode": {
    "name": "ipython",
    "version": 3
   },
   "file_extension": ".py",
   "mimetype": "text/x-python",
   "name": "python",
   "nbconvert_exporter": "python",
   "pygments_lexer": "ipython3",
   "version": "3.9.7"
  },
  "widgets": {
   "application/vnd.jupyter.widget-state+json": {
    "state": {},
    "version_major": 2,
    "version_minor": 0
   }
  }
 },
 "nbformat": 4,
 "nbformat_minor": 5
}
