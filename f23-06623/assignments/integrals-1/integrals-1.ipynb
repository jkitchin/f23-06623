{
 "cells": [
  {
   "cell_type": "markdown",
   "id": "8fc15beb-d4b4-49bf-aa7e-7e684a55b394",
   "metadata": {
    "tags": [
     "raises-exception",
     "remove-output"
    ]
   },
   "source": [
    "Before you turn this problem in, make sure everything runs as expected. First, **restart the kernel** (in the menubar, select Kernel$\\rightarrow$Restart) and then **run all cells** (in the menubar, select Cell$\\rightarrow$Run All).\n",
    "\n",
    "Make sure you fill in any place that says `YOUR CODE HERE` or \"YOUR ANSWER HERE\", as well as your name and collaborators below:\n",
    "\n"
   ]
  },
  {
   "cell_type": "markdown",
   "id": "4f212042-02a0-4024-a427-e4483b669df5",
   "metadata": {},
   "source": [
    "# Even and odd functions\n",
    "\n",
    "An odd function $o(x)$ satisfies $o(x)=-o(-x)$ for all $x$. Therefore, for any finite $t$:\n",
    "\n",
    "$\\int_{-t}^{t}o(x) dx=0$.\n",
    "\n",
    "An even function $e(x)$ satisfies $e(x) = e(-x)$ for all $x$. Therefore, for any $t$:\n",
    "\n",
    "$\\int_{-t}^{t}e(x) dx=2 \\int_{0}^{t}e(x) dx$.\n",
    "\n",
    "The complementary error function is defined by this integral:\n",
    "\n",
    "$erfc(x) = \\frac{2}{\\sqrt{\\pi}} \\int_x^\\infty e^{-t^2} dt$\n",
    "\n",
    "determine if it is even or odd using both the criteria described above and using Python."
   ]
  },
  {
   "cell_type": "code",
   "execution_count": null,
   "id": "a3be6431-ece2-43eb-bb9b-ed714f9ed88e",
   "metadata": {},
   "outputs": [],
   "source": []
  },
  {
   "cell_type": "markdown",
   "id": "ee12fd4a-c5e6-4b4b-a09d-fdb9381c69d0",
   "metadata": {},
   "source": [
    "When you are done, download a PDF and turn it in on Canvas. Make sure to save your notebook, then run this cell and click on the download link."
   ]
  },
  {
   "cell_type": "code",
   "execution_count": null,
   "id": "d1b24dda-2a2a-41b3-b44b-6916b82f530d",
   "metadata": {
    "tags": [
     "raises-exception",
     "remove-output"
    ]
   },
   "outputs": [],
   "source": [
    "%run ~/f23-06623/f23.py\n",
    "%pdf"
   ]
  }
 ],
 "metadata": {
  "kernelspec": {
   "display_name": "Python 3",
   "language": "python",
   "name": "python3"
  },
  "language_info": {
   "codemirror_mode": {
    "name": "ipython",
    "version": 3
   },
   "file_extension": ".py",
   "mimetype": "text/x-python",
   "name": "python",
   "nbconvert_exporter": "python",
   "pygments_lexer": "ipython3",
   "version": "3.9.7"
  },
  "widgets": {
   "application/vnd.jupyter.widget-state+json": {
    "state": {},
    "version_major": 2,
    "version_minor": 0
   }
  }
 },
 "nbformat": 4,
 "nbformat_minor": 5
}
