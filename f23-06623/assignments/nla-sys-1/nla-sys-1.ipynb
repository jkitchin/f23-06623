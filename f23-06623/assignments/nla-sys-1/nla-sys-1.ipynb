{
 "cells": [
  {
   "cell_type": "markdown",
   "id": "b6d41fdc",
   "metadata": {},
   "source": [
    "Before you turn this problem in, make sure everything runs as expected. First, **restart the kernel** (in the menubar, select Kernel$\\rightarrow$Restart) and then **run all cells** (in the menubar, select Cell$\\rightarrow$Run All).\n",
    "\n",
    "Make sure you fill in any place that says `YOUR CODE HERE` or \"YOUR ANSWER HERE\", as well as your name and collaborators below:\n",
    "\n"
   ]
  },
  {
   "cell_type": "code",
   "execution_count": null,
   "id": "a464c58c",
   "metadata": {},
   "outputs": [],
   "source": [
    "NAME = \"\"\n",
    "COLLABORATORS = \"\"\n",
    "\n"
   ]
  },
  {
   "cell_type": "markdown",
   "id": "b9e0b1f3-5620-4cbd-9f75-89a257c4dc42",
   "metadata": {},
   "source": [
    "There are two balls on trajectories in the *xy* plane. One ball's trajectory follows the equation:\n",
    "\n",
    "$y = x^2 - 2x + 1$\n",
    "\n",
    "The other ball follows an elliptical trajectory of:\n",
    "\n",
    "$9 (x-2)^2 + 4 (y-2)^2 - 36 = 0$\n",
    "\n",
    "First, plot the two trajectories on the range of x=(0, 4).\n",
    "\n",
    "It is not obvious how to plot an ellipse, so, note that the general equation for an ellipse is:\n",
    "\n",
    "$\\frac{(x-h)^2}{a^2} + \\frac{(y-k)^2}{b^2} = 1$\n",
    "\n",
    "Then, you can plot the parametric equations:\n",
    "\n",
    "$x = h + a cos(t)$ and $y = k + b sin(t)$\n",
    "\n",
    "so, for a circle of radius 1, centered at the point (0.5, 2) we have:"
   ]
  },
  {
   "cell_type": "code",
   "execution_count": 3,
   "id": "0f0de12d-c16f-4aac-868c-11f0d072eb3e",
   "metadata": {
    "nbgrader": {
     "grade": true,
     "grade_id": "cell-92da3734a5a2e41e",
     "locked": false,
     "points": 0,
     "schema_version": 3,
     "solution": true,
     "task": false
    },
    "tags": []
   },
   "outputs": [
    {
     "data": {
      "image/png": "[encoded data removed]",
      "text/plain": [
       "<Figure size 432x288 with 1 Axes>"
      ]
     },
     "metadata": {
      "needs_background": "light"
     },
     "output_type": "display_data"
    }
   ],
   "source": [
    "import numpy as np\n",
    "import matplotlib.pyplot as plt\n",
    "\n",
    "t = np.linspace(0, 2 * np.pi)\n",
    "\n",
    "h, a = 0.5, 1\n",
    "k, b = 2.0, 1\n",
    "x = h + a * np.cos(t)\n",
    "y = k + b * np.sin(t)\n",
    "plt.plot(x, y)\n",
    "plt.axis('equal');"
   ]
  },
  {
   "cell_type": "markdown",
   "id": "30b27889-9a8d-480d-b86f-a6f3bebf6c5b",
   "metadata": {},
   "source": [
    "Find all of the possible collision points (i.e. that they have the same (x, y) coordinates at the same time) and plot them on your graph."
   ]
  },
  {
   "cell_type": "code",
   "execution_count": null,
   "id": "b65bca4b-5306-47c2-aadd-34b718a18477",
   "metadata": {},
   "outputs": [],
   "source": []
  },
  {
   "cell_type": "markdown",
   "id": "613d1a50-b2bb-41c8-b643-4883566ecee7",
   "metadata": {},
   "source": [
    "When you are done, download a PDF and turn it in on Canvas. Make sure to save your notebook, then run this cell and click on the download link."
   ]
  },
  {
   "cell_type": "code",
   "execution_count": null,
   "id": "d39da989-d274-4dc2-a01a-51a59375ffd9",
   "metadata": {
    "tags": [
     "raises-exception",
     "remove-output"
    ]
   },
   "outputs": [],
   "source": [
    "%run ~/f23-06623/f23.py\n",
    "%pdf"
   ]
  },
  {
   "cell_type": "markdown",
   "id": "6a974f57-c57c-4441-b2c9-4c6bc4a31ff7",
   "metadata": {},
   "source": [
    "\n",
    "\n"
   ]
  }
 ],
 "metadata": {
  "kernelspec": {
   "display_name": "Python 3",
   "language": "python",
   "name": "python3"
  },
  "language_info": {
   "codemirror_mode": {
    "name": "ipython",
    "version": 3
   },
   "file_extension": ".py",
   "mimetype": "text/x-python",
   "name": "python",
   "nbconvert_exporter": "python",
   "pygments_lexer": "ipython3",
   "version": "3.9.7"
  },
  "widgets": {
   "application/vnd.jupyter.widget-state+json": {
    "state": {},
    "version_major": 2,
    "version_minor": 0
   }
  }
 },
 "nbformat": 4,
 "nbformat_minor": 5
}
