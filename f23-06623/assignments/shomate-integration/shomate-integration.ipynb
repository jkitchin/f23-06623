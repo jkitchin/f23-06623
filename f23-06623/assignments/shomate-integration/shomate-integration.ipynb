{
 "cells": [
  {
   "cell_type": "markdown",
   "id": "390d98fb-f489-4a86-9f15-1880b576ef9a",
   "metadata": {},
   "source": [
    "Before you turn this problem in, make sure everything runs as expected. First, **restart the kernel** (in the menubar, select Kernel$\\rightarrow$Restart) and then **run all cells** (in the menubar, select Cell$\\rightarrow$Run All).\n",
    "\n",
    "Make sure you fill in any place that says `YOUR CODE HERE` or \"YOUR ANSWER HERE\", as well as your name and collaborators below:\n",
    "\n"
   ]
  },
  {
   "cell_type": "markdown",
   "id": "39f6d0d5-7d36-41e5-b478-af72ef25c498",
   "metadata": {},
   "source": [
    "From thermodynamics, the heat capacity is defined as $C_p = \\left(\\frac{dH}{dT}\\right)_P$. That means we can calculate the heat required to change the temperature of some material from the following integral:\n",
    "\n",
    "$H_2 - H_1 = Q = \\int_{T_1}^{T_2} C_p(T) dT$\n",
    "\n",
    "In the range of 298-1200K, the heat capacity of CO<sub>2</sub> is given by a [Shomate polynomial](https://webbook.nist.gov/cgi/cbook.cgi?ID=C124389&Units=SI&Mask=1#Thermo-Gas):\n",
    "\n",
    "$C_p(t) = A + B t + C t^2 + D t^3 + E/t^2$ with units of J/mol/K.\n",
    "\n",
    "where $t = T / 1000$, and $T$ is the temperature in K. The constants in the equation are\n",
    "\n",
    "| |value|\n",
    "|---|----|\n",
    "|A|24.99735|\n",
    "|B|55.18696|\n",
    "|C|-33.69137|\n",
    "|D|7.948387|\n",
    "|E|-0.136638|\n",
    "|F|-403.6075|\n",
    "|G|228.2431|\n",
    "|H|-393.5224|\n",
    "\n",
    "Use this information to compute the energy (Q in kJ/mol) required to raise the temperature of CO<sub>2</sub> from 300K to 600K. You should use scipy.integrate.quad to perform the integration."
   ]
  },
  {
   "cell_type": "code",
   "execution_count": null,
   "id": "77392663-2f77-469b-ac1e-a036ce55e6c8",
   "metadata": {},
   "outputs": [],
   "source": []
  },
  {
   "cell_type": "markdown",
   "id": "ec046167-8eb6-49e1-b866-351639bcf4fb",
   "metadata": {},
   "source": [
    "The change in enthalpy (in kJ / mol) from standard state is\n",
    "\n",
    "$dH − dH_{298.15}= A t + B t^2/2 + C t^3/3 + D t^4/4 − E/t + F − H$\n",
    "\n",
    "again, $t = T / 1000$.\n",
    "\n",
    "Use this equation to compute the change in enthalpy when you increase the temperature from 300 K to 600 K. Hint: You should get the same answer as before.\n"
   ]
  },
  {
   "cell_type": "code",
   "execution_count": null,
   "id": "8bf83e9e-0b97-42ff-a7b2-bb1d9d0bfb1e",
   "metadata": {},
   "outputs": [],
   "source": []
  },
  {
   "cell_type": "markdown",
   "id": "fecd579a-df02-4356-bf8a-fdddbd205612",
   "metadata": {},
   "source": [
    "When you are done, download a PDF and turn it in on Canvas. Make sure to save your notebook, then run this cell and click on the download link."
   ]
  },
  {
   "cell_type": "code",
   "execution_count": null,
   "id": "5de2deaf-6f86-4fff-b3a0-f85f1b7e4536",
   "metadata": {},
   "outputs": [],
   "source": [
    "%run ~/f23-06623/f23.py\n",
    "%pdf"
   ]
  }
 ],
 "metadata": {
  "kernelspec": {
   "display_name": "Python 3",
   "language": "python",
   "name": "python3"
  },
  "language_info": {
   "codemirror_mode": {
    "name": "ipython",
    "version": 3
   },
   "file_extension": ".py",
   "mimetype": "text/x-python",
   "name": "python",
   "nbconvert_exporter": "python",
   "pygments_lexer": "ipython3",
   "version": "3.9.7"
  },
  "widgets": {
   "application/vnd.jupyter.widget-state+json": {
    "state": {},
    "version_major": 2,
    "version_minor": 0
   }
  }
 },
 "nbformat": 4,
 "nbformat_minor": 5
}
