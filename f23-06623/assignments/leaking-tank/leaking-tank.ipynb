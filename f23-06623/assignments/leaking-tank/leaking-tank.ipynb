{
 "cells": [
  {
   "cell_type": "markdown",
   "metadata": {
    "id": "t8ow7eIOvafi"
   },
   "source": [
    "Before you turn this problem in, make sure everything runs as expected. First, **restart the kernel** (in the menubar, select Kernel$\\rightarrow$Restart) and then **run all cells** (in the menubar, select Cell$\\rightarrow$Run All).\n",
    "\n",
    "Make sure you fill in any place that says `YOUR CODE HERE` or \"YOUR ANSWER HERE\", as well as your name and collaborators below:"
   ]
  },
  {
   "cell_type": "code",
   "execution_count": null,
   "metadata": {},
   "outputs": [],
   "source": []
  },
  {
   "cell_type": "markdown",
   "metadata": {
    "id": "5Cosytrnvafp"
   },
   "source": [
    "## The leaking tank\n",
    "\n"
   ]
  },
  {
   "cell_type": "markdown",
   "metadata": {
    "id": "2VbH7mB9vafq"
   },
   "source": [
    "The height of a leaking tank is defined by the following differential equation\n",
    "\n",
    "$\\frac{dh}{dt} = -26.56 \\frac{A}{B} \\sqrt{h}$ where $B$ is the cross-sectional area of the tank, and $A$ is the cross-sectional area of the hole where the leak occurs. The constant -26.56 has units of $\\sqrt{(cm/s^2)}$.\n",
    "\n",
    "In this equation,\n",
    "\n",
    "Assuming that the tank is 2m in diameter, the hole is 1 cm in diameter, and the liquid level in the tank is initially at 2.25 m, our objective is to estimate when the tank will be empty.\n",
    "\n"
   ]
  },
  {
   "cell_type": "markdown",
   "metadata": {
    "id": "YBHMyRR7vafs"
   },
   "source": [
    "### Analytical solution\n",
    "\n"
   ]
  },
  {
   "cell_type": "markdown",
   "metadata": {
    "id": "N_cQ9LKqvaft"
   },
   "source": [
    "This differential equation can be analytically solved by separation of variables and integration. Find an analytical solution and plot it. Solve this analytically to find the time when  ℎ=0 .\n",
    "\n"
   ]
  },
  {
   "cell_type": "code",
   "execution_count": null,
   "metadata": {},
   "outputs": [],
   "source": []
  },
  {
   "cell_type": "markdown",
   "metadata": {
    "id": "EDvP_G1hvafy"
   },
   "source": [
    "### Integral solution\n",
    "\n"
   ]
  },
  {
   "cell_type": "markdown",
   "metadata": {
    "id": "6LAwNukYvafz"
   },
   "source": [
    "If you separate the variables in the differential equation, and then integrate both sides, the time integral will be trivial and you can then solve for the time to empty the tank by using the \\`quad\\` function to evaluate the integral on $h$ by setting the integral limits from the initial height to zero.\n",
    "\n",
    "Do that and compute the time to empty the tank."
   ]
  },
  {
   "cell_type": "code",
   "execution_count": null,
   "metadata": {
    "colab": {
     "base_uri": "https://localhost:8080/"
    },
    "id": "pgvpC-k3vaf0",
    "outputId": "a603952b-0de3-41ec-add9-f8eb71830530"
   },
   "outputs": [],
   "source": []
  },
  {
   "cell_type": "markdown",
   "metadata": {
    "id": "K9GoTG80vaf1"
   },
   "source": [
    "### Numerical solution\n",
    "\n"
   ]
  },
  {
   "cell_type": "markdown",
   "metadata": {
    "id": "v8QBatikvaf2"
   },
   "source": [
    "Compute and plot a solution to the ODE using scipy.integrate.solve\\_ivp. Note that this problem is a little problematic as the height approaches zero. If there are any errors where the integration algorithm predicts that the height goes negative (the function approaches zero, and the derivative is negative, so this could happen), there is an error in the sqrt function and the integration terminates. Nevertheless, try this and plot your solution. Estimate the time to empty the tank based on your solution.\n",
    "\n"
   ]
  },
  {
   "cell_type": "code",
   "execution_count": null,
   "metadata": {
    "colab": {
     "base_uri": "https://localhost:8080/",
     "height": 330
    },
    "id": "UitfmkhWvaf2",
    "outputId": "35e3f2c7-e439-4eb3-bfe8-c5b05e06f79a"
   },
   "outputs": [],
   "source": []
  },
  {
   "cell_type": "markdown",
   "metadata": {
    "id": "eq-bDw9Fvaf5"
   },
   "source": [
    "### Discuss what you learned from this exercise\n",
    "\n"
   ]
  },
  {
   "cell_type": "markdown",
   "metadata": {
    "id": "f1jnNyLZvaf6"
   },
   "source": [
    "You should write a paragraph comparing and contrasting these approaches.\n",
    "\n"
   ]
  },
  {
   "cell_type": "code",
   "execution_count": null,
   "metadata": {},
   "outputs": [],
   "source": []
  },
  {
   "cell_type": "code",
   "execution_count": null,
   "metadata": {
    "id": "KX22XCHlvaf6",
    "tags": [
     "raises-exception",
     "remove-output"
    ]
   },
   "outputs": [],
   "source": [
    "%run ~/f23-06623/f23.py\n",
    "%pdf"
   ]
  }
 ],
 "metadata": {
  "colab": {
   "provenance": []
  },
  "kernelspec": {
   "display_name": "Python 3",
   "language": "python",
   "name": "python3"
  },
  "language_info": {
   "codemirror_mode": {
    "name": "ipython",
    "version": 3
   },
   "file_extension": ".py",
   "mimetype": "text/x-python",
   "name": "python",
   "nbconvert_exporter": "python",
   "pygments_lexer": "ipython3",
   "version": "3.9.7"
  },
  "org": null,
  "widgets": {
   "application/vnd.jupyter.widget-state+json": {
    "state": {},
    "version_major": 2,
    "version_minor": 0
   }
  }
 },
 "nbformat": 4,
 "nbformat_minor": 4
}
