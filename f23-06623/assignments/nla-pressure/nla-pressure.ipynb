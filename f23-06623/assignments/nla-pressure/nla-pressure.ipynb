{
 "cells": [
  {
   "cell_type": "markdown",
   "id": "b6d41fdc",
   "metadata": {},
   "source": [
    "Before you turn this problem in, make sure everything runs as expected. First, **restart the kernel** (in the menubar, select Kernel$\\rightarrow$Restart) and then **run all cells** (in the menubar, select Cell$\\rightarrow$Run All).\n",
    "\n",
    "Make sure you fill in any place that says `YOUR CODE HERE` or \"YOUR ANSWER HERE\", as well as your name and collaborators below:\n",
    "\n"
   ]
  },
  {
   "cell_type": "code",
   "execution_count": null,
   "id": "a464c58c",
   "metadata": {},
   "outputs": [],
   "source": [
    "NAME = \"\"\n",
    "COLLABORATORS = \"\"\n",
    "\n"
   ]
  },
  {
   "cell_type": "markdown",
   "id": "0963c0db",
   "metadata": {},
   "source": [
    "This figure shows a schematic of a pipeline that delivers constant temperature water from point 1 to point 2.\n",
    "\n",
    "![](nla-pressure.png)\n",
    "\n",
    "The general mechanical energy balance on this system results in:\n",
    "\n",
    "$-\\frac{1}{2} \\nu^2 + g \\Delta z + \\frac{g_C \\Delta P}{\\rho} + 2\\frac{f_F L \\nu^2}{D} = 0$\n",
    "\n",
    "|variable|value|\n",
    "|--------|------|\n",
    "|&nu;|flow velocity (ft/s)|\n",
    "|g|acceleration of gravity, 32.174 ft/s<sup>2</sup>|\n",
    "|&Delta; z|z2 - z1|\n",
    "|g<sub>c</sub>|conversion factor, 32.174 ft lb\\_m / lb\\_f s^2|\n",
    "|&Delta; P|p2 - p1 lb<sub>f</sub> / ft<sup>2</sup>|\n",
    "|f<sub>F</sub>|Fanning friction factor (see eq)|\n",
    "|L|length of pipe (ft)|\n",
    "|D|inner diameter of pipe (ft), 7.981 inches|\n",
    "\n",
    "Our goal is to compute the flow rate of 60 °F water through a 1000 ft long pipe. The water is pumped uphill 300 ft (i.e. z2 - z1 = 300 ft). The pressure at p1 is 150 psig, and the pressure at 2 is atmospheric pressure, so $\\Delta P = -150$ psig.\n",
    "\n",
    "The density (&rho;) of water is temperature dependent. With T in °F, the density (in lb<sub>m</sub>/ft<sup>3</sup>) is given by:\n",
    "\n",
    "$\\rho(T) = 62.122 + 0.0122 T - (1.54e-4) T^2 + (2.65e-7) T^3 - (2.24e-10) T^4$\n",
    "\n",
    "The Fanning friction factor depends on the Reynold's number: $Re = \\frac{\\nu \\rho D}{\\mu}$. In this equation, $\\mu$ is the viscosity (in lb<sub>m</sub>/ft/s), and it is also dependent of temperature:\n",
    "\n",
    "$\\ln \\mu = -11.0318 + \\frac{1057.51}{T + 214.624}$\n",
    "\n",
    "When $Re < 2100$ the Fanning friction factor is defined as $f_F = 16 / Re$, but when $Re > 2100$ it has this more complex expression:\n",
    "\n",
    "$f_F = \\frac{1}{16 (\\log (\\frac{\\epsilon / D}{3.7} - \\frac{5.02}{Re} \\log (\\frac{\\epsilon / D}{3.7} + \\frac{14.5}{Re})))^2}$\n",
    "\n",
    "In this expression, $\\epsilon = 0.00015$ ft, and represents the surface roughness of the pipe.\n",
    "\n",
    "Given this information,\n",
    "\n",
    "1.  Estimate the velocity of water in the pipe (hint: it is 11.61 ft/s)\n",
    "2.  Compute the mass flow of water (in lb<sub>m</sub>/min) in the pipe.\n",
    "\n",
    "Some notes:\n",
    "\n",
    "1.  In numpy, the ln(x) is computed with np.log(x).\n",
    "2.  In numpy, the log(x) is computed with np.log10(x).\n",
    "3.  1 psig = 144 lb<sub>f</sub>/ ft<sup>2</sup>\n",
    "4. The velocity is 11.61 ft / s, and the mass flow is 15094 lb_m / min.\n"
   ]
  },
  {
   "cell_type": "code",
   "execution_count": null,
   "id": "0f0de12d-c16f-4aac-868c-11f0d072eb3e",
   "metadata": {
    "nbgrader": {
     "grade": true,
     "grade_id": "cell-92da3734a5a2e41e",
     "locked": false,
     "points": 0,
     "schema_version": 3,
     "solution": true,
     "task": false
    },
    "tags": []
   },
   "outputs": [],
   "source": [
    "\n",
    "\n"
   ]
  },
  {
   "cell_type": "markdown",
   "id": "613d1a50-b2bb-41c8-b643-4883566ecee7",
   "metadata": {},
   "source": [
    "When you are done, download a PDF and turn it in on Canvas. Make sure to save your notebook, then run this cell and click on the download link."
   ]
  },
  {
   "cell_type": "code",
   "execution_count": null,
   "id": "d39da989-d274-4dc2-a01a-51a59375ffd9",
   "metadata": {
    "tags": [
     "raises-exception",
     "remove-output"
    ]
   },
   "outputs": [],
   "source": [
    "%run ~/f23-06623/f23.py\n",
    "%pdf"
   ]
  },
  {
   "cell_type": "markdown",
   "id": "6a974f57-c57c-4441-b2c9-4c6bc4a31ff7",
   "metadata": {},
   "source": [
    "\n",
    "\n"
   ]
  }
 ],
 "metadata": {
  "kernelspec": {
   "display_name": "Python 3",
   "language": "python",
   "name": "python3"
  },
  "language_info": {
   "codemirror_mode": {
    "name": "ipython",
    "version": 3
   },
   "file_extension": ".py",
   "mimetype": "text/x-python",
   "name": "python",
   "nbconvert_exporter": "python",
   "pygments_lexer": "ipython3",
   "version": "3.9.7"
  },
  "widgets": {
   "application/vnd.jupyter.widget-state+json": {
    "state": {},
    "version_major": 2,
    "version_minor": 0
   }
  }
 },
 "nbformat": 4,
 "nbformat_minor": 5
}
