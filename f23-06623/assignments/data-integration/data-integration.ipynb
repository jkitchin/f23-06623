{
 "cells": [
  {
   "cell_type": "markdown",
   "id": "b6d41fdc",
   "metadata": {},
   "source": [
    "Before you turn this problem in, make sure everything runs as expected. First, **restart the kernel** (in the menubar, select Kernel$\\rightarrow$Restart) and then **run all cells** (in the menubar, select Cell$\\rightarrow$Run All).\n",
    "\n",
    "Make sure you fill in any place that says `YOUR CODE HERE` or \"YOUR ANSWER HERE\", as well as your name and collaborators below:\n",
    "\n"
   ]
  },
  {
   "cell_type": "code",
   "execution_count": null,
   "id": "a464c58c",
   "metadata": {},
   "outputs": [],
   "source": [
    "NAME = \"\"\n",
    "COLLABORATORS = \"\"\n",
    "\n"
   ]
  },
  {
   "cell_type": "markdown",
   "id": "0963c0db",
   "metadata": {},
   "source": [
    "---\n",
    "\n"
   ]
  },
  {
   "cell_type": "markdown",
   "id": "613d1a50-b2bb-41c8-b643-4883566ecee7",
   "metadata": {},
   "source": [
    "The following data is provided for the heat capacity of triptycene as a function temperature.\n",
    "\n",
    "http://n.ethz.ch/~mottiger/download/Informatik/EX5/Exe5_hs07.pdf\n",
    "\n",
    "The change in entropy is computed as:\n",
    "\n",
    "$S_2 - S_1 = \\int_{T_1}^{T_2} \\frac{C_p(T)}{T} dT$\n",
    "\n",
    "Use this data to calculate the entropy difference\n",
    "of triptycene between $T_1$ = 20 K and $T_2$ = 300 K. Compare the answers you get with `np.trapz` and `scipy.integrate.simps`.  Show the results with one decimal place and the correct units. Discuss whether the difference between `trapz` and `simps` are significant.\n",
    "\n",
    "\n",
    "T| Cp| T |Cp |T |Cp\n",
    "---|---|--|--|--|--|\n",
    "(K)| (J/K/mol) |(K) |(J/K/mol)| (K)| (J/K/mol)\n",
    "20 |18.00 |120| 111.6 |220 |200.9\n",
    "40 |44.56 |140| 127.8 |240 |221.0\n",
    "60 |64.43 |160| 144.9 |260 |241.8\n",
    "80 |80.88 |180 |162.8 |280 |263.1\n",
    "100 |96.15| 200| 181.5 |300 |284.7 When you are done, download a PDF and turn it in on Canvas. Make sure to save your notebook, then run this cell and click on the download link."
   ]
  },
  {
   "cell_type": "code",
   "execution_count": null,
   "id": "fa54e6c7-2690-445f-a8da-f0e5e50d1bc5",
   "metadata": {},
   "outputs": [],
   "source": []
  },
  {
   "cell_type": "code",
   "execution_count": null,
   "id": "d39da989-d274-4dc2-a01a-51a59375ffd9",
   "metadata": {
    "tags": [
     "raises-exception",
     "remove-output"
    ]
   },
   "outputs": [],
   "source": [
    "%run ~/f23-06623/f23.py\n",
    "%pdf"
   ]
  },
  {
   "cell_type": "markdown",
   "id": "6a974f57-c57c-4441-b2c9-4c6bc4a31ff7",
   "metadata": {},
   "source": [
    "\n",
    "\n"
   ]
  }
 ],
 "metadata": {
  "kernelspec": {
   "display_name": "Python 3",
   "language": "python",
   "name": "python3"
  },
  "language_info": {
   "codemirror_mode": {
    "name": "ipython",
    "version": 3
   },
   "file_extension": ".py",
   "mimetype": "text/x-python",
   "name": "python",
   "nbconvert_exporter": "python",
   "pygments_lexer": "ipython3",
   "version": "3.9.7"
  },
  "widgets": {
   "application/vnd.jupyter.widget-state+json": {
    "state": {},
    "version_major": 2,
    "version_minor": 0
   }
  }
 },
 "nbformat": 4,
 "nbformat_minor": 5
}
