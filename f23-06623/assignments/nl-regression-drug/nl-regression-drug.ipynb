{
 "cells": [
  {
   "cell_type": "markdown",
   "id": "b6d41fdc",
   "metadata": {},
   "source": [
    "Before you turn this problem in, make sure everything runs as expected. First, **restart the kernel** (in the menubar, select Kernel$\\rightarrow$Restart) and then **run all cells** (in the menubar, select Cell$\\rightarrow$Run All).\n",
    "\n",
    "Make sure you fill in any place that says `YOUR CODE HERE` or \"YOUR ANSWER HERE\", as well as your name and collaborators below:\n",
    "\n"
   ]
  },
  {
   "cell_type": "code",
   "execution_count": null,
   "id": "a464c58c",
   "metadata": {},
   "outputs": [],
   "source": [
    "NAME = \"\"\n",
    "COLLABORATORS = \"\"\n",
    "\n"
   ]
  },
  {
   "cell_type": "markdown",
   "id": "0963c0db",
   "metadata": {},
   "source": [
    "# Nonlinear regression for drug response\n",
    "\n",
    "The following data is given for dose/response of a new drug.\n",
    "\n",
    "| Dose|Response|\n",
    "|---|---|\n",
    "| 0|0.1|\n",
    "| 1.3|0.5|\n",
    "| 2.8|0.9|\n",
    "| 5|2.6|\n",
    "| 10.2|7.1|\n",
    "| 16.5|12.3|\n",
    "| 21.3|15.3|\n",
    "| 31.8|20.4|\n",
    "| 52.2|24.2|\n",
    "\n",
    "A typical model for this data is\n",
    "\n",
    "$F(x) = d + \\frac{a - d}{1 + \\left(\\frac{x}{c}\\right)^b}$\n",
    "\n",
    "where\n",
    "\n",
    "-   ****a:**** Minimum asymptote. In a bioassay where you have a standard curve, this can be thought of as the response value at 0 standard concentration.\n",
    "-   ****b:**** Hill's slope. The Hill's slope refers to the steepness of the curve (can be positive or negative) at the inflection point.\n",
    "-   ****c:**** Inflection point. The inflection point is defined as the point on the curve where the curvature changes direction or signs. $c$ is the dose where $y=(d-a)/2$.\n",
    "-   ****d:**** Maximum asymptote. In a bioassay where you have a standard curve, this can be thought of as the response value for infinite standard concentration.\n",
    "\n",
    "Use this data to find values for $a, b, c, d$ and the confidence interval for each parameter. Provide an interpretation of the confidence intervals.\n",
    "\n",
    "\n"
   ]
  },
  {
   "cell_type": "code",
   "execution_count": null,
   "id": "0f0de12d-c16f-4aac-868c-11f0d072eb3e",
   "metadata": {
    "nbgrader": {
     "grade": true,
     "grade_id": "cell-92da3734a5a2e41e",
     "locked": false,
     "points": 0,
     "schema_version": 3,
     "solution": true,
     "task": false
    },
    "tags": []
   },
   "outputs": [],
   "source": [
    "\n",
    "\n"
   ]
  },
  {
   "cell_type": "markdown",
   "id": "90d4bd7e-5114-47a8-b41a-0db8e3cdb56e",
   "metadata": {},
   "source": [
    "Show your fit in a plot and comment on whether it looks good or not."
   ]
  },
  {
   "cell_type": "code",
   "execution_count": null,
   "id": "0e4b8b61-80a5-49cf-a876-b18d9d5c935e",
   "metadata": {},
   "outputs": [],
   "source": []
  },
  {
   "cell_type": "markdown",
   "id": "613d1a50-b2bb-41c8-b643-4883566ecee7",
   "metadata": {},
   "source": [
    "When you are done, download a PDF and turn it in on Canvas. Make sure to save your notebook, then run this cell and click on the download link."
   ]
  },
  {
   "cell_type": "code",
   "execution_count": null,
   "id": "d39da989-d274-4dc2-a01a-51a59375ffd9",
   "metadata": {
    "tags": [
     "raises-exception",
     "remove-output"
    ]
   },
   "outputs": [],
   "source": [
    "%run ~/f23-06623/f23.py\n",
    "%pdf"
   ]
  },
  {
   "cell_type": "markdown",
   "id": "6a974f57-c57c-4441-b2c9-4c6bc4a31ff7",
   "metadata": {},
   "source": [
    "\n",
    "\n"
   ]
  }
 ],
 "metadata": {
  "kernelspec": {
   "display_name": "Python 3",
   "language": "python",
   "name": "python3"
  },
  "language_info": {
   "codemirror_mode": {
    "name": "ipython",
    "version": 3
   },
   "file_extension": ".py",
   "mimetype": "text/x-python",
   "name": "python",
   "nbconvert_exporter": "python",
   "pygments_lexer": "ipython3",
   "version": "3.9.7"
  },
  "widgets": {
   "application/vnd.jupyter.widget-state+json": {
    "state": {},
    "version_major": 2,
    "version_minor": 0
   }
  }
 },
 "nbformat": 4,
 "nbformat_minor": 5
}
