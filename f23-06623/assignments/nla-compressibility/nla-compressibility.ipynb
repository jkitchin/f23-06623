{
 "cells": [
  {
   "cell_type": "markdown",
   "id": "b6d41fdc",
   "metadata": {},
   "source": [
    "Before you turn this problem in, make sure everything runs as expected. First, **restart the kernel** (in the menubar, select Kernel$\\rightarrow$Restart) and then **run all cells** (in the menubar, select Cell$\\rightarrow$Run All).\n",
    "\n",
    "Make sure you fill in any place that says `YOUR CODE HERE` or \"YOUR ANSWER HERE\", as well as your name and collaborators below:\n",
    "\n"
   ]
  },
  {
   "cell_type": "code",
   "execution_count": null,
   "id": "a464c58c",
   "metadata": {},
   "outputs": [],
   "source": [
    "NAME = \"\"\n",
    "COLLABORATORS = \"\""
   ]
  },
  {
   "cell_type": "markdown",
   "id": "a788f778-0651-4a7e-931c-5cff2382918d",
   "metadata": {},
   "source": [
    "The van der Waals equation of state for a gas is defined by:\n",
    "\n",
    "$\\left(P + \\frac{a}{V^2}\\right)(V - b) = RT$\n",
    "\n",
    "where $a$ and $b$ are defined by:\n",
    "\n",
    "$a = \\frac{27}{64}\\left(\\frac{R^2 T_c^2}{P_c}\\right)$\n",
    "\n",
    "$b = \\frac{R T_c}{8 P_c}$\n",
    "\n",
    "In these equations, $V$ is the molar volume, $P$ is the pressure, and $T$ is the temperature.\n",
    "\n",
    "$R$ is the gas constant, $P_c$ is the critical pressure of\n",
    "the gas, and $T_c$ is the critical temperature.\n",
    "\n",
    "The compressibility factor is defined by $Z = \\frac{P V}{R T}$. You can think of this as a measure how ideal the gas is; if $Z=1$ then it appears to be ideal.\n",
    "\n",
    "For ammonia, $P_c = 111.3$ atm, $T_c = 405.5$ K, and in these units, $R = 0.08206$ (atm L)/(mol K).\n",
    "\n",
    "Use the information above to compute the compressibility factor at the following pressures at a temperature of 450 K:\n",
    "\n",
    "P = 56, 111.3, 222.6, 445.2, 1113, 2226 atm.\n",
    "\n",
    "For each pressure, print the following quantities in a roughly tabular form:\n",
    "\n",
    "P, V, Z\n",
    "\n",
    "```{note}\n",
    "You should `scipy.optimize.root for this. It might be possible to solve this problem analytically, and if you want to do that to check your answer that is fine.\n",
    "```"
   ]
  },
  {
   "cell_type": "markdown",
   "id": "0963c0db",
   "metadata": {},
   "source": [
    "---\n",
    "\n"
   ]
  },
  {
   "cell_type": "code",
   "execution_count": null,
   "id": "0f0de12d-c16f-4aac-868c-11f0d072eb3e",
   "metadata": {
    "nbgrader": {
     "grade": true,
     "grade_id": "cell-92da3734a5a2e41e",
     "locked": false,
     "points": 0,
     "schema_version": 3,
     "solution": true,
     "task": false
    },
    "tags": []
   },
   "outputs": [],
   "source": [
    "\n",
    "\n"
   ]
  },
  {
   "cell_type": "markdown",
   "id": "613d1a50-b2bb-41c8-b643-4883566ecee7",
   "metadata": {},
   "source": [
    "When you are done, download a PDF and turn it in on Canvas. Make sure to save your notebook, then run this cell and click on the download link."
   ]
  },
  {
   "cell_type": "code",
   "execution_count": null,
   "id": "d39da989-d274-4dc2-a01a-51a59375ffd9",
   "metadata": {
    "tags": [
     "raises-exception",
     "remove-output"
    ]
   },
   "outputs": [],
   "source": [
    "%run ~/f23-06623/f23.py\n",
    "%pdf"
   ]
  },
  {
   "cell_type": "markdown",
   "id": "6a974f57-c57c-4441-b2c9-4c6bc4a31ff7",
   "metadata": {},
   "source": [
    "\n",
    "\n"
   ]
  }
 ],
 "metadata": {
  "kernelspec": {
   "display_name": "Python 3",
   "language": "python",
   "name": "python3"
  },
  "language_info": {
   "codemirror_mode": {
    "name": "ipython",
    "version": 3
   },
   "file_extension": ".py",
   "mimetype": "text/x-python",
   "name": "python",
   "nbconvert_exporter": "python",
   "pygments_lexer": "ipython3",
   "version": "3.9.7"
  },
  "widgets": {
   "application/vnd.jupyter.widget-state+json": {
    "state": {},
    "version_major": 2,
    "version_minor": 0
   }
  }
 },
 "nbformat": 4,
 "nbformat_minor": 5
}
