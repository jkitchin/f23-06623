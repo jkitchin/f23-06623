{
 "cells": [
  {
   "cell_type": "markdown",
   "id": "b6d41fdc",
   "metadata": {},
   "source": [
    "Before you turn this problem in, make sure everything runs as expected. First, **restart the kernel** (in the menubar, select Kernel$\\rightarrow$Restart) and then **run all cells** (in the menubar, select Cell$\\rightarrow$Run All).\n",
    "\n",
    "Make sure you fill in any place that says `YOUR CODE HERE` or \"YOUR ANSWER HERE\", as well as your name and collaborators below:\n",
    "\n"
   ]
  },
  {
   "cell_type": "code",
   "execution_count": null,
   "id": "a464c58c",
   "metadata": {},
   "outputs": [],
   "source": [
    "NAME = \"\"\n",
    "COLLABORATORS = \"\"\n",
    "\n"
   ]
  },
  {
   "cell_type": "markdown",
   "id": "0963c0db",
   "metadata": {},
   "source": [
    "---\n",
    "\n"
   ]
  },
  {
   "cell_type": "markdown",
   "id": "d7cec651-8094-46d2-bebb-a3f96af2c151",
   "metadata": {
    "nbgrader": {
     "grade": true,
     "grade_id": "cell-92da3734a5a2e41e",
     "locked": false,
     "points": 0,
     "schema_version": 3,
     "solution": true,
     "task": false
    },
    "tags": []
   },
   "source": [
    "We can model the profit from a continously stirred tank reactor (CSTR) by computing the value produced from it and subtracting the cost of operating it. Let's assume that the value a CSTR produces is given by the conversions $X$ as $F_{A0} X M$ where $F_{A0}$ is the inlet molar flow, $X$ is the conversion in the reactor, and $M$ is the value of the products formed. The cost of operating our reactor is just proportional to the volume $V$ of the reactor: $cost = V C$ where $C$ is the cost per unit volume.\n",
    "\n",
    "That leads to this equation\n",
    "\n",
    "$profit = F_{A0}  X  M - V C$\n",
    "\n",
    "The volume required to get a particular conversion is defined as\n",
    "\n",
    "$V = \\frac{F_{A0} X}{k F_{A0}/\\nu (1 - X)}$\n",
    "\n",
    "You can see the value increases with $X$, but so does the cost. This leads to a maximum in profit because eventually the volume gets large and the operating costs exceed the value of the products.\n",
    "\n",
    "The values for the constants in this problem are provided in the next code cell.\n",
    "\n"
   ]
  },
  {
   "cell_type": "code",
   "execution_count": 1,
   "id": "f8ff5c0c-798b-4e23-a1e6-b0ae634180bd",
   "metadata": {},
   "outputs": [],
   "source": [
    "Fa0 = 1 # molar flow in, mol / hr\n",
    "M = 2.5 # value of product $ / mol\n",
    "C = 0.3 # cost in $ / m^3 / hr\n",
    "nu = 0.1 # flow rate in m^3 / hr\n",
    "k = 0.23 # rate constant 1 / hr"
   ]
  },
  {
   "cell_type": "markdown",
   "id": "88cc9a90-2e11-4d08-bc12-7c023e20adb2",
   "metadata": {},
   "source": [
    "Make a plot of the profit for  𝑋=0..1  and show there is a maximum in the profit. Use your graph to visually estimate the conversion where the profit is maximized and the maximum profit. Note, the profit goes to  −∞  at  𝑋=1 , so you should use plt.ylim to show only the positive part of the graph. You do not need to solve anything for this, just evaluate the right things."
   ]
  },
  {
   "cell_type": "code",
   "execution_count": null,
   "id": "a84df5ac-a3cc-460e-824f-295e7818e01a",
   "metadata": {},
   "outputs": [],
   "source": []
  },
  {
   "cell_type": "markdown",
   "id": "4847853d-9a5d-4be9-9a6b-f5fe023d350b",
   "metadata": {},
   "source": [
    "# Use solve_ivp to find the maximum\n",
    "\n",
    "We can use an event with `scipy.integrate.solve_ivp` to find the maximum profit. The first step is to derive a differential equation:\n",
    "\n",
    "$\\frac{dprofit}{dX} = F_{A0} M - \\frac{dV}{dX} C$\n",
    "\n",
    "Derive an analytical expression for $\\frac{dV}{dX}$ from the equation above. Then, use `solve_ivp` to integrate $\\frac{dprofit}{dX}$ with an event function that defines when $\\frac{dprofit}{dX} = 0$, which corresponds in this example to the location of the maximum. The initial condition for the ODE is $P(X=0)=0$.\n",
    "\n",
    "Plot your solution to make sure it is the same as the graph you made above, and show a quantitative answer to the conversion where the profit is maximized."
   ]
  },
  {
   "cell_type": "code",
   "execution_count": null,
   "id": "5f8a979f-140e-481c-8632-339e39f85f00",
   "metadata": {},
   "outputs": [],
   "source": []
  },
  {
   "cell_type": "markdown",
   "id": "613d1a50-b2bb-41c8-b643-4883566ecee7",
   "metadata": {},
   "source": [
    "When you are done, download a PDF and turn it in on Canvas. Make sure to save your notebook, then run this cell and click on the download link."
   ]
  },
  {
   "cell_type": "code",
   "execution_count": null,
   "id": "d39da989-d274-4dc2-a01a-51a59375ffd9",
   "metadata": {
    "tags": [
     "raises-exception",
     "remove-output"
    ]
   },
   "outputs": [],
   "source": [
    "%run ~/f23-06623/f23.py\n",
    "%pdf"
   ]
  },
  {
   "cell_type": "markdown",
   "id": "6a974f57-c57c-4441-b2c9-4c6bc4a31ff7",
   "metadata": {},
   "source": [
    "\n",
    "\n"
   ]
  }
 ],
 "metadata": {
  "kernelspec": {
   "display_name": "Python 3",
   "language": "python",
   "name": "python3"
  },
  "language_info": {
   "codemirror_mode": {
    "name": "ipython",
    "version": 3
   },
   "file_extension": ".py",
   "mimetype": "text/x-python",
   "name": "python",
   "nbconvert_exporter": "python",
   "pygments_lexer": "ipython3",
   "version": "3.9.7"
  },
  "widgets": {
   "application/vnd.jupyter.widget-state+json": {
    "state": {},
    "version_major": 2,
    "version_minor": 0
   }
  }
 },
 "nbformat": 4,
 "nbformat_minor": 5
}
