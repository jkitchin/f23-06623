{
 "cells": [
  {
   "cell_type": "markdown",
   "id": "b6d41fdc",
   "metadata": {},
   "source": [
    "Before you turn this problem in, make sure everything runs as expected. First, **restart the kernel** (in the menubar, select Kernel$\\rightarrow$Restart) and then **run all cells** (in the menubar, select Cell$\\rightarrow$Run All).\n",
    "\n",
    "Make sure you fill in any place that says `YOUR CODE HERE` or \"YOUR ANSWER HERE\", as well as your name and collaborators below:\n",
    "\n"
   ]
  },
  {
   "cell_type": "code",
   "execution_count": null,
   "id": "a464c58c",
   "metadata": {},
   "outputs": [],
   "source": [
    "NAME = \"\"\n",
    "COLLABORATORS = \"\"\n",
    "\n"
   ]
  },
  {
   "cell_type": "markdown",
   "id": "0963c0db",
   "metadata": {},
   "source": [
    "Gas absorption in a liquid film can be enhanced by chemical reactions. In this example, the gas A dissolves at the surface of the liquid film and diffuses into the film.  A reaction also occurs that consumes the dissolved A: $A + B \\rightarrow C$. B is not volatile though, and it does not leave the film. Within the film defined by the length scale $L$ diffusion is the only transport mechanism of A and B.\n",
    "\n",
    "![](bvp-abs.png)\n",
    "\n",
    "The concentrations of $A$ and $B$ in the region between x=0 and x=L are governed by these differential equations:\n",
    "\n",
    "$\\frac{d^2C_A}{dx^2} = \\frac{k}{D_{AD}} C_A C_B$\n",
    "\n",
    "$\\frac{d^2C_B}{dx^2} = \\frac{k}{D_{BD}} C_A C_B$\n",
    "\n",
    "with boundary conditions of $C_A(x=0) = C_{As}$, $dC_B/dx (x=0) = 0$, $C_A(x=L) = 0$ and $C_B(x=L) = C_{B0}$. The values of the constants in this problem are given as:\n"
   ]
  },
  {
   "cell_type": "code",
   "execution_count": 1,
   "id": "0f0de12d-c16f-4aac-868c-11f0d072eb3e",
   "metadata": {
    "nbgrader": {
     "grade": true,
     "grade_id": "cell-92da3734a5a2e41e",
     "locked": false,
     "points": 0,
     "schema_version": 3,
     "solution": true,
     "task": false
    },
    "tags": []
   },
   "outputs": [],
   "source": [
    "L = 2e-4     # m\n",
    "Dad = 2e-10  # m^s/s\n",
    "Dbd = 4e-10  # m^2/s\n",
    "Cb0 = 10     # kg-mol/m^3\n",
    "Cas = 10     # kg-mol/m^3\n",
    "k = 1.6e-3   # m^3/(kg mol s)"
   ]
  },
  {
   "cell_type": "markdown",
   "id": "aafde7ab-bb22-46c6-b7a9-8ba6795a00f9",
   "metadata": {},
   "source": [
    "Use this information to compute and plot the concentration profiles of A and B from x=0 to x=L. Show evidence that the boundary conditions are satisfied, and compute the derivative of A ( 𝑑𝐶𝐴/𝑑𝑥 ) at x=0."
   ]
  },
  {
   "cell_type": "code",
   "execution_count": null,
   "id": "7a6af734-8d95-4913-9c03-1048fee0f168",
   "metadata": {},
   "outputs": [],
   "source": []
  },
  {
   "cell_type": "markdown",
   "id": "613d1a50-b2bb-41c8-b643-4883566ecee7",
   "metadata": {},
   "source": [
    "When you are done, download a PDF and turn it in on Canvas. Make sure to save your notebook, then run this cell and click on the download link."
   ]
  },
  {
   "cell_type": "code",
   "execution_count": null,
   "id": "d39da989-d274-4dc2-a01a-51a59375ffd9",
   "metadata": {
    "tags": [
     "raises-exception",
     "remove-output"
    ]
   },
   "outputs": [],
   "source": [
    "%run ~/f23-06623/f23.py\n",
    "%pdf"
   ]
  },
  {
   "cell_type": "markdown",
   "id": "6a974f57-c57c-4441-b2c9-4c6bc4a31ff7",
   "metadata": {},
   "source": [
    "\n",
    "\n"
   ]
  }
 ],
 "metadata": {
  "kernelspec": {
   "display_name": "Python 3",
   "language": "python",
   "name": "python3"
  },
  "language_info": {
   "codemirror_mode": {
    "name": "ipython",
    "version": 3
   },
   "file_extension": ".py",
   "mimetype": "text/x-python",
   "name": "python",
   "nbconvert_exporter": "python",
   "pygments_lexer": "ipython3",
   "version": "3.9.7"
  },
  "widgets": {
   "application/vnd.jupyter.widget-state+json": {
    "state": {},
    "version_major": 2,
    "version_minor": 0
   }
  }
 },
 "nbformat": 4,
 "nbformat_minor": 5
}
