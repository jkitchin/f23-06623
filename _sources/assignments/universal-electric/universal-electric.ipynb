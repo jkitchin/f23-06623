{
 "cells": [
  {
   "cell_type": "markdown",
   "id": "b6d41fdc",
   "metadata": {},
   "source": [
    "Before you turn this problem in, make sure everything runs as expected. First, **restart the kernel** (in the menubar, select Kernel$\\rightarrow$Restart) and then **run all cells** (in the menubar, select Cell$\\rightarrow$Run All).\n",
    "\n",
    "Make sure you fill in any place that says `YOUR CODE HERE` or \"YOUR ANSWER HERE\", as well as your name and collaborators below:\n",
    "\n"
   ]
  },
  {
   "cell_type": "code",
   "execution_count": null,
   "id": "a464c58c",
   "metadata": {},
   "outputs": [],
   "source": [
    "NAME = \"\"\n",
    "COLLABORATORS = \"\"\n",
    "\n"
   ]
  },
  {
   "cell_type": "markdown",
   "id": "0963c0db",
   "metadata": {},
   "source": [
    "# Universal Electric, Inc\n",
    "\n",
    "Universal Electric, Inc manufactures and sells two types of lamps: L1 and L2. They make a profit of \\$150 on L1 and \\$100 on L2. There are two workers that can make the lamps, W1 and W2. W1 works for 100 hours a month, and W2 works for 80 hours a month.\n",
    "\n",
    "W1 assembles L1 in 20 minutes, and L2 in 30 minutes. W2 paints L1 in 20 min and L2 in 10 minutes. Assuming that all lamps that are made can be sold, how many of each kind of lamp should the workers make to maximize the profit, and how much profit will be made?"
   ]
  },
  {
   "cell_type": "code",
   "execution_count": null,
   "id": "0f0de12d-c16f-4aac-868c-11f0d072eb3e",
   "metadata": {
    "nbgrader": {
     "grade": true,
     "grade_id": "cell-92da3734a5a2e41e",
     "locked": false,
     "points": 0,
     "schema_version": 3,
     "solution": true,
     "task": false
    },
    "tags": []
   },
   "outputs": [],
   "source": []
  },
  {
   "cell_type": "markdown",
   "id": "e7000a67-005d-4c97-aa8b-e0f37a8ceb0b",
   "metadata": {},
   "source": [
    "# Show that the constraints are satisfied"
   ]
  },
  {
   "cell_type": "code",
   "execution_count": null,
   "id": "09fc9052-9b1f-4753-b6de-f353331e0be9",
   "metadata": {},
   "outputs": [],
   "source": []
  },
  {
   "cell_type": "markdown",
   "id": "2e4e14e8-bc4b-4cbd-a80e-a869539dc488",
   "metadata": {},
   "source": [
    "# Visualize the solution\n",
    "\n",
    "Make a contour plot that shows the profit as a function of L1 and L2. Plot the constraints and your solution on this figure."
   ]
  },
  {
   "cell_type": "code",
   "execution_count": null,
   "id": "74331ae4-97aa-479b-a16d-9998acbb4fcc",
   "metadata": {},
   "outputs": [],
   "source": []
  },
  {
   "cell_type": "markdown",
   "id": "613d1a50-b2bb-41c8-b643-4883566ecee7",
   "metadata": {},
   "source": [
    "When you are done, download a PDF and turn it in on Canvas. Make sure to save your notebook, then run this cell and click on the download link."
   ]
  },
  {
   "cell_type": "code",
   "execution_count": null,
   "id": "d39da989-d274-4dc2-a01a-51a59375ffd9",
   "metadata": {
    "tags": [
     "raises-exception",
     "remove-output"
    ]
   },
   "outputs": [],
   "source": [
    "%run ~/f23-06623/f23.py\n",
    "%pdf"
   ]
  },
  {
   "cell_type": "markdown",
   "id": "6a974f57-c57c-4441-b2c9-4c6bc4a31ff7",
   "metadata": {},
   "source": [
    "\n",
    "\n"
   ]
  }
 ],
 "metadata": {
  "kernelspec": {
   "display_name": "Python 3",
   "language": "python",
   "name": "python3"
  },
  "language_info": {
   "codemirror_mode": {
    "name": "ipython",
    "version": 3
   },
   "file_extension": ".py",
   "mimetype": "text/x-python",
   "name": "python",
   "nbconvert_exporter": "python",
   "pygments_lexer": "ipython3",
   "version": "3.9.7"
  },
  "widgets": {
   "application/vnd.jupyter.widget-state+json": {
    "state": {},
    "version_major": 2,
    "version_minor": 0
   }
  }
 },
 "nbformat": 4,
 "nbformat_minor": 5
}
