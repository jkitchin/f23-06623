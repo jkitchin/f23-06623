{
 "cells": [
  {
   "cell_type": "markdown",
   "metadata": {},
   "source": [
    "Before you turn this problem in, make sure everything runs as expected. First, **restart the kernel** (in the menubar, select Kernel$\\rightarrow$Restart) and then **run all cells** (in the menubar, select Cell$\\rightarrow$Run All).\n",
    "\n",
    "Make sure you fill in any place that says `YOUR CODE HERE` or \"YOUR ANSWER HERE\", as well as your name and collaborators below:\n"
   ]
  },
  {
   "cell_type": "code",
   "execution_count": null,
   "metadata": {},
   "outputs": [],
   "source": []
  },
  {
   "cell_type": "markdown",
   "metadata": {
    "colab_type": "text",
    "id": "Af_EJPe5p9Ij"
   },
   "source": [
    "The goal of this problem is to compute the work required to isothermally compress a carbon dioxide  gas at 50 degrees Celsius at 1 atm to 1/100th of its initial volume. The work is defined by:\n",
    "\n",
    "$\\frac{dW}{dV} = -P(V)$.\n",
    "\n",
    "We can model $P(V)$ with the Redlich-Kwong equation of state:\n",
    "\n",
    "$P(V) = \\frac{RT}{(V - b)} - \\frac{a}{V (V + b) \\sqrt{T}}$\n",
    "\n",
    "where\n",
    "\n",
    "$a = 0.42747 \\left(\\frac{R^2 T_c^{5/2}}{P_c}\\right)$\n",
    "\n",
    "and\n",
    "\n",
    "$b = 0.08664 \\left (\\frac{R T_c}{P_c}\\right)$\n",
    "\n",
    "The critical constants and Gas constant are provided with the relevant units in the code cell below.\n",
    "\n",
    "The initial volume of gas under these conditions is 26.4134 liters/mol."
   ]
  },
  {
   "cell_type": "code",
   "execution_count": null,
   "metadata": {
    "colab": {},
    "colab_type": "code",
    "id": "QvX4p-EQq9Mw"
   },
   "outputs": [],
   "source": [
    "R = 0.08206 # atm * L / gmol / K\n",
    "\n",
    "# Critical properties for CO2\n",
    "Tc = 304.2  # K\n",
    "Pc = 72.9  # atm"
   ]
  },
  {
   "cell_type": "markdown",
   "metadata": {
    "colab_type": "text",
    "id": "lZBDxyi0rxf2"
   },
   "source": [
    "# Part 1\n",
    "Setup a function that defines the Redlich-Kwong equation of state $P(V)$."
   ]
  },
  {
   "cell_type": "code",
   "execution_count": null,
   "metadata": {
    "colab": {},
    "colab_type": "code",
    "id": "FWf0C-qrr8Pa"
   },
   "outputs": [],
   "source": []
  },
  {
   "cell_type": "markdown",
   "metadata": {
    "colab_type": "text",
    "id": "LICZUZ1kr8ye"
   },
   "source": [
    "# Part 2\n",
    "Setup a function that defines the ODE: $dW/dV = -P(V)$."
   ]
  },
  {
   "cell_type": "code",
   "execution_count": null,
   "metadata": {
    "colab": {},
    "colab_type": "code",
    "id": "bqTmff-KsQ5j"
   },
   "outputs": [],
   "source": []
  },
  {
   "cell_type": "markdown",
   "metadata": {
    "colab_type": "text",
    "id": "kDTkUp4ssRmN"
   },
   "source": [
    "# Part 3\n",
    "Use `scipy.integrate.solve_ivp` to integrate your ODE from $V_0$  to $V_f = 0.01 V_0$. Show the final work required to do the compression to the final volume."
   ]
  },
  {
   "cell_type": "code",
   "execution_count": null,
   "metadata": {
    "colab": {},
    "colab_type": "code",
    "id": "XLBG_P13scgL"
   },
   "outputs": [],
   "source": []
  },
  {
   "cell_type": "markdown",
   "metadata": {
    "colab_type": "text",
    "id": "x_VMAvh4sdUd"
   },
   "source": [
    "# Part 4\n",
    "For an ideal gas, the product of $PV = RT$ where $RT$ is a constant, which means that a plot of $ln(P)$ vs $\\ln(V)$ would be a straight line with a slope of -1. Note that $\\ln$ is `numpy.log` in colab.\n",
    "\n",
    "Compute the pressure using the volumes from your ODE solution, and make a plot of $\\ln(P)$ vs $\\ln(V)$. This should be as easy as $P(sol.t)$ if you named your solution as `sol`.\n",
    "\n",
    "The ideal pressure is $P = R T / V$. Compute this and add it to the plot also as $ln(P)$ vs $\\ln(V)$. Comment on the similarity and differences between the real gas and the ideal gas results."
   ]
  },
  {
   "cell_type": "code",
   "execution_count": null,
   "metadata": {},
   "outputs": [],
   "source": []
  },
  {
   "cell_type": "code",
   "execution_count": null,
   "metadata": {
    "colab": {},
    "colab_type": "code",
    "id": "dpuPWtA0uVPJ",
    "tags": [
     "raises-exception",
     "remove-output"
    ]
   },
   "outputs": [],
   "source": [
    "%run ~/f23-06623/f23.py\n",
    "%pdf"
   ]
  }
 ],
 "metadata": {
  "colab": {
   "authorship_tag": "ABX9TyPeHcbK2AreTMWdHAz1GYWS",
   "name": "isothermal-compression.ipynb",
   "provenance": []
  },
  "kernelspec": {
   "display_name": "Python 3",
   "language": "python",
   "name": "python3"
  },
  "language_info": {
   "codemirror_mode": {
    "name": "ipython",
    "version": 3
   },
   "file_extension": ".py",
   "mimetype": "text/x-python",
   "name": "python",
   "nbconvert_exporter": "python",
   "pygments_lexer": "ipython3",
   "version": "3.9.7"
  },
  "widgets": {
   "application/vnd.jupyter.widget-state+json": {
    "state": {},
    "version_major": 2,
    "version_minor": 0
   }
  }
 },
 "nbformat": 4,
 "nbformat_minor": 4
}
