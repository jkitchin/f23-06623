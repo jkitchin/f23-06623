{
 "cells": [
  {
   "cell_type": "markdown",
   "id": "b6d41fdc",
   "metadata": {},
   "source": [
    "Before you turn this problem in, make sure everything runs as expected. First, **restart the kernel** (in the menubar, select Kernel$\\rightarrow$Restart) and then **run all cells** (in the menubar, select Cell$\\rightarrow$Run All).\n",
    "\n",
    "Make sure you fill in any place that says `YOUR CODE HERE` or \"YOUR ANSWER HERE\", as well as your name and collaborators below:\n",
    "\n"
   ]
  },
  {
   "cell_type": "code",
   "execution_count": null,
   "id": "a464c58c",
   "metadata": {},
   "outputs": [],
   "source": [
    "NAME = \"\"\n",
    "COLLABORATORS = \"\"\n",
    "\n"
   ]
  },
  {
   "cell_type": "markdown",
   "id": "0963c0db",
   "metadata": {},
   "source": [
    "Polynomials are often used to fit data. Look up the function `np.polyfit` and use it to fit the following data with a 4th order polynomial."
   ]
  },
  {
   "cell_type": "code",
   "execution_count": 1,
   "id": "0f0de12d-c16f-4aac-868c-11f0d072eb3e",
   "metadata": {
    "nbgrader": {
     "grade": true,
     "grade_id": "cell-92da3734a5a2e41e",
     "locked": false,
     "points": 0,
     "schema_version": 3,
     "solution": true,
     "task": false
    },
    "tags": []
   },
   "outputs": [],
   "source": [
    "vol = [324.85990899, 253.43999457, 234.03826687, 231.12159387, 228.40609504, \n",
    "       225.86490337, 223.47556626, 221.21992353, 219.08319566, 217.05369547, \n",
    "       215.12089909, 213.27525144, 211.51060823, 203.66743321, 197.07888649, \n",
    "       91.39717952, 186.40163591, 181.9443551, 177.92077043, 174.2538009, \n",
    "       170.88582166, 167.76711189, 164.87096104, 159.62553397, 154.9700546, \n",
    "       150.78475335, 146.97722201, 143.49380641]\n",
    "\n",
    "energy =  [-399.973168847, -400.0172393178, -400.0256270548, -400.02656907,\n",
    "           -400.027355112, -400.0280030862, -400.028531345, -400.0289534593,\n",
    "           -400.0292800709, -400.029522497, -400.0296863867, -400.0297809256, \n",
    "           -400.029811, -400.0291665573, -400.0275017142, -400.0250998136,\n",
    "           -400.0221371852, -400.0187369863, -400.0149820198, -400.0109367042, \n",
    "           -400.00664951, -400.0021478258, -399.9974753449, -399.9876885136, \n",
    "           -399.9774175487, -399.9667603369, -399.9557686286, -399.9445262604]"
   ]
  },
  {
   "cell_type": "code",
   "execution_count": null,
   "id": "3b925402-6947-47e9-b745-cfc9efc51021",
   "metadata": {},
   "outputs": [],
   "source": []
  },
  {
   "cell_type": "markdown",
   "id": "8ae040ae-36f8-430c-9f92-f3eb43e5aef8",
   "metadata": {},
   "source": [
    "Use the numpy polynomial functions to write a function that you can use with minimize to find the volume that minimizes the energy in the data above."
   ]
  },
  {
   "cell_type": "code",
   "execution_count": null,
   "id": "9918dba9-5215-4c1e-8d58-819d5188a69c",
   "metadata": {},
   "outputs": [],
   "source": []
  },
  {
   "cell_type": "markdown",
   "id": "6f2b5b79-0598-44e6-802e-c5704db5da66",
   "metadata": {},
   "source": [
    "Use the numpy polynomial functions to calculate the derivative dE/dV at the minimum you found above."
   ]
  },
  {
   "cell_type": "code",
   "execution_count": null,
   "id": "0123f682-7d26-41b2-ac96-4c11867d4fe1",
   "metadata": {},
   "outputs": [],
   "source": []
  },
  {
   "cell_type": "markdown",
   "id": "613d1a50-b2bb-41c8-b643-4883566ecee7",
   "metadata": {},
   "source": [
    "When you are done, download a PDF and turn it in on Canvas. Make sure to save your notebook, then run this cell and click on the download link."
   ]
  },
  {
   "cell_type": "code",
   "execution_count": null,
   "id": "d39da989-d274-4dc2-a01a-51a59375ffd9",
   "metadata": {
    "tags": [
     "raises-exception",
     "remove-output"
    ]
   },
   "outputs": [],
   "source": [
    "%run ~/f23-06623/f23.py\n",
    "%pdf"
   ]
  },
  {
   "cell_type": "markdown",
   "id": "6a974f57-c57c-4441-b2c9-4c6bc4a31ff7",
   "metadata": {},
   "source": [
    "\n",
    "\n"
   ]
  }
 ],
 "metadata": {
  "kernelspec": {
   "display_name": "Python 3",
   "language": "python",
   "name": "python3"
  },
  "language_info": {
   "codemirror_mode": {
    "name": "ipython",
    "version": 3
   },
   "file_extension": ".py",
   "mimetype": "text/x-python",
   "name": "python",
   "nbconvert_exporter": "python",
   "pygments_lexer": "ipython3",
   "version": "3.9.7"
  },
  "widgets": {
   "application/vnd.jupyter.widget-state+json": {
    "state": {},
    "version_major": 2,
    "version_minor": 0
   }
  }
 },
 "nbformat": 4,
 "nbformat_minor": 5
}
