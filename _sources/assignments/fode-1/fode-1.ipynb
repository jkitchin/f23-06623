{
 "cells": [
  {
   "cell_type": "markdown",
   "id": "b6d41fdc",
   "metadata": {},
   "source": [
    "Before you turn this problem in, make sure everything runs as expected. First, **restart the kernel** (in the menubar, select Kernel$\\rightarrow$Restart) and then **run all cells** (in the menubar, select Cell$\\rightarrow$Run All).\n",
    "\n",
    "Make sure you fill in any place that says `YOUR CODE HERE` or \"YOUR ANSWER HERE\", as well as your name and collaborators below:\n",
    "\n"
   ]
  },
  {
   "cell_type": "code",
   "execution_count": null,
   "id": "a464c58c",
   "metadata": {},
   "outputs": [],
   "source": [
    "NAME = \"\"\n",
    "COLLABORATORS = \"\"\n",
    "\n"
   ]
  },
  {
   "cell_type": "markdown",
   "id": "0963c0db",
   "metadata": {},
   "source": [
    "---\n",
    "\n"
   ]
  },
  {
   "cell_type": "markdown",
   "id": "2f5eaf6c-e8cd-4bd4-96fa-324c2f74faad",
   "metadata": {
    "nbgrader": {
     "grade": true,
     "grade_id": "cell-92da3734a5a2e41e",
     "locked": false,
     "points": 0,
     "schema_version": 3,
     "solution": true,
     "task": false
    },
    "tags": []
   },
   "source": [
    "In the book Problem solving in chemical and biochemical engineering with POLYMATH, Excel and Matlab by Cutlip and Shacham there is a problem (7.1) where you want to plot the compressibility factor for CO2 over a range of 0.1≤Pr<=10. To do this, we need to know how the volume varies with Pr for a constant Tr=1.1 using the van der Waal equation of state. \n",
    "\n",
    "The van der Waal equation of state is:\n",
    "\n",
    "$P=\\frac{RT}{V−b}−\\frac{a}{V^2}$\n",
    "\n",
    "We define the reduced pressure as Pr=P/Pc, and the reduced temperature as Tr=T/Tc.\n",
    "\n",
    "The approach we consider is to derive an expression for $dV/dPr$. We proceed as follows:\n",
    "\n",
    "$\\frac{dV}{dPr} = \\frac{dV}{dP} \\frac{dP}{dPr}$.\n",
    "\n",
    "The first term on the right is also $(\\frac{dP}{dV})^{-1}$ which we can derive from the van der Waal equation. The second term on the right is just a constant from the definition of the reduced pressure.\n",
    "\n",
    "With some work you can derive this differential equation:\n",
    "\n",
    "$\\frac{dP}{dV} = -\\frac{RT}{(V-b)^2} + \\frac{2a}{V^3}$\n",
    "\n",
    "Combine this information to derive the required ODE $\\frac{dV}{dPr}$ and express it in one or more functions in Python."
   ]
  },
  {
   "cell_type": "code",
   "execution_count": null,
   "id": "1c13a1cf-9c0b-4446-af57-bf92c8a90cc8",
   "metadata": {},
   "outputs": [],
   "source": []
  },
  {
   "cell_type": "markdown",
   "id": "6375c23d-adad-4b69-9e09-fef2c3d70bdc",
   "metadata": {},
   "source": [
    "We are given an initial condition: at Pr=0.1, Tr=1.1, V=3.676.\n",
    "\n",
    "Use this information to calculate V as a function of Pr by integrating the differential equation you derived in the previous step.\n"
   ]
  },
  {
   "cell_type": "code",
   "execution_count": null,
   "id": "7e7c27ce-10af-44c0-ab08-c6094fb71124",
   "metadata": {},
   "outputs": [],
   "source": []
  },
  {
   "cell_type": "markdown",
   "id": "0a1acaab-c2f8-4533-ba42-18553ccd085e",
   "metadata": {},
   "source": [
    "Finally, the compressibility is defined as $Z = \\frac{P V}{R T}$. Plot the compressibility as a function of Pr.\n",
    "\n",
    "Your solution should look like\n",
    "\n",
    "![this](./IMG_1388.png)."
   ]
  },
  {
   "cell_type": "code",
   "execution_count": null,
   "id": "df2910e7-828e-448b-aed3-ebb583155654",
   "metadata": {},
   "outputs": [],
   "source": []
  },
  {
   "cell_type": "markdown",
   "id": "613d1a50-b2bb-41c8-b643-4883566ecee7",
   "metadata": {},
   "source": [
    "When you are done, download a PDF and turn it in on Canvas. Make sure to save your notebook, then run this cell and click on the download link."
   ]
  },
  {
   "cell_type": "code",
   "execution_count": null,
   "id": "d39da989-d274-4dc2-a01a-51a59375ffd9",
   "metadata": {
    "tags": [
     "raises-exception",
     "remove-output"
    ]
   },
   "outputs": [],
   "source": [
    "%run ~/f23-06623/f23.py\n",
    "%pdf"
   ]
  },
  {
   "cell_type": "markdown",
   "id": "6a974f57-c57c-4441-b2c9-4c6bc4a31ff7",
   "metadata": {},
   "source": [
    "\n",
    "\n"
   ]
  }
 ],
 "metadata": {
  "kernelspec": {
   "display_name": "Python 3",
   "language": "python",
   "name": "python3"
  },
  "language_info": {
   "codemirror_mode": {
    "name": "ipython",
    "version": 3
   },
   "file_extension": ".py",
   "mimetype": "text/x-python",
   "name": "python",
   "nbconvert_exporter": "python",
   "pygments_lexer": "ipython3",
   "version": "3.9.7"
  },
  "widgets": {
   "application/vnd.jupyter.widget-state+json": {
    "state": {},
    "version_major": 2,
    "version_minor": 0
   }
  }
 },
 "nbformat": 4,
 "nbformat_minor": 5
}
