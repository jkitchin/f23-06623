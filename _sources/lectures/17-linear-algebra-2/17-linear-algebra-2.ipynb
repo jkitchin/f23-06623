{
 "cells": [
  {
   "cell_type": "markdown",
   "metadata": {
    "id": "yFT-nwbmc_Tr"
   },
   "source": [
    "Opening song from [The Matrix](https://en.wikipedia.org/wiki/The_Matrix) and is called [Wake up](https://www.youtube.com/watch?v=wauzrPn0cfg)."
   ]
  },
  {
   "cell_type": "markdown",
   "metadata": {},
   "source": [
    "[TOC](../toc.ipynb)\n",
    "\n",
    "Advanced topics in linear algebra\n",
    "=================================\n",
    "\n",
    "- KEYWORDS: numpy.linalg.solve, scipy.interpolate.interp1d, numpy.linalg.eigvals, numpy.linalg.eig, numpy.argsort\n"
   ]
  },
  {
   "cell_type": "markdown",
   "metadata": {},
   "source": [
    "![img](https://aperiodical.com/wp-content/uploads/2018/09/scrabble-matrix-equation-1-600x205.png)"
   ]
  },
  {
   "cell_type": "markdown",
   "metadata": {
    "id": "rIDFIi-Wcf7y"
   },
   "source": [
    "https://aperiodical.com/2018/10/this-matrix-joke-is-only-barely-worth-your-time/"
   ]
  },
  {
   "cell_type": "markdown",
   "metadata": {
    "id": "BPRRoAOzw4qA"
   },
   "source": [
    "Is it true?"
   ]
  },
  {
   "cell_type": "markdown",
   "metadata": {
    "id": "wagz3J7zRxEs"
   },
   "source": [
    "# Interpolating between data points\n",
    "\n"
   ]
  },
  {
   "cell_type": "markdown",
   "metadata": {
    "id": "iqgCzaVZRxEv"
   },
   "source": [
    "It is a common need to interpolate between data points, especially when we don't have knowledge of the function relating the data. There are a variety of approaches you can use for interpolation. We will consider a few approaches that use linear algebra here. Given $N$ points, construct an $N^{th}$ order polynomial that goes through all the points, and that can be used to estimate new values between the points.\n",
    "\n",
    "First we consider some data.\n",
    "\n"
   ]
  },
  {
   "cell_type": "code",
   "execution_count": 1,
   "metadata": {
    "colab": {
     "base_uri": "https://localhost:8080/",
     "height": 265
    },
    "executionInfo": {
     "elapsed": 361,
     "status": "ok",
     "timestamp": 1636027683331,
     "user": {
      "displayName": "John Kitchin",
      "photoUrl": "https://lh3.googleusercontent.com/a/default-user=s64",
      "userId": "14782011281593705406"
     },
     "user_tz": 240
    },
    "id": "G0f8pATURxEx",
    "outputId": "7fe09ea6-8b3c-44f0-8301-7744339c650e"
   },
   "outputs": [
    {
     "data": {
      "image/png": "[encoded data removed]",
      "text/plain": [
       "<Figure size 432x288 with 1 Axes>"
      ]
     },
     "metadata": {
      "needs_background": "light"
     },
     "output_type": "display_data"
    }
   ],
   "source": [
    "import numpy as np\n",
    "\n",
    "x = np.array([1.2, 2.9, 4.1])\n",
    "y = np.array([4.4, 5.5, 8.9])\n",
    "\n",
    "import matplotlib.pyplot as plt\n",
    "\n",
    "plt.plot(x, y);"
   ]
  },
  {
   "cell_type": "markdown",
   "metadata": {
    "id": "yMMkggQlRxFF"
   },
   "source": [
    "We would like an equation like $y(x) = a_2 x^2 + a_1 x + a_0$. If we write these out for each data point we get:\n",
    "\n",
    "$y_0 = a_2 x_0^2 + a_1 x_0 + a_0$\n",
    "\n",
    "$y_1 = a_2 x_1^2 + a_1 x_1 + a_0$\n",
    "\n",
    "and so on. Here, the things we don't know are the parameters $\\mathbf{a} [a_2, a_1, a_0]$. We can write these as:\n",
    "\n",
    "$\\mathbf{X} \\mathbf{a} = \\mathbf{y}$\n",
    "\n",
    "Where $\\mathbf{X} = [\\mathbf{x^2}, \\mathbf{x}, \\mathbf{1}]$, and is called a Vandermonde matrix. We can readily create these with `numpy.vander`.\n",
    "\n"
   ]
  },
  {
   "cell_type": "code",
   "execution_count": 2,
   "metadata": {
    "executionInfo": {
     "elapsed": 182,
     "status": "ok",
     "timestamp": 1636027887767,
     "user": {
      "displayName": "John Kitchin",
      "photoUrl": "https://lh3.googleusercontent.com/a/default-user=s64",
      "userId": "14782011281593705406"
     },
     "user_tz": 240
    },
    "id": "6EIQ-iLlRxFH"
   },
   "outputs": [
    {
     "data": {
      "text/plain": [
       "\u001b[0;31mSignature:\u001b[0m \u001b[0mnp\u001b[0m\u001b[0;34m.\u001b[0m\u001b[0mvander\u001b[0m\u001b[0;34m(\u001b[0m\u001b[0mx\u001b[0m\u001b[0;34m,\u001b[0m \u001b[0mN\u001b[0m\u001b[0;34m=\u001b[0m\u001b[0;32mNone\u001b[0m\u001b[0;34m,\u001b[0m \u001b[0mincreasing\u001b[0m\u001b[0;34m=\u001b[0m\u001b[0;32mFalse\u001b[0m\u001b[0;34m)\u001b[0m\u001b[0;34m\u001b[0m\u001b[0;34m\u001b[0m\u001b[0m\n",
       "\u001b[0;31mDocstring:\u001b[0m\n",
       "Generate a Vandermonde matrix.\n",
       "\n",
       "The columns of the output matrix are powers of the input vector. The\n",
       "order of the powers is determined by the `increasing` boolean argument.\n",
       "Specifically, when `increasing` is False, the `i`-th output column is\n",
       "the input vector raised element-wise to the power of ``N - i - 1``. Such\n",
       "a matrix with a geometric progression in each row is named for Alexandre-\n",
       "Theophile Vandermonde.\n",
       "\n",
       "Parameters\n",
       "----------\n",
       "x : array_like\n",
       "    1-D input array.\n",
       "N : int, optional\n",
       "    Number of columns in the output.  If `N` is not specified, a square\n",
       "    array is returned (``N = len(x)``).\n",
       "increasing : bool, optional\n",
       "    Order of the powers of the columns.  If True, the powers increase\n",
       "    from left to right, if False (the default) they are reversed.\n",
       "\n",
       "    .. versionadded:: 1.9.0\n",
       "\n",
       "Returns\n",
       "-------\n",
       "out : ndarray\n",
       "    Vandermonde matrix.  If `increasing` is False, the first column is\n",
       "    ``x^(N-1)``, the second ``x^(N-2)`` and so forth. If `increasing` is\n",
       "    True, the columns are ``x^0, x^1, ..., x^(N-1)``.\n",
       "\n",
       "See Also\n",
       "--------\n",
       "polynomial.polynomial.polyvander\n",
       "\n",
       "Examples\n",
       "--------\n",
       ">>> x = np.array([1, 2, 3, 5])\n",
       ">>> N = 3\n",
       ">>> np.vander(x, N)\n",
       "array([[ 1,  1,  1],\n",
       "       [ 4,  2,  1],\n",
       "       [ 9,  3,  1],\n",
       "       [25,  5,  1]])\n",
       "\n",
       ">>> np.column_stack([x**(N-1-i) for i in range(N)])\n",
       "array([[ 1,  1,  1],\n",
       "       [ 4,  2,  1],\n",
       "       [ 9,  3,  1],\n",
       "       [25,  5,  1]])\n",
       "\n",
       ">>> x = np.array([1, 2, 3, 5])\n",
       ">>> np.vander(x)\n",
       "array([[  1,   1,   1,   1],\n",
       "       [  8,   4,   2,   1],\n",
       "       [ 27,   9,   3,   1],\n",
       "       [125,  25,   5,   1]])\n",
       ">>> np.vander(x, increasing=True)\n",
       "array([[  1,   1,   1,   1],\n",
       "       [  1,   2,   4,   8],\n",
       "       [  1,   3,   9,  27],\n",
       "       [  1,   5,  25, 125]])\n",
       "\n",
       "The determinant of a square Vandermonde matrix is the product\n",
       "of the differences between the values of the input vector:\n",
       "\n",
       ">>> np.linalg.det(np.vander(x))\n",
       "48.000000000000043 # may vary\n",
       ">>> (5-3)*(5-2)*(5-1)*(3-2)*(3-1)*(2-1)\n",
       "48\n",
       "\u001b[0;31mFile:\u001b[0m      ~/opt/anaconda3/lib/python3.9/site-packages/numpy/lib/twodim_base.py\n",
       "\u001b[0;31mType:\u001b[0m      function\n"
      ]
     },
     "metadata": {},
     "output_type": "display_data"
    }
   ],
   "source": [
    "np.vander?"
   ]
  },
  {
   "cell_type": "code",
   "execution_count": 3,
   "metadata": {
    "colab": {
     "base_uri": "https://localhost:8080/"
    },
    "executionInfo": {
     "elapsed": 216,
     "status": "ok",
     "timestamp": 1636027943914,
     "user": {
      "displayName": "John Kitchin",
      "photoUrl": "https://lh3.googleusercontent.com/a/default-user=s64",
      "userId": "14782011281593705406"
     },
     "user_tz": 240
    },
    "id": "UzUdCxRrRxFS",
    "outputId": "230bbacf-12d8-4f11-fc64-9b87f24e748d"
   },
   "outputs": [
    {
     "data": {
      "text/plain": [
       "array([[ 4,  2,  1],\n",
       "       [ 9,  3,  1],\n",
       "       [16,  4,  1]])"
      ]
     },
     "execution_count": 3,
     "metadata": {},
     "output_type": "execute_result"
    }
   ],
   "source": [
    "np.vander([2, 3, 4])"
   ]
  },
  {
   "cell_type": "markdown",
   "metadata": {
    "id": "WXgKCkTrRxFd"
   },
   "source": [
    "The first column is $x^2$, the second column is $x$, and the last column is all ones. To compute the polynomial coefficients, we just make the $\\mathbf{X}$ array and solve the equations.\n",
    "\n"
   ]
  },
  {
   "cell_type": "code",
   "execution_count": 4,
   "metadata": {
    "colab": {
     "base_uri": "https://localhost:8080/"
    },
    "executionInfo": {
     "elapsed": 147,
     "status": "ok",
     "timestamp": 1636028016847,
     "user": {
      "displayName": "John Kitchin",
      "photoUrl": "https://lh3.googleusercontent.com/a/default-user=s64",
      "userId": "14782011281593705406"
     },
     "user_tz": 240
    },
    "id": "RBxHiP_X3aZL",
    "outputId": "8c579fae-cb31-4437-a2c7-3b1ee71d49f3"
   },
   "outputs": [
    {
     "data": {
      "text/plain": [
       "array([[ 4,  2,  1],\n",
       "       [ 9,  3,  1],\n",
       "       [16,  4,  1]])"
      ]
     },
     "execution_count": 4,
     "metadata": {},
     "output_type": "execute_result"
    }
   ],
   "source": [
    "xx = np.array([2, 3, 4])\n",
    "np.array([xx**2, xx**1, xx**0]).T  # transposed list of rows"
   ]
  },
  {
   "cell_type": "code",
   "execution_count": 5,
   "metadata": {
    "colab": {
     "base_uri": "https://localhost:8080/"
    },
    "executionInfo": {
     "elapsed": 188,
     "status": "ok",
     "timestamp": 1636028057607,
     "user": {
      "displayName": "John Kitchin",
      "photoUrl": "https://lh3.googleusercontent.com/a/default-user=s64",
      "userId": "14782011281593705406"
     },
     "user_tz": 240
    },
    "id": "ofY_w1pQRxFf",
    "outputId": "fa52c494-9c60-46c0-d62d-54836b1b983f"
   },
   "outputs": [
    {
     "data": {
      "text/plain": [
       "array([ 0.75388776, -2.443881  ,  6.24705882])"
      ]
     },
     "execution_count": 5,
     "metadata": {},
     "output_type": "execute_result"
    }
   ],
   "source": [
    "X = np.vander(x, 3)\n",
    "a = np.linalg.solve(X, y)\n",
    "a"
   ]
  },
  {
   "cell_type": "markdown",
   "metadata": {
    "id": "EPPHlWvkRxFq"
   },
   "source": [
    "Now, we can use the parameters to compute new values.\n",
    "\n"
   ]
  },
  {
   "cell_type": "code",
   "execution_count": 6,
   "metadata": {
    "colab": {
     "base_uri": "https://localhost:8080/",
     "height": 265
    },
    "executionInfo": {
     "elapsed": 311,
     "status": "ok",
     "timestamp": 1636028214039,
     "user": {
      "displayName": "John Kitchin",
      "photoUrl": "https://lh3.googleusercontent.com/a/default-user=s64",
      "userId": "14782011281593705406"
     },
     "user_tz": 240
    },
    "id": "iU9dA_ovRxFs",
    "outputId": "59c3d819-8c2f-42aa-e237-b86ffaeb98da"
   },
   "outputs": [
    {
     "data": {
      "image/png": "[encoded data removed]",
      "text/plain": [
       "<Figure size 432x288 with 1 Axes>"
      ]
     },
     "metadata": {
      "needs_background": "light"
     },
     "output_type": "display_data"
    }
   ],
   "source": [
    "xfit = np.linspace(0, 5)\n",
    "Y = np.vander(xfit, 3) @ a  # This is the matrix multiply\n",
    "\n",
    "plt.plot(x, y, \"bo\", xfit, Y, \"b.\");"
   ]
  },
  {
   "cell_type": "markdown",
   "metadata": {
    "id": "VzmmKByHRxF3"
   },
   "source": [
    "What we have done here is fit an N<sup>th</sup> order polynomial to $N$ data points. There is a possibility that we have overfit this data, and extrapolation is not reliable. However, interpolation by this method may be useful. We will return to this for larger data sets where $N$ is much larger than the order of the polynomial when we talk about linear regression next week.\n",
    "\n"
   ]
  },
  {
   "cell_type": "markdown",
   "metadata": {
    "id": "7MhNY24FkY5E"
   },
   "source": [
    "we previously looked at polyfit for this."
   ]
  },
  {
   "cell_type": "code",
   "execution_count": 7,
   "metadata": {
    "colab": {
     "base_uri": "https://localhost:8080/",
     "height": 265
    },
    "executionInfo": {
     "elapsed": 326,
     "status": "ok",
     "timestamp": 1636028411106,
     "user": {
      "displayName": "John Kitchin",
      "photoUrl": "https://lh3.googleusercontent.com/a/default-user=s64",
      "userId": "14782011281593705406"
     },
     "user_tz": 240
    },
    "id": "qGsp3M-djyAV",
    "outputId": "331f0294-8473-4051-b562-35c5197d0d0a"
   },
   "outputs": [
    {
     "data": {
      "image/png": "[encoded data removed]",
      "text/plain": [
       "<Figure size 432x288 with 1 Axes>"
      ]
     },
     "metadata": {
      "needs_background": "light"
     },
     "output_type": "display_data"
    }
   ],
   "source": [
    "p = np.polyfit(x, y, 2)\n",
    "plt.plot(x, y, \"rs\", xfit, np.polyval(p, xfit));"
   ]
  },
  {
   "cell_type": "markdown",
   "metadata": {
    "id": "OSSspXESRxF4"
   },
   "source": [
    "### Interpolation libraries\n",
    "\n"
   ]
  },
  {
   "cell_type": "markdown",
   "metadata": {
    "id": "Pf7ilV6-RxF6"
   },
   "source": [
    "There are several interpolating functions available in [scipy.interpolate](https://docs.scipy.org/doc/scipy/reference/interpolate.html). These are usually more flexible and convenient than writing your own interpolating code. They are more sophisticated, and have some *features* you should be aware of.\n",
    "\n"
   ]
  },
  {
   "cell_type": "code",
   "execution_count": 8,
   "metadata": {
    "executionInfo": {
     "elapsed": 183,
     "status": "ok",
     "timestamp": 1636028583376,
     "user": {
      "displayName": "John Kitchin",
      "photoUrl": "https://lh3.googleusercontent.com/a/default-user=s64",
      "userId": "14782011281593705406"
     },
     "user_tz": 240
    },
    "id": "gaEkCe1yRxF8"
   },
   "outputs": [
    {
     "data": {
      "text/plain": [
       "\u001b[0;31mInit signature:\u001b[0m\n",
       "\u001b[0minterp1d\u001b[0m\u001b[0;34m(\u001b[0m\u001b[0;34m\u001b[0m\n",
       "\u001b[0;34m\u001b[0m    \u001b[0mx\u001b[0m\u001b[0;34m,\u001b[0m\u001b[0;34m\u001b[0m\n",
       "\u001b[0;34m\u001b[0m    \u001b[0my\u001b[0m\u001b[0;34m,\u001b[0m\u001b[0;34m\u001b[0m\n",
       "\u001b[0;34m\u001b[0m    \u001b[0mkind\u001b[0m\u001b[0;34m=\u001b[0m\u001b[0;34m'linear'\u001b[0m\u001b[0;34m,\u001b[0m\u001b[0;34m\u001b[0m\n",
       "\u001b[0;34m\u001b[0m    \u001b[0maxis\u001b[0m\u001b[0;34m=\u001b[0m\u001b[0;34m-\u001b[0m\u001b[0;36m1\u001b[0m\u001b[0;34m,\u001b[0m\u001b[0;34m\u001b[0m\n",
       "\u001b[0;34m\u001b[0m    \u001b[0mcopy\u001b[0m\u001b[0;34m=\u001b[0m\u001b[0;32mTrue\u001b[0m\u001b[0;34m,\u001b[0m\u001b[0;34m\u001b[0m\n",
       "\u001b[0;34m\u001b[0m    \u001b[0mbounds_error\u001b[0m\u001b[0;34m=\u001b[0m\u001b[0;32mNone\u001b[0m\u001b[0;34m,\u001b[0m\u001b[0;34m\u001b[0m\n",
       "\u001b[0;34m\u001b[0m    \u001b[0mfill_value\u001b[0m\u001b[0;34m=\u001b[0m\u001b[0mnan\u001b[0m\u001b[0;34m,\u001b[0m\u001b[0;34m\u001b[0m\n",
       "\u001b[0;34m\u001b[0m    \u001b[0massume_sorted\u001b[0m\u001b[0;34m=\u001b[0m\u001b[0;32mFalse\u001b[0m\u001b[0;34m,\u001b[0m\u001b[0;34m\u001b[0m\n",
       "\u001b[0;34m\u001b[0m\u001b[0;34m)\u001b[0m\u001b[0;34m\u001b[0m\u001b[0;34m\u001b[0m\u001b[0m\n",
       "\u001b[0;31mDocstring:\u001b[0m     \n",
       "Interpolate a 1-D function.\n",
       "\n",
       "`x` and `y` are arrays of values used to approximate some function f:\n",
       "``y = f(x)``. This class returns a function whose call method uses\n",
       "interpolation to find the value of new points.\n",
       "\n",
       "Parameters\n",
       "----------\n",
       "x : (N,) array_like\n",
       "    A 1-D array of real values.\n",
       "y : (...,N,...) array_like\n",
       "    A N-D array of real values. The length of `y` along the interpolation\n",
       "    axis must be equal to the length of `x`.\n",
       "kind : str or int, optional\n",
       "    Specifies the kind of interpolation as a string or as an integer\n",
       "    specifying the order of the spline interpolator to use.\n",
       "    The string has to be one of 'linear', 'nearest', 'nearest-up', 'zero',\n",
       "    'slinear', 'quadratic', 'cubic', 'previous', or 'next'. 'zero',\n",
       "    'slinear', 'quadratic' and 'cubic' refer to a spline interpolation of\n",
       "    zeroth, first, second or third order; 'previous' and 'next' simply\n",
       "    return the previous or next value of the point; 'nearest-up' and\n",
       "    'nearest' differ when interpolating half-integers (e.g. 0.5, 1.5)\n",
       "    in that 'nearest-up' rounds up and 'nearest' rounds down. Default\n",
       "    is 'linear'.\n",
       "axis : int, optional\n",
       "    Specifies the axis of `y` along which to interpolate.\n",
       "    Interpolation defaults to the last axis of `y`.\n",
       "copy : bool, optional\n",
       "    If True, the class makes internal copies of x and y.\n",
       "    If False, references to `x` and `y` are used. The default is to copy.\n",
       "bounds_error : bool, optional\n",
       "    If True, a ValueError is raised any time interpolation is attempted on\n",
       "    a value outside of the range of x (where extrapolation is\n",
       "    necessary). If False, out of bounds values are assigned `fill_value`.\n",
       "    By default, an error is raised unless ``fill_value=\"extrapolate\"``.\n",
       "fill_value : array-like or (array-like, array_like) or \"extrapolate\", optional\n",
       "    - if a ndarray (or float), this value will be used to fill in for\n",
       "      requested points outside of the data range. If not provided, then\n",
       "      the default is NaN. The array-like must broadcast properly to the\n",
       "      dimensions of the non-interpolation axes.\n",
       "    - If a two-element tuple, then the first element is used as a\n",
       "      fill value for ``x_new < x[0]`` and the second element is used for\n",
       "      ``x_new > x[-1]``. Anything that is not a 2-element tuple (e.g.,\n",
       "      list or ndarray, regardless of shape) is taken to be a single\n",
       "      array-like argument meant to be used for both bounds as\n",
       "      ``below, above = fill_value, fill_value``. Using a two-element tuple\n",
       "      or ndarray requires ``bounds_error=False``.\n",
       "\n",
       "      .. versionadded:: 0.17.0\n",
       "    - If \"extrapolate\", then points outside the data range will be\n",
       "      extrapolated.\n",
       "\n",
       "      .. versionadded:: 0.17.0\n",
       "assume_sorted : bool, optional\n",
       "    If False, values of `x` can be in any order and they are sorted first.\n",
       "    If True, `x` has to be an array of monotonically increasing values.\n",
       "\n",
       "Attributes\n",
       "----------\n",
       "fill_value\n",
       "\n",
       "Methods\n",
       "-------\n",
       "__call__\n",
       "\n",
       "See Also\n",
       "--------\n",
       "splrep, splev\n",
       "    Spline interpolation/smoothing based on FITPACK.\n",
       "UnivariateSpline : An object-oriented wrapper of the FITPACK routines.\n",
       "interp2d : 2-D interpolation\n",
       "\n",
       "Notes\n",
       "-----\n",
       "Calling `interp1d` with NaNs present in input values results in\n",
       "undefined behaviour.\n",
       "\n",
       "Input values `x` and `y` must be convertible to `float` values like\n",
       "`int` or `float`.\n",
       "\n",
       "If the values in `x` are not unique, the resulting behavior is\n",
       "undefined and specific to the choice of `kind`, i.e., changing\n",
       "`kind` will change the behavior for duplicates.\n",
       "\n",
       "\n",
       "Examples\n",
       "--------\n",
       ">>> import numpy as np\n",
       ">>> import matplotlib.pyplot as plt\n",
       ">>> from scipy import interpolate\n",
       ">>> x = np.arange(0, 10)\n",
       ">>> y = np.exp(-x/3.0)\n",
       ">>> f = interpolate.interp1d(x, y)\n",
       "\n",
       ">>> xnew = np.arange(0, 9, 0.1)\n",
       ">>> ynew = f(xnew)   # use interpolation function returned by `interp1d`\n",
       ">>> plt.plot(x, y, 'o', xnew, ynew, '-')\n",
       ">>> plt.show()\n",
       "\u001b[0;31mInit docstring:\u001b[0m Initialize a 1-D linear interpolation class.\n",
       "\u001b[0;31mFile:\u001b[0m           ~/opt/anaconda3/lib/python3.9/site-packages/scipy/interpolate/_interpolate.py\n",
       "\u001b[0;31mType:\u001b[0m           type\n",
       "\u001b[0;31mSubclasses:\u001b[0m     \n"
      ]
     },
     "metadata": {},
     "output_type": "display_data"
    }
   ],
   "source": [
    "from scipy.interpolate import interp1d\n",
    "\n",
    "interp1d?"
   ]
  },
  {
   "cell_type": "markdown",
   "metadata": {
    "id": "cINiAA7qRxGJ"
   },
   "source": [
    "Linear interpolation is the default, and we have to explicitly allow extrapolation.\n",
    "\n"
   ]
  },
  {
   "cell_type": "code",
   "execution_count": 9,
   "metadata": {
    "colab": {
     "base_uri": "https://localhost:8080/",
     "height": 439
    },
    "executionInfo": {
     "elapsed": 346,
     "status": "ok",
     "timestamp": 1636028815290,
     "user": {
      "displayName": "John Kitchin",
      "photoUrl": "https://lh3.googleusercontent.com/a/default-user=s64",
      "userId": "14782011281593705406"
     },
     "user_tz": 240
    },
    "id": "nXtowphPRxGL",
    "outputId": "8cd03ad6-086e-4216-e34d-4a39e785c9d9"
   },
   "outputs": [
    {
     "data": {
      "text/plain": [
       "array([ 3.62352941,  3.68955582,  3.75558223,  3.82160864,  3.88763505,\n",
       "        3.95366146,  4.01968788,  4.08571429,  4.1517407 ,  4.21776711,\n",
       "        4.28379352,  4.34981993,  4.41584634,  4.48187275,  4.54789916,\n",
       "        4.61392557,  4.67995198,  4.74597839,  4.8120048 ,  4.87803121,\n",
       "        4.94405762,  5.01008403,  5.07611044,  5.14213685,  5.20816327,\n",
       "        5.27418968,  5.34021609,  5.4062425 ,  5.47226891,  5.66768707,\n",
       "        5.95680272,  6.24591837,  6.53503401,  6.82414966,  7.11326531,\n",
       "        7.40238095,  7.6914966 ,  7.98061224,  8.26972789,  8.55884354,\n",
       "        8.84795918,  9.13707483,  9.42619048,  9.71530612, 10.00442177,\n",
       "       10.29353741, 10.58265306, 10.87176871, 11.16088435, 11.45      ])"
      ]
     },
     "execution_count": 9,
     "metadata": {},
     "output_type": "execute_result"
    },
    {
     "data": {
      "image/png": "[encoded data removed]",
      "text/plain": [
       "<Figure size 432x288 with 1 Axes>"
      ]
     },
     "metadata": {
      "needs_background": "light"
     },
     "output_type": "display_data"
    }
   ],
   "source": [
    "xfit = np.linspace(0, 5)\n",
    "Y = interp1d(x, y, bounds_error=False, fill_value=\"extrapolate\")  # Returns a \"function\"\n",
    "\n",
    "plt.plot(x, y, \"bo\", xfit, Y(xfit))\n",
    "Y(xfit)"
   ]
  },
  {
   "cell_type": "markdown",
   "metadata": {
    "id": "NUwQVw21RxGS"
   },
   "source": [
    "We can also specify quadratic spline interpolation.\n",
    "\n"
   ]
  },
  {
   "cell_type": "code",
   "execution_count": 10,
   "metadata": {
    "colab": {
     "base_uri": "https://localhost:8080/",
     "height": 265
    },
    "executionInfo": {
     "elapsed": 370,
     "status": "ok",
     "timestamp": 1636028840277,
     "user": {
      "displayName": "John Kitchin",
      "photoUrl": "https://lh3.googleusercontent.com/a/default-user=s64",
      "userId": "14782011281593705406"
     },
     "user_tz": 240
    },
    "id": "ukueQOppRxGT",
    "outputId": "42f2815f-14f1-4e16-da72-e64567c4c87f"
   },
   "outputs": [
    {
     "data": {
      "image/png": "[encoded data removed]",
      "text/plain": [
       "<Figure size 432x288 with 1 Axes>"
      ]
     },
     "metadata": {
      "needs_background": "light"
     },
     "output_type": "display_data"
    }
   ],
   "source": [
    "Y = interp1d(x, y, kind=\"quadratic\", bounds_error=False, fill_value=\"extrapolate\")\n",
    "\n",
    "plt.plot(x, y, \"bo\", xfit, Y(xfit));"
   ]
  },
  {
   "cell_type": "code",
   "execution_count": 11,
   "metadata": {
    "colab": {
     "base_uri": "https://localhost:8080/"
    },
    "executionInfo": {
     "elapsed": 165,
     "status": "ok",
     "timestamp": 1636028871869,
     "user": {
      "displayName": "John Kitchin",
      "photoUrl": "https://lh3.googleusercontent.com/a/default-user=s64",
      "userId": "14782011281593705406"
     },
     "user_tz": 240
    },
    "id": "C7BpHqW66xt_",
    "outputId": "91f4f84d-76ab-42af-c7b4-6ebc1b0c9b19"
   },
   "outputs": [
    {
     "data": {
      "text/plain": [
       "  message: Optimization terminated successfully.\n",
       "  success: True\n",
       "   status: 0\n",
       "      fun: 4.266474097757242\n",
       "        x: [ 1.621e+00]\n",
       "      nit: 2\n",
       "      jac: [ 5.960e-08]\n",
       " hess_inv: [[ 6.632e-01]]\n",
       "     nfev: 6\n",
       "     njev: 3"
      ]
     },
     "execution_count": 11,
     "metadata": {},
     "output_type": "execute_result"
    }
   ],
   "source": [
    "from scipy.optimize import minimize\n",
    "\n",
    "minimize(Y, 1.5)"
   ]
  },
  {
   "cell_type": "code",
   "execution_count": 12,
   "metadata": {
    "colab": {
     "base_uri": "https://localhost:8080/"
    },
    "executionInfo": {
     "elapsed": 151,
     "status": "ok",
     "timestamp": 1636028964748,
     "user": {
      "displayName": "John Kitchin",
      "photoUrl": "https://lh3.googleusercontent.com/a/default-user=s64",
      "userId": "14782011281593705406"
     },
     "user_tz": 240
    },
    "id": "GjcSMo-h6_Tx",
    "outputId": "27f9c282-66b3-4e0b-c9f9-c80e83c23dac"
   },
   "outputs": [
    {
     "data": {
      "text/plain": [
       " message: The solution converged.\n",
       " success: True\n",
       "  status: 1\n",
       "     fun: [ 0.000e+00]\n",
       "       x: [ 3.846e+00]\n",
       "    nfev: 7\n",
       "    fjac: [[-1.000e+00]]\n",
       "       r: [-3.355e+00]\n",
       "     qtf: [-2.309e-11]"
      ]
     },
     "execution_count": 12,
     "metadata": {},
     "output_type": "execute_result"
    }
   ],
   "source": [
    "from scipy.optimize import root\n",
    "\n",
    "\n",
    "def f(x):\n",
    "    return Y(x) - 8\n",
    "\n",
    "\n",
    "root(f, 4)"
   ]
  },
  {
   "cell_type": "markdown",
   "metadata": {
    "id": "T8SWwoRBRxGY"
   },
   "source": [
    "With more data points you can also use cubic interpolation, which fits a cubic polynomial between the points, and ensures smoothness and continuity of the derivatives at the endpoints.\n",
    "\n",
    "Note that you have to make some decisions about how to interpolate. These functions can introduce *wiggles* that are not real. Especially when there are step or sharp changes  in values.\n",
    "\n"
   ]
  },
  {
   "cell_type": "code",
   "execution_count": 13,
   "metadata": {
    "colab": {
     "base_uri": "https://localhost:8080/",
     "height": 265
    },
    "executionInfo": {
     "elapsed": 403,
     "status": "ok",
     "timestamp": 1636029210372,
     "user": {
      "displayName": "John Kitchin",
      "photoUrl": "https://lh3.googleusercontent.com/a/default-user=s64",
      "userId": "14782011281593705406"
     },
     "user_tz": 240
    },
    "id": "nW4vR-WIRxGZ",
    "outputId": "b79df180-ebd2-490f-de9c-7983b770683a"
   },
   "outputs": [
    {
     "data": {
      "image/png": "[encoded data removed]",
      "text/plain": [
       "<Figure size 432x288 with 1 Axes>"
      ]
     },
     "metadata": {
      "needs_background": "light"
     },
     "output_type": "display_data"
    }
   ],
   "source": [
    "x = np.array([1, 2, 3, 4, 5, 6, 7])\n",
    "y = np.array([1, 2, 1, 1, 0, 0, 0])\n",
    "\n",
    "s = interp1d(x, y, kind=\"cubic\", bounds_error=False, fill_value=\"extrapolate\")\n",
    "X = np.linspace(0, 7)\n",
    "Y = s(X)\n",
    "\n",
    "plt.plot(x, y, \"bo\", X, Y);"
   ]
  },
  {
   "cell_type": "markdown",
   "metadata": {
    "id": "sBIvJ5peRxGf"
   },
   "source": [
    "Interpolation is a kind of data driven model for developing a mathematical model from data that can be used to predict new values. These models are not based on physics, but they can be used for predicting new values, estimating derivatives, integrals, etc. Of course, you must be careful with extrapolation; all polynomials tend to &plusmn; infinity eventually, which is probably not physically relevant in most cases.\n",
    "\n",
    "There are multidimensional interpolation functions in `scipy.interpolate`,\n",
    "\n"
   ]
  },
  {
   "cell_type": "markdown",
   "metadata": {
    "id": "7TkwAbXpRxGg"
   },
   "source": [
    "# Eigenvalues\n",
    "\n"
   ]
  },
  {
   "cell_type": "markdown",
   "metadata": {
    "id": "ZKILaeAHRxGh"
   },
   "source": [
    "Eigenvalues and eigenvectors form an important class of linear algebra problems. They are an unusual class of problems though. Recall that we can interpret the equation $\\mathbf{A}\\mathbf{x} = \\mathbf{b}$ as a linear transformation of the vector $\\mathbf{x}$ into the vector $\\mathbf{b}$. This will in general lead to rotation and stretching of the input vector. *Sometimes* though the new vector $\\mathbf{b}$ is simply a rescaling of the original vector, i.e. $\\mathbf{b} = \\lambda \\mathbf{x}$. &lambda; is the scaling factor, and it just changes the magnitude of the $\\mathbf{x}$ vector. In this case, we call &lambda; an *eigenvalue*, and $\\mathbf{x}$ and *eigenvector* of the matrix $\\mathbf{A}$.\n",
    "\n",
    "When you see a problem in the form:\n",
    "\n",
    "$\\mathbf{A}\\mathbf{x} = \\lambda \\mathbf{x}$\n",
    "\n",
    "It is called an eigenvalue problem. It is conventional to write it in the following form:\n",
    "\n",
    "$(\\mathbf{A} - \\lambda \\mathbf{I})\\mathbf{x} = \\mathbf{0}$\n",
    "\n",
    "Based on this equation, since $\\mathbf{x}$ can be anything, it is necessary for the determinant of the matrix on the left to be zero. The eigenvalues of $\\mathbf{A}$ are the ones that are solutions to\n",
    "\n",
    "$det(\\mathbf{A} - \\lambda \\mathbf{I}) = 0$\n",
    "\n",
    "Computing the determinant leads to a *characteristic polynomial* in &lambda;, and the roots of this polynomial are the eigenvalues of the matrix.\n",
    "\n",
    "For an $N \\times N$ array there will be $N$ eigenvalues, although some may be degenerate. The eigenvalues can be real or complex. For some matrices, we know some properties of the eigenvalues. We will consider some of them here.\n",
    "\n",
    "For example, the eigenvalues of a symmetric matrix are always real. We can make a symmetric matrix with some algebra:\n",
    "\n"
   ]
  },
  {
   "cell_type": "code",
   "execution_count": 14,
   "metadata": {
    "colab": {
     "base_uri": "https://localhost:8080/"
    },
    "executionInfo": {
     "elapsed": 342,
     "status": "ok",
     "timestamp": 1636030269925,
     "user": {
      "displayName": "John Kitchin",
      "photoUrl": "https://lh3.googleusercontent.com/a/default-user=s64",
      "userId": "14782011281593705406"
     },
     "user_tz": 240
    },
    "id": "3_q2LjORRxGi",
    "outputId": "430d6ef6-1b36-434e-b1cf-6097cf8721c8"
   },
   "outputs": [
    {
     "data": {
      "text/plain": [
       "array([[0.74908024, 1.54937279, 0.79007755],\n",
       "       [1.54937279, 0.31203728, 1.02217067],\n",
       "       [0.79007755, 1.02217067, 1.20223002]])"
      ]
     },
     "execution_count": 14,
     "metadata": {},
     "output_type": "execute_result"
    }
   ],
   "source": [
    "np.random.seed(42)  # this makes the random numbers reproducible\n",
    "A = np.random.rand(3, 3)\n",
    "A += A.T  # This makes a symmetric matrix\n",
    "A"
   ]
  },
  {
   "cell_type": "code",
   "execution_count": 15,
   "metadata": {
    "colab": {
     "base_uri": "https://localhost:8080/"
    },
    "executionInfo": {
     "elapsed": 143,
     "status": "ok",
     "timestamp": 1636030331625,
     "user": {
      "displayName": "John Kitchin",
      "photoUrl": "https://lh3.googleusercontent.com/a/default-user=s64",
      "userId": "14782011281593705406"
     },
     "user_tz": 240
    },
    "id": "Kb-aODLMp7Bj",
    "outputId": "be06ff68-1c6d-4ab8-c7bb-d8f58aa6d0eb"
   },
   "outputs": [
    {
     "data": {
      "text/plain": [
       "True"
      ]
     },
     "execution_count": 15,
     "metadata": {},
     "output_type": "execute_result"
    }
   ],
   "source": [
    "np.allclose(A, A.T)  # definition of a symmetric matrix"
   ]
  },
  {
   "cell_type": "markdown",
   "metadata": {
    "id": "rHw39GhTRxGl"
   },
   "source": [
    "We get the eigenvalues with `numpy.linalg.eigvals`.\n",
    "\n"
   ]
  },
  {
   "cell_type": "code",
   "execution_count": 16,
   "metadata": {
    "colab": {
     "base_uri": "https://localhost:8080/"
    },
    "executionInfo": {
     "elapsed": 140,
     "status": "ok",
     "timestamp": 1636030343622,
     "user": {
      "displayName": "John Kitchin",
      "photoUrl": "https://lh3.googleusercontent.com/a/default-user=s64",
      "userId": "14782011281593705406"
     },
     "user_tz": 240
    },
    "id": "BoHCS84FRxGm",
    "outputId": "5905d046-9c99-4c73-c0b7-c0233c8fe896"
   },
   "outputs": [
    {
     "data": {
      "text/plain": [
       "array([ 2.99729665, -1.0705158 ,  0.33656669])"
      ]
     },
     "execution_count": 16,
     "metadata": {},
     "output_type": "execute_result"
    }
   ],
   "source": [
    "np.linalg.eigvals(A)  # only the eigenvalues"
   ]
  },
  {
   "cell_type": "markdown",
   "metadata": {
    "id": "lb8Pwa14RxGq"
   },
   "source": [
    "You can see these are all real.\n",
    "\n",
    "The *trace* of a matrix is the sum of the diagonal elements. You can do this manually, or use `numpy.trace`.\n",
    "\n"
   ]
  },
  {
   "cell_type": "code",
   "execution_count": 17,
   "metadata": {
    "colab": {
     "base_uri": "https://localhost:8080/"
    },
    "executionInfo": {
     "elapsed": 164,
     "status": "ok",
     "timestamp": 1636030389382,
     "user": {
      "displayName": "John Kitchin",
      "photoUrl": "https://lh3.googleusercontent.com/a/default-user=s64",
      "userId": "14782011281593705406"
     },
     "user_tz": 240
    },
    "id": "4Wje3wARRxGq",
    "outputId": "5c0e256f-e317-4bbf-9037-14b09fc862fc"
   },
   "outputs": [
    {
     "data": {
      "text/plain": [
       "(2.2633475420660156, 2.2633475420660156)"
      ]
     },
     "execution_count": 17,
     "metadata": {},
     "output_type": "execute_result"
    }
   ],
   "source": [
    "np.sum(np.diag(A)), np.trace(A)"
   ]
  },
  {
   "cell_type": "markdown",
   "metadata": {
    "id": "2U5-iIJURxGv"
   },
   "source": [
    "It is a property that the sum of the eigenvalues is equal to the trace:\n",
    "\n",
    "$trace \\mathbf{A} = \\sum \\lambda_k$\n",
    "\n"
   ]
  },
  {
   "cell_type": "code",
   "execution_count": 18,
   "metadata": {
    "colab": {
     "base_uri": "https://localhost:8080/"
    },
    "executionInfo": {
     "elapsed": 163,
     "status": "ok",
     "timestamp": 1636030410457,
     "user": {
      "displayName": "John Kitchin",
      "photoUrl": "https://lh3.googleusercontent.com/a/default-user=s64",
      "userId": "14782011281593705406"
     },
     "user_tz": 240
    },
    "id": "XWqYs8BwRxGw",
    "outputId": "994d93f0-3155-4064-894d-732d3248d293"
   },
   "outputs": [
    {
     "data": {
      "text/plain": [
       "2.263347542066016"
      ]
     },
     "execution_count": 18,
     "metadata": {},
     "output_type": "execute_result"
    }
   ],
   "source": [
    "np.sum(np.linalg.eigvals(A))"
   ]
  },
  {
   "cell_type": "markdown",
   "metadata": {
    "id": "2fcylxRPRxGz"
   },
   "source": [
    "It is also true that the product of the eigenvalues is equal to the determinant:\n",
    "\n",
    "$det \\mathbf{A} = \\prod \\lambda_k$\n",
    "\n"
   ]
  },
  {
   "cell_type": "code",
   "execution_count": 19,
   "metadata": {
    "colab": {
     "base_uri": "https://localhost:8080/"
    },
    "executionInfo": {
     "elapsed": 290,
     "status": "ok",
     "timestamp": 1636030433899,
     "user": {
      "displayName": "John Kitchin",
      "photoUrl": "https://lh3.googleusercontent.com/a/default-user=s64",
      "userId": "14782011281593705406"
     },
     "user_tz": 240
    },
    "id": "wDhmaLqmRxG0",
    "outputId": "84be6152-c181-4704-a49d-706150f4424a"
   },
   "outputs": [
    {
     "data": {
      "text/plain": [
       "(-1.079925860926975, -1.079925860926975)"
      ]
     },
     "execution_count": 19,
     "metadata": {},
     "output_type": "execute_result"
    }
   ],
   "source": [
    "np.prod(np.linalg.eigvals(A)), np.linalg.det(A)"
   ]
  },
  {
   "cell_type": "code",
   "execution_count": 20,
   "metadata": {
    "colab": {
     "base_uri": "https://localhost:8080/"
    },
    "executionInfo": {
     "elapsed": 150,
     "status": "ok",
     "timestamp": 1636030591589,
     "user": {
      "displayName": "John Kitchin",
      "photoUrl": "https://lh3.googleusercontent.com/a/default-user=s64",
      "userId": "14782011281593705406"
     },
     "user_tz": 240
    },
    "id": "p4BpPfeQrW5y",
    "outputId": "7d7bfacd-8361-46ce-9dd6-2e02edde6b95"
   },
   "outputs": [
    {
     "data": {
      "text/plain": [
       "((0.23929402866936386+0j),\n",
       " 0.23929402866936386,\n",
       " array([1.2920795 +0.j        , 0.07654431+0.42348751j,\n",
       "        0.07654431-0.42348751j]))"
      ]
     },
     "execution_count": 20,
     "metadata": {},
     "output_type": "execute_result"
    }
   ],
   "source": [
    "# np.random.seed(42)  # this makes the random numbers reproducible\n",
    "B = np.random.rand(3, 3)\n",
    "np.prod(np.linalg.eigvals(B)), np.linalg.det(B), np.linalg.eigvals(B)"
   ]
  },
  {
   "cell_type": "markdown",
   "metadata": {
    "id": "J_Lf3cHARxG5"
   },
   "source": [
    "We can also see the eigenvectors. The `numpy.linalg.eig` function returns *both* eigenvalues and eigenvectors. The eigenvectors are in *columns*\n",
    "\n"
   ]
  },
  {
   "cell_type": "code",
   "execution_count": 21,
   "metadata": {
    "executionInfo": {
     "elapsed": 151,
     "status": "ok",
     "timestamp": 1636030747088,
     "user": {
      "displayName": "John Kitchin",
      "photoUrl": "https://lh3.googleusercontent.com/a/default-user=s64",
      "userId": "14782011281593705406"
     },
     "user_tz": 240
    },
    "id": "j-q_abqRr0qN"
   },
   "outputs": [
    {
     "data": {
      "text/plain": [
       "\u001b[0;31mSignature:\u001b[0m \u001b[0mnp\u001b[0m\u001b[0;34m.\u001b[0m\u001b[0mlinalg\u001b[0m\u001b[0;34m.\u001b[0m\u001b[0meig\u001b[0m\u001b[0;34m(\u001b[0m\u001b[0ma\u001b[0m\u001b[0;34m)\u001b[0m\u001b[0;34m\u001b[0m\u001b[0;34m\u001b[0m\u001b[0m\n",
       "\u001b[0;31mDocstring:\u001b[0m\n",
       "Compute the eigenvalues and right eigenvectors of a square array.\n",
       "\n",
       "Parameters\n",
       "----------\n",
       "a : (..., M, M) array\n",
       "    Matrices for which the eigenvalues and right eigenvectors will\n",
       "    be computed\n",
       "\n",
       "Returns\n",
       "-------\n",
       "w : (..., M) array\n",
       "    The eigenvalues, each repeated according to its multiplicity.\n",
       "    The eigenvalues are not necessarily ordered. The resulting\n",
       "    array will be of complex type, unless the imaginary part is\n",
       "    zero in which case it will be cast to a real type. When `a`\n",
       "    is real the resulting eigenvalues will be real (0 imaginary\n",
       "    part) or occur in conjugate pairs\n",
       "\n",
       "v : (..., M, M) array\n",
       "    The normalized (unit \"length\") eigenvectors, such that the\n",
       "    column ``v[:,i]`` is the eigenvector corresponding to the\n",
       "    eigenvalue ``w[i]``.\n",
       "\n",
       "Raises\n",
       "------\n",
       "LinAlgError\n",
       "    If the eigenvalue computation does not converge.\n",
       "\n",
       "See Also\n",
       "--------\n",
       "eigvals : eigenvalues of a non-symmetric array.\n",
       "eigh : eigenvalues and eigenvectors of a real symmetric or complex\n",
       "       Hermitian (conjugate symmetric) array.\n",
       "eigvalsh : eigenvalues of a real symmetric or complex Hermitian\n",
       "           (conjugate symmetric) array.\n",
       "scipy.linalg.eig : Similar function in SciPy that also solves the\n",
       "                   generalized eigenvalue problem.\n",
       "scipy.linalg.schur : Best choice for unitary and other non-Hermitian\n",
       "                     normal matrices.\n",
       "\n",
       "Notes\n",
       "-----\n",
       "\n",
       ".. versionadded:: 1.8.0\n",
       "\n",
       "Broadcasting rules apply, see the `numpy.linalg` documentation for\n",
       "details.\n",
       "\n",
       "This is implemented using the ``_geev`` LAPACK routines which compute\n",
       "the eigenvalues and eigenvectors of general square arrays.\n",
       "\n",
       "The number `w` is an eigenvalue of `a` if there exists a vector\n",
       "`v` such that ``a @ v = w * v``. Thus, the arrays `a`, `w`, and\n",
       "`v` satisfy the equations ``a @ v[:,i] = w[i] * v[:,i]``\n",
       "for :math:`i \\in \\{0,...,M-1\\}`.\n",
       "\n",
       "The array `v` of eigenvectors may not be of maximum rank, that is, some\n",
       "of the columns may be linearly dependent, although round-off error may\n",
       "obscure that fact. If the eigenvalues are all different, then theoretically\n",
       "the eigenvectors are linearly independent and `a` can be diagonalized by\n",
       "a similarity transformation using `v`, i.e, ``inv(v) @ a @ v`` is diagonal.\n",
       "\n",
       "For non-Hermitian normal matrices the SciPy function `scipy.linalg.schur`\n",
       "is preferred because the matrix `v` is guaranteed to be unitary, which is\n",
       "not the case when using `eig`. The Schur factorization produces an\n",
       "upper triangular matrix rather than a diagonal matrix, but for normal\n",
       "matrices only the diagonal of the upper triangular matrix is needed, the\n",
       "rest is roundoff error.\n",
       "\n",
       "Finally, it is emphasized that `v` consists of the *right* (as in\n",
       "right-hand side) eigenvectors of `a`.  A vector `y` satisfying\n",
       "``y.T @ a = z * y.T`` for some number `z` is called a *left*\n",
       "eigenvector of `a`, and, in general, the left and right eigenvectors\n",
       "of a matrix are not necessarily the (perhaps conjugate) transposes\n",
       "of each other.\n",
       "\n",
       "References\n",
       "----------\n",
       "G. Strang, *Linear Algebra and Its Applications*, 2nd Ed., Orlando, FL,\n",
       "Academic Press, Inc., 1980, Various pp.\n",
       "\n",
       "Examples\n",
       "--------\n",
       ">>> from numpy import linalg as LA\n",
       "\n",
       "(Almost) trivial example with real e-values and e-vectors.\n",
       "\n",
       ">>> w, v = LA.eig(np.diag((1, 2, 3)))\n",
       ">>> w; v\n",
       "array([1., 2., 3.])\n",
       "array([[1., 0., 0.],\n",
       "       [0., 1., 0.],\n",
       "       [0., 0., 1.]])\n",
       "\n",
       "Real matrix possessing complex e-values and e-vectors; note that the\n",
       "e-values are complex conjugates of each other.\n",
       "\n",
       ">>> w, v = LA.eig(np.array([[1, -1], [1, 1]]))\n",
       ">>> w; v\n",
       "array([1.+1.j, 1.-1.j])\n",
       "array([[0.70710678+0.j        , 0.70710678-0.j        ],\n",
       "       [0.        -0.70710678j, 0.        +0.70710678j]])\n",
       "\n",
       "Complex-valued matrix with real e-values (but complex-valued e-vectors);\n",
       "note that ``a.conj().T == a``, i.e., `a` is Hermitian.\n",
       "\n",
       ">>> a = np.array([[1, 1j], [-1j, 1]])\n",
       ">>> w, v = LA.eig(a)\n",
       ">>> w; v\n",
       "array([2.+0.j, 0.+0.j])\n",
       "array([[ 0.        +0.70710678j,  0.70710678+0.j        ], # may vary\n",
       "       [ 0.70710678+0.j        , -0.        +0.70710678j]])\n",
       "\n",
       "Be careful about round-off error!\n",
       "\n",
       ">>> a = np.array([[1 + 1e-9, 0], [0, 1 - 1e-9]])\n",
       ">>> # Theor. e-values are 1 +/- 1e-9\n",
       ">>> w, v = LA.eig(a)\n",
       ">>> w; v\n",
       "array([1., 1.])\n",
       "array([[1., 0.],\n",
       "       [0., 1.]])\n",
       "\u001b[0;31mFile:\u001b[0m      ~/opt/anaconda3/lib/python3.9/site-packages/numpy/linalg/linalg.py\n",
       "\u001b[0;31mType:\u001b[0m      function\n"
      ]
     },
     "metadata": {},
     "output_type": "display_data"
    }
   ],
   "source": [
    "?np.linalg.eig"
   ]
  },
  {
   "cell_type": "code",
   "execution_count": 22,
   "metadata": {
    "colab": {
     "base_uri": "https://localhost:8080/"
    },
    "executionInfo": {
     "elapsed": 218,
     "status": "ok",
     "timestamp": 1636030756660,
     "user": {
      "displayName": "John Kitchin",
      "photoUrl": "https://lh3.googleusercontent.com/a/default-user=s64",
      "userId": "14782011281593705406"
     },
     "user_tz": 240
    },
    "id": "DK3fU8J5sL8T",
    "outputId": "92be96b7-6075-436e-867a-43417b1dd66c"
   },
   "outputs": [
    {
     "data": {
      "text/plain": [
       "array([ 2.99729665, -1.0705158 ,  0.33656669])"
      ]
     },
     "execution_count": 22,
     "metadata": {},
     "output_type": "execute_result"
    }
   ],
   "source": [
    "np.linalg.eigvals(A)"
   ]
  },
  {
   "cell_type": "code",
   "execution_count": 23,
   "metadata": {
    "colab": {
     "base_uri": "https://localhost:8080/"
    },
    "executionInfo": {
     "elapsed": 145,
     "status": "ok",
     "timestamp": 1636030766836,
     "user": {
      "displayName": "John Kitchin",
      "photoUrl": "https://lh3.googleusercontent.com/a/default-user=s64",
      "userId": "14782011281593705406"
     },
     "user_tz": 240
    },
    "id": "CYl-pNTZRxG6",
    "outputId": "52d8ffb1-731b-4436-b25d-d30001d523cf"
   },
   "outputs": [
    {
     "data": {
      "text/plain": [
       "(array([ 2.99729665, -1.0705158 ,  0.33656669]),\n",
       " array([[-0.59060872, -0.60533548, -0.53361999],\n",
       "        [-0.5614231 ,  0.78323314, -0.26711411],\n",
       "        [-0.57964251, -0.14182666,  0.80243365]]))"
      ]
     },
     "execution_count": 23,
     "metadata": {},
     "output_type": "execute_result"
    }
   ],
   "source": [
    "e, v = np.linalg.eig(A)\n",
    "e, v"
   ]
  },
  {
   "cell_type": "code",
   "execution_count": 24,
   "metadata": {
    "colab": {
     "base_uri": "https://localhost:8080/"
    },
    "executionInfo": {
     "elapsed": 189,
     "status": "ok",
     "timestamp": 1636030795832,
     "user": {
      "displayName": "John Kitchin",
      "photoUrl": "https://lh3.googleusercontent.com/a/default-user=s64",
      "userId": "14782011281593705406"
     },
     "user_tz": 240
    },
    "id": "l-eUiM_4sQAG",
    "outputId": "1ada5e58-84ab-4613-985d-22c075ce752a"
   },
   "outputs": [
    {
     "data": {
      "text/plain": [
       "array([ 2.99729665, -1.0705158 ,  0.33656669])"
      ]
     },
     "execution_count": 24,
     "metadata": {},
     "output_type": "execute_result"
    }
   ],
   "source": [
    "e"
   ]
  },
  {
   "cell_type": "markdown",
   "metadata": {
    "id": "4F8q2ivHRxG9"
   },
   "source": [
    "These eigenvectors have the property that the are normalized to unit length:\n",
    "\n"
   ]
  },
  {
   "cell_type": "code",
   "execution_count": 25,
   "metadata": {
    "colab": {
     "base_uri": "https://localhost:8080/"
    },
    "executionInfo": {
     "elapsed": 184,
     "status": "ok",
     "timestamp": 1636030820380,
     "user": {
      "displayName": "John Kitchin",
      "photoUrl": "https://lh3.googleusercontent.com/a/default-user=s64",
      "userId": "14782011281593705406"
     },
     "user_tz": 240
    },
    "id": "wMDW0RUQRxG-",
    "outputId": "14ea63df-ecce-4aff-890a-003b175504ba"
   },
   "outputs": [
    {
     "data": {
      "text/plain": [
       "[1.0, 1.0, 0.9999999999999999]"
      ]
     },
     "execution_count": 25,
     "metadata": {},
     "output_type": "execute_result"
    }
   ],
   "source": [
    "[np.linalg.norm(v[:, i]) for i in [0, 1, 2]]  # norm is length of a vector"
   ]
  },
  {
   "cell_type": "code",
   "execution_count": 26,
   "metadata": {
    "colab": {
     "base_uri": "https://localhost:8080/"
    },
    "executionInfo": {
     "elapsed": 195,
     "status": "ok",
     "timestamp": 1636030888461,
     "user": {
      "displayName": "John Kitchin",
      "photoUrl": "https://lh3.googleusercontent.com/a/default-user=s64",
      "userId": "14782011281593705406"
     },
     "user_tz": 240
    },
    "id": "n7W8-J_vscb8",
    "outputId": "e58b2a54-4a3a-4a31-a7a0-fece0b767daf"
   },
   "outputs": [
    {
     "name": "stdout",
     "output_type": "stream",
     "text": [
      "0 1.0 1.0\n",
      "1 1.0 1.0\n",
      "2 0.9999999999999999 0.9999999999999999\n"
     ]
    }
   ],
   "source": [
    "# Other ways to get the length of a vector\n",
    "for i in range(3):\n",
    "    ev = v[:, i]\n",
    "    L = np.sqrt(ev @ ev)\n",
    "    print(i, L, np.dot(ev, ev) ** 0.5)"
   ]
  },
  {
   "cell_type": "code",
   "execution_count": 27,
   "metadata": {
    "executionInfo": {
     "elapsed": 186,
     "status": "ok",
     "timestamp": 1636030898182,
     "user": {
      "displayName": "John Kitchin",
      "photoUrl": "https://lh3.googleusercontent.com/a/default-user=s64",
      "userId": "14782011281593705406"
     },
     "user_tz": 240
    },
    "id": "cx2UrzYYs-6U"
   },
   "outputs": [
    {
     "data": {
      "text/plain": [
       "\u001b[0;31mSignature:\u001b[0m \u001b[0mnp\u001b[0m\u001b[0;34m.\u001b[0m\u001b[0mlinalg\u001b[0m\u001b[0;34m.\u001b[0m\u001b[0mnorm\u001b[0m\u001b[0;34m(\u001b[0m\u001b[0mx\u001b[0m\u001b[0;34m,\u001b[0m \u001b[0mord\u001b[0m\u001b[0;34m=\u001b[0m\u001b[0;32mNone\u001b[0m\u001b[0;34m,\u001b[0m \u001b[0maxis\u001b[0m\u001b[0;34m=\u001b[0m\u001b[0;32mNone\u001b[0m\u001b[0;34m,\u001b[0m \u001b[0mkeepdims\u001b[0m\u001b[0;34m=\u001b[0m\u001b[0;32mFalse\u001b[0m\u001b[0;34m)\u001b[0m\u001b[0;34m\u001b[0m\u001b[0;34m\u001b[0m\u001b[0m\n",
       "\u001b[0;31mDocstring:\u001b[0m\n",
       "Matrix or vector norm.\n",
       "\n",
       "This function is able to return one of eight different matrix norms,\n",
       "or one of an infinite number of vector norms (described below), depending\n",
       "on the value of the ``ord`` parameter.\n",
       "\n",
       "Parameters\n",
       "----------\n",
       "x : array_like\n",
       "    Input array.  If `axis` is None, `x` must be 1-D or 2-D, unless `ord`\n",
       "    is None. If both `axis` and `ord` are None, the 2-norm of\n",
       "    ``x.ravel`` will be returned.\n",
       "ord : {non-zero int, inf, -inf, 'fro', 'nuc'}, optional\n",
       "    Order of the norm (see table under ``Notes``). inf means numpy's\n",
       "    `inf` object. The default is None.\n",
       "axis : {None, int, 2-tuple of ints}, optional.\n",
       "    If `axis` is an integer, it specifies the axis of `x` along which to\n",
       "    compute the vector norms.  If `axis` is a 2-tuple, it specifies the\n",
       "    axes that hold 2-D matrices, and the matrix norms of these matrices\n",
       "    are computed.  If `axis` is None then either a vector norm (when `x`\n",
       "    is 1-D) or a matrix norm (when `x` is 2-D) is returned. The default\n",
       "    is None.\n",
       "\n",
       "    .. versionadded:: 1.8.0\n",
       "\n",
       "keepdims : bool, optional\n",
       "    If this is set to True, the axes which are normed over are left in the\n",
       "    result as dimensions with size one.  With this option the result will\n",
       "    broadcast correctly against the original `x`.\n",
       "\n",
       "    .. versionadded:: 1.10.0\n",
       "\n",
       "Returns\n",
       "-------\n",
       "n : float or ndarray\n",
       "    Norm of the matrix or vector(s).\n",
       "\n",
       "See Also\n",
       "--------\n",
       "scipy.linalg.norm : Similar function in SciPy.\n",
       "\n",
       "Notes\n",
       "-----\n",
       "For values of ``ord < 1``, the result is, strictly speaking, not a\n",
       "mathematical 'norm', but it may still be useful for various numerical\n",
       "purposes.\n",
       "\n",
       "The following norms can be calculated:\n",
       "\n",
       "=====  ============================  ==========================\n",
       "ord    norm for matrices             norm for vectors\n",
       "=====  ============================  ==========================\n",
       "None   Frobenius norm                2-norm\n",
       "'fro'  Frobenius norm                --\n",
       "'nuc'  nuclear norm                  --\n",
       "inf    max(sum(abs(x), axis=1))      max(abs(x))\n",
       "-inf   min(sum(abs(x), axis=1))      min(abs(x))\n",
       "0      --                            sum(x != 0)\n",
       "1      max(sum(abs(x), axis=0))      as below\n",
       "-1     min(sum(abs(x), axis=0))      as below\n",
       "2      2-norm (largest sing. value)  as below\n",
       "-2     smallest singular value       as below\n",
       "other  --                            sum(abs(x)**ord)**(1./ord)\n",
       "=====  ============================  ==========================\n",
       "\n",
       "The Frobenius norm is given by [1]_:\n",
       "\n",
       "    :math:`||A||_F = [\\sum_{i,j} abs(a_{i,j})^2]^{1/2}`\n",
       "\n",
       "The nuclear norm is the sum of the singular values.\n",
       "\n",
       "Both the Frobenius and nuclear norm orders are only defined for\n",
       "matrices and raise a ValueError when ``x.ndim != 2``.\n",
       "\n",
       "References\n",
       "----------\n",
       ".. [1] G. H. Golub and C. F. Van Loan, *Matrix Computations*,\n",
       "       Baltimore, MD, Johns Hopkins University Press, 1985, pg. 15\n",
       "\n",
       "Examples\n",
       "--------\n",
       ">>> from numpy import linalg as LA\n",
       ">>> a = np.arange(9) - 4\n",
       ">>> a\n",
       "array([-4, -3, -2, ...,  2,  3,  4])\n",
       ">>> b = a.reshape((3, 3))\n",
       ">>> b\n",
       "array([[-4, -3, -2],\n",
       "       [-1,  0,  1],\n",
       "       [ 2,  3,  4]])\n",
       "\n",
       ">>> LA.norm(a)\n",
       "7.745966692414834\n",
       ">>> LA.norm(b)\n",
       "7.745966692414834\n",
       ">>> LA.norm(b, 'fro')\n",
       "7.745966692414834\n",
       ">>> LA.norm(a, np.inf)\n",
       "4.0\n",
       ">>> LA.norm(b, np.inf)\n",
       "9.0\n",
       ">>> LA.norm(a, -np.inf)\n",
       "0.0\n",
       ">>> LA.norm(b, -np.inf)\n",
       "2.0\n",
       "\n",
       ">>> LA.norm(a, 1)\n",
       "20.0\n",
       ">>> LA.norm(b, 1)\n",
       "7.0\n",
       ">>> LA.norm(a, -1)\n",
       "-4.6566128774142013e-010\n",
       ">>> LA.norm(b, -1)\n",
       "6.0\n",
       ">>> LA.norm(a, 2)\n",
       "7.745966692414834\n",
       ">>> LA.norm(b, 2)\n",
       "7.3484692283495345\n",
       "\n",
       ">>> LA.norm(a, -2)\n",
       "0.0\n",
       ">>> LA.norm(b, -2)\n",
       "1.8570331885190563e-016 # may vary\n",
       ">>> LA.norm(a, 3)\n",
       "5.8480354764257312 # may vary\n",
       ">>> LA.norm(a, -3)\n",
       "0.0\n",
       "\n",
       "Using the `axis` argument to compute vector norms:\n",
       "\n",
       ">>> c = np.array([[ 1, 2, 3],\n",
       "...               [-1, 1, 4]])\n",
       ">>> LA.norm(c, axis=0)\n",
       "array([ 1.41421356,  2.23606798,  5.        ])\n",
       ">>> LA.norm(c, axis=1)\n",
       "array([ 3.74165739,  4.24264069])\n",
       ">>> LA.norm(c, ord=1, axis=1)\n",
       "array([ 6.,  6.])\n",
       "\n",
       "Using the `axis` argument to compute matrix norms:\n",
       "\n",
       ">>> m = np.arange(8).reshape(2,2,2)\n",
       ">>> LA.norm(m, axis=(1,2))\n",
       "array([  3.74165739,  11.22497216])\n",
       ">>> LA.norm(m[0, :, :]), LA.norm(m[1, :, :])\n",
       "(3.7416573867739413, 11.224972160321824)\n",
       "\u001b[0;31mFile:\u001b[0m      ~/opt/anaconda3/lib/python3.9/site-packages/numpy/linalg/linalg.py\n",
       "\u001b[0;31mType:\u001b[0m      function\n"
      ]
     },
     "metadata": {},
     "output_type": "display_data"
    }
   ],
   "source": [
    "?np.linalg.norm"
   ]
  },
  {
   "cell_type": "markdown",
   "metadata": {
    "id": "nJAZiW9jRxHB"
   },
   "source": [
    "The eigenvectors are in columns in the order corresponding to the order of the eigenvalues (these are not necessarily sorted). Here, we show that the eigenvalue/eigenvector pairs satisfy $\\mathbf{A} \\mathbf{v} = \\lambda \\mathbf{v}$.\n",
    "\n"
   ]
  },
  {
   "cell_type": "code",
   "execution_count": 28,
   "metadata": {
    "colab": {
     "base_uri": "https://localhost:8080/"
    },
    "executionInfo": {
     "elapsed": 144,
     "status": "ok",
     "timestamp": 1636031039807,
     "user": {
      "displayName": "John Kitchin",
      "photoUrl": "https://lh3.googleusercontent.com/a/default-user=s64",
      "userId": "14782011281593705406"
     },
     "user_tz": 240
    },
    "id": "Ho4OKFnnC-Ge",
    "outputId": "4e35b452-3144-438e-b3c5-d190e9834d2a"
   },
   "outputs": [
    {
     "data": {
      "text/plain": [
       "(array([-1.77022954, -1.68275159, -1.73736055]),\n",
       " array([-1.77022954, -1.68275159, -1.73736055]))"
      ]
     },
     "execution_count": 28,
     "metadata": {},
     "output_type": "execute_result"
    }
   ],
   "source": [
    "A @ v[:, 0], e[0] * v[:, 0]"
   ]
  },
  {
   "cell_type": "code",
   "execution_count": 29,
   "metadata": {
    "colab": {
     "base_uri": "https://localhost:8080/"
    },
    "executionInfo": {
     "elapsed": 140,
     "status": "ok",
     "timestamp": 1636031061170,
     "user": {
      "displayName": "John Kitchin",
      "photoUrl": "https://lh3.googleusercontent.com/a/default-user=s64",
      "userId": "14782011281593705406"
     },
     "user_tz": 240
    },
    "id": "invlQ5VLRxHC",
    "outputId": "42671ec0-bcfa-4a8b-f833-efcd5b93cf71"
   },
   "outputs": [
    {
     "data": {
      "text/plain": [
       "[True, True, True]"
      ]
     },
     "execution_count": 29,
     "metadata": {},
     "output_type": "execute_result"
    }
   ],
   "source": [
    "[\n",
    "    np.allclose(A @ v[:, 0], e[0] * v[:, 0]),\n",
    "    np.allclose(A @ v[:, 1], e[1] * v[:, 1]),\n",
    "    np.allclose(A @ v[:, 2], e[2] * v[:, 2]),\n",
    "]"
   ]
  },
  {
   "cell_type": "markdown",
   "metadata": {
    "id": "ggsTueOgRxHF"
   },
   "source": [
    "If you mix and match these, they do not satisfy the equations.\n",
    "\n"
   ]
  },
  {
   "cell_type": "code",
   "execution_count": 30,
   "metadata": {
    "colab": {
     "base_uri": "https://localhost:8080/"
    },
    "executionInfo": {
     "elapsed": 269,
     "status": "ok",
     "timestamp": 1636031078450,
     "user": {
      "displayName": "John Kitchin",
      "photoUrl": "https://lh3.googleusercontent.com/a/default-user=s64",
      "userId": "14782011281593705406"
     },
     "user_tz": 240
    },
    "id": "S5cO1ZorRxHG",
    "outputId": "45241c2a-ed22-441d-ada4-eb336783bc73"
   },
   "outputs": [
    {
     "data": {
      "text/plain": [
       "[False, False, False]"
      ]
     },
     "execution_count": 30,
     "metadata": {},
     "output_type": "execute_result"
    }
   ],
   "source": [
    "[\n",
    "    np.allclose(A @ v[:, 0], e[1] * v[:, 0]),\n",
    "    np.allclose(A @ v[:, 1], e[0] * v[:, 1]),\n",
    "    np.allclose(A @ v[:, 0], e[2] * v[:, 0]),\n",
    "]"
   ]
  },
  {
   "cell_type": "markdown",
   "metadata": {},
   "source": [
    "Suppose we want the eigenvector that corresponds to the minimimu eigenvalue. It is easy to find the minimum eigenvalue, but what is the corresponding vector?"
   ]
  },
  {
   "cell_type": "code",
   "execution_count": 31,
   "metadata": {
    "colab": {
     "base_uri": "https://localhost:8080/"
    },
    "executionInfo": {
     "elapsed": 143,
     "status": "ok",
     "timestamp": 1636031115079,
     "user": {
      "displayName": "John Kitchin",
      "photoUrl": "https://lh3.googleusercontent.com/a/default-user=s64",
      "userId": "14782011281593705406"
     },
     "user_tz": 240
    },
    "id": "Hbb6a4tgDaQg",
    "outputId": "b06e738e-022b-4366-d19b-7a336f1caec4"
   },
   "outputs": [
    {
     "data": {
      "text/plain": [
       "array([ 2.99729665, -1.0705158 ,  0.33656669])"
      ]
     },
     "execution_count": 31,
     "metadata": {},
     "output_type": "execute_result"
    }
   ],
   "source": [
    "e"
   ]
  },
  {
   "cell_type": "code",
   "execution_count": 32,
   "metadata": {
    "colab": {
     "base_uri": "https://localhost:8080/"
    },
    "executionInfo": {
     "elapsed": 4,
     "status": "ok",
     "timestamp": 1636031110430,
     "user": {
      "displayName": "John Kitchin",
      "photoUrl": "https://lh3.googleusercontent.com/a/default-user=s64",
      "userId": "14782011281593705406"
     },
     "user_tz": 240
    },
    "id": "BtqQnW_9t5MU",
    "outputId": "311090f8-9003-476a-a71c-3b760596a0b2"
   },
   "outputs": [
    {
     "data": {
      "text/plain": [
       "-1.0705157973407724"
      ]
     },
     "execution_count": 32,
     "metadata": {},
     "output_type": "execute_result"
    }
   ],
   "source": [
    "e.min()"
   ]
  },
  {
   "cell_type": "code",
   "execution_count": 33,
   "metadata": {
    "executionInfo": {
     "elapsed": 178,
     "status": "ok",
     "timestamp": 1636031164041,
     "user": {
      "displayName": "John Kitchin",
      "photoUrl": "https://lh3.googleusercontent.com/a/default-user=s64",
      "userId": "14782011281593705406"
     },
     "user_tz": 240
    },
    "id": "2uks9japt87M"
   },
   "outputs": [],
   "source": [
    "I = np.argmin(e)"
   ]
  },
  {
   "cell_type": "code",
   "execution_count": 34,
   "metadata": {
    "colab": {
     "base_uri": "https://localhost:8080/"
    },
    "executionInfo": {
     "elapsed": 166,
     "status": "ok",
     "timestamp": 1636031165070,
     "user": {
      "displayName": "John Kitchin",
      "photoUrl": "https://lh3.googleusercontent.com/a/default-user=s64",
      "userId": "14782011281593705406"
     },
     "user_tz": 240
    },
    "id": "aCHbyXv9t_ZY",
    "outputId": "14a7108d-21d3-45a1-ec13-30e25a85cede"
   },
   "outputs": [
    {
     "data": {
      "text/plain": [
       "(-1.0705157973407724, array([-0.60533548,  0.78323314, -0.14182666]))"
      ]
     },
     "execution_count": 34,
     "metadata": {},
     "output_type": "execute_result"
    }
   ],
   "source": [
    "e[I], v[:, I]  # min eval and corresponding evec"
   ]
  },
  {
   "cell_type": "markdown",
   "metadata": {
    "id": "Ai8own0RRxHJ"
   },
   "source": [
    "The eigenvalues are not sorted. It is often useful to know the smallest, or largest eigenvalue, and to have the eigenvalues sorted. The tricky point to consider is the eigenvectors have to be sorted in the same order. It is also tricky that the eigenvectors are stored in columns, but sorting is done on rows. You can simply transpose the eigenvector array, sort on rows, and then transpose it back to columns.\n",
    "\n"
   ]
  },
  {
   "cell_type": "code",
   "execution_count": 35,
   "metadata": {
    "colab": {
     "base_uri": "https://localhost:8080/"
    },
    "executionInfo": {
     "elapsed": 162,
     "status": "ok",
     "timestamp": 1636031216565,
     "user": {
      "displayName": "John Kitchin",
      "photoUrl": "https://lh3.googleusercontent.com/a/default-user=s64",
      "userId": "14782011281593705406"
     },
     "user_tz": 240
    },
    "id": "2hHBTC_ADuM-",
    "outputId": "547cdcad-ef34-4794-ba16-5c5dc7a350d8"
   },
   "outputs": [
    {
     "data": {
      "text/plain": [
       "(array([ 2.99729665, -1.0705158 ,  0.33656669]),\n",
       " array([-1.0705158 ,  0.33656669,  2.99729665]))"
      ]
     },
     "execution_count": 35,
     "metadata": {},
     "output_type": "execute_result"
    }
   ],
   "source": [
    "e, e[np.argsort(e)]"
   ]
  },
  {
   "cell_type": "code",
   "execution_count": 36,
   "metadata": {
    "colab": {
     "base_uri": "https://localhost:8080/"
    },
    "executionInfo": {
     "elapsed": 139,
     "status": "ok",
     "timestamp": 1636031256138,
     "user": {
      "displayName": "John Kitchin",
      "photoUrl": "https://lh3.googleusercontent.com/a/default-user=s64",
      "userId": "14782011281593705406"
     },
     "user_tz": 240
    },
    "id": "EWbblN19uJp9",
    "outputId": "add8c53a-c5bf-4d0a-deb0-d0e314220b78"
   },
   "outputs": [
    {
     "data": {
      "text/plain": [
       "array([1, 2, 0])"
      ]
     },
     "execution_count": 36,
     "metadata": {},
     "output_type": "execute_result"
    }
   ],
   "source": [
    "i = np.argsort(e)\n",
    "i"
   ]
  },
  {
   "cell_type": "code",
   "execution_count": 37,
   "metadata": {
    "colab": {
     "base_uri": "https://localhost:8080/"
    },
    "executionInfo": {
     "elapsed": 137,
     "status": "ok",
     "timestamp": 1636031429182,
     "user": {
      "displayName": "John Kitchin",
      "photoUrl": "https://lh3.googleusercontent.com/a/default-user=s64",
      "userId": "14782011281593705406"
     },
     "user_tz": 240
    },
    "id": "AvqTLTY4RxHK",
    "outputId": "9042ad1e-60fc-4eb6-b522-1794bf172c0f"
   },
   "outputs": [
    {
     "data": {
      "text/plain": [
       "(array([-1.0705158 ,  0.33656669,  2.99729665]),\n",
       " array([[-0.60533548, -0.53361999, -0.59060872],\n",
       "        [ 0.78323314, -0.26711411, -0.5614231 ],\n",
       "        [-0.14182666,  0.80243365, -0.57964251]]))"
      ]
     },
     "execution_count": 37,
     "metadata": {},
     "output_type": "execute_result"
    }
   ],
   "source": [
    "# use indexing to get the sorted list\n",
    "sorted_e = e[i]  # these are the sorted eigenvalues\n",
    "sorted_v = v.T[i].T  # sort the transposed vectors, and transpose back to columns\n",
    "sorted_e, sorted_v"
   ]
  },
  {
   "cell_type": "markdown",
   "metadata": {
    "id": "lejlqqN5RxHO"
   },
   "source": [
    "*As always* it is a good idea to check that we did not mess up:\n",
    "\n"
   ]
  },
  {
   "cell_type": "code",
   "execution_count": 38,
   "metadata": {
    "colab": {
     "base_uri": "https://localhost:8080/"
    },
    "executionInfo": {
     "elapsed": 171,
     "status": "ok",
     "timestamp": 1636031474903,
     "user": {
      "displayName": "John Kitchin",
      "photoUrl": "https://lh3.googleusercontent.com/a/default-user=s64",
      "userId": "14782011281593705406"
     },
     "user_tz": 240
    },
    "id": "FmQkv2BYRxHO",
    "outputId": "63faf060-bd59-4303-99af-b455b794bb38"
   },
   "outputs": [
    {
     "name": "stdout",
     "output_type": "stream",
     "text": [
      "True [ 0.6480212  -0.83846345  0.15182768] [ 0.6480212  -0.83846345  0.15182768]\n",
      "True [-0.17959871 -0.08990171  0.27007244] [-0.17959871 -0.08990171  0.27007244]\n",
      "True [-1.77022954 -1.68275159 -1.73736055] [-1.77022954 -1.68275159 -1.73736055]\n"
     ]
    }
   ],
   "source": [
    "for ind, se in enumerate(sorted_e):\n",
    "    sv = sorted_v[:, ind]\n",
    "    print(np.allclose(A @ sv, se * sv), A @ sv, se * sv)"
   ]
  },
  {
   "cell_type": "markdown",
   "metadata": {
    "id": "5WeL-fdhRxHS"
   },
   "source": [
    "# Application to roots of a polynomial\n",
    "\n"
   ]
  },
  {
   "cell_type": "code",
   "execution_count": 39,
   "metadata": {
    "executionInfo": {
     "elapsed": 223,
     "status": "ok",
     "timestamp": 1636031531382,
     "user": {
      "displayName": "John Kitchin",
      "photoUrl": "https://lh3.googleusercontent.com/a/default-user=s64",
      "userId": "14782011281593705406"
     },
     "user_tz": 240
    },
    "id": "awccNqfTvbGO"
   },
   "outputs": [
    {
     "data": {
      "text/plain": [
       "\u001b[0;31mSignature:\u001b[0m \u001b[0mnp\u001b[0m\u001b[0;34m.\u001b[0m\u001b[0mroots\u001b[0m\u001b[0;34m(\u001b[0m\u001b[0mp\u001b[0m\u001b[0;34m)\u001b[0m\u001b[0;34m\u001b[0m\u001b[0;34m\u001b[0m\u001b[0m\n",
       "\u001b[0;31mDocstring:\u001b[0m\n",
       "Return the roots of a polynomial with coefficients given in p.\n",
       "\n",
       ".. note::\n",
       "   This forms part of the old polynomial API. Since version 1.4, the\n",
       "   new polynomial API defined in `numpy.polynomial` is preferred.\n",
       "   A summary of the differences can be found in the\n",
       "   :doc:`transition guide </reference/routines.polynomials>`.\n",
       "\n",
       "The values in the rank-1 array `p` are coefficients of a polynomial.\n",
       "If the length of `p` is n+1 then the polynomial is described by::\n",
       "\n",
       "  p[0] * x**n + p[1] * x**(n-1) + ... + p[n-1]*x + p[n]\n",
       "\n",
       "Parameters\n",
       "----------\n",
       "p : array_like\n",
       "    Rank-1 array of polynomial coefficients.\n",
       "\n",
       "Returns\n",
       "-------\n",
       "out : ndarray\n",
       "    An array containing the roots of the polynomial.\n",
       "\n",
       "Raises\n",
       "------\n",
       "ValueError\n",
       "    When `p` cannot be converted to a rank-1 array.\n",
       "\n",
       "See also\n",
       "--------\n",
       "poly : Find the coefficients of a polynomial with a given sequence\n",
       "       of roots.\n",
       "polyval : Compute polynomial values.\n",
       "polyfit : Least squares polynomial fit.\n",
       "poly1d : A one-dimensional polynomial class.\n",
       "\n",
       "Notes\n",
       "-----\n",
       "The algorithm relies on computing the eigenvalues of the\n",
       "companion matrix [1]_.\n",
       "\n",
       "References\n",
       "----------\n",
       ".. [1] R. A. Horn & C. R. Johnson, *Matrix Analysis*.  Cambridge, UK:\n",
       "    Cambridge University Press, 1999, pp. 146-7.\n",
       "\n",
       "Examples\n",
       "--------\n",
       ">>> coeff = [3.2, 2, 1]\n",
       ">>> np.roots(coeff)\n",
       "array([-0.3125+0.46351241j, -0.3125-0.46351241j])\n",
       "\u001b[0;31mFile:\u001b[0m      ~/opt/anaconda3/lib/python3.9/site-packages/numpy/lib/polynomial.py\n",
       "\u001b[0;31mType:\u001b[0m      function\n"
      ]
     },
     "metadata": {},
     "output_type": "display_data"
    }
   ],
   "source": [
    "?np.roots"
   ]
  },
  {
   "cell_type": "markdown",
   "metadata": {
    "id": "VvBE1WdiRxHT"
   },
   "source": [
    "The eigenvalues of a matrix are related to the roots of the characteristic polynomial of the matrix. We can leverage this to find the roots of a polynomial by constructing a matrix that has as its characteristic polynomial the polynomial we want the roots for. Then, the roots of the polynomial are just the eigenvalues of that matrix.\n",
    "\n",
    "This example is adapted from [http://www.math.utah.edu/~gustafso/s2018/2270/labs/lab7-polyroot-qrmethod.pdf](http://www.math.utah.edu/~gustafso/s2018/2270/labs/lab7-polyroot-qrmethod.pdf)\n",
    "\n",
    "First, we construct the *companion matrix*. For the polynomial $p(x) = a_0 + a_1 x + ... + a_{n-1} x^{n-1} + x^n$ we construct:\n",
    "\n",
    "$C = \\left[\\begin{array}{ccccc}\n",
    " 0 & 1 & 0 & ... & 0\\\\\n",
    " 0 & 0 & 1 & ... & 0\\\\\n",
    " ... & ... & ... & \\ddots & \\vdots \\\\\n",
    " 0 & 0 & 0 & ... & 1\\\\\n",
    " -a_0 & -a_1 & -a_2 & ... & -a_{n-1}\n",
    " \\end{array}\\right]$\n",
    "\n",
    "Then, the eigenvalues of this matrix are equal to the roots of the polynomial. This matrix has ones on the diagonal above the main diagonal, and the coefficients up to the leading power on the bottom row. Note the coefficients are in the opposite order as we usually define them for `np.roots`.\n",
    "\n",
    "The main diagonal has `N-1` elements in it, and the diagonal above that has `N-2` elements in it.\n",
    "\n",
    "There are a few ways to reverse the coefficients, here we use `numpy.flipud` which reverses the elements.\n",
    "\n",
    "Let $p(x) = 4 x^2 + 3x - 1$. We write the coefficient vector in the same order as used in np.roots.\n",
    "\n"
   ]
  },
  {
   "cell_type": "code",
   "execution_count": 40,
   "metadata": {
    "colab": {
     "base_uri": "https://localhost:8080/"
    },
    "executionInfo": {
     "elapsed": 145,
     "status": "ok",
     "timestamp": 1636032061966,
     "user": {
      "displayName": "John Kitchin",
      "photoUrl": "https://lh3.googleusercontent.com/a/default-user=s64",
      "userId": "14782011281593705406"
     },
     "user_tz": 240
    },
    "id": "tccvN5eCGj7I",
    "outputId": "f740e922-3429-47f7-b54b-5f7a6749fee9"
   },
   "outputs": [
    {
     "data": {
      "text/plain": [
       "(array([-8.2864574 ,  3.24170404]), array([-8.2864574 ,  3.24170404]))"
      ]
     },
     "execution_count": 40,
     "metadata": {},
     "output_type": "execute_result"
    }
   ],
   "source": [
    "(-p[1:] / p[0])[::-1], np.flipud(-p[1:] / p[0])  # Two different ways to reverse an array"
   ]
  },
  {
   "cell_type": "code",
   "execution_count": 41,
   "metadata": {
    "colab": {
     "base_uri": "https://localhost:8080/"
    },
    "executionInfo": {
     "elapsed": 167,
     "status": "ok",
     "timestamp": 1636031974947,
     "user": {
      "displayName": "John Kitchin",
      "photoUrl": "https://lh3.googleusercontent.com/a/default-user=s64",
      "userId": "14782011281593705406"
     },
     "user_tz": 240
    },
    "id": "UeZgXSSCRxHU",
    "outputId": "c09b8ffc-4ef4-4aad-f2b8-222f5d7398ef"
   },
   "outputs": [
    {
     "data": {
      "text/plain": [
       "array([[ 0.  ,  1.  ],\n",
       "       [ 0.25, -0.75]])"
      ]
     },
     "execution_count": 41,
     "metadata": {},
     "output_type": "execute_result"
    }
   ],
   "source": [
    "p = np.array([4, 3, -1])  # polynomial coefficients\n",
    "N = len(p)\n",
    "\n",
    "C = np.diag(np.ones(N - 2), 1)\n",
    "C[-1, :] = np.flipud(-p[1:] / p[0])  # This is the bottom row\n",
    "C"
   ]
  },
  {
   "cell_type": "markdown",
   "metadata": {
    "id": "PMC5mnzmRxHY"
   },
   "source": [
    "Now the roots are found as the eigenvalues of the matrix.\n",
    "\n"
   ]
  },
  {
   "cell_type": "code",
   "execution_count": 42,
   "metadata": {
    "colab": {
     "base_uri": "https://localhost:8080/"
    },
    "executionInfo": {
     "elapsed": 193,
     "status": "ok",
     "timestamp": 1636031815778,
     "user": {
      "displayName": "John Kitchin",
      "photoUrl": "https://lh3.googleusercontent.com/a/default-user=s64",
      "userId": "14782011281593705406"
     },
     "user_tz": 240
    },
    "id": "AReJukDIRxHZ",
    "outputId": "c9ceb839-c131-420c-85fa-6017ebc1414a"
   },
   "outputs": [
    {
     "data": {
      "text/plain": [
       "array([ 0.25, -1.  ])"
      ]
     },
     "execution_count": 42,
     "metadata": {},
     "output_type": "execute_result"
    }
   ],
   "source": [
    "np.linalg.eigvals(C)"
   ]
  },
  {
   "cell_type": "markdown",
   "metadata": {
    "id": "5r3Q_aT4RxHc"
   },
   "source": [
    "This is essentially what the `np.roots` function does, although it uses a slightly different way to define the companion matrix.\n",
    "\n"
   ]
  },
  {
   "cell_type": "code",
   "execution_count": 43,
   "metadata": {
    "executionInfo": {
     "elapsed": 147,
     "status": "ok",
     "timestamp": 1636032120162,
     "user": {
      "displayName": "John Kitchin",
      "photoUrl": "https://lh3.googleusercontent.com/a/default-user=s64",
      "userId": "14782011281593705406"
     },
     "user_tz": 240
    },
    "id": "ZN6HLsexRxHd"
   },
   "outputs": [
    {
     "data": {
      "text/plain": [
       "\u001b[0;31mSignature:\u001b[0m \u001b[0mnp\u001b[0m\u001b[0;34m.\u001b[0m\u001b[0mroots\u001b[0m\u001b[0;34m(\u001b[0m\u001b[0mp\u001b[0m\u001b[0;34m)\u001b[0m\u001b[0;34m\u001b[0m\u001b[0;34m\u001b[0m\u001b[0m\n",
       "\u001b[0;31mSource:\u001b[0m   \n",
       "\u001b[0;34m@\u001b[0m\u001b[0marray_function_dispatch\u001b[0m\u001b[0;34m(\u001b[0m\u001b[0m_roots_dispatcher\u001b[0m\u001b[0;34m)\u001b[0m\u001b[0;34m\u001b[0m\n",
       "\u001b[0;34m\u001b[0m\u001b[0;32mdef\u001b[0m \u001b[0mroots\u001b[0m\u001b[0;34m(\u001b[0m\u001b[0mp\u001b[0m\u001b[0;34m)\u001b[0m\u001b[0;34m:\u001b[0m\u001b[0;34m\u001b[0m\n",
       "\u001b[0;34m\u001b[0m    \u001b[0;34m\"\"\"\u001b[0m\n",
       "\u001b[0;34m    Return the roots of a polynomial with coefficients given in p.\u001b[0m\n",
       "\u001b[0;34m\u001b[0m\n",
       "\u001b[0;34m    .. note::\u001b[0m\n",
       "\u001b[0;34m       This forms part of the old polynomial API. Since version 1.4, the\u001b[0m\n",
       "\u001b[0;34m       new polynomial API defined in `numpy.polynomial` is preferred.\u001b[0m\n",
       "\u001b[0;34m       A summary of the differences can be found in the\u001b[0m\n",
       "\u001b[0;34m       :doc:`transition guide </reference/routines.polynomials>`.\u001b[0m\n",
       "\u001b[0;34m\u001b[0m\n",
       "\u001b[0;34m    The values in the rank-1 array `p` are coefficients of a polynomial.\u001b[0m\n",
       "\u001b[0;34m    If the length of `p` is n+1 then the polynomial is described by::\u001b[0m\n",
       "\u001b[0;34m\u001b[0m\n",
       "\u001b[0;34m      p[0] * x**n + p[1] * x**(n-1) + ... + p[n-1]*x + p[n]\u001b[0m\n",
       "\u001b[0;34m\u001b[0m\n",
       "\u001b[0;34m    Parameters\u001b[0m\n",
       "\u001b[0;34m    ----------\u001b[0m\n",
       "\u001b[0;34m    p : array_like\u001b[0m\n",
       "\u001b[0;34m        Rank-1 array of polynomial coefficients.\u001b[0m\n",
       "\u001b[0;34m\u001b[0m\n",
       "\u001b[0;34m    Returns\u001b[0m\n",
       "\u001b[0;34m    -------\u001b[0m\n",
       "\u001b[0;34m    out : ndarray\u001b[0m\n",
       "\u001b[0;34m        An array containing the roots of the polynomial.\u001b[0m\n",
       "\u001b[0;34m\u001b[0m\n",
       "\u001b[0;34m    Raises\u001b[0m\n",
       "\u001b[0;34m    ------\u001b[0m\n",
       "\u001b[0;34m    ValueError\u001b[0m\n",
       "\u001b[0;34m        When `p` cannot be converted to a rank-1 array.\u001b[0m\n",
       "\u001b[0;34m\u001b[0m\n",
       "\u001b[0;34m    See also\u001b[0m\n",
       "\u001b[0;34m    --------\u001b[0m\n",
       "\u001b[0;34m    poly : Find the coefficients of a polynomial with a given sequence\u001b[0m\n",
       "\u001b[0;34m           of roots.\u001b[0m\n",
       "\u001b[0;34m    polyval : Compute polynomial values.\u001b[0m\n",
       "\u001b[0;34m    polyfit : Least squares polynomial fit.\u001b[0m\n",
       "\u001b[0;34m    poly1d : A one-dimensional polynomial class.\u001b[0m\n",
       "\u001b[0;34m\u001b[0m\n",
       "\u001b[0;34m    Notes\u001b[0m\n",
       "\u001b[0;34m    -----\u001b[0m\n",
       "\u001b[0;34m    The algorithm relies on computing the eigenvalues of the\u001b[0m\n",
       "\u001b[0;34m    companion matrix [1]_.\u001b[0m\n",
       "\u001b[0;34m\u001b[0m\n",
       "\u001b[0;34m    References\u001b[0m\n",
       "\u001b[0;34m    ----------\u001b[0m\n",
       "\u001b[0;34m    .. [1] R. A. Horn & C. R. Johnson, *Matrix Analysis*.  Cambridge, UK:\u001b[0m\n",
       "\u001b[0;34m        Cambridge University Press, 1999, pp. 146-7.\u001b[0m\n",
       "\u001b[0;34m\u001b[0m\n",
       "\u001b[0;34m    Examples\u001b[0m\n",
       "\u001b[0;34m    --------\u001b[0m\n",
       "\u001b[0;34m    >>> coeff = [3.2, 2, 1]\u001b[0m\n",
       "\u001b[0;34m    >>> np.roots(coeff)\u001b[0m\n",
       "\u001b[0;34m    array([-0.3125+0.46351241j, -0.3125-0.46351241j])\u001b[0m\n",
       "\u001b[0;34m\u001b[0m\n",
       "\u001b[0;34m    \"\"\"\u001b[0m\u001b[0;34m\u001b[0m\n",
       "\u001b[0;34m\u001b[0m    \u001b[0;31m# If input is scalar, this makes it an array\u001b[0m\u001b[0;34m\u001b[0m\n",
       "\u001b[0;34m\u001b[0m    \u001b[0mp\u001b[0m \u001b[0;34m=\u001b[0m \u001b[0matleast_1d\u001b[0m\u001b[0;34m(\u001b[0m\u001b[0mp\u001b[0m\u001b[0;34m)\u001b[0m\u001b[0;34m\u001b[0m\n",
       "\u001b[0;34m\u001b[0m    \u001b[0;32mif\u001b[0m \u001b[0mp\u001b[0m\u001b[0;34m.\u001b[0m\u001b[0mndim\u001b[0m \u001b[0;34m!=\u001b[0m \u001b[0;36m1\u001b[0m\u001b[0;34m:\u001b[0m\u001b[0;34m\u001b[0m\n",
       "\u001b[0;34m\u001b[0m        \u001b[0;32mraise\u001b[0m \u001b[0mValueError\u001b[0m\u001b[0;34m(\u001b[0m\u001b[0;34m\"Input must be a rank-1 array.\"\u001b[0m\u001b[0;34m)\u001b[0m\u001b[0;34m\u001b[0m\n",
       "\u001b[0;34m\u001b[0m\u001b[0;34m\u001b[0m\n",
       "\u001b[0;34m\u001b[0m    \u001b[0;31m# find non-zero array entries\u001b[0m\u001b[0;34m\u001b[0m\n",
       "\u001b[0;34m\u001b[0m    \u001b[0mnon_zero\u001b[0m \u001b[0;34m=\u001b[0m \u001b[0mNX\u001b[0m\u001b[0;34m.\u001b[0m\u001b[0mnonzero\u001b[0m\u001b[0;34m(\u001b[0m\u001b[0mNX\u001b[0m\u001b[0;34m.\u001b[0m\u001b[0mravel\u001b[0m\u001b[0;34m(\u001b[0m\u001b[0mp\u001b[0m\u001b[0;34m)\u001b[0m\u001b[0;34m)\u001b[0m\u001b[0;34m[\u001b[0m\u001b[0;36m0\u001b[0m\u001b[0;34m]\u001b[0m\u001b[0;34m\u001b[0m\n",
       "\u001b[0;34m\u001b[0m\u001b[0;34m\u001b[0m\n",
       "\u001b[0;34m\u001b[0m    \u001b[0;31m# Return an empty array if polynomial is all zeros\u001b[0m\u001b[0;34m\u001b[0m\n",
       "\u001b[0;34m\u001b[0m    \u001b[0;32mif\u001b[0m \u001b[0mlen\u001b[0m\u001b[0;34m(\u001b[0m\u001b[0mnon_zero\u001b[0m\u001b[0;34m)\u001b[0m \u001b[0;34m==\u001b[0m \u001b[0;36m0\u001b[0m\u001b[0;34m:\u001b[0m\u001b[0;34m\u001b[0m\n",
       "\u001b[0;34m\u001b[0m        \u001b[0;32mreturn\u001b[0m \u001b[0mNX\u001b[0m\u001b[0;34m.\u001b[0m\u001b[0marray\u001b[0m\u001b[0;34m(\u001b[0m\u001b[0;34m[\u001b[0m\u001b[0;34m]\u001b[0m\u001b[0;34m)\u001b[0m\u001b[0;34m\u001b[0m\n",
       "\u001b[0;34m\u001b[0m\u001b[0;34m\u001b[0m\n",
       "\u001b[0;34m\u001b[0m    \u001b[0;31m# find the number of trailing zeros -- this is the number of roots at 0.\u001b[0m\u001b[0;34m\u001b[0m\n",
       "\u001b[0;34m\u001b[0m    \u001b[0mtrailing_zeros\u001b[0m \u001b[0;34m=\u001b[0m \u001b[0mlen\u001b[0m\u001b[0;34m(\u001b[0m\u001b[0mp\u001b[0m\u001b[0;34m)\u001b[0m \u001b[0;34m-\u001b[0m \u001b[0mnon_zero\u001b[0m\u001b[0;34m[\u001b[0m\u001b[0;34m-\u001b[0m\u001b[0;36m1\u001b[0m\u001b[0;34m]\u001b[0m \u001b[0;34m-\u001b[0m \u001b[0;36m1\u001b[0m\u001b[0;34m\u001b[0m\n",
       "\u001b[0;34m\u001b[0m\u001b[0;34m\u001b[0m\n",
       "\u001b[0;34m\u001b[0m    \u001b[0;31m# strip leading and trailing zeros\u001b[0m\u001b[0;34m\u001b[0m\n",
       "\u001b[0;34m\u001b[0m    \u001b[0mp\u001b[0m \u001b[0;34m=\u001b[0m \u001b[0mp\u001b[0m\u001b[0;34m[\u001b[0m\u001b[0mint\u001b[0m\u001b[0;34m(\u001b[0m\u001b[0mnon_zero\u001b[0m\u001b[0;34m[\u001b[0m\u001b[0;36m0\u001b[0m\u001b[0;34m]\u001b[0m\u001b[0;34m)\u001b[0m\u001b[0;34m:\u001b[0m\u001b[0mint\u001b[0m\u001b[0;34m(\u001b[0m\u001b[0mnon_zero\u001b[0m\u001b[0;34m[\u001b[0m\u001b[0;34m-\u001b[0m\u001b[0;36m1\u001b[0m\u001b[0;34m]\u001b[0m\u001b[0;34m)\u001b[0m\u001b[0;34m+\u001b[0m\u001b[0;36m1\u001b[0m\u001b[0;34m]\u001b[0m\u001b[0;34m\u001b[0m\n",
       "\u001b[0;34m\u001b[0m\u001b[0;34m\u001b[0m\n",
       "\u001b[0;34m\u001b[0m    \u001b[0;31m# casting: if incoming array isn't floating point, make it floating point.\u001b[0m\u001b[0;34m\u001b[0m\n",
       "\u001b[0;34m\u001b[0m    \u001b[0;32mif\u001b[0m \u001b[0;32mnot\u001b[0m \u001b[0missubclass\u001b[0m\u001b[0;34m(\u001b[0m\u001b[0mp\u001b[0m\u001b[0;34m.\u001b[0m\u001b[0mdtype\u001b[0m\u001b[0;34m.\u001b[0m\u001b[0mtype\u001b[0m\u001b[0;34m,\u001b[0m \u001b[0;34m(\u001b[0m\u001b[0mNX\u001b[0m\u001b[0;34m.\u001b[0m\u001b[0mfloating\u001b[0m\u001b[0;34m,\u001b[0m \u001b[0mNX\u001b[0m\u001b[0;34m.\u001b[0m\u001b[0mcomplexfloating\u001b[0m\u001b[0;34m)\u001b[0m\u001b[0;34m)\u001b[0m\u001b[0;34m:\u001b[0m\u001b[0;34m\u001b[0m\n",
       "\u001b[0;34m\u001b[0m        \u001b[0mp\u001b[0m \u001b[0;34m=\u001b[0m \u001b[0mp\u001b[0m\u001b[0;34m.\u001b[0m\u001b[0mastype\u001b[0m\u001b[0;34m(\u001b[0m\u001b[0mfloat\u001b[0m\u001b[0;34m)\u001b[0m\u001b[0;34m\u001b[0m\n",
       "\u001b[0;34m\u001b[0m\u001b[0;34m\u001b[0m\n",
       "\u001b[0;34m\u001b[0m    \u001b[0mN\u001b[0m \u001b[0;34m=\u001b[0m \u001b[0mlen\u001b[0m\u001b[0;34m(\u001b[0m\u001b[0mp\u001b[0m\u001b[0;34m)\u001b[0m\u001b[0;34m\u001b[0m\n",
       "\u001b[0;34m\u001b[0m    \u001b[0;32mif\u001b[0m \u001b[0mN\u001b[0m \u001b[0;34m>\u001b[0m \u001b[0;36m1\u001b[0m\u001b[0;34m:\u001b[0m\u001b[0;34m\u001b[0m\n",
       "\u001b[0;34m\u001b[0m        \u001b[0;31m# build companion matrix and find its eigenvalues (the roots)\u001b[0m\u001b[0;34m\u001b[0m\n",
       "\u001b[0;34m\u001b[0m        \u001b[0mA\u001b[0m \u001b[0;34m=\u001b[0m \u001b[0mdiag\u001b[0m\u001b[0;34m(\u001b[0m\u001b[0mNX\u001b[0m\u001b[0;34m.\u001b[0m\u001b[0mones\u001b[0m\u001b[0;34m(\u001b[0m\u001b[0;34m(\u001b[0m\u001b[0mN\u001b[0m\u001b[0;34m-\u001b[0m\u001b[0;36m2\u001b[0m\u001b[0;34m,\u001b[0m\u001b[0;34m)\u001b[0m\u001b[0;34m,\u001b[0m \u001b[0mp\u001b[0m\u001b[0;34m.\u001b[0m\u001b[0mdtype\u001b[0m\u001b[0;34m)\u001b[0m\u001b[0;34m,\u001b[0m \u001b[0;34m-\u001b[0m\u001b[0;36m1\u001b[0m\u001b[0;34m)\u001b[0m\u001b[0;34m\u001b[0m\n",
       "\u001b[0;34m\u001b[0m        \u001b[0mA\u001b[0m\u001b[0;34m[\u001b[0m\u001b[0;36m0\u001b[0m\u001b[0;34m,\u001b[0m\u001b[0;34m:\u001b[0m\u001b[0;34m]\u001b[0m \u001b[0;34m=\u001b[0m \u001b[0;34m-\u001b[0m\u001b[0mp\u001b[0m\u001b[0;34m[\u001b[0m\u001b[0;36m1\u001b[0m\u001b[0;34m:\u001b[0m\u001b[0;34m]\u001b[0m \u001b[0;34m/\u001b[0m \u001b[0mp\u001b[0m\u001b[0;34m[\u001b[0m\u001b[0;36m0\u001b[0m\u001b[0;34m]\u001b[0m\u001b[0;34m\u001b[0m\n",
       "\u001b[0;34m\u001b[0m        \u001b[0mroots\u001b[0m \u001b[0;34m=\u001b[0m \u001b[0meigvals\u001b[0m\u001b[0;34m(\u001b[0m\u001b[0mA\u001b[0m\u001b[0;34m)\u001b[0m\u001b[0;34m\u001b[0m\n",
       "\u001b[0;34m\u001b[0m    \u001b[0;32melse\u001b[0m\u001b[0;34m:\u001b[0m\u001b[0;34m\u001b[0m\n",
       "\u001b[0;34m\u001b[0m        \u001b[0mroots\u001b[0m \u001b[0;34m=\u001b[0m \u001b[0mNX\u001b[0m\u001b[0;34m.\u001b[0m\u001b[0marray\u001b[0m\u001b[0;34m(\u001b[0m\u001b[0;34m[\u001b[0m\u001b[0;34m]\u001b[0m\u001b[0;34m)\u001b[0m\u001b[0;34m\u001b[0m\n",
       "\u001b[0;34m\u001b[0m\u001b[0;34m\u001b[0m\n",
       "\u001b[0;34m\u001b[0m    \u001b[0;31m# tack any zeros onto the back of the array\u001b[0m\u001b[0;34m\u001b[0m\n",
       "\u001b[0;34m\u001b[0m    \u001b[0mroots\u001b[0m \u001b[0;34m=\u001b[0m \u001b[0mhstack\u001b[0m\u001b[0;34m(\u001b[0m\u001b[0;34m(\u001b[0m\u001b[0mroots\u001b[0m\u001b[0;34m,\u001b[0m \u001b[0mNX\u001b[0m\u001b[0;34m.\u001b[0m\u001b[0mzeros\u001b[0m\u001b[0;34m(\u001b[0m\u001b[0mtrailing_zeros\u001b[0m\u001b[0;34m,\u001b[0m \u001b[0mroots\u001b[0m\u001b[0;34m.\u001b[0m\u001b[0mdtype\u001b[0m\u001b[0;34m)\u001b[0m\u001b[0;34m)\u001b[0m\u001b[0;34m)\u001b[0m\u001b[0;34m\u001b[0m\n",
       "\u001b[0;34m\u001b[0m    \u001b[0;32mreturn\u001b[0m \u001b[0mroots\u001b[0m\u001b[0;34m\u001b[0m\u001b[0;34m\u001b[0m\u001b[0m\n",
       "\u001b[0;31mFile:\u001b[0m      ~/opt/anaconda3/lib/python3.9/site-packages/numpy/lib/polynomial.py\n",
       "\u001b[0;31mType:\u001b[0m      function\n"
      ]
     },
     "metadata": {},
     "output_type": "display_data"
    }
   ],
   "source": [
    "import numpy as np\n",
    "??np.roots"
   ]
  },
  {
   "cell_type": "code",
   "execution_count": 44,
   "metadata": {
    "colab": {
     "base_uri": "https://localhost:8080/"
    },
    "executionInfo": {
     "elapsed": 168,
     "status": "ok",
     "timestamp": 1636031823609,
     "user": {
      "displayName": "John Kitchin",
      "photoUrl": "https://lh3.googleusercontent.com/a/default-user=s64",
      "userId": "14782011281593705406"
     },
     "user_tz": 240
    },
    "id": "x8LIiDRRRxHg",
    "outputId": "45a3bc6e-c822-4fea-e644-1020fe856f5c"
   },
   "outputs": [
    {
     "data": {
      "text/plain": [
       "array([-1.  ,  0.25])"
      ]
     },
     "execution_count": 44,
     "metadata": {},
     "output_type": "execute_result"
    }
   ],
   "source": [
    "p = [4, 3, -1]\n",
    "np.roots(p)"
   ]
  },
  {
   "cell_type": "markdown",
   "metadata": {
    "id": "J8v87E1DRxHk"
   },
   "source": [
    "The order of the roots is not important; they may or may not be sorted.\n",
    "\n"
   ]
  },
  {
   "cell_type": "markdown",
   "metadata": {
    "id": "m4gbY1mBw7A5"
   },
   "source": [
    "Try joke at top of lecture - it works!"
   ]
  },
  {
   "cell_type": "code",
   "execution_count": 45,
   "metadata": {
    "colab": {
     "base_uri": "https://localhost:8080/"
    },
    "executionInfo": {
     "elapsed": 152,
     "status": "ok",
     "timestamp": 1636032378254,
     "user": {
      "displayName": "John Kitchin",
      "photoUrl": "https://lh3.googleusercontent.com/a/default-user=s64",
      "userId": "14782011281593705406"
     },
     "user_tz": 240
    },
    "id": "QpF5jTnmw-mv",
    "outputId": "9538276d-527d-439f-c813-c41a167b48b2"
   },
   "outputs": [
    {
     "data": {
      "text/plain": [
       "array([0, 0, 0, 0, 0])"
      ]
     },
     "execution_count": 45,
     "metadata": {},
     "output_type": "execute_result"
    }
   ],
   "source": [
    "V = np.array(\n",
    "    [\n",
    "        [5, 1, 1, 3, 1],\n",
    "        [3, 1, 1, 3, 3],\n",
    "        [1, 1, 2, 8, 10],\n",
    "        [3, 1, 1, 1, 5],\n",
    "        [1, 3, 1, 4, 2],\n",
    "    ]\n",
    ")\n",
    "\n",
    "b = np.array([1, 1, 2, 1, 1])\n",
    "V @ b - 12 * b"
   ]
  },
  {
   "cell_type": "code",
   "execution_count": 46,
   "metadata": {
    "colab": {
     "base_uri": "https://localhost:8080/"
    },
    "executionInfo": {
     "elapsed": 183,
     "status": "ok",
     "timestamp": 1636032308702,
     "user": {
      "displayName": "John Kitchin",
      "photoUrl": "https://lh3.googleusercontent.com/a/default-user=s64",
      "userId": "14782011281593705406"
     },
     "user_tz": 240
    },
    "id": "ZWd2UIW6xl5t",
    "outputId": "512a76c1-5ffc-43c0-c7bf-99133aa3a12f"
   },
   "outputs": [
    {
     "name": "stdout",
     "output_type": "stream",
     "text": [
      "[12.    3.08 -3.3  -0.   -0.79]\n"
     ]
    }
   ],
   "source": [
    "with np.printoptions(precision=2, suppress=True):\n",
    "    print(np.linalg.eigvals(V))"
   ]
  },
  {
   "cell_type": "code",
   "execution_count": 47,
   "metadata": {
    "colab": {
     "base_uri": "https://localhost:8080/"
    },
    "executionInfo": {
     "elapsed": 172,
     "status": "ok",
     "timestamp": 1636032338359,
     "user": {
      "displayName": "John Kitchin",
      "photoUrl": "https://lh3.googleusercontent.com/a/default-user=s64",
      "userId": "14782011281593705406"
     },
     "user_tz": 240
    },
    "id": "OCHghjcIIFCa",
    "outputId": "a9ff3cdb-59a6-48dd-d05f-1976c3b034b7"
   },
   "outputs": [
    {
     "data": {
      "text/plain": [
       "array([ 1.20000000e+01,  3.08387236e+00, -3.29707054e+00, -3.72966490e-15,\n",
       "       -7.86801815e-01])"
      ]
     },
     "execution_count": 47,
     "metadata": {},
     "output_type": "execute_result"
    }
   ],
   "source": [
    "np.linalg.eigvals(V)"
   ]
  },
  {
   "cell_type": "markdown",
   "metadata": {
    "id": "JIG17ukDRxHk"
   },
   "source": [
    "# Applications to optimization\n",
    "\n"
   ]
  },
  {
   "cell_type": "markdown",
   "metadata": {
    "id": "8O-whW3cRxHl"
   },
   "source": [
    "We can use eigenvalues to detect what kind of stationary point (f'(x) = 0) we are at. We have to know the [Hessian matrix](https://en.wikipedia.org/wiki/Hessian_matrix) at the stationary point. The eigenvalues of this matrix tell us about the stationary point.\n",
    "\n",
    "1.  If all the eigenvalues are all positive, the matrix is called positive definite, and it means the stationary point is a minimum.\n",
    "2.  If all the eigenvalues are negative, the matrix is called negative definite, and it means the stationary point is a maximum.\n",
    "3.  If the signs of the eigenvalues are mixed then the stationary point is a saddle point.\n",
    "4.  If there are zeros, it is inconclusive, and further analysis is needed.\n",
    "\n",
    "Let's consider an example:\n",
    "\n"
   ]
  },
  {
   "cell_type": "code",
   "execution_count": 48,
   "metadata": {
    "colab": {
     "base_uri": "https://localhost:8080/"
    },
    "executionInfo": {
     "elapsed": 150,
     "status": "ok",
     "timestamp": 1636032582076,
     "user": {
      "displayName": "John Kitchin",
      "photoUrl": "https://lh3.googleusercontent.com/a/default-user=s64",
      "userId": "14782011281593705406"
     },
     "user_tz": 240
    },
    "id": "-RQ9gsS_RxHl",
    "outputId": "b5def3e7-7dd6-45d4-e17b-c11ab205dd8a"
   },
   "outputs": [
    {
     "data": {
      "text/plain": [
       "  message: Optimization terminated successfully.\n",
       "  success: True\n",
       "   status: 0\n",
       "      fun: -6.0\n",
       "        x: [ 2.000e+00 -1.000e+00]\n",
       "      nit: 4\n",
       "      jac: [ 0.000e+00  0.000e+00]\n",
       " hess_inv: [[ 3.333e-01 -1.667e-01]\n",
       "            [-1.667e-01  3.333e-01]]\n",
       "     nfev: 18\n",
       "     njev: 6"
      ]
     },
     "execution_count": 48,
     "metadata": {},
     "output_type": "execute_result"
    }
   ],
   "source": [
    "from scipy.optimize import minimize\n",
    "\n",
    "\n",
    "def f(X):\n",
    "    x, y = X\n",
    "    return 2 * x**2 + 2 * x * y + 2 * y**2 - 6 * x\n",
    "\n",
    "\n",
    "sol = minimize(f, [0, 0])\n",
    "sol"
   ]
  },
  {
   "cell_type": "markdown",
   "metadata": {
    "id": "4ASoLFKTRxHq"
   },
   "source": [
    "We get an estimate of the inverse hessian here, so we convert it to a hessian first.\n",
    "\n"
   ]
  },
  {
   "cell_type": "code",
   "execution_count": 49,
   "metadata": {
    "colab": {
     "base_uri": "https://localhost:8080/"
    },
    "executionInfo": {
     "elapsed": 196,
     "status": "ok",
     "timestamp": 1636032620706,
     "user": {
      "displayName": "John Kitchin",
      "photoUrl": "https://lh3.googleusercontent.com/a/default-user=s64",
      "userId": "14782011281593705406"
     },
     "user_tz": 240
    },
    "id": "vmfLuOUWRxHr",
    "outputId": "d2b036c2-25d2-4bb9-adce-7a7cf393749f"
   },
   "outputs": [
    {
     "data": {
      "text/plain": [
       "array([[3.99999998, 1.99999997],\n",
       "       [1.99999997, 3.99999996]])"
      ]
     },
     "execution_count": 49,
     "metadata": {},
     "output_type": "execute_result"
    }
   ],
   "source": [
    "h = np.linalg.inv(sol[\"hess_inv\"])\n",
    "h"
   ]
  },
  {
   "cell_type": "markdown",
   "metadata": {
    "id": "F82en-0PRxHu"
   },
   "source": [
    "Now we check the eigenvalues:\n",
    "\n"
   ]
  },
  {
   "cell_type": "code",
   "execution_count": 50,
   "metadata": {
    "colab": {
     "base_uri": "https://localhost:8080/"
    },
    "executionInfo": {
     "elapsed": 163,
     "status": "ok",
     "timestamp": 1636032629514,
     "user": {
      "displayName": "John Kitchin",
      "photoUrl": "https://lh3.googleusercontent.com/a/default-user=s64",
      "userId": "14782011281593705406"
     },
     "user_tz": 240
    },
    "id": "5XDYGgi7RxHv",
    "outputId": "6c3a9faa-2099-465d-9519-38c6838b1c02"
   },
   "outputs": [
    {
     "data": {
      "text/plain": [
       "array([5.99999994, 2.        ])"
      ]
     },
     "execution_count": 50,
     "metadata": {},
     "output_type": "execute_result"
    }
   ],
   "source": [
    "np.linalg.eigvals(h)"
   ]
  },
  {
   "cell_type": "markdown",
   "metadata": {
    "id": "dmhssMqDRxHy"
   },
   "source": [
    "We have two positive eigenvalues, so the Hessian is positive definite, and we are at a minimum.\n",
    "\n",
    "We can also use tools to compute the Hessian more directly (of course you can derive the partial derivatives by hand also):\n",
    "\n"
   ]
  },
  {
   "cell_type": "code",
   "execution_count": 51,
   "metadata": {
    "colab": {
     "base_uri": "https://localhost:8080/"
    },
    "executionInfo": {
     "elapsed": 204,
     "status": "ok",
     "timestamp": 1636032715023,
     "user": {
      "displayName": "John Kitchin",
      "photoUrl": "https://lh3.googleusercontent.com/a/default-user=s64",
      "userId": "14782011281593705406"
     },
     "user_tz": 240
    },
    "id": "97CWtzWqRxHz",
    "outputId": "4bc13eb4-3055-4ff2-fa2c-935dc7390249"
   },
   "outputs": [
    {
     "data": {
      "text/plain": [
       "array([2., 6.])"
      ]
     },
     "execution_count": 51,
     "metadata": {},
     "output_type": "execute_result"
    }
   ],
   "source": [
    "import numdifftools as nd\n",
    "\n",
    "H = nd.Hessian(f)\n",
    "np.linalg.eigvals(H(sol.x))  # eigenvalues of Hessian at the solution minimum"
   ]
  },
  {
   "cell_type": "markdown",
   "metadata": {
    "id": "HNzrkDy4RxH3"
   },
   "source": [
    "Note the order of the eigenvalues is not important.\n",
    "\n",
    "We will see more about numerical tools for computing Hessians and derivatives after Thanksgiving.\n",
    "\n"
   ]
  },
  {
   "cell_type": "markdown",
   "metadata": {
    "id": "fBKhoKOPRxH4"
   },
   "source": [
    "# Summary\n",
    "\n"
   ]
  },
  {
   "cell_type": "markdown",
   "metadata": {
    "id": "qQsNop-pRxH4"
   },
   "source": [
    "Today we introduced the ideas behind interpolation which is a data-driven approach to model building that involves locally fitting functions to a few data points. We also introduced eigenvalues and eigenvectors, and some applications of how they are used.\n",
    "\n",
    "Next week we will conclude linear algebra with linear regression.\n",
    "\n"
   ]
  },
  {
   "cell_type": "code",
   "execution_count": 52,
   "metadata": {},
   "outputs": [
    {
     "data": {
      "text/html": [
       "<div id=\"UNgOUJOLsdOM\" data-shufflequestions=\"False\"\n",
       "               data-shuffleanswers=\"True\"\n",
       "               data-preserveresponses=\"false\"\n",
       "               data-numquestions=\"1000000\"\n",
       "               data-maxwidth=\"600\"\n",
       "               style=\"border-radius: 10px; text-align: left\"> <style>\n",
       "#UNgOUJOLsdOM {\n",
       "   --jq-multiple-choice-bg: #6f78ffff;\n",
       "   --jq-mc-button-bg: #fafafa;\n",
       "   --jq-mc-button-border: #e0e0e0e0;\n",
       "   --jq-mc-button-inset-shadow: #555555;\n",
       "   --jq-many-choice-bg: #f75c03ff;\n",
       "   --jq-numeric-bg: #392061ff;\n",
       "   --jq-numeric-input-bg: #c0c0c0;\n",
       "   --jq-numeric-input-label: #101010;\n",
       "   --jq-numeric-input-shadow: #999999;\n",
       "   --jq-incorrect-color: #c80202;\n",
       "   --jq-correct-color: #009113;\n",
       "   --jq-text-color: #fafafa;\n",
       "}\n",
       "\n",
       ".Quiz {\n",
       "    max-width: 600px;\n",
       "    margin-top: 15px;\n",
       "    margin-left: auto;\n",
       "    margin-right: auto;\n",
       "    margin-bottom: 15px;\n",
       "    padding-bottom: 4px;\n",
       "    padding-top: 4px;\n",
       "    line-height: 1.1;\n",
       "    font-size: 16pt;\n",
       "    border-radius: inherit;\n",
       "}\n",
       "\n",
       ".QuizCode {\n",
       "    font-size: 14pt;\n",
       "    margin-top: 10px;\n",
       "    margin-left: 20px;\n",
       "    margin-right: 20px;\n",
       "}\n",
       "\n",
       ".QuizCode>pre {\n",
       "    padding: 4px;\n",
       "}\n",
       "\n",
       ".Answer {\n",
       "    margin: 10px 0;\n",
       "    display: grid;\n",
       "    grid-template-columns: 1fr 1fr;\n",
       "    grid-gap: 10px;\n",
       "    border-radius: inherit;\n",
       "}\n",
       "\n",
       ".Feedback {\n",
       "    font-size: 16pt;\n",
       "    text-align: center;\n",
       "    min-height: 2em;\n",
       "}\n",
       "\n",
       ".Input {\n",
       "    align: left;\n",
       "    font-size: 20pt;\n",
       "}\n",
       "\n",
       ".Input-text {\n",
       "    display: block;\n",
       "    margin: 10px;\n",
       "    color: inherit;\n",
       "    width: 140px;\n",
       "    background-color: var(--jq-numeric-input-bg);\n",
       "    color: var(--jq-text-color);\n",
       "    padding: 5px;\n",
       "    padding-left: 10px;\n",
       "    font-family: inherit;\n",
       "    font-size: 20px;\n",
       "    font-weight: inherit;\n",
       "    line-height: 20pt;\n",
       "    border: none;\n",
       "    border-radius: 0.2rem;\n",
       "    transition: box-shadow 0.1s);\n",
       "}\n",
       "\n",
       ".Input-text:focus {\n",
       "    outline: none;\n",
       "    background-color: var(--jq-numeric-input-bg);\n",
       "    box-shadow: 0.6rem 0.8rem 1.4rem -0.5rem var(--jq-numeric-input-shadow);\n",
       "}\n",
       "\n",
       ".MCButton {\n",
       "    background: var(--jq-mc-button-bg);\n",
       "    border: 1px solid var(--jq-mc-button-border);\n",
       "    border-radius: inherit;\n",
       "    padding: 10px;\n",
       "    font-size: 16px;\n",
       "    cursor: pointer;\n",
       "    text-align: center;\n",
       "    display: flex;\n",
       "    align-items: center;\n",
       "    justify-content: center;\n",
       "}\n",
       "\n",
       ".MCButton p {\n",
       "    color: inherit;\n",
       "}\n",
       "\n",
       ".MultipleChoiceQn {\n",
       "    padding: 10px;\n",
       "    background: var(--jq-multiple-choice-bg);\n",
       "    color: var(--jq-text-color);\n",
       "    border-radius: inherit;\n",
       "}\n",
       "\n",
       ".ManyChoiceQn {\n",
       "    padding: 10px;\n",
       "    background: var(--jq-many-choice-bg);\n",
       "    color: var(--jq-text-color);\n",
       "    border-radius: inherit;\n",
       "}\n",
       "\n",
       ".NumericQn {\n",
       "    padding: 10px;\n",
       "    background: var(--jq-numeric-bg);\n",
       "    color: var(--jq-text-color);\n",
       "    border-radius: inherit;\n",
       "}\n",
       "\n",
       ".NumericQn p {\n",
       "    color: inherit;\n",
       "}\n",
       "\n",
       ".InpLabel {\n",
       "    line-height: 34px;\n",
       "    float: left;\n",
       "    margin-right: 10px;\n",
       "    color: var(--jq-numeric-input-label);\n",
       "    font-size: 15pt;\n",
       "}\n",
       "\n",
       ".incorrect {\n",
       "    color: var(--jq-incorrect-color);\n",
       "}\n",
       "\n",
       ".correct {\n",
       "    color: var(--jq-correct-color);\n",
       "}\n",
       "\n",
       ".correctButton {\n",
       "    /*\n",
       "    background: var(--jq-correct-color);\n",
       "   */\n",
       "    animation: correct-anim 0.6s ease;\n",
       "    animation-fill-mode: forwards;\n",
       "    color: var(--jq-text-color);\n",
       "    box-shadow: inset 0px 0px 5px var(--jq-mc-button-inset-shadow);\n",
       "    outline: none;\n",
       "}\n",
       "\n",
       ".incorrectButton {\n",
       "    animation: incorrect-anim 0.8s ease;\n",
       "    animation-fill-mode: forwards;\n",
       "    color: var(--jq-text-color);\n",
       "    box-shadow: inset 0px 0px 5px var(--jq-mc-button-inset-shadow);\n",
       "    outline: none;\n",
       "}\n",
       "\n",
       "@keyframes incorrect-anim {\n",
       "    100% {\n",
       "        background-color: var(--jq-incorrect-color);\n",
       "    }\n",
       "}\n",
       "\n",
       "@keyframes correct-anim {\n",
       "    100% {\n",
       "        background-color: var(--jq-correct-color);\n",
       "    }\n",
       "}\n",
       "</style>"
      ],
      "text/plain": [
       "<IPython.core.display.HTML object>"
      ]
     },
     "metadata": {},
     "output_type": "display_data"
    },
    {
     "data": {
      "application/javascript": [
       "var questionsUNgOUJOLsdOM=[{\"question\": \"Which of the following matrices can be solved using np.linalg.solve(A, B)\", \"type\": \"multiple_choice\", \"answers\": [{\"answer\": \"A = np.array([[a1, a2, a3], [a2, a3, a4]])<br>B = np.array([b1, b2, b3])\", \"correct\": false}, {\"answer\": \"A = np.array([[a1, a2, a3], [a2, a3, a4], [a3, a4 ,a5]])<br>B = np.array([b1, b2])\", \"correct\": false}, {\"answer\": \"A = np.array([[a1, a2, a3], [a2, a3, a4], [a3, a4, a5]])<br>B = np.array([b1, b2, b3])\", \"correct\": true}, {\"answer\": \"A = np.array([[a1, a2], [a2, a3], [a3, a4]])<br>B = np.array([b1, b2])\", \"correct\": false}], \"tag\": \"numpy applications\", \"lecture_file\": \"17_linear_algebra_2\"}, {\"question\": \"If B and X are row vectors, then the expression $b_1 x_1 + b_2 x_2 + b_3 x_3$ can be expressed as\", \"type\": \"multiple_choice\", \"answers\": [{\"answer\": \"B.T . X.T\", \"correct\": false}, {\"answer\": \"B . X\", \"correct\": false}, {\"answer\": \"B.T . X\", \"correct\": false}, {\"answer\": \"B . X.T\", \"correct\": true}], \"tag\": \"vectors applications\", \"lecture_file\": \"17_linear_algebra_2\"}, {\"question\": \"x = np.linspace(1, 5, 3); y = np.array([3, 9, 27])<br>Y = interp1d(x, y, kind='quadratic', bounds_error=False)<br>xfit = np.linspace(-1, 8)<br>print(Y(xfit))<br><br>The above code will\", \"type\": \"multiple_choice\", \"answers\": [{\"answer\": \"Raise an error\", \"correct\": false}, {\"answer\": \"Print Y() values for the x-range (-1, 8)\", \"correct\": false}, {\"answer\": \"Print Y() values for the x-range (1, 5) and NaN for the rest\", \"correct\": true}, {\"answer\": \"None of the above\", \"correct\": false}], \"tag\": \"scipy applications\", \"lecture_file\": \"17_linear_algebra_2\"}, {\"question\": \"If the eigenvalues of matrix A are complex, then we can be certain that the matrix A\", \"type\": \"multiple_choice\", \"answers\": [{\"answer\": \"is symmetric\", \"correct\": false}, {\"answer\": \"is a non-square matrix\", \"correct\": false}, {\"answer\": \"has all the elements as complex numbers\", \"correct\": false}, {\"answer\": \"is non-symmetric\", \"correct\": true}], \"tag\": \"eigenvalues eigen\", \"lecture_file\": \"17_linear_algebra_2\"}, {\"question\": \"For a 2 x 2 matrix with all values being real, and having 2 eigenvalues, if 1-2j is one of the eigenvalues, what is the other eigenvalue\", \"type\": \"multiple_choice\", \"answers\": [{\"answer\": \"1 + 2j\", \"correct\": true}, {\"answer\": \"-2j\", \"correct\": false}, {\"answer\": \"-1 -2j\", \"correct\": false}, {\"answer\": \"-1+2j\", \"correct\": false}], \"tag\": \"eigenvalues eigen\", \"lecture_file\": \"17_linear_algebra_2\"}, {\"question\": \"For an N x N matrix, the number of eigenvalues\", \"type\": \"multiple_choice\", \"answers\": [{\"answer\": \"will always be equal to N\", \"correct\": false}, {\"answer\": \"can never be more than N\", \"correct\": true}, {\"answer\": \"can be less or more than N\", \"correct\": false}, {\"answer\": \"will always be less than N\", \"correct\": false}], \"tag\": \"eigenvalues eigen\", \"lecture_file\": \"17_linear_algebra_2\"}, {\"question\": \"Find the product of the eigenvalues for the matrix:<br>np.array([[1, 2, 3], [3, 2, 1], [2, 1, 0]])\", \"type\": \"multiple_choice\", \"answers\": [{\"answer\": \"-8\", \"correct\": false}, {\"answer\": \"Need more information\", \"correct\": false}, {\"answer\": \"0\", \"correct\": true}, {\"answer\": \"1\", \"correct\": false}], \"tag\": \"eigenvalues eigen\", \"lecture_file\": \"17_linear_algebra_2\"}, {\"question\": \"Find the sum of all the eigenvalues of the matrix:<br>np.array([[1, 2, 3], [3, 2, 1], [2, 0, 1]])\", \"type\": \"multiple_choice\", \"answers\": [{\"answer\": \"0\", \"correct\": false}, {\"answer\": \"4\", \"correct\": true}, {\"answer\": \"Need more information\", \"correct\": false}, {\"answer\": \"6\", \"correct\": false}], \"tag\": \"eigenvalues eigen\", \"lecture_file\": \"17_linear_algebra_2\"}, {\"question\": \"If the eigenvalues of the Hessian matrix for a function are all negative, then we are at a\", \"type\": \"multiple_choice\", \"answers\": [{\"answer\": \"minimum\", \"correct\": false}, {\"answer\": \"saddle point\", \"correct\": false}, {\"answer\": \"maximum\", \"correct\": true}, {\"answer\": \"Need more information\", \"correct\": false}], \"tag\": \"eigenvalues hessian eigen\", \"lecture_file\": \"17_linear_algebra_2\"}, {\"question\": \"If the eigenvectors of a matrix A are orthogonal, then we can be certain  that matrix A is a \", \"type\": \"multiple_choice\", \"answers\": [{\"answer\": \"symmetric matrix\", \"correct\": true}, {\"answer\": \"asymmetric matrix\", \"correct\": false}, {\"answer\": \"lower triangular matrix\", \"correct\": false}, {\"answer\": \"There is no inference\", \"correct\": false}], \"tag\": \"eigenvectors eigen\", \"lecture_file\": \"17_linear_algebra_2\"}];\n",
       "    // Make a random ID\n",
       "function makeid(length) {\n",
       "    var result = [];\n",
       "    var characters = 'ABCDEFGHIJKLMNOPQRSTUVWXYZabcdefghijklmnopqrstuvwxyz';\n",
       "    var charactersLength = characters.length;\n",
       "    for (var i = 0; i < length; i++) {\n",
       "        result.push(characters.charAt(Math.floor(Math.random() * charactersLength)));\n",
       "    }\n",
       "    return result.join('');\n",
       "}\n",
       "\n",
       "// Choose a random subset of an array. Can also be used to shuffle the array\n",
       "function getRandomSubarray(arr, size) {\n",
       "    var shuffled = arr.slice(0), i = arr.length, temp, index;\n",
       "    while (i--) {\n",
       "        index = Math.floor((i + 1) * Math.random());\n",
       "        temp = shuffled[index];\n",
       "        shuffled[index] = shuffled[i];\n",
       "        shuffled[i] = temp;\n",
       "    }\n",
       "    return shuffled.slice(0, size);\n",
       "}\n",
       "\n",
       "function printResponses(responsesContainer) {\n",
       "    var responses=JSON.parse(responsesContainer.dataset.responses);\n",
       "    var stringResponses='<B>IMPORTANT!</B>To preserve this answer sequence for submission, when you have finalized your answers: <ol> <li> Copy the text in this cell below \"Answer String\"</li> <li> Double click on the cell directly below the Answer String, labeled \"Replace Me\"</li> <li> Select the whole \"Replace Me\" text</li> <li> Paste in your answer string and press shift-Enter.</li><li>Save the notebook using the save icon or File->Save Notebook menu item</li></ul><br><br><br><b>Answer String:</b><br> ';\n",
       "    console.log(responses);\n",
       "    responses.forEach((response, index) => {\n",
       "        if (response) {\n",
       "            console.log(index + ': ' + response);\n",
       "            stringResponses+= index + ': ' + response +\"<BR>\";\n",
       "        }\n",
       "    });\n",
       "    responsesContainer.innerHTML=stringResponses;\n",
       "}\n",
       "function check_mc() {\n",
       "    var id = this.id.split('-')[0];\n",
       "    //var response = this.id.split('-')[1];\n",
       "    //console.log(response);\n",
       "    //console.log(\"In check_mc(), id=\"+id);\n",
       "    //console.log(event.srcElement.id)           \n",
       "    //console.log(event.srcElement.dataset.correct)   \n",
       "    //console.log(event.srcElement.dataset.feedback)\n",
       "\n",
       "    var label = event.srcElement;\n",
       "    //console.log(label, label.nodeName);\n",
       "    var depth = 0;\n",
       "    while ((label.nodeName != \"LABEL\") && (depth < 20)) {\n",
       "        label = label.parentElement;\n",
       "        console.log(depth, label);\n",
       "        depth++;\n",
       "    }\n",
       "\n",
       "\n",
       "\n",
       "    var answers = label.parentElement.children;\n",
       "\n",
       "    //console.log(answers);\n",
       "\n",
       "\n",
       "    // Split behavior based on multiple choice vs many choice:\n",
       "    var fb = document.getElementById(\"fb\" + id);\n",
       "\n",
       "\n",
       "\n",
       "\n",
       "    if (fb.dataset.numcorrect == 1) {\n",
       "        // What follows is for the saved responses stuff\n",
       "        var outerContainer = fb.parentElement.parentElement;\n",
       "        var responsesContainer = document.getElementById(\"responses\" + outerContainer.id);\n",
       "        if (responsesContainer) {\n",
       "            //console.log(responsesContainer);\n",
       "            var response = label.firstChild.innerText;\n",
       "            if (label.querySelector(\".QuizCode\")){\n",
       "                response+= label.querySelector(\".QuizCode\").firstChild.innerText;\n",
       "            }\n",
       "            console.log(response);\n",
       "            //console.log(document.getElementById(\"quizWrap\"+id));\n",
       "            var qnum = document.getElementById(\"quizWrap\"+id).dataset.qnum;\n",
       "            console.log(\"Question \" + qnum);\n",
       "            //console.log(id, \", got numcorrect=\",fb.dataset.numcorrect);\n",
       "            var responses=JSON.parse(responsesContainer.dataset.responses);\n",
       "            console.log(responses);\n",
       "            responses[qnum]= response;\n",
       "            responsesContainer.setAttribute('data-responses', JSON.stringify(responses));\n",
       "            printResponses(responsesContainer);\n",
       "        }\n",
       "        // End code to preserve responses\n",
       "        \n",
       "        for (var i = 0; i < answers.length; i++) {\n",
       "            var child = answers[i];\n",
       "            //console.log(child);\n",
       "            child.className = \"MCButton\";\n",
       "        }\n",
       "\n",
       "\n",
       "\n",
       "        if (label.dataset.correct == \"true\") {\n",
       "            // console.log(\"Correct action\");\n",
       "            if (\"feedback\" in label.dataset) {\n",
       "                fb.textContent = jaxify(label.dataset.feedback);\n",
       "            } else {\n",
       "                fb.textContent = \"Correct!\";\n",
       "            }\n",
       "            label.classList.add(\"correctButton\");\n",
       "\n",
       "            fb.className = \"Feedback\";\n",
       "            fb.classList.add(\"correct\");\n",
       "\n",
       "        } else {\n",
       "            if (\"feedback\" in label.dataset) {\n",
       "                fb.textContent = jaxify(label.dataset.feedback);\n",
       "            } else {\n",
       "                fb.textContent = \"Incorrect -- try again.\";\n",
       "            }\n",
       "            //console.log(\"Error action\");\n",
       "            label.classList.add(\"incorrectButton\");\n",
       "            fb.className = \"Feedback\";\n",
       "            fb.classList.add(\"incorrect\");\n",
       "        }\n",
       "    }\n",
       "    else {\n",
       "        var reset = false;\n",
       "        var feedback;\n",
       "         if (label.dataset.correct == \"true\") {\n",
       "            if (\"feedback\" in label.dataset) {\n",
       "                feedback = jaxify(label.dataset.feedback);\n",
       "            } else {\n",
       "                feedback = \"Correct!\";\n",
       "            }\n",
       "            if (label.dataset.answered <= 0) {\n",
       "                if (fb.dataset.answeredcorrect < 0) {\n",
       "                    fb.dataset.answeredcorrect = 1;\n",
       "                    reset = true;\n",
       "                } else {\n",
       "                    fb.dataset.answeredcorrect++;\n",
       "                }\n",
       "                if (reset) {\n",
       "                    for (var i = 0; i < answers.length; i++) {\n",
       "                        var child = answers[i];\n",
       "                        child.className = \"MCButton\";\n",
       "                        child.dataset.answered = 0;\n",
       "                    }\n",
       "                }\n",
       "                label.classList.add(\"correctButton\");\n",
       "                label.dataset.answered = 1;\n",
       "                fb.className = \"Feedback\";\n",
       "                fb.classList.add(\"correct\");\n",
       "\n",
       "            }\n",
       "        } else {\n",
       "            if (\"feedback\" in label.dataset) {\n",
       "                feedback = jaxify(label.dataset.feedback);\n",
       "            } else {\n",
       "                feedback = \"Incorrect -- try again.\";\n",
       "            }\n",
       "            if (fb.dataset.answeredcorrect > 0) {\n",
       "                fb.dataset.answeredcorrect = -1;\n",
       "                reset = true;\n",
       "            } else {\n",
       "                fb.dataset.answeredcorrect--;\n",
       "            }\n",
       "\n",
       "            if (reset) {\n",
       "                for (var i = 0; i < answers.length; i++) {\n",
       "                    var child = answers[i];\n",
       "                    child.className = \"MCButton\";\n",
       "                    child.dataset.answered = 0;\n",
       "                }\n",
       "            }\n",
       "            label.classList.add(\"incorrectButton\");\n",
       "            fb.className = \"Feedback\";\n",
       "            fb.classList.add(\"incorrect\");\n",
       "        }\n",
       "        // What follows is for the saved responses stuff\n",
       "        var outerContainer = fb.parentElement.parentElement;\n",
       "        var responsesContainer = document.getElementById(\"responses\" + outerContainer.id);\n",
       "        if (responsesContainer) {\n",
       "            //console.log(responsesContainer);\n",
       "            var response = label.firstChild.innerText;\n",
       "            if (label.querySelector(\".QuizCode\")){\n",
       "                response+= label.querySelector(\".QuizCode\").firstChild.innerText;\n",
       "            }\n",
       "            console.log(response);\n",
       "            //console.log(document.getElementById(\"quizWrap\"+id));\n",
       "            var qnum = document.getElementById(\"quizWrap\"+id).dataset.qnum;\n",
       "            console.log(\"Question \" + qnum);\n",
       "            //console.log(id, \", got numcorrect=\",fb.dataset.numcorrect);\n",
       "            var responses=JSON.parse(responsesContainer.dataset.responses);\n",
       "            if (label.dataset.correct == \"true\") {\n",
       "                if (typeof(responses[qnum]) == \"object\"){\n",
       "                    if (!responses[qnum].includes(response))\n",
       "                        responses[qnum].push(response);\n",
       "                } else{\n",
       "                    responses[qnum]= [ response ];\n",
       "                }\n",
       "            } else {\n",
       "                responses[qnum]= response;\n",
       "            }\n",
       "            console.log(responses);\n",
       "            responsesContainer.setAttribute('data-responses', JSON.stringify(responses));\n",
       "            printResponses(responsesContainer);\n",
       "        }\n",
       "        // End save responses stuff\n",
       "\n",
       "\n",
       "\n",
       "        var numcorrect = fb.dataset.numcorrect;\n",
       "        var answeredcorrect = fb.dataset.answeredcorrect;\n",
       "        if (answeredcorrect >= 0) {\n",
       "            fb.textContent = feedback + \" [\" + answeredcorrect + \"/\" + numcorrect + \"]\";\n",
       "        } else {\n",
       "            fb.textContent = feedback + \" [\" + 0 + \"/\" + numcorrect + \"]\";\n",
       "        }\n",
       "\n",
       "\n",
       "    }\n",
       "\n",
       "    if (typeof MathJax != 'undefined') {\n",
       "        var version = MathJax.version;\n",
       "        console.log('MathJax version', version);\n",
       "        if (version[0] == \"2\") {\n",
       "            MathJax.Hub.Queue([\"Typeset\", MathJax.Hub]);\n",
       "        } else if (version[0] == \"3\") {\n",
       "            MathJax.typeset([fb]);\n",
       "        }\n",
       "    } else {\n",
       "        console.log('MathJax not detected');\n",
       "    }\n",
       "\n",
       "}\n",
       "\n",
       "function make_mc(qa, shuffle_answers, outerqDiv, qDiv, aDiv, id) {\n",
       "    var shuffled;\n",
       "    if (shuffle_answers == \"True\") {\n",
       "        //console.log(shuffle_answers+\" read as true\");\n",
       "        shuffled = getRandomSubarray(qa.answers, qa.answers.length);\n",
       "    } else {\n",
       "        //console.log(shuffle_answers+\" read as false\");\n",
       "        shuffled = qa.answers;\n",
       "    }\n",
       "\n",
       "\n",
       "    var num_correct = 0;\n",
       "\n",
       "\n",
       "\n",
       "    shuffled.forEach((item, index, ans_array) => {\n",
       "        //console.log(answer);\n",
       "\n",
       "        // Make input element\n",
       "        var inp = document.createElement(\"input\");\n",
       "        inp.type = \"radio\";\n",
       "        inp.id = \"quizo\" + id + index;\n",
       "        inp.style = \"display:none;\";\n",
       "        aDiv.append(inp);\n",
       "\n",
       "        //Make label for input element\n",
       "        var lab = document.createElement(\"label\");\n",
       "        lab.className = \"MCButton\";\n",
       "        lab.id = id + '-' + index;\n",
       "        lab.onclick = check_mc;\n",
       "        var aSpan = document.createElement('span');\n",
       "        aSpan.classsName = \"\";\n",
       "        //qDiv.id=\"quizQn\"+id+index;\n",
       "        if (\"answer\" in item) {\n",
       "            aSpan.innerHTML = jaxify(item.answer);\n",
       "            //aSpan.innerHTML=item.answer;\n",
       "        }\n",
       "        lab.append(aSpan);\n",
       "\n",
       "        // Create div for code inside question\n",
       "        var codeSpan;\n",
       "        if (\"code\" in item) {\n",
       "            codeSpan = document.createElement('span');\n",
       "            codeSpan.id = \"code\" + id + index;\n",
       "            codeSpan.className = \"QuizCode\";\n",
       "            var codePre = document.createElement('pre');\n",
       "            codeSpan.append(codePre);\n",
       "            var codeCode = document.createElement('code');\n",
       "            codePre.append(codeCode);\n",
       "            codeCode.innerHTML = item.code;\n",
       "            lab.append(codeSpan);\n",
       "            //console.log(codeSpan);\n",
       "        }\n",
       "\n",
       "        //lab.textContent=item.answer;\n",
       "\n",
       "        // Set the data attributes for the answer\n",
       "        lab.setAttribute('data-correct', item.correct);\n",
       "        if (item.correct) {\n",
       "            num_correct++;\n",
       "        }\n",
       "        if (\"feedback\" in item) {\n",
       "            lab.setAttribute('data-feedback', item.feedback);\n",
       "        }\n",
       "        lab.setAttribute('data-answered', 0);\n",
       "\n",
       "        aDiv.append(lab);\n",
       "\n",
       "    });\n",
       "\n",
       "    if (num_correct > 1) {\n",
       "        outerqDiv.className = \"ManyChoiceQn\";\n",
       "    } else {\n",
       "        outerqDiv.className = \"MultipleChoiceQn\";\n",
       "    }\n",
       "\n",
       "    return num_correct;\n",
       "\n",
       "}\n",
       "function check_numeric(ths, event) {\n",
       "\n",
       "    if (event.keyCode === 13) {\n",
       "        ths.blur();\n",
       "\n",
       "        var id = ths.id.split('-')[0];\n",
       "\n",
       "        var submission = ths.value;\n",
       "        if (submission.indexOf('/') != -1) {\n",
       "            var sub_parts = submission.split('/');\n",
       "            //console.log(sub_parts);\n",
       "            submission = sub_parts[0] / sub_parts[1];\n",
       "        }\n",
       "        //console.log(\"Reader entered\", submission);\n",
       "\n",
       "        if (\"precision\" in ths.dataset) {\n",
       "            var precision = ths.dataset.precision;\n",
       "            // console.log(\"1:\", submission)\n",
       "            submission = Math.round((1 * submission + Number.EPSILON) * 10 ** precision) / 10 ** precision;\n",
       "            // console.log(\"Rounded to \", submission, \" precision=\", precision  );\n",
       "        }\n",
       "\n",
       "\n",
       "        //console.log(\"In check_numeric(), id=\"+id);\n",
       "        //console.log(event.srcElement.id)           \n",
       "        //console.log(event.srcElement.dataset.feedback)\n",
       "\n",
       "        var fb = document.getElementById(\"fb\" + id);\n",
       "        fb.style.display = \"none\";\n",
       "        fb.textContent = \"Incorrect -- try again.\";\n",
       "\n",
       "        var answers = JSON.parse(ths.dataset.answers);\n",
       "        //console.log(answers);\n",
       "\n",
       "        var defaultFB = \"\";\n",
       "        var correct;\n",
       "        var done = false;\n",
       "        answers.every(answer => {\n",
       "            //console.log(answer.type);\n",
       "\n",
       "            correct = false;\n",
       "            // if (answer.type==\"value\"){\n",
       "            if ('value' in answer) {\n",
       "                if (submission == answer.value) {\n",
       "                    if (\"feedback\" in answer) {\n",
       "                        fb.textContent = jaxify(answer.feedback);\n",
       "                    } else {\n",
       "                        fb.textContent = jaxify(\"Correct\");\n",
       "                    }\n",
       "                    correct = answer.correct;\n",
       "                    //console.log(answer.correct);\n",
       "                    done = true;\n",
       "                }\n",
       "                // } else if (answer.type==\"range\") {\n",
       "            } else if ('range' in answer) {\n",
       "                //console.log(answer.range);\n",
       "                if ((submission >= answer.range[0]) && (submission < answer.range[1])) {\n",
       "                    fb.textContent = jaxify(answer.feedback);\n",
       "                    correct = answer.correct;\n",
       "                    //console.log(answer.correct);\n",
       "                    done = true;\n",
       "                }\n",
       "            } else if (answer.type == \"default\") {\n",
       "                defaultFB = answer.feedback;\n",
       "            }\n",
       "            if (done) {\n",
       "                return false; // Break out of loop if this has been marked correct\n",
       "            } else {\n",
       "                return true; // Keep looking for case that includes this as a correct answer\n",
       "            }\n",
       "        });\n",
       "\n",
       "        if ((!done) && (defaultFB != \"\")) {\n",
       "            fb.innerHTML = jaxify(defaultFB);\n",
       "            //console.log(\"Default feedback\", defaultFB);\n",
       "        }\n",
       "\n",
       "        fb.style.display = \"block\";\n",
       "        if (correct) {\n",
       "            ths.className = \"Input-text\";\n",
       "            ths.classList.add(\"correctButton\");\n",
       "            fb.className = \"Feedback\";\n",
       "            fb.classList.add(\"correct\");\n",
       "        } else {\n",
       "            ths.className = \"Input-text\";\n",
       "            ths.classList.add(\"incorrectButton\");\n",
       "            fb.className = \"Feedback\";\n",
       "            fb.classList.add(\"incorrect\");\n",
       "        }\n",
       "\n",
       "        // What follows is for the saved responses stuff\n",
       "        var outerContainer = fb.parentElement.parentElement;\n",
       "        var responsesContainer = document.getElementById(\"responses\" + outerContainer.id);\n",
       "        if (responsesContainer) {\n",
       "            console.log(submission);\n",
       "            var qnum = document.getElementById(\"quizWrap\"+id).dataset.qnum;\n",
       "            //console.log(\"Question \" + qnum);\n",
       "            //console.log(id, \", got numcorrect=\",fb.dataset.numcorrect);\n",
       "            var responses=JSON.parse(responsesContainer.dataset.responses);\n",
       "            console.log(responses);\n",
       "            if (submission == ths.value){\n",
       "                responses[qnum]= submission;\n",
       "            } else {\n",
       "                responses[qnum]= ths.value + \"(\" + submission +\")\";\n",
       "            }\n",
       "            responsesContainer.setAttribute('data-responses', JSON.stringify(responses));\n",
       "            printResponses(responsesContainer);\n",
       "        }\n",
       "        // End code to preserve responses\n",
       "\n",
       "        if (typeof MathJax != 'undefined') {\n",
       "            var version = MathJax.version;\n",
       "            console.log('MathJax version', version);\n",
       "            if (version[0] == \"2\") {\n",
       "                MathJax.Hub.Queue([\"Typeset\", MathJax.Hub]);\n",
       "            } else if (version[0] == \"3\") {\n",
       "                MathJax.typeset([fb]);\n",
       "            }\n",
       "        } else {\n",
       "            console.log('MathJax not detected');\n",
       "        }\n",
       "        return false;\n",
       "    }\n",
       "\n",
       "}\n",
       "\n",
       "function isValid(el, charC) {\n",
       "    //console.log(\"Input char: \", charC);\n",
       "    if (charC == 46) {\n",
       "        if (el.value.indexOf('.') === -1) {\n",
       "            return true;\n",
       "        } else if (el.value.indexOf('/') != -1) {\n",
       "            var parts = el.value.split('/');\n",
       "            if (parts[1].indexOf('.') === -1) {\n",
       "                return true;\n",
       "            }\n",
       "        }\n",
       "        else {\n",
       "            return false;\n",
       "        }\n",
       "    } else if (charC == 47) {\n",
       "        if (el.value.indexOf('/') === -1) {\n",
       "            if ((el.value != \"\") && (el.value != \".\")) {\n",
       "                return true;\n",
       "            } else {\n",
       "                return false;\n",
       "            }\n",
       "        } else {\n",
       "            return false;\n",
       "        }\n",
       "    } else if (charC == 45) {\n",
       "        var edex = el.value.indexOf('e');\n",
       "        if (edex == -1) {\n",
       "            edex = el.value.indexOf('E');\n",
       "        }\n",
       "\n",
       "        if (el.value == \"\") {\n",
       "            return true;\n",
       "        } else if (edex == (el.value.length - 1)) { // If just after e or E\n",
       "            return true;\n",
       "        } else {\n",
       "            return false;\n",
       "        }\n",
       "    } else if (charC == 101) { // \"e\"\n",
       "        if ((el.value.indexOf('e') === -1) && (el.value.indexOf('E') === -1) && (el.value.indexOf('/') == -1)) {\n",
       "            // Prev symbol must be digit or decimal point:\n",
       "            if (el.value.slice(-1).search(/\\d/) >= 0) {\n",
       "                return true;\n",
       "            } else if (el.value.slice(-1).search(/\\./) >= 0) {\n",
       "                return true;\n",
       "            } else {\n",
       "                return false;\n",
       "            }\n",
       "        } else {\n",
       "            return false;\n",
       "        }\n",
       "    } else {\n",
       "        if (charC > 31 && (charC < 48 || charC > 57))\n",
       "            return false;\n",
       "    }\n",
       "    return true;\n",
       "}\n",
       "\n",
       "function numeric_keypress(evnt) {\n",
       "    var charC = (evnt.which) ? evnt.which : evnt.keyCode;\n",
       "\n",
       "    if (charC == 13) {\n",
       "        check_numeric(this, evnt);\n",
       "    } else {\n",
       "        return isValid(this, charC);\n",
       "    }\n",
       "}\n",
       "\n",
       "\n",
       "\n",
       "\n",
       "\n",
       "function make_numeric(qa, outerqDiv, qDiv, aDiv, id) {\n",
       "\n",
       "\n",
       "\n",
       "    //console.log(answer);\n",
       "\n",
       "\n",
       "    outerqDiv.className = \"NumericQn\";\n",
       "    aDiv.style.display = 'block';\n",
       "\n",
       "    var lab = document.createElement(\"label\");\n",
       "    lab.className = \"InpLabel\";\n",
       "    lab.textContent = \"Type numeric answer here:\";\n",
       "    aDiv.append(lab);\n",
       "\n",
       "    var inp = document.createElement(\"input\");\n",
       "    inp.type = \"text\";\n",
       "    //inp.id=\"input-\"+id;\n",
       "    inp.id = id + \"-0\";\n",
       "    inp.className = \"Input-text\";\n",
       "    inp.setAttribute('data-answers', JSON.stringify(qa.answers));\n",
       "    if (\"precision\" in qa) {\n",
       "        inp.setAttribute('data-precision', qa.precision);\n",
       "    }\n",
       "    aDiv.append(inp);\n",
       "    //console.log(inp);\n",
       "\n",
       "    //inp.addEventListener(\"keypress\", check_numeric);\n",
       "    //inp.addEventListener(\"keypress\", numeric_keypress);\n",
       "    /*\n",
       "    inp.addEventListener(\"keypress\", function(event) {\n",
       "        return numeric_keypress(this, event);\n",
       "    }\n",
       "                        );\n",
       "                        */\n",
       "    //inp.onkeypress=\"return numeric_keypress(this, event)\";\n",
       "    inp.onkeypress = numeric_keypress;\n",
       "    inp.onpaste = event => false;\n",
       "\n",
       "    inp.addEventListener(\"focus\", function (event) {\n",
       "        this.value = \"\";\n",
       "        return false;\n",
       "    }\n",
       "    );\n",
       "\n",
       "\n",
       "}\n",
       "function jaxify(string) {\n",
       "    var mystring = string;\n",
       "\n",
       "    var count = 0;\n",
       "    var loc = mystring.search(/([^\\\\]|^)(\\$)/);\n",
       "\n",
       "    var count2 = 0;\n",
       "    var loc2 = mystring.search(/([^\\\\]|^)(\\$\\$)/);\n",
       "\n",
       "    //console.log(loc);\n",
       "\n",
       "    while ((loc >= 0) || (loc2 >= 0)) {\n",
       "\n",
       "        /* Have to replace all the double $$ first with current implementation */\n",
       "        if (loc2 >= 0) {\n",
       "            if (count2 % 2 == 0) {\n",
       "                mystring = mystring.replace(/([^\\\\]|^)(\\$\\$)/, \"$1\\\\[\");\n",
       "            } else {\n",
       "                mystring = mystring.replace(/([^\\\\]|^)(\\$\\$)/, \"$1\\\\]\");\n",
       "            }\n",
       "            count2++;\n",
       "        } else {\n",
       "            if (count % 2 == 0) {\n",
       "                mystring = mystring.replace(/([^\\\\]|^)(\\$)/, \"$1\\\\(\");\n",
       "            } else {\n",
       "                mystring = mystring.replace(/([^\\\\]|^)(\\$)/, \"$1\\\\)\");\n",
       "            }\n",
       "            count++;\n",
       "        }\n",
       "        loc = mystring.search(/([^\\\\]|^)(\\$)/);\n",
       "        loc2 = mystring.search(/([^\\\\]|^)(\\$\\$)/);\n",
       "        //console.log(mystring,\", loc:\",loc,\", loc2:\",loc2);\n",
       "    }\n",
       "\n",
       "    //console.log(mystring);\n",
       "    return mystring;\n",
       "}\n",
       "\n",
       "\n",
       "function show_questions(json, mydiv) {\n",
       "    console.log('show_questions');\n",
       "    //var mydiv=document.getElementById(myid);\n",
       "    var shuffle_questions = mydiv.dataset.shufflequestions;\n",
       "    var num_questions = mydiv.dataset.numquestions;\n",
       "    var shuffle_answers = mydiv.dataset.shuffleanswers;\n",
       "    var max_width = mydiv.dataset.maxwidth;\n",
       "\n",
       "    if (num_questions > json.length) {\n",
       "        num_questions = json.length;\n",
       "    }\n",
       "\n",
       "    var questions;\n",
       "    if ((num_questions < json.length) || (shuffle_questions == \"True\")) {\n",
       "        //console.log(num_questions+\",\"+json.length);\n",
       "        questions = getRandomSubarray(json, num_questions);\n",
       "    } else {\n",
       "        questions = json;\n",
       "    }\n",
       "\n",
       "    //console.log(\"SQ: \"+shuffle_questions+\", NQ: \" + num_questions + \", SA: \", shuffle_answers);\n",
       "\n",
       "    // Iterate over questions\n",
       "    questions.forEach((qa, index, array) => {\n",
       "        //console.log(qa.question); \n",
       "\n",
       "        var id = makeid(8);\n",
       "        //console.log(id);\n",
       "\n",
       "\n",
       "        // Create Div to contain question and answers\n",
       "        var iDiv = document.createElement('div');\n",
       "        //iDiv.id = 'quizWrap' + id + index;\n",
       "        iDiv.id = 'quizWrap' + id;\n",
       "        iDiv.className = 'Quiz';\n",
       "        iDiv.setAttribute('data-qnum', index);\n",
       "        iDiv.style.maxWidth  =max_width+\"px\";\n",
       "        mydiv.appendChild(iDiv);\n",
       "        // iDiv.innerHTML=qa.question;\n",
       "        \n",
       "        var outerqDiv = document.createElement('div');\n",
       "        outerqDiv.id = \"OuterquizQn\" + id + index;\n",
       "        // Create div to contain question part\n",
       "        var qDiv = document.createElement('div');\n",
       "        qDiv.id = \"quizQn\" + id + index;\n",
       "        \n",
       "        if (qa.question) {\n",
       "            iDiv.append(outerqDiv);\n",
       "\n",
       "            //qDiv.textContent=qa.question;\n",
       "            qDiv.innerHTML = jaxify(qa.question);\n",
       "            outerqDiv.append(qDiv);\n",
       "        }\n",
       "\n",
       "        // Create div for code inside question\n",
       "        var codeDiv;\n",
       "        if (\"code\" in qa) {\n",
       "            codeDiv = document.createElement('div');\n",
       "            codeDiv.id = \"code\" + id + index;\n",
       "            codeDiv.className = \"QuizCode\";\n",
       "            var codePre = document.createElement('pre');\n",
       "            codeDiv.append(codePre);\n",
       "            var codeCode = document.createElement('code');\n",
       "            codePre.append(codeCode);\n",
       "            codeCode.innerHTML = qa.code;\n",
       "            outerqDiv.append(codeDiv);\n",
       "            //console.log(codeDiv);\n",
       "        }\n",
       "\n",
       "\n",
       "        // Create div to contain answer part\n",
       "        var aDiv = document.createElement('div');\n",
       "        aDiv.id = \"quizAns\" + id + index;\n",
       "        aDiv.className = 'Answer';\n",
       "        iDiv.append(aDiv);\n",
       "\n",
       "        //console.log(qa.type);\n",
       "\n",
       "        var num_correct;\n",
       "        if ((qa.type == \"multiple_choice\") || (qa.type == \"many_choice\") ) {\n",
       "            num_correct = make_mc(qa, shuffle_answers, outerqDiv, qDiv, aDiv, id);\n",
       "            if (\"answer_cols\" in qa) {\n",
       "                //aDiv.style.gridTemplateColumns = 'auto '.repeat(qa.answer_cols);\n",
       "                aDiv.style.gridTemplateColumns = 'repeat(' + qa.answer_cols + ', 1fr)';\n",
       "            }\n",
       "        } else if (qa.type == \"numeric\") {\n",
       "            //console.log(\"numeric\");\n",
       "            make_numeric(qa, outerqDiv, qDiv, aDiv, id);\n",
       "        }\n",
       "\n",
       "\n",
       "        //Make div for feedback\n",
       "        var fb = document.createElement(\"div\");\n",
       "        fb.id = \"fb\" + id;\n",
       "        //fb.style=\"font-size: 20px;text-align:center;\";\n",
       "        fb.className = \"Feedback\";\n",
       "        fb.setAttribute(\"data-answeredcorrect\", 0);\n",
       "        fb.setAttribute(\"data-numcorrect\", num_correct);\n",
       "        iDiv.append(fb);\n",
       "\n",
       "\n",
       "    });\n",
       "    var preserveResponses = mydiv.dataset.preserveresponses;\n",
       "    console.log(preserveResponses);\n",
       "    console.log(preserveResponses == \"true\");\n",
       "    if (preserveResponses == \"true\") {\n",
       "        console.log(preserveResponses);\n",
       "        // Create Div to contain record of answers\n",
       "        var iDiv = document.createElement('div');\n",
       "        iDiv.id = 'responses' + mydiv.id;\n",
       "        iDiv.className = 'JCResponses';\n",
       "        // Create a place to store responses as an empty array\n",
       "        iDiv.setAttribute('data-responses', '[]');\n",
       "\n",
       "        // Dummy Text\n",
       "        iDiv.innerHTML=\"<b>Select your answers and then follow the directions that will appear here.</b>\"\n",
       "        //iDiv.className = 'Quiz';\n",
       "        mydiv.appendChild(iDiv);\n",
       "    }\n",
       "//console.log(\"At end of show_questions\");\n",
       "    if (typeof MathJax != 'undefined') {\n",
       "        console.log(\"MathJax version\", MathJax.version);\n",
       "        var version = MathJax.version;\n",
       "        setTimeout(function(){\n",
       "            var version = MathJax.version;\n",
       "            console.log('After sleep, MathJax version', version);\n",
       "            if (version[0] == \"2\") {\n",
       "                MathJax.Hub.Queue([\"Typeset\", MathJax.Hub]);\n",
       "            } else if (version[0] == \"3\") {\n",
       "                MathJax.typeset([mydiv]);\n",
       "            }\n",
       "        }, 500);\n",
       "if (typeof version == 'undefined') {\n",
       "        } else\n",
       "        {\n",
       "            if (version[0] == \"2\") {\n",
       "                MathJax.Hub.Queue([\"Typeset\", MathJax.Hub]);\n",
       "            } else if (version[0] == \"3\") {\n",
       "                MathJax.typeset([mydiv]);\n",
       "            } else {\n",
       "                console.log(\"MathJax not found\");\n",
       "            }\n",
       "        }\n",
       "    }\n",
       "    return false;\n",
       "}\n",
       "/* This is to handle asynchrony issues in loading Jupyter notebooks\n",
       "           where the quiz has been previously run. The Javascript was generally\n",
       "           being run before the div was added to the DOM. I tried to do this\n",
       "           more elegantly using Mutation Observer, but I didn't get it to work.\n",
       "\n",
       "           Someone more knowledgeable could make this better ;-) */\n",
       "\n",
       "        function try_show() {\n",
       "          if(document.getElementById(\"UNgOUJOLsdOM\")) {\n",
       "            show_questions(questionsUNgOUJOLsdOM,  UNgOUJOLsdOM); \n",
       "          } else {\n",
       "             setTimeout(try_show, 200);\n",
       "          }\n",
       "        };\n",
       "    \n",
       "        {\n",
       "        // console.log(element);\n",
       "\n",
       "        //console.log(\"UNgOUJOLsdOM\");\n",
       "        // console.log(document.getElementById(\"UNgOUJOLsdOM\"));\n",
       "\n",
       "        try_show();\n",
       "        }\n",
       "        "
      ],
      "text/plain": [
       "<IPython.core.display.Javascript object>"
      ]
     },
     "metadata": {},
     "output_type": "display_data"
    }
   ],
   "source": [
    "from jupyterquiz import display_quiz\n",
    "display_quiz('.quiz.json')"
   ]
  }
 ],
 "metadata": {
  "colab": {
   "collapsed_sections": [],
   "name": "17-linear-algebra-2.ipynb",
   "provenance": [],
   "toc_visible": true
  },
  "kernelspec": {
   "display_name": "Python 3 (ipykernel)",
   "language": "python",
   "name": "python3"
  },
  "language_info": {
   "codemirror_mode": {
    "name": "ipython",
    "version": 3
   },
   "file_extension": ".py",
   "mimetype": "text/x-python",
   "name": "python",
   "nbconvert_exporter": "python",
   "pygments_lexer": "ipython3",
   "version": "3.9.12"
  },
  "org": {
   "KEYWORDS": "numpy.linalg.solve, scipy.interpolate.interp1d, numpy.linalg.eigvals, numpy.linalg.eig, numpy.argsort"
  },
  "vscode": {
   "interpreter": {
    "hash": "d4d1e4263499bec80672ea0156c357c1ee493ec2b1c70f0acce89fc37c4a6abe"
   }
  },
  "widgets": {
   "application/vnd.jupyter.widget-state+json": {
    "state": {},
    "version_major": 2,
    "version_minor": 0
   }
  }
 },
 "nbformat": 4,
 "nbformat_minor": 4
}
