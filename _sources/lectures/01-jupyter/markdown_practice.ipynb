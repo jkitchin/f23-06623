{
 "cells": [
  {
   "cell_type": "markdown",
   "id": "f685e7a9-0ae3-4dc3-9b6d-0133b130df0d",
   "metadata": {},
   "source": [
    "Practice questions for Markdown\n",
    "===============================\n",
    "\n",
    "Run this cell, then answer the questions. Your answers will automatically be saved in the state.json file. Do not delete this file."
   ]
  },
  {
   "cell_type": "code",
   "execution_count": null,
   "id": "9cbafceb-3867-4b1d-9283-69cdcb720ad4",
   "metadata": {},
   "outputs": [],
   "source": [
    "%run markdown_practice.py"
   ]
  }
 ],
 "metadata": {
  "kernelspec": {
   "display_name": "Python 3 (ipykernel)",
   "language": "python",
   "name": "python3"
  },
  "language_info": {
   "codemirror_mode": {
    "name": "ipython",
    "version": 3
   },
   "file_extension": ".py",
   "mimetype": "text/x-python",
   "name": "python",
   "nbconvert_exporter": "python",
   "pygments_lexer": "ipython3",
   "version": "3.9.7"
  },
  "widgets": {
   "application/vnd.jupyter.widget-state+json": {
    "state": {},
    "version_major": 2,
    "version_minor": 0
   }
  }
 },
 "nbformat": 4,
 "nbformat_minor": 5
}
