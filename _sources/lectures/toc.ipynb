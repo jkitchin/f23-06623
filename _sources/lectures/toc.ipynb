{
 "cells": [
  {
   "cell_type": "markdown",
   "metadata": {},
   "source": [
    "[HOME](../readme.org)"
   ]
  },
  {
   "cell_type": "markdown",
   "metadata": {},
   "source": [
    "Fall 2023 - 06-623 Mathematical modeling of chemical engineering processes\n",
    "==========================================================================\n",
    "\n",
    "1. [Open canvas site](https://canvas.cmu.edu/courses/30910)\n",
    "2. [Open discord](https://discord.com/channels/1009520272526807140/1009520272526807144)\n",
    "\n",
    "\n",
    "![roadmap](./06623-roadmap.png)\n",
    "\n",
    "- [Jupyter notebook introduction](./00-intro/00-intro.ipynb)\n",
    "- [More on Jupyter Lab](./01-jupyter/01-jupyter.ipynb)\n",
    "- [Integration](./02-integration-1/02-integration-1.ipynb)\n",
    "- [Differential equations - 1](./03-fode-1/03-fode-1.ipynb)\n",
    "- [Differential equations - 2](./04-fode-2/04-fode-2.ipynb)\n",
    "- [N^th order ODEs](./05-nth-odes/05-nth-odes.ipynb)\n",
    "- [Introduction to nonlinear algebra](./07-nla-1/07-nla-1.ipynb)\n",
    "- [Advanced nonlinear algebra](./08-nla-2/08-nla-2.ipynb)\n",
    "- [Boundary value differential equations](./09-bvp/09-bvp.ipynb)\n",
    "- [Introduction to optimization](./10-min-max/10-min-max.ipynb)\n",
    "- [Regression](./11-regression/11-regression.ipynb)\n",
    "- [Nonlinear regression](./12-nonlinear-regression/12-nonlinear-regression-2.ipynb)\n",
    "- [Constrained optimization](./13-constrained-optimization/13-constrained-optimization.ipynb)\n",
    "- [Introduction to linear algebra](./15-intro-linear-algebra/15-intro-linear-algebra.ipynb)\n",
    "- [Advanced linear algebra](./17-linear-algebra-2/17-linear-algebra-2.ipynb)\n",
    "- [Linear regression](./18-linear-regression/18-linear-regression.ipynb)\n",
    "- [Introduction to automatic differentiation](./19-introduction-to-autograd/19-introduction-to-jax.ipynb)\n",
    "- [Applications of automatic differentiation](./20-autograd-applications/20-jax-applications.ipynb)\n",
    "- [Introduction to machine learning](./21-machine-learning/21-machine-learning-jax.ipynb)\n",
    "- [Intermediate machine learning](./22-ml-2/22-ml-2-jax.ipynb)\n",
    "- [Gaussian Process Regression](./23-gp/23-gp.ipynb)\n"
   ]
  }
 ],
 "metadata": {
  "kernelspec": {
   "display_name": "Python 3 (ipykernel)",
   "language": "python",
   "name": "python3"
  },
  "language_info": {
   "codemirror_mode": {
    "name": "ipython",
    "version": 3
   },
   "file_extension": ".py",
   "mimetype": "text/x-python",
   "name": "python",
   "nbconvert_exporter": "python",
   "pygments_lexer": "ipython3",
   "version": "3.10.11"
  },
  "widgets": {
   "application/vnd.jupyter.widget-state+json": {
    "state": {},
    "version_major": 2,
    "version_minor": 0
   }
  }
 },
 "nbformat": 4,
 "nbformat_minor": 4
}
